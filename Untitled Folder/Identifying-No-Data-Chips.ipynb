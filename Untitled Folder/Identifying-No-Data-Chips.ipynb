{
 "cells": [
  {
   "cell_type": "markdown",
   "metadata": {},
   "source": [
    "### Identifying No-Data Chips\n",
    "\n",
    "After chipping out a raster, any no-data areas in the original raster will result in chips consisting entirely of no-data. In this notebook, I figure out a way to programatically detect these no-data chips."
   ]
  },
  {
   "cell_type": "code",
   "execution_count": 9,
   "metadata": {},
   "outputs": [],
   "source": [
    "# Import statements\n",
    "\n",
    "import numpy as np\n",
    "import os\n",
    "import rasterio as rio"
   ]
  },
  {
   "cell_type": "code",
   "execution_count": 3,
   "metadata": {},
   "outputs": [
    {
     "data": {
      "text/plain": [
       "'T33NTB_20191110T092119_TCI_10m.jp2'"
      ]
     },
     "execution_count": 3,
     "metadata": {},
     "output_type": "execute_result"
    }
   ],
   "source": [
    "# Need to get the locations of the chips to read them with Rasterio\n",
    "\n",
    "root = 'D:/canopy_data/pipeline-products/raw_products/SAFE_ordered/1/' # Change this to whichever folder contains your rasters\n",
    "tci_files = os.listdir(root)\n",
    "tci_files[0]"
   ]
  },
  {
   "cell_type": "code",
   "execution_count": 4,
   "metadata": {},
   "outputs": [
    {
     "data": {
      "text/plain": [
       "'D:/canopy_data/pipeline-products/raw_products/SAFE_ordered/1/T33NTB_20191110T092119_TCI_10m.jp2'"
      ]
     },
     "execution_count": 4,
     "metadata": {},
     "output_type": "execute_result"
    }
   ],
   "source": [
    "# Attach the root to the result of os.listdir to get the full location\n",
    "\n",
    "file1_uri = root + tci_files[0]\n",
    "file1_uri"
   ]
  },
  {
   "cell_type": "code",
   "execution_count": 5,
   "metadata": {},
   "outputs": [],
   "source": [
    "# Use rasterio to open the file\n",
    "\n",
    "with rio.open(file1_uri) as file1:\n",
    "    raster1 = file1.read()"
   ]
  },
  {
   "cell_type": "code",
   "execution_count": 6,
   "metadata": {},
   "outputs": [
    {
     "data": {
      "text/plain": [
       "array([[[ 55,  62,  63, ...,  27,  28,  28],\n",
       "        [ 59,  61,  65, ...,  26,  26,  28],\n",
       "        [ 61,  63,  62, ...,  27,  27,  29],\n",
       "        ...,\n",
       "        [255, 255, 255, ...,  23,  24,  26],\n",
       "        [255, 255, 255, ...,  22,  24,  26],\n",
       "        [255, 255, 255, ...,  24,  27,  32]],\n",
       "\n",
       "       [[ 78,  81,  79, ...,  44,  46,  46],\n",
       "        [ 78,  76,  78, ...,  51,  46,  43],\n",
       "        [ 79,  79,  81, ...,  45,  45,  49],\n",
       "        ...,\n",
       "        [255, 255, 255, ...,  42,  39,  43],\n",
       "        [255, 255, 255, ...,  38,  37,  40],\n",
       "        [255, 255, 255, ...,  39,  43,  46]],\n",
       "\n",
       "       [[ 66,  72,  68, ...,  31,  35,  35],\n",
       "        [ 71,  71,  74, ...,  38,  34,  31],\n",
       "        [ 71,  69,  70, ...,  32,  32,  36],\n",
       "        ...,\n",
       "        [255, 255, 255, ...,  33,  31,  35],\n",
       "        [255, 255, 255, ...,  31,  33,  35],\n",
       "        [255, 255, 255, ...,  30,  36,  38]]], dtype=uint8)"
      ]
     },
     "execution_count": 6,
     "metadata": {},
     "output_type": "execute_result"
    }
   ],
   "source": [
    "# Look at the raster\n",
    "\n",
    "raster1"
   ]
  },
  {
   "cell_type": "code",
   "execution_count": 7,
   "metadata": {},
   "outputs": [
    {
     "data": {
      "text/plain": [
       "(3, 10980, 10980)"
      ]
     },
     "execution_count": 7,
     "metadata": {},
     "output_type": "execute_result"
    }
   ],
   "source": [
    "# Explore the raster a bit more\n",
    "\n",
    "raster1.shape"
   ]
  },
  {
   "cell_type": "code",
   "execution_count": 8,
   "metadata": {},
   "outputs": [
    {
     "data": {
      "text/plain": [
       "array([[ 55,  62,  63, ...,  27,  28,  28],\n",
       "       [ 59,  61,  65, ...,  26,  26,  28],\n",
       "       [ 61,  63,  62, ...,  27,  27,  29],\n",
       "       ...,\n",
       "       [255, 255, 255, ...,  23,  24,  26],\n",
       "       [255, 255, 255, ...,  22,  24,  26],\n",
       "       [255, 255, 255, ...,  24,  27,  32]], dtype=uint8)"
      ]
     },
     "execution_count": 8,
     "metadata": {},
     "output_type": "execute_result"
    }
   ],
   "source": [
    "raster1[0]"
   ]
  },
  {
   "cell_type": "code",
   "execution_count": 10,
   "metadata": {},
   "outputs": [
    {
     "data": {
      "text/plain": [
       "array([[199, 215, 210, ..., 102, 109, 109],\n",
       "       [208, 208, 217, ..., 115, 106, 102],\n",
       "       [211, 211, 213, ..., 104, 104, 114],\n",
       "       ...,\n",
       "       [253, 253, 253, ...,  98,  94, 104],\n",
       "       [253, 253, 253, ...,  91,  94, 101],\n",
       "       [253, 253, 253, ...,  93, 106, 116]], dtype=uint8)"
      ]
     },
     "execution_count": 10,
     "metadata": {},
     "output_type": "execute_result"
    }
   ],
   "source": [
    "# The goal is to find out if the raster is just no-data values.\n",
    "# The problem is that, after exploring in QGIS, we found that a \"1\"\n",
    "# often signifies a no-data value, along with a \"0.\" So we can't just\n",
    "# count the zeroes.\n",
    "# Instead, with help from this site: https://note.nkmk.me/en/python-numpy-count/\n",
    "# I decided to add up the values in each band of the raster, and see if any of\n",
    "# the resultant sums were **greater than 3**. After all, if every value in a particular\n",
    "# pixel was 0 or 1 across all three bands, that means it would (a) be a no-data pixel\n",
    "# and (b) if you add the bands, the sum would be less than or equal to 3.\n",
    "\n",
    "raster1_combined = raster1[0] + raster1[1] + raster1[2]\n",
    "raster1_combined"
   ]
  },
  {
   "cell_type": "code",
   "execution_count": 11,
   "metadata": {},
   "outputs": [
    {
     "data": {
      "text/plain": [
       "(10980, 10980)"
      ]
     },
     "execution_count": 11,
     "metadata": {},
     "output_type": "execute_result"
    }
   ],
   "source": [
    "raster1_combined.shape"
   ]
  },
  {
   "cell_type": "code",
   "execution_count": 12,
   "metadata": {},
   "outputs": [
    {
     "data": {
      "text/plain": [
       "array([[False, False, False, ..., False, False, False],\n",
       "       [False, False, False, ..., False, False, False],\n",
       "       [False, False, False, ..., False, False, False],\n",
       "       ...,\n",
       "       [False, False, False, ..., False, False, False],\n",
       "       [False, False, False, ..., False, False, False],\n",
       "       [False, False, False, ..., False, False, False]])"
      ]
     },
     "execution_count": 12,
     "metadata": {},
     "output_type": "execute_result"
    }
   ],
   "source": [
    "raster1_combined <= 3\n",
    "\n",
    "# This results in an array with only True and False, the False values being pixels\n",
    "# that are **greater than 3**. In other words, every True value in this array should\n",
    "# signify a no-data pixel."
   ]
  },
  {
   "cell_type": "code",
   "execution_count": 13,
   "metadata": {},
   "outputs": [
    {
     "data": {
      "text/plain": [
       "0.0027510525844307086"
      ]
     },
     "execution_count": 13,
     "metadata": {},
     "output_type": "execute_result"
    }
   ],
   "source": [
    "# Calculate the percent of the raster that's no-data by counting the nonzeroes,\n",
    "# then dividing by the total number of values (i.e., the rows times the columns).\n",
    "\n",
    "rows = raster1_combined.shape[0]\n",
    "columns = raster1_combined.shape[1]\n",
    "\n",
    "np.count_nonzero(raster1_combined <= 3) / (rows * columns)"
   ]
  },
  {
   "cell_type": "code",
   "execution_count": 14,
   "metadata": {},
   "outputs": [],
   "source": [
    "# Finally, I combine all that work into a single function.\n",
    "\n",
    "def detect_missing_pixels(filename, na_value=3):\n",
    "    # Read the raster with rasterio\n",
    "    with rio.open(filename) as f:\n",
    "        raster = f.read()\n",
    "        \n",
    "    # Add up the values in all three color bands\n",
    "    raster_combined = raster[0] + raster[1] + raster[2]\n",
    "    rows = raster_combined.shape[0]\n",
    "    columns = raster_combined.shape[1]\n",
    "    \n",
    "    # Calculate how many values in the combined raster are less than the given NA Value\n",
    "    # (defaulted to 3), then divide by the total number of values to get a percentage.\n",
    "    percent = np.count_nonzero(raster_combined <= na_value) / (rows * columns)\n",
    "    \n",
    "    return percent"
   ]
  },
  {
   "cell_type": "code",
   "execution_count": 15,
   "metadata": {},
   "outputs": [
    {
     "data": {
      "text/plain": [
       "0.0027510525844307086"
      ]
     },
     "execution_count": 15,
     "metadata": {},
     "output_type": "execute_result"
    }
   ],
   "source": [
    "# Test the function\n",
    "\n",
    "detect_missing_pixels(file1_uri)\n",
    "\n",
    "# Success!"
   ]
  },
  {
   "cell_type": "code",
   "execution_count": null,
   "metadata": {},
   "outputs": [],
   "source": []
  }
 ],
 "metadata": {
  "kernelspec": {
   "display_name": "canopy-conda",
   "language": "python",
   "name": "canopy_conda"
  },
  "language_info": {
   "codemirror_mode": {
    "name": "ipython",
    "version": 3
   },
   "file_extension": ".py",
   "mimetype": "text/x-python",
   "name": "python",
   "nbconvert_exporter": "python",
   "pygments_lexer": "ipython3",
   "version": "3.8.5"
  }
 },
 "nbformat": 4,
 "nbformat_minor": 4
}
