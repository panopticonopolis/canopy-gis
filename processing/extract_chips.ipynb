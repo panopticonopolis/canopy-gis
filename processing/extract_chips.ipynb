{
 "cells": [
  {
   "cell_type": "code",
   "execution_count": 8,
   "metadata": {},
   "outputs": [],
   "source": [
    "import os\n",
    "import rasterio as rio\n",
    "import rasterio.plot as plot\n",
    "import gdal\n",
    "import sys"
   ]
  },
  {
   "cell_type": "code",
   "execution_count": 25,
   "metadata": {},
   "outputs": [],
   "source": [
    "in_path = \"/Volumes/Lacie/zhenyadata/Project_Canopy_Data/PC_Data/Sentinel_Data/Labelled/Tiles_v2_Misha/Polygon_Crops/MSK/Individual_Polygons/TIF/\"\n",
    "input_filename = '27.tif'\n",
    " \n",
    "out_path = '/Volumes/Lacie/zhenyadata/Project_Canopy_Data/PC_Data/Sentinel_Data/Labelled/Tiles_v2_Misha/Polygon_Crops/MSK/Chips/full/27/'\n",
    "output_filename = 'tile_'\n",
    " \n",
    "tile_size_x = 100\n",
    "tile_size_y = 100\n",
    "\n",
    "ds = gdal.Open(in_path + input_filename)\n",
    "band = ds.GetRasterBand(1)\n",
    "xsize = band.XSize\n",
    "ysize = band.YSize\n",
    " \n",
    "\n",
    "for i in range(0, xsize, tile_size_x):\n",
    "    for j in range(0, ysize, tile_size_y):\n",
    "        \n",
    "        com_string = (\"gdal_translate -of GTiff -srcwin \" + str(i)+ \", \" + str(j) + \", \" + \n",
    "                      str(tile_size_x) + \", \" + str(tile_size_y) + \" \" + str(in_path) + \n",
    "                      str(input_filename) + \" \" + str(out_path) + str(output_filename) + \n",
    "                      str(i) + \"_\" + str(j) + \".tif\")\n",
    "        os.system(com_string)"
   ]
  },
  {
   "cell_type": "markdown",
   "metadata": {},
   "source": [
    "# Sandbox"
   ]
  },
  {
   "cell_type": "code",
   "execution_count": 13,
   "metadata": {},
   "outputs": [],
   "source": [
    "gdal.UseExceptions()"
   ]
  },
  {
   "cell_type": "code",
   "execution_count": 20,
   "metadata": {},
   "outputs": [],
   "source": [
    "in_path = \"/Volumes/Lacie/zhenyadata/Project_Canopy_Data/PC_Data/Sentinel_Data/Labelled/Tiles_v3/AOI_Crops/LabelBox/JPG/Water/\"\n",
    "in_filename = '71.jpg'\n",
    " \n",
    "out_base_path = '/Volumes/Lacie/zhenyadata/Project_Canopy_Data/PC_Data/Sentinel_Data/Labelled/Tiles_v3/AOI_Crops/TEST_CHIPS/'\n",
    "image_id = input_filename.split(\".\")[0]\n",
    "\n",
    "out_filename = f'{image_id}_'\n",
    " \n",
    "tile_size_x = 100\n",
    "tile_size_y = 100\n",
    "\n",
    "ds = gdal.Open(in_path + input_filename)\n",
    "band = ds.GetRasterBand(1)\n",
    "xsize = band.XSize\n",
    "ysize = band.YSize\n",
    "\n",
    "\n",
    "# print(out_path + out_filename + i + j + \".tif\")\n",
    " \n",
    "\n",
    "for i in range(0, xsize, tile_size_x):\n",
    "    for j in range(0, ysize, tile_size_y):\n",
    "\n",
    "        gdal.Translate(out_base_path + out_filename + str(i) + \"_\" + str(j) + \".tif\",in_path + in_filename, srcWin = [i, j, tile_size_y, tile_size_x],format='GTiff')\n",
    "        "
   ]
  },
  {
   "cell_type": "code",
   "execution_count": null,
   "metadata": {},
   "outputs": [],
   "source": [
    "#Possible Code to use\n",
    "# gdal.Translate(in_path,out_path,srcWin = [i, j, tile_size_y, tile_size_x],format='GTiff')"
   ]
  },
  {
   "cell_type": "markdown",
   "metadata": {},
   "source": [
    "# Sandbox 2 - Chipping Function"
   ]
  },
  {
   "cell_type": "code",
   "execution_count": 9,
   "metadata": {},
   "outputs": [],
   "source": [
    "def chip_tif(in_path_tiff,out_path_dir):\n",
    "\n",
    "    in_path_tiff = in_path_tiff\n",
    "    out_path_dir = out_path_dir\n",
    "\n",
    "    tile_size_x = 100\n",
    "    tile_size_y = 100\n",
    "\n",
    "    ds = gdal.Open(in_path_tiff)\n",
    "    band = ds.GetRasterBand(1)\n",
    "    xsize = band.XSize\n",
    "    ysize = band.YSize\n",
    "\n",
    "\n",
    "    for i in range(0, xsize, tile_size_x):\n",
    "        for j in range(0, ysize, tile_size_y):\n",
    "\n",
    "            gdal.Translate(out_path_dir + 'full_tif' + '_' + str(i) + \"_\" + str(j) + \".tif\",in_path_tiff, srcWin = [i, j, tile_size_y, tile_size_x],format='GTiff')"
   ]
  },
  {
   "cell_type": "code",
   "execution_count": 10,
   "metadata": {},
   "outputs": [],
   "source": [
    "in_path_tiff = \"/Volumes/Lacie/zhenyadata/Project_Canopy_Data/PC_Data/Sentinel_Data/GEE/tiles_v3/polygon_exports/v8_dynamic_date_range_v4_native_secondary_sort_using_area/misha_polygons_final_version/2_misha_polygons_final_version_Dec_10_11:19:34_2020.tif\"\n",
    "out_path_dir = \"/Volumes/Lacie/zhenyadata/Project_Canopy_Data/PC_Data/Sentinel_Data/GEE/tiles_v3/polygon_exports/v8_dynamic_date_range_v4_native_secondary_sort_using_area/chips/full/\"\n",
    "\n",
    "chip_tif(in_path_tiff,out_path_dir)"
   ]
  },
  {
   "cell_type": "code",
   "execution_count": null,
   "metadata": {},
   "outputs": [],
   "source": []
  }
 ],
 "metadata": {
  "kernelspec": {
   "display_name": "GIS_processing",
   "language": "python",
   "name": "gis_processing"
  },
  "language_info": {
   "codemirror_mode": {
    "name": "ipython",
    "version": 3
   },
   "file_extension": ".py",
   "mimetype": "text/x-python",
   "name": "python",
   "nbconvert_exporter": "python",
   "pygments_lexer": "ipython3",
   "version": "3.7.6"
  }
 },
 "nbformat": 4,
 "nbformat_minor": 4
}
