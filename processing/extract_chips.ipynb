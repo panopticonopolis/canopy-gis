{
 "cells": [
  {
   "cell_type": "code",
   "execution_count": 1,
   "metadata": {},
   "outputs": [],
   "source": [
    "import os\n",
    "import rasterio as rio\n",
    "import rasterio.plot as plot\n",
    "import gdal\n",
    "import sys"
   ]
  },
  {
   "cell_type": "code",
   "execution_count": 25,
   "metadata": {},
   "outputs": [],
   "source": [
    "in_path = \"/Volumes/Lacie/zhenyadata/Project_Canopy_Data/PC_Data/Sentinel_Data/Labelled/Tiles_v2_Misha/Polygon_Crops/MSK/Individual_Polygons/TIF/\"\n",
    "input_filename = '27.tif'\n",
    " \n",
    "out_path = '/Volumes/Lacie/zhenyadata/Project_Canopy_Data/PC_Data/Sentinel_Data/Labelled/Tiles_v2_Misha/Polygon_Crops/MSK/Chips/full/27/'\n",
    "output_filename = 'tile_'\n",
    " \n",
    "tile_size_x = 100\n",
    "tile_size_y = 100\n",
    "\n",
    "ds = gdal.Open(in_path + input_filename)\n",
    "band = ds.GetRasterBand(1)\n",
    "xsize = band.XSize\n",
    "ysize = band.YSize\n",
    " \n",
    "\n",
    "for i in range(0, xsize, tile_size_x):\n",
    "    for j in range(0, ysize, tile_size_y):\n",
    "        \n",
    "        com_string = (\"gdal_translate -of GTiff -srcwin \" + str(i)+ \", \" + str(j) + \", \" + \n",
    "                      str(tile_size_x) + \", \" + str(tile_size_y) + \" \" + str(in_path) + \n",
    "                      str(input_filename) + \" \" + str(out_path) + str(output_filename) + \n",
    "                      str(i) + \"_\" + str(j) + \".tif\")\n",
    "        os.system(com_string)"
   ]
  },
  {
   "source": [
    "# Sandbox"
   ],
   "cell_type": "markdown",
   "metadata": {}
  },
  {
   "cell_type": "code",
   "execution_count": 13,
   "metadata": {},
   "outputs": [],
   "source": [
    "gdal.UseExceptions()"
   ]
  },
  {
   "cell_type": "code",
   "execution_count": 20,
   "metadata": {},
   "outputs": [],
   "source": [
    "in_path = \"/Volumes/Lacie/zhenyadata/Project_Canopy_Data/PC_Data/Sentinel_Data/Labelled/Tiles_v3/AOI_Crops/LabelBox/JPG/Water/\"\n",
    "in_filename = '71.jpg'\n",
    " \n",
    "out_base_path = '/Volumes/Lacie/zhenyadata/Project_Canopy_Data/PC_Data/Sentinel_Data/Labelled/Tiles_v3/AOI_Crops/TEST_CHIPS/'\n",
    "image_id = input_filename.split(\".\")[0]\n",
    "\n",
    "out_filename = f'{image_id}_'\n",
    " \n",
    "tile_size_x = 100\n",
    "tile_size_y = 100\n",
    "\n",
    "ds = gdal.Open(in_path + input_filename)\n",
    "band = ds.GetRasterBand(1)\n",
    "xsize = band.XSize\n",
    "ysize = band.YSize\n",
    "\n",
    "\n",
    "# print(out_path + out_filename + i + j + \".tif\")\n",
    " \n",
    "\n",
    "for i in range(0, xsize, tile_size_x):\n",
    "    for j in range(0, ysize, tile_size_y):\n",
    "\n",
    "        gdal.Translate(out_base_path + out_filename + str(i) + \"_\" + str(j) + \".tif\",in_path + in_filename, srcWin = [i, j, tile_size_y, tile_size_x],format='GTiff')\n",
    "        "
   ]
  },
  {
   "cell_type": "code",
   "execution_count": null,
   "metadata": {},
   "outputs": [],
   "source": [
    "#Possible Code to use\n",
    "# gdal.Translate(in_path,out_path,srcWin = [i, j, tile_size_y, tile_size_x],format='GTiff')"
   ]
  },
  {
   "cell_type": "code",
   "execution_count": 5,
   "metadata": {},
   "outputs": [
    {
     "output_type": "stream",
     "name": "stdout",
     "text": [
      "Help on function TranslateOptions in module osgeo.gdal:\n\nTranslateOptions(options=None, format=None, outputType=0, bandList=None, maskBand=None, width=0, height=0, widthPct=0.0, heightPct=0.0, xRes=0.0, yRes=0.0, creationOptions=None, srcWin=None, projWin=None, projWinSRS=None, strict=False, unscale=False, scaleParams=None, exponents=None, outputBounds=None, metadataOptions=None, outputSRS=None, nogcp=False, GCPs=None, noData=None, rgbExpand=None, stats=False, rat=True, resampleAlg=None, callback=None, callback_data=None)\n    Create a TranslateOptions() object that can be passed to gdal.Translate()\n    Keyword arguments are :\n      options --- can be be an array of strings, a string or let empty and filled from other keywords.\n      format --- output format (\"GTiff\", etc...)\n      outputType --- output type (gdalconst.GDT_Byte, etc...)\n      bandList --- array of band numbers (index start at 1)\n      maskBand --- mask band to generate or not (\"none\", \"auto\", \"mask\", 1, ...)\n      width --- width of the output raster in pixel\n      height --- height of the output raster in pixel\n      widthPct --- width of the output raster in percentage (100 = original width)\n      heightPct --- height of the output raster in percentage (100 = original height)\n      xRes --- output horizontal resolution\n      yRes --- output vertical resolution\n      creationOptions --- list of creation options\n      srcWin --- subwindow in pixels to extract: [left_x, top_y, width, height]\n      projWin --- subwindow in projected coordinates to extract: [ulx, uly, lrx, lry]\n      projWinSRS --- SRS in which projWin is expressed\n      strict --- strict mode\n      unscale --- unscale values with scale and offset metadata\n      scaleParams --- list of scale parameters, each of the form [src_min,src_max] or [src_min,src_max,dst_min,dst_max]\n      exponents --- list of exponentiation parameters\n      outputBounds --- assigned output bounds: [ulx, uly, lrx, lry]\n      metadataOptions --- list of metadata options\n      outputSRS --- assigned output SRS\n      nogcp --- ignore GCP in the raster\n      GCPs --- list of GCPs\n      noData --- nodata value (or \"none\" to unset it)\n      rgbExpand --- Color palette expansion mode: \"gray\", \"rgb\", \"rgba\"\n      stats --- whether to calculate statistics\n      rat --- whether to write source RAT\n      resampleAlg --- resampling mode\n      callback --- callback method\n      callback_data --- user data for callback\n\n"
     ]
    }
   ],
   "source": [
    "help(gdal.TranslateOptions)"
   ]
  },
  {
   "cell_type": "code",
   "execution_count": null,
   "metadata": {},
   "outputs": [],
   "source": []
  }
 ],
 "metadata": {
  "kernelspec": {
   "display_name": "GIS_processing",
   "language": "python",
   "name": "gis_processing"
  },
  "language_info": {
   "codemirror_mode": {
    "name": "ipython",
    "version": 3
   },
   "file_extension": ".py",
   "mimetype": "text/x-python",
   "name": "python",
   "nbconvert_exporter": "python",
   "pygments_lexer": "ipython3",
   "version": "3.7.6-final"
  }
 },
 "nbformat": 4,
 "nbformat_minor": 4
}