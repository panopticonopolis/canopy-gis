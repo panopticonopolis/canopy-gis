{
 "cells": [
  {
   "cell_type": "code",
   "execution_count": 6,
   "metadata": {},
   "outputs": [],
   "source": [
    "import subprocess\n",
    "import glob"
   ]
  },
  {
   "cell_type": "code",
   "execution_count": 10,
   "metadata": {},
   "outputs": [],
   "source": [
    "TCI_files = glob.glob(\"/Volumes/Lacie/zhenyadata/Project_Canopy_Data/Data/Sentinel_Data/TCI/2015/*TCI.jp2\",recursive=True)"
   ]
  },
  {
   "cell_type": "code",
   "execution_count": 46,
   "metadata": {},
   "outputs": [],
   "source": [
    "# TCI_test = ' '.join(map(str, TCI_files[0:3]))\n",
    "TCI_test_files = TCI_files[0:3]"
   ]
  },
  {
   "cell_type": "code",
   "execution_count": 49,
   "metadata": {},
   "outputs": [],
   "source": [
    "with open('TCI_test.txt', 'w') as filehandle:\n",
    "    filehandle.writelines(\"%s\\n\" % TCI_filename for TCI_filename in TCI_test_files)"
   ]
  },
  {
   "cell_type": "code",
   "execution_count": 41,
   "metadata": {},
   "outputs": [],
   "source": [
    "#trouble with merge not using\n",
    "\n",
    "# cmd = f'gdal_merge.py -of GTiff {TCI_test} '\n",
    "# subprocess.call(cmd,shell=True)"
   ]
  },
  {
   "cell_type": "code",
   "execution_count": 52,
   "metadata": {},
   "outputs": [
    {
     "data": {
      "text/plain": [
       "0"
      ]
     },
     "execution_count": 52,
     "metadata": {},
     "output_type": "execute_result"
    }
   ],
   "source": [
    "cmd = 'gdalbuildvrt -resolution average -r nearest -hidenodata -vrtnodata 0 -allow_projection_difference 1 -input_file_list TCI_test.txt'\n",
    "\n",
    "subprocess.call(cmd,shell=True)"
   ]
  },
  {
   "cell_type": "code",
   "execution_count": 62,
   "metadata": {},
   "outputs": [
    {
     "data": {
      "text/plain": [
       "1"
      ]
     },
     "execution_count": 62,
     "metadata": {},
     "output_type": "execute_result"
    }
   ],
   "source": [
    "cmd = 'gdal_translate -of GTiff /Volumes/Lacie/zhenyadata/Project_Canopy_Data/Data/Sentinel_Data/TCI/2015/T34MHV_20150912T082736_TCI.jp2 result.tif'\n",
    "subprocess.call(cmd,shell=True)\n"
   ]
  },
  {
   "cell_type": "code",
   "execution_count": null,
   "metadata": {},
   "outputs": [],
   "source": [
    "'gdal_edit.py -a_srs EPSG:32633 /Volumes/Lacie/zhenyadata/Project_Canopy_Data/Data/Sentinel_Data/TCI/2015/2015T33MXU_20150805T091006_TCI.jp2'"
   ]
  },
  {
   "cell_type": "code",
   "execution_count": 58,
   "metadata": {},
   "outputs": [
    {
     "name": "stdout",
     "output_type": "stream",
     "text": [
      "Help on function call in module subprocess:\n",
      "\n",
      "call(*popenargs, timeout=None, **kwargs)\n",
      "    Run command with arguments.  Wait for command to complete or\n",
      "    timeout, then return the returncode attribute.\n",
      "    \n",
      "    The arguments are the same as for the Popen constructor.  Example:\n",
      "    \n",
      "    retcode = call([\"ls\", \"-l\"])\n",
      "\n"
     ]
    }
   ],
   "source": [
    "help(subprocess.call)"
   ]
  },
  {
   "cell_type": "code",
   "execution_count": null,
   "metadata": {},
   "outputs": [],
   "source": []
  }
 ],
 "metadata": {
  "kernelspec": {
   "display_name": "gis-processing",
   "language": "python",
   "name": "gis-processing"
  },
  "language_info": {
   "codemirror_mode": {
    "name": "ipython",
    "version": 3
   },
   "file_extension": ".py",
   "mimetype": "text/x-python",
   "name": "python",
   "nbconvert_exporter": "python",
   "pygments_lexer": "ipython3",
   "version": "3.7.4"
  }
 },
 "nbformat": 4,
 "nbformat_minor": 4
}
