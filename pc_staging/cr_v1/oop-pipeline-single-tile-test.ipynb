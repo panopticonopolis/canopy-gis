{
 "cells": [
  {
   "cell_type": "code",
   "execution_count": 1,
   "metadata": {},
   "outputs": [],
   "source": [
    "from data_collection_pipeline_oop_single_tile import CollectionPipeline"
   ]
  },
  {
   "cell_type": "code",
   "execution_count": 2,
   "metadata": {},
   "outputs": [],
   "source": [
    "bbox = (8.42823, -3.373256, 25.688438, 5.845887)\n",
    "\n",
    "tile_list = ['34MAC', '33NWA']"
   ]
  },
  {
   "cell_type": "code",
   "execution_count": 3,
   "metadata": {},
   "outputs": [],
   "source": [
    "from env_vars import shub_instance_id"
   ]
  },
  {
   "cell_type": "code",
   "execution_count": 4,
   "metadata": {},
   "outputs": [],
   "source": [
    "search_interval = ('2019-01-01', '2020-12-31')\n",
    "\n",
    "output_dir = 'D:/canopy_data/oop-pipeline-test/single_tile_test/'\n",
    "\n",
    "cpipe = CollectionPipeline(shub_instance_id, bbox, tile_list,\n",
    "                           search_interval, output_dir, windows=True)"
   ]
  },
  {
   "cell_type": "code",
   "execution_count": null,
   "metadata": {},
   "outputs": [],
   "source": [
    "cpipe.run()"
   ]
  },
  {
   "cell_type": "code",
   "execution_count": 5,
   "metadata": {},
   "outputs": [
    {
     "name": "stdout",
     "output_type": "stream",
     "text": [
      "Starting single tile pipeline for tile 1 of 2\n",
      "Applying mask to tile 34MAC\n",
      "Tile list: []\n",
      "No tiles of this ID were downloaded\n",
      "Finished single tile GeoTIFF for tile 1 of 2\n",
      "Starting single tile pipeline for tile 2 of 2\n",
      "Applying mask to tile 33NWA\n",
      "Tile list: ['D:/canopy_data/oop-pipeline-test/single_tile_test/raw\\\\L2A_T33NWA_A015377_20200215T092112\\\\IMG_DATA\\\\R10m\\\\T33NWA_20200215T091019_TCI_10m.jp2', 'D:/canopy_data/oop-pipeline-test/single_tile_test/raw\\\\L2A_T33NWA_A016378_20200425T092712\\\\IMG_DATA\\\\R10m\\\\T33NWA_20200425T090549_TCI_10m.jp2', 'D:/canopy_data/oop-pipeline-test/single_tile_test/raw\\\\L2A_T33NWA_A017665_20200724T092637\\\\IMG_DATA\\\\R10m\\\\T33NWA_20200724T090559_TCI_10m.jp2', 'D:/canopy_data/oop-pipeline-test/single_tile_test/raw\\\\L2A_T33NWA_A023785_20200111T092435\\\\IMG_DATA\\\\R10m\\\\T33NWA_20200111T091341_TCI_10m.jp2', 'D:/canopy_data/oop-pipeline-test/single_tile_test/raw\\\\L2A_T33NWA_A024214_20200210T092430\\\\IMG_DATA\\\\R10m\\\\T33NWA_20200210T091121_TCI_10m.jp2', 'D:/canopy_data/oop-pipeline-test/single_tile_test/raw\\\\L2A_T33NWA_A024357_20200220T091348\\\\IMG_DATA\\\\R10m\\\\T33NWA_20200220T091011_TCI_10m.jp2', 'D:/canopy_data/oop-pipeline-test/single_tile_test/raw\\\\L2A_T33NWA_A025358_20200430T091954\\\\IMG_DATA\\\\R10m\\\\T33NWA_20200430T090601_TCI_10m.jp2', 'D:/canopy_data/oop-pipeline-test/single_tile_test/raw\\\\L2A_T33NWA_A025644_20200520T092926\\\\IMG_DATA\\\\R10m\\\\T33NWA_20200520T090601_TCI_10m.jp2', 'D:/canopy_data/oop-pipeline-test/single_tile_test/raw\\\\L2A_T33NWA_A026788_20200808T091204\\\\IMG_DATA\\\\R10m\\\\T33NWA_20200808T090601_TCI_10m.jp2', 'D:/canopy_data/oop-pipeline-test/single_tile_test/raw\\\\L2A_T33NWA_A026788_20200808T093036\\\\IMG_DATA\\\\R10m\\\\T33NWA_20200808T090601_TCI_10m.jp2']\n",
      "D:/canopy_data/oop-pipeline-test/single_tile_test/raw/L2A_T33NWA_A015377_20200215T092112/QI_DATA/MSK_CLDPRB_20m.jp2\n",
      "Applying mask to file D:/canopy_data/oop-pipeline-test/single_tile_test/raw\\L2A_T33NWA_A015377_20200215T092112\\IMG_DATA\\R10m\\T33NWA_20200215T091019_TCI_10m.jp2\n",
      "D:/canopy_data/oop-pipeline-test/single_tile_test/masked//processed_T33NWA_20200215T091019_TCI_10m.jp2\n",
      "D:/canopy_data/oop-pipeline-test/single_tile_test/raw/L2A_T33NWA_A016378_20200425T092712/QI_DATA/MSK_CLDPRB_20m.jp2\n",
      "Applying mask to file D:/canopy_data/oop-pipeline-test/single_tile_test/raw\\L2A_T33NWA_A016378_20200425T092712\\IMG_DATA\\R10m\\T33NWA_20200425T090549_TCI_10m.jp2\n",
      "D:/canopy_data/oop-pipeline-test/single_tile_test/masked//processed_T33NWA_20200425T090549_TCI_10m.jp2\n",
      "D:/canopy_data/oop-pipeline-test/single_tile_test/raw/L2A_T33NWA_A017665_20200724T092637/QI_DATA/MSK_CLDPRB_20m.jp2\n",
      "Applying mask to file D:/canopy_data/oop-pipeline-test/single_tile_test/raw\\L2A_T33NWA_A017665_20200724T092637\\IMG_DATA\\R10m\\T33NWA_20200724T090559_TCI_10m.jp2\n",
      "D:/canopy_data/oop-pipeline-test/single_tile_test/masked//processed_T33NWA_20200724T090559_TCI_10m.jp2\n",
      "D:/canopy_data/oop-pipeline-test/single_tile_test/raw/L2A_T33NWA_A023785_20200111T092435/QI_DATA/MSK_CLDPRB_20m.jp2\n",
      "Applying mask to file D:/canopy_data/oop-pipeline-test/single_tile_test/raw\\L2A_T33NWA_A023785_20200111T092435\\IMG_DATA\\R10m\\T33NWA_20200111T091341_TCI_10m.jp2\n",
      "D:/canopy_data/oop-pipeline-test/single_tile_test/masked//processed_T33NWA_20200111T091341_TCI_10m.jp2\n",
      "D:/canopy_data/oop-pipeline-test/single_tile_test/raw/L2A_T33NWA_A024214_20200210T092430/QI_DATA/MSK_CLDPRB_20m.jp2\n",
      "Applying mask to file D:/canopy_data/oop-pipeline-test/single_tile_test/raw\\L2A_T33NWA_A024214_20200210T092430\\IMG_DATA\\R10m\\T33NWA_20200210T091121_TCI_10m.jp2\n",
      "D:/canopy_data/oop-pipeline-test/single_tile_test/masked//processed_T33NWA_20200210T091121_TCI_10m.jp2\n",
      "D:/canopy_data/oop-pipeline-test/single_tile_test/raw/L2A_T33NWA_A024357_20200220T091348/QI_DATA/MSK_CLDPRB_20m.jp2\n",
      "Applying mask to file D:/canopy_data/oop-pipeline-test/single_tile_test/raw\\L2A_T33NWA_A024357_20200220T091348\\IMG_DATA\\R10m\\T33NWA_20200220T091011_TCI_10m.jp2\n",
      "D:/canopy_data/oop-pipeline-test/single_tile_test/masked//processed_T33NWA_20200220T091011_TCI_10m.jp2\n",
      "D:/canopy_data/oop-pipeline-test/single_tile_test/raw/L2A_T33NWA_A025358_20200430T091954/QI_DATA/MSK_CLDPRB_20m.jp2\n",
      "Applying mask to file D:/canopy_data/oop-pipeline-test/single_tile_test/raw\\L2A_T33NWA_A025358_20200430T091954\\IMG_DATA\\R10m\\T33NWA_20200430T090601_TCI_10m.jp2\n",
      "D:/canopy_data/oop-pipeline-test/single_tile_test/masked//processed_T33NWA_20200430T090601_TCI_10m.jp2\n",
      "D:/canopy_data/oop-pipeline-test/single_tile_test/raw/L2A_T33NWA_A025644_20200520T092926/QI_DATA/MSK_CLDPRB_20m.jp2\n",
      "Applying mask to file D:/canopy_data/oop-pipeline-test/single_tile_test/raw\\L2A_T33NWA_A025644_20200520T092926\\IMG_DATA\\R10m\\T33NWA_20200520T090601_TCI_10m.jp2\n",
      "D:/canopy_data/oop-pipeline-test/single_tile_test/masked//processed_T33NWA_20200520T090601_TCI_10m.jp2\n",
      "D:/canopy_data/oop-pipeline-test/single_tile_test/raw/L2A_T33NWA_A026788_20200808T091204/QI_DATA/MSK_CLDPRB_20m.jp2\n",
      "Applying mask to file D:/canopy_data/oop-pipeline-test/single_tile_test/raw\\L2A_T33NWA_A026788_20200808T091204\\IMG_DATA\\R10m\\T33NWA_20200808T090601_TCI_10m.jp2\n",
      "D:/canopy_data/oop-pipeline-test/single_tile_test/masked//processed_T33NWA_20200808T090601_TCI_10m.jp2\n",
      "D:/canopy_data/oop-pipeline-test/single_tile_test/raw/L2A_T33NWA_A026788_20200808T093036/QI_DATA/MSK_CLDPRB_20m.jp2\n",
      "Applying mask to file D:/canopy_data/oop-pipeline-test/single_tile_test/raw\\L2A_T33NWA_A026788_20200808T093036\\IMG_DATA\\R10m\\T33NWA_20200808T090601_TCI_10m.jp2\n",
      "D:/canopy_data/oop-pipeline-test/single_tile_test/masked//processed_T33NWA_20200808T090601_TCI_10m.jp2\n",
      "Making metadata dataframe\n",
      "Filepath Origin: D:/canopy_data/oop-pipeline-test/single_tile_test/raw/L2A_T33NWA_A015377_20200215T092112/IMG_DATA/R10m\\T33NWA_20200215T091019_TCI_10m.jp2\n",
      "Filepath Origin: D:/canopy_data/oop-pipeline-test/single_tile_test/raw/L2A_T33NWA_A016378_20200425T092712/IMG_DATA/R10m\\T33NWA_20200425T090549_TCI_10m.jp2\n",
      "Filepath Origin: D:/canopy_data/oop-pipeline-test/single_tile_test/raw/L2A_T33NWA_A017665_20200724T092637/IMG_DATA/R10m\\T33NWA_20200724T090559_TCI_10m.jp2\n",
      "Filepath Origin: D:/canopy_data/oop-pipeline-test/single_tile_test/raw/L2A_T33NWA_A023785_20200111T092435/IMG_DATA/R10m\\T33NWA_20200111T091341_TCI_10m.jp2\n",
      "Filepath Origin: D:/canopy_data/oop-pipeline-test/single_tile_test/raw/L2A_T33NWA_A024214_20200210T092430/IMG_DATA/R10m\\T33NWA_20200210T091121_TCI_10m.jp2\n",
      "Filepath Origin: D:/canopy_data/oop-pipeline-test/single_tile_test/raw/L2A_T33NWA_A024357_20200220T091348/IMG_DATA/R10m\\T33NWA_20200220T091011_TCI_10m.jp2\n",
      "Filepath Origin: D:/canopy_data/oop-pipeline-test/single_tile_test/raw/L2A_T33NWA_A025358_20200430T091954/IMG_DATA/R10m\\T33NWA_20200430T090601_TCI_10m.jp2\n",
      "Filepath Origin: D:/canopy_data/oop-pipeline-test/single_tile_test/raw/L2A_T33NWA_A025644_20200520T092926/IMG_DATA/R10m\\T33NWA_20200520T090601_TCI_10m.jp2\n",
      "Filepath Origin: D:/canopy_data/oop-pipeline-test/single_tile_test/raw/L2A_T33NWA_A026788_20200808T091204/IMG_DATA/R10m\\T33NWA_20200808T090601_TCI_10m.jp2\n",
      "Filepath Origin: D:/canopy_data/oop-pipeline-test/single_tile_test/raw/L2A_T33NWA_A026788_20200808T093036/IMG_DATA/R10m\\T33NWA_20200808T090601_TCI_10m.jp2\n",
      "Ordering products\n",
      "src_dr D:/canopy_data/oop-pipeline-test/single_tile_test/masked/processed_T33NWA_20200215T091019_TCI_10m.jp2\n",
      "src_dr D:/canopy_data/oop-pipeline-test/single_tile_test/masked/processed_T33NWA_20200808T090601_TCI_10m.jp2\n",
      "src_dr D:/canopy_data/oop-pipeline-test/single_tile_test/masked/processed_T33NWA_20200808T090601_TCI_10m.jp2\n",
      "src_dr D:/canopy_data/oop-pipeline-test/single_tile_test/masked/processed_T33NWA_20200111T091341_TCI_10m.jp2\n",
      "src_dr D:/canopy_data/oop-pipeline-test/single_tile_test/masked/processed_T33NWA_20200220T091011_TCI_10m.jp2\n",
      "src_dr D:/canopy_data/oop-pipeline-test/single_tile_test/masked/processed_T33NWA_20200425T090549_TCI_10m.jp2\n",
      "src_dr D:/canopy_data/oop-pipeline-test/single_tile_test/masked/processed_T33NWA_20200520T090601_TCI_10m.jp2\n",
      "src_dr D:/canopy_data/oop-pipeline-test/single_tile_test/masked/processed_T33NWA_20200430T090601_TCI_10m.jp2\n",
      "src_dr D:/canopy_data/oop-pipeline-test/single_tile_test/masked/processed_T33NWA_20200724T090559_TCI_10m.jp2\n",
      "src_dr D:/canopy_data/oop-pipeline-test/single_tile_test/masked/processed_T33NWA_20200210T091121_TCI_10m.jp2\n",
      "Deleting Masked products\n",
      "D:/canopy_data/oop-pipeline-test/single_tile_test/masked/processed_T33NWA_20200111T091341_TCI_10m.jp2\n",
      "D:/canopy_data/oop-pipeline-test/single_tile_test/masked/processed_T33NWA_20200210T091121_TCI_10m.jp2\n",
      "D:/canopy_data/oop-pipeline-test/single_tile_test/masked/processed_T33NWA_20200215T091019_TCI_10m.jp2\n",
      "D:/canopy_data/oop-pipeline-test/single_tile_test/masked/processed_T33NWA_20200220T091011_TCI_10m.jp2\n",
      "D:/canopy_data/oop-pipeline-test/single_tile_test/masked/processed_T33NWA_20200425T090549_TCI_10m.jp2\n",
      "D:/canopy_data/oop-pipeline-test/single_tile_test/masked/processed_T33NWA_20200430T090601_TCI_10m.jp2\n"
     ]
    },
    {
     "name": "stdout",
     "output_type": "stream",
     "text": [
      "D:/canopy_data/oop-pipeline-test/single_tile_test/masked/processed_T33NWA_20200520T090601_TCI_10m.jp2\n",
      "D:/canopy_data/oop-pipeline-test/single_tile_test/masked/processed_T33NWA_20200724T090559_TCI_10m.jp2\n",
      "D:/canopy_data/oop-pipeline-test/single_tile_test/masked/processed_T33NWA_20200808T090601_TCI_10m.jp2\n",
      "Warping products\n",
      "processing file 1 of 10; location: D:/canopy_data/oop-pipeline-test/single_tile_test/ordered\\1\\processed_T33NWA_20200215T091019_TCI_10m.jp2\n",
      "processing file 2 of 10; location: D:/canopy_data/oop-pipeline-test/single_tile_test/ordered\\10\\processed_T33NWA_20200210T091121_TCI_10m.jp2\n",
      "processing file 3 of 10; location: D:/canopy_data/oop-pipeline-test/single_tile_test/ordered\\2\\processed_T33NWA_20200808T090601_TCI_10m.jp2\n",
      "processing file 4 of 10; location: D:/canopy_data/oop-pipeline-test/single_tile_test/ordered\\3\\processed_T33NWA_20200808T090601_TCI_10m.jp2\n",
      "processing file 5 of 10; location: D:/canopy_data/oop-pipeline-test/single_tile_test/ordered\\4\\processed_T33NWA_20200111T091341_TCI_10m.jp2\n",
      "processing file 6 of 10; location: D:/canopy_data/oop-pipeline-test/single_tile_test/ordered\\5\\processed_T33NWA_20200220T091011_TCI_10m.jp2\n",
      "processing file 7 of 10; location: D:/canopy_data/oop-pipeline-test/single_tile_test/ordered\\6\\processed_T33NWA_20200425T090549_TCI_10m.jp2\n",
      "processing file 8 of 10; location: D:/canopy_data/oop-pipeline-test/single_tile_test/ordered\\7\\processed_T33NWA_20200520T090601_TCI_10m.jp2\n",
      "processing file 9 of 10; location: D:/canopy_data/oop-pipeline-test/single_tile_test/ordered\\8\\processed_T33NWA_20200430T090601_TCI_10m.jp2\n",
      "processing file 10 of 10; location: D:/canopy_data/oop-pipeline-test/single_tile_test/ordered\\9\\processed_T33NWA_20200724T090559_TCI_10m.jp2\n",
      "Deleting Masked Ordered Products\n",
      "D:/canopy_data/oop-pipeline-test/single_tile_test/ordered/1\n",
      "D:/canopy_data/oop-pipeline-test/single_tile_test/ordered/10\n",
      "D:/canopy_data/oop-pipeline-test/single_tile_test/ordered/2\n",
      "D:/canopy_data/oop-pipeline-test/single_tile_test/ordered/3\n",
      "D:/canopy_data/oop-pipeline-test/single_tile_test/ordered/4\n",
      "D:/canopy_data/oop-pipeline-test/single_tile_test/ordered/5\n",
      "D:/canopy_data/oop-pipeline-test/single_tile_test/ordered/6\n",
      "D:/canopy_data/oop-pipeline-test/single_tile_test/ordered/7\n",
      "D:/canopy_data/oop-pipeline-test/single_tile_test/ordered/8\n",
      "D:/canopy_data/oop-pipeline-test/single_tile_test/ordered/9\n",
      "Making virtual rasters\n",
      "Making Layer 1\n",
      "['D:/canopy_data/oop-pipeline-test/single_tile_test/ordered_warped/1\\\\processed_T33NWA_20200215T091019_TCI_10m.jp2']\n",
      "D:/canopy_data/oop-pipeline-test/single_tile_test/temp_virtual_rasters/Layer1.vrt\n",
      "Making Layer 2\n",
      "['D:/canopy_data/oop-pipeline-test/single_tile_test/ordered_warped/2\\\\processed_T33NWA_20200808T090601_TCI_10m.jp2']\n",
      "D:/canopy_data/oop-pipeline-test/single_tile_test/temp_virtual_rasters/Layer2.vrt\n",
      "Making Layer 3\n",
      "['D:/canopy_data/oop-pipeline-test/single_tile_test/ordered_warped/3\\\\processed_T33NWA_20200808T090601_TCI_10m.jp2']\n",
      "D:/canopy_data/oop-pipeline-test/single_tile_test/temp_virtual_rasters/Layer3.vrt\n",
      "Making Layer 4\n",
      "['D:/canopy_data/oop-pipeline-test/single_tile_test/ordered_warped/4\\\\processed_T33NWA_20200111T091341_TCI_10m.jp2']\n",
      "D:/canopy_data/oop-pipeline-test/single_tile_test/temp_virtual_rasters/Layer4.vrt\n",
      "Making Layer 5\n",
      "['D:/canopy_data/oop-pipeline-test/single_tile_test/ordered_warped/5\\\\processed_T33NWA_20200220T091011_TCI_10m.jp2']\n",
      "D:/canopy_data/oop-pipeline-test/single_tile_test/temp_virtual_rasters/Layer5.vrt\n",
      "Making Layer 6\n",
      "['D:/canopy_data/oop-pipeline-test/single_tile_test/ordered_warped/6\\\\processed_T33NWA_20200425T090549_TCI_10m.jp2']\n",
      "D:/canopy_data/oop-pipeline-test/single_tile_test/temp_virtual_rasters/Layer6.vrt\n",
      "Making Layer 7\n",
      "['D:/canopy_data/oop-pipeline-test/single_tile_test/ordered_warped/7\\\\processed_T33NWA_20200520T090601_TCI_10m.jp2']\n",
      "D:/canopy_data/oop-pipeline-test/single_tile_test/temp_virtual_rasters/Layer7.vrt\n",
      "Making Layer 8\n",
      "['D:/canopy_data/oop-pipeline-test/single_tile_test/ordered_warped/8\\\\processed_T33NWA_20200430T090601_TCI_10m.jp2']\n",
      "D:/canopy_data/oop-pipeline-test/single_tile_test/temp_virtual_rasters/Layer8.vrt\n",
      "Making Layer 9\n",
      "['D:/canopy_data/oop-pipeline-test/single_tile_test/ordered_warped/9\\\\processed_T33NWA_20200724T090559_TCI_10m.jp2']\n",
      "D:/canopy_data/oop-pipeline-test/single_tile_test/temp_virtual_rasters/Layer9.vrt\n",
      "Making Layer 10\n",
      "['D:/canopy_data/oop-pipeline-test/single_tile_test/ordered_warped/10\\\\processed_T33NWA_20200210T091121_TCI_10m.jp2']\n",
      "D:/canopy_data/oop-pipeline-test/single_tile_test/temp_virtual_rasters/Layer10.vrt\n",
      "Making full raster\n",
      "Making GeoTIFF\n",
      "Deleting Warped Ordered Products\n",
      "D:/canopy_data/oop-pipeline-test/single_tile_test/ordered_warped/1\n",
      "D:/canopy_data/oop-pipeline-test/single_tile_test/ordered_warped/10\n",
      "D:/canopy_data/oop-pipeline-test/single_tile_test/ordered_warped/2\n",
      "D:/canopy_data/oop-pipeline-test/single_tile_test/ordered_warped/3\n",
      "D:/canopy_data/oop-pipeline-test/single_tile_test/ordered_warped/4\n",
      "D:/canopy_data/oop-pipeline-test/single_tile_test/ordered_warped/5\n",
      "D:/canopy_data/oop-pipeline-test/single_tile_test/ordered_warped/6\n",
      "D:/canopy_data/oop-pipeline-test/single_tile_test/ordered_warped/7\n",
      "D:/canopy_data/oop-pipeline-test/single_tile_test/ordered_warped/8\n",
      "D:/canopy_data/oop-pipeline-test/single_tile_test/ordered_warped/9\n",
      "Deleting Tile Virtual Rasters\n",
      "D:/canopy_data/oop-pipeline-test/single_tile_test/temp_virtual_rasters/full.vrt\n",
      "D:/canopy_data/oop-pipeline-test/single_tile_test/temp_virtual_rasters/Layer1.vrt\n",
      "D:/canopy_data/oop-pipeline-test/single_tile_test/temp_virtual_rasters/Layer10.vrt\n",
      "D:/canopy_data/oop-pipeline-test/single_tile_test/temp_virtual_rasters/Layer2.vrt\n",
      "D:/canopy_data/oop-pipeline-test/single_tile_test/temp_virtual_rasters/Layer3.vrt\n",
      "D:/canopy_data/oop-pipeline-test/single_tile_test/temp_virtual_rasters/Layer4.vrt\n",
      "D:/canopy_data/oop-pipeline-test/single_tile_test/temp_virtual_rasters/Layer5.vrt\n",
      "D:/canopy_data/oop-pipeline-test/single_tile_test/temp_virtual_rasters/Layer6.vrt\n",
      "D:/canopy_data/oop-pipeline-test/single_tile_test/temp_virtual_rasters/Layer7.vrt\n",
      "D:/canopy_data/oop-pipeline-test/single_tile_test/temp_virtual_rasters/Layer8.vrt\n",
      "D:/canopy_data/oop-pipeline-test/single_tile_test/temp_virtual_rasters/Layer9.vrt\n",
      "Finished single tile GeoTIFF for tile 2 of 2\n",
      "Creating Master VRT for Tile GeoTIFFs\n",
      "['D:/canopy_data/oop-pipeline-test/single_tile_test/tile_tifs\\\\T33NWA_full_tif.tif']\n",
      "D:/canopy_data/oop-pipeline-test/single_tile_test/full_virtual_rasters/full_vrt.vrt\n",
      "Finished\n",
      "Deleting individual Tile GeoTIFFs\n",
      "D:/canopy_data/oop-pipeline-test/single_tile_test/tile_tifs/T33NWA_full_tif.tif\n",
      "Chipping Master GeoTIFF\n"
     ]
    }
   ],
   "source": [
    "cpipe.run(download=False)"
   ]
  },
  {
   "cell_type": "code",
   "execution_count": null,
   "metadata": {},
   "outputs": [],
   "source": [
    "raw_image_path = 'D:/canopy_data/oop-pipeline-test/single_tile_test/raw\\\\L2A_T33NWA_A015377_20200215T092112\\\\IMG_DATA\\\\R10m\\\\T33NWA_20200215T091019_TCI_10m.jp2'"
   ]
  },
  {
   "cell_type": "code",
   "execution_count": null,
   "metadata": {},
   "outputs": [],
   "source": [
    "raw_image_path.split('\\\\')"
   ]
  },
  {
   "cell_type": "code",
   "execution_count": null,
   "metadata": {},
   "outputs": [],
   "source": [
    "'/'.join(raw_image_path.split('\\\\')[:-3])"
   ]
  },
  {
   "cell_type": "code",
   "execution_count": 6,
   "metadata": {},
   "outputs": [],
   "source": [
    "filepath_origin = 'D:/canopy_data/oop-pipeline-test/single_tile_test/raw//L2A_T33NWA_A015377_20200215T092112/IMG_DATA/R10m\\T33NWA_20200215T091019_TCI_10m.jp2'"
   ]
  },
  {
   "cell_type": "code",
   "execution_count": 7,
   "metadata": {},
   "outputs": [
    {
     "data": {
      "text/plain": [
       "['D:/canopy_data/oop-pipeline-test/single_tile_test/raw//L2A_T33NWA_A015377_20200215T092112/IMG_DATA/',\n",
       " '\\\\T33NWA_20200215T091019_TCI_10m.jp2']"
      ]
     },
     "execution_count": 7,
     "metadata": {},
     "output_type": "execute_result"
    }
   ],
   "source": [
    "spl = filepath_origin.split('R10m')\n",
    "spl"
   ]
  },
  {
   "cell_type": "code",
   "execution_count": 8,
   "metadata": {},
   "outputs": [
    {
     "data": {
      "text/plain": [
       "['D:/canopy_data/oop-pipeline-test/single_tile_test/raw\\\\L2A_T33NWA_A015377_20200215T092112\\\\',\n",
       " 'D:/canopy_data/oop-pipeline-test/single_tile_test/raw\\\\L2A_T33NWA_A016378_20200425T092712\\\\',\n",
       " 'D:/canopy_data/oop-pipeline-test/single_tile_test/raw\\\\L2A_T33NWA_A017665_20200724T092637\\\\',\n",
       " 'D:/canopy_data/oop-pipeline-test/single_tile_test/raw\\\\L2A_T33NWA_A023785_20200111T092435\\\\',\n",
       " 'D:/canopy_data/oop-pipeline-test/single_tile_test/raw\\\\L2A_T33NWA_A024214_20200210T092430\\\\',\n",
       " 'D:/canopy_data/oop-pipeline-test/single_tile_test/raw\\\\L2A_T33NWA_A024357_20200220T091348\\\\',\n",
       " 'D:/canopy_data/oop-pipeline-test/single_tile_test/raw\\\\L2A_T33NWA_A025358_20200430T091954\\\\',\n",
       " 'D:/canopy_data/oop-pipeline-test/single_tile_test/raw\\\\L2A_T33NWA_A025644_20200520T092926\\\\',\n",
       " 'D:/canopy_data/oop-pipeline-test/single_tile_test/raw\\\\L2A_T33NWA_A026788_20200808T091204\\\\',\n",
       " 'D:/canopy_data/oop-pipeline-test/single_tile_test/raw\\\\L2A_T33NWA_A026788_20200808T093036\\\\']"
      ]
     },
     "execution_count": 8,
     "metadata": {},
     "output_type": "execute_result"
    }
   ],
   "source": [
    "from glob import glob\n",
    "\n",
    "raw_dir = 'D:/canopy_data/oop-pipeline-test/single_tile_test/raw/'\n",
    "\n",
    "dir_paths = glob(raw_dir + \"*/\")\n",
    "\n",
    "tile_id = '33NWA'\n",
    "\n",
    "dir_paths = [i for i in dir_paths if tile_id in i]\n",
    "\n",
    "dir_paths"
   ]
  },
  {
   "cell_type": "code",
   "execution_count": 9,
   "metadata": {},
   "outputs": [
    {
     "data": {
      "text/plain": [
       "'L2A_T33NWA_A015377_20200215T092112'"
      ]
     },
     "execution_count": 9,
     "metadata": {},
     "output_type": "execute_result"
    }
   ],
   "source": [
    "path = dir_paths[0]\n",
    "\n",
    "folder = path.split('\\\\')[-2]\n",
    "\n",
    "folder"
   ]
  },
  {
   "cell_type": "code",
   "execution_count": 11,
   "metadata": {},
   "outputs": [
    {
     "data": {
      "text/plain": [
       "'D:/canopy_data/oop-pipeline-test/single_tile_test/raw/L2A_T33NWA_A015377_20200215T092112\\\\MTD_TL.xml'"
      ]
     },
     "execution_count": 11,
     "metadata": {},
     "output_type": "execute_result"
    }
   ],
   "source": [
    "xml_loc = glob(raw_dir + folder + \"/*.xml\")[0]\n",
    "\n",
    "xml_loc"
   ]
  },
  {
   "cell_type": "code",
   "execution_count": 12,
   "metadata": {},
   "outputs": [
    {
     "data": {
      "text/plain": [
       "'L2A_T33NWA_A015377_20200215T092112'"
      ]
     },
     "execution_count": 12,
     "metadata": {},
     "output_type": "execute_result"
    }
   ],
   "source": [
    "import xml.etree.ElementTree as ET\n",
    "\n",
    "tree = ET.parse(xml_loc)\n",
    "\n",
    "directory = [elem.text for elem in tree.iter() if \"MASK_FILENAME\" in elem.tag][0].split(\"/\")[1]\n",
    "\n",
    "directory"
   ]
  },
  {
   "cell_type": "code",
   "execution_count": 13,
   "metadata": {},
   "outputs": [
    {
     "data": {
      "text/plain": [
       "'T33NWA'"
      ]
     },
     "execution_count": 13,
     "metadata": {},
     "output_type": "execute_result"
    }
   ],
   "source": [
    "tile_id = directory.split(\"_\")[1]\n",
    "\n",
    "tile_id"
   ]
  },
  {
   "cell_type": "code",
   "execution_count": 14,
   "metadata": {},
   "outputs": [
    {
     "data": {
      "text/plain": [
       "'D:/canopy_data/oop-pipeline-test/single_tile_test/raw//L2A_T33NWA_A015377_20200215T092112/IMG_DATA/R10m'"
      ]
     },
     "execution_count": 14,
     "metadata": {},
     "output_type": "execute_result"
    }
   ],
   "source": [
    "filepath_partial = raw_dir + \"/\" + directory + \"/IMG_DATA\" + \"/R10m\"\n",
    "\n",
    "filepath_partial"
   ]
  },
  {
   "cell_type": "code",
   "execution_count": 15,
   "metadata": {},
   "outputs": [
    {
     "data": {
      "text/plain": [
       "'D:/canopy_data/oop-pipeline-test/single_tile_test/raw//L2A_T33NWA_A015377_20200215T092112/IMG_DATA/R10m\\\\T33NWA_20200215T091019_TCI_10m.jp2'"
      ]
     },
     "execution_count": 15,
     "metadata": {},
     "output_type": "execute_result"
    }
   ],
   "source": [
    "filepath_origin = glob(filepath_partial + f\"/*.jp2\")[0]\n",
    "\n",
    "filepath_origin"
   ]
  },
  {
   "cell_type": "code",
   "execution_count": 16,
   "metadata": {},
   "outputs": [
    {
     "data": {
      "text/plain": [
       "'R10m\\\\T33NWA_20200215T091019_TCI_10m.jp2'"
      ]
     },
     "execution_count": 16,
     "metadata": {},
     "output_type": "execute_result"
    }
   ],
   "source": [
    "filename = filepath_origin.split(\"/\")[-1]\n",
    "\n",
    "filename"
   ]
  },
  {
   "cell_type": "code",
   "execution_count": 17,
   "metadata": {},
   "outputs": [
    {
     "data": {
      "text/plain": [
       "'T33NWA_20200215T091019_TCI_10m.jp2'"
      ]
     },
     "execution_count": 17,
     "metadata": {},
     "output_type": "execute_result"
    }
   ],
   "source": [
    "filename = filepath_origin.split(\"\\\\\")[-1]\n",
    "\n",
    "filename"
   ]
  },
  {
   "cell_type": "code",
   "execution_count": 6,
   "metadata": {},
   "outputs": [],
   "source": [
    "filepath_origin = 'D:/canopy_data/oop-pipeline-test/single_tile_test/raw/L2A_T33NWA_A015377_20200215T092112/IMG_DATA/R10m\\T33NWA_20200215T091019_TCI_10m.jp2'"
   ]
  },
  {
   "cell_type": "code",
   "execution_count": 7,
   "metadata": {},
   "outputs": [
    {
     "data": {
      "text/plain": [
       "'T33NWA_20200215T091019_TCI_10m.jp2'"
      ]
     },
     "execution_count": 7,
     "metadata": {},
     "output_type": "execute_result"
    }
   ],
   "source": [
    "filename = filepath_origin.split('\\\\')[-1]\n",
    "\n",
    "filename"
   ]
  },
  {
   "cell_type": "code",
   "execution_count": 11,
   "metadata": {},
   "outputs": [
    {
     "data": {
      "text/plain": [
       "'D:/canopy_data/oop-pipeline-test/single_tile_test/masked/processed_T33NWA_20200215T091019_TCI_10m.jp2'"
      ]
     },
     "execution_count": 11,
     "metadata": {},
     "output_type": "execute_result"
    }
   ],
   "source": [
    "masked_dir = 'D:/canopy_data/oop-pipeline-test/single_tile_test/masked/'\n",
    "\n",
    "filepath_output = (masked_dir + \"processed_\" + filename)\n",
    "\n",
    "filepath_output"
   ]
  },
  {
   "cell_type": "code",
   "execution_count": 12,
   "metadata": {},
   "outputs": [
    {
     "data": {
      "text/plain": [
       "'D:/canopy_data/oop-pipeline-test/single_tile_test/masked/processed_T33NWA_20200215T091019_TCI_10m.jp2'"
      ]
     },
     "execution_count": 12,
     "metadata": {},
     "output_type": "execute_result"
    }
   ],
   "source": [
    "filename = filepath_output.split('\\\\')[-1]\n",
    "\n",
    "filename"
   ]
  },
  {
   "cell_type": "code",
   "execution_count": null,
   "metadata": {},
   "outputs": [],
   "source": []
  }
 ],
 "metadata": {
  "kernelspec": {
   "name": "Python 3.8.5 64-bit ('pc_staging': conda)",
   "display_name": "Python 3.8.5 64-bit ('pc_staging': conda)",
   "metadata": {
    "interpreter": {
     "hash": "1b9efe77707e8465611c112ce1c51379607218bdccd16d2c0336b6295a87ddc5"
    }
   }
  },
  "language_info": {
   "codemirror_mode": {
    "name": "ipython",
    "version": 3
   },
   "file_extension": ".py",
   "mimetype": "text/x-python",
   "name": "python",
   "nbconvert_exporter": "python",
   "pygments_lexer": "ipython3",
   "version": "3.8.5-final"
  }
 },
 "nbformat": 4,
 "nbformat_minor": 4
}