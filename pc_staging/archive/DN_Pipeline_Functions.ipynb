{
 "cells": [
  {
   "cell_type": "code",
   "execution_count": 2,
   "metadata": {},
   "outputs": [],
   "source": [
    "import gdal\n",
    "from glob import glob"
   ]
  },
  {
   "cell_type": "code",
   "execution_count": 3,
   "metadata": {},
   "outputs": [],
   "source": [
    "def add_trailing_slash(path):\n",
    "    if path[-1] != '/':\n",
    "        path += '/'"
   ]
  },
  {
   "cell_type": "code",
   "execution_count": 4,
   "metadata": {},
   "outputs": [],
   "source": [
    "def convert_rasters(src_dir, dest_dir, epsg_format, windows=True):\n",
    "    \"\"\"Converts the rasters in the src_dir into a different EPSG format,\n",
    "    keeping the same folder structure and saving them in the dest_dir.\"\"\"\n",
    "\n",
    "    src_dir = add_trailing_slash(src_dir)\n",
    "    dest_dir = add_trailing_slash(dest_dir)\n",
    "    \n",
    "    input_files = glob(src_dir + '*/*.jp2')\n",
    "    # Keep track of how many files were converted\n",
    "    n = 1\n",
    "    total = len(input_files)\n",
    "    \n",
    "    for f in input_files:\n",
    "        print(f'processing file {n} of {total}')\n",
    "        n += 1\n",
    "        \n",
    "        # The way we've set it up, we save each product into a numbered folder,\n",
    "        # depending on which layer it's in. To keep this structure, we need to\n",
    "        # pull out the folder number from the file path.\n",
    "        # How exactly to do this depends on if you're using Windows or not,\n",
    "        # since the path conventions are different.\n",
    "        if windows:\n",
    "            folder_num = f.split('\\\\')[-2]\n",
    "            filename = f.split('\\\\')[-1]\n",
    "        else:\n",
    "            folder_num = f.split('/')[-2]\n",
    "            filename = f.split('/')[-1]\n",
    "        output_folder = dest_dir + folder_num + '/'\n",
    "        \n",
    "        # If the output folder doesn't exist, create it\n",
    "        if not os.path.isdir(output_folder):\n",
    "            os.mkdir(output_folder)\n",
    "        \n",
    "        output_filepath = output_folder + filename\n",
    "\n",
    "        # Finally, we convert\n",
    "        converted = gdal.Warp(output_filepath, f,\n",
    "                              dstSRS=epsg_format, resampleAlg='near', format='GTiff')\n",
    "        converted = None\n",
    "        \n",
    "    print('Finished')"
   ]
  },
  {
   "cell_type": "code",
   "execution_count": 5,
   "metadata": {},
   "outputs": [],
   "source": [
    "def make_full_virtual_raster(src_dir, dest_dir, num_layers=10):\n",
    "    \"\"\"Combines the rasters in the src_dir into a single virtual raster\n",
    "    with proper prioritization. This is saved into the dest_dir.\n",
    "    Make sure the num_layers variable is the same as the number of tile layers\n",
    "    in your src_dir.\"\"\"\n",
    "    \n",
    "    src_dir = add_trailing_slash(src_dir)\n",
    "    dest_dir = add_trailing_slash(dest_dir)\n",
    "    \n",
    "    for layer in range(1, num_layers+1):\n",
    "        print('Making Layer', layer)\n",
    "        \n",
    "        # Get the filenames from the layer in question\n",
    "        filenames = glob.glob(src_dir + f'{layer}/*.jp2', recursive=True)\n",
    "        \n",
    "        output_file = dest_dir + f'Layer{layer}.vrt'\n",
    "    \n",
    "        vrt = gdal.BuildVRT(output_file, filenames, resolution='average', resampleAlg='nearest', srcNodata=0)\n",
    "    \n",
    "        vrt.FlushCache()\n",
    "    \n",
    "    print('Making full raster')\n",
    "\n",
    "    # To make the full raster, we combine every layer. Do it in reverse order because (I believe)\n",
    "    # the last items in the list are prioritized.\n",
    "\n",
    "    input_files = [dest_dir + f'Layer{i}.vrt' for i in reversed(range(1, num_layers+1))]\n",
    "    \n",
    "    output_file = dest_dir + 'full.vrt'\n",
    "\n",
    "    vrt = gdal.BuildVRT(output_file, input_files, resolution='average', resampleAlg='nearest', srcNodata=0)\n",
    "\n",
    "    vrt.FlushCache()\n",
    "\n",
    "    print('Finished')"
   ]
  },
  {
   "cell_type": "code",
   "execution_count": null,
   "metadata": {},
   "outputs": [],
   "source": []
  }
 ],
 "metadata": {
  "kernelspec": {
   "display_name": "staging",
   "language": "python",
   "name": "staging"
  },
  "language_info": {
   "codemirror_mode": {
    "name": "ipython",
    "version": 3
   },
   "file_extension": ".py",
   "mimetype": "text/x-python",
   "name": "python",
   "nbconvert_exporter": "python",
   "pygments_lexer": "ipython3",
   "version": "3.7.6"
  }
 },
 "nbformat": 4,
 "nbformat_minor": 4
}
