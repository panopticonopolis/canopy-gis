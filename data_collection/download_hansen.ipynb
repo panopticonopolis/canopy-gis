{
 "cells": [
  {
   "cell_type": "code",
   "execution_count": 48,
   "metadata": {},
   "outputs": [],
   "source": [
    "from bs4 import BeautifulSoup\n",
    "from clint.textui import progress\n",
    "import pprint\n",
    "import requests\n",
    "import re\n",
    "import sys\n",
    "import urllib\n",
    "import os"
   ]
  },
  {
   "cell_type": "code",
   "execution_count": 49,
   "metadata": {},
   "outputs": [
    {
     "name": "stdout",
     "output_type": "stream",
     "text": [
      "https://storage.googleapis.com/earthenginepartners-hansen/GFC-2017-v1.5/Hansen_GFC-2017-v1.5_\n",
      "https://storage.googleapis.com/earthenginepartners-hansen/GFC-2018-v1.6/Hansen_GFC-2018-v1.6_\n",
      "https://storage.googleapis.com/earthenginepartners-hansen/GFC-2019-v1.7/Hansen_GFC-2019-v1.7_\n"
     ]
    }
   ],
   "source": [
    "file_base = ['loss', 'gain', 'lossyear', 'datamask','last']\n",
    "geo_base = [\"10N_010E.tif\",\"10N_020E.tif\",\"00N_010E.tif\",\"00N_020E.tif\",\"10S_010E.tif\",\"10S_020E.tif\"]\n",
    "files_to_download = {}\n",
    "\n",
    "for i in range(5,8):\n",
    "    temp_file_list = []\n",
    "    base_url = f'https://earthenginepartners.appspot.com/science-2013-global-forest/download_v1.{i}.html'\n",
    "    page = requests.get(base_url)\n",
    "    soup = BeautifulSoup(page.content, 'html.parser')\n",
    "    script = str(soup.find(\"script\"))\n",
    "    base_file_url = re.findall(\"(?<==\\s')(.*)(?=';)\",script)[0]\n",
    "    print(base_file_url)\n",
    "    for f in file_base:\n",
    "        for g in geo_base:\n",
    "            temp_file_list.append(base_file_url + f + \"_\"+ g)\n",
    "    files_to_download[base_url[:-1]] = temp_file_list"
   ]
  },
  {
   "cell_type": "code",
   "execution_count": 50,
   "metadata": {},
   "outputs": [
    {
     "ename": "OSError",
     "evalue": "[Errno 28] No space left on device",
     "output_type": "error",
     "traceback": [
      "\u001b[0;31m---------------------------------------------------------------------------\u001b[0m",
      "\u001b[0;31mOSError\u001b[0m                                   Traceback (most recent call last)",
      "\u001b[0;32m<ipython-input-50-09ee8231a821>\u001b[0m in \u001b[0;36m<module>\u001b[0;34m\u001b[0m\n\u001b[1;32m     14\u001b[0m             \u001b[0;32mfor\u001b[0m \u001b[0mch\u001b[0m \u001b[0;32min\u001b[0m \u001b[0mprogress\u001b[0m\u001b[0;34m.\u001b[0m\u001b[0mbar\u001b[0m\u001b[0;34m(\u001b[0m\u001b[0mr\u001b[0m\u001b[0;34m.\u001b[0m\u001b[0miter_content\u001b[0m\u001b[0;34m(\u001b[0m\u001b[0mchunk_size\u001b[0m \u001b[0;34m=\u001b[0m \u001b[0;36m2391975\u001b[0m\u001b[0;34m)\u001b[0m\u001b[0;34m,\u001b[0m \u001b[0mexpected_size\u001b[0m\u001b[0;34m=\u001b[0m\u001b[0;34m(\u001b[0m\u001b[0mtotal_length\u001b[0m\u001b[0;34m/\u001b[0m\u001b[0;36m1024\u001b[0m\u001b[0;34m)\u001b[0m \u001b[0;34m+\u001b[0m \u001b[0;36m1\u001b[0m\u001b[0;34m)\u001b[0m\u001b[0;34m:\u001b[0m\u001b[0;34m\u001b[0m\u001b[0;34m\u001b[0m\u001b[0m\n\u001b[1;32m     15\u001b[0m                 \u001b[0;32mif\u001b[0m \u001b[0mch\u001b[0m\u001b[0;34m:\u001b[0m\u001b[0;34m\u001b[0m\u001b[0;34m\u001b[0m\u001b[0m\n\u001b[0;32m---> 16\u001b[0;31m                     \u001b[0mf\u001b[0m\u001b[0;34m.\u001b[0m\u001b[0mwrite\u001b[0m\u001b[0;34m(\u001b[0m\u001b[0mch\u001b[0m\u001b[0;34m)\u001b[0m\u001b[0;34m\u001b[0m\u001b[0;34m\u001b[0m\u001b[0m\n\u001b[0m",
      "\u001b[0;31mOSError\u001b[0m: [Errno 28] No space left on device"
     ]
    }
   ],
   "source": [
    "for count,key in enumerate(files_to_download.keys(),2017):\n",
    "    if key == 'https://earthenginepartners.appspot.com/science-2013-global-forest/download_v1.0.htm':\n",
    "        continue\n",
    "    for file_url in files_to_download[key]: \n",
    "        filename = file_url.rsplit('/',1)[1]\n",
    "        new_file_path = \"/Users/purgatorid/Documents/GitHub/canopy-gis/data_collection/data/Full_Congo_Hansen/\" + str(count) + \"/\" + filename\n",
    "        try:\n",
    "            os.mkdir(\"./data/Full_Congo_Hansen/\" + str(count))\n",
    "        except:\n",
    "            pass\n",
    "        r = requests.get(file_url, stream=True)\n",
    "        with open(new_file_path, 'wb') as f:\n",
    "            total_length = int(r.headers.get('content-length'))\n",
    "            for ch in progress.bar(r.iter_content(chunk_size = 2391975), expected_size=(total_length/1024) + 1):\n",
    "                if ch:\n",
    "                    f.write(ch)"
   ]
  },
  {
   "cell_type": "code",
   "execution_count": null,
   "metadata": {},
   "outputs": [],
   "source": []
  }
 ],
 "metadata": {
  "kernelspec": {
   "display_name": "data_collection",
   "language": "python",
   "name": "data_collection"
  },
  "language_info": {
   "codemirror_mode": {
    "name": "ipython",
    "version": 3
   },
   "file_extension": ".py",
   "mimetype": "text/x-python",
   "name": "python",
   "nbconvert_exporter": "python",
   "pygments_lexer": "ipython3",
   "version": "3.7.5"
  }
 },
 "nbformat": 4,
 "nbformat_minor": 4
}
