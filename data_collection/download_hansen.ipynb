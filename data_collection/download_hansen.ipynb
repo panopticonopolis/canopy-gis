{
 "cells": [
  {
   "cell_type": "code",
   "execution_count": 1,
   "metadata": {},
   "outputs": [],
   "source": [
    "from bs4 import BeautifulSoup\n",
    "import pprint\n",
    "import requests\n",
    "import re\n",
    "import sys\n",
    "import urllib\n",
    "import os"
   ]
  },
  {
   "cell_type": "code",
   "execution_count": 2,
   "metadata": {},
   "outputs": [
    {
     "name": "stdout",
     "output_type": "stream",
     "text": [
      "http://commondatastorage.googleapis.com/earthenginepartners-hansen/GFC2013/Hansen_GFC2013_\n",
      "http://commondatastorage.googleapis.com/earthenginepartners-hansen/GFC2014/Hansen_GFC2014_\n",
      "https://storage.googleapis.com/earthenginepartners-hansen/GFC2015/Hansen_GFC2015_\n",
      "https://storage.googleapis.com/earthenginepartners-hansen/GFC-2015-v1.3/Hansen_GFC-2015-v1.3_\n",
      "https://storage.googleapis.com/earthenginepartners-hansen/GFC-2016-v1.4/Hansen_GFC-2016-v1.4_\n",
      "https://storage.googleapis.com/earthenginepartners-hansen/GFC-2017-v1.5/Hansen_GFC-2017-v1.5_\n",
      "https://storage.googleapis.com/earthenginepartners-hansen/GFC-2018-v1.6/Hansen_GFC-2018-v1.6_\n",
      "https://storage.googleapis.com/earthenginepartners-hansen/GFC-2019-v1.7/Hansen_GFC-2019-v1.7_\n"
     ]
    }
   ],
   "source": [
    "file_base = ['treecover2000', 'loss', 'gain', 'lossyear', 'datamask', 'first', 'last']\n",
    "geo_base = [\"10N_010E.tif\",\"10N_020E.tif\",\"00N_010E.tif\",\"00N_020E.tif\",\"10S_010E.tif\",\"10S_020E.tif\"]\n",
    "files_to_download = {}\n",
    "\n",
    "for i in range(0,8):\n",
    "    temp_file_list = []\n",
    "    base_url = f'https://earthenginepartners.appspot.com/science-2013-global-forest/download_v1.{i}.html'\n",
    "    page = requests.get(base_url)\n",
    "    soup = BeautifulSoup(page.content, 'html.parser')\n",
    "    script = str(soup.find(\"script\"))\n",
    "    base_file_url = re.findall(\"(?<==\\s')(.*)(?=';)\",script)[0]\n",
    "    print(base_file_url)\n",
    "    for f in file_base:\n",
    "        for g in geo_base:\n",
    "            temp_file_list.append(base_file_url + f + \"_\"+ g)\n",
    "    files_to_download[base_url[:-1]] = temp_file_list"
   ]
  },
  {
   "cell_type": "code",
   "execution_count": null,
   "metadata": {},
   "outputs": [],
   "source": [
    "for count,key in enumerate(files_to_download.keys(),2012):\n",
    "    for file_url in files_to_download[key]:\n",
    "        filename = file_url.rsplit('/',1)[1]\n",
    "        r = requests.get(file_url, allow_redirects=True)\n",
    "        new_file_path = \"/Users/purgatorid/Documents/GitHub/canopy-gis/data_collection/data/Full_Congo_Hansen/\" + str(count) + \"/\" + filename\n",
    "        try:\n",
    "            os.mkdir(\"./data/Full_Congo_Hansen/\")\n",
    "            os.mkdir(\"./data/Full_Congo_Hansen/\" + str(count))\n",
    "        except:\n",
    "            continue\n",
    "        with open(new_file_path, 'wb') as f:\n",
    "            f.write(r.content)\n",
    "        f.close()"
   ]
  },
  {
   "cell_type": "code",
   "execution_count": null,
   "metadata": {},
   "outputs": [],
   "source": []
  }
 ],
 "metadata": {
  "kernelspec": {
   "display_name": "data_collection",
   "language": "python",
   "name": "data_collection"
  },
  "language_info": {
   "codemirror_mode": {
    "name": "ipython",
    "version": 3
   },
   "file_extension": ".py",
   "mimetype": "text/x-python",
   "name": "python",
   "nbconvert_exporter": "python",
   "pygments_lexer": "ipython3",
   "version": "3.7.5"
  }
 },
 "nbformat": 4,
 "nbformat_minor": 4
}
