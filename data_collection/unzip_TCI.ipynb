{
 "cells": [
  {
   "cell_type": "code",
   "execution_count": null,
   "metadata": {},
   "outputs": [],
   "source": [
    "import os\n",
    "\n",
    "with zipfile.ZipFile('/path/to/my_file.apk') as z:\n",
    "    with open('temp/icon.png', 'wb') as f:\n",
    "        f.write(z.read('/res/drawable/icon.png'))"
   ]
  },
  {
   "cell_type": "code",
   "execution_count": 5,
   "metadata": {},
   "outputs": [
    {
     "name": "stdout",
     "output_type": "stream",
     "text": [
      "\u001b[1m\u001b[36m$RECYCLE.BIN\u001b[m\u001b[m                 \u001b[30m\u001b[43mOmniGraffle\u001b[m\u001b[m\n",
      "\u001b[30m\u001b[43mAdobe\u001b[m\u001b[m                        \u001b[1m\u001b[36mParallels\u001b[m\u001b[m\n",
      "\u001b[30m\u001b[43mAndroid_Root\u001b[m\u001b[m                 \u001b[30m\u001b[43mPersonal Financials\u001b[m\u001b[m\n",
      "\u001b[1m\u001b[36mArcGIS\u001b[m\u001b[m                       \u001b[30m\u001b[43mPrevious Employers\u001b[m\u001b[m\n",
      "\u001b[1m\u001b[36mArcGIS 10.5\u001b[m\u001b[m                  \u001b[30m\u001b[43mPro Tools\u001b[m\u001b[m\n",
      "\u001b[30m\u001b[43mAudio\u001b[m\u001b[m                        \u001b[30m\u001b[43mProjects\u001b[m\u001b[m\n",
      "\u001b[1m\u001b[36mDBX260_Config_Files\u001b[m\u001b[m          \u001b[30m\u001b[43mRDC Connections\u001b[m\u001b[m\n",
      "\u001b[30m\u001b[43mDesign\u001b[m\u001b[m                       \u001b[1m\u001b[36mRecordings\u001b[m\u001b[m\n",
      "\u001b[30m\u001b[43mDev Projects\u001b[m\u001b[m                 \u001b[30m\u001b[43mRoom Arranger\u001b[m\u001b[m\n",
      "\u001b[30m\u001b[43mDocuments\u001b[m\u001b[m                    \u001b[30m\u001b[43mSidify Music Converter\u001b[m\u001b[m\n",
      "\u001b[30m\u001b[43mFileZilla.app\u001b[m\u001b[m                \u001b[30m\u001b[43mSmaart v8\u001b[m\u001b[m\n",
      "\u001b[30m\u001b[43mFiles\u001b[m\u001b[m                        \u001b[1m\u001b[36mSnagit\u001b[m\u001b[m\n",
      "\u001b[30m\u001b[43mGitHub\u001b[m\u001b[m                       \u001b[30m\u001b[43mSoftware\u001b[m\u001b[m\n",
      "\u001b[30m\u001b[43mH pics for mom\u001b[m\u001b[m               \u001b[30m\u001b[43mUniversal Audio\u001b[m\u001b[m\n",
      "\u001b[30m\u001b[43mImaging\u001b[m\u001b[m                      \u001b[1m\u001b[36mZoom\u001b[m\u001b[m\n",
      "\u001b[30m\u001b[43mMATLAB\u001b[m\u001b[m                       desktop.ini\n",
      "\u001b[30m\u001b[43mMacKeeper Backups\u001b[m\u001b[m            \u001b[30m\u001b[43meBay Selling\u001b[m\u001b[m\n",
      "\u001b[30m\u001b[43mMax\u001b[m\u001b[m                          \u001b[30m\u001b[43meBooks\u001b[m\u001b[m\n",
      "\u001b[30m\u001b[43mMicrosoft User Data\u001b[m\u001b[m          \u001b[30m\u001b[43miZotope\u001b[m\u001b[m\n",
      "\u001b[30m\u001b[43mMy Notes\u001b[m\u001b[m                     \u001b[30m\u001b[43miZotope Nectar\u001b[m\u001b[m\n",
      "\u001b[30m\u001b[43mMy Pictures\u001b[m\u001b[m                  \u001b[30m\u001b[43miZotope Stutter Edit Presets\u001b[m\u001b[m\n",
      "\u001b[30m\u001b[43mMy Videos\u001b[m\u001b[m                    \u001b[30m\u001b[43mrekordbox\u001b[m\u001b[m\n",
      "\u001b[30m\u001b[43mNative Instruments\u001b[m\u001b[m           syncfolderspro.log\n"
     ]
    }
   ],
   "source": [
    "!cd .. && cd .. && cd .. && cd .. && "
   ]
  },
  {
   "cell_type": "code",
   "execution_count": null,
   "metadata": {},
   "outputs": [],
   "source": []
  }
 ],
 "metadata": {
  "kernelspec": {
   "display_name": "data_collection",
   "language": "python",
   "name": "data_collection"
  },
  "language_info": {
   "codemirror_mode": {
    "name": "ipython",
    "version": 3
   },
   "file_extension": ".py",
   "mimetype": "text/x-python",
   "name": "python",
   "nbconvert_exporter": "python",
   "pygments_lexer": "ipython3",
   "version": "3.7.5"
  }
 },
 "nbformat": 4,
 "nbformat_minor": 4
}
