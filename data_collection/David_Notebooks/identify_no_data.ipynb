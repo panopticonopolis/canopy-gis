{
 "cells": [
  {
   "cell_type": "code",
   "execution_count": 1,
   "metadata": {},
   "outputs": [],
   "source": [
    "import geopandas as gpd\n",
    "import os"
   ]
  },
  {
   "cell_type": "code",
   "execution_count": 6,
   "metadata": {},
   "outputs": [
    {
     "data": {
      "text/plain": [
       "'T32MME_20151023T094042_TCI.jp2'"
      ]
     },
     "execution_count": 6,
     "metadata": {},
     "output_type": "execute_result"
    }
   ],
   "source": [
    "root = 'D:/canopy_data/reprojected-rasters/2015/'\n",
    "tci_files = os.listdir(root)\n",
    "tci_files[0]"
   ]
  },
  {
   "cell_type": "code",
   "execution_count": 7,
   "metadata": {},
   "outputs": [
    {
     "data": {
      "text/plain": [
       "'D:/canopy_data/reprojected-rasters/2015/T32MME_20151023T094042_TCI.jp2'"
      ]
     },
     "execution_count": 7,
     "metadata": {},
     "output_type": "execute_result"
    }
   ],
   "source": [
    "file1_uri = root + tci_files[0]\n",
    "file1_uri"
   ]
  },
  {
   "cell_type": "code",
   "execution_count": 2,
   "metadata": {},
   "outputs": [],
   "source": [
    "import rasterio as rio"
   ]
  },
  {
   "cell_type": "code",
   "execution_count": 11,
   "metadata": {},
   "outputs": [],
   "source": [
    "with rio.open(file1_uri) as file1:\n",
    "    raster1 = file1.read()"
   ]
  },
  {
   "cell_type": "code",
   "execution_count": 12,
   "metadata": {},
   "outputs": [
    {
     "data": {
      "text/plain": [
       "array([[[  0,  70,  78, ...,   0,   0,   0],\n",
       "        [  0,  75,  74, ...,   0,   0,   0],\n",
       "        [  0,  76,  75, ...,   0,   0,   0],\n",
       "        ...,\n",
       "        [255, 255, 255, ...,   0,   0,   0],\n",
       "        [255, 255, 255, ...,   0,   0,   0],\n",
       "        [  0,   0,   0, ...,   0,   0,   0]],\n",
       "\n",
       "       [[  0,  80,  84, ...,   0,   0,   0],\n",
       "        [  0,  81,  81, ...,   0,   0,   0],\n",
       "        [  0,  82,  83, ...,   0,   0,   0],\n",
       "        ...,\n",
       "        [255, 255, 255, ...,   0,   0,   0],\n",
       "        [255, 255, 255, ...,   0,   0,   0],\n",
       "        [  0,   0,   0, ...,   0,   0,   0]],\n",
       "\n",
       "       [[  0, 105, 104, ...,   0,   0,   0],\n",
       "        [  0, 104, 107, ...,   0,   0,   0],\n",
       "        [  0, 105, 108, ...,   0,   0,   0],\n",
       "        ...,\n",
       "        [255, 255, 255, ...,   0,   0,   0],\n",
       "        [255, 255, 255, ...,   0,   0,   0],\n",
       "        [  0,   0,   0, ...,   0,   0,   0]]], dtype=uint8)"
      ]
     },
     "execution_count": 12,
     "metadata": {},
     "output_type": "execute_result"
    }
   ],
   "source": [
    "raster1"
   ]
  },
  {
   "cell_type": "code",
   "execution_count": 13,
   "metadata": {},
   "outputs": [
    {
     "data": {
      "text/plain": [
       "(3, 11017, 10944)"
      ]
     },
     "execution_count": 13,
     "metadata": {},
     "output_type": "execute_result"
    }
   ],
   "source": [
    "raster1.shape"
   ]
  },
  {
   "cell_type": "code",
   "execution_count": 14,
   "metadata": {},
   "outputs": [
    {
     "data": {
      "text/plain": [
       "array([[  0,  70,  78, ...,   0,   0,   0],\n",
       "       [  0,  75,  74, ...,   0,   0,   0],\n",
       "       [  0,  76,  75, ...,   0,   0,   0],\n",
       "       ...,\n",
       "       [255, 255, 255, ...,   0,   0,   0],\n",
       "       [255, 255, 255, ...,   0,   0,   0],\n",
       "       [  0,   0,   0, ...,   0,   0,   0]], dtype=uint8)"
      ]
     },
     "execution_count": 14,
     "metadata": {},
     "output_type": "execute_result"
    }
   ],
   "source": [
    "raster1[0]"
   ]
  },
  {
   "cell_type": "code",
   "execution_count": 21,
   "metadata": {},
   "outputs": [
    {
     "data": {
      "text/plain": [
       "array([[  0, 255,  10, ...,   0,   0,   0],\n",
       "       [  0,   4,   6, ...,   0,   0,   0],\n",
       "       [  0,   7,  10, ...,   0,   0,   0],\n",
       "       ...,\n",
       "       [253, 253, 253, ...,   0,   0,   0],\n",
       "       [253, 253, 253, ...,   0,   0,   0],\n",
       "       [  0,   0,   0, ...,   0,   0,   0]], dtype=uint8)"
      ]
     },
     "execution_count": 21,
     "metadata": {},
     "output_type": "execute_result"
    }
   ],
   "source": [
    "# https://note.nkmk.me/en/python-numpy-count/\n",
    "\n",
    "import numpy as np\n",
    "\n",
    "raster1_combined = raster1[0] + raster1[1] + raster1[2]\n",
    "raster1_combined"
   ]
  },
  {
   "cell_type": "code",
   "execution_count": 22,
   "metadata": {},
   "outputs": [
    {
     "data": {
      "text/plain": [
       "(11017, 10944)"
      ]
     },
     "execution_count": 22,
     "metadata": {},
     "output_type": "execute_result"
    }
   ],
   "source": [
    "raster1_combined.shape"
   ]
  },
  {
   "cell_type": "code",
   "execution_count": 25,
   "metadata": {},
   "outputs": [
    {
     "data": {
      "text/plain": [
       "array([[ True, False, False, ...,  True,  True,  True],\n",
       "       [ True, False, False, ...,  True,  True,  True],\n",
       "       [ True, False, False, ...,  True,  True,  True],\n",
       "       ...,\n",
       "       [False, False, False, ...,  True,  True,  True],\n",
       "       [False, False, False, ...,  True,  True,  True],\n",
       "       [ True,  True,  True, ...,  True,  True,  True]])"
      ]
     },
     "execution_count": 25,
     "metadata": {},
     "output_type": "execute_result"
    }
   ],
   "source": [
    "raster1_combined <= 3"
   ]
  },
  {
   "cell_type": "code",
   "execution_count": 24,
   "metadata": {},
   "outputs": [
    {
     "data": {
      "text/plain": [
       "0.5584822276922374"
      ]
     },
     "execution_count": 24,
     "metadata": {},
     "output_type": "execute_result"
    }
   ],
   "source": [
    "rows = raster1_combined.shape[0]\n",
    "columns = raster1_combined.shape[1]\n",
    "\n",
    "np.count_nonzero(raster1_combined <= 3) / (rows * columns)"
   ]
  },
  {
   "cell_type": "code",
   "execution_count": 8,
   "metadata": {},
   "outputs": [],
   "source": [
    "import numpy as np\n",
    "import rasterio as rio\n",
    "\n",
    "def detect_missing_pixels(filename, na_value=3):\n",
    "    with rio.open(filename) as f:\n",
    "        raster = f.read()\n",
    "        \n",
    "    raster_combined = raster[0] + raster[1] + raster[2]\n",
    "    rows = raster_combined.shape[0]\n",
    "    columns = raster_combined.shape[1]\n",
    "    \n",
    "    missing = np.count_nonzero(raster_combined <= na_value)\n",
    "    total_pixels = (rows * columns)\n",
    "    \n",
    "    return (missing, total_pixels)"
   ]
  },
  {
   "cell_type": "code",
   "execution_count": 28,
   "metadata": {},
   "outputs": [
    {
     "data": {
      "text/plain": [
       "0.5584822276922374"
      ]
     },
     "execution_count": 28,
     "metadata": {},
     "output_type": "execute_result"
    }
   ],
   "source": [
    "detect_missing_pixels(file1_uri)"
   ]
  },
  {
   "cell_type": "code",
   "execution_count": 6,
   "metadata": {},
   "outputs": [],
   "source": [
    "from sentinelsat import SentinelAPI, read_geojson, geojson_to_wkt\n",
    "from datetime import date\n",
    "from env_vars import sentinel_username,sentinel_password\n",
    "import glob\n",
    "import pandas as pd\n",
    "import subprocess\n",
    "\n",
    "\n",
    "def get_api():\n",
    "    \n",
    "    return SentinelAPI(sentinel_username, sentinel_password, \"https://scihub.copernicus.eu/apihub/\")\n",
    "\n",
    "\n",
    "def get_products_df(api, footprint, date_start, date_end,\n",
    "                 area='IsWithin', raw='1C',\n",
    "                 platform='Sentinel-2', cloudcover=(1,5)):\n",
    "    \n",
    "    products = api.query(footprint,\n",
    "                         date=(date_start, date_end),\n",
    "                         area_relation=area,\n",
    "                         raw=raw,\n",
    "                         platformname=platform,\n",
    "                         cloudcoverpercentage=cloudcover)\n",
    "    \n",
    "    return api.to_dataframe(products)\n",
    "\n",
    "\n",
    "def get_products_df_for_year(api, footprint, year, cloudcover):\n",
    "    months_dict = {\n",
    "        1: 31,\n",
    "        2: 28,\n",
    "        3: 31,\n",
    "        4: 30,\n",
    "        5: 31,\n",
    "        6: 30,\n",
    "        7: 31,\n",
    "        8: 31,\n",
    "        9: 30,\n",
    "        10: 31,\n",
    "        11: 30,\n",
    "        12: 31\n",
    "    }\n",
    "    \n",
    "    month_start = 1\n",
    "    month_end = 13\n",
    "    if year < 2015 or year > 2020:\n",
    "        return None\n",
    "    elif year == 2015:\n",
    "        month_start = 7\n",
    "    elif year == 2020:\n",
    "        months_dict[2] = 29\n",
    "        month_end = 8\n",
    "\n",
    "    products_df = pd.DataFrame()\n",
    "    for month in range(month_start, month_end):\n",
    "        print('getting month', month)\n",
    "        date_start = date(year, month, 1)\n",
    "        date_end = date(year, month, months_dict[month])\n",
    "        products_df_2 = get_products_df(api, footprint, date_start, date_end, cloudcover=cloudcover)\n",
    "        products_df = pd.concat([products_df, products_df_2])\n",
    "        products_df_3 = get_products_df(api, footprint, date_start, date_end, area='Intersects', cloudcover=cloudcover)\n",
    "        products_df = pd.concat([products_df, products_df_2])\n",
    "        print('Products so far:', len(products_df))\n",
    "        \n",
    "    return products_df\n",
    "\n",
    "\n",
    "def remove_tile_id_duplicates(products_df):\n",
    "    products_df = products_df.reset_index()\n",
    "    products_df = products_df.rename(columns={'index': 'sentinel_id'})\n",
    "    products_df = products_df.drop_duplicates(subset=['tileid'])\n",
    "    \n",
    "    return products_df\n",
    "\n",
    "\n",
    "def find_ee_index_matches(api, products_df, ee_index):\n",
    "    \n",
    "    if len(products_df) == 0:\n",
    "        print('No search results')\n",
    "        return []\n",
    "\n",
    "    ee_index_2 = ee_index.reset_index()\n",
    "    merged = products_df.merge(ee_index_2, left_on='title', right_on='PRODUCT_ID')\n",
    "    \n",
    "    print(len(merged), 'total rows')\n",
    "            \n",
    "    return merged\n",
    "\n",
    "\n",
    "def generate_tci_uri(ee_index, row):\n",
    "    uri = ee_index.loc[row, 'BASE_URL']\n",
    "    uri += '/GRANULE/'\n",
    "    granule_id = ee_index.loc[row, 'GRANULE_ID']\n",
    "    uri += granule_id\n",
    "    uri += '/IMG_DATA/'\n",
    "    tile_id = granule_id.split('_')[1]\n",
    "    date = ee_index.loc[row, 'DATATAKE_IDENTIFIER'].split('_')[1]\n",
    "    uri += f'{tile_id}_{date}_TCI.jp2'\n",
    "    \n",
    "    return uri\n",
    "\n",
    "\n",
    "def download_tcis(ee_index, rows, dest_folder):\n",
    "    \n",
    "    cloud_env = r\"C:\\Users\\David\\AppData\\Local\\Google\\Cloud SDK\\cloud_env.bat\"\n",
    "    \n",
    "    for i, row in enumerate(rows):\n",
    "        # https://stackoverflow.com/questions/5419389/how-to-overwrite-the-previous-print-to-stdout-in-python\n",
    "        print(f'Downloading file {i} of {len(rows)}\\r', end='')\n",
    "        uri = generate_tci_uri(ee_index, row)\n",
    "        subprocess.run([cloud_env, '&&', 'gsutil', 'cp', uri, dest_folder])\n",
    "        \n",
    "        \n",
    "def get_tcis_for_year(year, footprint, ee_index, dest_folder, raw='2A', cloudcover=(1,5), remove_dupes=False):\n",
    "    \n",
    "    api = get_api()\n",
    "    \n",
    "    print('getting products')\n",
    "    if year < 2015:\n",
    "        print('ERROR: Year must be 2014 or above')\n",
    "        return None\n",
    "    else:\n",
    "        products_df = get_products_df_for_year(api, footprint, year, cloudcover)\n",
    "    \n",
    "    if remove_dupes:\n",
    "        products_df = remove_tile_id_duplicates(products_df)\n",
    "\n",
    "    merged = find_ee_index_matches(api, products_df, ee_index)\n",
    "    rows = merged['index'].tolist()\n",
    "    print('downloading tcis')\n",
    "    download_tcis(ee_index, rows, dest_folder)\n",
    "    \n",
    "    return merged"
   ]
  },
  {
   "cell_type": "code",
   "execution_count": 12,
   "metadata": {},
   "outputs": [
    {
     "data": {
      "text/plain": [
       "['T32MME_20151023T094042_TCI.jp2',\n",
       " 'T32MPD_20151226T092412_TCI.jp2',\n",
       " 'T32MPE_20151226T092412_TCI.jp2',\n",
       " 'T32MQD_20151219T093412_TCI.jp2',\n",
       " 'T32MRA_20151223T091412_TCI.jp2',\n",
       " 'T32MRD_20151226T092412_TCI.jp2',\n",
       " 'T32MRE_20151226T092412_TCI.jp2',\n",
       " 'T32NMH_20151122T094312_TCI.jp2',\n",
       " 'T32NML_20151222T094412_TCI.jp2',\n",
       " 'T32NNG_20150913T094016_TCI.jp2',\n",
       " 'T32NNH_20150913T094016_TCI.jp2',\n",
       " 'T32NNJ_20151222T094412_TCI.jp2',\n",
       " 'T32NNK_20151209T093402_TCI.jp2',\n",
       " 'T32NNL_20151222T094412_TCI.jp2',\n",
       " 'T32NPH_20151229T093412_TCI.jp2',\n",
       " 'T32NPJ_20151229T093412_TCI.jp2',\n",
       " 'T32NQH_20151226T092412_TCI.jp2',\n",
       " 'T32NQJ_20151216T092412_TCI.jp2',\n",
       " 'T32NRG_20151226T092412_TCI.jp2',\n",
       " 'T32NRH_20151219T093412_TCI.jp2',\n",
       " 'T32NRJ_20151216T092412_TCI.jp2',\n",
       " 'T32NRK_20151206T092352_TCI.jp2',\n",
       " 'T33MTU_20151223T091412_TCI.jp2',\n",
       " 'T33MTV_20151226T092412_TCI.jp2',\n",
       " 'T33MUT_20151126T092322_TCI.jp2',\n",
       " 'T33MUU_20151226T092412_TCI.jp2',\n",
       " 'T33MUV_20151226T092412_TCI.jp2',\n",
       " 'T33MWV_20150924T090726_TCI.jp2',\n",
       " 'T33MXU_20150805T091006_TCI.jp2',\n",
       " 'T33MXV_20150924T090726_TCI.jp2',\n",
       " 'T33MZT_20151227T085402_TCI.jp2',\n",
       " 'T33MZU_20151217T085352_TCI.jp2',\n",
       " 'T33MZV_20150908T090946_TCI.jp2',\n",
       " 'T33NTA_20151226T092412_TCI.jp2',\n",
       " 'T33NTB_20151226T092412_TCI.jp2',\n",
       " 'T33NTC_20151216T092412_TCI.jp2',\n",
       " 'T33NTD_20151206T092352_TCI.jp2',\n",
       " 'T33NTE_20151206T092352_TCI.jp2',\n",
       " 'T33NUA_20151126T092322_TCI.jp2',\n",
       " 'T33NUB_20151223T091412_TCI.jp2',\n",
       " 'T33NUC_20151206T092352_TCI.jp2',\n",
       " 'T33NUD_20151206T092352_TCI.jp2',\n",
       " 'T33NUE_20151206T092352_TCI.jp2',\n",
       " 'T33NVA_20151004T090826_TCI.jp2',\n",
       " 'T33NVB_20151223T091412_TCI.jp2',\n",
       " 'T33NVC_20151126T092322_TCI.jp2',\n",
       " 'T33NVD_20151206T092352_TCI.jp2',\n",
       " 'T33NVE_20151206T092352_TCI.jp2',\n",
       " 'T33NWA_20150924T090726_TCI.jp2',\n",
       " 'T33NWB_20150924T090726_TCI.jp2',\n",
       " 'T33NWC_20151223T091412_TCI.jp2',\n",
       " 'T33NWD_20151223T091412_TCI.jp2',\n",
       " 'T33NXA_20151004T090826_TCI.jp2',\n",
       " 'T33NXB_20151223T091412_TCI.jp2',\n",
       " 'T33NXC_20151120T090252_TCI.jp2',\n",
       " 'T33NXD_20151120T090252_TCI.jp2',\n",
       " 'T33NYC_20151120T090252_TCI.jp2',\n",
       " 'T33NYD_20151120T090252_TCI.jp2',\n",
       " 'T33NYE_20151120T090252_TCI.jp2',\n",
       " 'T33NZA_20150908T090946_TCI.jp2',\n",
       " 'T33NZC_20151120T090252_TCI.jp2',\n",
       " 'T33NZD_20151120T090252_TCI.jp2',\n",
       " 'T34MBC_20151001T085756_TCI.jp2',\n",
       " 'T34MBD_20151227T085402_TCI.jp2',\n",
       " 'T34MBE_20150908T090946_TCI.jp2',\n",
       " 'T34MCB_20150918T084736_TCI.jp2',\n",
       " 'T34MCC_20150918T084736_TCI.jp2',\n",
       " 'T34MDA_20150918T084736_TCI.jp2',\n",
       " 'T34MDB_20150918T084736_TCI.jp2',\n",
       " 'T34MDC_20150809T090946_TCI.jp2',\n",
       " 'T34MDD_20150727T085946_TCI.jp2',\n",
       " 'T34MDE_20150727T085946_TCI.jp2',\n",
       " 'T34MEC_20150727T085946_TCI.jp2',\n",
       " 'T34MED_20150727T085946_TCI.jp2',\n",
       " 'T34MEE_20150727T085946_TCI.jp2',\n",
       " 'T34MFA_20150922T082736_TCI.jp2',\n",
       " 'T34MFB_20150922T082736_TCI.jp2',\n",
       " 'T34MFC_20150727T085946_TCI.jp2',\n",
       " 'T34MFD_20150727T085946_TCI.jp2',\n",
       " 'T34MFE_20150727T085946_TCI.jp2',\n",
       " 'T34MFV_20150912T082736_TCI.jp2',\n",
       " 'T34MGA_20150922T082736_TCI.jp2',\n",
       " 'T34MGB_20151211T083342_TCI.jp2',\n",
       " 'T34MGC_20150727T085946_TCI.jp2',\n",
       " 'T34MGD_20150727T085946_TCI.jp2',\n",
       " 'T34MGE_20150727T085946_TCI.jp2',\n",
       " 'T34MHC_20151211T083342_TCI.jp2',\n",
       " 'T34MHD_20151211T083342_TCI.jp2',\n",
       " 'T34MHE_20150826T085946_TCI.jp2',\n",
       " 'T34NBH_20151127T085312_TCI.jp2',\n",
       " 'T34NBJ_20151120T090252_TCI.jp2',\n",
       " 'T34NCH_20151120T090252_TCI.jp2',\n",
       " 'T34NCJ_20151001T085756_TCI.jp2',\n",
       " 'T34NDF_20151207T085342_TCI.jp2',\n",
       " 'T34NDG_20151207T085342_TCI.jp2',\n",
       " 'T34NDH_20151127T085312_TCI.jp2',\n",
       " 'T34NDJ_20151127T085312_TCI.jp2',\n",
       " 'T34NEF_20150727T085946_TCI.jp2',\n",
       " 'T34NEG_20150806T085946_TCI.jp2',\n",
       " 'T34NEH_20150727T085946_TCI.jp2',\n",
       " 'T34NEJ_20151127T085312_TCI.jp2',\n",
       " 'T34NEK_20151204T084332_TCI.jp2',\n",
       " 'T34NFF_20150727T085946_TCI.jp2',\n",
       " 'T34NFG_20150727T085946_TCI.jp2',\n",
       " 'T34NFH_20150806T085946_TCI.jp2',\n",
       " 'T34NFJ_20151127T085312_TCI.jp2',\n",
       " 'T34NFK_20151127T085312_TCI.jp2',\n",
       " 'T34NGF_20150727T085946_TCI.jp2',\n",
       " 'T34NGG_20150727T085946_TCI.jp2',\n",
       " 'T34NGH_20150727T085946_TCI.jp2',\n",
       " 'T34NGK_20151204T084332_TCI.jp2',\n",
       " 'T34NGL_20151204T084332_TCI.jp2',\n",
       " 'T34NHF_20150727T085946_TCI.jp2',\n",
       " 'T34NHG_20150727T085946_TCI.jp2',\n",
       " 'T34NHH_20150727T085946_TCI.jp2',\n",
       " 'T34NHJ_20151204T084332_TCI.jp2',\n",
       " 'T34NHK_20151204T084332_TCI.jp2',\n",
       " 'T34NHL_20151204T084332_TCI.jp2',\n",
       " 'T35MKT_20151211T083342_TCI.jp2',\n",
       " 'T35MKU_20151211T083342_TCI.jp2',\n",
       " 'T35MKV_20151211T083342_TCI.jp2',\n",
       " 'T35MLR_20150912T082736_TCI.jp2',\n",
       " 'T35MLT_20150929T081736_TCI.jp2',\n",
       " 'T35MLV_20151211T083342_TCI.jp2',\n",
       " 'T35MMR_20150929T081736_TCI.jp2',\n",
       " 'T35MMS_20150929T081736_TCI.jp2',\n",
       " 'T35MMT_20150929T081736_TCI.jp2',\n",
       " 'T35MMU_20150929T081736_TCI.jp2',\n",
       " 'T35MMV_20151211T083342_TCI.jp2',\n",
       " 'T35MNS_20150929T081736_TCI.jp2',\n",
       " 'T35MNT_20150929T081736_TCI.jp2',\n",
       " 'T35MNU_20150929T081736_TCI.jp2',\n",
       " 'T35MNV_20150929T081736_TCI.jp2',\n",
       " 'T35MPS_20150929T081736_TCI.jp2',\n",
       " 'T35MPT_20150929T081736_TCI.jp2',\n",
       " 'T35MPU_20150708T081016_TCI.jp2',\n",
       " 'T35MPV_20150708T081016_TCI.jp2',\n",
       " 'T35NKA_20151211T083342_TCI.jp2',\n",
       " 'T35NKB_20151121T083242_TCI.jp2',\n",
       " 'T35NKC_20151211T083342_TCI.jp2',\n",
       " 'T35NKD_20151204T084332_TCI.jp2',\n",
       " 'T35NKE_20151204T084332_TCI.jp2',\n",
       " 'T35NLA_20151211T083342_TCI.jp2',\n",
       " 'T35NLB_20151211T083342_TCI.jp2',\n",
       " 'T35NLC_20151211T083342_TCI.jp2',\n",
       " 'T35NLD_20151211T083342_TCI.jp2',\n",
       " 'T35NLE_20151211T083342_TCI.jp2',\n",
       " 'T35NMA_20151211T083342_TCI.jp2',\n",
       " 'T35NMB_20151211T083342_TCI.jp2',\n",
       " 'T35NMC_20151211T083342_TCI.jp2',\n",
       " 'T35NMD_20151211T083342_TCI.jp2',\n",
       " 'T35NNB_20151228T082342_TCI.jp2',\n",
       " 'T35NNC_20150929T081736_TCI.jp2',\n",
       " 'T35NND_20150912T082736_TCI.jp2',\n",
       " 'T35NPA_20150708T081016_TCI.jp2',\n",
       " 'T35NPB_20150929T081736_TCI.jp2',\n",
       " 'T35NPC_20150929T081736_TCI.jp2',\n",
       " 'T35NQB_20150708T081016_TCI.jp2']"
      ]
     },
     "execution_count": 12,
     "metadata": {},
     "output_type": "execute_result"
    }
   ],
   "source": [
    "import os\n",
    "\n",
    "\n",
    "os.listdir('D:/canopy_data/2015/')"
   ]
  },
  {
   "cell_type": "code",
   "execution_count": 15,
   "metadata": {},
   "outputs": [],
   "source": [
    "def make_missing_pixels_df(year, footprint, ee_index, dest_folder, cloudcover=(1,5), remove_dupes=False):\n",
    "    \n",
    "    merged_df = get_tcis_for_year(year, footprint, ee_index, dest_folder, cloudcover, remove_dupes)\n",
    "    \n",
    "    print('detecting mixing pixels')\n",
    "    \n",
    "    filenames = [dest_folder + f for f in os.listdir(dest_folder)]\n",
    "    \n",
    "    missings = []\n",
    "    totals = []\n",
    "    missing_pixels_percents = []\n",
    "    for filename in filenames:\n",
    "        missing, total = detect_missing_pixels(filename)\n",
    "        missings.append(missing)\n",
    "        totals.append(total)\n",
    "        missing_pixels_percents.append(missing / total)\n",
    "        \n",
    "    merged_df['total_pixels'] = totals\n",
    "    merged_df['missing_pixels'] = missings\n",
    "    merged_df['percent_pixels_missing'] = missing_pixels_percents\n",
    "    \n",
    "    return merged_df"
   ]
  },
  {
   "cell_type": "code",
   "execution_count": 11,
   "metadata": {},
   "outputs": [],
   "source": [
    "ee_index = pd.read_csv('earth-engine-index.csv')\n",
    "\n",
    "footprint = geojson_to_wkt(read_geojson('./data/Geometry/republic_of_the_congo_boundary_bounding_box.geojson'))"
   ]
  },
  {
   "cell_type": "code",
   "execution_count": 16,
   "metadata": {},
   "outputs": [
    {
     "name": "stdout",
     "output_type": "stream",
     "text": [
      "getting products\n",
      "getting month 1\n",
      "Products so far: 56\n",
      "getting month 2\n",
      "Products so far: 114\n",
      "getting month 3\n",
      "Products so far: 144\n",
      "getting month 4\n",
      "Products so far: 198\n",
      "getting month 5\n",
      "Products so far: 260\n",
      "getting month 6\n",
      "Products so far: 296\n",
      "getting month 7\n",
      "Products so far: 346\n",
      "332 total rows\n",
      "downloading tcis\n",
      "detecting mixing pixels\n"
     ]
    },
    {
     "ename": "NameError",
     "evalue": "name 'missing_pixels_percent' is not defined",
     "output_type": "error",
     "traceback": [
      "\u001b[1;31m---------------------------------------------------------------------------\u001b[0m",
      "\u001b[1;31mNameError\u001b[0m                                 Traceback (most recent call last)",
      "\u001b[1;32m<ipython-input-16-1bd38d16d485>\u001b[0m in \u001b[0;36m<module>\u001b[1;34m\u001b[0m\n\u001b[1;32m----> 1\u001b[1;33m \u001b[0mdf\u001b[0m \u001b[1;33m=\u001b[0m \u001b[0mmake_missing_pixels_df\u001b[0m\u001b[1;33m(\u001b[0m\u001b[1;36m2020\u001b[0m\u001b[1;33m,\u001b[0m \u001b[0mfootprint\u001b[0m\u001b[1;33m,\u001b[0m \u001b[0mee_index\u001b[0m\u001b[1;33m,\u001b[0m \u001b[1;34m'D:/canopy_data/republic-of-the-congo/2020/'\u001b[0m\u001b[1;33m)\u001b[0m\u001b[1;33m\u001b[0m\u001b[1;33m\u001b[0m\u001b[0m\n\u001b[0m",
      "\u001b[1;32m<ipython-input-15-010a475a77fd>\u001b[0m in \u001b[0;36mmake_missing_pixels_df\u001b[1;34m(year, footprint, ee_index, dest_folder, cloudcover, remove_dupes)\u001b[0m\n\u001b[0;32m     14\u001b[0m         \u001b[0mmissings\u001b[0m\u001b[1;33m.\u001b[0m\u001b[0mappend\u001b[0m\u001b[1;33m(\u001b[0m\u001b[0mmissing\u001b[0m\u001b[1;33m)\u001b[0m\u001b[1;33m\u001b[0m\u001b[1;33m\u001b[0m\u001b[0m\n\u001b[0;32m     15\u001b[0m         \u001b[0mtotals\u001b[0m\u001b[1;33m.\u001b[0m\u001b[0mappend\u001b[0m\u001b[1;33m(\u001b[0m\u001b[0mtotal\u001b[0m\u001b[1;33m)\u001b[0m\u001b[1;33m\u001b[0m\u001b[1;33m\u001b[0m\u001b[0m\n\u001b[1;32m---> 16\u001b[1;33m         \u001b[0mmissing_pixels_percent\u001b[0m\u001b[1;33m.\u001b[0m\u001b[0mappend\u001b[0m\u001b[1;33m(\u001b[0m\u001b[0mmissing\u001b[0m \u001b[1;33m/\u001b[0m \u001b[0mtotal\u001b[0m\u001b[1;33m)\u001b[0m\u001b[1;33m\u001b[0m\u001b[1;33m\u001b[0m\u001b[0m\n\u001b[0m\u001b[0;32m     17\u001b[0m \u001b[1;33m\u001b[0m\u001b[0m\n\u001b[0;32m     18\u001b[0m     \u001b[0mmerged_df\u001b[0m\u001b[1;33m[\u001b[0m\u001b[1;34m'total_pixels'\u001b[0m\u001b[1;33m]\u001b[0m \u001b[1;33m=\u001b[0m \u001b[0mtotals\u001b[0m\u001b[1;33m\u001b[0m\u001b[1;33m\u001b[0m\u001b[0m\n",
      "\u001b[1;31mNameError\u001b[0m: name 'missing_pixels_percent' is not defined"
     ]
    }
   ],
   "source": [
    "df = make_missing_pixels_df(2020, footprint, ee_index, 'D:/canopy_data/republic-of-the-congo/2020/')"
   ]
  },
  {
   "cell_type": "code",
   "execution_count": 17,
   "metadata": {},
   "outputs": [
    {
     "data": {
      "text/html": [
       "<div>\n",
       "<style scoped>\n",
       "    .dataframe tbody tr th:only-of-type {\n",
       "        vertical-align: middle;\n",
       "    }\n",
       "\n",
       "    .dataframe tbody tr th {\n",
       "        vertical-align: top;\n",
       "    }\n",
       "\n",
       "    .dataframe thead th {\n",
       "        text-align: right;\n",
       "    }\n",
       "</style>\n",
       "<table border=\"1\" class=\"dataframe\">\n",
       "  <thead>\n",
       "    <tr style=\"text-align: right;\">\n",
       "      <th></th>\n",
       "      <th>filename</th>\n",
       "      <th>missing_pixels</th>\n",
       "      <th>total_pixels</th>\n",
       "      <th>missing_pixel_percentage</th>\n",
       "    </tr>\n",
       "  </thead>\n",
       "  <tbody>\n",
       "    <tr>\n",
       "      <th>0</th>\n",
       "      <td>D:/canopy_data/republic-of-the-congo/2020/T32N...</td>\n",
       "      <td>117949527</td>\n",
       "      <td>120560400</td>\n",
       "      <td>0.978344</td>\n",
       "    </tr>\n",
       "    <tr>\n",
       "      <th>1</th>\n",
       "      <td>D:/canopy_data/republic-of-the-congo/2020/T32N...</td>\n",
       "      <td>2934540</td>\n",
       "      <td>120560400</td>\n",
       "      <td>0.024341</td>\n",
       "    </tr>\n",
       "    <tr>\n",
       "      <th>2</th>\n",
       "      <td>D:/canopy_data/republic-of-the-congo/2020/T32N...</td>\n",
       "      <td>99133863</td>\n",
       "      <td>120560400</td>\n",
       "      <td>0.822275</td>\n",
       "    </tr>\n",
       "    <tr>\n",
       "      <th>3</th>\n",
       "      <td>D:/canopy_data/republic-of-the-congo/2020/T33M...</td>\n",
       "      <td>63034147</td>\n",
       "      <td>120560400</td>\n",
       "      <td>0.522843</td>\n",
       "    </tr>\n",
       "    <tr>\n",
       "      <th>4</th>\n",
       "      <td>D:/canopy_data/republic-of-the-congo/2020/T33M...</td>\n",
       "      <td>62729400</td>\n",
       "      <td>120560400</td>\n",
       "      <td>0.520315</td>\n",
       "    </tr>\n",
       "  </tbody>\n",
       "</table>\n",
       "</div>"
      ],
      "text/plain": [
       "                                            filename  missing_pixels  \\\n",
       "0  D:/canopy_data/republic-of-the-congo/2020/T32N...       117949527   \n",
       "1  D:/canopy_data/republic-of-the-congo/2020/T32N...         2934540   \n",
       "2  D:/canopy_data/republic-of-the-congo/2020/T32N...        99133863   \n",
       "3  D:/canopy_data/republic-of-the-congo/2020/T33M...        63034147   \n",
       "4  D:/canopy_data/republic-of-the-congo/2020/T33M...        62729400   \n",
       "\n",
       "   total_pixels  missing_pixel_percentage  \n",
       "0     120560400                  0.978344  \n",
       "1     120560400                  0.024341  \n",
       "2     120560400                  0.822275  \n",
       "3     120560400                  0.522843  \n",
       "4     120560400                  0.520315  "
      ]
     },
     "execution_count": 17,
     "metadata": {},
     "output_type": "execute_result"
    }
   ],
   "source": [
    "dest_folder = 'D:/canopy_data/republic-of-the-congo/2020/'\n",
    "\n",
    "filenames = [dest_folder + f for f in os.listdir(dest_folder)]\n",
    "    \n",
    "missings = []\n",
    "totals = []\n",
    "missing_pixels_percents = []\n",
    "for filename in filenames:\n",
    "    missing, total = detect_missing_pixels(filename)\n",
    "    missings.append(missing)\n",
    "    totals.append(total)\n",
    "    missing_pixels_percents.append(missing / total)\n",
    "        \n",
    "df = pd.DataFrame(data={'filename': filenames, 'missing_pixels': missings,\n",
    "                        'total_pixels': totals, 'missing_pixel_percentage': missing_pixels_percents})\n",
    "\n",
    "df.head()"
   ]
  },
  {
   "cell_type": "code",
   "execution_count": 20,
   "metadata": {},
   "outputs": [
    {
     "data": {
      "text/html": [
       "<div>\n",
       "<style scoped>\n",
       "    .dataframe tbody tr th:only-of-type {\n",
       "        vertical-align: middle;\n",
       "    }\n",
       "\n",
       "    .dataframe tbody tr th {\n",
       "        vertical-align: top;\n",
       "    }\n",
       "\n",
       "    .dataframe thead th {\n",
       "        text-align: right;\n",
       "    }\n",
       "</style>\n",
       "<table border=\"1\" class=\"dataframe\">\n",
       "  <thead>\n",
       "    <tr style=\"text-align: right;\">\n",
       "      <th></th>\n",
       "      <th>missing_pixels</th>\n",
       "      <th>total_pixels</th>\n",
       "      <th>missing_pixel_percentage</th>\n",
       "    </tr>\n",
       "  </thead>\n",
       "  <tbody>\n",
       "    <tr>\n",
       "      <th>count</th>\n",
       "      <td>1.660000e+02</td>\n",
       "      <td>166.0</td>\n",
       "      <td>166.000000</td>\n",
       "    </tr>\n",
       "    <tr>\n",
       "      <th>mean</th>\n",
       "      <td>3.685620e+07</td>\n",
       "      <td>120560400.0</td>\n",
       "      <td>0.305707</td>\n",
       "    </tr>\n",
       "    <tr>\n",
       "      <th>std</th>\n",
       "      <td>4.282124e+07</td>\n",
       "      <td>0.0</td>\n",
       "      <td>0.355185</td>\n",
       "    </tr>\n",
       "    <tr>\n",
       "      <th>min</th>\n",
       "      <td>6.099000e+03</td>\n",
       "      <td>120560400.0</td>\n",
       "      <td>0.000051</td>\n",
       "    </tr>\n",
       "    <tr>\n",
       "      <th>25%</th>\n",
       "      <td>6.068925e+05</td>\n",
       "      <td>120560400.0</td>\n",
       "      <td>0.005034</td>\n",
       "    </tr>\n",
       "    <tr>\n",
       "      <th>50%</th>\n",
       "      <td>9.227142e+06</td>\n",
       "      <td>120560400.0</td>\n",
       "      <td>0.076535</td>\n",
       "    </tr>\n",
       "    <tr>\n",
       "      <th>75%</th>\n",
       "      <td>7.472637e+07</td>\n",
       "      <td>120560400.0</td>\n",
       "      <td>0.619825</td>\n",
       "    </tr>\n",
       "    <tr>\n",
       "      <th>max</th>\n",
       "      <td>1.203229e+08</td>\n",
       "      <td>120560400.0</td>\n",
       "      <td>0.998030</td>\n",
       "    </tr>\n",
       "  </tbody>\n",
       "</table>\n",
       "</div>"
      ],
      "text/plain": [
       "       missing_pixels  total_pixels  missing_pixel_percentage\n",
       "count    1.660000e+02         166.0                166.000000\n",
       "mean     3.685620e+07   120560400.0                  0.305707\n",
       "std      4.282124e+07           0.0                  0.355185\n",
       "min      6.099000e+03   120560400.0                  0.000051\n",
       "25%      6.068925e+05   120560400.0                  0.005034\n",
       "50%      9.227142e+06   120560400.0                  0.076535\n",
       "75%      7.472637e+07   120560400.0                  0.619825\n",
       "max      1.203229e+08   120560400.0                  0.998030"
      ]
     },
     "execution_count": 20,
     "metadata": {},
     "output_type": "execute_result"
    }
   ],
   "source": [
    "df.describe()"
   ]
  },
  {
   "cell_type": "code",
   "execution_count": 21,
   "metadata": {},
   "outputs": [
    {
     "data": {
      "text/html": [
       "<div>\n",
       "<style scoped>\n",
       "    .dataframe tbody tr th:only-of-type {\n",
       "        vertical-align: middle;\n",
       "    }\n",
       "\n",
       "    .dataframe tbody tr th {\n",
       "        vertical-align: top;\n",
       "    }\n",
       "\n",
       "    .dataframe thead th {\n",
       "        text-align: right;\n",
       "    }\n",
       "</style>\n",
       "<table border=\"1\" class=\"dataframe\">\n",
       "  <thead>\n",
       "    <tr style=\"text-align: right;\">\n",
       "      <th></th>\n",
       "      <th>GRANULE_ID</th>\n",
       "      <th>PRODUCT_ID</th>\n",
       "      <th>DATATAKE_IDENTIFIER</th>\n",
       "      <th>MGRS_TILE</th>\n",
       "      <th>SENSING_TIME</th>\n",
       "      <th>TOTAL_SIZE</th>\n",
       "      <th>CLOUD_COVER</th>\n",
       "      <th>GEOMETRIC_QUALITY_FLAG</th>\n",
       "      <th>GENERATION_TIME</th>\n",
       "      <th>NORTH_LAT</th>\n",
       "      <th>SOUTH_LAT</th>\n",
       "      <th>WEST_LON</th>\n",
       "      <th>EAST_LON</th>\n",
       "      <th>BASE_URL</th>\n",
       "    </tr>\n",
       "  </thead>\n",
       "  <tbody>\n",
       "  </tbody>\n",
       "</table>\n",
       "</div>"
      ],
      "text/plain": [
       "Empty DataFrame\n",
       "Columns: [GRANULE_ID, PRODUCT_ID, DATATAKE_IDENTIFIER, MGRS_TILE, SENSING_TIME, TOTAL_SIZE, CLOUD_COVER, GEOMETRIC_QUALITY_FLAG, GENERATION_TIME, NORTH_LAT, SOUTH_LAT, WEST_LON, EAST_LON, BASE_URL]\n",
       "Index: []"
      ]
     },
     "execution_count": 21,
     "metadata": {},
     "output_type": "execute_result"
    }
   ],
   "source": [
    "ee_index[ee_index['PRODUCT_ID'].str.contains('L2A')]"
   ]
  },
  {
   "cell_type": "code",
   "execution_count": 22,
   "metadata": {},
   "outputs": [
    {
     "data": {
      "text/html": [
       "<div>\n",
       "<style scoped>\n",
       "    .dataframe tbody tr th:only-of-type {\n",
       "        vertical-align: middle;\n",
       "    }\n",
       "\n",
       "    .dataframe tbody tr th {\n",
       "        vertical-align: top;\n",
       "    }\n",
       "\n",
       "    .dataframe thead th {\n",
       "        text-align: right;\n",
       "    }\n",
       "</style>\n",
       "<table border=\"1\" class=\"dataframe\">\n",
       "  <thead>\n",
       "    <tr style=\"text-align: right;\">\n",
       "      <th></th>\n",
       "      <th>GRANULE_ID</th>\n",
       "      <th>PRODUCT_ID</th>\n",
       "      <th>DATATAKE_IDENTIFIER</th>\n",
       "      <th>MGRS_TILE</th>\n",
       "      <th>SENSING_TIME</th>\n",
       "      <th>TOTAL_SIZE</th>\n",
       "      <th>CLOUD_COVER</th>\n",
       "      <th>GEOMETRIC_QUALITY_FLAG</th>\n",
       "      <th>GENERATION_TIME</th>\n",
       "      <th>NORTH_LAT</th>\n",
       "      <th>SOUTH_LAT</th>\n",
       "      <th>WEST_LON</th>\n",
       "      <th>EAST_LON</th>\n",
       "      <th>BASE_URL</th>\n",
       "    </tr>\n",
       "  </thead>\n",
       "  <tbody>\n",
       "    <tr>\n",
       "      <th>0</th>\n",
       "      <td>L1C_T51HWC_A021621_20190813T014402</td>\n",
       "      <td>S2A_MSIL1C_20190813T013321_N0208_R031_T51HWC_2...</td>\n",
       "      <td>GS2A_20190813T013321_021621_N02.08</td>\n",
       "      <td>51HWC</td>\n",
       "      <td>2019-08-13T01:47:02.634000Z</td>\n",
       "      <td>472312038.0</td>\n",
       "      <td>0.0000</td>\n",
       "      <td>NaN</td>\n",
       "      <td>2019-08-13T05:44:52.000000Z</td>\n",
       "      <td>-33.433323</td>\n",
       "      <td>-34.429078</td>\n",
       "      <td>123.192969</td>\n",
       "      <td>124.194586</td>\n",
       "      <td>gs://gcp-public-data-sentinel-2/tiles/51/H/WC/...</td>\n",
       "    </tr>\n",
       "    <tr>\n",
       "      <th>1</th>\n",
       "      <td>L1C_T21HYT_A011547_20190523T133233</td>\n",
       "      <td>S2B_MSIL1C_20190523T133239_N0207_R081_T21HYT_2...</td>\n",
       "      <td>GS2B_20190523T133239_011547_N02.07</td>\n",
       "      <td>21HYT</td>\n",
       "      <td>2019-05-23T13:43:06.000000Z</td>\n",
       "      <td>93794242.0</td>\n",
       "      <td>0.0000</td>\n",
       "      <td>NaN</td>\n",
       "      <td>2019-05-23T15:10:06.000000Z</td>\n",
       "      <td>-37.894755</td>\n",
       "      <td>-38.160337</td>\n",
       "      <td>-54.580660</td>\n",
       "      <td>-53.464817</td>\n",
       "      <td>gs://gcp-public-data-sentinel-2/tiles/21/H/YT/...</td>\n",
       "    </tr>\n",
       "    <tr>\n",
       "      <th>2</th>\n",
       "      <td>L1C_T11SLA_A016512_20180820T184735</td>\n",
       "      <td>S2A_MSIL1C_20180820T183921_N0206_R070_T11SLA_2...</td>\n",
       "      <td>GS2A_20180820T183921_016512_N02.06</td>\n",
       "      <td>11SLA</td>\n",
       "      <td>2018-08-20T18:47:35.340000Z</td>\n",
       "      <td>852706489.0</td>\n",
       "      <td>4.6080</td>\n",
       "      <td>NaN</td>\n",
       "      <td>2018-08-20T23:54:18.000000Z</td>\n",
       "      <td>37.042336</td>\n",
       "      <td>36.036258</td>\n",
       "      <td>-119.248493</td>\n",
       "      <td>-118.007274</td>\n",
       "      <td>gs://gcp-public-data-sentinel-2/tiles/11/S/LA/...</td>\n",
       "    </tr>\n",
       "    <tr>\n",
       "      <th>3</th>\n",
       "      <td>L1C_T02KMG_A003029_20171004T213912</td>\n",
       "      <td>S2B_MSIL1C_20171004T213909_N0205_R143_T02KMG_2...</td>\n",
       "      <td>GS2B_20171004T213909_003029_N02.05</td>\n",
       "      <td>02KMG</td>\n",
       "      <td>2017-10-04T21:39:12.460000Z</td>\n",
       "      <td>502814591.0</td>\n",
       "      <td>9.4476</td>\n",
       "      <td>PASSED</td>\n",
       "      <td>2017-10-04T21:39:12.000000Z</td>\n",
       "      <td>-16.280273</td>\n",
       "      <td>-17.273285</td>\n",
       "      <td>-171.686702</td>\n",
       "      <td>-170.908268</td>\n",
       "      <td>gs://gcp-public-data-sentinel-2/tiles/02/K/MG/...</td>\n",
       "    </tr>\n",
       "    <tr>\n",
       "      <th>4</th>\n",
       "      <td>L1C_T49NHB_A001931_20170720T024456</td>\n",
       "      <td>S2B_MSIL1C_20170720T022549_N0205_R046_T49NHB_2...</td>\n",
       "      <td>GS2B_20170720T022549_001931_N02.05</td>\n",
       "      <td>49NHB</td>\n",
       "      <td>2017-07-20T02:44:56.730000Z</td>\n",
       "      <td>176714634.0</td>\n",
       "      <td>12.6707</td>\n",
       "      <td>PASSED</td>\n",
       "      <td>2017-07-20T02:44:56.000000Z</td>\n",
       "      <td>1.806308</td>\n",
       "      <td>0.814825</td>\n",
       "      <td>114.385102</td>\n",
       "      <td>114.681769</td>\n",
       "      <td>gs://gcp-public-data-sentinel-2/tiles/49/N/HB/...</td>\n",
       "    </tr>\n",
       "  </tbody>\n",
       "</table>\n",
       "</div>"
      ],
      "text/plain": [
       "                           GRANULE_ID  \\\n",
       "0  L1C_T51HWC_A021621_20190813T014402   \n",
       "1  L1C_T21HYT_A011547_20190523T133233   \n",
       "2  L1C_T11SLA_A016512_20180820T184735   \n",
       "3  L1C_T02KMG_A003029_20171004T213912   \n",
       "4  L1C_T49NHB_A001931_20170720T024456   \n",
       "\n",
       "                                          PRODUCT_ID  \\\n",
       "0  S2A_MSIL1C_20190813T013321_N0208_R031_T51HWC_2...   \n",
       "1  S2B_MSIL1C_20190523T133239_N0207_R081_T21HYT_2...   \n",
       "2  S2A_MSIL1C_20180820T183921_N0206_R070_T11SLA_2...   \n",
       "3  S2B_MSIL1C_20171004T213909_N0205_R143_T02KMG_2...   \n",
       "4  S2B_MSIL1C_20170720T022549_N0205_R046_T49NHB_2...   \n",
       "\n",
       "                  DATATAKE_IDENTIFIER MGRS_TILE                 SENSING_TIME  \\\n",
       "0  GS2A_20190813T013321_021621_N02.08     51HWC  2019-08-13T01:47:02.634000Z   \n",
       "1  GS2B_20190523T133239_011547_N02.07     21HYT  2019-05-23T13:43:06.000000Z   \n",
       "2  GS2A_20180820T183921_016512_N02.06     11SLA  2018-08-20T18:47:35.340000Z   \n",
       "3  GS2B_20171004T213909_003029_N02.05     02KMG  2017-10-04T21:39:12.460000Z   \n",
       "4  GS2B_20170720T022549_001931_N02.05     49NHB  2017-07-20T02:44:56.730000Z   \n",
       "\n",
       "    TOTAL_SIZE  CLOUD_COVER GEOMETRIC_QUALITY_FLAG  \\\n",
       "0  472312038.0       0.0000                    NaN   \n",
       "1   93794242.0       0.0000                    NaN   \n",
       "2  852706489.0       4.6080                    NaN   \n",
       "3  502814591.0       9.4476                 PASSED   \n",
       "4  176714634.0      12.6707                 PASSED   \n",
       "\n",
       "               GENERATION_TIME  NORTH_LAT  SOUTH_LAT    WEST_LON    EAST_LON  \\\n",
       "0  2019-08-13T05:44:52.000000Z -33.433323 -34.429078  123.192969  124.194586   \n",
       "1  2019-05-23T15:10:06.000000Z -37.894755 -38.160337  -54.580660  -53.464817   \n",
       "2  2018-08-20T23:54:18.000000Z  37.042336  36.036258 -119.248493 -118.007274   \n",
       "3  2017-10-04T21:39:12.000000Z -16.280273 -17.273285 -171.686702 -170.908268   \n",
       "4  2017-07-20T02:44:56.000000Z   1.806308   0.814825  114.385102  114.681769   \n",
       "\n",
       "                                            BASE_URL  \n",
       "0  gs://gcp-public-data-sentinel-2/tiles/51/H/WC/...  \n",
       "1  gs://gcp-public-data-sentinel-2/tiles/21/H/YT/...  \n",
       "2  gs://gcp-public-data-sentinel-2/tiles/11/S/LA/...  \n",
       "3  gs://gcp-public-data-sentinel-2/tiles/02/K/MG/...  \n",
       "4  gs://gcp-public-data-sentinel-2/tiles/49/N/HB/...  "
      ]
     },
     "execution_count": 22,
     "metadata": {},
     "output_type": "execute_result"
    }
   ],
   "source": [
    "ee_index.head()"
   ]
  },
  {
   "cell_type": "code",
   "execution_count": null,
   "metadata": {},
   "outputs": [],
   "source": []
  }
 ],
 "metadata": {
  "kernelspec": {
   "display_name": "canopy-conda",
   "language": "python",
   "name": "canopy_conda"
  },
  "language_info": {
   "codemirror_mode": {
    "name": "ipython",
    "version": 3
   },
   "file_extension": ".py",
   "mimetype": "text/x-python",
   "name": "python",
   "nbconvert_exporter": "python",
   "pygments_lexer": "ipython3",
   "version": "3.8.5"
  }
 },
 "nbformat": 4,
 "nbformat_minor": 4
}
