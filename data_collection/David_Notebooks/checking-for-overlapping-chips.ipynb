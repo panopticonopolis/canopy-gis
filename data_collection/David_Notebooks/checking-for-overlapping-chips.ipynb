{
 "cells": [
  {
   "cell_type": "code",
   "execution_count": 1,
   "metadata": {},
   "outputs": [],
   "source": [
    "# https://gis.stackexchange.com/a/104367\n",
    "\n",
    "import gdal\n",
    "from gdalconst import GA_ReadOnly"
   ]
  },
  {
   "cell_type": "code",
   "execution_count": 2,
   "metadata": {},
   "outputs": [],
   "source": [
    "data = gdal.Open('D:/canopy_data/examples/test_2_chips/test_2_chips.0.tif', GA_ReadOnly)\n",
    "geoTransform = data.GetGeoTransform()\n",
    "minx = geoTransform[0]\n",
    "maxy = geoTransform[3]\n",
    "maxx = minx + geoTransform[1] * data.RasterXSize\n",
    "miny = maxy + geoTransform[5] * data.RasterYSize"
   ]
  },
  {
   "cell_type": "code",
   "execution_count": 3,
   "metadata": {},
   "outputs": [
    {
     "data": {
      "text/plain": [
       "[13.200943794, 2.641765163974585, 13.273078725025416, 2.713900095]"
      ]
     },
     "execution_count": 3,
     "metadata": {},
     "output_type": "execute_result"
    }
   ],
   "source": [
    "coord = [minx, miny, maxx, maxy]\n",
    "\n",
    "coord"
   ]
  },
  {
   "cell_type": "code",
   "execution_count": 4,
   "metadata": {},
   "outputs": [],
   "source": [
    "def find_extent(filename):\n",
    "    data = gdal.Open(filename, GA_ReadOnly)\n",
    "    geoTransform = data.GetGeoTransform()\n",
    "    minx = geoTransform[0]\n",
    "    maxy = geoTransform[3]\n",
    "    maxx = minx + geoTransform[1] * data.RasterXSize\n",
    "    miny = maxy + geoTransform[5] * data.RasterYSize\n",
    "    \n",
    "    return (minx, miny, maxx, maxy)"
   ]
  },
  {
   "cell_type": "code",
   "execution_count": 5,
   "metadata": {},
   "outputs": [],
   "source": [
    "import glob\n",
    "\n",
    "\n",
    "coords = []\n",
    "\n",
    "for geotiff in glob.glob('D:/canopy_data/examples/test_2_chips/*.tif', recursive=True):\n",
    "    coords.append(find_extent(geotiff))"
   ]
  },
  {
   "cell_type": "code",
   "execution_count": 6,
   "metadata": {},
   "outputs": [
    {
     "data": {
      "text/plain": [
       "[(13.200943794, 2.641765163974585, 13.273078725025416, 2.713900095),\n",
       " (13.273078725025416, 2.641765163974585, 13.34521365605083, 2.713900095),\n",
       " (13.922293104254154, 2.641765163974585, 13.994428035279569, 2.713900095),\n",
       " (20.41443689654153, 2.641765163974585, 20.486571827566948, 2.713900095),\n",
       " (13.922293104254154,\n",
       "  1.9925507847458472,\n",
       "  13.994428035279569,\n",
       "  2.0646857157712626)]"
      ]
     },
     "execution_count": 6,
     "metadata": {},
     "output_type": "execute_result"
    }
   ],
   "source": [
    "coords[0:5]"
   ]
  },
  {
   "cell_type": "code",
   "execution_count": 7,
   "metadata": {},
   "outputs": [
    {
     "data": {
      "text/plain": [
       "7040"
      ]
     },
     "execution_count": 7,
     "metadata": {},
     "output_type": "execute_result"
    }
   ],
   "source": [
    "len(coords)"
   ]
  },
  {
   "cell_type": "code",
   "execution_count": 8,
   "metadata": {},
   "outputs": [
    {
     "data": {
      "text/plain": [
       "7040"
      ]
     },
     "execution_count": 8,
     "metadata": {},
     "output_type": "execute_result"
    }
   ],
   "source": [
    "len(set(coords))"
   ]
  },
  {
   "cell_type": "code",
   "execution_count": 11,
   "metadata": {},
   "outputs": [],
   "source": [
    "def test_for_duplicate_extents(folder):\n",
    "    if folder[-1] == '/':\n",
    "        glob_input = folder\n",
    "    else:\n",
    "        glob_input = folder + '/'\n",
    "    coords = []\n",
    "    for geotiff in glob.glob(glob_input + '*.tif', recursive=True):\n",
    "        coords.append(find_extent(geotiff))\n",
    "        \n",
    "    return len(coords) == len(set(coords))"
   ]
  },
  {
   "cell_type": "code",
   "execution_count": 11,
   "metadata": {},
   "outputs": [
    {
     "data": {
      "text/html": [
       "<div>\n",
       "<style scoped>\n",
       "    .dataframe tbody tr th:only-of-type {\n",
       "        vertical-align: middle;\n",
       "    }\n",
       "\n",
       "    .dataframe tbody tr th {\n",
       "        vertical-align: top;\n",
       "    }\n",
       "\n",
       "    .dataframe thead th {\n",
       "        text-align: right;\n",
       "    }\n",
       "</style>\n",
       "<table border=\"1\" class=\"dataframe\">\n",
       "  <thead>\n",
       "    <tr style=\"text-align: right;\">\n",
       "      <th></th>\n",
       "      <th>URI</th>\n",
       "      <th>coord</th>\n",
       "    </tr>\n",
       "  </thead>\n",
       "  <tbody>\n",
       "    <tr>\n",
       "      <th>0</th>\n",
       "      <td>D:/canopy_data/examples/test_2_chips\\test_2_ch...</td>\n",
       "      <td>(13.200943794, 2.641765163974585, 13.273078725...</td>\n",
       "    </tr>\n",
       "    <tr>\n",
       "      <th>1</th>\n",
       "      <td>D:/canopy_data/examples/test_2_chips\\test_2_ch...</td>\n",
       "      <td>(13.273078725025416, 2.641765163974585, 13.345...</td>\n",
       "    </tr>\n",
       "    <tr>\n",
       "      <th>2</th>\n",
       "      <td>D:/canopy_data/examples/test_2_chips\\test_2_ch...</td>\n",
       "      <td>(13.922293104254154, 2.641765163974585, 13.994...</td>\n",
       "    </tr>\n",
       "    <tr>\n",
       "      <th>3</th>\n",
       "      <td>D:/canopy_data/examples/test_2_chips\\test_2_ch...</td>\n",
       "      <td>(20.41443689654153, 2.641765163974585, 20.4865...</td>\n",
       "    </tr>\n",
       "    <tr>\n",
       "      <th>4</th>\n",
       "      <td>D:/canopy_data/examples/test_2_chips\\test_2_ch...</td>\n",
       "      <td>(13.922293104254154, 1.9925507847458472, 13.99...</td>\n",
       "    </tr>\n",
       "  </tbody>\n",
       "</table>\n",
       "</div>"
      ],
      "text/plain": [
       "                                                 URI  \\\n",
       "0  D:/canopy_data/examples/test_2_chips\\test_2_ch...   \n",
       "1  D:/canopy_data/examples/test_2_chips\\test_2_ch...   \n",
       "2  D:/canopy_data/examples/test_2_chips\\test_2_ch...   \n",
       "3  D:/canopy_data/examples/test_2_chips\\test_2_ch...   \n",
       "4  D:/canopy_data/examples/test_2_chips\\test_2_ch...   \n",
       "\n",
       "                                               coord  \n",
       "0  (13.200943794, 2.641765163974585, 13.273078725...  \n",
       "1  (13.273078725025416, 2.641765163974585, 13.345...  \n",
       "2  (13.922293104254154, 2.641765163974585, 13.994...  \n",
       "3  (20.41443689654153, 2.641765163974585, 20.4865...  \n",
       "4  (13.922293104254154, 1.9925507847458472, 13.99...  "
      ]
     },
     "execution_count": 11,
     "metadata": {},
     "output_type": "execute_result"
    }
   ],
   "source": [
    "import pandas as pd\n",
    "\n",
    "\n",
    "df = pd.DataFrame()\n",
    "df['URI'] = glob.glob('D:/canopy_data/examples/test_2_chips/*.tif', recursive=True)\n",
    "df['coord'] = coords\n",
    "\n",
    "df.head()"
   ]
  },
  {
   "cell_type": "code",
   "execution_count": 12,
   "metadata": {},
   "outputs": [
    {
     "data": {
      "text/plain": [
       "'D:/canopy_data/examples/test_2_chips\\\\test_2_chips.0.tif'"
      ]
     },
     "execution_count": 12,
     "metadata": {},
     "output_type": "execute_result"
    }
   ],
   "source": [
    "df.loc[0, 'URI']"
   ]
  },
  {
   "cell_type": "code",
   "execution_count": 13,
   "metadata": {},
   "outputs": [
    {
     "data": {
      "text/html": [
       "<div>\n",
       "<style scoped>\n",
       "    .dataframe tbody tr th:only-of-type {\n",
       "        vertical-align: middle;\n",
       "    }\n",
       "\n",
       "    .dataframe tbody tr th {\n",
       "        vertical-align: top;\n",
       "    }\n",
       "\n",
       "    .dataframe thead th {\n",
       "        text-align: right;\n",
       "    }\n",
       "</style>\n",
       "<table border=\"1\" class=\"dataframe\">\n",
       "  <thead>\n",
       "    <tr style=\"text-align: right;\">\n",
       "      <th></th>\n",
       "      <th>URI</th>\n",
       "      <th>coord</th>\n",
       "      <th>name</th>\n",
       "    </tr>\n",
       "  </thead>\n",
       "  <tbody>\n",
       "    <tr>\n",
       "      <th>0</th>\n",
       "      <td>D:/canopy_data/examples/test_2_chips\\test_2_ch...</td>\n",
       "      <td>(13.200943794, 2.641765163974585, 13.273078725...</td>\n",
       "      <td>test_2_chips.0.tif</td>\n",
       "    </tr>\n",
       "    <tr>\n",
       "      <th>1</th>\n",
       "      <td>D:/canopy_data/examples/test_2_chips\\test_2_ch...</td>\n",
       "      <td>(13.273078725025416, 2.641765163974585, 13.345...</td>\n",
       "      <td>test_2_chips.1.tif</td>\n",
       "    </tr>\n",
       "    <tr>\n",
       "      <th>2</th>\n",
       "      <td>D:/canopy_data/examples/test_2_chips\\test_2_ch...</td>\n",
       "      <td>(13.922293104254154, 2.641765163974585, 13.994...</td>\n",
       "      <td>test_2_chips.10.tif</td>\n",
       "    </tr>\n",
       "    <tr>\n",
       "      <th>3</th>\n",
       "      <td>D:/canopy_data/examples/test_2_chips\\test_2_ch...</td>\n",
       "      <td>(20.41443689654153, 2.641765163974585, 20.4865...</td>\n",
       "      <td>test_2_chips.100.tif</td>\n",
       "    </tr>\n",
       "    <tr>\n",
       "      <th>4</th>\n",
       "      <td>D:/canopy_data/examples/test_2_chips\\test_2_ch...</td>\n",
       "      <td>(13.922293104254154, 1.9925507847458472, 13.99...</td>\n",
       "      <td>test_2_chips.1000.tif</td>\n",
       "    </tr>\n",
       "  </tbody>\n",
       "</table>\n",
       "</div>"
      ],
      "text/plain": [
       "                                                 URI  \\\n",
       "0  D:/canopy_data/examples/test_2_chips\\test_2_ch...   \n",
       "1  D:/canopy_data/examples/test_2_chips\\test_2_ch...   \n",
       "2  D:/canopy_data/examples/test_2_chips\\test_2_ch...   \n",
       "3  D:/canopy_data/examples/test_2_chips\\test_2_ch...   \n",
       "4  D:/canopy_data/examples/test_2_chips\\test_2_ch...   \n",
       "\n",
       "                                               coord                   name  \n",
       "0  (13.200943794, 2.641765163974585, 13.273078725...     test_2_chips.0.tif  \n",
       "1  (13.273078725025416, 2.641765163974585, 13.345...     test_2_chips.1.tif  \n",
       "2  (13.922293104254154, 2.641765163974585, 13.994...    test_2_chips.10.tif  \n",
       "3  (20.41443689654153, 2.641765163974585, 20.4865...   test_2_chips.100.tif  \n",
       "4  (13.922293104254154, 1.9925507847458472, 13.99...  test_2_chips.1000.tif  "
      ]
     },
     "execution_count": 13,
     "metadata": {},
     "output_type": "execute_result"
    }
   ],
   "source": [
    "df['name'] = df['URI'].apply(lambda x: x.split('\\\\')[1])\n",
    "\n",
    "df.head()"
   ]
  },
  {
   "cell_type": "code",
   "execution_count": 15,
   "metadata": {},
   "outputs": [
    {
     "data": {
      "text/html": [
       "<div>\n",
       "<style scoped>\n",
       "    .dataframe tbody tr th:only-of-type {\n",
       "        vertical-align: middle;\n",
       "    }\n",
       "\n",
       "    .dataframe tbody tr th {\n",
       "        vertical-align: top;\n",
       "    }\n",
       "\n",
       "    .dataframe thead th {\n",
       "        text-align: right;\n",
       "    }\n",
       "</style>\n",
       "<table border=\"1\" class=\"dataframe\">\n",
       "  <thead>\n",
       "    <tr style=\"text-align: right;\">\n",
       "      <th></th>\n",
       "      <th>URI</th>\n",
       "      <th>coord</th>\n",
       "      <th>name</th>\n",
       "      <th>filter</th>\n",
       "    </tr>\n",
       "  </thead>\n",
       "  <tbody>\n",
       "    <tr>\n",
       "      <th>0</th>\n",
       "      <td>D:/canopy_data/examples/test_2_chips\\test_2_ch...</td>\n",
       "      <td>(13.200943794, 2.641765163974585, 13.273078725...</td>\n",
       "      <td>test_2_chips.0.tif</td>\n",
       "      <td>True</td>\n",
       "    </tr>\n",
       "    <tr>\n",
       "      <th>1</th>\n",
       "      <td>D:/canopy_data/examples/test_2_chips\\test_2_ch...</td>\n",
       "      <td>(13.273078725025416, 2.641765163974585, 13.345...</td>\n",
       "      <td>test_2_chips.1.tif</td>\n",
       "      <td>False</td>\n",
       "    </tr>\n",
       "    <tr>\n",
       "      <th>2</th>\n",
       "      <td>D:/canopy_data/examples/test_2_chips\\test_2_ch...</td>\n",
       "      <td>(13.922293104254154, 2.641765163974585, 13.994...</td>\n",
       "      <td>test_2_chips.10.tif</td>\n",
       "      <td>False</td>\n",
       "    </tr>\n",
       "    <tr>\n",
       "      <th>3</th>\n",
       "      <td>D:/canopy_data/examples/test_2_chips\\test_2_ch...</td>\n",
       "      <td>(20.41443689654153, 2.641765163974585, 20.4865...</td>\n",
       "      <td>test_2_chips.100.tif</td>\n",
       "      <td>False</td>\n",
       "    </tr>\n",
       "    <tr>\n",
       "      <th>4</th>\n",
       "      <td>D:/canopy_data/examples/test_2_chips\\test_2_ch...</td>\n",
       "      <td>(13.922293104254154, 1.9925507847458472, 13.99...</td>\n",
       "      <td>test_2_chips.1000.tif</td>\n",
       "      <td>False</td>\n",
       "    </tr>\n",
       "  </tbody>\n",
       "</table>\n",
       "</div>"
      ],
      "text/plain": [
       "                                                 URI  \\\n",
       "0  D:/canopy_data/examples/test_2_chips\\test_2_ch...   \n",
       "1  D:/canopy_data/examples/test_2_chips\\test_2_ch...   \n",
       "2  D:/canopy_data/examples/test_2_chips\\test_2_ch...   \n",
       "3  D:/canopy_data/examples/test_2_chips\\test_2_ch...   \n",
       "4  D:/canopy_data/examples/test_2_chips\\test_2_ch...   \n",
       "\n",
       "                                               coord                   name  \\\n",
       "0  (13.200943794, 2.641765163974585, 13.273078725...     test_2_chips.0.tif   \n",
       "1  (13.273078725025416, 2.641765163974585, 13.345...     test_2_chips.1.tif   \n",
       "2  (13.922293104254154, 2.641765163974585, 13.994...    test_2_chips.10.tif   \n",
       "3  (20.41443689654153, 2.641765163974585, 20.4865...   test_2_chips.100.tif   \n",
       "4  (13.922293104254154, 1.9925507847458472, 13.99...  test_2_chips.1000.tif   \n",
       "\n",
       "   filter  \n",
       "0    True  \n",
       "1   False  \n",
       "2   False  \n",
       "3   False  \n",
       "4   False  "
      ]
     },
     "execution_count": 15,
     "metadata": {},
     "output_type": "execute_result"
    }
   ],
   "source": [
    "num = df.loc[0, 'coord'][0]\n",
    "\n",
    "df['filter'] = df['coord'].apply(lambda x: x[0] == num)\n",
    "df.head()"
   ]
  },
  {
   "cell_type": "code",
   "execution_count": 17,
   "metadata": {},
   "outputs": [
    {
     "data": {
      "text/html": [
       "<div>\n",
       "<style scoped>\n",
       "    .dataframe tbody tr th:only-of-type {\n",
       "        vertical-align: middle;\n",
       "    }\n",
       "\n",
       "    .dataframe tbody tr th {\n",
       "        vertical-align: top;\n",
       "    }\n",
       "\n",
       "    .dataframe thead th {\n",
       "        text-align: right;\n",
       "    }\n",
       "</style>\n",
       "<table border=\"1\" class=\"dataframe\">\n",
       "  <thead>\n",
       "    <tr style=\"text-align: right;\">\n",
       "      <th></th>\n",
       "      <th>URI</th>\n",
       "      <th>coord</th>\n",
       "      <th>name</th>\n",
       "      <th>filter</th>\n",
       "    </tr>\n",
       "  </thead>\n",
       "  <tbody>\n",
       "    <tr>\n",
       "      <th>0</th>\n",
       "      <td>D:/canopy_data/examples/test_2_chips\\test_2_ch...</td>\n",
       "      <td>(13.200943794, 2.641765163974585, 13.273078725...</td>\n",
       "      <td>test_2_chips.0.tif</td>\n",
       "      <td>True</td>\n",
       "    </tr>\n",
       "    <tr>\n",
       "      <th>114</th>\n",
       "      <td>D:/canopy_data/examples/test_2_chips\\test_2_ch...</td>\n",
       "      <td>(13.200943794, 2.56963023294917, 13.2730787250...</td>\n",
       "      <td>test_2_chips.110.tif</td>\n",
       "      <td>True</td>\n",
       "    </tr>\n",
       "    <tr>\n",
       "      <th>115</th>\n",
       "      <td>D:/canopy_data/examples/test_2_chips\\test_2_ch...</td>\n",
       "      <td>(13.200943794, 1.9204158537204317, 13.27307872...</td>\n",
       "      <td>test_2_chips.1100.tif</td>\n",
       "      <td>True</td>\n",
       "    </tr>\n",
       "    <tr>\n",
       "      <th>237</th>\n",
       "      <td>D:/canopy_data/examples/test_2_chips\\test_2_ch...</td>\n",
       "      <td>(13.200943794, 1.8482809226950165, 13.27307872...</td>\n",
       "      <td>test_2_chips.1210.tif</td>\n",
       "      <td>True</td>\n",
       "    </tr>\n",
       "    <tr>\n",
       "      <th>359</th>\n",
       "      <td>D:/canopy_data/examples/test_2_chips\\test_2_ch...</td>\n",
       "      <td>(13.200943794, 1.776145991669601, 13.273078725...</td>\n",
       "      <td>test_2_chips.1320.tif</td>\n",
       "      <td>True</td>\n",
       "    </tr>\n",
       "    <tr>\n",
       "      <th>...</th>\n",
       "      <td>...</td>\n",
       "      <td>...</td>\n",
       "      <td>...</td>\n",
       "      <td>...</td>\n",
       "    </tr>\n",
       "    <tr>\n",
       "      <th>6469</th>\n",
       "      <td>D:/canopy_data/examples/test_2_chips\\test_2_ch...</td>\n",
       "      <td>(13.200943794, -1.8306005596011639, 13.2730787...</td>\n",
       "      <td>test_2_chips.6820.tif</td>\n",
       "      <td>True</td>\n",
       "    </tr>\n",
       "    <tr>\n",
       "      <th>6591</th>\n",
       "      <td>D:/canopy_data/examples/test_2_chips\\test_2_ch...</td>\n",
       "      <td>(13.200943794, -1.8975958767910182, 13.2730787...</td>\n",
       "      <td>test_2_chips.6930.tif</td>\n",
       "      <td>True</td>\n",
       "    </tr>\n",
       "    <tr>\n",
       "      <th>6786</th>\n",
       "      <td>D:/canopy_data/examples/test_2_chips\\test_2_ch...</td>\n",
       "      <td>(13.200943794, 2.1368206467966777, 13.27307872...</td>\n",
       "      <td>test_2_chips.770.tif</td>\n",
       "      <td>True</td>\n",
       "    </tr>\n",
       "    <tr>\n",
       "      <th>6908</th>\n",
       "      <td>D:/canopy_data/examples/test_2_chips\\test_2_ch...</td>\n",
       "      <td>(13.200943794, 2.0646857157712626, 13.27307872...</td>\n",
       "      <td>test_2_chips.880.tif</td>\n",
       "      <td>True</td>\n",
       "    </tr>\n",
       "    <tr>\n",
       "      <th>7030</th>\n",
       "      <td>D:/canopy_data/examples/test_2_chips\\test_2_ch...</td>\n",
       "      <td>(13.200943794, 1.9925507847458472, 13.27307872...</td>\n",
       "      <td>test_2_chips.990.tif</td>\n",
       "      <td>True</td>\n",
       "    </tr>\n",
       "  </tbody>\n",
       "</table>\n",
       "<p>64 rows × 4 columns</p>\n",
       "</div>"
      ],
      "text/plain": [
       "                                                    URI  \\\n",
       "0     D:/canopy_data/examples/test_2_chips\\test_2_ch...   \n",
       "114   D:/canopy_data/examples/test_2_chips\\test_2_ch...   \n",
       "115   D:/canopy_data/examples/test_2_chips\\test_2_ch...   \n",
       "237   D:/canopy_data/examples/test_2_chips\\test_2_ch...   \n",
       "359   D:/canopy_data/examples/test_2_chips\\test_2_ch...   \n",
       "...                                                 ...   \n",
       "6469  D:/canopy_data/examples/test_2_chips\\test_2_ch...   \n",
       "6591  D:/canopy_data/examples/test_2_chips\\test_2_ch...   \n",
       "6786  D:/canopy_data/examples/test_2_chips\\test_2_ch...   \n",
       "6908  D:/canopy_data/examples/test_2_chips\\test_2_ch...   \n",
       "7030  D:/canopy_data/examples/test_2_chips\\test_2_ch...   \n",
       "\n",
       "                                                  coord  \\\n",
       "0     (13.200943794, 2.641765163974585, 13.273078725...   \n",
       "114   (13.200943794, 2.56963023294917, 13.2730787250...   \n",
       "115   (13.200943794, 1.9204158537204317, 13.27307872...   \n",
       "237   (13.200943794, 1.8482809226950165, 13.27307872...   \n",
       "359   (13.200943794, 1.776145991669601, 13.273078725...   \n",
       "...                                                 ...   \n",
       "6469  (13.200943794, -1.8306005596011639, 13.2730787...   \n",
       "6591  (13.200943794, -1.8975958767910182, 13.2730787...   \n",
       "6786  (13.200943794, 2.1368206467966777, 13.27307872...   \n",
       "6908  (13.200943794, 2.0646857157712626, 13.27307872...   \n",
       "7030  (13.200943794, 1.9925507847458472, 13.27307872...   \n",
       "\n",
       "                       name  filter  \n",
       "0        test_2_chips.0.tif    True  \n",
       "114    test_2_chips.110.tif    True  \n",
       "115   test_2_chips.1100.tif    True  \n",
       "237   test_2_chips.1210.tif    True  \n",
       "359   test_2_chips.1320.tif    True  \n",
       "...                     ...     ...  \n",
       "6469  test_2_chips.6820.tif    True  \n",
       "6591  test_2_chips.6930.tif    True  \n",
       "6786   test_2_chips.770.tif    True  \n",
       "6908   test_2_chips.880.tif    True  \n",
       "7030   test_2_chips.990.tif    True  \n",
       "\n",
       "[64 rows x 4 columns]"
      ]
     },
     "execution_count": 17,
     "metadata": {},
     "output_type": "execute_result"
    }
   ],
   "source": [
    "df2 = df[df['filter'] == True]\n",
    "df2"
   ]
  },
  {
   "cell_type": "code",
   "execution_count": 18,
   "metadata": {},
   "outputs": [
    {
     "data": {
      "text/plain": [
       "(13.200943794, 2.641765163974585, 13.273078725025416, 2.713900095)"
      ]
     },
     "execution_count": 18,
     "metadata": {},
     "output_type": "execute_result"
    }
   ],
   "source": [
    "df.loc[0, 'coord']"
   ]
  },
  {
   "cell_type": "code",
   "execution_count": 19,
   "metadata": {},
   "outputs": [
    {
     "data": {
      "text/plain": [
       "(13.273078725025416, 2.641765163974585, 13.34521365605083, 2.713900095)"
      ]
     },
     "execution_count": 19,
     "metadata": {},
     "output_type": "execute_result"
    }
   ],
   "source": [
    "df.loc[1, 'coord']"
   ]
  },
  {
   "cell_type": "code",
   "execution_count": 20,
   "metadata": {},
   "outputs": [
    {
     "data": {
      "text/plain": [
       "0.07213493102541513"
      ]
     },
     "execution_count": 20,
     "metadata": {},
     "output_type": "execute_result"
    }
   ],
   "source": [
    "df.loc[1, 'coord'][0] - df.loc[0, 'coord'][0]"
   ]
  },
  {
   "cell_type": "code",
   "execution_count": 21,
   "metadata": {},
   "outputs": [
    {
     "data": {
      "text/plain": [
       "(14.571507483482891,\n",
       " 1.9925507847458472,\n",
       " 14.643642414508307,\n",
       " 2.0646857157712626)"
      ]
     },
     "execution_count": 21,
     "metadata": {},
     "output_type": "execute_result"
    }
   ],
   "source": [
    "df.loc[13, 'coord']"
   ]
  },
  {
   "cell_type": "code",
   "execution_count": 23,
   "metadata": {},
   "outputs": [
    {
     "data": {
      "text/plain": [
       "(20.486571827566948, 2.641765163974585, 20.558706758592365, 2.713900095)"
      ]
     },
     "execution_count": 23,
     "metadata": {},
     "output_type": "execute_result"
    }
   ],
   "source": [
    "df.loc[14, 'coord']"
   ]
  },
  {
   "cell_type": "code",
   "execution_count": 24,
   "metadata": {},
   "outputs": [],
   "source": [
    "import rasterio as rio"
   ]
  },
  {
   "cell_type": "code",
   "execution_count": 25,
   "metadata": {},
   "outputs": [
    {
     "data": {
      "text/plain": [
       "array([[[0, 0, 0, ..., 0, 0, 0],\n",
       "        [0, 0, 0, ..., 0, 0, 0],\n",
       "        [0, 0, 0, ..., 0, 0, 0],\n",
       "        ...,\n",
       "        [0, 0, 0, ..., 0, 0, 0],\n",
       "        [0, 0, 0, ..., 0, 0, 0],\n",
       "        [0, 0, 0, ..., 0, 0, 0]],\n",
       "\n",
       "       [[0, 0, 0, ..., 0, 0, 0],\n",
       "        [0, 0, 0, ..., 0, 0, 0],\n",
       "        [0, 0, 0, ..., 0, 0, 0],\n",
       "        ...,\n",
       "        [0, 0, 0, ..., 0, 0, 0],\n",
       "        [0, 0, 0, ..., 0, 0, 0],\n",
       "        [0, 0, 0, ..., 0, 0, 0]],\n",
       "\n",
       "       [[0, 0, 0, ..., 0, 0, 0],\n",
       "        [0, 0, 0, ..., 0, 0, 0],\n",
       "        [0, 0, 0, ..., 0, 0, 0],\n",
       "        ...,\n",
       "        [0, 0, 0, ..., 0, 0, 0],\n",
       "        [0, 0, 0, ..., 0, 0, 0],\n",
       "        [0, 0, 0, ..., 0, 0, 0]]], dtype=uint8)"
      ]
     },
     "execution_count": 25,
     "metadata": {},
     "output_type": "execute_result"
    }
   ],
   "source": [
    "file14_uri = 'D:/canopy_data/examples/test_2_chips_filtered/test_2_chips.14.tif'\n",
    "\n",
    "with rio.open(file14_uri) as f:\n",
    "    raster14 = f.read()\n",
    "    \n",
    "raster14"
   ]
  },
  {
   "cell_type": "code",
   "execution_count": 26,
   "metadata": {},
   "outputs": [
    {
     "data": {
      "text/plain": [
       "0"
      ]
     },
     "execution_count": 26,
     "metadata": {},
     "output_type": "execute_result"
    }
   ],
   "source": [
    "import numpy as np\n",
    "\n",
    "\n",
    "# https://stackoverflow.com/a/18395906/12685847\n",
    "\n",
    "np.count_nonzero(raster14)"
   ]
  },
  {
   "cell_type": "code",
   "execution_count": 27,
   "metadata": {},
   "outputs": [],
   "source": [
    "import glob\n",
    "import os\n",
    "\n",
    "\n",
    "chip_names = glob.glob('D:/canopy_data/examples/test_2_chips_filtered/*.tif')\n",
    "\n",
    "for name in chip_names:\n",
    "    with rio.open(name) as f:\n",
    "        raster = f.read()\n",
    "        \n",
    "    if np.count_nonzero(raster) == 0:\n",
    "        os.remove(name)"
   ]
  },
  {
   "cell_type": "code",
   "execution_count": 28,
   "metadata": {},
   "outputs": [
    {
     "data": {
      "text/plain": [
       "812"
      ]
     },
     "execution_count": 28,
     "metadata": {},
     "output_type": "execute_result"
    }
   ],
   "source": [
    "len(glob.glob('D:/canopy_data/examples/test_2_chips_filtered/*.tif'))"
   ]
  },
  {
   "cell_type": "code",
   "execution_count": 29,
   "metadata": {},
   "outputs": [
    {
     "data": {
      "text/plain": [
       "'D:/canopy_data/examples/test_2_chips_filtered\\\\test_2_chips.0.tif'"
      ]
     },
     "execution_count": 29,
     "metadata": {},
     "output_type": "execute_result"
    }
   ],
   "source": [
    "new_names = glob.glob('D:/canopy_data/examples/test_2_chips_filtered/*.tif')\n",
    "\n",
    "name = new_names[0]\n",
    "\n",
    "name"
   ]
  },
  {
   "cell_type": "code",
   "execution_count": 30,
   "metadata": {},
   "outputs": [
    {
     "data": {
      "text/plain": [
       "'0'"
      ]
     },
     "execution_count": 30,
     "metadata": {},
     "output_type": "execute_result"
    }
   ],
   "source": [
    "name.split('.')[1]"
   ]
  },
  {
   "cell_type": "code",
   "execution_count": 35,
   "metadata": {},
   "outputs": [
    {
     "data": {
      "text/plain": [
       "'D:/canopy_data/examples/test_2_chips_filtered'"
      ]
     },
     "execution_count": 35,
     "metadata": {},
     "output_type": "execute_result"
    }
   ],
   "source": [
    "name.split('\\\\')[0]"
   ]
  },
  {
   "cell_type": "code",
   "execution_count": 31,
   "metadata": {},
   "outputs": [
    {
     "data": {
      "text/html": [
       "<div>\n",
       "<style scoped>\n",
       "    .dataframe tbody tr th:only-of-type {\n",
       "        vertical-align: middle;\n",
       "    }\n",
       "\n",
       "    .dataframe tbody tr th {\n",
       "        vertical-align: top;\n",
       "    }\n",
       "\n",
       "    .dataframe thead th {\n",
       "        text-align: right;\n",
       "    }\n",
       "</style>\n",
       "<table border=\"1\" class=\"dataframe\">\n",
       "  <thead>\n",
       "    <tr style=\"text-align: right;\">\n",
       "      <th></th>\n",
       "      <th>uri</th>\n",
       "      <th>name</th>\n",
       "      <th>num</th>\n",
       "    </tr>\n",
       "  </thead>\n",
       "  <tbody>\n",
       "    <tr>\n",
       "      <th>0</th>\n",
       "      <td>D:/canopy_data/examples/test_2_chips_filtered\\...</td>\n",
       "      <td>test_2_chips.0.tif</td>\n",
       "      <td>0</td>\n",
       "    </tr>\n",
       "    <tr>\n",
       "      <th>1</th>\n",
       "      <td>D:/canopy_data/examples/test_2_chips_filtered\\...</td>\n",
       "      <td>test_2_chips.1.tif</td>\n",
       "      <td>1</td>\n",
       "    </tr>\n",
       "    <tr>\n",
       "      <th>2</th>\n",
       "      <td>D:/canopy_data/examples/test_2_chips_filtered\\...</td>\n",
       "      <td>test_2_chips.10.tif</td>\n",
       "      <td>10</td>\n",
       "    </tr>\n",
       "    <tr>\n",
       "      <th>3</th>\n",
       "      <td>D:/canopy_data/examples/test_2_chips_filtered\\...</td>\n",
       "      <td>test_2_chips.1000.tif</td>\n",
       "      <td>1000</td>\n",
       "    </tr>\n",
       "    <tr>\n",
       "      <th>4</th>\n",
       "      <td>D:/canopy_data/examples/test_2_chips_filtered\\...</td>\n",
       "      <td>test_2_chips.1001.tif</td>\n",
       "      <td>1001</td>\n",
       "    </tr>\n",
       "  </tbody>\n",
       "</table>\n",
       "</div>"
      ],
      "text/plain": [
       "                                                 uri                   name  \\\n",
       "0  D:/canopy_data/examples/test_2_chips_filtered\\...     test_2_chips.0.tif   \n",
       "1  D:/canopy_data/examples/test_2_chips_filtered\\...     test_2_chips.1.tif   \n",
       "2  D:/canopy_data/examples/test_2_chips_filtered\\...    test_2_chips.10.tif   \n",
       "3  D:/canopy_data/examples/test_2_chips_filtered\\...  test_2_chips.1000.tif   \n",
       "4  D:/canopy_data/examples/test_2_chips_filtered\\...  test_2_chips.1001.tif   \n",
       "\n",
       "    num  \n",
       "0     0  \n",
       "1     1  \n",
       "2    10  \n",
       "3  1000  \n",
       "4  1001  "
      ]
     },
     "execution_count": 31,
     "metadata": {},
     "output_type": "execute_result"
    }
   ],
   "source": [
    "df = pd.DataFrame()\n",
    "\n",
    "df['uri'] = new_names\n",
    "df['name'] = df['uri'].apply(lambda x: x.split('\\\\')[1])\n",
    "df['num'] = df['name'].apply(lambda x: int(x.split('.')[1]))\n",
    "\n",
    "df.head()"
   ]
  },
  {
   "cell_type": "code",
   "execution_count": 33,
   "metadata": {},
   "outputs": [
    {
     "data": {
      "text/html": [
       "<div>\n",
       "<style scoped>\n",
       "    .dataframe tbody tr th:only-of-type {\n",
       "        vertical-align: middle;\n",
       "    }\n",
       "\n",
       "    .dataframe tbody tr th {\n",
       "        vertical-align: top;\n",
       "    }\n",
       "\n",
       "    .dataframe thead th {\n",
       "        text-align: right;\n",
       "    }\n",
       "</style>\n",
       "<table border=\"1\" class=\"dataframe\">\n",
       "  <thead>\n",
       "    <tr style=\"text-align: right;\">\n",
       "      <th></th>\n",
       "      <th>uri</th>\n",
       "      <th>name</th>\n",
       "      <th>num</th>\n",
       "    </tr>\n",
       "  </thead>\n",
       "  <tbody>\n",
       "    <tr>\n",
       "      <th>0</th>\n",
       "      <td>D:/canopy_data/examples/test_2_chips_filtered\\...</td>\n",
       "      <td>test_2_chips.0.tif</td>\n",
       "      <td>0</td>\n",
       "    </tr>\n",
       "    <tr>\n",
       "      <th>1</th>\n",
       "      <td>D:/canopy_data/examples/test_2_chips_filtered\\...</td>\n",
       "      <td>test_2_chips.1.tif</td>\n",
       "      <td>1</td>\n",
       "    </tr>\n",
       "    <tr>\n",
       "      <th>80</th>\n",
       "      <td>D:/canopy_data/examples/test_2_chips_filtered\\...</td>\n",
       "      <td>test_2_chips.2.tif</td>\n",
       "      <td>2</td>\n",
       "    </tr>\n",
       "    <tr>\n",
       "      <th>161</th>\n",
       "      <td>D:/canopy_data/examples/test_2_chips_filtered\\...</td>\n",
       "      <td>test_2_chips.3.tif</td>\n",
       "      <td>3</td>\n",
       "    </tr>\n",
       "    <tr>\n",
       "      <th>455</th>\n",
       "      <td>D:/canopy_data/examples/test_2_chips_filtered\\...</td>\n",
       "      <td>test_2_chips.4.tif</td>\n",
       "      <td>4</td>\n",
       "    </tr>\n",
       "  </tbody>\n",
       "</table>\n",
       "</div>"
      ],
      "text/plain": [
       "                                                   uri                name  \\\n",
       "0    D:/canopy_data/examples/test_2_chips_filtered\\...  test_2_chips.0.tif   \n",
       "1    D:/canopy_data/examples/test_2_chips_filtered\\...  test_2_chips.1.tif   \n",
       "80   D:/canopy_data/examples/test_2_chips_filtered\\...  test_2_chips.2.tif   \n",
       "161  D:/canopy_data/examples/test_2_chips_filtered\\...  test_2_chips.3.tif   \n",
       "455  D:/canopy_data/examples/test_2_chips_filtered\\...  test_2_chips.4.tif   \n",
       "\n",
       "     num  \n",
       "0      0  \n",
       "1      1  \n",
       "80     2  \n",
       "161    3  \n",
       "455    4  "
      ]
     },
     "execution_count": 33,
     "metadata": {},
     "output_type": "execute_result"
    }
   ],
   "source": [
    "df2 = df.sort_values(by='num')\n",
    "df2.head()"
   ]
  },
  {
   "cell_type": "code",
   "execution_count": 39,
   "metadata": {},
   "outputs": [
    {
     "data": {
      "text/html": [
       "<div>\n",
       "<style scoped>\n",
       "    .dataframe tbody tr th:only-of-type {\n",
       "        vertical-align: middle;\n",
       "    }\n",
       "\n",
       "    .dataframe tbody tr th {\n",
       "        vertical-align: top;\n",
       "    }\n",
       "\n",
       "    .dataframe thead th {\n",
       "        text-align: right;\n",
       "    }\n",
       "</style>\n",
       "<table border=\"1\" class=\"dataframe\">\n",
       "  <thead>\n",
       "    <tr style=\"text-align: right;\">\n",
       "      <th></th>\n",
       "      <th>uri</th>\n",
       "      <th>name</th>\n",
       "      <th>num</th>\n",
       "      <th>new_uri</th>\n",
       "    </tr>\n",
       "  </thead>\n",
       "  <tbody>\n",
       "    <tr>\n",
       "      <th>0</th>\n",
       "      <td>D:/canopy_data/examples/test_2_chips_filtered\\...</td>\n",
       "      <td>test_2_chips.0.tif</td>\n",
       "      <td>0</td>\n",
       "      <td>D:/canopy_data/examples/test_2_chips_filtered\\...</td>\n",
       "    </tr>\n",
       "    <tr>\n",
       "      <th>1</th>\n",
       "      <td>D:/canopy_data/examples/test_2_chips_filtered\\...</td>\n",
       "      <td>test_2_chips.1.tif</td>\n",
       "      <td>1</td>\n",
       "      <td>D:/canopy_data/examples/test_2_chips_filtered\\...</td>\n",
       "    </tr>\n",
       "    <tr>\n",
       "      <th>2</th>\n",
       "      <td>D:/canopy_data/examples/test_2_chips_filtered\\...</td>\n",
       "      <td>test_2_chips.2.tif</td>\n",
       "      <td>2</td>\n",
       "      <td>D:/canopy_data/examples/test_2_chips_filtered\\...</td>\n",
       "    </tr>\n",
       "    <tr>\n",
       "      <th>3</th>\n",
       "      <td>D:/canopy_data/examples/test_2_chips_filtered\\...</td>\n",
       "      <td>test_2_chips.3.tif</td>\n",
       "      <td>3</td>\n",
       "      <td>D:/canopy_data/examples/test_2_chips_filtered\\...</td>\n",
       "    </tr>\n",
       "    <tr>\n",
       "      <th>4</th>\n",
       "      <td>D:/canopy_data/examples/test_2_chips_filtered\\...</td>\n",
       "      <td>test_2_chips.4.tif</td>\n",
       "      <td>4</td>\n",
       "      <td>D:/canopy_data/examples/test_2_chips_filtered\\...</td>\n",
       "    </tr>\n",
       "  </tbody>\n",
       "</table>\n",
       "</div>"
      ],
      "text/plain": [
       "                                                 uri                name  num  \\\n",
       "0  D:/canopy_data/examples/test_2_chips_filtered\\...  test_2_chips.0.tif    0   \n",
       "1  D:/canopy_data/examples/test_2_chips_filtered\\...  test_2_chips.1.tif    1   \n",
       "2  D:/canopy_data/examples/test_2_chips_filtered\\...  test_2_chips.2.tif    2   \n",
       "3  D:/canopy_data/examples/test_2_chips_filtered\\...  test_2_chips.3.tif    3   \n",
       "4  D:/canopy_data/examples/test_2_chips_filtered\\...  test_2_chips.4.tif    4   \n",
       "\n",
       "                                             new_uri  \n",
       "0  D:/canopy_data/examples/test_2_chips_filtered\\...  \n",
       "1  D:/canopy_data/examples/test_2_chips_filtered\\...  \n",
       "2  D:/canopy_data/examples/test_2_chips_filtered\\...  \n",
       "3  D:/canopy_data/examples/test_2_chips_filtered\\...  \n",
       "4  D:/canopy_data/examples/test_2_chips_filtered\\...  "
      ]
     },
     "execution_count": 39,
     "metadata": {},
     "output_type": "execute_result"
    }
   ],
   "source": [
    "#df2 = df2.reset_index(drop=True)\n",
    "\n",
    "i = 0\n",
    "\n",
    "new_uris = []\n",
    "\n",
    "for row in range(len(df2)):\n",
    "    uri = df2.loc[row, 'uri']\n",
    "    num = df2.loc[row, 'num']\n",
    "    if num != i:\n",
    "        base = uri.split('\\\\')[0]\n",
    "        new_uri = base + f'\\\\test_2_chips.{i}.tif'\n",
    "        os.rename(uri, new_uri)\n",
    "        new_uris.append(new_uri)\n",
    "    else:\n",
    "        new_uris.append(uri)\n",
    "        \n",
    "    i += 1\n",
    "    \n",
    "df2['new_uri'] = new_uris\n",
    "\n",
    "df2.head()"
   ]
  },
  {
   "cell_type": "code",
   "execution_count": 42,
   "metadata": {},
   "outputs": [
    {
     "data": {
      "text/html": [
       "<div>\n",
       "<style scoped>\n",
       "    .dataframe tbody tr th:only-of-type {\n",
       "        vertical-align: middle;\n",
       "    }\n",
       "\n",
       "    .dataframe tbody tr th {\n",
       "        vertical-align: top;\n",
       "    }\n",
       "\n",
       "    .dataframe thead th {\n",
       "        text-align: right;\n",
       "    }\n",
       "</style>\n",
       "<table border=\"1\" class=\"dataframe\">\n",
       "  <thead>\n",
       "    <tr style=\"text-align: right;\">\n",
       "      <th></th>\n",
       "      <th>uri</th>\n",
       "      <th>name</th>\n",
       "      <th>num</th>\n",
       "      <th>new_uri</th>\n",
       "      <th>new_name</th>\n",
       "    </tr>\n",
       "  </thead>\n",
       "  <tbody>\n",
       "    <tr>\n",
       "      <th>0</th>\n",
       "      <td>D:/canopy_data/examples/test_2_chips_filtered\\...</td>\n",
       "      <td>test_2_chips.0.tif</td>\n",
       "      <td>0</td>\n",
       "      <td>D:/canopy_data/examples/test_2_chips_filtered\\...</td>\n",
       "      <td>test_2_chips.0.tif</td>\n",
       "    </tr>\n",
       "    <tr>\n",
       "      <th>1</th>\n",
       "      <td>D:/canopy_data/examples/test_2_chips_filtered\\...</td>\n",
       "      <td>test_2_chips.1.tif</td>\n",
       "      <td>1</td>\n",
       "      <td>D:/canopy_data/examples/test_2_chips_filtered\\...</td>\n",
       "      <td>test_2_chips.1.tif</td>\n",
       "    </tr>\n",
       "    <tr>\n",
       "      <th>2</th>\n",
       "      <td>D:/canopy_data/examples/test_2_chips_filtered\\...</td>\n",
       "      <td>test_2_chips.2.tif</td>\n",
       "      <td>2</td>\n",
       "      <td>D:/canopy_data/examples/test_2_chips_filtered\\...</td>\n",
       "      <td>test_2_chips.2.tif</td>\n",
       "    </tr>\n",
       "    <tr>\n",
       "      <th>3</th>\n",
       "      <td>D:/canopy_data/examples/test_2_chips_filtered\\...</td>\n",
       "      <td>test_2_chips.3.tif</td>\n",
       "      <td>3</td>\n",
       "      <td>D:/canopy_data/examples/test_2_chips_filtered\\...</td>\n",
       "      <td>test_2_chips.3.tif</td>\n",
       "    </tr>\n",
       "    <tr>\n",
       "      <th>4</th>\n",
       "      <td>D:/canopy_data/examples/test_2_chips_filtered\\...</td>\n",
       "      <td>test_2_chips.4.tif</td>\n",
       "      <td>4</td>\n",
       "      <td>D:/canopy_data/examples/test_2_chips_filtered\\...</td>\n",
       "      <td>test_2_chips.4.tif</td>\n",
       "    </tr>\n",
       "  </tbody>\n",
       "</table>\n",
       "</div>"
      ],
      "text/plain": [
       "                                                 uri                name  num  \\\n",
       "0  D:/canopy_data/examples/test_2_chips_filtered\\...  test_2_chips.0.tif    0   \n",
       "1  D:/canopy_data/examples/test_2_chips_filtered\\...  test_2_chips.1.tif    1   \n",
       "2  D:/canopy_data/examples/test_2_chips_filtered\\...  test_2_chips.2.tif    2   \n",
       "3  D:/canopy_data/examples/test_2_chips_filtered\\...  test_2_chips.3.tif    3   \n",
       "4  D:/canopy_data/examples/test_2_chips_filtered\\...  test_2_chips.4.tif    4   \n",
       "\n",
       "                                             new_uri            new_name  \n",
       "0  D:/canopy_data/examples/test_2_chips_filtered\\...  test_2_chips.0.tif  \n",
       "1  D:/canopy_data/examples/test_2_chips_filtered\\...  test_2_chips.1.tif  \n",
       "2  D:/canopy_data/examples/test_2_chips_filtered\\...  test_2_chips.2.tif  \n",
       "3  D:/canopy_data/examples/test_2_chips_filtered\\...  test_2_chips.3.tif  \n",
       "4  D:/canopy_data/examples/test_2_chips_filtered\\...  test_2_chips.4.tif  "
      ]
     },
     "execution_count": 42,
     "metadata": {},
     "output_type": "execute_result"
    }
   ],
   "source": [
    "df2['new_name'] = df2['new_uri'].apply(lambda x: x.split('\\\\')[1])\n",
    "df2.head()"
   ]
  },
  {
   "cell_type": "code",
   "execution_count": 43,
   "metadata": {},
   "outputs": [
    {
     "data": {
      "text/html": [
       "<div>\n",
       "<style scoped>\n",
       "    .dataframe tbody tr th:only-of-type {\n",
       "        vertical-align: middle;\n",
       "    }\n",
       "\n",
       "    .dataframe tbody tr th {\n",
       "        vertical-align: top;\n",
       "    }\n",
       "\n",
       "    .dataframe thead th {\n",
       "        text-align: right;\n",
       "    }\n",
       "</style>\n",
       "<table border=\"1\" class=\"dataframe\">\n",
       "  <thead>\n",
       "    <tr style=\"text-align: right;\">\n",
       "      <th></th>\n",
       "      <th>uri</th>\n",
       "      <th>name</th>\n",
       "      <th>num</th>\n",
       "      <th>new_uri</th>\n",
       "      <th>new_name</th>\n",
       "    </tr>\n",
       "  </thead>\n",
       "  <tbody>\n",
       "    <tr>\n",
       "      <th>807</th>\n",
       "      <td>D:/canopy_data/examples/test_2_chips_filtered\\...</td>\n",
       "      <td>test_2_chips.7022.tif</td>\n",
       "      <td>7022</td>\n",
       "      <td>D:/canopy_data/examples/test_2_chips_filtered\\...</td>\n",
       "      <td>test_2_chips.807.tif</td>\n",
       "    </tr>\n",
       "    <tr>\n",
       "      <th>808</th>\n",
       "      <td>D:/canopy_data/examples/test_2_chips_filtered\\...</td>\n",
       "      <td>test_2_chips.7023.tif</td>\n",
       "      <td>7023</td>\n",
       "      <td>D:/canopy_data/examples/test_2_chips_filtered\\...</td>\n",
       "      <td>test_2_chips.808.tif</td>\n",
       "    </tr>\n",
       "    <tr>\n",
       "      <th>809</th>\n",
       "      <td>D:/canopy_data/examples/test_2_chips_filtered\\...</td>\n",
       "      <td>test_2_chips.7024.tif</td>\n",
       "      <td>7024</td>\n",
       "      <td>D:/canopy_data/examples/test_2_chips_filtered\\...</td>\n",
       "      <td>test_2_chips.809.tif</td>\n",
       "    </tr>\n",
       "    <tr>\n",
       "      <th>810</th>\n",
       "      <td>D:/canopy_data/examples/test_2_chips_filtered\\...</td>\n",
       "      <td>test_2_chips.7025.tif</td>\n",
       "      <td>7025</td>\n",
       "      <td>D:/canopy_data/examples/test_2_chips_filtered\\...</td>\n",
       "      <td>test_2_chips.810.tif</td>\n",
       "    </tr>\n",
       "    <tr>\n",
       "      <th>811</th>\n",
       "      <td>D:/canopy_data/examples/test_2_chips_filtered\\...</td>\n",
       "      <td>test_2_chips.7026.tif</td>\n",
       "      <td>7026</td>\n",
       "      <td>D:/canopy_data/examples/test_2_chips_filtered\\...</td>\n",
       "      <td>test_2_chips.811.tif</td>\n",
       "    </tr>\n",
       "  </tbody>\n",
       "</table>\n",
       "</div>"
      ],
      "text/plain": [
       "                                                   uri                   name  \\\n",
       "807  D:/canopy_data/examples/test_2_chips_filtered\\...  test_2_chips.7022.tif   \n",
       "808  D:/canopy_data/examples/test_2_chips_filtered\\...  test_2_chips.7023.tif   \n",
       "809  D:/canopy_data/examples/test_2_chips_filtered\\...  test_2_chips.7024.tif   \n",
       "810  D:/canopy_data/examples/test_2_chips_filtered\\...  test_2_chips.7025.tif   \n",
       "811  D:/canopy_data/examples/test_2_chips_filtered\\...  test_2_chips.7026.tif   \n",
       "\n",
       "      num                                            new_uri  \\\n",
       "807  7022  D:/canopy_data/examples/test_2_chips_filtered\\...   \n",
       "808  7023  D:/canopy_data/examples/test_2_chips_filtered\\...   \n",
       "809  7024  D:/canopy_data/examples/test_2_chips_filtered\\...   \n",
       "810  7025  D:/canopy_data/examples/test_2_chips_filtered\\...   \n",
       "811  7026  D:/canopy_data/examples/test_2_chips_filtered\\...   \n",
       "\n",
       "                 new_name  \n",
       "807  test_2_chips.807.tif  \n",
       "808  test_2_chips.808.tif  \n",
       "809  test_2_chips.809.tif  \n",
       "810  test_2_chips.810.tif  \n",
       "811  test_2_chips.811.tif  "
      ]
     },
     "execution_count": 43,
     "metadata": {},
     "output_type": "execute_result"
    }
   ],
   "source": [
    "df2.tail()"
   ]
  },
  {
   "cell_type": "code",
   "execution_count": 49,
   "metadata": {},
   "outputs": [],
   "source": [
    "def attach_trailing_slash(uri):\n",
    "    if uri[-1] == '/':\n",
    "        return uri\n",
    "    elif uri[-1] == '\\\\':\n",
    "        return uri\n",
    "    else:\n",
    "        return uri + '/'"
   ]
  },
  {
   "cell_type": "code",
   "execution_count": 47,
   "metadata": {},
   "outputs": [],
   "source": [
    "def remove_no_data_chips(folder):\n",
    "    base = attach_leading_slash(folder)\n",
    "        \n",
    "    chip_names = glob.glob(base + '*.tif')\n",
    "    \n",
    "    for name in chip_names:\n",
    "        with rio.open(name) as f:\n",
    "            raster = f.read()\n",
    "        \n",
    "        if np.count_nonzero(raster) == 0:\n",
    "            os.remove(name)"
   ]
  },
  {
   "cell_type": "code",
   "execution_count": 50,
   "metadata": {},
   "outputs": [],
   "source": [
    "def reset_chip_names(folder):\n",
    "    base = attach_leading_slash(folder)\n",
    "    \n",
    "    chip_names = glob.glob(base + '*.tif')\n",
    "    \n",
    "    df = pd.DataFrame()\n",
    "\n",
    "    df['uri'] = chip_names\n",
    "    df['num'] = df['name'].apply(lambda x: int(x.split('.')[1]))\n",
    "    df = df.sort_values(by='num')\n",
    "    df = df.reset_index(drop=True)\n",
    "    \n",
    "    i = 0\n",
    "    for row in range(len(df)):\n",
    "        uri = df.loc[row, 'uri']\n",
    "        num = df.loc[row, 'num']\n",
    "        if num != i:\n",
    "            base = uri.split('\\\\')[0]\n",
    "            new_uri = base + f'\\\\test_2_chips.{i}.tif'\n",
    "            os.rename(uri, new_uri)\n",
    "            new_uris.append(new_uri)\n",
    "        i += 1"
   ]
  },
  {
   "cell_type": "code",
   "execution_count": null,
   "metadata": {},
   "outputs": [],
   "source": []
  }
 ],
 "metadata": {
  "kernelspec": {
   "display_name": "canopy-conda",
   "language": "python",
   "name": "canopy_conda"
  },
  "language_info": {
   "codemirror_mode": {
    "name": "ipython",
    "version": 3
   },
   "file_extension": ".py",
   "mimetype": "text/x-python",
   "name": "python",
   "nbconvert_exporter": "python",
   "pygments_lexer": "ipython3",
   "version": "3.8.5"
  }
 },
 "nbformat": 4,
 "nbformat_minor": 4
}
