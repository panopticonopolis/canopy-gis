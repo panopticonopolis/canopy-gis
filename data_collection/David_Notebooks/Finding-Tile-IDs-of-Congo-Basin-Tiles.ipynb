{
 "cells": [
  {
   "cell_type": "code",
   "execution_count": 1,
   "metadata": {},
   "outputs": [],
   "source": [
    "# Import statements\n",
    "\n",
    "from sentinelsat import SentinelAPI, read_geojson, geojson_to_wkt\n",
    "from datetime import date\n",
    "from env_vars import sentinel_username,sentinel_password\n",
    "import glob\n",
    "import pandas as pd\n",
    "import subprocess"
   ]
  },
  {
   "cell_type": "code",
   "execution_count": 2,
   "metadata": {},
   "outputs": [],
   "source": [
    "# Copying functions from the \"Download TCI Files with Google API\" notebook\n",
    "\n",
    "def get_api():\n",
    "    \"\"\"Returns a SentinelAPI object linked to the imported username and password\"\"\"\n",
    "    \n",
    "    return SentinelAPI(sentinel_username, sentinel_password, \"https://scihub.copernicus.eu/apihub/\")\n",
    "\n",
    "\n",
    "def get_products_df(api, footprint, date_start, date_end,\n",
    "                 area='IsWithin',\n",
    "                 platform='Sentinel-2', cloudcover=(1,5)):\n",
    "    \"\"\"Queries for products from the Sentinel API.\"\"\"\n",
    "    \n",
    "    products = api.query(footprint,\n",
    "                         date=(date_start, date_end),\n",
    "                         area_relation=area,\n",
    "                         platformname=platform,\n",
    "                         cloudcoverpercentage=cloudcover)\n",
    "    \n",
    "    return api.to_dataframe(products)"
   ]
  },
  {
   "cell_type": "code",
   "execution_count": 3,
   "metadata": {},
   "outputs": [],
   "source": [
    "api = get_api()"
   ]
  },
  {
   "cell_type": "code",
   "execution_count": 18,
   "metadata": {},
   "outputs": [],
   "source": [
    "# Polygon containing the entire congo basin\n",
    "\n",
    "footprint = geojson_to_wkt(read_geojson('./data/Geometry/congo_basin_boundary/Congo_Basin_Boundary_no_islands_v4.geojson'))"
   ]
  },
  {
   "cell_type": "code",
   "execution_count": 5,
   "metadata": {},
   "outputs": [],
   "source": [
    "# Since I'm pulling so many products, I'll do it by week to (hopefully!) lessen timeouts\n",
    "\n",
    "dates = [\n",
    "    (date(2020, 9, 1), date(2020, 9, 7),\n",
    "     date(2020, 9, 8), date(2020, 9, 14),\n",
    "     date(2020, 9, 15), date(2020, 9, 21),\n",
    "     date(2020, 9, 22), date(2020, 9, 30))\n",
    "]"
   ]
  },
  {
   "cell_type": "code",
   "execution_count": 8,
   "metadata": {},
   "outputs": [
    {
     "name": "stdout",
     "output_type": "stream",
     "text": [
      "Getting data from 2020-09-01 to 2020-09-07\n",
      "Finished\n"
     ]
    }
   ],
   "source": [
    "df = pd.DataFrame()\n",
    "\n",
    "for date_range in dates:\n",
    "    start = date_range[0]\n",
    "    end = date_range[1]\n",
    "    print(f'Getting data from {start} to {end}')\n",
    "    api = get_api()\n",
    "    df2 = get_products_df(api, footprint, start, end)\n",
    "    df = pd.concat([df, df2])\n",
    "    # Do both \"IsWithin\" and \"Intersects\"\n",
    "    df3 = get_products_df(api, footprint, start, end, area='Intersects')\n",
    "    df = pd.concat([df, df3])\n",
    "    \n",
    "print('Finished')"
   ]
  },
  {
   "cell_type": "code",
   "execution_count": 9,
   "metadata": {},
   "outputs": [
    {
     "name": "stdout",
     "output_type": "stream",
     "text": [
      "(58, 33)\n"
     ]
    },
    {
     "data": {
      "text/html": [
       "<div>\n",
       "<style scoped>\n",
       "    .dataframe tbody tr th:only-of-type {\n",
       "        vertical-align: middle;\n",
       "    }\n",
       "\n",
       "    .dataframe tbody tr th {\n",
       "        vertical-align: top;\n",
       "    }\n",
       "\n",
       "    .dataframe thead th {\n",
       "        text-align: right;\n",
       "    }\n",
       "</style>\n",
       "<table border=\"1\" class=\"dataframe\">\n",
       "  <thead>\n",
       "    <tr style=\"text-align: right;\">\n",
       "      <th></th>\n",
       "      <th>title</th>\n",
       "      <th>link</th>\n",
       "      <th>link_alternative</th>\n",
       "      <th>link_icon</th>\n",
       "      <th>summary</th>\n",
       "      <th>datatakesensingstart</th>\n",
       "      <th>beginposition</th>\n",
       "      <th>endposition</th>\n",
       "      <th>ingestiondate</th>\n",
       "      <th>orbitnumber</th>\n",
       "      <th>...</th>\n",
       "      <th>instrumentshortname</th>\n",
       "      <th>size</th>\n",
       "      <th>s2datatakeid</th>\n",
       "      <th>producttype</th>\n",
       "      <th>platformidentifier</th>\n",
       "      <th>orbitdirection</th>\n",
       "      <th>platformserialidentifier</th>\n",
       "      <th>processinglevel</th>\n",
       "      <th>identifier</th>\n",
       "      <th>uuid</th>\n",
       "    </tr>\n",
       "  </thead>\n",
       "  <tbody>\n",
       "    <tr>\n",
       "      <th>b3216196-7720-48c5-b003-556e591ec574</th>\n",
       "      <td>S2B_MSIL1C_20200906T084559_N0209_R107_T34NEF_2...</td>\n",
       "      <td>https://scihub.copernicus.eu/apihub/odata/v1/P...</td>\n",
       "      <td>https://scihub.copernicus.eu/apihub/odata/v1/P...</td>\n",
       "      <td>https://scihub.copernicus.eu/apihub/odata/v1/P...</td>\n",
       "      <td>Date: 2020-09-06T08:45:59.024Z, Instrument: MS...</td>\n",
       "      <td>2020-09-06 08:45:59.024</td>\n",
       "      <td>2020-09-06 08:45:59.024</td>\n",
       "      <td>2020-09-06 08:45:59.024</td>\n",
       "      <td>2020-09-07 03:56:12.706</td>\n",
       "      <td>18294</td>\n",
       "      <td>...</td>\n",
       "      <td>MSI</td>\n",
       "      <td>276.41 MB</td>\n",
       "      <td>GS2B_20200906T084559_018294_N02.09</td>\n",
       "      <td>S2MSI1C</td>\n",
       "      <td>2017-013A</td>\n",
       "      <td>DESCENDING</td>\n",
       "      <td>Sentinel-2B</td>\n",
       "      <td>Level-1C</td>\n",
       "      <td>S2B_MSIL1C_20200906T084559_N0209_R107_T34NEF_2...</td>\n",
       "      <td>b3216196-7720-48c5-b003-556e591ec574</td>\n",
       "    </tr>\n",
       "    <tr>\n",
       "      <th>6e3af652-f139-4d62-87d4-5b06b83332e6</th>\n",
       "      <td>S2B_MSIL1C_20200906T084559_N0209_R107_T34MED_2...</td>\n",
       "      <td>https://scihub.copernicus.eu/apihub/odata/v1/P...</td>\n",
       "      <td>https://scihub.copernicus.eu/apihub/odata/v1/P...</td>\n",
       "      <td>https://scihub.copernicus.eu/apihub/odata/v1/P...</td>\n",
       "      <td>Date: 2020-09-06T08:45:59.024Z, Instrument: MS...</td>\n",
       "      <td>2020-09-06 08:45:59.024</td>\n",
       "      <td>2020-09-06 08:45:59.024</td>\n",
       "      <td>2020-09-06 08:45:59.024</td>\n",
       "      <td>2020-09-07 03:52:12.045</td>\n",
       "      <td>18294</td>\n",
       "      <td>...</td>\n",
       "      <td>MSI</td>\n",
       "      <td>29.80 MB</td>\n",
       "      <td>GS2B_20200906T084559_018294_N02.09</td>\n",
       "      <td>S2MSI1C</td>\n",
       "      <td>2017-013A</td>\n",
       "      <td>DESCENDING</td>\n",
       "      <td>Sentinel-2B</td>\n",
       "      <td>Level-1C</td>\n",
       "      <td>S2B_MSIL1C_20200906T084559_N0209_R107_T34MED_2...</td>\n",
       "      <td>6e3af652-f139-4d62-87d4-5b06b83332e6</td>\n",
       "    </tr>\n",
       "    <tr>\n",
       "      <th>b6ca0581-a492-4e8e-87c2-c89d7befed8e</th>\n",
       "      <td>S2B_MSIL1C_20200906T084559_N0209_R107_T33MZT_2...</td>\n",
       "      <td>https://scihub.copernicus.eu/apihub/odata/v1/P...</td>\n",
       "      <td>https://scihub.copernicus.eu/apihub/odata/v1/P...</td>\n",
       "      <td>https://scihub.copernicus.eu/apihub/odata/v1/P...</td>\n",
       "      <td>Date: 2020-09-06T08:45:59.024Z, Instrument: MS...</td>\n",
       "      <td>2020-09-06 08:45:59.024</td>\n",
       "      <td>2020-09-06 08:45:59.024</td>\n",
       "      <td>2020-09-06 08:45:59.024</td>\n",
       "      <td>2020-09-07 03:40:32.266</td>\n",
       "      <td>18294</td>\n",
       "      <td>...</td>\n",
       "      <td>MSI</td>\n",
       "      <td>459.46 MB</td>\n",
       "      <td>GS2B_20200906T084559_018294_N02.09</td>\n",
       "      <td>S2MSI1C</td>\n",
       "      <td>2017-013A</td>\n",
       "      <td>DESCENDING</td>\n",
       "      <td>Sentinel-2B</td>\n",
       "      <td>Level-1C</td>\n",
       "      <td>S2B_MSIL1C_20200906T084559_N0209_R107_T33MZT_2...</td>\n",
       "      <td>b6ca0581-a492-4e8e-87c2-c89d7befed8e</td>\n",
       "    </tr>\n",
       "    <tr>\n",
       "      <th>249f89de-9d18-4952-b7d7-14d7fd75c0c2</th>\n",
       "      <td>S2B_MSIL1C_20200903T083609_N0209_R064_T34MEU_2...</td>\n",
       "      <td>https://scihub.copernicus.eu/apihub/odata/v1/P...</td>\n",
       "      <td>https://scihub.copernicus.eu/apihub/odata/v1/P...</td>\n",
       "      <td>https://scihub.copernicus.eu/apihub/odata/v1/P...</td>\n",
       "      <td>Date: 2020-09-03T08:36:09.024Z, Instrument: MS...</td>\n",
       "      <td>2020-09-03 08:36:09.024</td>\n",
       "      <td>2020-09-03 08:36:09.024</td>\n",
       "      <td>2020-09-03 08:36:09.024</td>\n",
       "      <td>2020-09-05 23:38:31.890</td>\n",
       "      <td>18251</td>\n",
       "      <td>...</td>\n",
       "      <td>MSI</td>\n",
       "      <td>731.91 MB</td>\n",
       "      <td>GS2B_20200903T083609_018251_N02.09</td>\n",
       "      <td>S2MSI1C</td>\n",
       "      <td>2017-013A</td>\n",
       "      <td>DESCENDING</td>\n",
       "      <td>Sentinel-2B</td>\n",
       "      <td>Level-1C</td>\n",
       "      <td>S2B_MSIL1C_20200903T083609_N0209_R064_T34MEU_2...</td>\n",
       "      <td>249f89de-9d18-4952-b7d7-14d7fd75c0c2</td>\n",
       "    </tr>\n",
       "    <tr>\n",
       "      <th>896cb38b-dc22-4269-9fa8-7c44398b084c</th>\n",
       "      <td>S2B_MSIL1C_20200903T083609_N0209_R064_T34MDV_2...</td>\n",
       "      <td>https://scihub.copernicus.eu/apihub/odata/v1/P...</td>\n",
       "      <td>https://scihub.copernicus.eu/apihub/odata/v1/P...</td>\n",
       "      <td>https://scihub.copernicus.eu/apihub/odata/v1/P...</td>\n",
       "      <td>Date: 2020-09-03T08:36:09.024Z, Instrument: MS...</td>\n",
       "      <td>2020-09-03 08:36:09.024</td>\n",
       "      <td>2020-09-03 08:36:09.024</td>\n",
       "      <td>2020-09-03 08:36:09.024</td>\n",
       "      <td>2020-09-05 23:30:46.185</td>\n",
       "      <td>18251</td>\n",
       "      <td>...</td>\n",
       "      <td>MSI</td>\n",
       "      <td>711.87 MB</td>\n",
       "      <td>GS2B_20200903T083609_018251_N02.09</td>\n",
       "      <td>S2MSI1C</td>\n",
       "      <td>2017-013A</td>\n",
       "      <td>DESCENDING</td>\n",
       "      <td>Sentinel-2B</td>\n",
       "      <td>Level-1C</td>\n",
       "      <td>S2B_MSIL1C_20200903T083609_N0209_R064_T34MDV_2...</td>\n",
       "      <td>896cb38b-dc22-4269-9fa8-7c44398b084c</td>\n",
       "    </tr>\n",
       "  </tbody>\n",
       "</table>\n",
       "<p>5 rows × 33 columns</p>\n",
       "</div>"
      ],
      "text/plain": [
       "                                                                                  title  \\\n",
       "b3216196-7720-48c5-b003-556e591ec574  S2B_MSIL1C_20200906T084559_N0209_R107_T34NEF_2...   \n",
       "6e3af652-f139-4d62-87d4-5b06b83332e6  S2B_MSIL1C_20200906T084559_N0209_R107_T34MED_2...   \n",
       "b6ca0581-a492-4e8e-87c2-c89d7befed8e  S2B_MSIL1C_20200906T084559_N0209_R107_T33MZT_2...   \n",
       "249f89de-9d18-4952-b7d7-14d7fd75c0c2  S2B_MSIL1C_20200903T083609_N0209_R064_T34MEU_2...   \n",
       "896cb38b-dc22-4269-9fa8-7c44398b084c  S2B_MSIL1C_20200903T083609_N0209_R064_T34MDV_2...   \n",
       "\n",
       "                                                                                   link  \\\n",
       "b3216196-7720-48c5-b003-556e591ec574  https://scihub.copernicus.eu/apihub/odata/v1/P...   \n",
       "6e3af652-f139-4d62-87d4-5b06b83332e6  https://scihub.copernicus.eu/apihub/odata/v1/P...   \n",
       "b6ca0581-a492-4e8e-87c2-c89d7befed8e  https://scihub.copernicus.eu/apihub/odata/v1/P...   \n",
       "249f89de-9d18-4952-b7d7-14d7fd75c0c2  https://scihub.copernicus.eu/apihub/odata/v1/P...   \n",
       "896cb38b-dc22-4269-9fa8-7c44398b084c  https://scihub.copernicus.eu/apihub/odata/v1/P...   \n",
       "\n",
       "                                                                       link_alternative  \\\n",
       "b3216196-7720-48c5-b003-556e591ec574  https://scihub.copernicus.eu/apihub/odata/v1/P...   \n",
       "6e3af652-f139-4d62-87d4-5b06b83332e6  https://scihub.copernicus.eu/apihub/odata/v1/P...   \n",
       "b6ca0581-a492-4e8e-87c2-c89d7befed8e  https://scihub.copernicus.eu/apihub/odata/v1/P...   \n",
       "249f89de-9d18-4952-b7d7-14d7fd75c0c2  https://scihub.copernicus.eu/apihub/odata/v1/P...   \n",
       "896cb38b-dc22-4269-9fa8-7c44398b084c  https://scihub.copernicus.eu/apihub/odata/v1/P...   \n",
       "\n",
       "                                                                              link_icon  \\\n",
       "b3216196-7720-48c5-b003-556e591ec574  https://scihub.copernicus.eu/apihub/odata/v1/P...   \n",
       "6e3af652-f139-4d62-87d4-5b06b83332e6  https://scihub.copernicus.eu/apihub/odata/v1/P...   \n",
       "b6ca0581-a492-4e8e-87c2-c89d7befed8e  https://scihub.copernicus.eu/apihub/odata/v1/P...   \n",
       "249f89de-9d18-4952-b7d7-14d7fd75c0c2  https://scihub.copernicus.eu/apihub/odata/v1/P...   \n",
       "896cb38b-dc22-4269-9fa8-7c44398b084c  https://scihub.copernicus.eu/apihub/odata/v1/P...   \n",
       "\n",
       "                                                                                summary  \\\n",
       "b3216196-7720-48c5-b003-556e591ec574  Date: 2020-09-06T08:45:59.024Z, Instrument: MS...   \n",
       "6e3af652-f139-4d62-87d4-5b06b83332e6  Date: 2020-09-06T08:45:59.024Z, Instrument: MS...   \n",
       "b6ca0581-a492-4e8e-87c2-c89d7befed8e  Date: 2020-09-06T08:45:59.024Z, Instrument: MS...   \n",
       "249f89de-9d18-4952-b7d7-14d7fd75c0c2  Date: 2020-09-03T08:36:09.024Z, Instrument: MS...   \n",
       "896cb38b-dc22-4269-9fa8-7c44398b084c  Date: 2020-09-03T08:36:09.024Z, Instrument: MS...   \n",
       "\n",
       "                                        datatakesensingstart  \\\n",
       "b3216196-7720-48c5-b003-556e591ec574 2020-09-06 08:45:59.024   \n",
       "6e3af652-f139-4d62-87d4-5b06b83332e6 2020-09-06 08:45:59.024   \n",
       "b6ca0581-a492-4e8e-87c2-c89d7befed8e 2020-09-06 08:45:59.024   \n",
       "249f89de-9d18-4952-b7d7-14d7fd75c0c2 2020-09-03 08:36:09.024   \n",
       "896cb38b-dc22-4269-9fa8-7c44398b084c 2020-09-03 08:36:09.024   \n",
       "\n",
       "                                               beginposition  \\\n",
       "b3216196-7720-48c5-b003-556e591ec574 2020-09-06 08:45:59.024   \n",
       "6e3af652-f139-4d62-87d4-5b06b83332e6 2020-09-06 08:45:59.024   \n",
       "b6ca0581-a492-4e8e-87c2-c89d7befed8e 2020-09-06 08:45:59.024   \n",
       "249f89de-9d18-4952-b7d7-14d7fd75c0c2 2020-09-03 08:36:09.024   \n",
       "896cb38b-dc22-4269-9fa8-7c44398b084c 2020-09-03 08:36:09.024   \n",
       "\n",
       "                                                 endposition  \\\n",
       "b3216196-7720-48c5-b003-556e591ec574 2020-09-06 08:45:59.024   \n",
       "6e3af652-f139-4d62-87d4-5b06b83332e6 2020-09-06 08:45:59.024   \n",
       "b6ca0581-a492-4e8e-87c2-c89d7befed8e 2020-09-06 08:45:59.024   \n",
       "249f89de-9d18-4952-b7d7-14d7fd75c0c2 2020-09-03 08:36:09.024   \n",
       "896cb38b-dc22-4269-9fa8-7c44398b084c 2020-09-03 08:36:09.024   \n",
       "\n",
       "                                               ingestiondate  orbitnumber  \\\n",
       "b3216196-7720-48c5-b003-556e591ec574 2020-09-07 03:56:12.706        18294   \n",
       "6e3af652-f139-4d62-87d4-5b06b83332e6 2020-09-07 03:52:12.045        18294   \n",
       "b6ca0581-a492-4e8e-87c2-c89d7befed8e 2020-09-07 03:40:32.266        18294   \n",
       "249f89de-9d18-4952-b7d7-14d7fd75c0c2 2020-09-05 23:38:31.890        18251   \n",
       "896cb38b-dc22-4269-9fa8-7c44398b084c 2020-09-05 23:30:46.185        18251   \n",
       "\n",
       "                                      ...  instrumentshortname       size  \\\n",
       "b3216196-7720-48c5-b003-556e591ec574  ...                  MSI  276.41 MB   \n",
       "6e3af652-f139-4d62-87d4-5b06b83332e6  ...                  MSI   29.80 MB   \n",
       "b6ca0581-a492-4e8e-87c2-c89d7befed8e  ...                  MSI  459.46 MB   \n",
       "249f89de-9d18-4952-b7d7-14d7fd75c0c2  ...                  MSI  731.91 MB   \n",
       "896cb38b-dc22-4269-9fa8-7c44398b084c  ...                  MSI  711.87 MB   \n",
       "\n",
       "                                                            s2datatakeid  \\\n",
       "b3216196-7720-48c5-b003-556e591ec574  GS2B_20200906T084559_018294_N02.09   \n",
       "6e3af652-f139-4d62-87d4-5b06b83332e6  GS2B_20200906T084559_018294_N02.09   \n",
       "b6ca0581-a492-4e8e-87c2-c89d7befed8e  GS2B_20200906T084559_018294_N02.09   \n",
       "249f89de-9d18-4952-b7d7-14d7fd75c0c2  GS2B_20200903T083609_018251_N02.09   \n",
       "896cb38b-dc22-4269-9fa8-7c44398b084c  GS2B_20200903T083609_018251_N02.09   \n",
       "\n",
       "                                     producttype platformidentifier  \\\n",
       "b3216196-7720-48c5-b003-556e591ec574     S2MSI1C          2017-013A   \n",
       "6e3af652-f139-4d62-87d4-5b06b83332e6     S2MSI1C          2017-013A   \n",
       "b6ca0581-a492-4e8e-87c2-c89d7befed8e     S2MSI1C          2017-013A   \n",
       "249f89de-9d18-4952-b7d7-14d7fd75c0c2     S2MSI1C          2017-013A   \n",
       "896cb38b-dc22-4269-9fa8-7c44398b084c     S2MSI1C          2017-013A   \n",
       "\n",
       "                                     orbitdirection platformserialidentifier  \\\n",
       "b3216196-7720-48c5-b003-556e591ec574     DESCENDING              Sentinel-2B   \n",
       "6e3af652-f139-4d62-87d4-5b06b83332e6     DESCENDING              Sentinel-2B   \n",
       "b6ca0581-a492-4e8e-87c2-c89d7befed8e     DESCENDING              Sentinel-2B   \n",
       "249f89de-9d18-4952-b7d7-14d7fd75c0c2     DESCENDING              Sentinel-2B   \n",
       "896cb38b-dc22-4269-9fa8-7c44398b084c     DESCENDING              Sentinel-2B   \n",
       "\n",
       "                                     processinglevel  \\\n",
       "b3216196-7720-48c5-b003-556e591ec574        Level-1C   \n",
       "6e3af652-f139-4d62-87d4-5b06b83332e6        Level-1C   \n",
       "b6ca0581-a492-4e8e-87c2-c89d7befed8e        Level-1C   \n",
       "249f89de-9d18-4952-b7d7-14d7fd75c0c2        Level-1C   \n",
       "896cb38b-dc22-4269-9fa8-7c44398b084c        Level-1C   \n",
       "\n",
       "                                                                             identifier  \\\n",
       "b3216196-7720-48c5-b003-556e591ec574  S2B_MSIL1C_20200906T084559_N0209_R107_T34NEF_2...   \n",
       "6e3af652-f139-4d62-87d4-5b06b83332e6  S2B_MSIL1C_20200906T084559_N0209_R107_T34MED_2...   \n",
       "b6ca0581-a492-4e8e-87c2-c89d7befed8e  S2B_MSIL1C_20200906T084559_N0209_R107_T33MZT_2...   \n",
       "249f89de-9d18-4952-b7d7-14d7fd75c0c2  S2B_MSIL1C_20200903T083609_N0209_R064_T34MEU_2...   \n",
       "896cb38b-dc22-4269-9fa8-7c44398b084c  S2B_MSIL1C_20200903T083609_N0209_R064_T34MDV_2...   \n",
       "\n",
       "                                                                      uuid  \n",
       "b3216196-7720-48c5-b003-556e591ec574  b3216196-7720-48c5-b003-556e591ec574  \n",
       "6e3af652-f139-4d62-87d4-5b06b83332e6  6e3af652-f139-4d62-87d4-5b06b83332e6  \n",
       "b6ca0581-a492-4e8e-87c2-c89d7befed8e  b6ca0581-a492-4e8e-87c2-c89d7befed8e  \n",
       "249f89de-9d18-4952-b7d7-14d7fd75c0c2  249f89de-9d18-4952-b7d7-14d7fd75c0c2  \n",
       "896cb38b-dc22-4269-9fa8-7c44398b084c  896cb38b-dc22-4269-9fa8-7c44398b084c  \n",
       "\n",
       "[5 rows x 33 columns]"
      ]
     },
     "execution_count": 9,
     "metadata": {},
     "output_type": "execute_result"
    }
   ],
   "source": [
    "print(df.shape)\n",
    "\n",
    "df.head()"
   ]
  },
  {
   "cell_type": "code",
   "execution_count": 4,
   "metadata": {},
   "outputs": [],
   "source": [
    "# Rewrite this function so that it pulls products by week\n",
    "\n",
    "def get_products_df_for_year(api, footprint, year, cloudcover, df_list, date_range_list):\n",
    "    # It's basically impossible to run this without encountering a timeout at some point.\n",
    "    # So I include \"df_list\" and \"date_range_list\" arguments. Because lists are passed by reference,\n",
    "    # these list objects retain their information even if you re-run the function.\n",
    "    \"\"\"Obtains a products_df for an entire year.\n",
    "    Operates week by week, refreshing the API each time, to avoid timeouts.\"\"\"\n",
    "    \n",
    "    # Tracks how many days are in each month.\n",
    "    months_dict = {\n",
    "        1: 31,\n",
    "        2: 28,\n",
    "        3: 31,\n",
    "        4: 30,\n",
    "        5: 31,\n",
    "        6: 30,\n",
    "        7: 31,\n",
    "        8: 31,\n",
    "        9: 30,\n",
    "        10: 31,\n",
    "        11: 30,\n",
    "        12: 31\n",
    "    }\n",
    "    \n",
    "    month_start = 1\n",
    "    month_end = 13\n",
    "    if year < 2015 or year > 2020:\n",
    "        # These years have no products\n",
    "        return None\n",
    "    elif year == 2015:\n",
    "        # 2015 only has products starting in July\n",
    "        month_start = 7\n",
    "    elif year == 2016:\n",
    "        # 2016 was a leap year\n",
    "        months_dict[2] = 29\n",
    "    elif year == 2020:\n",
    "        # 2020 is a leap year.\n",
    "        months_dict[2] = 29\n",
    "        month_end = 8\n",
    "\n",
    "    date_ranges = []\n",
    "    for month in range(month_start, month_end):\n",
    "        date_ranges.append((date(year, month, 1), date(year, month, 7)))\n",
    "        date_ranges.append((date(year, month, 8), date(year, month, 14)))\n",
    "        date_ranges.append((date(year, month, 15), date(year, month, 21)))\n",
    "        date_ranges.append((date(year, month, 22), date(year, month, months_dict[month])))\n",
    "        \n",
    "    if df_list:\n",
    "        # If df_list is not empty, start with the last dataframe in it.\n",
    "        products_df = df_list[-1]\n",
    "    else:\n",
    "        # Otherwise, start with an empty dataframe.\n",
    "        products_df = pd.DataFrame()\n",
    "\n",
    "    for date_range in date_ranges:\n",
    "        # Only pull products from date ranges **not in** the date_range_list\n",
    "        if date_range not in date_range_list:\n",
    "            date_start = date_range[0]\n",
    "            date_end = date_range[1]\n",
    "            print(f'Getting products from {date_start} to {date_end}')\n",
    "            products_df_2 = get_products_df(api, footprint, date_start, date_end, cloudcover=cloudcover)\n",
    "            products_df = pd.concat([products_df, products_df_2])\n",
    "            products_df_3 = get_products_df(api, footprint, date_start, date_end, area='Intersects', cloudcover=cloudcover)\n",
    "            products_df = pd.concat([products_df, products_df_2])\n",
    "            print('Products so far:', len(products_df))\n",
    "            df_list.append(products_df)\n",
    "            date_range_list.append(date_range)\n",
    "            # As a result of appending these, df_list will keep track of each product_df,\n",
    "            # while date_range_list will keep track of all the date ranges we did queries for.\n",
    "        \n",
    "    return products_df"
   ]
  },
  {
   "cell_type": "code",
   "execution_count": 29,
   "metadata": {},
   "outputs": [
    {
     "name": "stdout",
     "output_type": "stream",
     "text": [
      "Getting products from 2019-01-01 to 2019-01-07\n"
     ]
    },
    {
     "name": "stderr",
     "output_type": "stream",
     "text": [
      "Querying products: 100%|██████████████████████████████████████████████████████| 112/112 [00:05<00:00, 19.96 products/s]\n"
     ]
    },
    {
     "name": "stdout",
     "output_type": "stream",
     "text": [
      "Products so far: 126\n",
      "Getting products from 2019-01-08 to 2019-01-14\n"
     ]
    },
    {
     "name": "stderr",
     "output_type": "stream",
     "text": [
      "Querying products: 100%|██████████████████████████████████████████████████████| 150/150 [00:06<00:00, 22.43 products/s]\n"
     ]
    },
    {
     "name": "stdout",
     "output_type": "stream",
     "text": [
      "Products so far: 302\n",
      "Getting products from 2019-01-15 to 2019-01-21\n"
     ]
    },
    {
     "name": "stderr",
     "output_type": "stream",
     "text": [
      "Querying products: 100%|██████████████████████████████████████████████████████| 141/141 [00:10<00:00, 13.91 products/s]\n"
     ]
    },
    {
     "name": "stdout",
     "output_type": "stream",
     "text": [
      "Products so far: 476\n",
      "Getting products from 2019-01-22 to 2019-01-31\n"
     ]
    },
    {
     "name": "stderr",
     "output_type": "stream",
     "text": [
      "Querying products: 100%|██████████████████████████████████████████████████████| 130/130 [00:06<00:00, 18.67 products/s]\n"
     ]
    },
    {
     "name": "stdout",
     "output_type": "stream",
     "text": [
      "Products so far: 622\n",
      "Getting products from 2019-02-01 to 2019-02-07\n"
     ]
    },
    {
     "name": "stderr",
     "output_type": "stream",
     "text": [
      "Querying products: 100%|██████████████████████████████████████████████████████| 101/101 [00:04<00:00, 21.56 products/s]\n"
     ]
    },
    {
     "name": "stdout",
     "output_type": "stream",
     "text": [
      "Products so far: 724\n",
      "Getting products from 2019-02-08 to 2019-02-14\n"
     ]
    },
    {
     "name": "stderr",
     "output_type": "stream",
     "text": [
      "Querying products: 100%|██████████████████████████████████████████████████████| 131/131 [00:04<00:00, 29.70 products/s]\n"
     ]
    },
    {
     "name": "stdout",
     "output_type": "stream",
     "text": [
      "Products so far: 914\n",
      "Getting products from 2019-02-15 to 2019-02-21\n",
      "Products so far: 1056\n",
      "Getting products from 2019-02-22 to 2019-02-28\n",
      "Products so far: 1162\n",
      "Getting products from 2019-03-01 to 2019-03-07\n"
     ]
    },
    {
     "ename": "SentinelAPIError",
     "evalue": "HTTP status 500 Internal Server Error: SolrServerException : Timeout occured while waiting response from server at: http://172.30.175.89:8983/solr/dhus",
     "output_type": "error",
     "traceback": [
      "\u001b[1;31m---------------------------------------------------------------------------\u001b[0m",
      "\u001b[1;31mSentinelAPIError\u001b[0m                          Traceback (most recent call last)",
      "\u001b[1;32m<ipython-input-29-e3038cf905fb>\u001b[0m in \u001b[0;36m<module>\u001b[1;34m\u001b[0m\n\u001b[0;32m      2\u001b[0m \u001b[0mdate_range_list\u001b[0m \u001b[1;33m=\u001b[0m \u001b[1;33m[\u001b[0m\u001b[1;33m]\u001b[0m\u001b[1;33m\u001b[0m\u001b[1;33m\u001b[0m\u001b[0m\n\u001b[0;32m      3\u001b[0m \u001b[1;33m\u001b[0m\u001b[0m\n\u001b[1;32m----> 4\u001b[1;33m \u001b[0mdf\u001b[0m \u001b[1;33m=\u001b[0m \u001b[0mget_products_df_for_year\u001b[0m\u001b[1;33m(\u001b[0m\u001b[0mapi\u001b[0m\u001b[1;33m,\u001b[0m \u001b[0mfootprint\u001b[0m\u001b[1;33m,\u001b[0m \u001b[1;36m2019\u001b[0m\u001b[1;33m,\u001b[0m \u001b[1;33m(\u001b[0m\u001b[1;36m0\u001b[0m\u001b[1;33m,\u001b[0m \u001b[1;36m10\u001b[0m\u001b[1;33m)\u001b[0m\u001b[1;33m,\u001b[0m \u001b[0mdf_list\u001b[0m\u001b[1;33m,\u001b[0m \u001b[0mdate_range_list\u001b[0m\u001b[1;33m)\u001b[0m\u001b[1;33m\u001b[0m\u001b[1;33m\u001b[0m\u001b[0m\n\u001b[0m",
      "\u001b[1;32m<ipython-input-21-1b7a87bec69d>\u001b[0m in \u001b[0;36mget_products_df_for_year\u001b[1;34m(api, footprint, year, cloudcover, df_list, date_range_list)\u001b[0m\n\u001b[0;32m     52\u001b[0m             \u001b[0mdate_end\u001b[0m \u001b[1;33m=\u001b[0m \u001b[0mdate_range\u001b[0m\u001b[1;33m[\u001b[0m\u001b[1;36m1\u001b[0m\u001b[1;33m]\u001b[0m\u001b[1;33m\u001b[0m\u001b[1;33m\u001b[0m\u001b[0m\n\u001b[0;32m     53\u001b[0m             \u001b[0mprint\u001b[0m\u001b[1;33m(\u001b[0m\u001b[1;34mf'Getting products from {date_start} to {date_end}'\u001b[0m\u001b[1;33m)\u001b[0m\u001b[1;33m\u001b[0m\u001b[1;33m\u001b[0m\u001b[0m\n\u001b[1;32m---> 54\u001b[1;33m             \u001b[0mproducts_df_2\u001b[0m \u001b[1;33m=\u001b[0m \u001b[0mget_products_df\u001b[0m\u001b[1;33m(\u001b[0m\u001b[0mapi\u001b[0m\u001b[1;33m,\u001b[0m \u001b[0mfootprint\u001b[0m\u001b[1;33m,\u001b[0m \u001b[0mdate_start\u001b[0m\u001b[1;33m,\u001b[0m \u001b[0mdate_end\u001b[0m\u001b[1;33m,\u001b[0m \u001b[0mcloudcover\u001b[0m\u001b[1;33m=\u001b[0m\u001b[0mcloudcover\u001b[0m\u001b[1;33m)\u001b[0m\u001b[1;33m\u001b[0m\u001b[1;33m\u001b[0m\u001b[0m\n\u001b[0m\u001b[0;32m     55\u001b[0m             \u001b[0mproducts_df\u001b[0m \u001b[1;33m=\u001b[0m \u001b[0mpd\u001b[0m\u001b[1;33m.\u001b[0m\u001b[0mconcat\u001b[0m\u001b[1;33m(\u001b[0m\u001b[1;33m[\u001b[0m\u001b[0mproducts_df\u001b[0m\u001b[1;33m,\u001b[0m \u001b[0mproducts_df_2\u001b[0m\u001b[1;33m]\u001b[0m\u001b[1;33m)\u001b[0m\u001b[1;33m\u001b[0m\u001b[1;33m\u001b[0m\u001b[0m\n\u001b[0;32m     56\u001b[0m             \u001b[0mproducts_df_3\u001b[0m \u001b[1;33m=\u001b[0m \u001b[0mget_products_df\u001b[0m\u001b[1;33m(\u001b[0m\u001b[0mapi\u001b[0m\u001b[1;33m,\u001b[0m \u001b[0mfootprint\u001b[0m\u001b[1;33m,\u001b[0m \u001b[0mdate_start\u001b[0m\u001b[1;33m,\u001b[0m \u001b[0mdate_end\u001b[0m\u001b[1;33m,\u001b[0m \u001b[0marea\u001b[0m\u001b[1;33m=\u001b[0m\u001b[1;34m'Intersects'\u001b[0m\u001b[1;33m,\u001b[0m \u001b[0mcloudcover\u001b[0m\u001b[1;33m=\u001b[0m\u001b[0mcloudcover\u001b[0m\u001b[1;33m)\u001b[0m\u001b[1;33m\u001b[0m\u001b[1;33m\u001b[0m\u001b[0m\n",
      "\u001b[1;32m<ipython-input-2-4a75dd329e69>\u001b[0m in \u001b[0;36mget_products_df\u001b[1;34m(api, footprint, date_start, date_end, area, raw, platform, cloudcover)\u001b[0m\n\u001b[0;32m     10\u001b[0m     \u001b[1;34m\"\"\"Queries for products from the Sentinel API.\"\"\"\u001b[0m\u001b[1;33m\u001b[0m\u001b[1;33m\u001b[0m\u001b[0m\n\u001b[0;32m     11\u001b[0m \u001b[1;33m\u001b[0m\u001b[0m\n\u001b[1;32m---> 12\u001b[1;33m     products = api.query(footprint,\n\u001b[0m\u001b[0;32m     13\u001b[0m                          \u001b[0mdate\u001b[0m\u001b[1;33m=\u001b[0m\u001b[1;33m(\u001b[0m\u001b[0mdate_start\u001b[0m\u001b[1;33m,\u001b[0m \u001b[0mdate_end\u001b[0m\u001b[1;33m)\u001b[0m\u001b[1;33m,\u001b[0m\u001b[1;33m\u001b[0m\u001b[1;33m\u001b[0m\u001b[0m\n\u001b[0;32m     14\u001b[0m                          \u001b[0marea_relation\u001b[0m\u001b[1;33m=\u001b[0m\u001b[0marea\u001b[0m\u001b[1;33m,\u001b[0m\u001b[1;33m\u001b[0m\u001b[1;33m\u001b[0m\u001b[0m\n",
      "\u001b[1;32mC:\\Anaconda3\\envs\\canopy_conda\\lib\\site-packages\\sentinelsat\\sentinel.py\u001b[0m in \u001b[0;36mquery\u001b[1;34m(self, area, date, raw, area_relation, order_by, limit, offset, **keywords)\u001b[0m\n\u001b[0;32m    206\u001b[0m         )\n\u001b[0;32m    207\u001b[0m         \u001b[0mformatted_order_by\u001b[0m \u001b[1;33m=\u001b[0m \u001b[0m_format_order_by\u001b[0m\u001b[1;33m(\u001b[0m\u001b[0morder_by\u001b[0m\u001b[1;33m)\u001b[0m\u001b[1;33m\u001b[0m\u001b[1;33m\u001b[0m\u001b[0m\n\u001b[1;32m--> 208\u001b[1;33m         \u001b[0mresponse\u001b[0m\u001b[1;33m,\u001b[0m \u001b[0mcount\u001b[0m \u001b[1;33m=\u001b[0m \u001b[0mself\u001b[0m\u001b[1;33m.\u001b[0m\u001b[0m_load_query\u001b[0m\u001b[1;33m(\u001b[0m\u001b[0mquery\u001b[0m\u001b[1;33m,\u001b[0m \u001b[0mformatted_order_by\u001b[0m\u001b[1;33m,\u001b[0m \u001b[0mlimit\u001b[0m\u001b[1;33m,\u001b[0m \u001b[0moffset\u001b[0m\u001b[1;33m)\u001b[0m\u001b[1;33m\u001b[0m\u001b[1;33m\u001b[0m\u001b[0m\n\u001b[0m\u001b[0;32m    209\u001b[0m         \u001b[0mself\u001b[0m\u001b[1;33m.\u001b[0m\u001b[0mlogger\u001b[0m\u001b[1;33m.\u001b[0m\u001b[0minfo\u001b[0m\u001b[1;33m(\u001b[0m\u001b[1;34m\"Found %s products\"\u001b[0m\u001b[1;33m,\u001b[0m \u001b[0mcount\u001b[0m\u001b[1;33m)\u001b[0m\u001b[1;33m\u001b[0m\u001b[1;33m\u001b[0m\u001b[0m\n\u001b[0;32m    210\u001b[0m         \u001b[1;32mreturn\u001b[0m \u001b[0m_parse_opensearch_response\u001b[0m\u001b[1;33m(\u001b[0m\u001b[0mresponse\u001b[0m\u001b[1;33m)\u001b[0m\u001b[1;33m\u001b[0m\u001b[1;33m\u001b[0m\u001b[0m\n",
      "\u001b[1;32mC:\\Anaconda3\\envs\\canopy_conda\\lib\\site-packages\\sentinelsat\\sentinel.py\u001b[0m in \u001b[0;36m_load_query\u001b[1;34m(self, query, order_by, limit, offset)\u001b[0m\n\u001b[0;32m    347\u001b[0m \u001b[1;33m\u001b[0m\u001b[0m\n\u001b[0;32m    348\u001b[0m     \u001b[1;32mdef\u001b[0m \u001b[0m_load_query\u001b[0m\u001b[1;33m(\u001b[0m\u001b[0mself\u001b[0m\u001b[1;33m,\u001b[0m \u001b[0mquery\u001b[0m\u001b[1;33m,\u001b[0m \u001b[0morder_by\u001b[0m\u001b[1;33m=\u001b[0m\u001b[1;32mNone\u001b[0m\u001b[1;33m,\u001b[0m \u001b[0mlimit\u001b[0m\u001b[1;33m=\u001b[0m\u001b[1;32mNone\u001b[0m\u001b[1;33m,\u001b[0m \u001b[0moffset\u001b[0m\u001b[1;33m=\u001b[0m\u001b[1;36m0\u001b[0m\u001b[1;33m)\u001b[0m\u001b[1;33m:\u001b[0m\u001b[1;33m\u001b[0m\u001b[1;33m\u001b[0m\u001b[0m\n\u001b[1;32m--> 349\u001b[1;33m         \u001b[0mproducts\u001b[0m\u001b[1;33m,\u001b[0m \u001b[0mcount\u001b[0m \u001b[1;33m=\u001b[0m \u001b[0mself\u001b[0m\u001b[1;33m.\u001b[0m\u001b[0m_load_subquery\u001b[0m\u001b[1;33m(\u001b[0m\u001b[0mquery\u001b[0m\u001b[1;33m,\u001b[0m \u001b[0morder_by\u001b[0m\u001b[1;33m,\u001b[0m \u001b[0mlimit\u001b[0m\u001b[1;33m,\u001b[0m \u001b[0moffset\u001b[0m\u001b[1;33m)\u001b[0m\u001b[1;33m\u001b[0m\u001b[1;33m\u001b[0m\u001b[0m\n\u001b[0m\u001b[0;32m    350\u001b[0m \u001b[1;33m\u001b[0m\u001b[0m\n\u001b[0;32m    351\u001b[0m         \u001b[1;31m# repeat query until all results have been loaded\u001b[0m\u001b[1;33m\u001b[0m\u001b[1;33m\u001b[0m\u001b[1;33m\u001b[0m\u001b[0m\n",
      "\u001b[1;32mC:\\Anaconda3\\envs\\canopy_conda\\lib\\site-packages\\sentinelsat\\sentinel.py\u001b[0m in \u001b[0;36m_load_subquery\u001b[1;34m(self, query, order_by, limit, offset)\u001b[0m\n\u001b[0;32m    385\u001b[0m             \u001b[0mtimeout\u001b[0m\u001b[1;33m=\u001b[0m\u001b[0mself\u001b[0m\u001b[1;33m.\u001b[0m\u001b[0mtimeout\u001b[0m\u001b[1;33m,\u001b[0m\u001b[1;33m\u001b[0m\u001b[1;33m\u001b[0m\u001b[0m\n\u001b[0;32m    386\u001b[0m         )\n\u001b[1;32m--> 387\u001b[1;33m         \u001b[0m_check_scihub_response\u001b[0m\u001b[1;33m(\u001b[0m\u001b[0mresponse\u001b[0m\u001b[1;33m)\u001b[0m\u001b[1;33m\u001b[0m\u001b[1;33m\u001b[0m\u001b[0m\n\u001b[0m\u001b[0;32m    388\u001b[0m \u001b[1;33m\u001b[0m\u001b[0m\n\u001b[0;32m    389\u001b[0m         \u001b[1;31m# store last status code (for testing)\u001b[0m\u001b[1;33m\u001b[0m\u001b[1;33m\u001b[0m\u001b[1;33m\u001b[0m\u001b[0m\n",
      "\u001b[1;32mC:\\Anaconda3\\envs\\canopy_conda\\lib\\site-packages\\sentinelsat\\sentinel.py\u001b[0m in \u001b[0;36m_check_scihub_response\u001b[1;34m(response, test_json)\u001b[0m\n\u001b[0;32m   1318\u001b[0m         \u001b[1;31m# See PEP 409\u001b[0m\u001b[1;33m\u001b[0m\u001b[1;33m\u001b[0m\u001b[1;33m\u001b[0m\u001b[0m\n\u001b[0;32m   1319\u001b[0m         \u001b[0mapi_error\u001b[0m\u001b[1;33m.\u001b[0m\u001b[0m__cause__\u001b[0m \u001b[1;33m=\u001b[0m \u001b[1;32mNone\u001b[0m\u001b[1;33m\u001b[0m\u001b[1;33m\u001b[0m\u001b[0m\n\u001b[1;32m-> 1320\u001b[1;33m         \u001b[1;32mraise\u001b[0m \u001b[0mapi_error\u001b[0m\u001b[1;33m\u001b[0m\u001b[1;33m\u001b[0m\u001b[0m\n\u001b[0m\u001b[0;32m   1321\u001b[0m \u001b[1;33m\u001b[0m\u001b[0m\n\u001b[0;32m   1322\u001b[0m \u001b[1;33m\u001b[0m\u001b[0m\n",
      "\u001b[1;31mSentinelAPIError\u001b[0m: HTTP status 500 Internal Server Error: SolrServerException : Timeout occured while waiting response from server at: http://172.30.175.89:8983/solr/dhus"
     ]
    }
   ],
   "source": [
    "df_list = []\n",
    "date_range_list = []\n",
    "\n",
    "# Rerun the function as many times as it takes until we get the whole year.\n",
    "df = get_products_df_for_year(api, footprint, 2019, (0, 10), df_list, date_range_list)"
   ]
  },
  {
   "cell_type": "code",
   "execution_count": 30,
   "metadata": {},
   "outputs": [
    {
     "data": {
      "text/plain": [
       "[(datetime.date(2019, 1, 1), datetime.date(2019, 1, 7)),\n",
       " (datetime.date(2019, 1, 8), datetime.date(2019, 1, 14)),\n",
       " (datetime.date(2019, 1, 15), datetime.date(2019, 1, 21)),\n",
       " (datetime.date(2019, 1, 22), datetime.date(2019, 1, 31)),\n",
       " (datetime.date(2019, 2, 1), datetime.date(2019, 2, 7)),\n",
       " (datetime.date(2019, 2, 8), datetime.date(2019, 2, 14)),\n",
       " (datetime.date(2019, 2, 15), datetime.date(2019, 2, 21)),\n",
       " (datetime.date(2019, 2, 22), datetime.date(2019, 2, 28))]"
      ]
     },
     "execution_count": 30,
     "metadata": {},
     "output_type": "execute_result"
    }
   ],
   "source": [
    "# Confirm that the list arguments worked as intended\n",
    "\n",
    "date_range_list"
   ]
  },
  {
   "cell_type": "code",
   "execution_count": 32,
   "metadata": {},
   "outputs": [
    {
     "data": {
      "text/plain": [
       "(1162, 35)"
      ]
     },
     "execution_count": 32,
     "metadata": {},
     "output_type": "execute_result"
    }
   ],
   "source": [
    "df_list[-1].shape\n",
    "\n",
    "# They did!"
   ]
  },
  {
   "cell_type": "code",
   "execution_count": 35,
   "metadata": {},
   "outputs": [
    {
     "name": "stdout",
     "output_type": "stream",
     "text": [
      "Getting products from 2019-03-01 to 2019-03-07\n",
      "Products so far: 1246\n",
      "Getting products from 2019-03-08 to 2019-03-14\n"
     ]
    },
    {
     "name": "stderr",
     "output_type": "stream",
     "text": [
      "Querying products: 100%|██████████████████████████████████████████████████████| 111/111 [00:14<00:00,  7.65 products/s]\n",
      "Querying products: 100%|██████████████████████████████████████████████████████| 171/171 [00:06<00:00, 26.15 products/s]\n"
     ]
    },
    {
     "name": "stdout",
     "output_type": "stream",
     "text": [
      "Products so far: 1468\n",
      "Getting products from 2019-03-15 to 2019-03-21\n",
      "Products so far: 1580\n",
      "Getting products from 2019-03-22 to 2019-03-31\n",
      "Products so far: 1662\n",
      "Getting products from 2019-04-01 to 2019-04-07\n"
     ]
    },
    {
     "name": "stderr",
     "output_type": "stream",
     "text": [
      "Querying products: 100%|██████████████████████████████████████████████████████| 117/117 [00:06<00:00, 17.77 products/s]\n"
     ]
    },
    {
     "name": "stdout",
     "output_type": "stream",
     "text": [
      "Products so far: 1812\n",
      "Getting products from 2019-04-08 to 2019-04-14\n"
     ]
    },
    {
     "ename": "SentinelAPIError",
     "evalue": "HTTP status 500 Internal Server Error: SolrServerException : Timeout occured while waiting response from server at: http://172.30.175.89:8983/solr/dhus",
     "output_type": "error",
     "traceback": [
      "\u001b[1;31m---------------------------------------------------------------------------\u001b[0m",
      "\u001b[1;31mSentinelAPIError\u001b[0m                          Traceback (most recent call last)",
      "\u001b[1;32m<ipython-input-35-c870bf860120>\u001b[0m in \u001b[0;36m<module>\u001b[1;34m\u001b[0m\n\u001b[1;32m----> 1\u001b[1;33m \u001b[0mdf\u001b[0m \u001b[1;33m=\u001b[0m \u001b[0mget_products_df_for_year\u001b[0m\u001b[1;33m(\u001b[0m\u001b[0mapi\u001b[0m\u001b[1;33m,\u001b[0m \u001b[0mfootprint\u001b[0m\u001b[1;33m,\u001b[0m \u001b[1;36m2019\u001b[0m\u001b[1;33m,\u001b[0m \u001b[1;33m(\u001b[0m\u001b[1;36m0\u001b[0m\u001b[1;33m,\u001b[0m \u001b[1;36m10\u001b[0m\u001b[1;33m)\u001b[0m\u001b[1;33m,\u001b[0m \u001b[0mdf_list\u001b[0m\u001b[1;33m,\u001b[0m \u001b[0mdate_range_list\u001b[0m\u001b[1;33m)\u001b[0m\u001b[1;33m\u001b[0m\u001b[1;33m\u001b[0m\u001b[0m\n\u001b[0m",
      "\u001b[1;32m<ipython-input-21-1b7a87bec69d>\u001b[0m in \u001b[0;36mget_products_df_for_year\u001b[1;34m(api, footprint, year, cloudcover, df_list, date_range_list)\u001b[0m\n\u001b[0;32m     52\u001b[0m             \u001b[0mdate_end\u001b[0m \u001b[1;33m=\u001b[0m \u001b[0mdate_range\u001b[0m\u001b[1;33m[\u001b[0m\u001b[1;36m1\u001b[0m\u001b[1;33m]\u001b[0m\u001b[1;33m\u001b[0m\u001b[1;33m\u001b[0m\u001b[0m\n\u001b[0;32m     53\u001b[0m             \u001b[0mprint\u001b[0m\u001b[1;33m(\u001b[0m\u001b[1;34mf'Getting products from {date_start} to {date_end}'\u001b[0m\u001b[1;33m)\u001b[0m\u001b[1;33m\u001b[0m\u001b[1;33m\u001b[0m\u001b[0m\n\u001b[1;32m---> 54\u001b[1;33m             \u001b[0mproducts_df_2\u001b[0m \u001b[1;33m=\u001b[0m \u001b[0mget_products_df\u001b[0m\u001b[1;33m(\u001b[0m\u001b[0mapi\u001b[0m\u001b[1;33m,\u001b[0m \u001b[0mfootprint\u001b[0m\u001b[1;33m,\u001b[0m \u001b[0mdate_start\u001b[0m\u001b[1;33m,\u001b[0m \u001b[0mdate_end\u001b[0m\u001b[1;33m,\u001b[0m \u001b[0mcloudcover\u001b[0m\u001b[1;33m=\u001b[0m\u001b[0mcloudcover\u001b[0m\u001b[1;33m)\u001b[0m\u001b[1;33m\u001b[0m\u001b[1;33m\u001b[0m\u001b[0m\n\u001b[0m\u001b[0;32m     55\u001b[0m             \u001b[0mproducts_df\u001b[0m \u001b[1;33m=\u001b[0m \u001b[0mpd\u001b[0m\u001b[1;33m.\u001b[0m\u001b[0mconcat\u001b[0m\u001b[1;33m(\u001b[0m\u001b[1;33m[\u001b[0m\u001b[0mproducts_df\u001b[0m\u001b[1;33m,\u001b[0m \u001b[0mproducts_df_2\u001b[0m\u001b[1;33m]\u001b[0m\u001b[1;33m)\u001b[0m\u001b[1;33m\u001b[0m\u001b[1;33m\u001b[0m\u001b[0m\n\u001b[0;32m     56\u001b[0m             \u001b[0mproducts_df_3\u001b[0m \u001b[1;33m=\u001b[0m \u001b[0mget_products_df\u001b[0m\u001b[1;33m(\u001b[0m\u001b[0mapi\u001b[0m\u001b[1;33m,\u001b[0m \u001b[0mfootprint\u001b[0m\u001b[1;33m,\u001b[0m \u001b[0mdate_start\u001b[0m\u001b[1;33m,\u001b[0m \u001b[0mdate_end\u001b[0m\u001b[1;33m,\u001b[0m \u001b[0marea\u001b[0m\u001b[1;33m=\u001b[0m\u001b[1;34m'Intersects'\u001b[0m\u001b[1;33m,\u001b[0m \u001b[0mcloudcover\u001b[0m\u001b[1;33m=\u001b[0m\u001b[0mcloudcover\u001b[0m\u001b[1;33m)\u001b[0m\u001b[1;33m\u001b[0m\u001b[1;33m\u001b[0m\u001b[0m\n",
      "\u001b[1;32m<ipython-input-2-4a75dd329e69>\u001b[0m in \u001b[0;36mget_products_df\u001b[1;34m(api, footprint, date_start, date_end, area, raw, platform, cloudcover)\u001b[0m\n\u001b[0;32m     10\u001b[0m     \u001b[1;34m\"\"\"Queries for products from the Sentinel API.\"\"\"\u001b[0m\u001b[1;33m\u001b[0m\u001b[1;33m\u001b[0m\u001b[0m\n\u001b[0;32m     11\u001b[0m \u001b[1;33m\u001b[0m\u001b[0m\n\u001b[1;32m---> 12\u001b[1;33m     products = api.query(footprint,\n\u001b[0m\u001b[0;32m     13\u001b[0m                          \u001b[0mdate\u001b[0m\u001b[1;33m=\u001b[0m\u001b[1;33m(\u001b[0m\u001b[0mdate_start\u001b[0m\u001b[1;33m,\u001b[0m \u001b[0mdate_end\u001b[0m\u001b[1;33m)\u001b[0m\u001b[1;33m,\u001b[0m\u001b[1;33m\u001b[0m\u001b[1;33m\u001b[0m\u001b[0m\n\u001b[0;32m     14\u001b[0m                          \u001b[0marea_relation\u001b[0m\u001b[1;33m=\u001b[0m\u001b[0marea\u001b[0m\u001b[1;33m,\u001b[0m\u001b[1;33m\u001b[0m\u001b[1;33m\u001b[0m\u001b[0m\n",
      "\u001b[1;32mC:\\Anaconda3\\envs\\canopy_conda\\lib\\site-packages\\sentinelsat\\sentinel.py\u001b[0m in \u001b[0;36mquery\u001b[1;34m(self, area, date, raw, area_relation, order_by, limit, offset, **keywords)\u001b[0m\n\u001b[0;32m    206\u001b[0m         )\n\u001b[0;32m    207\u001b[0m         \u001b[0mformatted_order_by\u001b[0m \u001b[1;33m=\u001b[0m \u001b[0m_format_order_by\u001b[0m\u001b[1;33m(\u001b[0m\u001b[0morder_by\u001b[0m\u001b[1;33m)\u001b[0m\u001b[1;33m\u001b[0m\u001b[1;33m\u001b[0m\u001b[0m\n\u001b[1;32m--> 208\u001b[1;33m         \u001b[0mresponse\u001b[0m\u001b[1;33m,\u001b[0m \u001b[0mcount\u001b[0m \u001b[1;33m=\u001b[0m \u001b[0mself\u001b[0m\u001b[1;33m.\u001b[0m\u001b[0m_load_query\u001b[0m\u001b[1;33m(\u001b[0m\u001b[0mquery\u001b[0m\u001b[1;33m,\u001b[0m \u001b[0mformatted_order_by\u001b[0m\u001b[1;33m,\u001b[0m \u001b[0mlimit\u001b[0m\u001b[1;33m,\u001b[0m \u001b[0moffset\u001b[0m\u001b[1;33m)\u001b[0m\u001b[1;33m\u001b[0m\u001b[1;33m\u001b[0m\u001b[0m\n\u001b[0m\u001b[0;32m    209\u001b[0m         \u001b[0mself\u001b[0m\u001b[1;33m.\u001b[0m\u001b[0mlogger\u001b[0m\u001b[1;33m.\u001b[0m\u001b[0minfo\u001b[0m\u001b[1;33m(\u001b[0m\u001b[1;34m\"Found %s products\"\u001b[0m\u001b[1;33m,\u001b[0m \u001b[0mcount\u001b[0m\u001b[1;33m)\u001b[0m\u001b[1;33m\u001b[0m\u001b[1;33m\u001b[0m\u001b[0m\n\u001b[0;32m    210\u001b[0m         \u001b[1;32mreturn\u001b[0m \u001b[0m_parse_opensearch_response\u001b[0m\u001b[1;33m(\u001b[0m\u001b[0mresponse\u001b[0m\u001b[1;33m)\u001b[0m\u001b[1;33m\u001b[0m\u001b[1;33m\u001b[0m\u001b[0m\n",
      "\u001b[1;32mC:\\Anaconda3\\envs\\canopy_conda\\lib\\site-packages\\sentinelsat\\sentinel.py\u001b[0m in \u001b[0;36m_load_query\u001b[1;34m(self, query, order_by, limit, offset)\u001b[0m\n\u001b[0;32m    347\u001b[0m \u001b[1;33m\u001b[0m\u001b[0m\n\u001b[0;32m    348\u001b[0m     \u001b[1;32mdef\u001b[0m \u001b[0m_load_query\u001b[0m\u001b[1;33m(\u001b[0m\u001b[0mself\u001b[0m\u001b[1;33m,\u001b[0m \u001b[0mquery\u001b[0m\u001b[1;33m,\u001b[0m \u001b[0morder_by\u001b[0m\u001b[1;33m=\u001b[0m\u001b[1;32mNone\u001b[0m\u001b[1;33m,\u001b[0m \u001b[0mlimit\u001b[0m\u001b[1;33m=\u001b[0m\u001b[1;32mNone\u001b[0m\u001b[1;33m,\u001b[0m \u001b[0moffset\u001b[0m\u001b[1;33m=\u001b[0m\u001b[1;36m0\u001b[0m\u001b[1;33m)\u001b[0m\u001b[1;33m:\u001b[0m\u001b[1;33m\u001b[0m\u001b[1;33m\u001b[0m\u001b[0m\n\u001b[1;32m--> 349\u001b[1;33m         \u001b[0mproducts\u001b[0m\u001b[1;33m,\u001b[0m \u001b[0mcount\u001b[0m \u001b[1;33m=\u001b[0m \u001b[0mself\u001b[0m\u001b[1;33m.\u001b[0m\u001b[0m_load_subquery\u001b[0m\u001b[1;33m(\u001b[0m\u001b[0mquery\u001b[0m\u001b[1;33m,\u001b[0m \u001b[0morder_by\u001b[0m\u001b[1;33m,\u001b[0m \u001b[0mlimit\u001b[0m\u001b[1;33m,\u001b[0m \u001b[0moffset\u001b[0m\u001b[1;33m)\u001b[0m\u001b[1;33m\u001b[0m\u001b[1;33m\u001b[0m\u001b[0m\n\u001b[0m\u001b[0;32m    350\u001b[0m \u001b[1;33m\u001b[0m\u001b[0m\n\u001b[0;32m    351\u001b[0m         \u001b[1;31m# repeat query until all results have been loaded\u001b[0m\u001b[1;33m\u001b[0m\u001b[1;33m\u001b[0m\u001b[1;33m\u001b[0m\u001b[0m\n",
      "\u001b[1;32mC:\\Anaconda3\\envs\\canopy_conda\\lib\\site-packages\\sentinelsat\\sentinel.py\u001b[0m in \u001b[0;36m_load_subquery\u001b[1;34m(self, query, order_by, limit, offset)\u001b[0m\n\u001b[0;32m    385\u001b[0m             \u001b[0mtimeout\u001b[0m\u001b[1;33m=\u001b[0m\u001b[0mself\u001b[0m\u001b[1;33m.\u001b[0m\u001b[0mtimeout\u001b[0m\u001b[1;33m,\u001b[0m\u001b[1;33m\u001b[0m\u001b[1;33m\u001b[0m\u001b[0m\n\u001b[0;32m    386\u001b[0m         )\n\u001b[1;32m--> 387\u001b[1;33m         \u001b[0m_check_scihub_response\u001b[0m\u001b[1;33m(\u001b[0m\u001b[0mresponse\u001b[0m\u001b[1;33m)\u001b[0m\u001b[1;33m\u001b[0m\u001b[1;33m\u001b[0m\u001b[0m\n\u001b[0m\u001b[0;32m    388\u001b[0m \u001b[1;33m\u001b[0m\u001b[0m\n\u001b[0;32m    389\u001b[0m         \u001b[1;31m# store last status code (for testing)\u001b[0m\u001b[1;33m\u001b[0m\u001b[1;33m\u001b[0m\u001b[1;33m\u001b[0m\u001b[0m\n",
      "\u001b[1;32mC:\\Anaconda3\\envs\\canopy_conda\\lib\\site-packages\\sentinelsat\\sentinel.py\u001b[0m in \u001b[0;36m_check_scihub_response\u001b[1;34m(response, test_json)\u001b[0m\n\u001b[0;32m   1318\u001b[0m         \u001b[1;31m# See PEP 409\u001b[0m\u001b[1;33m\u001b[0m\u001b[1;33m\u001b[0m\u001b[1;33m\u001b[0m\u001b[0m\n\u001b[0;32m   1319\u001b[0m         \u001b[0mapi_error\u001b[0m\u001b[1;33m.\u001b[0m\u001b[0m__cause__\u001b[0m \u001b[1;33m=\u001b[0m \u001b[1;32mNone\u001b[0m\u001b[1;33m\u001b[0m\u001b[1;33m\u001b[0m\u001b[0m\n\u001b[1;32m-> 1320\u001b[1;33m         \u001b[1;32mraise\u001b[0m \u001b[0mapi_error\u001b[0m\u001b[1;33m\u001b[0m\u001b[1;33m\u001b[0m\u001b[0m\n\u001b[0m\u001b[0;32m   1321\u001b[0m \u001b[1;33m\u001b[0m\u001b[0m\n\u001b[0;32m   1322\u001b[0m \u001b[1;33m\u001b[0m\u001b[0m\n",
      "\u001b[1;31mSentinelAPIError\u001b[0m: HTTP status 500 Internal Server Error: SolrServerException : Timeout occured while waiting response from server at: http://172.30.175.89:8983/solr/dhus"
     ]
    }
   ],
   "source": [
    "df = get_products_df_for_year(api, footprint, 2019, (0, 10), df_list, date_range_list)"
   ]
  },
  {
   "cell_type": "code",
   "execution_count": 36,
   "metadata": {},
   "outputs": [
    {
     "data": {
      "text/plain": [
       "[(datetime.date(2019, 1, 1), datetime.date(2019, 1, 7)),\n",
       " (datetime.date(2019, 1, 8), datetime.date(2019, 1, 14)),\n",
       " (datetime.date(2019, 1, 15), datetime.date(2019, 1, 21)),\n",
       " (datetime.date(2019, 1, 22), datetime.date(2019, 1, 31)),\n",
       " (datetime.date(2019, 2, 1), datetime.date(2019, 2, 7)),\n",
       " (datetime.date(2019, 2, 8), datetime.date(2019, 2, 14)),\n",
       " (datetime.date(2019, 2, 15), datetime.date(2019, 2, 21)),\n",
       " (datetime.date(2019, 2, 22), datetime.date(2019, 2, 28)),\n",
       " (datetime.date(2019, 3, 1), datetime.date(2019, 3, 7)),\n",
       " (datetime.date(2019, 3, 8), datetime.date(2019, 3, 14)),\n",
       " (datetime.date(2019, 3, 15), datetime.date(2019, 3, 21)),\n",
       " (datetime.date(2019, 3, 22), datetime.date(2019, 3, 31)),\n",
       " (datetime.date(2019, 4, 1), datetime.date(2019, 4, 7))]"
      ]
     },
     "execution_count": 36,
     "metadata": {},
     "output_type": "execute_result"
    }
   ],
   "source": [
    "date_range_list"
   ]
  },
  {
   "cell_type": "code",
   "execution_count": 37,
   "metadata": {},
   "outputs": [
    {
     "name": "stdout",
     "output_type": "stream",
     "text": [
      "Getting products from 2019-04-08 to 2019-04-14\n",
      "Products so far: 1876\n",
      "Getting products from 2019-04-15 to 2019-04-21\n",
      "Products so far: 1942\n",
      "Getting products from 2019-04-22 to 2019-04-30\n"
     ]
    },
    {
     "name": "stderr",
     "output_type": "stream",
     "text": [
      "Querying products: 100%|██████████████████████████████████████████████████████| 134/134 [00:06<00:00, 22.24 products/s]\n"
     ]
    },
    {
     "name": "stdout",
     "output_type": "stream",
     "text": [
      "Products so far: 2116\n",
      "Getting products from 2019-05-01 to 2019-05-07\n",
      "Products so far: 2210\n",
      "Getting products from 2019-05-08 to 2019-05-14\n"
     ]
    },
    {
     "ename": "SentinelAPIError",
     "evalue": "HTTP status 500 Internal Server Error: SolrServerException : Timeout occured while waiting response from server at: http://172.30.175.89:8983/solr/dhus",
     "output_type": "error",
     "traceback": [
      "\u001b[1;31m---------------------------------------------------------------------------\u001b[0m",
      "\u001b[1;31mSentinelAPIError\u001b[0m                          Traceback (most recent call last)",
      "\u001b[1;32m<ipython-input-37-c870bf860120>\u001b[0m in \u001b[0;36m<module>\u001b[1;34m\u001b[0m\n\u001b[1;32m----> 1\u001b[1;33m \u001b[0mdf\u001b[0m \u001b[1;33m=\u001b[0m \u001b[0mget_products_df_for_year\u001b[0m\u001b[1;33m(\u001b[0m\u001b[0mapi\u001b[0m\u001b[1;33m,\u001b[0m \u001b[0mfootprint\u001b[0m\u001b[1;33m,\u001b[0m \u001b[1;36m2019\u001b[0m\u001b[1;33m,\u001b[0m \u001b[1;33m(\u001b[0m\u001b[1;36m0\u001b[0m\u001b[1;33m,\u001b[0m \u001b[1;36m10\u001b[0m\u001b[1;33m)\u001b[0m\u001b[1;33m,\u001b[0m \u001b[0mdf_list\u001b[0m\u001b[1;33m,\u001b[0m \u001b[0mdate_range_list\u001b[0m\u001b[1;33m)\u001b[0m\u001b[1;33m\u001b[0m\u001b[1;33m\u001b[0m\u001b[0m\n\u001b[0m",
      "\u001b[1;32m<ipython-input-21-1b7a87bec69d>\u001b[0m in \u001b[0;36mget_products_df_for_year\u001b[1;34m(api, footprint, year, cloudcover, df_list, date_range_list)\u001b[0m\n\u001b[0;32m     52\u001b[0m             \u001b[0mdate_end\u001b[0m \u001b[1;33m=\u001b[0m \u001b[0mdate_range\u001b[0m\u001b[1;33m[\u001b[0m\u001b[1;36m1\u001b[0m\u001b[1;33m]\u001b[0m\u001b[1;33m\u001b[0m\u001b[1;33m\u001b[0m\u001b[0m\n\u001b[0;32m     53\u001b[0m             \u001b[0mprint\u001b[0m\u001b[1;33m(\u001b[0m\u001b[1;34mf'Getting products from {date_start} to {date_end}'\u001b[0m\u001b[1;33m)\u001b[0m\u001b[1;33m\u001b[0m\u001b[1;33m\u001b[0m\u001b[0m\n\u001b[1;32m---> 54\u001b[1;33m             \u001b[0mproducts_df_2\u001b[0m \u001b[1;33m=\u001b[0m \u001b[0mget_products_df\u001b[0m\u001b[1;33m(\u001b[0m\u001b[0mapi\u001b[0m\u001b[1;33m,\u001b[0m \u001b[0mfootprint\u001b[0m\u001b[1;33m,\u001b[0m \u001b[0mdate_start\u001b[0m\u001b[1;33m,\u001b[0m \u001b[0mdate_end\u001b[0m\u001b[1;33m,\u001b[0m \u001b[0mcloudcover\u001b[0m\u001b[1;33m=\u001b[0m\u001b[0mcloudcover\u001b[0m\u001b[1;33m)\u001b[0m\u001b[1;33m\u001b[0m\u001b[1;33m\u001b[0m\u001b[0m\n\u001b[0m\u001b[0;32m     55\u001b[0m             \u001b[0mproducts_df\u001b[0m \u001b[1;33m=\u001b[0m \u001b[0mpd\u001b[0m\u001b[1;33m.\u001b[0m\u001b[0mconcat\u001b[0m\u001b[1;33m(\u001b[0m\u001b[1;33m[\u001b[0m\u001b[0mproducts_df\u001b[0m\u001b[1;33m,\u001b[0m \u001b[0mproducts_df_2\u001b[0m\u001b[1;33m]\u001b[0m\u001b[1;33m)\u001b[0m\u001b[1;33m\u001b[0m\u001b[1;33m\u001b[0m\u001b[0m\n\u001b[0;32m     56\u001b[0m             \u001b[0mproducts_df_3\u001b[0m \u001b[1;33m=\u001b[0m \u001b[0mget_products_df\u001b[0m\u001b[1;33m(\u001b[0m\u001b[0mapi\u001b[0m\u001b[1;33m,\u001b[0m \u001b[0mfootprint\u001b[0m\u001b[1;33m,\u001b[0m \u001b[0mdate_start\u001b[0m\u001b[1;33m,\u001b[0m \u001b[0mdate_end\u001b[0m\u001b[1;33m,\u001b[0m \u001b[0marea\u001b[0m\u001b[1;33m=\u001b[0m\u001b[1;34m'Intersects'\u001b[0m\u001b[1;33m,\u001b[0m \u001b[0mcloudcover\u001b[0m\u001b[1;33m=\u001b[0m\u001b[0mcloudcover\u001b[0m\u001b[1;33m)\u001b[0m\u001b[1;33m\u001b[0m\u001b[1;33m\u001b[0m\u001b[0m\n",
      "\u001b[1;32m<ipython-input-2-4a75dd329e69>\u001b[0m in \u001b[0;36mget_products_df\u001b[1;34m(api, footprint, date_start, date_end, area, raw, platform, cloudcover)\u001b[0m\n\u001b[0;32m     10\u001b[0m     \u001b[1;34m\"\"\"Queries for products from the Sentinel API.\"\"\"\u001b[0m\u001b[1;33m\u001b[0m\u001b[1;33m\u001b[0m\u001b[0m\n\u001b[0;32m     11\u001b[0m \u001b[1;33m\u001b[0m\u001b[0m\n\u001b[1;32m---> 12\u001b[1;33m     products = api.query(footprint,\n\u001b[0m\u001b[0;32m     13\u001b[0m                          \u001b[0mdate\u001b[0m\u001b[1;33m=\u001b[0m\u001b[1;33m(\u001b[0m\u001b[0mdate_start\u001b[0m\u001b[1;33m,\u001b[0m \u001b[0mdate_end\u001b[0m\u001b[1;33m)\u001b[0m\u001b[1;33m,\u001b[0m\u001b[1;33m\u001b[0m\u001b[1;33m\u001b[0m\u001b[0m\n\u001b[0;32m     14\u001b[0m                          \u001b[0marea_relation\u001b[0m\u001b[1;33m=\u001b[0m\u001b[0marea\u001b[0m\u001b[1;33m,\u001b[0m\u001b[1;33m\u001b[0m\u001b[1;33m\u001b[0m\u001b[0m\n",
      "\u001b[1;32mC:\\Anaconda3\\envs\\canopy_conda\\lib\\site-packages\\sentinelsat\\sentinel.py\u001b[0m in \u001b[0;36mquery\u001b[1;34m(self, area, date, raw, area_relation, order_by, limit, offset, **keywords)\u001b[0m\n\u001b[0;32m    206\u001b[0m         )\n\u001b[0;32m    207\u001b[0m         \u001b[0mformatted_order_by\u001b[0m \u001b[1;33m=\u001b[0m \u001b[0m_format_order_by\u001b[0m\u001b[1;33m(\u001b[0m\u001b[0morder_by\u001b[0m\u001b[1;33m)\u001b[0m\u001b[1;33m\u001b[0m\u001b[1;33m\u001b[0m\u001b[0m\n\u001b[1;32m--> 208\u001b[1;33m         \u001b[0mresponse\u001b[0m\u001b[1;33m,\u001b[0m \u001b[0mcount\u001b[0m \u001b[1;33m=\u001b[0m \u001b[0mself\u001b[0m\u001b[1;33m.\u001b[0m\u001b[0m_load_query\u001b[0m\u001b[1;33m(\u001b[0m\u001b[0mquery\u001b[0m\u001b[1;33m,\u001b[0m \u001b[0mformatted_order_by\u001b[0m\u001b[1;33m,\u001b[0m \u001b[0mlimit\u001b[0m\u001b[1;33m,\u001b[0m \u001b[0moffset\u001b[0m\u001b[1;33m)\u001b[0m\u001b[1;33m\u001b[0m\u001b[1;33m\u001b[0m\u001b[0m\n\u001b[0m\u001b[0;32m    209\u001b[0m         \u001b[0mself\u001b[0m\u001b[1;33m.\u001b[0m\u001b[0mlogger\u001b[0m\u001b[1;33m.\u001b[0m\u001b[0minfo\u001b[0m\u001b[1;33m(\u001b[0m\u001b[1;34m\"Found %s products\"\u001b[0m\u001b[1;33m,\u001b[0m \u001b[0mcount\u001b[0m\u001b[1;33m)\u001b[0m\u001b[1;33m\u001b[0m\u001b[1;33m\u001b[0m\u001b[0m\n\u001b[0;32m    210\u001b[0m         \u001b[1;32mreturn\u001b[0m \u001b[0m_parse_opensearch_response\u001b[0m\u001b[1;33m(\u001b[0m\u001b[0mresponse\u001b[0m\u001b[1;33m)\u001b[0m\u001b[1;33m\u001b[0m\u001b[1;33m\u001b[0m\u001b[0m\n",
      "\u001b[1;32mC:\\Anaconda3\\envs\\canopy_conda\\lib\\site-packages\\sentinelsat\\sentinel.py\u001b[0m in \u001b[0;36m_load_query\u001b[1;34m(self, query, order_by, limit, offset)\u001b[0m\n\u001b[0;32m    347\u001b[0m \u001b[1;33m\u001b[0m\u001b[0m\n\u001b[0;32m    348\u001b[0m     \u001b[1;32mdef\u001b[0m \u001b[0m_load_query\u001b[0m\u001b[1;33m(\u001b[0m\u001b[0mself\u001b[0m\u001b[1;33m,\u001b[0m \u001b[0mquery\u001b[0m\u001b[1;33m,\u001b[0m \u001b[0morder_by\u001b[0m\u001b[1;33m=\u001b[0m\u001b[1;32mNone\u001b[0m\u001b[1;33m,\u001b[0m \u001b[0mlimit\u001b[0m\u001b[1;33m=\u001b[0m\u001b[1;32mNone\u001b[0m\u001b[1;33m,\u001b[0m \u001b[0moffset\u001b[0m\u001b[1;33m=\u001b[0m\u001b[1;36m0\u001b[0m\u001b[1;33m)\u001b[0m\u001b[1;33m:\u001b[0m\u001b[1;33m\u001b[0m\u001b[1;33m\u001b[0m\u001b[0m\n\u001b[1;32m--> 349\u001b[1;33m         \u001b[0mproducts\u001b[0m\u001b[1;33m,\u001b[0m \u001b[0mcount\u001b[0m \u001b[1;33m=\u001b[0m \u001b[0mself\u001b[0m\u001b[1;33m.\u001b[0m\u001b[0m_load_subquery\u001b[0m\u001b[1;33m(\u001b[0m\u001b[0mquery\u001b[0m\u001b[1;33m,\u001b[0m \u001b[0morder_by\u001b[0m\u001b[1;33m,\u001b[0m \u001b[0mlimit\u001b[0m\u001b[1;33m,\u001b[0m \u001b[0moffset\u001b[0m\u001b[1;33m)\u001b[0m\u001b[1;33m\u001b[0m\u001b[1;33m\u001b[0m\u001b[0m\n\u001b[0m\u001b[0;32m    350\u001b[0m \u001b[1;33m\u001b[0m\u001b[0m\n\u001b[0;32m    351\u001b[0m         \u001b[1;31m# repeat query until all results have been loaded\u001b[0m\u001b[1;33m\u001b[0m\u001b[1;33m\u001b[0m\u001b[1;33m\u001b[0m\u001b[0m\n",
      "\u001b[1;32mC:\\Anaconda3\\envs\\canopy_conda\\lib\\site-packages\\sentinelsat\\sentinel.py\u001b[0m in \u001b[0;36m_load_subquery\u001b[1;34m(self, query, order_by, limit, offset)\u001b[0m\n\u001b[0;32m    385\u001b[0m             \u001b[0mtimeout\u001b[0m\u001b[1;33m=\u001b[0m\u001b[0mself\u001b[0m\u001b[1;33m.\u001b[0m\u001b[0mtimeout\u001b[0m\u001b[1;33m,\u001b[0m\u001b[1;33m\u001b[0m\u001b[1;33m\u001b[0m\u001b[0m\n\u001b[0;32m    386\u001b[0m         )\n\u001b[1;32m--> 387\u001b[1;33m         \u001b[0m_check_scihub_response\u001b[0m\u001b[1;33m(\u001b[0m\u001b[0mresponse\u001b[0m\u001b[1;33m)\u001b[0m\u001b[1;33m\u001b[0m\u001b[1;33m\u001b[0m\u001b[0m\n\u001b[0m\u001b[0;32m    388\u001b[0m \u001b[1;33m\u001b[0m\u001b[0m\n\u001b[0;32m    389\u001b[0m         \u001b[1;31m# store last status code (for testing)\u001b[0m\u001b[1;33m\u001b[0m\u001b[1;33m\u001b[0m\u001b[1;33m\u001b[0m\u001b[0m\n",
      "\u001b[1;32mC:\\Anaconda3\\envs\\canopy_conda\\lib\\site-packages\\sentinelsat\\sentinel.py\u001b[0m in \u001b[0;36m_check_scihub_response\u001b[1;34m(response, test_json)\u001b[0m\n\u001b[0;32m   1318\u001b[0m         \u001b[1;31m# See PEP 409\u001b[0m\u001b[1;33m\u001b[0m\u001b[1;33m\u001b[0m\u001b[1;33m\u001b[0m\u001b[0m\n\u001b[0;32m   1319\u001b[0m         \u001b[0mapi_error\u001b[0m\u001b[1;33m.\u001b[0m\u001b[0m__cause__\u001b[0m \u001b[1;33m=\u001b[0m \u001b[1;32mNone\u001b[0m\u001b[1;33m\u001b[0m\u001b[1;33m\u001b[0m\u001b[0m\n\u001b[1;32m-> 1320\u001b[1;33m         \u001b[1;32mraise\u001b[0m \u001b[0mapi_error\u001b[0m\u001b[1;33m\u001b[0m\u001b[1;33m\u001b[0m\u001b[0m\n\u001b[0m\u001b[0;32m   1321\u001b[0m \u001b[1;33m\u001b[0m\u001b[0m\n\u001b[0;32m   1322\u001b[0m \u001b[1;33m\u001b[0m\u001b[0m\n",
      "\u001b[1;31mSentinelAPIError\u001b[0m: HTTP status 500 Internal Server Error: SolrServerException : Timeout occured while waiting response from server at: http://172.30.175.89:8983/solr/dhus"
     ]
    }
   ],
   "source": [
    "df = get_products_df_for_year(api, footprint, 2019, (0, 10), df_list, date_range_list)"
   ]
  },
  {
   "cell_type": "code",
   "execution_count": 38,
   "metadata": {},
   "outputs": [
    {
     "name": "stdout",
     "output_type": "stream",
     "text": [
      "Getting products from 2019-05-08 to 2019-05-14\n",
      "Products so far: 2286\n",
      "Getting products from 2019-05-15 to 2019-05-21\n"
     ]
    },
    {
     "ename": "SentinelAPIError",
     "evalue": "HTTP status 500 Internal Server Error: SolrServerException : Timeout occured while waiting response from server at: http://172.30.175.89:8983/solr/dhus",
     "output_type": "error",
     "traceback": [
      "\u001b[1;31m---------------------------------------------------------------------------\u001b[0m",
      "\u001b[1;31mSentinelAPIError\u001b[0m                          Traceback (most recent call last)",
      "\u001b[1;32m<ipython-input-38-c870bf860120>\u001b[0m in \u001b[0;36m<module>\u001b[1;34m\u001b[0m\n\u001b[1;32m----> 1\u001b[1;33m \u001b[0mdf\u001b[0m \u001b[1;33m=\u001b[0m \u001b[0mget_products_df_for_year\u001b[0m\u001b[1;33m(\u001b[0m\u001b[0mapi\u001b[0m\u001b[1;33m,\u001b[0m \u001b[0mfootprint\u001b[0m\u001b[1;33m,\u001b[0m \u001b[1;36m2019\u001b[0m\u001b[1;33m,\u001b[0m \u001b[1;33m(\u001b[0m\u001b[1;36m0\u001b[0m\u001b[1;33m,\u001b[0m \u001b[1;36m10\u001b[0m\u001b[1;33m)\u001b[0m\u001b[1;33m,\u001b[0m \u001b[0mdf_list\u001b[0m\u001b[1;33m,\u001b[0m \u001b[0mdate_range_list\u001b[0m\u001b[1;33m)\u001b[0m\u001b[1;33m\u001b[0m\u001b[1;33m\u001b[0m\u001b[0m\n\u001b[0m",
      "\u001b[1;32m<ipython-input-21-1b7a87bec69d>\u001b[0m in \u001b[0;36mget_products_df_for_year\u001b[1;34m(api, footprint, year, cloudcover, df_list, date_range_list)\u001b[0m\n\u001b[0;32m     52\u001b[0m             \u001b[0mdate_end\u001b[0m \u001b[1;33m=\u001b[0m \u001b[0mdate_range\u001b[0m\u001b[1;33m[\u001b[0m\u001b[1;36m1\u001b[0m\u001b[1;33m]\u001b[0m\u001b[1;33m\u001b[0m\u001b[1;33m\u001b[0m\u001b[0m\n\u001b[0;32m     53\u001b[0m             \u001b[0mprint\u001b[0m\u001b[1;33m(\u001b[0m\u001b[1;34mf'Getting products from {date_start} to {date_end}'\u001b[0m\u001b[1;33m)\u001b[0m\u001b[1;33m\u001b[0m\u001b[1;33m\u001b[0m\u001b[0m\n\u001b[1;32m---> 54\u001b[1;33m             \u001b[0mproducts_df_2\u001b[0m \u001b[1;33m=\u001b[0m \u001b[0mget_products_df\u001b[0m\u001b[1;33m(\u001b[0m\u001b[0mapi\u001b[0m\u001b[1;33m,\u001b[0m \u001b[0mfootprint\u001b[0m\u001b[1;33m,\u001b[0m \u001b[0mdate_start\u001b[0m\u001b[1;33m,\u001b[0m \u001b[0mdate_end\u001b[0m\u001b[1;33m,\u001b[0m \u001b[0mcloudcover\u001b[0m\u001b[1;33m=\u001b[0m\u001b[0mcloudcover\u001b[0m\u001b[1;33m)\u001b[0m\u001b[1;33m\u001b[0m\u001b[1;33m\u001b[0m\u001b[0m\n\u001b[0m\u001b[0;32m     55\u001b[0m             \u001b[0mproducts_df\u001b[0m \u001b[1;33m=\u001b[0m \u001b[0mpd\u001b[0m\u001b[1;33m.\u001b[0m\u001b[0mconcat\u001b[0m\u001b[1;33m(\u001b[0m\u001b[1;33m[\u001b[0m\u001b[0mproducts_df\u001b[0m\u001b[1;33m,\u001b[0m \u001b[0mproducts_df_2\u001b[0m\u001b[1;33m]\u001b[0m\u001b[1;33m)\u001b[0m\u001b[1;33m\u001b[0m\u001b[1;33m\u001b[0m\u001b[0m\n\u001b[0;32m     56\u001b[0m             \u001b[0mproducts_df_3\u001b[0m \u001b[1;33m=\u001b[0m \u001b[0mget_products_df\u001b[0m\u001b[1;33m(\u001b[0m\u001b[0mapi\u001b[0m\u001b[1;33m,\u001b[0m \u001b[0mfootprint\u001b[0m\u001b[1;33m,\u001b[0m \u001b[0mdate_start\u001b[0m\u001b[1;33m,\u001b[0m \u001b[0mdate_end\u001b[0m\u001b[1;33m,\u001b[0m \u001b[0marea\u001b[0m\u001b[1;33m=\u001b[0m\u001b[1;34m'Intersects'\u001b[0m\u001b[1;33m,\u001b[0m \u001b[0mcloudcover\u001b[0m\u001b[1;33m=\u001b[0m\u001b[0mcloudcover\u001b[0m\u001b[1;33m)\u001b[0m\u001b[1;33m\u001b[0m\u001b[1;33m\u001b[0m\u001b[0m\n",
      "\u001b[1;32m<ipython-input-2-4a75dd329e69>\u001b[0m in \u001b[0;36mget_products_df\u001b[1;34m(api, footprint, date_start, date_end, area, raw, platform, cloudcover)\u001b[0m\n\u001b[0;32m     10\u001b[0m     \u001b[1;34m\"\"\"Queries for products from the Sentinel API.\"\"\"\u001b[0m\u001b[1;33m\u001b[0m\u001b[1;33m\u001b[0m\u001b[0m\n\u001b[0;32m     11\u001b[0m \u001b[1;33m\u001b[0m\u001b[0m\n\u001b[1;32m---> 12\u001b[1;33m     products = api.query(footprint,\n\u001b[0m\u001b[0;32m     13\u001b[0m                          \u001b[0mdate\u001b[0m\u001b[1;33m=\u001b[0m\u001b[1;33m(\u001b[0m\u001b[0mdate_start\u001b[0m\u001b[1;33m,\u001b[0m \u001b[0mdate_end\u001b[0m\u001b[1;33m)\u001b[0m\u001b[1;33m,\u001b[0m\u001b[1;33m\u001b[0m\u001b[1;33m\u001b[0m\u001b[0m\n\u001b[0;32m     14\u001b[0m                          \u001b[0marea_relation\u001b[0m\u001b[1;33m=\u001b[0m\u001b[0marea\u001b[0m\u001b[1;33m,\u001b[0m\u001b[1;33m\u001b[0m\u001b[1;33m\u001b[0m\u001b[0m\n",
      "\u001b[1;32mC:\\Anaconda3\\envs\\canopy_conda\\lib\\site-packages\\sentinelsat\\sentinel.py\u001b[0m in \u001b[0;36mquery\u001b[1;34m(self, area, date, raw, area_relation, order_by, limit, offset, **keywords)\u001b[0m\n\u001b[0;32m    206\u001b[0m         )\n\u001b[0;32m    207\u001b[0m         \u001b[0mformatted_order_by\u001b[0m \u001b[1;33m=\u001b[0m \u001b[0m_format_order_by\u001b[0m\u001b[1;33m(\u001b[0m\u001b[0morder_by\u001b[0m\u001b[1;33m)\u001b[0m\u001b[1;33m\u001b[0m\u001b[1;33m\u001b[0m\u001b[0m\n\u001b[1;32m--> 208\u001b[1;33m         \u001b[0mresponse\u001b[0m\u001b[1;33m,\u001b[0m \u001b[0mcount\u001b[0m \u001b[1;33m=\u001b[0m \u001b[0mself\u001b[0m\u001b[1;33m.\u001b[0m\u001b[0m_load_query\u001b[0m\u001b[1;33m(\u001b[0m\u001b[0mquery\u001b[0m\u001b[1;33m,\u001b[0m \u001b[0mformatted_order_by\u001b[0m\u001b[1;33m,\u001b[0m \u001b[0mlimit\u001b[0m\u001b[1;33m,\u001b[0m \u001b[0moffset\u001b[0m\u001b[1;33m)\u001b[0m\u001b[1;33m\u001b[0m\u001b[1;33m\u001b[0m\u001b[0m\n\u001b[0m\u001b[0;32m    209\u001b[0m         \u001b[0mself\u001b[0m\u001b[1;33m.\u001b[0m\u001b[0mlogger\u001b[0m\u001b[1;33m.\u001b[0m\u001b[0minfo\u001b[0m\u001b[1;33m(\u001b[0m\u001b[1;34m\"Found %s products\"\u001b[0m\u001b[1;33m,\u001b[0m \u001b[0mcount\u001b[0m\u001b[1;33m)\u001b[0m\u001b[1;33m\u001b[0m\u001b[1;33m\u001b[0m\u001b[0m\n\u001b[0;32m    210\u001b[0m         \u001b[1;32mreturn\u001b[0m \u001b[0m_parse_opensearch_response\u001b[0m\u001b[1;33m(\u001b[0m\u001b[0mresponse\u001b[0m\u001b[1;33m)\u001b[0m\u001b[1;33m\u001b[0m\u001b[1;33m\u001b[0m\u001b[0m\n",
      "\u001b[1;32mC:\\Anaconda3\\envs\\canopy_conda\\lib\\site-packages\\sentinelsat\\sentinel.py\u001b[0m in \u001b[0;36m_load_query\u001b[1;34m(self, query, order_by, limit, offset)\u001b[0m\n\u001b[0;32m    347\u001b[0m \u001b[1;33m\u001b[0m\u001b[0m\n\u001b[0;32m    348\u001b[0m     \u001b[1;32mdef\u001b[0m \u001b[0m_load_query\u001b[0m\u001b[1;33m(\u001b[0m\u001b[0mself\u001b[0m\u001b[1;33m,\u001b[0m \u001b[0mquery\u001b[0m\u001b[1;33m,\u001b[0m \u001b[0morder_by\u001b[0m\u001b[1;33m=\u001b[0m\u001b[1;32mNone\u001b[0m\u001b[1;33m,\u001b[0m \u001b[0mlimit\u001b[0m\u001b[1;33m=\u001b[0m\u001b[1;32mNone\u001b[0m\u001b[1;33m,\u001b[0m \u001b[0moffset\u001b[0m\u001b[1;33m=\u001b[0m\u001b[1;36m0\u001b[0m\u001b[1;33m)\u001b[0m\u001b[1;33m:\u001b[0m\u001b[1;33m\u001b[0m\u001b[1;33m\u001b[0m\u001b[0m\n\u001b[1;32m--> 349\u001b[1;33m         \u001b[0mproducts\u001b[0m\u001b[1;33m,\u001b[0m \u001b[0mcount\u001b[0m \u001b[1;33m=\u001b[0m \u001b[0mself\u001b[0m\u001b[1;33m.\u001b[0m\u001b[0m_load_subquery\u001b[0m\u001b[1;33m(\u001b[0m\u001b[0mquery\u001b[0m\u001b[1;33m,\u001b[0m \u001b[0morder_by\u001b[0m\u001b[1;33m,\u001b[0m \u001b[0mlimit\u001b[0m\u001b[1;33m,\u001b[0m \u001b[0moffset\u001b[0m\u001b[1;33m)\u001b[0m\u001b[1;33m\u001b[0m\u001b[1;33m\u001b[0m\u001b[0m\n\u001b[0m\u001b[0;32m    350\u001b[0m \u001b[1;33m\u001b[0m\u001b[0m\n\u001b[0;32m    351\u001b[0m         \u001b[1;31m# repeat query until all results have been loaded\u001b[0m\u001b[1;33m\u001b[0m\u001b[1;33m\u001b[0m\u001b[1;33m\u001b[0m\u001b[0m\n",
      "\u001b[1;32mC:\\Anaconda3\\envs\\canopy_conda\\lib\\site-packages\\sentinelsat\\sentinel.py\u001b[0m in \u001b[0;36m_load_subquery\u001b[1;34m(self, query, order_by, limit, offset)\u001b[0m\n\u001b[0;32m    385\u001b[0m             \u001b[0mtimeout\u001b[0m\u001b[1;33m=\u001b[0m\u001b[0mself\u001b[0m\u001b[1;33m.\u001b[0m\u001b[0mtimeout\u001b[0m\u001b[1;33m,\u001b[0m\u001b[1;33m\u001b[0m\u001b[1;33m\u001b[0m\u001b[0m\n\u001b[0;32m    386\u001b[0m         )\n\u001b[1;32m--> 387\u001b[1;33m         \u001b[0m_check_scihub_response\u001b[0m\u001b[1;33m(\u001b[0m\u001b[0mresponse\u001b[0m\u001b[1;33m)\u001b[0m\u001b[1;33m\u001b[0m\u001b[1;33m\u001b[0m\u001b[0m\n\u001b[0m\u001b[0;32m    388\u001b[0m \u001b[1;33m\u001b[0m\u001b[0m\n\u001b[0;32m    389\u001b[0m         \u001b[1;31m# store last status code (for testing)\u001b[0m\u001b[1;33m\u001b[0m\u001b[1;33m\u001b[0m\u001b[1;33m\u001b[0m\u001b[0m\n",
      "\u001b[1;32mC:\\Anaconda3\\envs\\canopy_conda\\lib\\site-packages\\sentinelsat\\sentinel.py\u001b[0m in \u001b[0;36m_check_scihub_response\u001b[1;34m(response, test_json)\u001b[0m\n\u001b[0;32m   1318\u001b[0m         \u001b[1;31m# See PEP 409\u001b[0m\u001b[1;33m\u001b[0m\u001b[1;33m\u001b[0m\u001b[1;33m\u001b[0m\u001b[0m\n\u001b[0;32m   1319\u001b[0m         \u001b[0mapi_error\u001b[0m\u001b[1;33m.\u001b[0m\u001b[0m__cause__\u001b[0m \u001b[1;33m=\u001b[0m \u001b[1;32mNone\u001b[0m\u001b[1;33m\u001b[0m\u001b[1;33m\u001b[0m\u001b[0m\n\u001b[1;32m-> 1320\u001b[1;33m         \u001b[1;32mraise\u001b[0m \u001b[0mapi_error\u001b[0m\u001b[1;33m\u001b[0m\u001b[1;33m\u001b[0m\u001b[0m\n\u001b[0m\u001b[0;32m   1321\u001b[0m \u001b[1;33m\u001b[0m\u001b[0m\n\u001b[0;32m   1322\u001b[0m \u001b[1;33m\u001b[0m\u001b[0m\n",
      "\u001b[1;31mSentinelAPIError\u001b[0m: HTTP status 500 Internal Server Error: SolrServerException : Timeout occured while waiting response from server at: http://172.30.175.89:8983/solr/dhus"
     ]
    }
   ],
   "source": [
    "df = get_products_df_for_year(api, footprint, 2019, (0, 10), df_list, date_range_list)"
   ]
  },
  {
   "cell_type": "code",
   "execution_count": 39,
   "metadata": {},
   "outputs": [
    {
     "name": "stdout",
     "output_type": "stream",
     "text": [
      "Getting products from 2019-05-15 to 2019-05-21\n",
      "Products so far: 2336\n",
      "Getting products from 2019-05-22 to 2019-05-31\n",
      "Products so far: 2420\n",
      "Getting products from 2019-06-01 to 2019-06-07\n",
      "Products so far: 2546\n",
      "Getting products from 2019-06-08 to 2019-06-14\n"
     ]
    },
    {
     "name": "stderr",
     "output_type": "stream",
     "text": [
      "Querying products: 100%|██████████████████████████████████████████████████████| 150/150 [00:04<00:00, 30.01 products/s]\n"
     ]
    },
    {
     "name": "stdout",
     "output_type": "stream",
     "text": [
      "Products so far: 2730\n",
      "Getting products from 2019-06-15 to 2019-06-21\n"
     ]
    },
    {
     "name": "stderr",
     "output_type": "stream",
     "text": [
      "Querying products: 100%|██████████████████████████████████████████████████████| 131/131 [00:04<00:00, 27.42 products/s]\n"
     ]
    },
    {
     "name": "stdout",
     "output_type": "stream",
     "text": [
      "Products so far: 2872\n",
      "Getting products from 2019-06-22 to 2019-06-30\n"
     ]
    },
    {
     "name": "stderr",
     "output_type": "stream",
     "text": [
      "Querying products: 100%|██████████████████████████████████████████████████████| 149/149 [00:07<00:00, 18.85 products/s]\n"
     ]
    },
    {
     "name": "stdout",
     "output_type": "stream",
     "text": [
      "Products so far: 3044\n",
      "Getting products from 2019-07-01 to 2019-07-07\n"
     ]
    },
    {
     "name": "stderr",
     "output_type": "stream",
     "text": [
      "Querying products: 100%|██████████████████████████████████████████████████████| 127/127 [00:04<00:00, 25.91 products/s]\n"
     ]
    },
    {
     "name": "stdout",
     "output_type": "stream",
     "text": [
      "Products so far: 3190\n",
      "Getting products from 2019-07-08 to 2019-07-14\n",
      "Products so far: 3248\n",
      "Getting products from 2019-07-15 to 2019-07-21\n"
     ]
    },
    {
     "name": "stderr",
     "output_type": "stream",
     "text": [
      "Querying products: 100%|██████████████████████████████████████████████████████| 127/127 [00:06<00:00, 18.62 products/s]\n"
     ]
    },
    {
     "name": "stdout",
     "output_type": "stream",
     "text": [
      "Products so far: 3394\n",
      "Getting products from 2019-07-22 to 2019-07-31\n"
     ]
    },
    {
     "ename": "SentinelAPIError",
     "evalue": "HTTP status 500 Internal Server Error: SolrServerException : Timeout occured while waiting response from server at: http://172.30.175.89:8983/solr/dhus",
     "output_type": "error",
     "traceback": [
      "\u001b[1;31m---------------------------------------------------------------------------\u001b[0m",
      "\u001b[1;31mSentinelAPIError\u001b[0m                          Traceback (most recent call last)",
      "\u001b[1;32m<ipython-input-39-c870bf860120>\u001b[0m in \u001b[0;36m<module>\u001b[1;34m\u001b[0m\n\u001b[1;32m----> 1\u001b[1;33m \u001b[0mdf\u001b[0m \u001b[1;33m=\u001b[0m \u001b[0mget_products_df_for_year\u001b[0m\u001b[1;33m(\u001b[0m\u001b[0mapi\u001b[0m\u001b[1;33m,\u001b[0m \u001b[0mfootprint\u001b[0m\u001b[1;33m,\u001b[0m \u001b[1;36m2019\u001b[0m\u001b[1;33m,\u001b[0m \u001b[1;33m(\u001b[0m\u001b[1;36m0\u001b[0m\u001b[1;33m,\u001b[0m \u001b[1;36m10\u001b[0m\u001b[1;33m)\u001b[0m\u001b[1;33m,\u001b[0m \u001b[0mdf_list\u001b[0m\u001b[1;33m,\u001b[0m \u001b[0mdate_range_list\u001b[0m\u001b[1;33m)\u001b[0m\u001b[1;33m\u001b[0m\u001b[1;33m\u001b[0m\u001b[0m\n\u001b[0m",
      "\u001b[1;32m<ipython-input-21-1b7a87bec69d>\u001b[0m in \u001b[0;36mget_products_df_for_year\u001b[1;34m(api, footprint, year, cloudcover, df_list, date_range_list)\u001b[0m\n\u001b[0;32m     52\u001b[0m             \u001b[0mdate_end\u001b[0m \u001b[1;33m=\u001b[0m \u001b[0mdate_range\u001b[0m\u001b[1;33m[\u001b[0m\u001b[1;36m1\u001b[0m\u001b[1;33m]\u001b[0m\u001b[1;33m\u001b[0m\u001b[1;33m\u001b[0m\u001b[0m\n\u001b[0;32m     53\u001b[0m             \u001b[0mprint\u001b[0m\u001b[1;33m(\u001b[0m\u001b[1;34mf'Getting products from {date_start} to {date_end}'\u001b[0m\u001b[1;33m)\u001b[0m\u001b[1;33m\u001b[0m\u001b[1;33m\u001b[0m\u001b[0m\n\u001b[1;32m---> 54\u001b[1;33m             \u001b[0mproducts_df_2\u001b[0m \u001b[1;33m=\u001b[0m \u001b[0mget_products_df\u001b[0m\u001b[1;33m(\u001b[0m\u001b[0mapi\u001b[0m\u001b[1;33m,\u001b[0m \u001b[0mfootprint\u001b[0m\u001b[1;33m,\u001b[0m \u001b[0mdate_start\u001b[0m\u001b[1;33m,\u001b[0m \u001b[0mdate_end\u001b[0m\u001b[1;33m,\u001b[0m \u001b[0mcloudcover\u001b[0m\u001b[1;33m=\u001b[0m\u001b[0mcloudcover\u001b[0m\u001b[1;33m)\u001b[0m\u001b[1;33m\u001b[0m\u001b[1;33m\u001b[0m\u001b[0m\n\u001b[0m\u001b[0;32m     55\u001b[0m             \u001b[0mproducts_df\u001b[0m \u001b[1;33m=\u001b[0m \u001b[0mpd\u001b[0m\u001b[1;33m.\u001b[0m\u001b[0mconcat\u001b[0m\u001b[1;33m(\u001b[0m\u001b[1;33m[\u001b[0m\u001b[0mproducts_df\u001b[0m\u001b[1;33m,\u001b[0m \u001b[0mproducts_df_2\u001b[0m\u001b[1;33m]\u001b[0m\u001b[1;33m)\u001b[0m\u001b[1;33m\u001b[0m\u001b[1;33m\u001b[0m\u001b[0m\n\u001b[0;32m     56\u001b[0m             \u001b[0mproducts_df_3\u001b[0m \u001b[1;33m=\u001b[0m \u001b[0mget_products_df\u001b[0m\u001b[1;33m(\u001b[0m\u001b[0mapi\u001b[0m\u001b[1;33m,\u001b[0m \u001b[0mfootprint\u001b[0m\u001b[1;33m,\u001b[0m \u001b[0mdate_start\u001b[0m\u001b[1;33m,\u001b[0m \u001b[0mdate_end\u001b[0m\u001b[1;33m,\u001b[0m \u001b[0marea\u001b[0m\u001b[1;33m=\u001b[0m\u001b[1;34m'Intersects'\u001b[0m\u001b[1;33m,\u001b[0m \u001b[0mcloudcover\u001b[0m\u001b[1;33m=\u001b[0m\u001b[0mcloudcover\u001b[0m\u001b[1;33m)\u001b[0m\u001b[1;33m\u001b[0m\u001b[1;33m\u001b[0m\u001b[0m\n",
      "\u001b[1;32m<ipython-input-2-4a75dd329e69>\u001b[0m in \u001b[0;36mget_products_df\u001b[1;34m(api, footprint, date_start, date_end, area, raw, platform, cloudcover)\u001b[0m\n\u001b[0;32m     10\u001b[0m     \u001b[1;34m\"\"\"Queries for products from the Sentinel API.\"\"\"\u001b[0m\u001b[1;33m\u001b[0m\u001b[1;33m\u001b[0m\u001b[0m\n\u001b[0;32m     11\u001b[0m \u001b[1;33m\u001b[0m\u001b[0m\n\u001b[1;32m---> 12\u001b[1;33m     products = api.query(footprint,\n\u001b[0m\u001b[0;32m     13\u001b[0m                          \u001b[0mdate\u001b[0m\u001b[1;33m=\u001b[0m\u001b[1;33m(\u001b[0m\u001b[0mdate_start\u001b[0m\u001b[1;33m,\u001b[0m \u001b[0mdate_end\u001b[0m\u001b[1;33m)\u001b[0m\u001b[1;33m,\u001b[0m\u001b[1;33m\u001b[0m\u001b[1;33m\u001b[0m\u001b[0m\n\u001b[0;32m     14\u001b[0m                          \u001b[0marea_relation\u001b[0m\u001b[1;33m=\u001b[0m\u001b[0marea\u001b[0m\u001b[1;33m,\u001b[0m\u001b[1;33m\u001b[0m\u001b[1;33m\u001b[0m\u001b[0m\n",
      "\u001b[1;32mC:\\Anaconda3\\envs\\canopy_conda\\lib\\site-packages\\sentinelsat\\sentinel.py\u001b[0m in \u001b[0;36mquery\u001b[1;34m(self, area, date, raw, area_relation, order_by, limit, offset, **keywords)\u001b[0m\n\u001b[0;32m    206\u001b[0m         )\n\u001b[0;32m    207\u001b[0m         \u001b[0mformatted_order_by\u001b[0m \u001b[1;33m=\u001b[0m \u001b[0m_format_order_by\u001b[0m\u001b[1;33m(\u001b[0m\u001b[0morder_by\u001b[0m\u001b[1;33m)\u001b[0m\u001b[1;33m\u001b[0m\u001b[1;33m\u001b[0m\u001b[0m\n\u001b[1;32m--> 208\u001b[1;33m         \u001b[0mresponse\u001b[0m\u001b[1;33m,\u001b[0m \u001b[0mcount\u001b[0m \u001b[1;33m=\u001b[0m \u001b[0mself\u001b[0m\u001b[1;33m.\u001b[0m\u001b[0m_load_query\u001b[0m\u001b[1;33m(\u001b[0m\u001b[0mquery\u001b[0m\u001b[1;33m,\u001b[0m \u001b[0mformatted_order_by\u001b[0m\u001b[1;33m,\u001b[0m \u001b[0mlimit\u001b[0m\u001b[1;33m,\u001b[0m \u001b[0moffset\u001b[0m\u001b[1;33m)\u001b[0m\u001b[1;33m\u001b[0m\u001b[1;33m\u001b[0m\u001b[0m\n\u001b[0m\u001b[0;32m    209\u001b[0m         \u001b[0mself\u001b[0m\u001b[1;33m.\u001b[0m\u001b[0mlogger\u001b[0m\u001b[1;33m.\u001b[0m\u001b[0minfo\u001b[0m\u001b[1;33m(\u001b[0m\u001b[1;34m\"Found %s products\"\u001b[0m\u001b[1;33m,\u001b[0m \u001b[0mcount\u001b[0m\u001b[1;33m)\u001b[0m\u001b[1;33m\u001b[0m\u001b[1;33m\u001b[0m\u001b[0m\n\u001b[0;32m    210\u001b[0m         \u001b[1;32mreturn\u001b[0m \u001b[0m_parse_opensearch_response\u001b[0m\u001b[1;33m(\u001b[0m\u001b[0mresponse\u001b[0m\u001b[1;33m)\u001b[0m\u001b[1;33m\u001b[0m\u001b[1;33m\u001b[0m\u001b[0m\n",
      "\u001b[1;32mC:\\Anaconda3\\envs\\canopy_conda\\lib\\site-packages\\sentinelsat\\sentinel.py\u001b[0m in \u001b[0;36m_load_query\u001b[1;34m(self, query, order_by, limit, offset)\u001b[0m\n\u001b[0;32m    347\u001b[0m \u001b[1;33m\u001b[0m\u001b[0m\n\u001b[0;32m    348\u001b[0m     \u001b[1;32mdef\u001b[0m \u001b[0m_load_query\u001b[0m\u001b[1;33m(\u001b[0m\u001b[0mself\u001b[0m\u001b[1;33m,\u001b[0m \u001b[0mquery\u001b[0m\u001b[1;33m,\u001b[0m \u001b[0morder_by\u001b[0m\u001b[1;33m=\u001b[0m\u001b[1;32mNone\u001b[0m\u001b[1;33m,\u001b[0m \u001b[0mlimit\u001b[0m\u001b[1;33m=\u001b[0m\u001b[1;32mNone\u001b[0m\u001b[1;33m,\u001b[0m \u001b[0moffset\u001b[0m\u001b[1;33m=\u001b[0m\u001b[1;36m0\u001b[0m\u001b[1;33m)\u001b[0m\u001b[1;33m:\u001b[0m\u001b[1;33m\u001b[0m\u001b[1;33m\u001b[0m\u001b[0m\n\u001b[1;32m--> 349\u001b[1;33m         \u001b[0mproducts\u001b[0m\u001b[1;33m,\u001b[0m \u001b[0mcount\u001b[0m \u001b[1;33m=\u001b[0m \u001b[0mself\u001b[0m\u001b[1;33m.\u001b[0m\u001b[0m_load_subquery\u001b[0m\u001b[1;33m(\u001b[0m\u001b[0mquery\u001b[0m\u001b[1;33m,\u001b[0m \u001b[0morder_by\u001b[0m\u001b[1;33m,\u001b[0m \u001b[0mlimit\u001b[0m\u001b[1;33m,\u001b[0m \u001b[0moffset\u001b[0m\u001b[1;33m)\u001b[0m\u001b[1;33m\u001b[0m\u001b[1;33m\u001b[0m\u001b[0m\n\u001b[0m\u001b[0;32m    350\u001b[0m \u001b[1;33m\u001b[0m\u001b[0m\n\u001b[0;32m    351\u001b[0m         \u001b[1;31m# repeat query until all results have been loaded\u001b[0m\u001b[1;33m\u001b[0m\u001b[1;33m\u001b[0m\u001b[1;33m\u001b[0m\u001b[0m\n",
      "\u001b[1;32mC:\\Anaconda3\\envs\\canopy_conda\\lib\\site-packages\\sentinelsat\\sentinel.py\u001b[0m in \u001b[0;36m_load_subquery\u001b[1;34m(self, query, order_by, limit, offset)\u001b[0m\n\u001b[0;32m    385\u001b[0m             \u001b[0mtimeout\u001b[0m\u001b[1;33m=\u001b[0m\u001b[0mself\u001b[0m\u001b[1;33m.\u001b[0m\u001b[0mtimeout\u001b[0m\u001b[1;33m,\u001b[0m\u001b[1;33m\u001b[0m\u001b[1;33m\u001b[0m\u001b[0m\n\u001b[0;32m    386\u001b[0m         )\n\u001b[1;32m--> 387\u001b[1;33m         \u001b[0m_check_scihub_response\u001b[0m\u001b[1;33m(\u001b[0m\u001b[0mresponse\u001b[0m\u001b[1;33m)\u001b[0m\u001b[1;33m\u001b[0m\u001b[1;33m\u001b[0m\u001b[0m\n\u001b[0m\u001b[0;32m    388\u001b[0m \u001b[1;33m\u001b[0m\u001b[0m\n\u001b[0;32m    389\u001b[0m         \u001b[1;31m# store last status code (for testing)\u001b[0m\u001b[1;33m\u001b[0m\u001b[1;33m\u001b[0m\u001b[1;33m\u001b[0m\u001b[0m\n",
      "\u001b[1;32mC:\\Anaconda3\\envs\\canopy_conda\\lib\\site-packages\\sentinelsat\\sentinel.py\u001b[0m in \u001b[0;36m_check_scihub_response\u001b[1;34m(response, test_json)\u001b[0m\n\u001b[0;32m   1318\u001b[0m         \u001b[1;31m# See PEP 409\u001b[0m\u001b[1;33m\u001b[0m\u001b[1;33m\u001b[0m\u001b[1;33m\u001b[0m\u001b[0m\n\u001b[0;32m   1319\u001b[0m         \u001b[0mapi_error\u001b[0m\u001b[1;33m.\u001b[0m\u001b[0m__cause__\u001b[0m \u001b[1;33m=\u001b[0m \u001b[1;32mNone\u001b[0m\u001b[1;33m\u001b[0m\u001b[1;33m\u001b[0m\u001b[0m\n\u001b[1;32m-> 1320\u001b[1;33m         \u001b[1;32mraise\u001b[0m \u001b[0mapi_error\u001b[0m\u001b[1;33m\u001b[0m\u001b[1;33m\u001b[0m\u001b[0m\n\u001b[0m\u001b[0;32m   1321\u001b[0m \u001b[1;33m\u001b[0m\u001b[0m\n\u001b[0;32m   1322\u001b[0m \u001b[1;33m\u001b[0m\u001b[0m\n",
      "\u001b[1;31mSentinelAPIError\u001b[0m: HTTP status 500 Internal Server Error: SolrServerException : Timeout occured while waiting response from server at: http://172.30.175.89:8983/solr/dhus"
     ]
    }
   ],
   "source": [
    "df = get_products_df_for_year(api, footprint, 2019, (0, 10), df_list, date_range_list)"
   ]
  },
  {
   "cell_type": "code",
   "execution_count": 40,
   "metadata": {},
   "outputs": [
    {
     "name": "stdout",
     "output_type": "stream",
     "text": [
      "Getting products from 2019-07-22 to 2019-07-31\n"
     ]
    },
    {
     "name": "stderr",
     "output_type": "stream",
     "text": [
      "Querying products: 100%|██████████████████████████████████████████████████████| 108/108 [00:57<00:00,  1.87 products/s]\n",
      "Querying products: 100%|██████████████████████████████████████████████████████| 169/169 [00:12<00:00, 13.21 products/s]\n"
     ]
    },
    {
     "name": "stdout",
     "output_type": "stream",
     "text": [
      "Products so far: 3610\n",
      "Getting products from 2019-08-01 to 2019-08-07\n"
     ]
    },
    {
     "name": "stderr",
     "output_type": "stream",
     "text": [
      "Querying products: 100%|██████████████████████████████████████████████████████| 117/117 [00:07<00:00, 16.44 products/s]\n"
     ]
    },
    {
     "name": "stdout",
     "output_type": "stream",
     "text": [
      "Products so far: 3742\n",
      "Getting products from 2019-08-08 to 2019-08-14\n",
      "Products so far: 3824\n",
      "Getting products from 2019-08-15 to 2019-08-21\n",
      "Products so far: 3946\n",
      "Getting products from 2019-08-22 to 2019-08-31\n"
     ]
    },
    {
     "name": "stderr",
     "output_type": "stream",
     "text": [
      "Querying products: 100%|██████████████████████████████████████████████████████| 101/101 [00:18<00:00,  5.54 products/s]\n",
      "Querying products: 100%|██████████████████████████████████████████████████████| 148/148 [00:07<00:00, 18.92 products/s]\n"
     ]
    },
    {
     "name": "stdout",
     "output_type": "stream",
     "text": [
      "Products so far: 4148\n",
      "Getting products from 2019-09-01 to 2019-09-07\n"
     ]
    },
    {
     "name": "stderr",
     "output_type": "stream",
     "text": [
      "Querying products: 100%|██████████████████████████████████████████████████████| 104/104 [00:07<00:00, 13.11 products/s]\n"
     ]
    },
    {
     "name": "stdout",
     "output_type": "stream",
     "text": [
      "Products so far: 4306\n",
      "Getting products from 2019-09-08 to 2019-09-14\n",
      "Products so far: 4340\n",
      "Getting products from 2019-09-15 to 2019-09-21\n",
      "Products so far: 4392\n",
      "Getting products from 2019-09-22 to 2019-09-30\n",
      "Products so far: 4484\n",
      "Getting products from 2019-10-01 to 2019-10-07\n",
      "Products so far: 4506\n",
      "Getting products from 2019-10-08 to 2019-10-14\n",
      "Products so far: 4578\n",
      "Getting products from 2019-10-15 to 2019-10-21\n",
      "Products so far: 4586\n",
      "Getting products from 2019-10-22 to 2019-10-31\n",
      "Products so far: 4610\n",
      "Getting products from 2019-11-01 to 2019-11-07\n",
      "Products so far: 4722\n",
      "Getting products from 2019-11-08 to 2019-11-14\n",
      "Products so far: 4776\n",
      "Getting products from 2019-11-15 to 2019-11-21\n",
      "Products so far: 4842\n",
      "Getting products from 2019-11-22 to 2019-11-30\n",
      "Products so far: 4894\n",
      "Getting products from 2019-12-01 to 2019-12-07\n",
      "Products so far: 4952\n",
      "Getting products from 2019-12-08 to 2019-12-14\n",
      "Products so far: 5040\n",
      "Getting products from 2019-12-15 to 2019-12-21\n"
     ]
    },
    {
     "name": "stderr",
     "output_type": "stream",
     "text": [
      "Querying products: 100%|██████████████████████████████████████████████████████| 118/118 [00:03<00:00, 30.91 products/s]\n"
     ]
    },
    {
     "name": "stdout",
     "output_type": "stream",
     "text": [
      "Products so far: 5180\n",
      "Getting products from 2019-12-22 to 2019-12-31\n"
     ]
    },
    {
     "name": "stderr",
     "output_type": "stream",
     "text": [
      "Querying products: 100%|██████████████████████████████████████████████████████| 175/175 [00:07<00:00, 22.78 products/s]\n",
      "Querying products: 100%|██████████████████████████████████████████████████████| 284/284 [00:10<00:00, 26.71 products/s]"
     ]
    },
    {
     "name": "stdout",
     "output_type": "stream",
     "text": [
      "Products so far: 5530\n"
     ]
    },
    {
     "name": "stderr",
     "output_type": "stream",
     "text": [
      "\n"
     ]
    }
   ],
   "source": [
    "df = get_products_df_for_year(api, footprint, 2019, (0, 10), df_list, date_range_list)"
   ]
  },
  {
   "cell_type": "code",
   "execution_count": 41,
   "metadata": {},
   "outputs": [
    {
     "data": {
      "text/plain": [
       "(5530, 35)"
      ]
     },
     "execution_count": 41,
     "metadata": {},
     "output_type": "execute_result"
    }
   ],
   "source": [
    "df.shape"
   ]
  },
  {
   "cell_type": "code",
   "execution_count": 42,
   "metadata": {},
   "outputs": [
    {
     "data": {
      "text/html": [
       "<div>\n",
       "<style scoped>\n",
       "    .dataframe tbody tr th:only-of-type {\n",
       "        vertical-align: middle;\n",
       "    }\n",
       "\n",
       "    .dataframe tbody tr th {\n",
       "        vertical-align: top;\n",
       "    }\n",
       "\n",
       "    .dataframe thead th {\n",
       "        text-align: right;\n",
       "    }\n",
       "</style>\n",
       "<table border=\"1\" class=\"dataframe\">\n",
       "  <thead>\n",
       "    <tr style=\"text-align: right;\">\n",
       "      <th></th>\n",
       "      <th>title</th>\n",
       "      <th>link</th>\n",
       "      <th>link_alternative</th>\n",
       "      <th>link_icon</th>\n",
       "      <th>summary</th>\n",
       "      <th>datatakesensingstart</th>\n",
       "      <th>beginposition</th>\n",
       "      <th>endposition</th>\n",
       "      <th>ingestiondate</th>\n",
       "      <th>orbitnumber</th>\n",
       "      <th>...</th>\n",
       "      <th>producttype</th>\n",
       "      <th>platformidentifier</th>\n",
       "      <th>orbitdirection</th>\n",
       "      <th>platformserialidentifier</th>\n",
       "      <th>processinglevel</th>\n",
       "      <th>identifier</th>\n",
       "      <th>uuid</th>\n",
       "      <th>level1cpdiidentifier</th>\n",
       "      <th>granuleidentifier</th>\n",
       "      <th>datastripidentifier</th>\n",
       "    </tr>\n",
       "  </thead>\n",
       "  <tbody>\n",
       "    <tr>\n",
       "      <th>abfdc0b1-a591-4b67-bb38-cd821d82df81</th>\n",
       "      <td>S2A_MSIL1C_20190106T091351_N0207_R050_T33NXD_2...</td>\n",
       "      <td>https://scihub.copernicus.eu/apihub/odata/v1/P...</td>\n",
       "      <td>https://scihub.copernicus.eu/apihub/odata/v1/P...</td>\n",
       "      <td>https://scihub.copernicus.eu/apihub/odata/v1/P...</td>\n",
       "      <td>Date: 2019-01-06T09:13:51.024Z, Instrument: MS...</td>\n",
       "      <td>2019-01-06 09:13:51.024</td>\n",
       "      <td>2019-01-06 09:13:51.024</td>\n",
       "      <td>2019-01-06 09:13:51.024</td>\n",
       "      <td>2019-01-06 14:57:33.629</td>\n",
       "      <td>18494</td>\n",
       "      <td>...</td>\n",
       "      <td>S2MSI1C</td>\n",
       "      <td>2015-028A</td>\n",
       "      <td>DESCENDING</td>\n",
       "      <td>Sentinel-2A</td>\n",
       "      <td>Level-1C</td>\n",
       "      <td>S2A_MSIL1C_20190106T091351_N0207_R050_T33NXD_2...</td>\n",
       "      <td>abfdc0b1-a591-4b67-bb38-cd821d82df81</td>\n",
       "      <td>S2A_OPER_MSI_L1C_TL_SGS__20190106T111455_A0184...</td>\n",
       "      <td>S2A_OPER_MSI_L1C_TL_SGS__20190106T111455_A0184...</td>\n",
       "      <td>S2A_OPER_MSI_L1C_DS_SGS__20190106T111455_S2019...</td>\n",
       "    </tr>\n",
       "    <tr>\n",
       "      <th>21936107-a810-4486-9f8c-2c8d3301e0c4</th>\n",
       "      <td>S2A_MSIL1C_20190106T091351_N0207_R050_T33NWE_2...</td>\n",
       "      <td>https://scihub.copernicus.eu/apihub/odata/v1/P...</td>\n",
       "      <td>https://scihub.copernicus.eu/apihub/odata/v1/P...</td>\n",
       "      <td>https://scihub.copernicus.eu/apihub/odata/v1/P...</td>\n",
       "      <td>Date: 2019-01-06T09:13:51.024Z, Instrument: MS...</td>\n",
       "      <td>2019-01-06 09:13:51.024</td>\n",
       "      <td>2019-01-06 09:13:51.024</td>\n",
       "      <td>2019-01-06 09:13:51.024</td>\n",
       "      <td>2019-01-06 14:53:30.962</td>\n",
       "      <td>18494</td>\n",
       "      <td>...</td>\n",
       "      <td>S2MSI1C</td>\n",
       "      <td>2015-028A</td>\n",
       "      <td>DESCENDING</td>\n",
       "      <td>Sentinel-2A</td>\n",
       "      <td>Level-1C</td>\n",
       "      <td>S2A_MSIL1C_20190106T091351_N0207_R050_T33NWE_2...</td>\n",
       "      <td>21936107-a810-4486-9f8c-2c8d3301e0c4</td>\n",
       "      <td>S2A_OPER_MSI_L1C_TL_SGS__20190106T111455_A0184...</td>\n",
       "      <td>S2A_OPER_MSI_L1C_TL_SGS__20190106T111455_A0184...</td>\n",
       "      <td>S2A_OPER_MSI_L1C_DS_SGS__20190106T111455_S2019...</td>\n",
       "    </tr>\n",
       "    <tr>\n",
       "      <th>8466109f-d07d-493f-8dce-2e35e2bdb2e3</th>\n",
       "      <td>S2A_MSIL1C_20190106T091351_N0207_R050_T33NYE_2...</td>\n",
       "      <td>https://scihub.copernicus.eu/apihub/odata/v1/P...</td>\n",
       "      <td>https://scihub.copernicus.eu/apihub/odata/v1/P...</td>\n",
       "      <td>https://scihub.copernicus.eu/apihub/odata/v1/P...</td>\n",
       "      <td>Date: 2019-01-06T09:13:51.024Z, Instrument: MS...</td>\n",
       "      <td>2019-01-06 09:13:51.024</td>\n",
       "      <td>2019-01-06 09:13:51.024</td>\n",
       "      <td>2019-01-06 09:13:51.024</td>\n",
       "      <td>2019-01-06 14:40:44.145</td>\n",
       "      <td>18494</td>\n",
       "      <td>...</td>\n",
       "      <td>S2MSI1C</td>\n",
       "      <td>2015-028A</td>\n",
       "      <td>DESCENDING</td>\n",
       "      <td>Sentinel-2A</td>\n",
       "      <td>Level-1C</td>\n",
       "      <td>S2A_MSIL1C_20190106T091351_N0207_R050_T33NYE_2...</td>\n",
       "      <td>8466109f-d07d-493f-8dce-2e35e2bdb2e3</td>\n",
       "      <td>S2A_OPER_MSI_L1C_TL_SGS__20190106T111455_A0184...</td>\n",
       "      <td>S2A_OPER_MSI_L1C_TL_SGS__20190106T111455_A0184...</td>\n",
       "      <td>S2A_OPER_MSI_L1C_DS_SGS__20190106T111455_S2019...</td>\n",
       "    </tr>\n",
       "    <tr>\n",
       "      <th>7668aa1d-65f3-4f4a-bb5b-83addea93c58</th>\n",
       "      <td>S2A_MSIL1C_20190106T091351_N0207_R050_T33NWD_2...</td>\n",
       "      <td>https://scihub.copernicus.eu/apihub/odata/v1/P...</td>\n",
       "      <td>https://scihub.copernicus.eu/apihub/odata/v1/P...</td>\n",
       "      <td>https://scihub.copernicus.eu/apihub/odata/v1/P...</td>\n",
       "      <td>Date: 2019-01-06T09:13:51.024Z, Instrument: MS...</td>\n",
       "      <td>2019-01-06 09:13:51.024</td>\n",
       "      <td>2019-01-06 09:13:51.024</td>\n",
       "      <td>2019-01-06 09:13:51.024</td>\n",
       "      <td>2019-01-06 14:39:16.545</td>\n",
       "      <td>18494</td>\n",
       "      <td>...</td>\n",
       "      <td>S2MSI1C</td>\n",
       "      <td>2015-028A</td>\n",
       "      <td>DESCENDING</td>\n",
       "      <td>Sentinel-2A</td>\n",
       "      <td>Level-1C</td>\n",
       "      <td>S2A_MSIL1C_20190106T091351_N0207_R050_T33NWD_2...</td>\n",
       "      <td>7668aa1d-65f3-4f4a-bb5b-83addea93c58</td>\n",
       "      <td>S2A_OPER_MSI_L1C_TL_SGS__20190106T111455_A0184...</td>\n",
       "      <td>S2A_OPER_MSI_L1C_TL_SGS__20190106T111455_A0184...</td>\n",
       "      <td>S2A_OPER_MSI_L1C_DS_SGS__20190106T111455_S2019...</td>\n",
       "    </tr>\n",
       "    <tr>\n",
       "      <th>79b3bf50-955e-40d0-a0a2-c498a065fc43</th>\n",
       "      <td>S2A_MSIL1C_20190106T091351_N0207_R050_T33NYD_2...</td>\n",
       "      <td>https://scihub.copernicus.eu/apihub/odata/v1/P...</td>\n",
       "      <td>https://scihub.copernicus.eu/apihub/odata/v1/P...</td>\n",
       "      <td>https://scihub.copernicus.eu/apihub/odata/v1/P...</td>\n",
       "      <td>Date: 2019-01-06T09:13:51.024Z, Instrument: MS...</td>\n",
       "      <td>2019-01-06 09:13:51.024</td>\n",
       "      <td>2019-01-06 09:13:51.024</td>\n",
       "      <td>2019-01-06 09:13:51.024</td>\n",
       "      <td>2019-01-06 14:38:05.517</td>\n",
       "      <td>18494</td>\n",
       "      <td>...</td>\n",
       "      <td>S2MSI1C</td>\n",
       "      <td>2015-028A</td>\n",
       "      <td>DESCENDING</td>\n",
       "      <td>Sentinel-2A</td>\n",
       "      <td>Level-1C</td>\n",
       "      <td>S2A_MSIL1C_20190106T091351_N0207_R050_T33NYD_2...</td>\n",
       "      <td>79b3bf50-955e-40d0-a0a2-c498a065fc43</td>\n",
       "      <td>S2A_OPER_MSI_L1C_TL_SGS__20190106T111455_A0184...</td>\n",
       "      <td>S2A_OPER_MSI_L1C_TL_SGS__20190106T111455_A0184...</td>\n",
       "      <td>S2A_OPER_MSI_L1C_DS_SGS__20190106T111455_S2019...</td>\n",
       "    </tr>\n",
       "  </tbody>\n",
       "</table>\n",
       "<p>5 rows × 35 columns</p>\n",
       "</div>"
      ],
      "text/plain": [
       "                                                                                  title  \\\n",
       "abfdc0b1-a591-4b67-bb38-cd821d82df81  S2A_MSIL1C_20190106T091351_N0207_R050_T33NXD_2...   \n",
       "21936107-a810-4486-9f8c-2c8d3301e0c4  S2A_MSIL1C_20190106T091351_N0207_R050_T33NWE_2...   \n",
       "8466109f-d07d-493f-8dce-2e35e2bdb2e3  S2A_MSIL1C_20190106T091351_N0207_R050_T33NYE_2...   \n",
       "7668aa1d-65f3-4f4a-bb5b-83addea93c58  S2A_MSIL1C_20190106T091351_N0207_R050_T33NWD_2...   \n",
       "79b3bf50-955e-40d0-a0a2-c498a065fc43  S2A_MSIL1C_20190106T091351_N0207_R050_T33NYD_2...   \n",
       "\n",
       "                                                                                   link  \\\n",
       "abfdc0b1-a591-4b67-bb38-cd821d82df81  https://scihub.copernicus.eu/apihub/odata/v1/P...   \n",
       "21936107-a810-4486-9f8c-2c8d3301e0c4  https://scihub.copernicus.eu/apihub/odata/v1/P...   \n",
       "8466109f-d07d-493f-8dce-2e35e2bdb2e3  https://scihub.copernicus.eu/apihub/odata/v1/P...   \n",
       "7668aa1d-65f3-4f4a-bb5b-83addea93c58  https://scihub.copernicus.eu/apihub/odata/v1/P...   \n",
       "79b3bf50-955e-40d0-a0a2-c498a065fc43  https://scihub.copernicus.eu/apihub/odata/v1/P...   \n",
       "\n",
       "                                                                       link_alternative  \\\n",
       "abfdc0b1-a591-4b67-bb38-cd821d82df81  https://scihub.copernicus.eu/apihub/odata/v1/P...   \n",
       "21936107-a810-4486-9f8c-2c8d3301e0c4  https://scihub.copernicus.eu/apihub/odata/v1/P...   \n",
       "8466109f-d07d-493f-8dce-2e35e2bdb2e3  https://scihub.copernicus.eu/apihub/odata/v1/P...   \n",
       "7668aa1d-65f3-4f4a-bb5b-83addea93c58  https://scihub.copernicus.eu/apihub/odata/v1/P...   \n",
       "79b3bf50-955e-40d0-a0a2-c498a065fc43  https://scihub.copernicus.eu/apihub/odata/v1/P...   \n",
       "\n",
       "                                                                              link_icon  \\\n",
       "abfdc0b1-a591-4b67-bb38-cd821d82df81  https://scihub.copernicus.eu/apihub/odata/v1/P...   \n",
       "21936107-a810-4486-9f8c-2c8d3301e0c4  https://scihub.copernicus.eu/apihub/odata/v1/P...   \n",
       "8466109f-d07d-493f-8dce-2e35e2bdb2e3  https://scihub.copernicus.eu/apihub/odata/v1/P...   \n",
       "7668aa1d-65f3-4f4a-bb5b-83addea93c58  https://scihub.copernicus.eu/apihub/odata/v1/P...   \n",
       "79b3bf50-955e-40d0-a0a2-c498a065fc43  https://scihub.copernicus.eu/apihub/odata/v1/P...   \n",
       "\n",
       "                                                                                summary  \\\n",
       "abfdc0b1-a591-4b67-bb38-cd821d82df81  Date: 2019-01-06T09:13:51.024Z, Instrument: MS...   \n",
       "21936107-a810-4486-9f8c-2c8d3301e0c4  Date: 2019-01-06T09:13:51.024Z, Instrument: MS...   \n",
       "8466109f-d07d-493f-8dce-2e35e2bdb2e3  Date: 2019-01-06T09:13:51.024Z, Instrument: MS...   \n",
       "7668aa1d-65f3-4f4a-bb5b-83addea93c58  Date: 2019-01-06T09:13:51.024Z, Instrument: MS...   \n",
       "79b3bf50-955e-40d0-a0a2-c498a065fc43  Date: 2019-01-06T09:13:51.024Z, Instrument: MS...   \n",
       "\n",
       "                                        datatakesensingstart  \\\n",
       "abfdc0b1-a591-4b67-bb38-cd821d82df81 2019-01-06 09:13:51.024   \n",
       "21936107-a810-4486-9f8c-2c8d3301e0c4 2019-01-06 09:13:51.024   \n",
       "8466109f-d07d-493f-8dce-2e35e2bdb2e3 2019-01-06 09:13:51.024   \n",
       "7668aa1d-65f3-4f4a-bb5b-83addea93c58 2019-01-06 09:13:51.024   \n",
       "79b3bf50-955e-40d0-a0a2-c498a065fc43 2019-01-06 09:13:51.024   \n",
       "\n",
       "                                               beginposition  \\\n",
       "abfdc0b1-a591-4b67-bb38-cd821d82df81 2019-01-06 09:13:51.024   \n",
       "21936107-a810-4486-9f8c-2c8d3301e0c4 2019-01-06 09:13:51.024   \n",
       "8466109f-d07d-493f-8dce-2e35e2bdb2e3 2019-01-06 09:13:51.024   \n",
       "7668aa1d-65f3-4f4a-bb5b-83addea93c58 2019-01-06 09:13:51.024   \n",
       "79b3bf50-955e-40d0-a0a2-c498a065fc43 2019-01-06 09:13:51.024   \n",
       "\n",
       "                                                 endposition  \\\n",
       "abfdc0b1-a591-4b67-bb38-cd821d82df81 2019-01-06 09:13:51.024   \n",
       "21936107-a810-4486-9f8c-2c8d3301e0c4 2019-01-06 09:13:51.024   \n",
       "8466109f-d07d-493f-8dce-2e35e2bdb2e3 2019-01-06 09:13:51.024   \n",
       "7668aa1d-65f3-4f4a-bb5b-83addea93c58 2019-01-06 09:13:51.024   \n",
       "79b3bf50-955e-40d0-a0a2-c498a065fc43 2019-01-06 09:13:51.024   \n",
       "\n",
       "                                               ingestiondate  orbitnumber  \\\n",
       "abfdc0b1-a591-4b67-bb38-cd821d82df81 2019-01-06 14:57:33.629        18494   \n",
       "21936107-a810-4486-9f8c-2c8d3301e0c4 2019-01-06 14:53:30.962        18494   \n",
       "8466109f-d07d-493f-8dce-2e35e2bdb2e3 2019-01-06 14:40:44.145        18494   \n",
       "7668aa1d-65f3-4f4a-bb5b-83addea93c58 2019-01-06 14:39:16.545        18494   \n",
       "79b3bf50-955e-40d0-a0a2-c498a065fc43 2019-01-06 14:38:05.517        18494   \n",
       "\n",
       "                                      ...  producttype  platformidentifier  \\\n",
       "abfdc0b1-a591-4b67-bb38-cd821d82df81  ...      S2MSI1C           2015-028A   \n",
       "21936107-a810-4486-9f8c-2c8d3301e0c4  ...      S2MSI1C           2015-028A   \n",
       "8466109f-d07d-493f-8dce-2e35e2bdb2e3  ...      S2MSI1C           2015-028A   \n",
       "7668aa1d-65f3-4f4a-bb5b-83addea93c58  ...      S2MSI1C           2015-028A   \n",
       "79b3bf50-955e-40d0-a0a2-c498a065fc43  ...      S2MSI1C           2015-028A   \n",
       "\n",
       "                                     orbitdirection platformserialidentifier  \\\n",
       "abfdc0b1-a591-4b67-bb38-cd821d82df81     DESCENDING              Sentinel-2A   \n",
       "21936107-a810-4486-9f8c-2c8d3301e0c4     DESCENDING              Sentinel-2A   \n",
       "8466109f-d07d-493f-8dce-2e35e2bdb2e3     DESCENDING              Sentinel-2A   \n",
       "7668aa1d-65f3-4f4a-bb5b-83addea93c58     DESCENDING              Sentinel-2A   \n",
       "79b3bf50-955e-40d0-a0a2-c498a065fc43     DESCENDING              Sentinel-2A   \n",
       "\n",
       "                                     processinglevel  \\\n",
       "abfdc0b1-a591-4b67-bb38-cd821d82df81        Level-1C   \n",
       "21936107-a810-4486-9f8c-2c8d3301e0c4        Level-1C   \n",
       "8466109f-d07d-493f-8dce-2e35e2bdb2e3        Level-1C   \n",
       "7668aa1d-65f3-4f4a-bb5b-83addea93c58        Level-1C   \n",
       "79b3bf50-955e-40d0-a0a2-c498a065fc43        Level-1C   \n",
       "\n",
       "                                                                             identifier  \\\n",
       "abfdc0b1-a591-4b67-bb38-cd821d82df81  S2A_MSIL1C_20190106T091351_N0207_R050_T33NXD_2...   \n",
       "21936107-a810-4486-9f8c-2c8d3301e0c4  S2A_MSIL1C_20190106T091351_N0207_R050_T33NWE_2...   \n",
       "8466109f-d07d-493f-8dce-2e35e2bdb2e3  S2A_MSIL1C_20190106T091351_N0207_R050_T33NYE_2...   \n",
       "7668aa1d-65f3-4f4a-bb5b-83addea93c58  S2A_MSIL1C_20190106T091351_N0207_R050_T33NWD_2...   \n",
       "79b3bf50-955e-40d0-a0a2-c498a065fc43  S2A_MSIL1C_20190106T091351_N0207_R050_T33NYD_2...   \n",
       "\n",
       "                                                                      uuid  \\\n",
       "abfdc0b1-a591-4b67-bb38-cd821d82df81  abfdc0b1-a591-4b67-bb38-cd821d82df81   \n",
       "21936107-a810-4486-9f8c-2c8d3301e0c4  21936107-a810-4486-9f8c-2c8d3301e0c4   \n",
       "8466109f-d07d-493f-8dce-2e35e2bdb2e3  8466109f-d07d-493f-8dce-2e35e2bdb2e3   \n",
       "7668aa1d-65f3-4f4a-bb5b-83addea93c58  7668aa1d-65f3-4f4a-bb5b-83addea93c58   \n",
       "79b3bf50-955e-40d0-a0a2-c498a065fc43  79b3bf50-955e-40d0-a0a2-c498a065fc43   \n",
       "\n",
       "                                                                   level1cpdiidentifier  \\\n",
       "abfdc0b1-a591-4b67-bb38-cd821d82df81  S2A_OPER_MSI_L1C_TL_SGS__20190106T111455_A0184...   \n",
       "21936107-a810-4486-9f8c-2c8d3301e0c4  S2A_OPER_MSI_L1C_TL_SGS__20190106T111455_A0184...   \n",
       "8466109f-d07d-493f-8dce-2e35e2bdb2e3  S2A_OPER_MSI_L1C_TL_SGS__20190106T111455_A0184...   \n",
       "7668aa1d-65f3-4f4a-bb5b-83addea93c58  S2A_OPER_MSI_L1C_TL_SGS__20190106T111455_A0184...   \n",
       "79b3bf50-955e-40d0-a0a2-c498a065fc43  S2A_OPER_MSI_L1C_TL_SGS__20190106T111455_A0184...   \n",
       "\n",
       "                                                                      granuleidentifier  \\\n",
       "abfdc0b1-a591-4b67-bb38-cd821d82df81  S2A_OPER_MSI_L1C_TL_SGS__20190106T111455_A0184...   \n",
       "21936107-a810-4486-9f8c-2c8d3301e0c4  S2A_OPER_MSI_L1C_TL_SGS__20190106T111455_A0184...   \n",
       "8466109f-d07d-493f-8dce-2e35e2bdb2e3  S2A_OPER_MSI_L1C_TL_SGS__20190106T111455_A0184...   \n",
       "7668aa1d-65f3-4f4a-bb5b-83addea93c58  S2A_OPER_MSI_L1C_TL_SGS__20190106T111455_A0184...   \n",
       "79b3bf50-955e-40d0-a0a2-c498a065fc43  S2A_OPER_MSI_L1C_TL_SGS__20190106T111455_A0184...   \n",
       "\n",
       "                                                                    datastripidentifier  \n",
       "abfdc0b1-a591-4b67-bb38-cd821d82df81  S2A_OPER_MSI_L1C_DS_SGS__20190106T111455_S2019...  \n",
       "21936107-a810-4486-9f8c-2c8d3301e0c4  S2A_OPER_MSI_L1C_DS_SGS__20190106T111455_S2019...  \n",
       "8466109f-d07d-493f-8dce-2e35e2bdb2e3  S2A_OPER_MSI_L1C_DS_SGS__20190106T111455_S2019...  \n",
       "7668aa1d-65f3-4f4a-bb5b-83addea93c58  S2A_OPER_MSI_L1C_DS_SGS__20190106T111455_S2019...  \n",
       "79b3bf50-955e-40d0-a0a2-c498a065fc43  S2A_OPER_MSI_L1C_DS_SGS__20190106T111455_S2019...  \n",
       "\n",
       "[5 rows x 35 columns]"
      ]
     },
     "execution_count": 42,
     "metadata": {},
     "output_type": "execute_result"
    }
   ],
   "source": [
    "df.head()"
   ]
  },
  {
   "cell_type": "code",
   "execution_count": 43,
   "metadata": {},
   "outputs": [
    {
     "data": {
      "text/plain": [
       "Index(['title', 'link', 'link_alternative', 'link_icon', 'summary',\n",
       "       'datatakesensingstart', 'beginposition', 'endposition', 'ingestiondate',\n",
       "       'orbitnumber', 'relativeorbitnumber', 'cloudcoverpercentage',\n",
       "       'sensoroperationalmode', 'gmlfootprint', 'footprint', 'tileid',\n",
       "       'hv_order_tileid', 'format', 'processingbaseline', 'platformname',\n",
       "       'filename', 'instrumentname', 'instrumentshortname', 'size',\n",
       "       's2datatakeid', 'producttype', 'platformidentifier', 'orbitdirection',\n",
       "       'platformserialidentifier', 'processinglevel', 'identifier', 'uuid',\n",
       "       'level1cpdiidentifier', 'granuleidentifier', 'datastripidentifier'],\n",
       "      dtype='object')"
      ]
     },
     "execution_count": 43,
     "metadata": {},
     "output_type": "execute_result"
    }
   ],
   "source": [
    "df.columns"
   ]
  },
  {
   "cell_type": "code",
   "execution_count": 44,
   "metadata": {},
   "outputs": [
    {
     "data": {
      "text/plain": [
       "array(['33NXD', '33NWE', '33NYE', '33NWD', '33NYD', '33NXE', '35NND',\n",
       "       '35MQV', '33NYC', '34NBH', '34NCJ', '34NBJ', '32NPM', '32NNL',\n",
       "       '33NVD', '35NKC', '35MLV', '35NKD', '35NLD', '35MLU', '35MLT',\n",
       "       '35MMV', '34MHD', '34NHJ', '34MBC', '34NBG', '33NZD', '33NZC',\n",
       "       '34NCH', '33NYB', '33NZB', '33NXB', '33NXC', '35NPA', '35NQB',\n",
       "       '34NFK', '34NEJ', '34NHH', '34NGJ', '34NGH', '34NEK', '34NFJ',\n",
       "       '35NKE', '34NHG', '33NTF', '32NQL', '32NPL', '32NRL', '32NNM',\n",
       "       '34MFD', '34NFH', '34NHL', '34MHE', '34MDA', '34MGE', '34NEF',\n",
       "       '34MFE', '34MFC', '34NEG', '34NGG', '34NGK', '34NFF', '34MEE',\n",
       "       '34MED', '34NFG', '34MCA', '34MDE', '34NHF', '34NEH', '34NGL',\n",
       "       '34MDD', '34NGF', '34MEC', '34NHK', '35NQC', '35NNC', '35MPV',\n",
       "       '35NQA', '33NVC', '33NVE', '33NWC', '35NMD', '35NMC', '35NMB',\n",
       "       '34MDV', '33NUE', '33NUF', '35NLC', '35NLE', '35NLB', '34NDF',\n",
       "       '34NDG', '34NCF', '34NDJ', '34NDH', '34NCG', '34NBF', '33NZA',\n",
       "       '34MCE', '34MBB', '33MZT', '33MZV', '32NRF', '32NQF', '32MQE',\n",
       "       '32NQG', '32NRG', '32NRH', '32NRJ', '33MUU', '33MUT', '32MRE',\n",
       "       '32NQH', '32NQJ', '33NXA', '33NYA', '34MBE', '33MYV', '34MBD',\n",
       "       '33NWB', '33MZU', '35MNU', '35MMT', '35MMR', '35MNS', '35MPR',\n",
       "       '35MPT', '35MPU', '35MNT', '35MMS', '35MPS', '34MDC', '34MDB',\n",
       "       '34MCB', '33MTQ', '33MWV', '33MXV', '32MPD', '32MQC', '34MHV',\n",
       "       '34MFV', '34MHC', '34MGA', '34MHA', '35MKV', '34MGB', '34MHB',\n",
       "       '34MGD', '34MGC', '34MFA', '34MFB', '32NRK', '35NKB', '35NLA',\n",
       "       '35NMA', '34MEU', '33MXU', '33MTT', '33NWA', '33MTU', '34MFU',\n",
       "       '35MKT', '35NNB', '35NNA', '35MNV', '34MCD', '34MCC', '33NVB',\n",
       "       '33NVA', '35NPC', '35NPB', '35MLS', '33MUV', '33MTV', '33NTE',\n",
       "       '35NKF', '34NFL', '34MEA', '34MEV', '34MEB', '35MMU', '34MGU',\n",
       "       '34MGV', '35MNR', '35MKU', '33NUB', '33NUD', '33NUC', '33NUA',\n",
       "       '32NPH', '32NPF', '32NQK', '32MPE', '35NKA', '35MKS', '33MYU',\n",
       "       '32MRD', '32MRC', '32MQD', '34MCV', '33MVV', '32MPC', '32NPG',\n",
       "       '33NTA', '33NTB', '33NTG', '32NRM', '32NPK'], dtype=object)"
      ]
     },
     "execution_count": 44,
     "metadata": {},
     "output_type": "execute_result"
    }
   ],
   "source": [
    "# We only need the unique Tile IDs\n",
    "\n",
    "df['tileid'].unique()"
   ]
  },
  {
   "cell_type": "code",
   "execution_count": 45,
   "metadata": {},
   "outputs": [
    {
     "data": {
      "text/plain": [
       "208"
      ]
     },
     "execution_count": 45,
     "metadata": {},
     "output_type": "execute_result"
    }
   ],
   "source": [
    "len(df['tileid'].unique())"
   ]
  },
  {
   "cell_type": "code",
   "execution_count": 46,
   "metadata": {},
   "outputs": [
    {
     "data": {
      "text/plain": [
       "['33NXD',\n",
       " '33NWE',\n",
       " '33NYE',\n",
       " '33NWD',\n",
       " '33NYD',\n",
       " '33NXE',\n",
       " '35NND',\n",
       " '35MQV',\n",
       " '33NYC',\n",
       " '34NBH',\n",
       " '34NCJ',\n",
       " '34NBJ',\n",
       " '32NPM',\n",
       " '32NNL',\n",
       " '33NVD',\n",
       " '35NKC',\n",
       " '35MLV',\n",
       " '35NKD',\n",
       " '35NLD',\n",
       " '35MLU',\n",
       " '35MLT',\n",
       " '35MMV',\n",
       " '34MHD',\n",
       " '34NHJ',\n",
       " '34MBC',\n",
       " '34NBG',\n",
       " '33NZD',\n",
       " '33NZC',\n",
       " '34NCH',\n",
       " '33NYB',\n",
       " '33NZB',\n",
       " '33NXB',\n",
       " '33NXC',\n",
       " '35NPA',\n",
       " '35NQB',\n",
       " '34NFK',\n",
       " '34NEJ',\n",
       " '34NHH',\n",
       " '34NGJ',\n",
       " '34NGH',\n",
       " '34NEK',\n",
       " '34NFJ',\n",
       " '35NKE',\n",
       " '34NHG',\n",
       " '33NTF',\n",
       " '32NQL',\n",
       " '32NPL',\n",
       " '32NRL',\n",
       " '32NNM',\n",
       " '34MFD',\n",
       " '34NFH',\n",
       " '34NHL',\n",
       " '34MHE',\n",
       " '34MDA',\n",
       " '34MGE',\n",
       " '34NEF',\n",
       " '34MFE',\n",
       " '34MFC',\n",
       " '34NEG',\n",
       " '34NGG',\n",
       " '34NGK',\n",
       " '34NFF',\n",
       " '34MEE',\n",
       " '34MED',\n",
       " '34NFG',\n",
       " '34MCA',\n",
       " '34MDE',\n",
       " '34NHF',\n",
       " '34NEH',\n",
       " '34NGL',\n",
       " '34MDD',\n",
       " '34NGF',\n",
       " '34MEC',\n",
       " '34NHK',\n",
       " '35NQC',\n",
       " '35NNC',\n",
       " '35MPV',\n",
       " '35NQA',\n",
       " '33NVC',\n",
       " '33NVE',\n",
       " '33NWC',\n",
       " '35NMD',\n",
       " '35NMC',\n",
       " '35NMB',\n",
       " '34MDV',\n",
       " '33NUE',\n",
       " '33NUF',\n",
       " '35NLC',\n",
       " '35NLE',\n",
       " '35NLB',\n",
       " '34NDF',\n",
       " '34NDG',\n",
       " '34NCF',\n",
       " '34NDJ',\n",
       " '34NDH',\n",
       " '34NCG',\n",
       " '34NBF',\n",
       " '33NZA',\n",
       " '34MCE',\n",
       " '34MBB',\n",
       " '33MZT',\n",
       " '33MZV',\n",
       " '32NRF',\n",
       " '32NQF',\n",
       " '32MQE',\n",
       " '32NQG',\n",
       " '32NRG',\n",
       " '32NRH',\n",
       " '32NRJ',\n",
       " '33MUU',\n",
       " '33MUT',\n",
       " '32MRE',\n",
       " '32NQH',\n",
       " '32NQJ',\n",
       " '33NXA',\n",
       " '33NYA',\n",
       " '34MBE',\n",
       " '33MYV',\n",
       " '34MBD',\n",
       " '33NWB',\n",
       " '33MZU',\n",
       " '35MNU',\n",
       " '35MMT',\n",
       " '35MMR',\n",
       " '35MNS',\n",
       " '35MPR',\n",
       " '35MPT',\n",
       " '35MPU',\n",
       " '35MNT',\n",
       " '35MMS',\n",
       " '35MPS',\n",
       " '34MDC',\n",
       " '34MDB',\n",
       " '34MCB',\n",
       " '33MTQ',\n",
       " '33MWV',\n",
       " '33MXV',\n",
       " '32MPD',\n",
       " '32MQC',\n",
       " '34MHV',\n",
       " '34MFV',\n",
       " '34MHC',\n",
       " '34MGA',\n",
       " '34MHA',\n",
       " '35MKV',\n",
       " '34MGB',\n",
       " '34MHB',\n",
       " '34MGD',\n",
       " '34MGC',\n",
       " '34MFA',\n",
       " '34MFB',\n",
       " '32NRK',\n",
       " '35NKB',\n",
       " '35NLA',\n",
       " '35NMA',\n",
       " '34MEU',\n",
       " '33MXU',\n",
       " '33MTT',\n",
       " '33NWA',\n",
       " '33MTU',\n",
       " '34MFU',\n",
       " '35MKT',\n",
       " '35NNB',\n",
       " '35NNA',\n",
       " '35MNV',\n",
       " '34MCD',\n",
       " '34MCC',\n",
       " '33NVB',\n",
       " '33NVA',\n",
       " '35NPC',\n",
       " '35NPB',\n",
       " '35MLS',\n",
       " '33MUV',\n",
       " '33MTV',\n",
       " '33NTE',\n",
       " '35NKF',\n",
       " '34NFL',\n",
       " '34MEA',\n",
       " '34MEV',\n",
       " '34MEB',\n",
       " '35MMU',\n",
       " '34MGU',\n",
       " '34MGV',\n",
       " '35MNR',\n",
       " '35MKU',\n",
       " '33NUB',\n",
       " '33NUD',\n",
       " '33NUC',\n",
       " '33NUA',\n",
       " '32NPH',\n",
       " '32NPF',\n",
       " '32NQK',\n",
       " '32MPE',\n",
       " '35NKA',\n",
       " '35MKS',\n",
       " '33MYU',\n",
       " '32MRD',\n",
       " '32MRC',\n",
       " '32MQD',\n",
       " '34MCV',\n",
       " '33MVV',\n",
       " '32MPC',\n",
       " '32NPG',\n",
       " '33NTA',\n",
       " '33NTB',\n",
       " '33NTG',\n",
       " '32NRM',\n",
       " '32NPK']"
      ]
     },
     "execution_count": 46,
     "metadata": {},
     "output_type": "execute_result"
    }
   ],
   "source": [
    "df['tileid'].unique().tolist()"
   ]
  },
  {
   "cell_type": "code",
   "execution_count": 47,
   "metadata": {},
   "outputs": [],
   "source": [
    "# Write this list into a text file\n",
    "\n",
    "with open('tile_ids.txt', 'w') as f:\n",
    "    for tile_id in df['tileid'].unique().tolist():\n",
    "        f.write(f'{tile_id}\\n')"
   ]
  },
  {
   "cell_type": "code",
   "execution_count": 23,
   "metadata": {},
   "outputs": [
    {
     "name": "stdout",
     "output_type": "stream",
     "text": [
      "Getting products from 2019-01-01 to 2019-01-07\n"
     ]
    },
    {
     "name": "stderr",
     "output_type": "stream",
     "text": [
      "Querying products: 100%|██████████████████████████████████████████████████████| 766/766 [01:07<00:00, 11.39 products/s]\n",
      "Querying products: 100%|████████████████████████████████████████████████████| 1156/1156 [00:52<00:00, 22.07 products/s]\n"
     ]
    },
    {
     "name": "stdout",
     "output_type": "stream",
     "text": [
      "Products so far: 1532\n",
      "Getting products from 2019-01-08 to 2019-01-14\n"
     ]
    },
    {
     "name": "stderr",
     "output_type": "stream",
     "text": [
      "Querying products: 100%|██████████████████████████████████████████████████████| 686/686 [00:37<00:00, 18.15 products/s]\n",
      "Querying products: 100%|████████████████████████████████████████████████████| 1074/1074 [00:42<00:00, 25.36 products/s]\n"
     ]
    },
    {
     "name": "stdout",
     "output_type": "stream",
     "text": [
      "Products so far: 2904\n",
      "Getting products from 2019-01-15 to 2019-01-21\n"
     ]
    },
    {
     "name": "stderr",
     "output_type": "stream",
     "text": [
      "Querying products: 100%|██████████████████████████████████████████████████████| 698/698 [00:39<00:00, 17.84 products/s]\n",
      "Querying products: 100%|████████████████████████████████████████████████████| 1072/1072 [00:45<00:00, 23.71 products/s]\n"
     ]
    },
    {
     "name": "stdout",
     "output_type": "stream",
     "text": [
      "Products so far: 4300\n",
      "Getting products from 2019-01-22 to 2019-01-31\n"
     ]
    },
    {
     "name": "stderr",
     "output_type": "stream",
     "text": [
      "Querying products: 100%|████████████████████████████████████████████████████| 1120/1120 [01:31<00:00, 12.27 products/s]\n",
      "Querying products: 100%|████████████████████████████████████████████████████| 1696/1696 [01:25<00:00, 19.75 products/s]\n"
     ]
    },
    {
     "name": "stdout",
     "output_type": "stream",
     "text": [
      "Products so far: 6540\n",
      "Getting products from 2019-02-01 to 2019-02-07\n"
     ]
    },
    {
     "name": "stderr",
     "output_type": "stream",
     "text": [
      "Querying products: 100%|██████████████████████████████████████████████████████| 764/764 [01:00<00:00, 12.59 products/s]\n",
      "Querying products: 100%|████████████████████████████████████████████████████| 1176/1176 [00:53<00:00, 21.82 products/s]\n"
     ]
    },
    {
     "name": "stdout",
     "output_type": "stream",
     "text": [
      "Products so far: 8068\n",
      "Getting products from 2019-02-08 to 2019-02-14\n"
     ]
    },
    {
     "name": "stderr",
     "output_type": "stream",
     "text": [
      "Querying products: 100%|██████████████████████████████████████████████████████| 804/804 [00:48<00:00, 16.47 products/s]\n",
      "Querying products: 100%|████████████████████████████████████████████████████| 1200/1200 [00:45<00:00, 26.48 products/s]\n"
     ]
    },
    {
     "name": "stdout",
     "output_type": "stream",
     "text": [
      "Products so far: 9676\n",
      "Getting products from 2019-02-15 to 2019-02-21\n"
     ]
    },
    {
     "name": "stderr",
     "output_type": "stream",
     "text": [
      "Querying products: 100%|██████████████████████████████████████████████████████| 750/750 [00:51<00:00, 14.66 products/s]\n",
      "Querying products: 100%|████████████████████████████████████████████████████| 1132/1132 [00:55<00:00, 20.36 products/s]\n"
     ]
    },
    {
     "name": "stdout",
     "output_type": "stream",
     "text": [
      "Products so far: 11176\n",
      "Getting products from 2019-02-22 to 2019-02-28\n"
     ]
    },
    {
     "name": "stderr",
     "output_type": "stream",
     "text": [
      "Querying products: 100%|██████████████████████████████████████████████████████| 674/674 [00:52<00:00, 12.92 products/s]\n",
      "Querying products: 100%|████████████████████████████████████████████████████| 1048/1048 [00:55<00:00, 18.87 products/s]\n"
     ]
    },
    {
     "name": "stdout",
     "output_type": "stream",
     "text": [
      "Products so far: 12524\n",
      "Getting products from 2019-03-01 to 2019-03-07\n"
     ]
    },
    {
     "name": "stderr",
     "output_type": "stream",
     "text": [
      "Querying products: 100%|██████████████████████████████████████████████████████| 708/708 [01:09<00:00, 10.16 products/s]\n",
      "Querying products: 100%|████████████████████████████████████████████████████| 1076/1076 [00:59<00:00, 18.11 products/s]\n"
     ]
    },
    {
     "name": "stdout",
     "output_type": "stream",
     "text": [
      "Products so far: 13940\n",
      "Getting products from 2019-03-08 to 2019-03-14\n"
     ]
    },
    {
     "name": "stderr",
     "output_type": "stream",
     "text": [
      "Querying products: 100%|██████████████████████████████████████████████████████| 766/766 [01:10<00:00, 10.84 products/s]\n",
      "Querying products: 100%|████████████████████████████████████████████████████| 1150/1150 [01:17<00:00, 14.90 products/s]\n"
     ]
    },
    {
     "name": "stdout",
     "output_type": "stream",
     "text": [
      "Products so far: 15472\n",
      "Getting products from 2019-03-15 to 2019-03-21\n"
     ]
    },
    {
     "name": "stderr",
     "output_type": "stream",
     "text": [
      "Querying products: 100%|██████████████████████████████████████████████████████| 788/788 [01:02<00:00, 12.64 products/s]\n",
      "Querying products: 100%|████████████████████████████████████████████████████| 1180/1180 [01:02<00:00, 18.90 products/s]\n"
     ]
    },
    {
     "name": "stdout",
     "output_type": "stream",
     "text": [
      "Products so far: 17048\n",
      "Getting products from 2019-03-22 to 2019-03-31\n"
     ]
    },
    {
     "name": "stderr",
     "output_type": "stream",
     "text": [
      "Querying products: 100%|████████████████████████████████████████████████████| 1146/1146 [01:49<00:00, 10.46 products/s]\n",
      "Querying products: 100%|████████████████████████████████████████████████████| 1734/1734 [01:45<00:00, 16.51 products/s]\n"
     ]
    },
    {
     "name": "stdout",
     "output_type": "stream",
     "text": [
      "Products so far: 19340\n",
      "Getting products from 2019-04-01 to 2019-04-07\n"
     ]
    },
    {
     "name": "stderr",
     "output_type": "stream",
     "text": [
      "Querying products: 100%|██████████████████████████████████████████████████████| 764/764 [01:14<00:00, 10.27 products/s]\n",
      "Querying products: 100%|████████████████████████████████████████████████████| 1150/1150 [01:08<00:00, 16.71 products/s]\n"
     ]
    },
    {
     "name": "stdout",
     "output_type": "stream",
     "text": [
      "Products so far: 20868\n",
      "Getting products from 2019-04-08 to 2019-04-14\n"
     ]
    },
    {
     "ename": "SentinelAPIError",
     "evalue": "HTTP status 500 Internal Server Error: SolrServerException : Timeout occured while waiting response from server at: http://172.30.175.89:8983/solr/dhus",
     "output_type": "error",
     "traceback": [
      "\u001b[1;31m---------------------------------------------------------------------------\u001b[0m",
      "\u001b[1;31mSentinelAPIError\u001b[0m                          Traceback (most recent call last)",
      "\u001b[1;32m<ipython-input-23-c10e10ed726b>\u001b[0m in \u001b[0;36m<module>\u001b[1;34m\u001b[0m\n\u001b[0;32m      2\u001b[0m \u001b[0mdate_range_list\u001b[0m \u001b[1;33m=\u001b[0m \u001b[1;33m[\u001b[0m\u001b[1;33m]\u001b[0m\u001b[1;33m\u001b[0m\u001b[1;33m\u001b[0m\u001b[0m\n\u001b[0;32m      3\u001b[0m \u001b[1;33m\u001b[0m\u001b[0m\n\u001b[1;32m----> 4\u001b[1;33m \u001b[0mdf\u001b[0m \u001b[1;33m=\u001b[0m \u001b[0mget_products_df_for_year\u001b[0m\u001b[1;33m(\u001b[0m\u001b[0mapi\u001b[0m\u001b[1;33m,\u001b[0m \u001b[0mfootprint\u001b[0m\u001b[1;33m,\u001b[0m \u001b[1;36m2019\u001b[0m\u001b[1;33m,\u001b[0m \u001b[1;33m(\u001b[0m\u001b[1;36m0\u001b[0m\u001b[1;33m,\u001b[0m \u001b[1;36m100\u001b[0m\u001b[1;33m)\u001b[0m\u001b[1;33m,\u001b[0m \u001b[0mdf_list\u001b[0m\u001b[1;33m,\u001b[0m \u001b[0mdate_range_list\u001b[0m\u001b[1;33m)\u001b[0m\u001b[1;33m\u001b[0m\u001b[1;33m\u001b[0m\u001b[0m\n\u001b[0m",
      "\u001b[1;32m<ipython-input-19-1b7a87bec69d>\u001b[0m in \u001b[0;36mget_products_df_for_year\u001b[1;34m(api, footprint, year, cloudcover, df_list, date_range_list)\u001b[0m\n\u001b[0;32m     52\u001b[0m             \u001b[0mdate_end\u001b[0m \u001b[1;33m=\u001b[0m \u001b[0mdate_range\u001b[0m\u001b[1;33m[\u001b[0m\u001b[1;36m1\u001b[0m\u001b[1;33m]\u001b[0m\u001b[1;33m\u001b[0m\u001b[1;33m\u001b[0m\u001b[0m\n\u001b[0;32m     53\u001b[0m             \u001b[0mprint\u001b[0m\u001b[1;33m(\u001b[0m\u001b[1;34mf'Getting products from {date_start} to {date_end}'\u001b[0m\u001b[1;33m)\u001b[0m\u001b[1;33m\u001b[0m\u001b[1;33m\u001b[0m\u001b[0m\n\u001b[1;32m---> 54\u001b[1;33m             \u001b[0mproducts_df_2\u001b[0m \u001b[1;33m=\u001b[0m \u001b[0mget_products_df\u001b[0m\u001b[1;33m(\u001b[0m\u001b[0mapi\u001b[0m\u001b[1;33m,\u001b[0m \u001b[0mfootprint\u001b[0m\u001b[1;33m,\u001b[0m \u001b[0mdate_start\u001b[0m\u001b[1;33m,\u001b[0m \u001b[0mdate_end\u001b[0m\u001b[1;33m,\u001b[0m \u001b[0mcloudcover\u001b[0m\u001b[1;33m=\u001b[0m\u001b[0mcloudcover\u001b[0m\u001b[1;33m)\u001b[0m\u001b[1;33m\u001b[0m\u001b[1;33m\u001b[0m\u001b[0m\n\u001b[0m\u001b[0;32m     55\u001b[0m             \u001b[0mproducts_df\u001b[0m \u001b[1;33m=\u001b[0m \u001b[0mpd\u001b[0m\u001b[1;33m.\u001b[0m\u001b[0mconcat\u001b[0m\u001b[1;33m(\u001b[0m\u001b[1;33m[\u001b[0m\u001b[0mproducts_df\u001b[0m\u001b[1;33m,\u001b[0m \u001b[0mproducts_df_2\u001b[0m\u001b[1;33m]\u001b[0m\u001b[1;33m)\u001b[0m\u001b[1;33m\u001b[0m\u001b[1;33m\u001b[0m\u001b[0m\n\u001b[0;32m     56\u001b[0m             \u001b[0mproducts_df_3\u001b[0m \u001b[1;33m=\u001b[0m \u001b[0mget_products_df\u001b[0m\u001b[1;33m(\u001b[0m\u001b[0mapi\u001b[0m\u001b[1;33m,\u001b[0m \u001b[0mfootprint\u001b[0m\u001b[1;33m,\u001b[0m \u001b[0mdate_start\u001b[0m\u001b[1;33m,\u001b[0m \u001b[0mdate_end\u001b[0m\u001b[1;33m,\u001b[0m \u001b[0marea\u001b[0m\u001b[1;33m=\u001b[0m\u001b[1;34m'Intersects'\u001b[0m\u001b[1;33m,\u001b[0m \u001b[0mcloudcover\u001b[0m\u001b[1;33m=\u001b[0m\u001b[0mcloudcover\u001b[0m\u001b[1;33m)\u001b[0m\u001b[1;33m\u001b[0m\u001b[1;33m\u001b[0m\u001b[0m\n",
      "\u001b[1;32m<ipython-input-16-1351bff581b2>\u001b[0m in \u001b[0;36mget_products_df\u001b[1;34m(api, footprint, date_start, date_end, area, platform, cloudcover)\u001b[0m\n\u001b[0;32m     10\u001b[0m     \u001b[1;34m\"\"\"Queries for products from the Sentinel API.\"\"\"\u001b[0m\u001b[1;33m\u001b[0m\u001b[1;33m\u001b[0m\u001b[0m\n\u001b[0;32m     11\u001b[0m \u001b[1;33m\u001b[0m\u001b[0m\n\u001b[1;32m---> 12\u001b[1;33m     products = api.query(footprint,\n\u001b[0m\u001b[0;32m     13\u001b[0m                          \u001b[0mdate\u001b[0m\u001b[1;33m=\u001b[0m\u001b[1;33m(\u001b[0m\u001b[0mdate_start\u001b[0m\u001b[1;33m,\u001b[0m \u001b[0mdate_end\u001b[0m\u001b[1;33m)\u001b[0m\u001b[1;33m,\u001b[0m\u001b[1;33m\u001b[0m\u001b[1;33m\u001b[0m\u001b[0m\n\u001b[0;32m     14\u001b[0m                          \u001b[0marea_relation\u001b[0m\u001b[1;33m=\u001b[0m\u001b[0marea\u001b[0m\u001b[1;33m,\u001b[0m\u001b[1;33m\u001b[0m\u001b[1;33m\u001b[0m\u001b[0m\n",
      "\u001b[1;32mC:\\Anaconda3\\envs\\canopy_conda\\lib\\site-packages\\sentinelsat\\sentinel.py\u001b[0m in \u001b[0;36mquery\u001b[1;34m(self, area, date, raw, area_relation, order_by, limit, offset, **keywords)\u001b[0m\n\u001b[0;32m    206\u001b[0m         )\n\u001b[0;32m    207\u001b[0m         \u001b[0mformatted_order_by\u001b[0m \u001b[1;33m=\u001b[0m \u001b[0m_format_order_by\u001b[0m\u001b[1;33m(\u001b[0m\u001b[0morder_by\u001b[0m\u001b[1;33m)\u001b[0m\u001b[1;33m\u001b[0m\u001b[1;33m\u001b[0m\u001b[0m\n\u001b[1;32m--> 208\u001b[1;33m         \u001b[0mresponse\u001b[0m\u001b[1;33m,\u001b[0m \u001b[0mcount\u001b[0m \u001b[1;33m=\u001b[0m \u001b[0mself\u001b[0m\u001b[1;33m.\u001b[0m\u001b[0m_load_query\u001b[0m\u001b[1;33m(\u001b[0m\u001b[0mquery\u001b[0m\u001b[1;33m,\u001b[0m \u001b[0mformatted_order_by\u001b[0m\u001b[1;33m,\u001b[0m \u001b[0mlimit\u001b[0m\u001b[1;33m,\u001b[0m \u001b[0moffset\u001b[0m\u001b[1;33m)\u001b[0m\u001b[1;33m\u001b[0m\u001b[1;33m\u001b[0m\u001b[0m\n\u001b[0m\u001b[0;32m    209\u001b[0m         \u001b[0mself\u001b[0m\u001b[1;33m.\u001b[0m\u001b[0mlogger\u001b[0m\u001b[1;33m.\u001b[0m\u001b[0minfo\u001b[0m\u001b[1;33m(\u001b[0m\u001b[1;34m\"Found %s products\"\u001b[0m\u001b[1;33m,\u001b[0m \u001b[0mcount\u001b[0m\u001b[1;33m)\u001b[0m\u001b[1;33m\u001b[0m\u001b[1;33m\u001b[0m\u001b[0m\n\u001b[0;32m    210\u001b[0m         \u001b[1;32mreturn\u001b[0m \u001b[0m_parse_opensearch_response\u001b[0m\u001b[1;33m(\u001b[0m\u001b[0mresponse\u001b[0m\u001b[1;33m)\u001b[0m\u001b[1;33m\u001b[0m\u001b[1;33m\u001b[0m\u001b[0m\n",
      "\u001b[1;32mC:\\Anaconda3\\envs\\canopy_conda\\lib\\site-packages\\sentinelsat\\sentinel.py\u001b[0m in \u001b[0;36m_load_query\u001b[1;34m(self, query, order_by, limit, offset)\u001b[0m\n\u001b[0;32m    347\u001b[0m \u001b[1;33m\u001b[0m\u001b[0m\n\u001b[0;32m    348\u001b[0m     \u001b[1;32mdef\u001b[0m \u001b[0m_load_query\u001b[0m\u001b[1;33m(\u001b[0m\u001b[0mself\u001b[0m\u001b[1;33m,\u001b[0m \u001b[0mquery\u001b[0m\u001b[1;33m,\u001b[0m \u001b[0morder_by\u001b[0m\u001b[1;33m=\u001b[0m\u001b[1;32mNone\u001b[0m\u001b[1;33m,\u001b[0m \u001b[0mlimit\u001b[0m\u001b[1;33m=\u001b[0m\u001b[1;32mNone\u001b[0m\u001b[1;33m,\u001b[0m \u001b[0moffset\u001b[0m\u001b[1;33m=\u001b[0m\u001b[1;36m0\u001b[0m\u001b[1;33m)\u001b[0m\u001b[1;33m:\u001b[0m\u001b[1;33m\u001b[0m\u001b[1;33m\u001b[0m\u001b[0m\n\u001b[1;32m--> 349\u001b[1;33m         \u001b[0mproducts\u001b[0m\u001b[1;33m,\u001b[0m \u001b[0mcount\u001b[0m \u001b[1;33m=\u001b[0m \u001b[0mself\u001b[0m\u001b[1;33m.\u001b[0m\u001b[0m_load_subquery\u001b[0m\u001b[1;33m(\u001b[0m\u001b[0mquery\u001b[0m\u001b[1;33m,\u001b[0m \u001b[0morder_by\u001b[0m\u001b[1;33m,\u001b[0m \u001b[0mlimit\u001b[0m\u001b[1;33m,\u001b[0m \u001b[0moffset\u001b[0m\u001b[1;33m)\u001b[0m\u001b[1;33m\u001b[0m\u001b[1;33m\u001b[0m\u001b[0m\n\u001b[0m\u001b[0;32m    350\u001b[0m \u001b[1;33m\u001b[0m\u001b[0m\n\u001b[0;32m    351\u001b[0m         \u001b[1;31m# repeat query until all results have been loaded\u001b[0m\u001b[1;33m\u001b[0m\u001b[1;33m\u001b[0m\u001b[1;33m\u001b[0m\u001b[0m\n",
      "\u001b[1;32mC:\\Anaconda3\\envs\\canopy_conda\\lib\\site-packages\\sentinelsat\\sentinel.py\u001b[0m in \u001b[0;36m_load_subquery\u001b[1;34m(self, query, order_by, limit, offset)\u001b[0m\n\u001b[0;32m    385\u001b[0m             \u001b[0mtimeout\u001b[0m\u001b[1;33m=\u001b[0m\u001b[0mself\u001b[0m\u001b[1;33m.\u001b[0m\u001b[0mtimeout\u001b[0m\u001b[1;33m,\u001b[0m\u001b[1;33m\u001b[0m\u001b[1;33m\u001b[0m\u001b[0m\n\u001b[0;32m    386\u001b[0m         )\n\u001b[1;32m--> 387\u001b[1;33m         \u001b[0m_check_scihub_response\u001b[0m\u001b[1;33m(\u001b[0m\u001b[0mresponse\u001b[0m\u001b[1;33m)\u001b[0m\u001b[1;33m\u001b[0m\u001b[1;33m\u001b[0m\u001b[0m\n\u001b[0m\u001b[0;32m    388\u001b[0m \u001b[1;33m\u001b[0m\u001b[0m\n\u001b[0;32m    389\u001b[0m         \u001b[1;31m# store last status code (for testing)\u001b[0m\u001b[1;33m\u001b[0m\u001b[1;33m\u001b[0m\u001b[1;33m\u001b[0m\u001b[0m\n",
      "\u001b[1;32mC:\\Anaconda3\\envs\\canopy_conda\\lib\\site-packages\\sentinelsat\\sentinel.py\u001b[0m in \u001b[0;36m_check_scihub_response\u001b[1;34m(response, test_json)\u001b[0m\n\u001b[0;32m   1318\u001b[0m         \u001b[1;31m# See PEP 409\u001b[0m\u001b[1;33m\u001b[0m\u001b[1;33m\u001b[0m\u001b[1;33m\u001b[0m\u001b[0m\n\u001b[0;32m   1319\u001b[0m         \u001b[0mapi_error\u001b[0m\u001b[1;33m.\u001b[0m\u001b[0m__cause__\u001b[0m \u001b[1;33m=\u001b[0m \u001b[1;32mNone\u001b[0m\u001b[1;33m\u001b[0m\u001b[1;33m\u001b[0m\u001b[0m\n\u001b[1;32m-> 1320\u001b[1;33m         \u001b[1;32mraise\u001b[0m \u001b[0mapi_error\u001b[0m\u001b[1;33m\u001b[0m\u001b[1;33m\u001b[0m\u001b[0m\n\u001b[0m\u001b[0;32m   1321\u001b[0m \u001b[1;33m\u001b[0m\u001b[0m\n\u001b[0;32m   1322\u001b[0m \u001b[1;33m\u001b[0m\u001b[0m\n",
      "\u001b[1;31mSentinelAPIError\u001b[0m: HTTP status 500 Internal Server Error: SolrServerException : Timeout occured while waiting response from server at: http://172.30.175.89:8983/solr/dhus"
     ]
    }
   ],
   "source": [
    "# Try again, but this time allow any cloudcover value\n",
    "\n",
    "df_list = []\n",
    "date_range_list = []\n",
    "\n",
    "df = get_products_df_for_year(api, footprint, 2019, (0, 100), df_list, date_range_list)"
   ]
  },
  {
   "cell_type": "code",
   "execution_count": 24,
   "metadata": {},
   "outputs": [
    {
     "name": "stdout",
     "output_type": "stream",
     "text": [
      "Getting products from 2019-04-08 to 2019-04-14\n"
     ]
    },
    {
     "name": "stderr",
     "output_type": "stream",
     "text": [
      "Querying products: 100%|██████████████████████████████████████████████████████| 692/692 [01:25<00:00,  8.13 products/s]\n",
      "Querying products: 100%|████████████████████████████████████████████████████| 1066/1066 [01:11<00:00, 14.87 products/s]\n"
     ]
    },
    {
     "name": "stdout",
     "output_type": "stream",
     "text": [
      "Products so far: 22252\n",
      "Getting products from 2019-04-15 to 2019-04-21\n"
     ]
    },
    {
     "name": "stderr",
     "output_type": "stream",
     "text": [
      "Querying products: 100%|██████████████████████████████████████████████████████| 718/718 [00:58<00:00, 12.26 products/s]\n",
      "Querying products: 100%|████████████████████████████████████████████████████| 1086/1086 [00:55<00:00, 19.70 products/s]\n"
     ]
    },
    {
     "name": "stdout",
     "output_type": "stream",
     "text": [
      "Products so far: 23688\n",
      "Getting products from 2019-04-22 to 2019-04-30\n"
     ]
    },
    {
     "name": "stderr",
     "output_type": "stream",
     "text": [
      "Querying products: 100%|████████████████████████████████████████████████████| 1009/1009 [01:55<00:00,  8.76 products/s]\n",
      "Querying products: 100%|████████████████████████████████████████████████████| 1528/1528 [01:50<00:00, 13.85 products/s]\n"
     ]
    },
    {
     "name": "stdout",
     "output_type": "stream",
     "text": [
      "Products so far: 25706\n",
      "Getting products from 2019-05-01 to 2019-05-07\n"
     ]
    },
    {
     "name": "stderr",
     "output_type": "stream",
     "text": [
      "Querying products: 100%|██████████████████████████████████████████████████████| 736/736 [01:00<00:00, 12.26 products/s]\n",
      "Querying products: 100%|████████████████████████████████████████████████████| 1118/1118 [01:05<00:00, 17.05 products/s]\n"
     ]
    },
    {
     "name": "stdout",
     "output_type": "stream",
     "text": [
      "Products so far: 27178\n",
      "Getting products from 2019-05-08 to 2019-05-14\n"
     ]
    },
    {
     "ename": "SentinelAPIError",
     "evalue": "HTTP status 500 Internal Server Error: SolrServerException : Timeout occured while waiting response from server at: http://172.30.175.89:8983/solr/dhus",
     "output_type": "error",
     "traceback": [
      "\u001b[1;31m---------------------------------------------------------------------------\u001b[0m",
      "\u001b[1;31mSentinelAPIError\u001b[0m                          Traceback (most recent call last)",
      "\u001b[1;32m<ipython-input-24-0765e7b1279b>\u001b[0m in \u001b[0;36m<module>\u001b[1;34m\u001b[0m\n\u001b[1;32m----> 1\u001b[1;33m \u001b[0mdf\u001b[0m \u001b[1;33m=\u001b[0m \u001b[0mget_products_df_for_year\u001b[0m\u001b[1;33m(\u001b[0m\u001b[0mapi\u001b[0m\u001b[1;33m,\u001b[0m \u001b[0mfootprint\u001b[0m\u001b[1;33m,\u001b[0m \u001b[1;36m2019\u001b[0m\u001b[1;33m,\u001b[0m \u001b[1;33m(\u001b[0m\u001b[1;36m0\u001b[0m\u001b[1;33m,\u001b[0m \u001b[1;36m100\u001b[0m\u001b[1;33m)\u001b[0m\u001b[1;33m,\u001b[0m \u001b[0mdf_list\u001b[0m\u001b[1;33m,\u001b[0m \u001b[0mdate_range_list\u001b[0m\u001b[1;33m)\u001b[0m\u001b[1;33m\u001b[0m\u001b[1;33m\u001b[0m\u001b[0m\n\u001b[0m",
      "\u001b[1;32m<ipython-input-19-1b7a87bec69d>\u001b[0m in \u001b[0;36mget_products_df_for_year\u001b[1;34m(api, footprint, year, cloudcover, df_list, date_range_list)\u001b[0m\n\u001b[0;32m     52\u001b[0m             \u001b[0mdate_end\u001b[0m \u001b[1;33m=\u001b[0m \u001b[0mdate_range\u001b[0m\u001b[1;33m[\u001b[0m\u001b[1;36m1\u001b[0m\u001b[1;33m]\u001b[0m\u001b[1;33m\u001b[0m\u001b[1;33m\u001b[0m\u001b[0m\n\u001b[0;32m     53\u001b[0m             \u001b[0mprint\u001b[0m\u001b[1;33m(\u001b[0m\u001b[1;34mf'Getting products from {date_start} to {date_end}'\u001b[0m\u001b[1;33m)\u001b[0m\u001b[1;33m\u001b[0m\u001b[1;33m\u001b[0m\u001b[0m\n\u001b[1;32m---> 54\u001b[1;33m             \u001b[0mproducts_df_2\u001b[0m \u001b[1;33m=\u001b[0m \u001b[0mget_products_df\u001b[0m\u001b[1;33m(\u001b[0m\u001b[0mapi\u001b[0m\u001b[1;33m,\u001b[0m \u001b[0mfootprint\u001b[0m\u001b[1;33m,\u001b[0m \u001b[0mdate_start\u001b[0m\u001b[1;33m,\u001b[0m \u001b[0mdate_end\u001b[0m\u001b[1;33m,\u001b[0m \u001b[0mcloudcover\u001b[0m\u001b[1;33m=\u001b[0m\u001b[0mcloudcover\u001b[0m\u001b[1;33m)\u001b[0m\u001b[1;33m\u001b[0m\u001b[1;33m\u001b[0m\u001b[0m\n\u001b[0m\u001b[0;32m     55\u001b[0m             \u001b[0mproducts_df\u001b[0m \u001b[1;33m=\u001b[0m \u001b[0mpd\u001b[0m\u001b[1;33m.\u001b[0m\u001b[0mconcat\u001b[0m\u001b[1;33m(\u001b[0m\u001b[1;33m[\u001b[0m\u001b[0mproducts_df\u001b[0m\u001b[1;33m,\u001b[0m \u001b[0mproducts_df_2\u001b[0m\u001b[1;33m]\u001b[0m\u001b[1;33m)\u001b[0m\u001b[1;33m\u001b[0m\u001b[1;33m\u001b[0m\u001b[0m\n\u001b[0;32m     56\u001b[0m             \u001b[0mproducts_df_3\u001b[0m \u001b[1;33m=\u001b[0m \u001b[0mget_products_df\u001b[0m\u001b[1;33m(\u001b[0m\u001b[0mapi\u001b[0m\u001b[1;33m,\u001b[0m \u001b[0mfootprint\u001b[0m\u001b[1;33m,\u001b[0m \u001b[0mdate_start\u001b[0m\u001b[1;33m,\u001b[0m \u001b[0mdate_end\u001b[0m\u001b[1;33m,\u001b[0m \u001b[0marea\u001b[0m\u001b[1;33m=\u001b[0m\u001b[1;34m'Intersects'\u001b[0m\u001b[1;33m,\u001b[0m \u001b[0mcloudcover\u001b[0m\u001b[1;33m=\u001b[0m\u001b[0mcloudcover\u001b[0m\u001b[1;33m)\u001b[0m\u001b[1;33m\u001b[0m\u001b[1;33m\u001b[0m\u001b[0m\n",
      "\u001b[1;32m<ipython-input-16-1351bff581b2>\u001b[0m in \u001b[0;36mget_products_df\u001b[1;34m(api, footprint, date_start, date_end, area, platform, cloudcover)\u001b[0m\n\u001b[0;32m     10\u001b[0m     \u001b[1;34m\"\"\"Queries for products from the Sentinel API.\"\"\"\u001b[0m\u001b[1;33m\u001b[0m\u001b[1;33m\u001b[0m\u001b[0m\n\u001b[0;32m     11\u001b[0m \u001b[1;33m\u001b[0m\u001b[0m\n\u001b[1;32m---> 12\u001b[1;33m     products = api.query(footprint,\n\u001b[0m\u001b[0;32m     13\u001b[0m                          \u001b[0mdate\u001b[0m\u001b[1;33m=\u001b[0m\u001b[1;33m(\u001b[0m\u001b[0mdate_start\u001b[0m\u001b[1;33m,\u001b[0m \u001b[0mdate_end\u001b[0m\u001b[1;33m)\u001b[0m\u001b[1;33m,\u001b[0m\u001b[1;33m\u001b[0m\u001b[1;33m\u001b[0m\u001b[0m\n\u001b[0;32m     14\u001b[0m                          \u001b[0marea_relation\u001b[0m\u001b[1;33m=\u001b[0m\u001b[0marea\u001b[0m\u001b[1;33m,\u001b[0m\u001b[1;33m\u001b[0m\u001b[1;33m\u001b[0m\u001b[0m\n",
      "\u001b[1;32mC:\\Anaconda3\\envs\\canopy_conda\\lib\\site-packages\\sentinelsat\\sentinel.py\u001b[0m in \u001b[0;36mquery\u001b[1;34m(self, area, date, raw, area_relation, order_by, limit, offset, **keywords)\u001b[0m\n\u001b[0;32m    206\u001b[0m         )\n\u001b[0;32m    207\u001b[0m         \u001b[0mformatted_order_by\u001b[0m \u001b[1;33m=\u001b[0m \u001b[0m_format_order_by\u001b[0m\u001b[1;33m(\u001b[0m\u001b[0morder_by\u001b[0m\u001b[1;33m)\u001b[0m\u001b[1;33m\u001b[0m\u001b[1;33m\u001b[0m\u001b[0m\n\u001b[1;32m--> 208\u001b[1;33m         \u001b[0mresponse\u001b[0m\u001b[1;33m,\u001b[0m \u001b[0mcount\u001b[0m \u001b[1;33m=\u001b[0m \u001b[0mself\u001b[0m\u001b[1;33m.\u001b[0m\u001b[0m_load_query\u001b[0m\u001b[1;33m(\u001b[0m\u001b[0mquery\u001b[0m\u001b[1;33m,\u001b[0m \u001b[0mformatted_order_by\u001b[0m\u001b[1;33m,\u001b[0m \u001b[0mlimit\u001b[0m\u001b[1;33m,\u001b[0m \u001b[0moffset\u001b[0m\u001b[1;33m)\u001b[0m\u001b[1;33m\u001b[0m\u001b[1;33m\u001b[0m\u001b[0m\n\u001b[0m\u001b[0;32m    209\u001b[0m         \u001b[0mself\u001b[0m\u001b[1;33m.\u001b[0m\u001b[0mlogger\u001b[0m\u001b[1;33m.\u001b[0m\u001b[0minfo\u001b[0m\u001b[1;33m(\u001b[0m\u001b[1;34m\"Found %s products\"\u001b[0m\u001b[1;33m,\u001b[0m \u001b[0mcount\u001b[0m\u001b[1;33m)\u001b[0m\u001b[1;33m\u001b[0m\u001b[1;33m\u001b[0m\u001b[0m\n\u001b[0;32m    210\u001b[0m         \u001b[1;32mreturn\u001b[0m \u001b[0m_parse_opensearch_response\u001b[0m\u001b[1;33m(\u001b[0m\u001b[0mresponse\u001b[0m\u001b[1;33m)\u001b[0m\u001b[1;33m\u001b[0m\u001b[1;33m\u001b[0m\u001b[0m\n",
      "\u001b[1;32mC:\\Anaconda3\\envs\\canopy_conda\\lib\\site-packages\\sentinelsat\\sentinel.py\u001b[0m in \u001b[0;36m_load_query\u001b[1;34m(self, query, order_by, limit, offset)\u001b[0m\n\u001b[0;32m    347\u001b[0m \u001b[1;33m\u001b[0m\u001b[0m\n\u001b[0;32m    348\u001b[0m     \u001b[1;32mdef\u001b[0m \u001b[0m_load_query\u001b[0m\u001b[1;33m(\u001b[0m\u001b[0mself\u001b[0m\u001b[1;33m,\u001b[0m \u001b[0mquery\u001b[0m\u001b[1;33m,\u001b[0m \u001b[0morder_by\u001b[0m\u001b[1;33m=\u001b[0m\u001b[1;32mNone\u001b[0m\u001b[1;33m,\u001b[0m \u001b[0mlimit\u001b[0m\u001b[1;33m=\u001b[0m\u001b[1;32mNone\u001b[0m\u001b[1;33m,\u001b[0m \u001b[0moffset\u001b[0m\u001b[1;33m=\u001b[0m\u001b[1;36m0\u001b[0m\u001b[1;33m)\u001b[0m\u001b[1;33m:\u001b[0m\u001b[1;33m\u001b[0m\u001b[1;33m\u001b[0m\u001b[0m\n\u001b[1;32m--> 349\u001b[1;33m         \u001b[0mproducts\u001b[0m\u001b[1;33m,\u001b[0m \u001b[0mcount\u001b[0m \u001b[1;33m=\u001b[0m \u001b[0mself\u001b[0m\u001b[1;33m.\u001b[0m\u001b[0m_load_subquery\u001b[0m\u001b[1;33m(\u001b[0m\u001b[0mquery\u001b[0m\u001b[1;33m,\u001b[0m \u001b[0morder_by\u001b[0m\u001b[1;33m,\u001b[0m \u001b[0mlimit\u001b[0m\u001b[1;33m,\u001b[0m \u001b[0moffset\u001b[0m\u001b[1;33m)\u001b[0m\u001b[1;33m\u001b[0m\u001b[1;33m\u001b[0m\u001b[0m\n\u001b[0m\u001b[0;32m    350\u001b[0m \u001b[1;33m\u001b[0m\u001b[0m\n\u001b[0;32m    351\u001b[0m         \u001b[1;31m# repeat query until all results have been loaded\u001b[0m\u001b[1;33m\u001b[0m\u001b[1;33m\u001b[0m\u001b[1;33m\u001b[0m\u001b[0m\n",
      "\u001b[1;32mC:\\Anaconda3\\envs\\canopy_conda\\lib\\site-packages\\sentinelsat\\sentinel.py\u001b[0m in \u001b[0;36m_load_subquery\u001b[1;34m(self, query, order_by, limit, offset)\u001b[0m\n\u001b[0;32m    385\u001b[0m             \u001b[0mtimeout\u001b[0m\u001b[1;33m=\u001b[0m\u001b[0mself\u001b[0m\u001b[1;33m.\u001b[0m\u001b[0mtimeout\u001b[0m\u001b[1;33m,\u001b[0m\u001b[1;33m\u001b[0m\u001b[1;33m\u001b[0m\u001b[0m\n\u001b[0;32m    386\u001b[0m         )\n\u001b[1;32m--> 387\u001b[1;33m         \u001b[0m_check_scihub_response\u001b[0m\u001b[1;33m(\u001b[0m\u001b[0mresponse\u001b[0m\u001b[1;33m)\u001b[0m\u001b[1;33m\u001b[0m\u001b[1;33m\u001b[0m\u001b[0m\n\u001b[0m\u001b[0;32m    388\u001b[0m \u001b[1;33m\u001b[0m\u001b[0m\n\u001b[0;32m    389\u001b[0m         \u001b[1;31m# store last status code (for testing)\u001b[0m\u001b[1;33m\u001b[0m\u001b[1;33m\u001b[0m\u001b[1;33m\u001b[0m\u001b[0m\n",
      "\u001b[1;32mC:\\Anaconda3\\envs\\canopy_conda\\lib\\site-packages\\sentinelsat\\sentinel.py\u001b[0m in \u001b[0;36m_check_scihub_response\u001b[1;34m(response, test_json)\u001b[0m\n\u001b[0;32m   1318\u001b[0m         \u001b[1;31m# See PEP 409\u001b[0m\u001b[1;33m\u001b[0m\u001b[1;33m\u001b[0m\u001b[1;33m\u001b[0m\u001b[0m\n\u001b[0;32m   1319\u001b[0m         \u001b[0mapi_error\u001b[0m\u001b[1;33m.\u001b[0m\u001b[0m__cause__\u001b[0m \u001b[1;33m=\u001b[0m \u001b[1;32mNone\u001b[0m\u001b[1;33m\u001b[0m\u001b[1;33m\u001b[0m\u001b[0m\n\u001b[1;32m-> 1320\u001b[1;33m         \u001b[1;32mraise\u001b[0m \u001b[0mapi_error\u001b[0m\u001b[1;33m\u001b[0m\u001b[1;33m\u001b[0m\u001b[0m\n\u001b[0m\u001b[0;32m   1321\u001b[0m \u001b[1;33m\u001b[0m\u001b[0m\n\u001b[0;32m   1322\u001b[0m \u001b[1;33m\u001b[0m\u001b[0m\n",
      "\u001b[1;31mSentinelAPIError\u001b[0m: HTTP status 500 Internal Server Error: SolrServerException : Timeout occured while waiting response from server at: http://172.30.175.89:8983/solr/dhus"
     ]
    }
   ],
   "source": [
    "df = get_products_df_for_year(api, footprint, 2019, (0, 100), df_list, date_range_list)"
   ]
  },
  {
   "cell_type": "code",
   "execution_count": 26,
   "metadata": {},
   "outputs": [
    {
     "name": "stdout",
     "output_type": "stream",
     "text": [
      "Getting products from 2019-05-08 to 2019-05-14\n"
     ]
    },
    {
     "name": "stderr",
     "output_type": "stream",
     "text": [
      "Querying products: 100%|██████████████████████████████████████████████████████| 696/696 [00:56<00:00, 12.38 products/s]\n",
      "Querying products: 100%|████████████████████████████████████████████████████| 1070/1070 [01:03<00:00, 16.87 products/s]\n"
     ]
    },
    {
     "name": "stdout",
     "output_type": "stream",
     "text": [
      "Products so far: 28570\n",
      "Getting products from 2019-05-15 to 2019-05-21\n"
     ]
    },
    {
     "name": "stderr",
     "output_type": "stream",
     "text": [
      "Querying products: 100%|██████████████████████████████████████████████████████| 718/718 [01:13<00:00,  9.70 products/s]\n",
      "Querying products: 100%|████████████████████████████████████████████████████| 1088/1088 [00:59<00:00, 18.42 products/s]\n"
     ]
    },
    {
     "name": "stdout",
     "output_type": "stream",
     "text": [
      "Products so far: 30006\n",
      "Getting products from 2019-05-22 to 2019-05-31\n"
     ]
    },
    {
     "name": "stderr",
     "output_type": "stream",
     "text": [
      "Querying products: 100%|████████████████████████████████████████████████████| 1018/1018 [01:15<00:00, 13.52 products/s]\n",
      "Querying products: 100%|████████████████████████████████████████████████████| 1574/1574 [01:13<00:00, 21.56 products/s]\n"
     ]
    },
    {
     "name": "stdout",
     "output_type": "stream",
     "text": [
      "Products so far: 32042\n",
      "Getting products from 2019-06-01 to 2019-06-07\n"
     ]
    },
    {
     "name": "stderr",
     "output_type": "stream",
     "text": [
      "Querying products: 100%|██████████████████████████████████████████████████████| 788/788 [00:46<00:00, 17.08 products/s]\n",
      "Querying products: 100%|████████████████████████████████████████████████████| 1174/1174 [00:49<00:00, 23.73 products/s]\n"
     ]
    },
    {
     "name": "stdout",
     "output_type": "stream",
     "text": [
      "Products so far: 33618\n",
      "Getting products from 2019-06-08 to 2019-06-14\n"
     ]
    },
    {
     "name": "stderr",
     "output_type": "stream",
     "text": [
      "Querying products: 100%|██████████████████████████████████████████████████████| 800/800 [01:05<00:00, 12.25 products/s]\n",
      "Querying products: 100%|████████████████████████████████████████████████████| 1194/1194 [01:01<00:00, 19.26 products/s]\n"
     ]
    },
    {
     "name": "stdout",
     "output_type": "stream",
     "text": [
      "Products so far: 35218\n",
      "Getting products from 2019-06-15 to 2019-06-21\n"
     ]
    },
    {
     "name": "stderr",
     "output_type": "stream",
     "text": [
      "Querying products: 100%|██████████████████████████████████████████████████████| 736/736 [00:53<00:00, 13.81 products/s]\n",
      "Querying products: 100%|████████████████████████████████████████████████████| 1112/1112 [00:52<00:00, 21.34 products/s]\n"
     ]
    },
    {
     "name": "stdout",
     "output_type": "stream",
     "text": [
      "Products so far: 36690\n",
      "Getting products from 2019-06-22 to 2019-06-30\n"
     ]
    },
    {
     "name": "stderr",
     "output_type": "stream",
     "text": [
      "Querying products: 100%|██████████████████████████████████████████████████████| 982/982 [01:33<00:00, 10.53 products/s]\n",
      "Querying products: 100%|████████████████████████████████████████████████████| 1486/1486 [01:31<00:00, 16.25 products/s]\n"
     ]
    },
    {
     "name": "stdout",
     "output_type": "stream",
     "text": [
      "Products so far: 38654\n",
      "Getting products from 2019-07-01 to 2019-07-07\n"
     ]
    },
    {
     "name": "stderr",
     "output_type": "stream",
     "text": [
      "Querying products: 100%|██████████████████████████████████████████████████████| 803/803 [01:10<00:00, 11.42 products/s]\n",
      "Querying products: 100%|████████████████████████████████████████████████████| 1197/1197 [01:00<00:00, 19.92 products/s]\n"
     ]
    },
    {
     "name": "stdout",
     "output_type": "stream",
     "text": [
      "Products so far: 40260\n",
      "Getting products from 2019-07-08 to 2019-07-14\n"
     ]
    },
    {
     "name": "stderr",
     "output_type": "stream",
     "text": [
      "Querying products: 100%|██████████████████████████████████████████████████████| 792/792 [01:11<00:00, 11.06 products/s]\n",
      "Querying products: 100%|████████████████████████████████████████████████████| 1186/1186 [01:00<00:00, 19.52 products/s]\n"
     ]
    },
    {
     "name": "stdout",
     "output_type": "stream",
     "text": [
      "Products so far: 41844\n",
      "Getting products from 2019-07-15 to 2019-07-21\n"
     ]
    },
    {
     "name": "stderr",
     "output_type": "stream",
     "text": [
      "Querying products: 100%|██████████████████████████████████████████████████████| 762/762 [01:31<00:00,  8.29 products/s]\n",
      "Querying products: 100%|████████████████████████████████████████████████████| 1146/1146 [01:25<00:00, 13.39 products/s]\n"
     ]
    },
    {
     "name": "stdout",
     "output_type": "stream",
     "text": [
      "Products so far: 43368\n",
      "Getting products from 2019-07-22 to 2019-07-31\n"
     ]
    },
    {
     "name": "stderr",
     "output_type": "stream",
     "text": [
      "Querying products: 100%|████████████████████████████████████████████████████| 1102/1102 [02:36<00:00,  7.02 products/s]\n",
      "Querying products: 100%|████████████████████████████████████████████████████| 1682/1682 [02:28<00:00, 11.31 products/s]\n"
     ]
    },
    {
     "name": "stdout",
     "output_type": "stream",
     "text": [
      "Products so far: 45572\n",
      "Getting products from 2019-08-01 to 2019-08-07\n"
     ]
    },
    {
     "ename": "SentinelAPIError",
     "evalue": "HTTP status 500 Internal Server Error: SolrServerException : Timeout occured while waiting response from server at: http://172.30.175.89:8983/solr/dhus",
     "output_type": "error",
     "traceback": [
      "\u001b[1;31m---------------------------------------------------------------------------\u001b[0m",
      "\u001b[1;31mSentinelAPIError\u001b[0m                          Traceback (most recent call last)",
      "\u001b[1;32m<ipython-input-26-0765e7b1279b>\u001b[0m in \u001b[0;36m<module>\u001b[1;34m\u001b[0m\n\u001b[1;32m----> 1\u001b[1;33m \u001b[0mdf\u001b[0m \u001b[1;33m=\u001b[0m \u001b[0mget_products_df_for_year\u001b[0m\u001b[1;33m(\u001b[0m\u001b[0mapi\u001b[0m\u001b[1;33m,\u001b[0m \u001b[0mfootprint\u001b[0m\u001b[1;33m,\u001b[0m \u001b[1;36m2019\u001b[0m\u001b[1;33m,\u001b[0m \u001b[1;33m(\u001b[0m\u001b[1;36m0\u001b[0m\u001b[1;33m,\u001b[0m \u001b[1;36m100\u001b[0m\u001b[1;33m)\u001b[0m\u001b[1;33m,\u001b[0m \u001b[0mdf_list\u001b[0m\u001b[1;33m,\u001b[0m \u001b[0mdate_range_list\u001b[0m\u001b[1;33m)\u001b[0m\u001b[1;33m\u001b[0m\u001b[1;33m\u001b[0m\u001b[0m\n\u001b[0m",
      "\u001b[1;32m<ipython-input-19-1b7a87bec69d>\u001b[0m in \u001b[0;36mget_products_df_for_year\u001b[1;34m(api, footprint, year, cloudcover, df_list, date_range_list)\u001b[0m\n\u001b[0;32m     52\u001b[0m             \u001b[0mdate_end\u001b[0m \u001b[1;33m=\u001b[0m \u001b[0mdate_range\u001b[0m\u001b[1;33m[\u001b[0m\u001b[1;36m1\u001b[0m\u001b[1;33m]\u001b[0m\u001b[1;33m\u001b[0m\u001b[1;33m\u001b[0m\u001b[0m\n\u001b[0;32m     53\u001b[0m             \u001b[0mprint\u001b[0m\u001b[1;33m(\u001b[0m\u001b[1;34mf'Getting products from {date_start} to {date_end}'\u001b[0m\u001b[1;33m)\u001b[0m\u001b[1;33m\u001b[0m\u001b[1;33m\u001b[0m\u001b[0m\n\u001b[1;32m---> 54\u001b[1;33m             \u001b[0mproducts_df_2\u001b[0m \u001b[1;33m=\u001b[0m \u001b[0mget_products_df\u001b[0m\u001b[1;33m(\u001b[0m\u001b[0mapi\u001b[0m\u001b[1;33m,\u001b[0m \u001b[0mfootprint\u001b[0m\u001b[1;33m,\u001b[0m \u001b[0mdate_start\u001b[0m\u001b[1;33m,\u001b[0m \u001b[0mdate_end\u001b[0m\u001b[1;33m,\u001b[0m \u001b[0mcloudcover\u001b[0m\u001b[1;33m=\u001b[0m\u001b[0mcloudcover\u001b[0m\u001b[1;33m)\u001b[0m\u001b[1;33m\u001b[0m\u001b[1;33m\u001b[0m\u001b[0m\n\u001b[0m\u001b[0;32m     55\u001b[0m             \u001b[0mproducts_df\u001b[0m \u001b[1;33m=\u001b[0m \u001b[0mpd\u001b[0m\u001b[1;33m.\u001b[0m\u001b[0mconcat\u001b[0m\u001b[1;33m(\u001b[0m\u001b[1;33m[\u001b[0m\u001b[0mproducts_df\u001b[0m\u001b[1;33m,\u001b[0m \u001b[0mproducts_df_2\u001b[0m\u001b[1;33m]\u001b[0m\u001b[1;33m)\u001b[0m\u001b[1;33m\u001b[0m\u001b[1;33m\u001b[0m\u001b[0m\n\u001b[0;32m     56\u001b[0m             \u001b[0mproducts_df_3\u001b[0m \u001b[1;33m=\u001b[0m \u001b[0mget_products_df\u001b[0m\u001b[1;33m(\u001b[0m\u001b[0mapi\u001b[0m\u001b[1;33m,\u001b[0m \u001b[0mfootprint\u001b[0m\u001b[1;33m,\u001b[0m \u001b[0mdate_start\u001b[0m\u001b[1;33m,\u001b[0m \u001b[0mdate_end\u001b[0m\u001b[1;33m,\u001b[0m \u001b[0marea\u001b[0m\u001b[1;33m=\u001b[0m\u001b[1;34m'Intersects'\u001b[0m\u001b[1;33m,\u001b[0m \u001b[0mcloudcover\u001b[0m\u001b[1;33m=\u001b[0m\u001b[0mcloudcover\u001b[0m\u001b[1;33m)\u001b[0m\u001b[1;33m\u001b[0m\u001b[1;33m\u001b[0m\u001b[0m\n",
      "\u001b[1;32m<ipython-input-16-1351bff581b2>\u001b[0m in \u001b[0;36mget_products_df\u001b[1;34m(api, footprint, date_start, date_end, area, platform, cloudcover)\u001b[0m\n\u001b[0;32m     10\u001b[0m     \u001b[1;34m\"\"\"Queries for products from the Sentinel API.\"\"\"\u001b[0m\u001b[1;33m\u001b[0m\u001b[1;33m\u001b[0m\u001b[0m\n\u001b[0;32m     11\u001b[0m \u001b[1;33m\u001b[0m\u001b[0m\n\u001b[1;32m---> 12\u001b[1;33m     products = api.query(footprint,\n\u001b[0m\u001b[0;32m     13\u001b[0m                          \u001b[0mdate\u001b[0m\u001b[1;33m=\u001b[0m\u001b[1;33m(\u001b[0m\u001b[0mdate_start\u001b[0m\u001b[1;33m,\u001b[0m \u001b[0mdate_end\u001b[0m\u001b[1;33m)\u001b[0m\u001b[1;33m,\u001b[0m\u001b[1;33m\u001b[0m\u001b[1;33m\u001b[0m\u001b[0m\n\u001b[0;32m     14\u001b[0m                          \u001b[0marea_relation\u001b[0m\u001b[1;33m=\u001b[0m\u001b[0marea\u001b[0m\u001b[1;33m,\u001b[0m\u001b[1;33m\u001b[0m\u001b[1;33m\u001b[0m\u001b[0m\n",
      "\u001b[1;32mC:\\Anaconda3\\envs\\canopy_conda\\lib\\site-packages\\sentinelsat\\sentinel.py\u001b[0m in \u001b[0;36mquery\u001b[1;34m(self, area, date, raw, area_relation, order_by, limit, offset, **keywords)\u001b[0m\n\u001b[0;32m    206\u001b[0m         )\n\u001b[0;32m    207\u001b[0m         \u001b[0mformatted_order_by\u001b[0m \u001b[1;33m=\u001b[0m \u001b[0m_format_order_by\u001b[0m\u001b[1;33m(\u001b[0m\u001b[0morder_by\u001b[0m\u001b[1;33m)\u001b[0m\u001b[1;33m\u001b[0m\u001b[1;33m\u001b[0m\u001b[0m\n\u001b[1;32m--> 208\u001b[1;33m         \u001b[0mresponse\u001b[0m\u001b[1;33m,\u001b[0m \u001b[0mcount\u001b[0m \u001b[1;33m=\u001b[0m \u001b[0mself\u001b[0m\u001b[1;33m.\u001b[0m\u001b[0m_load_query\u001b[0m\u001b[1;33m(\u001b[0m\u001b[0mquery\u001b[0m\u001b[1;33m,\u001b[0m \u001b[0mformatted_order_by\u001b[0m\u001b[1;33m,\u001b[0m \u001b[0mlimit\u001b[0m\u001b[1;33m,\u001b[0m \u001b[0moffset\u001b[0m\u001b[1;33m)\u001b[0m\u001b[1;33m\u001b[0m\u001b[1;33m\u001b[0m\u001b[0m\n\u001b[0m\u001b[0;32m    209\u001b[0m         \u001b[0mself\u001b[0m\u001b[1;33m.\u001b[0m\u001b[0mlogger\u001b[0m\u001b[1;33m.\u001b[0m\u001b[0minfo\u001b[0m\u001b[1;33m(\u001b[0m\u001b[1;34m\"Found %s products\"\u001b[0m\u001b[1;33m,\u001b[0m \u001b[0mcount\u001b[0m\u001b[1;33m)\u001b[0m\u001b[1;33m\u001b[0m\u001b[1;33m\u001b[0m\u001b[0m\n\u001b[0;32m    210\u001b[0m         \u001b[1;32mreturn\u001b[0m \u001b[0m_parse_opensearch_response\u001b[0m\u001b[1;33m(\u001b[0m\u001b[0mresponse\u001b[0m\u001b[1;33m)\u001b[0m\u001b[1;33m\u001b[0m\u001b[1;33m\u001b[0m\u001b[0m\n",
      "\u001b[1;32mC:\\Anaconda3\\envs\\canopy_conda\\lib\\site-packages\\sentinelsat\\sentinel.py\u001b[0m in \u001b[0;36m_load_query\u001b[1;34m(self, query, order_by, limit, offset)\u001b[0m\n\u001b[0;32m    347\u001b[0m \u001b[1;33m\u001b[0m\u001b[0m\n\u001b[0;32m    348\u001b[0m     \u001b[1;32mdef\u001b[0m \u001b[0m_load_query\u001b[0m\u001b[1;33m(\u001b[0m\u001b[0mself\u001b[0m\u001b[1;33m,\u001b[0m \u001b[0mquery\u001b[0m\u001b[1;33m,\u001b[0m \u001b[0morder_by\u001b[0m\u001b[1;33m=\u001b[0m\u001b[1;32mNone\u001b[0m\u001b[1;33m,\u001b[0m \u001b[0mlimit\u001b[0m\u001b[1;33m=\u001b[0m\u001b[1;32mNone\u001b[0m\u001b[1;33m,\u001b[0m \u001b[0moffset\u001b[0m\u001b[1;33m=\u001b[0m\u001b[1;36m0\u001b[0m\u001b[1;33m)\u001b[0m\u001b[1;33m:\u001b[0m\u001b[1;33m\u001b[0m\u001b[1;33m\u001b[0m\u001b[0m\n\u001b[1;32m--> 349\u001b[1;33m         \u001b[0mproducts\u001b[0m\u001b[1;33m,\u001b[0m \u001b[0mcount\u001b[0m \u001b[1;33m=\u001b[0m \u001b[0mself\u001b[0m\u001b[1;33m.\u001b[0m\u001b[0m_load_subquery\u001b[0m\u001b[1;33m(\u001b[0m\u001b[0mquery\u001b[0m\u001b[1;33m,\u001b[0m \u001b[0morder_by\u001b[0m\u001b[1;33m,\u001b[0m \u001b[0mlimit\u001b[0m\u001b[1;33m,\u001b[0m \u001b[0moffset\u001b[0m\u001b[1;33m)\u001b[0m\u001b[1;33m\u001b[0m\u001b[1;33m\u001b[0m\u001b[0m\n\u001b[0m\u001b[0;32m    350\u001b[0m \u001b[1;33m\u001b[0m\u001b[0m\n\u001b[0;32m    351\u001b[0m         \u001b[1;31m# repeat query until all results have been loaded\u001b[0m\u001b[1;33m\u001b[0m\u001b[1;33m\u001b[0m\u001b[1;33m\u001b[0m\u001b[0m\n",
      "\u001b[1;32mC:\\Anaconda3\\envs\\canopy_conda\\lib\\site-packages\\sentinelsat\\sentinel.py\u001b[0m in \u001b[0;36m_load_subquery\u001b[1;34m(self, query, order_by, limit, offset)\u001b[0m\n\u001b[0;32m    385\u001b[0m             \u001b[0mtimeout\u001b[0m\u001b[1;33m=\u001b[0m\u001b[0mself\u001b[0m\u001b[1;33m.\u001b[0m\u001b[0mtimeout\u001b[0m\u001b[1;33m,\u001b[0m\u001b[1;33m\u001b[0m\u001b[1;33m\u001b[0m\u001b[0m\n\u001b[0;32m    386\u001b[0m         )\n\u001b[1;32m--> 387\u001b[1;33m         \u001b[0m_check_scihub_response\u001b[0m\u001b[1;33m(\u001b[0m\u001b[0mresponse\u001b[0m\u001b[1;33m)\u001b[0m\u001b[1;33m\u001b[0m\u001b[1;33m\u001b[0m\u001b[0m\n\u001b[0m\u001b[0;32m    388\u001b[0m \u001b[1;33m\u001b[0m\u001b[0m\n\u001b[0;32m    389\u001b[0m         \u001b[1;31m# store last status code (for testing)\u001b[0m\u001b[1;33m\u001b[0m\u001b[1;33m\u001b[0m\u001b[1;33m\u001b[0m\u001b[0m\n",
      "\u001b[1;32mC:\\Anaconda3\\envs\\canopy_conda\\lib\\site-packages\\sentinelsat\\sentinel.py\u001b[0m in \u001b[0;36m_check_scihub_response\u001b[1;34m(response, test_json)\u001b[0m\n\u001b[0;32m   1318\u001b[0m         \u001b[1;31m# See PEP 409\u001b[0m\u001b[1;33m\u001b[0m\u001b[1;33m\u001b[0m\u001b[1;33m\u001b[0m\u001b[0m\n\u001b[0;32m   1319\u001b[0m         \u001b[0mapi_error\u001b[0m\u001b[1;33m.\u001b[0m\u001b[0m__cause__\u001b[0m \u001b[1;33m=\u001b[0m \u001b[1;32mNone\u001b[0m\u001b[1;33m\u001b[0m\u001b[1;33m\u001b[0m\u001b[0m\n\u001b[1;32m-> 1320\u001b[1;33m         \u001b[1;32mraise\u001b[0m \u001b[0mapi_error\u001b[0m\u001b[1;33m\u001b[0m\u001b[1;33m\u001b[0m\u001b[0m\n\u001b[0m\u001b[0;32m   1321\u001b[0m \u001b[1;33m\u001b[0m\u001b[0m\n\u001b[0;32m   1322\u001b[0m \u001b[1;33m\u001b[0m\u001b[0m\n",
      "\u001b[1;31mSentinelAPIError\u001b[0m: HTTP status 500 Internal Server Error: SolrServerException : Timeout occured while waiting response from server at: http://172.30.175.89:8983/solr/dhus"
     ]
    }
   ],
   "source": [
    "df = get_products_df_for_year(api, footprint, 2019, (0, 100), df_list, date_range_list)"
   ]
  },
  {
   "cell_type": "code",
   "execution_count": 32,
   "metadata": {},
   "outputs": [
    {
     "name": "stdout",
     "output_type": "stream",
     "text": [
      "Getting products from 2019-08-01 to 2019-08-07\n"
     ]
    },
    {
     "name": "stderr",
     "output_type": "stream",
     "text": [
      "Querying products: 100%|██████████████████████████████████████████████████████| 710/710 [01:17<00:00,  9.14 products/s]\n",
      "Querying products: 100%|████████████████████████████████████████████████████| 1084/1084 [01:15<00:00, 14.31 products/s]\n"
     ]
    },
    {
     "name": "stdout",
     "output_type": "stream",
     "text": [
      "Products so far: 46992\n",
      "Getting products from 2019-08-08 to 2019-08-14\n"
     ]
    },
    {
     "name": "stderr",
     "output_type": "stream",
     "text": [
      "Querying products: 100%|██████████████████████████████████████████████████████| 688/688 [01:10<00:00,  9.76 products/s]\n",
      "Querying products: 100%|████████████████████████████████████████████████████| 1054/1054 [01:20<00:00, 13.06 products/s]\n"
     ]
    },
    {
     "name": "stdout",
     "output_type": "stream",
     "text": [
      "Products so far: 48368\n",
      "Getting products from 2019-08-15 to 2019-08-21\n"
     ]
    },
    {
     "name": "stderr",
     "output_type": "stream",
     "text": [
      "Querying products: 100%|██████████████████████████████████████████████████████| 808/808 [01:17<00:00, 10.42 products/s]\n",
      "Querying products: 100%|████████████████████████████████████████████████████| 1198/1198 [01:08<00:00, 17.56 products/s]\n"
     ]
    },
    {
     "name": "stdout",
     "output_type": "stream",
     "text": [
      "Products so far: 49984\n",
      "Getting products from 2019-08-22 to 2019-08-31\n"
     ]
    },
    {
     "name": "stderr",
     "output_type": "stream",
     "text": [
      "Querying products: 100%|████████████████████████████████████████████████████| 1196/1196 [02:07<00:00,  9.41 products/s]\n",
      "Querying products: 100%|████████████████████████████████████████████████████| 1788/1788 [02:09<00:00, 13.80 products/s]\n"
     ]
    },
    {
     "name": "stdout",
     "output_type": "stream",
     "text": [
      "Products so far: 52376\n",
      "Getting products from 2019-09-01 to 2019-09-07\n"
     ]
    },
    {
     "name": "stderr",
     "output_type": "stream",
     "text": [
      "Querying products: 100%|██████████████████████████████████████████████████████| 809/809 [01:23<00:00,  9.65 products/s]\n",
      "Querying products: 100%|████████████████████████████████████████████████████| 1204/1204 [01:24<00:00, 14.30 products/s]\n"
     ]
    },
    {
     "name": "stdout",
     "output_type": "stream",
     "text": [
      "Products so far: 53994\n",
      "Getting products from 2019-09-08 to 2019-09-14\n"
     ]
    },
    {
     "name": "stderr",
     "output_type": "stream",
     "text": [
      "Querying products: 100%|██████████████████████████████████████████████████████| 748/748 [01:29<00:00,  8.40 products/s]\n",
      "Querying products: 100%|████████████████████████████████████████████████████| 1130/1130 [01:27<00:00, 12.97 products/s]\n"
     ]
    },
    {
     "name": "stdout",
     "output_type": "stream",
     "text": [
      "Products so far: 55490\n",
      "Getting products from 2019-09-15 to 2019-09-21\n"
     ]
    },
    {
     "name": "stderr",
     "output_type": "stream",
     "text": [
      "Querying products: 100%|██████████████████████████████████████████████████████| 706/706 [01:25<00:00,  8.23 products/s]\n",
      "Querying products: 100%|████████████████████████████████████████████████████| 1080/1080 [01:11<00:00, 15.08 products/s]\n"
     ]
    },
    {
     "name": "stdout",
     "output_type": "stream",
     "text": [
      "Products so far: 56902\n",
      "Getting products from 2019-09-22 to 2019-09-30\n"
     ]
    },
    {
     "name": "stderr",
     "output_type": "stream",
     "text": [
      "Querying products: 100%|██████████████████████████████████████████████████████| 832/832 [01:29<00:00,  9.33 products/s]\n",
      "Querying products: 100%|████████████████████████████████████████████████████| 1268/1268 [01:23<00:00, 15.14 products/s]\n"
     ]
    },
    {
     "name": "stdout",
     "output_type": "stream",
     "text": [
      "Products so far: 58566\n",
      "Getting products from 2019-10-01 to 2019-10-07\n"
     ]
    },
    {
     "name": "stderr",
     "output_type": "stream",
     "text": [
      "Querying products: 100%|██████████████████████████████████████████████████████| 802/802 [01:21<00:00,  9.81 products/s]\n",
      "Querying products: 100%|████████████████████████████████████████████████████| 1210/1210 [01:14<00:00, 16.24 products/s]\n"
     ]
    },
    {
     "name": "stdout",
     "output_type": "stream",
     "text": [
      "Products so far: 60170\n",
      "Getting products from 2019-10-08 to 2019-10-14\n"
     ]
    },
    {
     "ename": "SentinelAPIError",
     "evalue": "HTTP status 500 Internal Server Error: SolrServerException : Timeout occured while waiting response from server at: http://172.30.175.89:8983/solr/dhus",
     "output_type": "error",
     "traceback": [
      "\u001b[1;31m---------------------------------------------------------------------------\u001b[0m",
      "\u001b[1;31mSentinelAPIError\u001b[0m                          Traceback (most recent call last)",
      "\u001b[1;32m<ipython-input-32-0765e7b1279b>\u001b[0m in \u001b[0;36m<module>\u001b[1;34m\u001b[0m\n\u001b[1;32m----> 1\u001b[1;33m \u001b[0mdf\u001b[0m \u001b[1;33m=\u001b[0m \u001b[0mget_products_df_for_year\u001b[0m\u001b[1;33m(\u001b[0m\u001b[0mapi\u001b[0m\u001b[1;33m,\u001b[0m \u001b[0mfootprint\u001b[0m\u001b[1;33m,\u001b[0m \u001b[1;36m2019\u001b[0m\u001b[1;33m,\u001b[0m \u001b[1;33m(\u001b[0m\u001b[1;36m0\u001b[0m\u001b[1;33m,\u001b[0m \u001b[1;36m100\u001b[0m\u001b[1;33m)\u001b[0m\u001b[1;33m,\u001b[0m \u001b[0mdf_list\u001b[0m\u001b[1;33m,\u001b[0m \u001b[0mdate_range_list\u001b[0m\u001b[1;33m)\u001b[0m\u001b[1;33m\u001b[0m\u001b[1;33m\u001b[0m\u001b[0m\n\u001b[0m",
      "\u001b[1;32m<ipython-input-19-1b7a87bec69d>\u001b[0m in \u001b[0;36mget_products_df_for_year\u001b[1;34m(api, footprint, year, cloudcover, df_list, date_range_list)\u001b[0m\n\u001b[0;32m     52\u001b[0m             \u001b[0mdate_end\u001b[0m \u001b[1;33m=\u001b[0m \u001b[0mdate_range\u001b[0m\u001b[1;33m[\u001b[0m\u001b[1;36m1\u001b[0m\u001b[1;33m]\u001b[0m\u001b[1;33m\u001b[0m\u001b[1;33m\u001b[0m\u001b[0m\n\u001b[0;32m     53\u001b[0m             \u001b[0mprint\u001b[0m\u001b[1;33m(\u001b[0m\u001b[1;34mf'Getting products from {date_start} to {date_end}'\u001b[0m\u001b[1;33m)\u001b[0m\u001b[1;33m\u001b[0m\u001b[1;33m\u001b[0m\u001b[0m\n\u001b[1;32m---> 54\u001b[1;33m             \u001b[0mproducts_df_2\u001b[0m \u001b[1;33m=\u001b[0m \u001b[0mget_products_df\u001b[0m\u001b[1;33m(\u001b[0m\u001b[0mapi\u001b[0m\u001b[1;33m,\u001b[0m \u001b[0mfootprint\u001b[0m\u001b[1;33m,\u001b[0m \u001b[0mdate_start\u001b[0m\u001b[1;33m,\u001b[0m \u001b[0mdate_end\u001b[0m\u001b[1;33m,\u001b[0m \u001b[0mcloudcover\u001b[0m\u001b[1;33m=\u001b[0m\u001b[0mcloudcover\u001b[0m\u001b[1;33m)\u001b[0m\u001b[1;33m\u001b[0m\u001b[1;33m\u001b[0m\u001b[0m\n\u001b[0m\u001b[0;32m     55\u001b[0m             \u001b[0mproducts_df\u001b[0m \u001b[1;33m=\u001b[0m \u001b[0mpd\u001b[0m\u001b[1;33m.\u001b[0m\u001b[0mconcat\u001b[0m\u001b[1;33m(\u001b[0m\u001b[1;33m[\u001b[0m\u001b[0mproducts_df\u001b[0m\u001b[1;33m,\u001b[0m \u001b[0mproducts_df_2\u001b[0m\u001b[1;33m]\u001b[0m\u001b[1;33m)\u001b[0m\u001b[1;33m\u001b[0m\u001b[1;33m\u001b[0m\u001b[0m\n\u001b[0;32m     56\u001b[0m             \u001b[0mproducts_df_3\u001b[0m \u001b[1;33m=\u001b[0m \u001b[0mget_products_df\u001b[0m\u001b[1;33m(\u001b[0m\u001b[0mapi\u001b[0m\u001b[1;33m,\u001b[0m \u001b[0mfootprint\u001b[0m\u001b[1;33m,\u001b[0m \u001b[0mdate_start\u001b[0m\u001b[1;33m,\u001b[0m \u001b[0mdate_end\u001b[0m\u001b[1;33m,\u001b[0m \u001b[0marea\u001b[0m\u001b[1;33m=\u001b[0m\u001b[1;34m'Intersects'\u001b[0m\u001b[1;33m,\u001b[0m \u001b[0mcloudcover\u001b[0m\u001b[1;33m=\u001b[0m\u001b[0mcloudcover\u001b[0m\u001b[1;33m)\u001b[0m\u001b[1;33m\u001b[0m\u001b[1;33m\u001b[0m\u001b[0m\n",
      "\u001b[1;32m<ipython-input-16-1351bff581b2>\u001b[0m in \u001b[0;36mget_products_df\u001b[1;34m(api, footprint, date_start, date_end, area, platform, cloudcover)\u001b[0m\n\u001b[0;32m     10\u001b[0m     \u001b[1;34m\"\"\"Queries for products from the Sentinel API.\"\"\"\u001b[0m\u001b[1;33m\u001b[0m\u001b[1;33m\u001b[0m\u001b[0m\n\u001b[0;32m     11\u001b[0m \u001b[1;33m\u001b[0m\u001b[0m\n\u001b[1;32m---> 12\u001b[1;33m     products = api.query(footprint,\n\u001b[0m\u001b[0;32m     13\u001b[0m                          \u001b[0mdate\u001b[0m\u001b[1;33m=\u001b[0m\u001b[1;33m(\u001b[0m\u001b[0mdate_start\u001b[0m\u001b[1;33m,\u001b[0m \u001b[0mdate_end\u001b[0m\u001b[1;33m)\u001b[0m\u001b[1;33m,\u001b[0m\u001b[1;33m\u001b[0m\u001b[1;33m\u001b[0m\u001b[0m\n\u001b[0;32m     14\u001b[0m                          \u001b[0marea_relation\u001b[0m\u001b[1;33m=\u001b[0m\u001b[0marea\u001b[0m\u001b[1;33m,\u001b[0m\u001b[1;33m\u001b[0m\u001b[1;33m\u001b[0m\u001b[0m\n",
      "\u001b[1;32mC:\\Anaconda3\\envs\\canopy_conda\\lib\\site-packages\\sentinelsat\\sentinel.py\u001b[0m in \u001b[0;36mquery\u001b[1;34m(self, area, date, raw, area_relation, order_by, limit, offset, **keywords)\u001b[0m\n\u001b[0;32m    206\u001b[0m         )\n\u001b[0;32m    207\u001b[0m         \u001b[0mformatted_order_by\u001b[0m \u001b[1;33m=\u001b[0m \u001b[0m_format_order_by\u001b[0m\u001b[1;33m(\u001b[0m\u001b[0morder_by\u001b[0m\u001b[1;33m)\u001b[0m\u001b[1;33m\u001b[0m\u001b[1;33m\u001b[0m\u001b[0m\n\u001b[1;32m--> 208\u001b[1;33m         \u001b[0mresponse\u001b[0m\u001b[1;33m,\u001b[0m \u001b[0mcount\u001b[0m \u001b[1;33m=\u001b[0m \u001b[0mself\u001b[0m\u001b[1;33m.\u001b[0m\u001b[0m_load_query\u001b[0m\u001b[1;33m(\u001b[0m\u001b[0mquery\u001b[0m\u001b[1;33m,\u001b[0m \u001b[0mformatted_order_by\u001b[0m\u001b[1;33m,\u001b[0m \u001b[0mlimit\u001b[0m\u001b[1;33m,\u001b[0m \u001b[0moffset\u001b[0m\u001b[1;33m)\u001b[0m\u001b[1;33m\u001b[0m\u001b[1;33m\u001b[0m\u001b[0m\n\u001b[0m\u001b[0;32m    209\u001b[0m         \u001b[0mself\u001b[0m\u001b[1;33m.\u001b[0m\u001b[0mlogger\u001b[0m\u001b[1;33m.\u001b[0m\u001b[0minfo\u001b[0m\u001b[1;33m(\u001b[0m\u001b[1;34m\"Found %s products\"\u001b[0m\u001b[1;33m,\u001b[0m \u001b[0mcount\u001b[0m\u001b[1;33m)\u001b[0m\u001b[1;33m\u001b[0m\u001b[1;33m\u001b[0m\u001b[0m\n\u001b[0;32m    210\u001b[0m         \u001b[1;32mreturn\u001b[0m \u001b[0m_parse_opensearch_response\u001b[0m\u001b[1;33m(\u001b[0m\u001b[0mresponse\u001b[0m\u001b[1;33m)\u001b[0m\u001b[1;33m\u001b[0m\u001b[1;33m\u001b[0m\u001b[0m\n",
      "\u001b[1;32mC:\\Anaconda3\\envs\\canopy_conda\\lib\\site-packages\\sentinelsat\\sentinel.py\u001b[0m in \u001b[0;36m_load_query\u001b[1;34m(self, query, order_by, limit, offset)\u001b[0m\n\u001b[0;32m    347\u001b[0m \u001b[1;33m\u001b[0m\u001b[0m\n\u001b[0;32m    348\u001b[0m     \u001b[1;32mdef\u001b[0m \u001b[0m_load_query\u001b[0m\u001b[1;33m(\u001b[0m\u001b[0mself\u001b[0m\u001b[1;33m,\u001b[0m \u001b[0mquery\u001b[0m\u001b[1;33m,\u001b[0m \u001b[0morder_by\u001b[0m\u001b[1;33m=\u001b[0m\u001b[1;32mNone\u001b[0m\u001b[1;33m,\u001b[0m \u001b[0mlimit\u001b[0m\u001b[1;33m=\u001b[0m\u001b[1;32mNone\u001b[0m\u001b[1;33m,\u001b[0m \u001b[0moffset\u001b[0m\u001b[1;33m=\u001b[0m\u001b[1;36m0\u001b[0m\u001b[1;33m)\u001b[0m\u001b[1;33m:\u001b[0m\u001b[1;33m\u001b[0m\u001b[1;33m\u001b[0m\u001b[0m\n\u001b[1;32m--> 349\u001b[1;33m         \u001b[0mproducts\u001b[0m\u001b[1;33m,\u001b[0m \u001b[0mcount\u001b[0m \u001b[1;33m=\u001b[0m \u001b[0mself\u001b[0m\u001b[1;33m.\u001b[0m\u001b[0m_load_subquery\u001b[0m\u001b[1;33m(\u001b[0m\u001b[0mquery\u001b[0m\u001b[1;33m,\u001b[0m \u001b[0morder_by\u001b[0m\u001b[1;33m,\u001b[0m \u001b[0mlimit\u001b[0m\u001b[1;33m,\u001b[0m \u001b[0moffset\u001b[0m\u001b[1;33m)\u001b[0m\u001b[1;33m\u001b[0m\u001b[1;33m\u001b[0m\u001b[0m\n\u001b[0m\u001b[0;32m    350\u001b[0m \u001b[1;33m\u001b[0m\u001b[0m\n\u001b[0;32m    351\u001b[0m         \u001b[1;31m# repeat query until all results have been loaded\u001b[0m\u001b[1;33m\u001b[0m\u001b[1;33m\u001b[0m\u001b[1;33m\u001b[0m\u001b[0m\n",
      "\u001b[1;32mC:\\Anaconda3\\envs\\canopy_conda\\lib\\site-packages\\sentinelsat\\sentinel.py\u001b[0m in \u001b[0;36m_load_subquery\u001b[1;34m(self, query, order_by, limit, offset)\u001b[0m\n\u001b[0;32m    385\u001b[0m             \u001b[0mtimeout\u001b[0m\u001b[1;33m=\u001b[0m\u001b[0mself\u001b[0m\u001b[1;33m.\u001b[0m\u001b[0mtimeout\u001b[0m\u001b[1;33m,\u001b[0m\u001b[1;33m\u001b[0m\u001b[1;33m\u001b[0m\u001b[0m\n\u001b[0;32m    386\u001b[0m         )\n\u001b[1;32m--> 387\u001b[1;33m         \u001b[0m_check_scihub_response\u001b[0m\u001b[1;33m(\u001b[0m\u001b[0mresponse\u001b[0m\u001b[1;33m)\u001b[0m\u001b[1;33m\u001b[0m\u001b[1;33m\u001b[0m\u001b[0m\n\u001b[0m\u001b[0;32m    388\u001b[0m \u001b[1;33m\u001b[0m\u001b[0m\n\u001b[0;32m    389\u001b[0m         \u001b[1;31m# store last status code (for testing)\u001b[0m\u001b[1;33m\u001b[0m\u001b[1;33m\u001b[0m\u001b[1;33m\u001b[0m\u001b[0m\n",
      "\u001b[1;32mC:\\Anaconda3\\envs\\canopy_conda\\lib\\site-packages\\sentinelsat\\sentinel.py\u001b[0m in \u001b[0;36m_check_scihub_response\u001b[1;34m(response, test_json)\u001b[0m\n\u001b[0;32m   1318\u001b[0m         \u001b[1;31m# See PEP 409\u001b[0m\u001b[1;33m\u001b[0m\u001b[1;33m\u001b[0m\u001b[1;33m\u001b[0m\u001b[0m\n\u001b[0;32m   1319\u001b[0m         \u001b[0mapi_error\u001b[0m\u001b[1;33m.\u001b[0m\u001b[0m__cause__\u001b[0m \u001b[1;33m=\u001b[0m \u001b[1;32mNone\u001b[0m\u001b[1;33m\u001b[0m\u001b[1;33m\u001b[0m\u001b[0m\n\u001b[1;32m-> 1320\u001b[1;33m         \u001b[1;32mraise\u001b[0m \u001b[0mapi_error\u001b[0m\u001b[1;33m\u001b[0m\u001b[1;33m\u001b[0m\u001b[0m\n\u001b[0m\u001b[0;32m   1321\u001b[0m \u001b[1;33m\u001b[0m\u001b[0m\n\u001b[0;32m   1322\u001b[0m \u001b[1;33m\u001b[0m\u001b[0m\n",
      "\u001b[1;31mSentinelAPIError\u001b[0m: HTTP status 500 Internal Server Error: SolrServerException : Timeout occured while waiting response from server at: http://172.30.175.89:8983/solr/dhus"
     ]
    }
   ],
   "source": [
    "df = get_products_df_for_year(api, footprint, 2019, (0, 100), df_list, date_range_list)"
   ]
  },
  {
   "cell_type": "code",
   "execution_count": 34,
   "metadata": {},
   "outputs": [
    {
     "name": "stdout",
     "output_type": "stream",
     "text": [
      "Getting products from 2019-10-08 to 2019-10-14\n"
     ]
    },
    {
     "name": "stderr",
     "output_type": "stream",
     "text": [
      "Querying products: 100%|██████████████████████████████████████████████████████| 720/720 [01:02<00:00, 11.51 products/s]\n",
      "Querying products: 100%|████████████████████████████████████████████████████| 1094/1094 [00:55<00:00, 19.65 products/s]\n"
     ]
    },
    {
     "name": "stdout",
     "output_type": "stream",
     "text": [
      "Products so far: 61610\n",
      "Getting products from 2019-10-15 to 2019-10-21\n"
     ]
    },
    {
     "name": "stderr",
     "output_type": "stream",
     "text": [
      "Querying products: 100%|██████████████████████████████████████████████████████| 622/622 [00:52<00:00, 11.81 products/s]\n",
      "Querying products: 100%|██████████████████████████████████████████████████████| 940/940 [00:49<00:00, 19.13 products/s]\n"
     ]
    },
    {
     "name": "stdout",
     "output_type": "stream",
     "text": [
      "Products so far: 62854\n",
      "Getting products from 2019-10-22 to 2019-10-31\n"
     ]
    },
    {
     "name": "stderr",
     "output_type": "stream",
     "text": [
      "Querying products: 100%|████████████████████████████████████████████████████| 1039/1039 [01:28<00:00, 11.74 products/s]\n",
      "Querying products: 100%|████████████████████████████████████████████████████| 1582/1582 [01:27<00:00, 18.04 products/s]\n"
     ]
    },
    {
     "name": "stdout",
     "output_type": "stream",
     "text": [
      "Products so far: 64932\n",
      "Getting products from 2019-11-01 to 2019-11-07\n"
     ]
    },
    {
     "name": "stderr",
     "output_type": "stream",
     "text": [
      "Querying products: 100%|██████████████████████████████████████████████████████| 708/708 [00:41<00:00, 17.18 products/s]\n",
      "Querying products: 100%|████████████████████████████████████████████████████| 1078/1078 [00:37<00:00, 28.58 products/s]\n"
     ]
    },
    {
     "name": "stdout",
     "output_type": "stream",
     "text": [
      "Products so far: 66348\n",
      "Getting products from 2019-11-08 to 2019-11-14\n"
     ]
    },
    {
     "name": "stderr",
     "output_type": "stream",
     "text": [
      "Querying products: 100%|██████████████████████████████████████████████████████| 776/776 [01:05<00:00, 11.90 products/s]\n",
      "Querying products: 100%|████████████████████████████████████████████████████| 1170/1170 [01:05<00:00, 17.82 products/s]\n"
     ]
    },
    {
     "name": "stdout",
     "output_type": "stream",
     "text": [
      "Products so far: 67900\n",
      "Getting products from 2019-11-15 to 2019-11-21\n"
     ]
    },
    {
     "name": "stderr",
     "output_type": "stream",
     "text": [
      "Querying products: 100%|██████████████████████████████████████████████████████| 790/790 [00:45<00:00, 17.25 products/s]\n",
      "Querying products: 100%|████████████████████████████████████████████████████| 1192/1192 [00:47<00:00, 25.22 products/s]\n"
     ]
    },
    {
     "name": "stdout",
     "output_type": "stream",
     "text": [
      "Products so far: 69480\n",
      "Getting products from 2019-11-22 to 2019-11-30\n"
     ]
    },
    {
     "name": "stderr",
     "output_type": "stream",
     "text": [
      "Querying products: 100%|██████████████████████████████████████████████████████| 774/774 [00:41<00:00, 18.81 products/s]\n",
      "Querying products: 100%|████████████████████████████████████████████████████| 1170/1170 [00:46<00:00, 25.32 products/s]\n"
     ]
    },
    {
     "name": "stdout",
     "output_type": "stream",
     "text": [
      "Products so far: 71028\n",
      "Getting products from 2019-12-01 to 2019-12-07\n"
     ]
    },
    {
     "name": "stderr",
     "output_type": "stream",
     "text": [
      "Querying products: 100%|██████████████████████████████████████████████████████| 720/720 [00:44<00:00, 16.12 products/s]\n",
      "Querying products: 100%|████████████████████████████████████████████████████| 1090/1090 [00:43<00:00, 24.91 products/s]\n"
     ]
    },
    {
     "name": "stdout",
     "output_type": "stream",
     "text": [
      "Products so far: 72468\n",
      "Getting products from 2019-12-08 to 2019-12-14\n"
     ]
    },
    {
     "name": "stderr",
     "output_type": "stream",
     "text": [
      "Querying products: 100%|██████████████████████████████████████████████████████| 752/752 [00:38<00:00, 19.55 products/s]\n",
      "Querying products: 100%|████████████████████████████████████████████████████| 1134/1134 [00:38<00:00, 29.77 products/s]\n"
     ]
    },
    {
     "name": "stdout",
     "output_type": "stream",
     "text": [
      "Products so far: 73972\n",
      "Getting products from 2019-12-15 to 2019-12-21\n"
     ]
    },
    {
     "name": "stderr",
     "output_type": "stream",
     "text": [
      "Querying products: 100%|██████████████████████████████████████████████████████| 802/802 [01:00<00:00, 13.23 products/s]\n",
      "Querying products: 100%|████████████████████████████████████████████████████| 1198/1198 [00:59<00:00, 20.04 products/s]\n"
     ]
    },
    {
     "name": "stdout",
     "output_type": "stream",
     "text": [
      "Products so far: 75576\n",
      "Getting products from 2019-12-22 to 2019-12-31\n"
     ]
    },
    {
     "name": "stderr",
     "output_type": "stream",
     "text": [
      "Querying products: 100%|████████████████████████████████████████████████████| 1136/1136 [02:20<00:00,  8.06 products/s]\n",
      "Querying products: 100%|████████████████████████████████████████████████████| 1722/1722 [02:07<00:00, 13.53 products/s]\n"
     ]
    },
    {
     "name": "stdout",
     "output_type": "stream",
     "text": [
      "Products so far: 77848\n"
     ]
    }
   ],
   "source": [
    "df = get_products_df_for_year(api, footprint, 2019, (0, 100), df_list, date_range_list)"
   ]
  },
  {
   "cell_type": "code",
   "execution_count": 35,
   "metadata": {},
   "outputs": [
    {
     "name": "stdout",
     "output_type": "stream",
     "text": [
      "(77848, 42)\n"
     ]
    },
    {
     "data": {
      "text/html": [
       "<div>\n",
       "<style scoped>\n",
       "    .dataframe tbody tr th:only-of-type {\n",
       "        vertical-align: middle;\n",
       "    }\n",
       "\n",
       "    .dataframe tbody tr th {\n",
       "        vertical-align: top;\n",
       "    }\n",
       "\n",
       "    .dataframe thead th {\n",
       "        text-align: right;\n",
       "    }\n",
       "</style>\n",
       "<table border=\"1\" class=\"dataframe\">\n",
       "  <thead>\n",
       "    <tr style=\"text-align: right;\">\n",
       "      <th></th>\n",
       "      <th>title</th>\n",
       "      <th>link</th>\n",
       "      <th>link_alternative</th>\n",
       "      <th>link_icon</th>\n",
       "      <th>summary</th>\n",
       "      <th>ingestiondate</th>\n",
       "      <th>beginposition</th>\n",
       "      <th>endposition</th>\n",
       "      <th>orbitnumber</th>\n",
       "      <th>relativeorbitnumber</th>\n",
       "      <th>...</th>\n",
       "      <th>platformname</th>\n",
       "      <th>size</th>\n",
       "      <th>uuid</th>\n",
       "      <th>datatakesensingstart</th>\n",
       "      <th>sensoroperationalmode</th>\n",
       "      <th>tileid</th>\n",
       "      <th>hv_order_tileid</th>\n",
       "      <th>level1cpdiidentifier</th>\n",
       "      <th>granuleidentifier</th>\n",
       "      <th>datastripidentifier</th>\n",
       "    </tr>\n",
       "  </thead>\n",
       "  <tbody>\n",
       "    <tr>\n",
       "      <th>853d2f1f-47af-417e-a2a2-f66eba8ec41e</th>\n",
       "      <td>S2B_MSIL2A_20190106T082329_N0211_R121_T35MNV_2...</td>\n",
       "      <td>https://scihub.copernicus.eu/apihub/odata/v1/P...</td>\n",
       "      <td>https://scihub.copernicus.eu/apihub/odata/v1/P...</td>\n",
       "      <td>https://scihub.copernicus.eu/apihub/odata/v1/P...</td>\n",
       "      <td>Date: 2019-01-06T08:23:29.024Z, Instrument: MS...</td>\n",
       "      <td>2019-01-06 19:28:07.027</td>\n",
       "      <td>2019-01-06 08:23:29.024</td>\n",
       "      <td>2019-01-06 08:23:29.024</td>\n",
       "      <td>9585</td>\n",
       "      <td>121</td>\n",
       "      <td>...</td>\n",
       "      <td>Sentinel-2</td>\n",
       "      <td>1.08 GB</td>\n",
       "      <td>853d2f1f-47af-417e-a2a2-f66eba8ec41e</td>\n",
       "      <td>NaT</td>\n",
       "      <td>NaN</td>\n",
       "      <td>NaN</td>\n",
       "      <td>NaN</td>\n",
       "      <td>NaN</td>\n",
       "      <td>NaN</td>\n",
       "      <td>NaN</td>\n",
       "    </tr>\n",
       "    <tr>\n",
       "      <th>358bb51a-0762-484c-b8f7-7f61805bc5fa</th>\n",
       "      <td>S2B_MSIL2A_20190106T082329_N0211_R121_T35MNS_2...</td>\n",
       "      <td>https://scihub.copernicus.eu/apihub/odata/v1/P...</td>\n",
       "      <td>https://scihub.copernicus.eu/apihub/odata/v1/P...</td>\n",
       "      <td>https://scihub.copernicus.eu/apihub/odata/v1/P...</td>\n",
       "      <td>Date: 2019-01-06T08:23:29.024Z, Instrument: MS...</td>\n",
       "      <td>2019-01-06 19:28:05.966</td>\n",
       "      <td>2019-01-06 08:23:29.024</td>\n",
       "      <td>2019-01-06 08:23:29.024</td>\n",
       "      <td>9585</td>\n",
       "      <td>121</td>\n",
       "      <td>...</td>\n",
       "      <td>Sentinel-2</td>\n",
       "      <td>1.07 GB</td>\n",
       "      <td>358bb51a-0762-484c-b8f7-7f61805bc5fa</td>\n",
       "      <td>NaT</td>\n",
       "      <td>NaN</td>\n",
       "      <td>NaN</td>\n",
       "      <td>NaN</td>\n",
       "      <td>NaN</td>\n",
       "      <td>NaN</td>\n",
       "      <td>NaN</td>\n",
       "    </tr>\n",
       "    <tr>\n",
       "      <th>7142390e-f3bd-4122-b817-adcfbc72a625</th>\n",
       "      <td>S2B_MSIL2A_20190106T082329_N0211_R121_T35MMV_2...</td>\n",
       "      <td>https://scihub.copernicus.eu/apihub/odata/v1/P...</td>\n",
       "      <td>https://scihub.copernicus.eu/apihub/odata/v1/P...</td>\n",
       "      <td>https://scihub.copernicus.eu/apihub/odata/v1/P...</td>\n",
       "      <td>Date: 2019-01-06T08:23:29.024Z, Instrument: MS...</td>\n",
       "      <td>2019-01-06 19:27:05.039</td>\n",
       "      <td>2019-01-06 08:23:29.024</td>\n",
       "      <td>2019-01-06 08:23:29.024</td>\n",
       "      <td>9585</td>\n",
       "      <td>121</td>\n",
       "      <td>...</td>\n",
       "      <td>Sentinel-2</td>\n",
       "      <td>1011.61 MB</td>\n",
       "      <td>7142390e-f3bd-4122-b817-adcfbc72a625</td>\n",
       "      <td>NaT</td>\n",
       "      <td>NaN</td>\n",
       "      <td>NaN</td>\n",
       "      <td>NaN</td>\n",
       "      <td>NaN</td>\n",
       "      <td>NaN</td>\n",
       "      <td>NaN</td>\n",
       "    </tr>\n",
       "    <tr>\n",
       "      <th>823834ef-2c5e-434a-b624-a78f5073af4e</th>\n",
       "      <td>S2B_MSIL2A_20190106T082329_N0211_R121_T35NNB_2...</td>\n",
       "      <td>https://scihub.copernicus.eu/apihub/odata/v1/P...</td>\n",
       "      <td>https://scihub.copernicus.eu/apihub/odata/v1/P...</td>\n",
       "      <td>https://scihub.copernicus.eu/apihub/odata/v1/P...</td>\n",
       "      <td>Date: 2019-01-06T08:23:29.024Z, Instrument: MS...</td>\n",
       "      <td>2019-01-06 19:26:58.254</td>\n",
       "      <td>2019-01-06 08:23:29.024</td>\n",
       "      <td>2019-01-06 08:23:29.024</td>\n",
       "      <td>9585</td>\n",
       "      <td>121</td>\n",
       "      <td>...</td>\n",
       "      <td>Sentinel-2</td>\n",
       "      <td>1.06 GB</td>\n",
       "      <td>823834ef-2c5e-434a-b624-a78f5073af4e</td>\n",
       "      <td>NaT</td>\n",
       "      <td>NaN</td>\n",
       "      <td>NaN</td>\n",
       "      <td>NaN</td>\n",
       "      <td>NaN</td>\n",
       "      <td>NaN</td>\n",
       "      <td>NaN</td>\n",
       "    </tr>\n",
       "    <tr>\n",
       "      <th>04de2b67-02a7-4c0c-858c-900bd46e2377</th>\n",
       "      <td>S2B_MSIL2A_20190106T082329_N0211_R121_T35MMU_2...</td>\n",
       "      <td>https://scihub.copernicus.eu/apihub/odata/v1/P...</td>\n",
       "      <td>https://scihub.copernicus.eu/apihub/odata/v1/P...</td>\n",
       "      <td>https://scihub.copernicus.eu/apihub/odata/v1/P...</td>\n",
       "      <td>Date: 2019-01-06T08:23:29.024Z, Instrument: MS...</td>\n",
       "      <td>2019-01-06 19:26:31.763</td>\n",
       "      <td>2019-01-06 08:23:29.024</td>\n",
       "      <td>2019-01-06 08:23:29.024</td>\n",
       "      <td>9585</td>\n",
       "      <td>121</td>\n",
       "      <td>...</td>\n",
       "      <td>Sentinel-2</td>\n",
       "      <td>1.09 GB</td>\n",
       "      <td>04de2b67-02a7-4c0c-858c-900bd46e2377</td>\n",
       "      <td>NaT</td>\n",
       "      <td>NaN</td>\n",
       "      <td>NaN</td>\n",
       "      <td>NaN</td>\n",
       "      <td>NaN</td>\n",
       "      <td>NaN</td>\n",
       "      <td>NaN</td>\n",
       "    </tr>\n",
       "  </tbody>\n",
       "</table>\n",
       "<p>5 rows × 42 columns</p>\n",
       "</div>"
      ],
      "text/plain": [
       "                                                                                  title  \\\n",
       "853d2f1f-47af-417e-a2a2-f66eba8ec41e  S2B_MSIL2A_20190106T082329_N0211_R121_T35MNV_2...   \n",
       "358bb51a-0762-484c-b8f7-7f61805bc5fa  S2B_MSIL2A_20190106T082329_N0211_R121_T35MNS_2...   \n",
       "7142390e-f3bd-4122-b817-adcfbc72a625  S2B_MSIL2A_20190106T082329_N0211_R121_T35MMV_2...   \n",
       "823834ef-2c5e-434a-b624-a78f5073af4e  S2B_MSIL2A_20190106T082329_N0211_R121_T35NNB_2...   \n",
       "04de2b67-02a7-4c0c-858c-900bd46e2377  S2B_MSIL2A_20190106T082329_N0211_R121_T35MMU_2...   \n",
       "\n",
       "                                                                                   link  \\\n",
       "853d2f1f-47af-417e-a2a2-f66eba8ec41e  https://scihub.copernicus.eu/apihub/odata/v1/P...   \n",
       "358bb51a-0762-484c-b8f7-7f61805bc5fa  https://scihub.copernicus.eu/apihub/odata/v1/P...   \n",
       "7142390e-f3bd-4122-b817-adcfbc72a625  https://scihub.copernicus.eu/apihub/odata/v1/P...   \n",
       "823834ef-2c5e-434a-b624-a78f5073af4e  https://scihub.copernicus.eu/apihub/odata/v1/P...   \n",
       "04de2b67-02a7-4c0c-858c-900bd46e2377  https://scihub.copernicus.eu/apihub/odata/v1/P...   \n",
       "\n",
       "                                                                       link_alternative  \\\n",
       "853d2f1f-47af-417e-a2a2-f66eba8ec41e  https://scihub.copernicus.eu/apihub/odata/v1/P...   \n",
       "358bb51a-0762-484c-b8f7-7f61805bc5fa  https://scihub.copernicus.eu/apihub/odata/v1/P...   \n",
       "7142390e-f3bd-4122-b817-adcfbc72a625  https://scihub.copernicus.eu/apihub/odata/v1/P...   \n",
       "823834ef-2c5e-434a-b624-a78f5073af4e  https://scihub.copernicus.eu/apihub/odata/v1/P...   \n",
       "04de2b67-02a7-4c0c-858c-900bd46e2377  https://scihub.copernicus.eu/apihub/odata/v1/P...   \n",
       "\n",
       "                                                                              link_icon  \\\n",
       "853d2f1f-47af-417e-a2a2-f66eba8ec41e  https://scihub.copernicus.eu/apihub/odata/v1/P...   \n",
       "358bb51a-0762-484c-b8f7-7f61805bc5fa  https://scihub.copernicus.eu/apihub/odata/v1/P...   \n",
       "7142390e-f3bd-4122-b817-adcfbc72a625  https://scihub.copernicus.eu/apihub/odata/v1/P...   \n",
       "823834ef-2c5e-434a-b624-a78f5073af4e  https://scihub.copernicus.eu/apihub/odata/v1/P...   \n",
       "04de2b67-02a7-4c0c-858c-900bd46e2377  https://scihub.copernicus.eu/apihub/odata/v1/P...   \n",
       "\n",
       "                                                                                summary  \\\n",
       "853d2f1f-47af-417e-a2a2-f66eba8ec41e  Date: 2019-01-06T08:23:29.024Z, Instrument: MS...   \n",
       "358bb51a-0762-484c-b8f7-7f61805bc5fa  Date: 2019-01-06T08:23:29.024Z, Instrument: MS...   \n",
       "7142390e-f3bd-4122-b817-adcfbc72a625  Date: 2019-01-06T08:23:29.024Z, Instrument: MS...   \n",
       "823834ef-2c5e-434a-b624-a78f5073af4e  Date: 2019-01-06T08:23:29.024Z, Instrument: MS...   \n",
       "04de2b67-02a7-4c0c-858c-900bd46e2377  Date: 2019-01-06T08:23:29.024Z, Instrument: MS...   \n",
       "\n",
       "                                               ingestiondate  \\\n",
       "853d2f1f-47af-417e-a2a2-f66eba8ec41e 2019-01-06 19:28:07.027   \n",
       "358bb51a-0762-484c-b8f7-7f61805bc5fa 2019-01-06 19:28:05.966   \n",
       "7142390e-f3bd-4122-b817-adcfbc72a625 2019-01-06 19:27:05.039   \n",
       "823834ef-2c5e-434a-b624-a78f5073af4e 2019-01-06 19:26:58.254   \n",
       "04de2b67-02a7-4c0c-858c-900bd46e2377 2019-01-06 19:26:31.763   \n",
       "\n",
       "                                               beginposition  \\\n",
       "853d2f1f-47af-417e-a2a2-f66eba8ec41e 2019-01-06 08:23:29.024   \n",
       "358bb51a-0762-484c-b8f7-7f61805bc5fa 2019-01-06 08:23:29.024   \n",
       "7142390e-f3bd-4122-b817-adcfbc72a625 2019-01-06 08:23:29.024   \n",
       "823834ef-2c5e-434a-b624-a78f5073af4e 2019-01-06 08:23:29.024   \n",
       "04de2b67-02a7-4c0c-858c-900bd46e2377 2019-01-06 08:23:29.024   \n",
       "\n",
       "                                                 endposition  orbitnumber  \\\n",
       "853d2f1f-47af-417e-a2a2-f66eba8ec41e 2019-01-06 08:23:29.024         9585   \n",
       "358bb51a-0762-484c-b8f7-7f61805bc5fa 2019-01-06 08:23:29.024         9585   \n",
       "7142390e-f3bd-4122-b817-adcfbc72a625 2019-01-06 08:23:29.024         9585   \n",
       "823834ef-2c5e-434a-b624-a78f5073af4e 2019-01-06 08:23:29.024         9585   \n",
       "04de2b67-02a7-4c0c-858c-900bd46e2377 2019-01-06 08:23:29.024         9585   \n",
       "\n",
       "                                      relativeorbitnumber  ...  platformname  \\\n",
       "853d2f1f-47af-417e-a2a2-f66eba8ec41e                  121  ...    Sentinel-2   \n",
       "358bb51a-0762-484c-b8f7-7f61805bc5fa                  121  ...    Sentinel-2   \n",
       "7142390e-f3bd-4122-b817-adcfbc72a625                  121  ...    Sentinel-2   \n",
       "823834ef-2c5e-434a-b624-a78f5073af4e                  121  ...    Sentinel-2   \n",
       "04de2b67-02a7-4c0c-858c-900bd46e2377                  121  ...    Sentinel-2   \n",
       "\n",
       "                                            size  \\\n",
       "853d2f1f-47af-417e-a2a2-f66eba8ec41e     1.08 GB   \n",
       "358bb51a-0762-484c-b8f7-7f61805bc5fa     1.07 GB   \n",
       "7142390e-f3bd-4122-b817-adcfbc72a625  1011.61 MB   \n",
       "823834ef-2c5e-434a-b624-a78f5073af4e     1.06 GB   \n",
       "04de2b67-02a7-4c0c-858c-900bd46e2377     1.09 GB   \n",
       "\n",
       "                                                                      uuid  \\\n",
       "853d2f1f-47af-417e-a2a2-f66eba8ec41e  853d2f1f-47af-417e-a2a2-f66eba8ec41e   \n",
       "358bb51a-0762-484c-b8f7-7f61805bc5fa  358bb51a-0762-484c-b8f7-7f61805bc5fa   \n",
       "7142390e-f3bd-4122-b817-adcfbc72a625  7142390e-f3bd-4122-b817-adcfbc72a625   \n",
       "823834ef-2c5e-434a-b624-a78f5073af4e  823834ef-2c5e-434a-b624-a78f5073af4e   \n",
       "04de2b67-02a7-4c0c-858c-900bd46e2377  04de2b67-02a7-4c0c-858c-900bd46e2377   \n",
       "\n",
       "                                      datatakesensingstart  \\\n",
       "853d2f1f-47af-417e-a2a2-f66eba8ec41e                   NaT   \n",
       "358bb51a-0762-484c-b8f7-7f61805bc5fa                   NaT   \n",
       "7142390e-f3bd-4122-b817-adcfbc72a625                   NaT   \n",
       "823834ef-2c5e-434a-b624-a78f5073af4e                   NaT   \n",
       "04de2b67-02a7-4c0c-858c-900bd46e2377                   NaT   \n",
       "\n",
       "                                      sensoroperationalmode  tileid  \\\n",
       "853d2f1f-47af-417e-a2a2-f66eba8ec41e                    NaN     NaN   \n",
       "358bb51a-0762-484c-b8f7-7f61805bc5fa                    NaN     NaN   \n",
       "7142390e-f3bd-4122-b817-adcfbc72a625                    NaN     NaN   \n",
       "823834ef-2c5e-434a-b624-a78f5073af4e                    NaN     NaN   \n",
       "04de2b67-02a7-4c0c-858c-900bd46e2377                    NaN     NaN   \n",
       "\n",
       "                                      hv_order_tileid  level1cpdiidentifier  \\\n",
       "853d2f1f-47af-417e-a2a2-f66eba8ec41e              NaN                   NaN   \n",
       "358bb51a-0762-484c-b8f7-7f61805bc5fa              NaN                   NaN   \n",
       "7142390e-f3bd-4122-b817-adcfbc72a625              NaN                   NaN   \n",
       "823834ef-2c5e-434a-b624-a78f5073af4e              NaN                   NaN   \n",
       "04de2b67-02a7-4c0c-858c-900bd46e2377              NaN                   NaN   \n",
       "\n",
       "                                     granuleidentifier datastripidentifier  \n",
       "853d2f1f-47af-417e-a2a2-f66eba8ec41e               NaN                 NaN  \n",
       "358bb51a-0762-484c-b8f7-7f61805bc5fa               NaN                 NaN  \n",
       "7142390e-f3bd-4122-b817-adcfbc72a625               NaN                 NaN  \n",
       "823834ef-2c5e-434a-b624-a78f5073af4e               NaN                 NaN  \n",
       "04de2b67-02a7-4c0c-858c-900bd46e2377               NaN                 NaN  \n",
       "\n",
       "[5 rows x 42 columns]"
      ]
     },
     "execution_count": 35,
     "metadata": {},
     "output_type": "execute_result"
    }
   ],
   "source": [
    "print(df.shape)\n",
    "\n",
    "df.head()"
   ]
  },
  {
   "cell_type": "code",
   "execution_count": 36,
   "metadata": {},
   "outputs": [
    {
     "data": {
      "text/plain": [
       "235"
      ]
     },
     "execution_count": 36,
     "metadata": {},
     "output_type": "execute_result"
    }
   ],
   "source": [
    "len(df['tileid'].unique())"
   ]
  },
  {
   "cell_type": "code",
   "execution_count": 37,
   "metadata": {},
   "outputs": [],
   "source": [
    "with open('tile_ids.txt', 'w') as f:\n",
    "    for tile_id in df['tileid'].unique().tolist():\n",
    "        f.write(f'{tile_id}\\n')"
   ]
  },
  {
   "cell_type": "code",
   "execution_count": 38,
   "metadata": {},
   "outputs": [
    {
     "data": {
      "text/plain": [
       "array([nan, '33NXD', '33MXU', '33NUA', '33NWE', '33MUV', '33NXA', '33NVC',\n",
       "       '33NWA', '33NYE', '33NWD', '33NYD', '33NXE', '33MTU', '33NXB',\n",
       "       '32MRV', '33NUB', '33MTS', '33NXC', '33NVE', '33NVA', '33NUC',\n",
       "       '33NVB', '33MTT', '35NQC', '35NPB', '35NPA', '35NQB', '35NNC',\n",
       "       '35NPC', '35NNB', '35NND', '35NNA', '35NQA', '35MMR', '35MNV',\n",
       "       '35MMV', '35NMC', '35MNT', '35MNS', '35MNU', '35MMT', '35NMA',\n",
       "       '35MPV', '33NVD', '35MMS', '35MMU', '35NMB', '35MPU', '35MPT',\n",
       "       '35NMD', '35MPS', '35NLA', '35MPR', '35MQV', '35MLU', '35MLV',\n",
       "       '35MLS', '35MLT', '33MXV', '33NWB', '33NWC', '33MWV', '33NYC',\n",
       "       '34MCD', '34NFJ', '34NCG', '34NCH', '34NDJ', '34MBC', '34MBD',\n",
       "       '34MCE', '34NFK', '34MDD', '34NEG', '34NDH', '34NBF', '34MED',\n",
       "       '34NEJ', '34NBH', '34NCJ', '34NDF', '34MDC', '34NDG', '34NBJ',\n",
       "       '34NEH', '34NCF', '34MDE', '34MEE', '34MBE', '33MZT', '33MZV',\n",
       "       '34NEF', '34MCC', '33NZA', '33MZU', '34NBG', '34MDA', '34MCA',\n",
       "       '34MDB', '34MCB', '34MBB', '34MDV', '32NPM', '32NNM', '32NNL',\n",
       "       '32MRE', '32NQF', '33NUD', '32NRG', '32NRL', '33NTE', '33MUU',\n",
       "       '32NRJ', '32NRH', '32MPC', '32MRC', '33MUT', '33NTF', '32MQB',\n",
       "       '33NUE', '33NTC', '32MQE', '33NUF', '32NQJ', '32NQG', '32MRD',\n",
       "       '33NTA', '32MQC', '32MRB', '32MPE', '32MQD', '33NTD', '32NQH',\n",
       "       '32NRK', '32MPB', '32NRF', '32MPD', '33MTV', '33NTB', '33MTQ',\n",
       "       '34MHC', '35NKA', '34MGU', '34NGF', '34MFA', '34MGE', '35NKC',\n",
       "       '35NLB', '35NLC', '35MKU', '35MKT', '35NKB', '35MKV', '35NKD',\n",
       "       '35NLE', '35NLD', '35NKE', '34NHG', '34NHH', '34NHF', '34MHD',\n",
       "       '34MHE', '34MHA', '34MGV', '34MHB', '34MGB', '34MGA', '34MGC',\n",
       "       '34MGD', '34NHJ', '34MFU', '34MFV', '34NHK', '34MFB', '34NHL',\n",
       "       '33MYV', '33MYU', '33NZD', '33NZC', '33NYB', '33NZB', '33NYA',\n",
       "       '34MEA', '34NGG', '34MFE', '34MFD', '34NGL', '34NFF', '34MEU',\n",
       "       '34NGJ', '34NGH', '34NEK', '34MFC', '34MEC', '34MEB', '34NGK',\n",
       "       '34NFH', '34NFG', '34MEV', '32NPG', '32NQL', '32NPH', '32NQK',\n",
       "       '32NPF', '32NPL', '32NPJ', '32NPK', '32NMM', '32NML', '32NLL',\n",
       "       '32NNK', '32NMK', '34MHV', '33NTG', '35NKF', '34NFL', '35MNR',\n",
       "       '34MGT', '33NVF', '34MBA', '35MKS', '34MCV', '33MVV', '32NQM',\n",
       "       '32NRM', '32NNG', '33MXT', '33MYT', '32NNH', '33MZS', '33NZE',\n",
       "       '32MNE', '34MET', '34MDT'], dtype=object)"
      ]
     },
     "execution_count": 38,
     "metadata": {},
     "output_type": "execute_result"
    }
   ],
   "source": [
    "df['tileid'].unique()"
   ]
  },
  {
   "cell_type": "code",
   "execution_count": 5,
   "metadata": {},
   "outputs": [],
   "source": [
    "# Now do it for the islands\n",
    "\n",
    "api = get_api()\n",
    "\n",
    "footprint2 = geojson_to_wkt(read_geojson('./data/Geometry/congo_basin_boundary/Congo_Basin_Boundary_islands_v4.geojson'))"
   ]
  },
  {
   "cell_type": "code",
   "execution_count": 13,
   "metadata": {},
   "outputs": [
    {
     "name": "stdout",
     "output_type": "stream",
     "text": [
      "Getting products from 2019-01-01 to 2019-01-07\n",
      "Products so far: 0\n",
      "Getting products from 2019-01-08 to 2019-01-14\n",
      "Products so far: 0\n",
      "Getting products from 2019-01-15 to 2019-01-21\n",
      "Products so far: 0\n",
      "Getting products from 2019-01-22 to 2019-01-31\n",
      "Products so far: 0\n",
      "Getting products from 2019-02-01 to 2019-02-07\n",
      "Products so far: 0\n",
      "Getting products from 2019-02-08 to 2019-02-14\n",
      "Products so far: 0\n",
      "Getting products from 2019-02-15 to 2019-02-21\n",
      "Products so far: 0\n",
      "Getting products from 2019-02-22 to 2019-02-28\n",
      "Products so far: 0\n",
      "Getting products from 2019-03-01 to 2019-03-07\n",
      "Products so far: 0\n",
      "Getting products from 2019-03-08 to 2019-03-14\n",
      "Products so far: 0\n",
      "Getting products from 2019-03-15 to 2019-03-21\n",
      "Products so far: 0\n",
      "Getting products from 2019-03-22 to 2019-03-31\n",
      "Products so far: 0\n",
      "Getting products from 2019-04-01 to 2019-04-07\n",
      "Products so far: 0\n",
      "Getting products from 2019-04-08 to 2019-04-14\n",
      "Products so far: 0\n",
      "Getting products from 2019-04-15 to 2019-04-21\n",
      "Products so far: 0\n",
      "Getting products from 2019-04-22 to 2019-04-30\n",
      "Products so far: 0\n",
      "Getting products from 2019-05-01 to 2019-05-07\n",
      "Products so far: 0\n",
      "Getting products from 2019-05-08 to 2019-05-14\n"
     ]
    },
    {
     "ename": "SentinelAPIError",
     "evalue": "HTTP status 500 Internal Server Error: SolrServerException : Timeout occured while waiting response from server at: http://172.30.175.89:8983/solr/dhus",
     "output_type": "error",
     "traceback": [
      "\u001b[1;31m---------------------------------------------------------------------------\u001b[0m",
      "\u001b[1;31mSentinelAPIError\u001b[0m                          Traceback (most recent call last)",
      "\u001b[1;32m<ipython-input-13-3145f9b9f784>\u001b[0m in \u001b[0;36m<module>\u001b[1;34m\u001b[0m\n\u001b[0;32m      2\u001b[0m \u001b[0mdate_range_list\u001b[0m \u001b[1;33m=\u001b[0m \u001b[1;33m[\u001b[0m\u001b[1;33m]\u001b[0m\u001b[1;33m\u001b[0m\u001b[1;33m\u001b[0m\u001b[0m\n\u001b[0;32m      3\u001b[0m \u001b[1;33m\u001b[0m\u001b[0m\n\u001b[1;32m----> 4\u001b[1;33m \u001b[0mdf\u001b[0m \u001b[1;33m=\u001b[0m \u001b[0mget_products_df_for_year\u001b[0m\u001b[1;33m(\u001b[0m\u001b[0mapi\u001b[0m\u001b[1;33m,\u001b[0m \u001b[0mfootprint2\u001b[0m\u001b[1;33m,\u001b[0m \u001b[1;36m2019\u001b[0m\u001b[1;33m,\u001b[0m \u001b[1;33m(\u001b[0m\u001b[1;36m0\u001b[0m\u001b[1;33m,\u001b[0m \u001b[1;36m100\u001b[0m\u001b[1;33m)\u001b[0m\u001b[1;33m,\u001b[0m \u001b[0mdf_list\u001b[0m\u001b[1;33m,\u001b[0m \u001b[0mdate_range_list\u001b[0m\u001b[1;33m)\u001b[0m\u001b[1;33m\u001b[0m\u001b[1;33m\u001b[0m\u001b[0m\n\u001b[0m",
      "\u001b[1;32m<ipython-input-4-1b7a87bec69d>\u001b[0m in \u001b[0;36mget_products_df_for_year\u001b[1;34m(api, footprint, year, cloudcover, df_list, date_range_list)\u001b[0m\n\u001b[0;32m     52\u001b[0m             \u001b[0mdate_end\u001b[0m \u001b[1;33m=\u001b[0m \u001b[0mdate_range\u001b[0m\u001b[1;33m[\u001b[0m\u001b[1;36m1\u001b[0m\u001b[1;33m]\u001b[0m\u001b[1;33m\u001b[0m\u001b[1;33m\u001b[0m\u001b[0m\n\u001b[0;32m     53\u001b[0m             \u001b[0mprint\u001b[0m\u001b[1;33m(\u001b[0m\u001b[1;34mf'Getting products from {date_start} to {date_end}'\u001b[0m\u001b[1;33m)\u001b[0m\u001b[1;33m\u001b[0m\u001b[1;33m\u001b[0m\u001b[0m\n\u001b[1;32m---> 54\u001b[1;33m             \u001b[0mproducts_df_2\u001b[0m \u001b[1;33m=\u001b[0m \u001b[0mget_products_df\u001b[0m\u001b[1;33m(\u001b[0m\u001b[0mapi\u001b[0m\u001b[1;33m,\u001b[0m \u001b[0mfootprint\u001b[0m\u001b[1;33m,\u001b[0m \u001b[0mdate_start\u001b[0m\u001b[1;33m,\u001b[0m \u001b[0mdate_end\u001b[0m\u001b[1;33m,\u001b[0m \u001b[0mcloudcover\u001b[0m\u001b[1;33m=\u001b[0m\u001b[0mcloudcover\u001b[0m\u001b[1;33m)\u001b[0m\u001b[1;33m\u001b[0m\u001b[1;33m\u001b[0m\u001b[0m\n\u001b[0m\u001b[0;32m     55\u001b[0m             \u001b[0mproducts_df\u001b[0m \u001b[1;33m=\u001b[0m \u001b[0mpd\u001b[0m\u001b[1;33m.\u001b[0m\u001b[0mconcat\u001b[0m\u001b[1;33m(\u001b[0m\u001b[1;33m[\u001b[0m\u001b[0mproducts_df\u001b[0m\u001b[1;33m,\u001b[0m \u001b[0mproducts_df_2\u001b[0m\u001b[1;33m]\u001b[0m\u001b[1;33m)\u001b[0m\u001b[1;33m\u001b[0m\u001b[1;33m\u001b[0m\u001b[0m\n\u001b[0;32m     56\u001b[0m             \u001b[0mproducts_df_3\u001b[0m \u001b[1;33m=\u001b[0m \u001b[0mget_products_df\u001b[0m\u001b[1;33m(\u001b[0m\u001b[0mapi\u001b[0m\u001b[1;33m,\u001b[0m \u001b[0mfootprint\u001b[0m\u001b[1;33m,\u001b[0m \u001b[0mdate_start\u001b[0m\u001b[1;33m,\u001b[0m \u001b[0mdate_end\u001b[0m\u001b[1;33m,\u001b[0m \u001b[0marea\u001b[0m\u001b[1;33m=\u001b[0m\u001b[1;34m'Intersects'\u001b[0m\u001b[1;33m,\u001b[0m \u001b[0mcloudcover\u001b[0m\u001b[1;33m=\u001b[0m\u001b[0mcloudcover\u001b[0m\u001b[1;33m)\u001b[0m\u001b[1;33m\u001b[0m\u001b[1;33m\u001b[0m\u001b[0m\n",
      "\u001b[1;32m<ipython-input-2-1351bff581b2>\u001b[0m in \u001b[0;36mget_products_df\u001b[1;34m(api, footprint, date_start, date_end, area, platform, cloudcover)\u001b[0m\n\u001b[0;32m     10\u001b[0m     \u001b[1;34m\"\"\"Queries for products from the Sentinel API.\"\"\"\u001b[0m\u001b[1;33m\u001b[0m\u001b[1;33m\u001b[0m\u001b[0m\n\u001b[0;32m     11\u001b[0m \u001b[1;33m\u001b[0m\u001b[0m\n\u001b[1;32m---> 12\u001b[1;33m     products = api.query(footprint,\n\u001b[0m\u001b[0;32m     13\u001b[0m                          \u001b[0mdate\u001b[0m\u001b[1;33m=\u001b[0m\u001b[1;33m(\u001b[0m\u001b[0mdate_start\u001b[0m\u001b[1;33m,\u001b[0m \u001b[0mdate_end\u001b[0m\u001b[1;33m)\u001b[0m\u001b[1;33m,\u001b[0m\u001b[1;33m\u001b[0m\u001b[1;33m\u001b[0m\u001b[0m\n\u001b[0;32m     14\u001b[0m                          \u001b[0marea_relation\u001b[0m\u001b[1;33m=\u001b[0m\u001b[0marea\u001b[0m\u001b[1;33m,\u001b[0m\u001b[1;33m\u001b[0m\u001b[1;33m\u001b[0m\u001b[0m\n",
      "\u001b[1;32mC:\\Anaconda3\\envs\\canopy_conda\\lib\\site-packages\\sentinelsat\\sentinel.py\u001b[0m in \u001b[0;36mquery\u001b[1;34m(self, area, date, raw, area_relation, order_by, limit, offset, **keywords)\u001b[0m\n\u001b[0;32m    206\u001b[0m         )\n\u001b[0;32m    207\u001b[0m         \u001b[0mformatted_order_by\u001b[0m \u001b[1;33m=\u001b[0m \u001b[0m_format_order_by\u001b[0m\u001b[1;33m(\u001b[0m\u001b[0morder_by\u001b[0m\u001b[1;33m)\u001b[0m\u001b[1;33m\u001b[0m\u001b[1;33m\u001b[0m\u001b[0m\n\u001b[1;32m--> 208\u001b[1;33m         \u001b[0mresponse\u001b[0m\u001b[1;33m,\u001b[0m \u001b[0mcount\u001b[0m \u001b[1;33m=\u001b[0m \u001b[0mself\u001b[0m\u001b[1;33m.\u001b[0m\u001b[0m_load_query\u001b[0m\u001b[1;33m(\u001b[0m\u001b[0mquery\u001b[0m\u001b[1;33m,\u001b[0m \u001b[0mformatted_order_by\u001b[0m\u001b[1;33m,\u001b[0m \u001b[0mlimit\u001b[0m\u001b[1;33m,\u001b[0m \u001b[0moffset\u001b[0m\u001b[1;33m)\u001b[0m\u001b[1;33m\u001b[0m\u001b[1;33m\u001b[0m\u001b[0m\n\u001b[0m\u001b[0;32m    209\u001b[0m         \u001b[0mself\u001b[0m\u001b[1;33m.\u001b[0m\u001b[0mlogger\u001b[0m\u001b[1;33m.\u001b[0m\u001b[0minfo\u001b[0m\u001b[1;33m(\u001b[0m\u001b[1;34m\"Found %s products\"\u001b[0m\u001b[1;33m,\u001b[0m \u001b[0mcount\u001b[0m\u001b[1;33m)\u001b[0m\u001b[1;33m\u001b[0m\u001b[1;33m\u001b[0m\u001b[0m\n\u001b[0;32m    210\u001b[0m         \u001b[1;32mreturn\u001b[0m \u001b[0m_parse_opensearch_response\u001b[0m\u001b[1;33m(\u001b[0m\u001b[0mresponse\u001b[0m\u001b[1;33m)\u001b[0m\u001b[1;33m\u001b[0m\u001b[1;33m\u001b[0m\u001b[0m\n",
      "\u001b[1;32mC:\\Anaconda3\\envs\\canopy_conda\\lib\\site-packages\\sentinelsat\\sentinel.py\u001b[0m in \u001b[0;36m_load_query\u001b[1;34m(self, query, order_by, limit, offset)\u001b[0m\n\u001b[0;32m    347\u001b[0m \u001b[1;33m\u001b[0m\u001b[0m\n\u001b[0;32m    348\u001b[0m     \u001b[1;32mdef\u001b[0m \u001b[0m_load_query\u001b[0m\u001b[1;33m(\u001b[0m\u001b[0mself\u001b[0m\u001b[1;33m,\u001b[0m \u001b[0mquery\u001b[0m\u001b[1;33m,\u001b[0m \u001b[0morder_by\u001b[0m\u001b[1;33m=\u001b[0m\u001b[1;32mNone\u001b[0m\u001b[1;33m,\u001b[0m \u001b[0mlimit\u001b[0m\u001b[1;33m=\u001b[0m\u001b[1;32mNone\u001b[0m\u001b[1;33m,\u001b[0m \u001b[0moffset\u001b[0m\u001b[1;33m=\u001b[0m\u001b[1;36m0\u001b[0m\u001b[1;33m)\u001b[0m\u001b[1;33m:\u001b[0m\u001b[1;33m\u001b[0m\u001b[1;33m\u001b[0m\u001b[0m\n\u001b[1;32m--> 349\u001b[1;33m         \u001b[0mproducts\u001b[0m\u001b[1;33m,\u001b[0m \u001b[0mcount\u001b[0m \u001b[1;33m=\u001b[0m \u001b[0mself\u001b[0m\u001b[1;33m.\u001b[0m\u001b[0m_load_subquery\u001b[0m\u001b[1;33m(\u001b[0m\u001b[0mquery\u001b[0m\u001b[1;33m,\u001b[0m \u001b[0morder_by\u001b[0m\u001b[1;33m,\u001b[0m \u001b[0mlimit\u001b[0m\u001b[1;33m,\u001b[0m \u001b[0moffset\u001b[0m\u001b[1;33m)\u001b[0m\u001b[1;33m\u001b[0m\u001b[1;33m\u001b[0m\u001b[0m\n\u001b[0m\u001b[0;32m    350\u001b[0m \u001b[1;33m\u001b[0m\u001b[0m\n\u001b[0;32m    351\u001b[0m         \u001b[1;31m# repeat query until all results have been loaded\u001b[0m\u001b[1;33m\u001b[0m\u001b[1;33m\u001b[0m\u001b[1;33m\u001b[0m\u001b[0m\n",
      "\u001b[1;32mC:\\Anaconda3\\envs\\canopy_conda\\lib\\site-packages\\sentinelsat\\sentinel.py\u001b[0m in \u001b[0;36m_load_subquery\u001b[1;34m(self, query, order_by, limit, offset)\u001b[0m\n\u001b[0;32m    385\u001b[0m             \u001b[0mtimeout\u001b[0m\u001b[1;33m=\u001b[0m\u001b[0mself\u001b[0m\u001b[1;33m.\u001b[0m\u001b[0mtimeout\u001b[0m\u001b[1;33m,\u001b[0m\u001b[1;33m\u001b[0m\u001b[1;33m\u001b[0m\u001b[0m\n\u001b[0;32m    386\u001b[0m         )\n\u001b[1;32m--> 387\u001b[1;33m         \u001b[0m_check_scihub_response\u001b[0m\u001b[1;33m(\u001b[0m\u001b[0mresponse\u001b[0m\u001b[1;33m)\u001b[0m\u001b[1;33m\u001b[0m\u001b[1;33m\u001b[0m\u001b[0m\n\u001b[0m\u001b[0;32m    388\u001b[0m \u001b[1;33m\u001b[0m\u001b[0m\n\u001b[0;32m    389\u001b[0m         \u001b[1;31m# store last status code (for testing)\u001b[0m\u001b[1;33m\u001b[0m\u001b[1;33m\u001b[0m\u001b[1;33m\u001b[0m\u001b[0m\n",
      "\u001b[1;32mC:\\Anaconda3\\envs\\canopy_conda\\lib\\site-packages\\sentinelsat\\sentinel.py\u001b[0m in \u001b[0;36m_check_scihub_response\u001b[1;34m(response, test_json)\u001b[0m\n\u001b[0;32m   1318\u001b[0m         \u001b[1;31m# See PEP 409\u001b[0m\u001b[1;33m\u001b[0m\u001b[1;33m\u001b[0m\u001b[1;33m\u001b[0m\u001b[0m\n\u001b[0;32m   1319\u001b[0m         \u001b[0mapi_error\u001b[0m\u001b[1;33m.\u001b[0m\u001b[0m__cause__\u001b[0m \u001b[1;33m=\u001b[0m \u001b[1;32mNone\u001b[0m\u001b[1;33m\u001b[0m\u001b[1;33m\u001b[0m\u001b[0m\n\u001b[1;32m-> 1320\u001b[1;33m         \u001b[1;32mraise\u001b[0m \u001b[0mapi_error\u001b[0m\u001b[1;33m\u001b[0m\u001b[1;33m\u001b[0m\u001b[0m\n\u001b[0m\u001b[0;32m   1321\u001b[0m \u001b[1;33m\u001b[0m\u001b[0m\n\u001b[0;32m   1322\u001b[0m \u001b[1;33m\u001b[0m\u001b[0m\n",
      "\u001b[1;31mSentinelAPIError\u001b[0m: HTTP status 500 Internal Server Error: SolrServerException : Timeout occured while waiting response from server at: http://172.30.175.89:8983/solr/dhus"
     ]
    }
   ],
   "source": [
    "df_list = []\n",
    "date_range_list = []\n",
    "\n",
    "df = get_products_df_for_year(api, footprint2, 2019, (0, 100), df_list, date_range_list)"
   ]
  },
  {
   "cell_type": "code",
   "execution_count": 14,
   "metadata": {},
   "outputs": [
    {
     "name": "stdout",
     "output_type": "stream",
     "text": [
      "Getting products from 2019-05-08 to 2019-05-14\n",
      "Products so far: 0\n",
      "Getting products from 2019-05-15 to 2019-05-21\n",
      "Products so far: 0\n",
      "Getting products from 2019-05-22 to 2019-05-31\n",
      "Products so far: 0\n",
      "Getting products from 2019-06-01 to 2019-06-07\n",
      "Products so far: 0\n",
      "Getting products from 2019-06-08 to 2019-06-14\n",
      "Products so far: 0\n",
      "Getting products from 2019-06-15 to 2019-06-21\n",
      "Products so far: 0\n",
      "Getting products from 2019-06-22 to 2019-06-30\n",
      "Products so far: 0\n",
      "Getting products from 2019-07-01 to 2019-07-07\n"
     ]
    },
    {
     "ename": "SentinelAPIError",
     "evalue": "HTTP status 500 Internal Server Error: SolrServerException : Timeout occured while waiting response from server at: http://172.30.175.89:8983/solr/dhus",
     "output_type": "error",
     "traceback": [
      "\u001b[1;31m---------------------------------------------------------------------------\u001b[0m",
      "\u001b[1;31mSentinelAPIError\u001b[0m                          Traceback (most recent call last)",
      "\u001b[1;32m<ipython-input-14-d0009559a903>\u001b[0m in \u001b[0;36m<module>\u001b[1;34m\u001b[0m\n\u001b[1;32m----> 1\u001b[1;33m \u001b[0mdf\u001b[0m \u001b[1;33m=\u001b[0m \u001b[0mget_products_df_for_year\u001b[0m\u001b[1;33m(\u001b[0m\u001b[0mapi\u001b[0m\u001b[1;33m,\u001b[0m \u001b[0mfootprint2\u001b[0m\u001b[1;33m,\u001b[0m \u001b[1;36m2019\u001b[0m\u001b[1;33m,\u001b[0m \u001b[1;33m(\u001b[0m\u001b[1;36m0\u001b[0m\u001b[1;33m,\u001b[0m \u001b[1;36m100\u001b[0m\u001b[1;33m)\u001b[0m\u001b[1;33m,\u001b[0m \u001b[0mdf_list\u001b[0m\u001b[1;33m,\u001b[0m \u001b[0mdate_range_list\u001b[0m\u001b[1;33m)\u001b[0m\u001b[1;33m\u001b[0m\u001b[1;33m\u001b[0m\u001b[0m\n\u001b[0m",
      "\u001b[1;32m<ipython-input-4-1b7a87bec69d>\u001b[0m in \u001b[0;36mget_products_df_for_year\u001b[1;34m(api, footprint, year, cloudcover, df_list, date_range_list)\u001b[0m\n\u001b[0;32m     52\u001b[0m             \u001b[0mdate_end\u001b[0m \u001b[1;33m=\u001b[0m \u001b[0mdate_range\u001b[0m\u001b[1;33m[\u001b[0m\u001b[1;36m1\u001b[0m\u001b[1;33m]\u001b[0m\u001b[1;33m\u001b[0m\u001b[1;33m\u001b[0m\u001b[0m\n\u001b[0;32m     53\u001b[0m             \u001b[0mprint\u001b[0m\u001b[1;33m(\u001b[0m\u001b[1;34mf'Getting products from {date_start} to {date_end}'\u001b[0m\u001b[1;33m)\u001b[0m\u001b[1;33m\u001b[0m\u001b[1;33m\u001b[0m\u001b[0m\n\u001b[1;32m---> 54\u001b[1;33m             \u001b[0mproducts_df_2\u001b[0m \u001b[1;33m=\u001b[0m \u001b[0mget_products_df\u001b[0m\u001b[1;33m(\u001b[0m\u001b[0mapi\u001b[0m\u001b[1;33m,\u001b[0m \u001b[0mfootprint\u001b[0m\u001b[1;33m,\u001b[0m \u001b[0mdate_start\u001b[0m\u001b[1;33m,\u001b[0m \u001b[0mdate_end\u001b[0m\u001b[1;33m,\u001b[0m \u001b[0mcloudcover\u001b[0m\u001b[1;33m=\u001b[0m\u001b[0mcloudcover\u001b[0m\u001b[1;33m)\u001b[0m\u001b[1;33m\u001b[0m\u001b[1;33m\u001b[0m\u001b[0m\n\u001b[0m\u001b[0;32m     55\u001b[0m             \u001b[0mproducts_df\u001b[0m \u001b[1;33m=\u001b[0m \u001b[0mpd\u001b[0m\u001b[1;33m.\u001b[0m\u001b[0mconcat\u001b[0m\u001b[1;33m(\u001b[0m\u001b[1;33m[\u001b[0m\u001b[0mproducts_df\u001b[0m\u001b[1;33m,\u001b[0m \u001b[0mproducts_df_2\u001b[0m\u001b[1;33m]\u001b[0m\u001b[1;33m)\u001b[0m\u001b[1;33m\u001b[0m\u001b[1;33m\u001b[0m\u001b[0m\n\u001b[0;32m     56\u001b[0m             \u001b[0mproducts_df_3\u001b[0m \u001b[1;33m=\u001b[0m \u001b[0mget_products_df\u001b[0m\u001b[1;33m(\u001b[0m\u001b[0mapi\u001b[0m\u001b[1;33m,\u001b[0m \u001b[0mfootprint\u001b[0m\u001b[1;33m,\u001b[0m \u001b[0mdate_start\u001b[0m\u001b[1;33m,\u001b[0m \u001b[0mdate_end\u001b[0m\u001b[1;33m,\u001b[0m \u001b[0marea\u001b[0m\u001b[1;33m=\u001b[0m\u001b[1;34m'Intersects'\u001b[0m\u001b[1;33m,\u001b[0m \u001b[0mcloudcover\u001b[0m\u001b[1;33m=\u001b[0m\u001b[0mcloudcover\u001b[0m\u001b[1;33m)\u001b[0m\u001b[1;33m\u001b[0m\u001b[1;33m\u001b[0m\u001b[0m\n",
      "\u001b[1;32m<ipython-input-2-1351bff581b2>\u001b[0m in \u001b[0;36mget_products_df\u001b[1;34m(api, footprint, date_start, date_end, area, platform, cloudcover)\u001b[0m\n\u001b[0;32m     10\u001b[0m     \u001b[1;34m\"\"\"Queries for products from the Sentinel API.\"\"\"\u001b[0m\u001b[1;33m\u001b[0m\u001b[1;33m\u001b[0m\u001b[0m\n\u001b[0;32m     11\u001b[0m \u001b[1;33m\u001b[0m\u001b[0m\n\u001b[1;32m---> 12\u001b[1;33m     products = api.query(footprint,\n\u001b[0m\u001b[0;32m     13\u001b[0m                          \u001b[0mdate\u001b[0m\u001b[1;33m=\u001b[0m\u001b[1;33m(\u001b[0m\u001b[0mdate_start\u001b[0m\u001b[1;33m,\u001b[0m \u001b[0mdate_end\u001b[0m\u001b[1;33m)\u001b[0m\u001b[1;33m,\u001b[0m\u001b[1;33m\u001b[0m\u001b[1;33m\u001b[0m\u001b[0m\n\u001b[0;32m     14\u001b[0m                          \u001b[0marea_relation\u001b[0m\u001b[1;33m=\u001b[0m\u001b[0marea\u001b[0m\u001b[1;33m,\u001b[0m\u001b[1;33m\u001b[0m\u001b[1;33m\u001b[0m\u001b[0m\n",
      "\u001b[1;32mC:\\Anaconda3\\envs\\canopy_conda\\lib\\site-packages\\sentinelsat\\sentinel.py\u001b[0m in \u001b[0;36mquery\u001b[1;34m(self, area, date, raw, area_relation, order_by, limit, offset, **keywords)\u001b[0m\n\u001b[0;32m    206\u001b[0m         )\n\u001b[0;32m    207\u001b[0m         \u001b[0mformatted_order_by\u001b[0m \u001b[1;33m=\u001b[0m \u001b[0m_format_order_by\u001b[0m\u001b[1;33m(\u001b[0m\u001b[0morder_by\u001b[0m\u001b[1;33m)\u001b[0m\u001b[1;33m\u001b[0m\u001b[1;33m\u001b[0m\u001b[0m\n\u001b[1;32m--> 208\u001b[1;33m         \u001b[0mresponse\u001b[0m\u001b[1;33m,\u001b[0m \u001b[0mcount\u001b[0m \u001b[1;33m=\u001b[0m \u001b[0mself\u001b[0m\u001b[1;33m.\u001b[0m\u001b[0m_load_query\u001b[0m\u001b[1;33m(\u001b[0m\u001b[0mquery\u001b[0m\u001b[1;33m,\u001b[0m \u001b[0mformatted_order_by\u001b[0m\u001b[1;33m,\u001b[0m \u001b[0mlimit\u001b[0m\u001b[1;33m,\u001b[0m \u001b[0moffset\u001b[0m\u001b[1;33m)\u001b[0m\u001b[1;33m\u001b[0m\u001b[1;33m\u001b[0m\u001b[0m\n\u001b[0m\u001b[0;32m    209\u001b[0m         \u001b[0mself\u001b[0m\u001b[1;33m.\u001b[0m\u001b[0mlogger\u001b[0m\u001b[1;33m.\u001b[0m\u001b[0minfo\u001b[0m\u001b[1;33m(\u001b[0m\u001b[1;34m\"Found %s products\"\u001b[0m\u001b[1;33m,\u001b[0m \u001b[0mcount\u001b[0m\u001b[1;33m)\u001b[0m\u001b[1;33m\u001b[0m\u001b[1;33m\u001b[0m\u001b[0m\n\u001b[0;32m    210\u001b[0m         \u001b[1;32mreturn\u001b[0m \u001b[0m_parse_opensearch_response\u001b[0m\u001b[1;33m(\u001b[0m\u001b[0mresponse\u001b[0m\u001b[1;33m)\u001b[0m\u001b[1;33m\u001b[0m\u001b[1;33m\u001b[0m\u001b[0m\n",
      "\u001b[1;32mC:\\Anaconda3\\envs\\canopy_conda\\lib\\site-packages\\sentinelsat\\sentinel.py\u001b[0m in \u001b[0;36m_load_query\u001b[1;34m(self, query, order_by, limit, offset)\u001b[0m\n\u001b[0;32m    347\u001b[0m \u001b[1;33m\u001b[0m\u001b[0m\n\u001b[0;32m    348\u001b[0m     \u001b[1;32mdef\u001b[0m \u001b[0m_load_query\u001b[0m\u001b[1;33m(\u001b[0m\u001b[0mself\u001b[0m\u001b[1;33m,\u001b[0m \u001b[0mquery\u001b[0m\u001b[1;33m,\u001b[0m \u001b[0morder_by\u001b[0m\u001b[1;33m=\u001b[0m\u001b[1;32mNone\u001b[0m\u001b[1;33m,\u001b[0m \u001b[0mlimit\u001b[0m\u001b[1;33m=\u001b[0m\u001b[1;32mNone\u001b[0m\u001b[1;33m,\u001b[0m \u001b[0moffset\u001b[0m\u001b[1;33m=\u001b[0m\u001b[1;36m0\u001b[0m\u001b[1;33m)\u001b[0m\u001b[1;33m:\u001b[0m\u001b[1;33m\u001b[0m\u001b[1;33m\u001b[0m\u001b[0m\n\u001b[1;32m--> 349\u001b[1;33m         \u001b[0mproducts\u001b[0m\u001b[1;33m,\u001b[0m \u001b[0mcount\u001b[0m \u001b[1;33m=\u001b[0m \u001b[0mself\u001b[0m\u001b[1;33m.\u001b[0m\u001b[0m_load_subquery\u001b[0m\u001b[1;33m(\u001b[0m\u001b[0mquery\u001b[0m\u001b[1;33m,\u001b[0m \u001b[0morder_by\u001b[0m\u001b[1;33m,\u001b[0m \u001b[0mlimit\u001b[0m\u001b[1;33m,\u001b[0m \u001b[0moffset\u001b[0m\u001b[1;33m)\u001b[0m\u001b[1;33m\u001b[0m\u001b[1;33m\u001b[0m\u001b[0m\n\u001b[0m\u001b[0;32m    350\u001b[0m \u001b[1;33m\u001b[0m\u001b[0m\n\u001b[0;32m    351\u001b[0m         \u001b[1;31m# repeat query until all results have been loaded\u001b[0m\u001b[1;33m\u001b[0m\u001b[1;33m\u001b[0m\u001b[1;33m\u001b[0m\u001b[0m\n",
      "\u001b[1;32mC:\\Anaconda3\\envs\\canopy_conda\\lib\\site-packages\\sentinelsat\\sentinel.py\u001b[0m in \u001b[0;36m_load_subquery\u001b[1;34m(self, query, order_by, limit, offset)\u001b[0m\n\u001b[0;32m    385\u001b[0m             \u001b[0mtimeout\u001b[0m\u001b[1;33m=\u001b[0m\u001b[0mself\u001b[0m\u001b[1;33m.\u001b[0m\u001b[0mtimeout\u001b[0m\u001b[1;33m,\u001b[0m\u001b[1;33m\u001b[0m\u001b[1;33m\u001b[0m\u001b[0m\n\u001b[0;32m    386\u001b[0m         )\n\u001b[1;32m--> 387\u001b[1;33m         \u001b[0m_check_scihub_response\u001b[0m\u001b[1;33m(\u001b[0m\u001b[0mresponse\u001b[0m\u001b[1;33m)\u001b[0m\u001b[1;33m\u001b[0m\u001b[1;33m\u001b[0m\u001b[0m\n\u001b[0m\u001b[0;32m    388\u001b[0m \u001b[1;33m\u001b[0m\u001b[0m\n\u001b[0;32m    389\u001b[0m         \u001b[1;31m# store last status code (for testing)\u001b[0m\u001b[1;33m\u001b[0m\u001b[1;33m\u001b[0m\u001b[1;33m\u001b[0m\u001b[0m\n",
      "\u001b[1;32mC:\\Anaconda3\\envs\\canopy_conda\\lib\\site-packages\\sentinelsat\\sentinel.py\u001b[0m in \u001b[0;36m_check_scihub_response\u001b[1;34m(response, test_json)\u001b[0m\n\u001b[0;32m   1318\u001b[0m         \u001b[1;31m# See PEP 409\u001b[0m\u001b[1;33m\u001b[0m\u001b[1;33m\u001b[0m\u001b[1;33m\u001b[0m\u001b[0m\n\u001b[0;32m   1319\u001b[0m         \u001b[0mapi_error\u001b[0m\u001b[1;33m.\u001b[0m\u001b[0m__cause__\u001b[0m \u001b[1;33m=\u001b[0m \u001b[1;32mNone\u001b[0m\u001b[1;33m\u001b[0m\u001b[1;33m\u001b[0m\u001b[0m\n\u001b[1;32m-> 1320\u001b[1;33m         \u001b[1;32mraise\u001b[0m \u001b[0mapi_error\u001b[0m\u001b[1;33m\u001b[0m\u001b[1;33m\u001b[0m\u001b[0m\n\u001b[0m\u001b[0;32m   1321\u001b[0m \u001b[1;33m\u001b[0m\u001b[0m\n\u001b[0;32m   1322\u001b[0m \u001b[1;33m\u001b[0m\u001b[0m\n",
      "\u001b[1;31mSentinelAPIError\u001b[0m: HTTP status 500 Internal Server Error: SolrServerException : Timeout occured while waiting response from server at: http://172.30.175.89:8983/solr/dhus"
     ]
    }
   ],
   "source": [
    "df = get_products_df_for_year(api, footprint2, 2019, (0, 100), df_list, date_range_list)"
   ]
  },
  {
   "cell_type": "code",
   "execution_count": 15,
   "metadata": {},
   "outputs": [
    {
     "name": "stdout",
     "output_type": "stream",
     "text": [
      "Getting products from 2019-07-01 to 2019-07-07\n",
      "Products so far: 0\n",
      "Getting products from 2019-07-08 to 2019-07-14\n",
      "Products so far: 0\n",
      "Getting products from 2019-07-15 to 2019-07-21\n",
      "Products so far: 0\n",
      "Getting products from 2019-07-22 to 2019-07-31\n",
      "Products so far: 0\n",
      "Getting products from 2019-08-01 to 2019-08-07\n",
      "Products so far: 0\n",
      "Getting products from 2019-08-08 to 2019-08-14\n",
      "Products so far: 0\n",
      "Getting products from 2019-08-15 to 2019-08-21\n",
      "Products so far: 0\n",
      "Getting products from 2019-08-22 to 2019-08-31\n",
      "Products so far: 0\n",
      "Getting products from 2019-09-01 to 2019-09-07\n",
      "Products so far: 0\n",
      "Getting products from 2019-09-08 to 2019-09-14\n",
      "Products so far: 0\n",
      "Getting products from 2019-09-15 to 2019-09-21\n",
      "Products so far: 0\n",
      "Getting products from 2019-09-22 to 2019-09-30\n",
      "Products so far: 0\n",
      "Getting products from 2019-10-01 to 2019-10-07\n",
      "Products so far: 0\n",
      "Getting products from 2019-10-08 to 2019-10-14\n",
      "Products so far: 0\n",
      "Getting products from 2019-10-15 to 2019-10-21\n",
      "Products so far: 0\n",
      "Getting products from 2019-10-22 to 2019-10-31\n",
      "Products so far: 0\n",
      "Getting products from 2019-11-01 to 2019-11-07\n",
      "Products so far: 0\n",
      "Getting products from 2019-11-08 to 2019-11-14\n",
      "Products so far: 0\n",
      "Getting products from 2019-11-15 to 2019-11-21\n",
      "Products so far: 0\n",
      "Getting products from 2019-11-22 to 2019-11-30\n",
      "Products so far: 0\n",
      "Getting products from 2019-12-01 to 2019-12-07\n",
      "Products so far: 0\n",
      "Getting products from 2019-12-08 to 2019-12-14\n",
      "Products so far: 0\n",
      "Getting products from 2019-12-15 to 2019-12-21\n",
      "Products so far: 0\n",
      "Getting products from 2019-12-22 to 2019-12-31\n",
      "Products so far: 0\n"
     ]
    }
   ],
   "source": [
    "df = get_products_df_for_year(api, footprint2, 2019, (0, 100), df_list, date_range_list)\n",
    "\n",
    "# Got no results for the islands"
   ]
  },
  {
   "cell_type": "markdown",
   "metadata": {},
   "source": [
    "### Downloading one product per tile ID\n",
    "\n",
    "To test my results, I download one product per tile ID and then view them in QGIS."
   ]
  },
  {
   "cell_type": "code",
   "execution_count": 2,
   "metadata": {},
   "outputs": [],
   "source": [
    "ee_index = pd.read_csv('earth-engine-index.csv')"
   ]
  },
  {
   "cell_type": "code",
   "execution_count": 3,
   "metadata": {},
   "outputs": [
    {
     "data": {
      "text/html": [
       "<div>\n",
       "<style scoped>\n",
       "    .dataframe tbody tr th:only-of-type {\n",
       "        vertical-align: middle;\n",
       "    }\n",
       "\n",
       "    .dataframe tbody tr th {\n",
       "        vertical-align: top;\n",
       "    }\n",
       "\n",
       "    .dataframe thead th {\n",
       "        text-align: right;\n",
       "    }\n",
       "</style>\n",
       "<table border=\"1\" class=\"dataframe\">\n",
       "  <thead>\n",
       "    <tr style=\"text-align: right;\">\n",
       "      <th></th>\n",
       "      <th>GRANULE_ID</th>\n",
       "      <th>PRODUCT_ID</th>\n",
       "      <th>DATATAKE_IDENTIFIER</th>\n",
       "      <th>MGRS_TILE</th>\n",
       "      <th>SENSING_TIME</th>\n",
       "      <th>TOTAL_SIZE</th>\n",
       "      <th>CLOUD_COVER</th>\n",
       "      <th>GEOMETRIC_QUALITY_FLAG</th>\n",
       "      <th>GENERATION_TIME</th>\n",
       "      <th>NORTH_LAT</th>\n",
       "      <th>SOUTH_LAT</th>\n",
       "      <th>WEST_LON</th>\n",
       "      <th>EAST_LON</th>\n",
       "      <th>BASE_URL</th>\n",
       "    </tr>\n",
       "  </thead>\n",
       "  <tbody>\n",
       "    <tr>\n",
       "      <th>0</th>\n",
       "      <td>L1C_T51HWC_A021621_20190813T014402</td>\n",
       "      <td>S2A_MSIL1C_20190813T013321_N0208_R031_T51HWC_2...</td>\n",
       "      <td>GS2A_20190813T013321_021621_N02.08</td>\n",
       "      <td>51HWC</td>\n",
       "      <td>2019-08-13T01:47:02.634000Z</td>\n",
       "      <td>472312038.0</td>\n",
       "      <td>0.0000</td>\n",
       "      <td>NaN</td>\n",
       "      <td>2019-08-13T05:44:52.000000Z</td>\n",
       "      <td>-33.433323</td>\n",
       "      <td>-34.429078</td>\n",
       "      <td>123.192969</td>\n",
       "      <td>124.194586</td>\n",
       "      <td>gs://gcp-public-data-sentinel-2/tiles/51/H/WC/...</td>\n",
       "    </tr>\n",
       "    <tr>\n",
       "      <th>1</th>\n",
       "      <td>L1C_T21HYT_A011547_20190523T133233</td>\n",
       "      <td>S2B_MSIL1C_20190523T133239_N0207_R081_T21HYT_2...</td>\n",
       "      <td>GS2B_20190523T133239_011547_N02.07</td>\n",
       "      <td>21HYT</td>\n",
       "      <td>2019-05-23T13:43:06.000000Z</td>\n",
       "      <td>93794242.0</td>\n",
       "      <td>0.0000</td>\n",
       "      <td>NaN</td>\n",
       "      <td>2019-05-23T15:10:06.000000Z</td>\n",
       "      <td>-37.894755</td>\n",
       "      <td>-38.160337</td>\n",
       "      <td>-54.580660</td>\n",
       "      <td>-53.464817</td>\n",
       "      <td>gs://gcp-public-data-sentinel-2/tiles/21/H/YT/...</td>\n",
       "    </tr>\n",
       "    <tr>\n",
       "      <th>2</th>\n",
       "      <td>L1C_T11SLA_A016512_20180820T184735</td>\n",
       "      <td>S2A_MSIL1C_20180820T183921_N0206_R070_T11SLA_2...</td>\n",
       "      <td>GS2A_20180820T183921_016512_N02.06</td>\n",
       "      <td>11SLA</td>\n",
       "      <td>2018-08-20T18:47:35.340000Z</td>\n",
       "      <td>852706489.0</td>\n",
       "      <td>4.6080</td>\n",
       "      <td>NaN</td>\n",
       "      <td>2018-08-20T23:54:18.000000Z</td>\n",
       "      <td>37.042336</td>\n",
       "      <td>36.036258</td>\n",
       "      <td>-119.248493</td>\n",
       "      <td>-118.007274</td>\n",
       "      <td>gs://gcp-public-data-sentinel-2/tiles/11/S/LA/...</td>\n",
       "    </tr>\n",
       "    <tr>\n",
       "      <th>3</th>\n",
       "      <td>L1C_T02KMG_A003029_20171004T213912</td>\n",
       "      <td>S2B_MSIL1C_20171004T213909_N0205_R143_T02KMG_2...</td>\n",
       "      <td>GS2B_20171004T213909_003029_N02.05</td>\n",
       "      <td>02KMG</td>\n",
       "      <td>2017-10-04T21:39:12.460000Z</td>\n",
       "      <td>502814591.0</td>\n",
       "      <td>9.4476</td>\n",
       "      <td>PASSED</td>\n",
       "      <td>2017-10-04T21:39:12.000000Z</td>\n",
       "      <td>-16.280273</td>\n",
       "      <td>-17.273285</td>\n",
       "      <td>-171.686702</td>\n",
       "      <td>-170.908268</td>\n",
       "      <td>gs://gcp-public-data-sentinel-2/tiles/02/K/MG/...</td>\n",
       "    </tr>\n",
       "    <tr>\n",
       "      <th>4</th>\n",
       "      <td>L1C_T49NHB_A001931_20170720T024456</td>\n",
       "      <td>S2B_MSIL1C_20170720T022549_N0205_R046_T49NHB_2...</td>\n",
       "      <td>GS2B_20170720T022549_001931_N02.05</td>\n",
       "      <td>49NHB</td>\n",
       "      <td>2017-07-20T02:44:56.730000Z</td>\n",
       "      <td>176714634.0</td>\n",
       "      <td>12.6707</td>\n",
       "      <td>PASSED</td>\n",
       "      <td>2017-07-20T02:44:56.000000Z</td>\n",
       "      <td>1.806308</td>\n",
       "      <td>0.814825</td>\n",
       "      <td>114.385102</td>\n",
       "      <td>114.681769</td>\n",
       "      <td>gs://gcp-public-data-sentinel-2/tiles/49/N/HB/...</td>\n",
       "    </tr>\n",
       "  </tbody>\n",
       "</table>\n",
       "</div>"
      ],
      "text/plain": [
       "                           GRANULE_ID  \\\n",
       "0  L1C_T51HWC_A021621_20190813T014402   \n",
       "1  L1C_T21HYT_A011547_20190523T133233   \n",
       "2  L1C_T11SLA_A016512_20180820T184735   \n",
       "3  L1C_T02KMG_A003029_20171004T213912   \n",
       "4  L1C_T49NHB_A001931_20170720T024456   \n",
       "\n",
       "                                          PRODUCT_ID  \\\n",
       "0  S2A_MSIL1C_20190813T013321_N0208_R031_T51HWC_2...   \n",
       "1  S2B_MSIL1C_20190523T133239_N0207_R081_T21HYT_2...   \n",
       "2  S2A_MSIL1C_20180820T183921_N0206_R070_T11SLA_2...   \n",
       "3  S2B_MSIL1C_20171004T213909_N0205_R143_T02KMG_2...   \n",
       "4  S2B_MSIL1C_20170720T022549_N0205_R046_T49NHB_2...   \n",
       "\n",
       "                  DATATAKE_IDENTIFIER MGRS_TILE                 SENSING_TIME  \\\n",
       "0  GS2A_20190813T013321_021621_N02.08     51HWC  2019-08-13T01:47:02.634000Z   \n",
       "1  GS2B_20190523T133239_011547_N02.07     21HYT  2019-05-23T13:43:06.000000Z   \n",
       "2  GS2A_20180820T183921_016512_N02.06     11SLA  2018-08-20T18:47:35.340000Z   \n",
       "3  GS2B_20171004T213909_003029_N02.05     02KMG  2017-10-04T21:39:12.460000Z   \n",
       "4  GS2B_20170720T022549_001931_N02.05     49NHB  2017-07-20T02:44:56.730000Z   \n",
       "\n",
       "    TOTAL_SIZE  CLOUD_COVER GEOMETRIC_QUALITY_FLAG  \\\n",
       "0  472312038.0       0.0000                    NaN   \n",
       "1   93794242.0       0.0000                    NaN   \n",
       "2  852706489.0       4.6080                    NaN   \n",
       "3  502814591.0       9.4476                 PASSED   \n",
       "4  176714634.0      12.6707                 PASSED   \n",
       "\n",
       "               GENERATION_TIME  NORTH_LAT  SOUTH_LAT    WEST_LON    EAST_LON  \\\n",
       "0  2019-08-13T05:44:52.000000Z -33.433323 -34.429078  123.192969  124.194586   \n",
       "1  2019-05-23T15:10:06.000000Z -37.894755 -38.160337  -54.580660  -53.464817   \n",
       "2  2018-08-20T23:54:18.000000Z  37.042336  36.036258 -119.248493 -118.007274   \n",
       "3  2017-10-04T21:39:12.000000Z -16.280273 -17.273285 -171.686702 -170.908268   \n",
       "4  2017-07-20T02:44:56.000000Z   1.806308   0.814825  114.385102  114.681769   \n",
       "\n",
       "                                            BASE_URL  \n",
       "0  gs://gcp-public-data-sentinel-2/tiles/51/H/WC/...  \n",
       "1  gs://gcp-public-data-sentinel-2/tiles/21/H/YT/...  \n",
       "2  gs://gcp-public-data-sentinel-2/tiles/11/S/LA/...  \n",
       "3  gs://gcp-public-data-sentinel-2/tiles/02/K/MG/...  \n",
       "4  gs://gcp-public-data-sentinel-2/tiles/49/N/HB/...  "
      ]
     },
     "execution_count": 3,
     "metadata": {},
     "output_type": "execute_result"
    }
   ],
   "source": [
    "ee_index.head()"
   ]
  },
  {
   "cell_type": "code",
   "execution_count": 8,
   "metadata": {},
   "outputs": [],
   "source": [
    "with open('tile_ids.txt') as f:\n",
    "    tile_ids = f.readlines()"
   ]
  },
  {
   "cell_type": "code",
   "execution_count": 9,
   "metadata": {},
   "outputs": [
    {
     "data": {
      "text/plain": [
       "['nan',\n",
       " '33NXD',\n",
       " '33MXU',\n",
       " '33NUA',\n",
       " '33NWE',\n",
       " '33MUV',\n",
       " '33NXA',\n",
       " '33NVC',\n",
       " '33NWA',\n",
       " '33NYE',\n",
       " '33NWD',\n",
       " '33NYD',\n",
       " '33NXE',\n",
       " '33MTU',\n",
       " '33NXB',\n",
       " '32MRV',\n",
       " '33NUB',\n",
       " '33MTS',\n",
       " '33NXC',\n",
       " '33NVE',\n",
       " '33NVA',\n",
       " '33NUC',\n",
       " '33NVB',\n",
       " '33MTT',\n",
       " '35NQC',\n",
       " '35NPB',\n",
       " '35NPA',\n",
       " '35NQB',\n",
       " '35NNC',\n",
       " '35NPC',\n",
       " '35NNB',\n",
       " '35NND',\n",
       " '35NNA',\n",
       " '35NQA',\n",
       " '35MMR',\n",
       " '35MNV',\n",
       " '35MMV',\n",
       " '35NMC',\n",
       " '35MNT',\n",
       " '35MNS',\n",
       " '35MNU',\n",
       " '35MMT',\n",
       " '35NMA',\n",
       " '35MPV',\n",
       " '33NVD',\n",
       " '35MMS',\n",
       " '35MMU',\n",
       " '35NMB',\n",
       " '35MPU',\n",
       " '35MPT',\n",
       " '35NMD',\n",
       " '35MPS',\n",
       " '35NLA',\n",
       " '35MPR',\n",
       " '35MQV',\n",
       " '35MLU',\n",
       " '35MLV',\n",
       " '35MLS',\n",
       " '35MLT',\n",
       " '33MXV',\n",
       " '33NWB',\n",
       " '33NWC',\n",
       " '33MWV',\n",
       " '33NYC',\n",
       " '34MCD',\n",
       " '34NFJ',\n",
       " '34NCG',\n",
       " '34NCH',\n",
       " '34NDJ',\n",
       " '34MBC',\n",
       " '34MBD',\n",
       " '34MCE',\n",
       " '34NFK',\n",
       " '34MDD',\n",
       " '34NEG',\n",
       " '34NDH',\n",
       " '34NBF',\n",
       " '34MED',\n",
       " '34NEJ',\n",
       " '34NBH',\n",
       " '34NCJ',\n",
       " '34NDF',\n",
       " '34MDC',\n",
       " '34NDG',\n",
       " '34NBJ',\n",
       " '34NEH',\n",
       " '34NCF',\n",
       " '34MDE',\n",
       " '34MEE',\n",
       " '34MBE',\n",
       " '33MZT',\n",
       " '33MZV',\n",
       " '34NEF',\n",
       " '34MCC',\n",
       " '33NZA',\n",
       " '33MZU',\n",
       " '34NBG',\n",
       " '34MDA',\n",
       " '34MCA',\n",
       " '34MDB',\n",
       " '34MCB',\n",
       " '34MBB',\n",
       " '34MDV',\n",
       " '32NPM',\n",
       " '32NNM',\n",
       " '32NNL',\n",
       " '32MRE',\n",
       " '32NQF',\n",
       " '33NUD',\n",
       " '32NRG',\n",
       " '32NRL',\n",
       " '33NTE',\n",
       " '33MUU',\n",
       " '32NRJ',\n",
       " '32NRH',\n",
       " '32MPC',\n",
       " '32MRC',\n",
       " '33MUT',\n",
       " '33NTF',\n",
       " '32MQB',\n",
       " '33NUE',\n",
       " '33NTC',\n",
       " '32MQE',\n",
       " '33NUF',\n",
       " '32NQJ',\n",
       " '32NQG',\n",
       " '32MRD',\n",
       " '33NTA',\n",
       " '32MQC',\n",
       " '32MRB',\n",
       " '32MPE',\n",
       " '32MQD',\n",
       " '33NTD',\n",
       " '32NQH',\n",
       " '32NRK',\n",
       " '32MPB',\n",
       " '32NRF',\n",
       " '32MPD',\n",
       " '33MTV',\n",
       " '33NTB',\n",
       " '33MTQ',\n",
       " '34MHC',\n",
       " '35NKA',\n",
       " '34MGU',\n",
       " '34NGF',\n",
       " '34MFA',\n",
       " '34MGE',\n",
       " '35NKC',\n",
       " '35NLB',\n",
       " '35NLC',\n",
       " '35MKU',\n",
       " '35MKT',\n",
       " '35NKB',\n",
       " '35MKV',\n",
       " '35NKD',\n",
       " '35NLE',\n",
       " '35NLD',\n",
       " '35NKE',\n",
       " '34NHG',\n",
       " '34NHH',\n",
       " '34NHF',\n",
       " '34MHD',\n",
       " '34MHE',\n",
       " '34MHA',\n",
       " '34MGV',\n",
       " '34MHB',\n",
       " '34MGB',\n",
       " '34MGA',\n",
       " '34MGC',\n",
       " '34MGD',\n",
       " '34NHJ',\n",
       " '34MFU',\n",
       " '34MFV',\n",
       " '34NHK',\n",
       " '34MFB',\n",
       " '34NHL',\n",
       " '33MYV',\n",
       " '33MYU',\n",
       " '33NZD',\n",
       " '33NZC',\n",
       " '33NYB',\n",
       " '33NZB',\n",
       " '33NYA',\n",
       " '34MEA',\n",
       " '34NGG',\n",
       " '34MFE',\n",
       " '34MFD',\n",
       " '34NGL',\n",
       " '34NFF',\n",
       " '34MEU',\n",
       " '34NGJ',\n",
       " '34NGH',\n",
       " '34NEK',\n",
       " '34MFC',\n",
       " '34MEC',\n",
       " '34MEB',\n",
       " '34NGK',\n",
       " '34NFH',\n",
       " '34NFG',\n",
       " '34MEV',\n",
       " '32NPG',\n",
       " '32NQL',\n",
       " '32NPH',\n",
       " '32NQK',\n",
       " '32NPF',\n",
       " '32NPL',\n",
       " '32NPJ',\n",
       " '32NPK',\n",
       " '32NMM',\n",
       " '32NML',\n",
       " '32NLL',\n",
       " '32NNK',\n",
       " '32NMK',\n",
       " '34MHV',\n",
       " '33NTG',\n",
       " '35NKF',\n",
       " '34NFL',\n",
       " '35MNR',\n",
       " '34MGT',\n",
       " '33NVF',\n",
       " '34MBA',\n",
       " '35MKS',\n",
       " '34MCV',\n",
       " '33MVV',\n",
       " '32NQM',\n",
       " '32NRM',\n",
       " '32NNG',\n",
       " '33MXT',\n",
       " '33MYT',\n",
       " '32NNH',\n",
       " '33MZS',\n",
       " '33NZE',\n",
       " '32MNE',\n",
       " '34MET',\n",
       " '34MDT']"
      ]
     },
     "execution_count": 9,
     "metadata": {},
     "output_type": "execute_result"
    }
   ],
   "source": [
    "tile_ids_2 = [tile.split('\\n')[0] for tile in tile_ids]\n",
    "\n",
    "tile_ids_2"
   ]
  },
  {
   "cell_type": "code",
   "execution_count": 10,
   "metadata": {},
   "outputs": [
    {
     "data": {
      "text/html": [
       "<div>\n",
       "<style scoped>\n",
       "    .dataframe tbody tr th:only-of-type {\n",
       "        vertical-align: middle;\n",
       "    }\n",
       "\n",
       "    .dataframe tbody tr th {\n",
       "        vertical-align: top;\n",
       "    }\n",
       "\n",
       "    .dataframe thead th {\n",
       "        text-align: right;\n",
       "    }\n",
       "</style>\n",
       "<table border=\"1\" class=\"dataframe\">\n",
       "  <thead>\n",
       "    <tr style=\"text-align: right;\">\n",
       "      <th></th>\n",
       "      <th>tile_id</th>\n",
       "    </tr>\n",
       "  </thead>\n",
       "  <tbody>\n",
       "    <tr>\n",
       "      <th>0</th>\n",
       "      <td>nan</td>\n",
       "    </tr>\n",
       "    <tr>\n",
       "      <th>1</th>\n",
       "      <td>33NXD</td>\n",
       "    </tr>\n",
       "    <tr>\n",
       "      <th>2</th>\n",
       "      <td>33MXU</td>\n",
       "    </tr>\n",
       "    <tr>\n",
       "      <th>3</th>\n",
       "      <td>33NUA</td>\n",
       "    </tr>\n",
       "    <tr>\n",
       "      <th>4</th>\n",
       "      <td>33NWE</td>\n",
       "    </tr>\n",
       "  </tbody>\n",
       "</table>\n",
       "</div>"
      ],
      "text/plain": [
       "  tile_id\n",
       "0     nan\n",
       "1   33NXD\n",
       "2   33MXU\n",
       "3   33NUA\n",
       "4   33NWE"
      ]
     },
     "execution_count": 10,
     "metadata": {},
     "output_type": "execute_result"
    }
   ],
   "source": [
    "# I need to limit the EE Index only to congo basin rows.\n",
    "# So let's put this list into a dataframe and merge it with the EE Index.\n",
    "\n",
    "tile_df = pd.DataFrame()\n",
    "\n",
    "tile_df['tile_id'] = tile_ids_2\n",
    "\n",
    "tile_df.head()"
   ]
  },
  {
   "cell_type": "code",
   "execution_count": 16,
   "metadata": {},
   "outputs": [],
   "source": [
    "ee_index_2 = ee_index.reset_index()\n",
    "\n",
    "merged = tile_df.merge(ee_index_2, left_on='tile_id', right_on='MGRS_TILE')\n",
    "# drop duplicates, since we only need one row per tile ID\n",
    "merged2 = merged.drop_duplicates(subset=['MGRS_TILE'])\n",
    "# To download the products, we just need a list of row numbers\n",
    "rows = merged2['index'].tolist()"
   ]
  },
  {
   "cell_type": "code",
   "execution_count": 17,
   "metadata": {},
   "outputs": [
    {
     "data": {
      "text/plain": [
       "234"
      ]
     },
     "execution_count": 17,
     "metadata": {},
     "output_type": "execute_result"
    }
   ],
   "source": [
    "len(rows)"
   ]
  },
  {
   "cell_type": "code",
   "execution_count": 18,
   "metadata": {},
   "outputs": [
    {
     "data": {
      "text/plain": [
       "235"
      ]
     },
     "execution_count": 18,
     "metadata": {},
     "output_type": "execute_result"
    }
   ],
   "source": [
    "len(tile_ids_2)"
   ]
  },
  {
   "cell_type": "code",
   "execution_count": 3,
   "metadata": {},
   "outputs": [],
   "source": [
    "# Copy functions from the \"Download TCI Files with Google API\" notebook and run the second one\n",
    "\n",
    "def generate_tci_uri(ee_index, row):\n",
    "    uri = ee_index.loc[row, 'BASE_URL']\n",
    "    uri += '/GRANULE/'\n",
    "    granule_id = ee_index.loc[row, 'GRANULE_ID']\n",
    "    uri += granule_id\n",
    "    uri += '/IMG_DATA/'\n",
    "    tile_id = granule_id.split('_')[1]\n",
    "    date = ee_index.loc[row, 'DATATAKE_IDENTIFIER'].split('_')[1]\n",
    "    uri += f'{tile_id}_{date}_TCI.jp2'\n",
    "    \n",
    "    return uri\n",
    "\n",
    "\n",
    "def download_tcis(ee_index, rows, dest_folder):\n",
    "    \n",
    "    cloud_env = r\"C:\\Users\\David\\AppData\\Local\\Google\\Cloud SDK\\cloud_env.bat\"\n",
    "    \n",
    "    for row in rows:\n",
    "        uri = generate_tci_uri(ee_index, row)\n",
    "        subprocess.run([cloud_env, '&&', 'gsutil', 'cp', uri, dest_folder])"
   ]
  },
  {
   "cell_type": "code",
   "execution_count": 20,
   "metadata": {},
   "outputs": [],
   "source": [
    "download_tcis(ee_index, rows, 'D:/canopy_data/full_basin_test/')"
   ]
  },
  {
   "cell_type": "markdown",
   "metadata": {},
   "source": [
    "### Download new tiles"
   ]
  },
  {
   "cell_type": "code",
   "execution_count": 44,
   "metadata": {},
   "outputs": [],
   "source": [
    "# After running the code in \"mgrs-test\", I now have additional tile IDs.\n",
    "# I want to download these, but only the ones I didn't already download.\n",
    "\n",
    "ee_index = pd.read_csv('earth-engine-index.csv')"
   ]
  },
  {
   "cell_type": "code",
   "execution_count": 26,
   "metadata": {},
   "outputs": [],
   "source": [
    "with open('tile_ids.txt') as f:\n",
    "    tile_ids = f.readlines()\n",
    "    \n",
    "with open('tile_ids_2.txt') as f2:\n",
    "    tile_ids_2 = f2.readlines()"
   ]
  },
  {
   "cell_type": "code",
   "execution_count": 27,
   "metadata": {},
   "outputs": [],
   "source": [
    "tile_ids = [tile.split('\\n')[0] for tile in tile_ids]\n",
    "tile_ids.pop(0)\n",
    "\n",
    "tile_ids_2 = [tile.split('\\n')[0] for tile in tile_ids_2]"
   ]
  },
  {
   "cell_type": "code",
   "execution_count": 30,
   "metadata": {},
   "outputs": [],
   "source": [
    "# I need the tile IDs in tile_ids_2 that aren't in tile_ids\n",
    "# https://stackoverflow.com/a/2104348/12685847\n",
    "\n",
    "tile_ids_3 = set(tile_ids_2) - set(tile_ids)"
   ]
  },
  {
   "cell_type": "code",
   "execution_count": 31,
   "metadata": {},
   "outputs": [
    {
     "ename": "AssertionError",
     "evalue": "",
     "output_type": "error",
     "traceback": [
      "\u001b[1;31m---------------------------------------------------------------------------\u001b[0m",
      "\u001b[1;31mAssertionError\u001b[0m                            Traceback (most recent call last)",
      "\u001b[1;32m<ipython-input-31-46015d19c3ad>\u001b[0m in \u001b[0;36m<module>\u001b[1;34m\u001b[0m\n\u001b[1;32m----> 1\u001b[1;33m \u001b[1;32massert\u001b[0m \u001b[0mlen\u001b[0m\u001b[1;33m(\u001b[0m\u001b[0mtile_ids_2\u001b[0m\u001b[1;33m)\u001b[0m \u001b[1;33m-\u001b[0m \u001b[0mlen\u001b[0m\u001b[1;33m(\u001b[0m\u001b[0mtile_ids\u001b[0m\u001b[1;33m)\u001b[0m \u001b[1;33m-\u001b[0m \u001b[1;36m1\u001b[0m \u001b[1;33m==\u001b[0m \u001b[0mlen\u001b[0m\u001b[1;33m(\u001b[0m\u001b[0mtile_ids_3\u001b[0m\u001b[1;33m)\u001b[0m\u001b[1;33m\u001b[0m\u001b[1;33m\u001b[0m\u001b[0m\n\u001b[0m",
      "\u001b[1;31mAssertionError\u001b[0m: "
     ]
    }
   ],
   "source": [
    "assert len(tile_ids_2) - len(tile_ids) - 1 == len(tile_ids_3)\n",
    "\n",
    "# Hmm...what happened?"
   ]
  },
  {
   "cell_type": "code",
   "execution_count": 32,
   "metadata": {},
   "outputs": [
    {
     "data": {
      "text/plain": [
       "234"
      ]
     },
     "execution_count": 32,
     "metadata": {},
     "output_type": "execute_result"
    }
   ],
   "source": [
    "len(tile_ids)"
   ]
  },
  {
   "cell_type": "code",
   "execution_count": 33,
   "metadata": {},
   "outputs": [
    {
     "data": {
      "text/plain": [
       "335"
      ]
     },
     "execution_count": 33,
     "metadata": {},
     "output_type": "execute_result"
    }
   ],
   "source": [
    "len(tile_ids_2)"
   ]
  },
  {
   "cell_type": "code",
   "execution_count": 34,
   "metadata": {},
   "outputs": [
    {
     "data": {
      "text/plain": [
       "104"
      ]
     },
     "execution_count": 34,
     "metadata": {},
     "output_type": "execute_result"
    }
   ],
   "source": [
    "len(tile_ids_3)"
   ]
  },
  {
   "cell_type": "code",
   "execution_count": 35,
   "metadata": {},
   "outputs": [
    {
     "data": {
      "text/plain": [
       "['33NXD',\n",
       " '33MXU',\n",
       " '33NUA',\n",
       " '33NWE',\n",
       " '33MUV',\n",
       " '33NXA',\n",
       " '33NVC',\n",
       " '33NWA',\n",
       " '33NYE',\n",
       " '33NWD',\n",
       " '33NYD',\n",
       " '33NXE',\n",
       " '33MTU',\n",
       " '33NXB',\n",
       " '32MRV',\n",
       " '33NUB',\n",
       " '33MTS',\n",
       " '33NXC',\n",
       " '33NVE',\n",
       " '33NVA',\n",
       " '33NUC',\n",
       " '33NVB',\n",
       " '33MTT',\n",
       " '35NQC',\n",
       " '35NPB',\n",
       " '35NPA',\n",
       " '35NQB',\n",
       " '35NNC',\n",
       " '35NPC',\n",
       " '35NNB',\n",
       " '35NND',\n",
       " '35NNA',\n",
       " '35NQA',\n",
       " '35MMR',\n",
       " '35MNV',\n",
       " '35MMV',\n",
       " '35NMC',\n",
       " '35MNT',\n",
       " '35MNS',\n",
       " '35MNU',\n",
       " '35MMT',\n",
       " '35NMA',\n",
       " '35MPV',\n",
       " '33NVD',\n",
       " '35MMS',\n",
       " '35MMU',\n",
       " '35NMB',\n",
       " '35MPU',\n",
       " '35MPT',\n",
       " '35NMD',\n",
       " '35MPS',\n",
       " '35NLA',\n",
       " '35MPR',\n",
       " '35MQV',\n",
       " '35MLU',\n",
       " '35MLV',\n",
       " '35MLS',\n",
       " '35MLT',\n",
       " '33MXV',\n",
       " '33NWB',\n",
       " '33NWC',\n",
       " '33MWV',\n",
       " '33NYC',\n",
       " '34MCD',\n",
       " '34NFJ',\n",
       " '34NCG',\n",
       " '34NCH',\n",
       " '34NDJ',\n",
       " '34MBC',\n",
       " '34MBD',\n",
       " '34MCE',\n",
       " '34NFK',\n",
       " '34MDD',\n",
       " '34NEG',\n",
       " '34NDH',\n",
       " '34NBF',\n",
       " '34MED',\n",
       " '34NEJ',\n",
       " '34NBH',\n",
       " '34NCJ',\n",
       " '34NDF',\n",
       " '34MDC',\n",
       " '34NDG',\n",
       " '34NBJ',\n",
       " '34NEH',\n",
       " '34NCF',\n",
       " '34MDE',\n",
       " '34MEE',\n",
       " '34MBE',\n",
       " '33MZT',\n",
       " '33MZV',\n",
       " '34NEF',\n",
       " '34MCC',\n",
       " '33NZA',\n",
       " '33MZU',\n",
       " '34NBG',\n",
       " '34MDA',\n",
       " '34MCA',\n",
       " '34MDB',\n",
       " '34MCB',\n",
       " '34MBB',\n",
       " '34MDV',\n",
       " '32NPM',\n",
       " '32NNM',\n",
       " '32NNL',\n",
       " '32MRE',\n",
       " '32NQF',\n",
       " '33NUD',\n",
       " '32NRG',\n",
       " '32NRL',\n",
       " '33NTE',\n",
       " '33MUU',\n",
       " '32NRJ',\n",
       " '32NRH',\n",
       " '32MPC',\n",
       " '32MRC',\n",
       " '33MUT',\n",
       " '33NTF',\n",
       " '32MQB',\n",
       " '33NUE',\n",
       " '33NTC',\n",
       " '32MQE',\n",
       " '33NUF',\n",
       " '32NQJ',\n",
       " '32NQG',\n",
       " '32MRD',\n",
       " '33NTA',\n",
       " '32MQC',\n",
       " '32MRB',\n",
       " '32MPE',\n",
       " '32MQD',\n",
       " '33NTD',\n",
       " '32NQH',\n",
       " '32NRK',\n",
       " '32MPB',\n",
       " '32NRF',\n",
       " '32MPD',\n",
       " '33MTV',\n",
       " '33NTB',\n",
       " '33MTQ',\n",
       " '34MHC',\n",
       " '35NKA',\n",
       " '34MGU',\n",
       " '34NGF',\n",
       " '34MFA',\n",
       " '34MGE',\n",
       " '35NKC',\n",
       " '35NLB',\n",
       " '35NLC',\n",
       " '35MKU',\n",
       " '35MKT',\n",
       " '35NKB',\n",
       " '35MKV',\n",
       " '35NKD',\n",
       " '35NLE',\n",
       " '35NLD',\n",
       " '35NKE',\n",
       " '34NHG',\n",
       " '34NHH',\n",
       " '34NHF',\n",
       " '34MHD',\n",
       " '34MHE',\n",
       " '34MHA',\n",
       " '34MGV',\n",
       " '34MHB',\n",
       " '34MGB',\n",
       " '34MGA',\n",
       " '34MGC',\n",
       " '34MGD',\n",
       " '34NHJ',\n",
       " '34MFU',\n",
       " '34MFV',\n",
       " '34NHK',\n",
       " '34MFB',\n",
       " '34NHL',\n",
       " '33MYV',\n",
       " '33MYU',\n",
       " '33NZD',\n",
       " '33NZC',\n",
       " '33NYB',\n",
       " '33NZB',\n",
       " '33NYA',\n",
       " '34MEA',\n",
       " '34NGG',\n",
       " '34MFE',\n",
       " '34MFD',\n",
       " '34NGL',\n",
       " '34NFF',\n",
       " '34MEU',\n",
       " '34NGJ',\n",
       " '34NGH',\n",
       " '34NEK',\n",
       " '34MFC',\n",
       " '34MEC',\n",
       " '34MEB',\n",
       " '34NGK',\n",
       " '34NFH',\n",
       " '34NFG',\n",
       " '34MEV',\n",
       " '32NPG',\n",
       " '32NQL',\n",
       " '32NPH',\n",
       " '32NQK',\n",
       " '32NPF',\n",
       " '32NPL',\n",
       " '32NPJ',\n",
       " '32NPK',\n",
       " '32NMM',\n",
       " '32NML',\n",
       " '32NLL',\n",
       " '32NNK',\n",
       " '32NMK',\n",
       " '34MHV',\n",
       " '33NTG',\n",
       " '35NKF',\n",
       " '34NFL',\n",
       " '35MNR',\n",
       " '34MGT',\n",
       " '33NVF',\n",
       " '34MBA',\n",
       " '35MKS',\n",
       " '34MCV',\n",
       " '33MVV',\n",
       " '32NQM',\n",
       " '32NRM',\n",
       " '32NNG',\n",
       " '33MXT',\n",
       " '33MYT',\n",
       " '32NNH',\n",
       " '33MZS',\n",
       " '33NZE',\n",
       " '32MNE',\n",
       " '34MET',\n",
       " '34MDT']"
      ]
     },
     "execution_count": 35,
     "metadata": {},
     "output_type": "execute_result"
    }
   ],
   "source": [
    "tile_ids"
   ]
  },
  {
   "cell_type": "code",
   "execution_count": 36,
   "metadata": {},
   "outputs": [
    {
     "data": {
      "text/plain": [
       "['34MEE',\n",
       " '35MJV',\n",
       " '33MZU',\n",
       " '35MLT',\n",
       " '34MBV',\n",
       " '34MFA',\n",
       " '34NAG',\n",
       " '32NPH',\n",
       " '33NSF',\n",
       " '35MPU',\n",
       " '34MBE',\n",
       " '32MRE',\n",
       " '34NFH',\n",
       " '35MKP',\n",
       " '32NRH',\n",
       " '33NTF',\n",
       " '32NMN',\n",
       " '35NLA',\n",
       " '35NME',\n",
       " '33MUR',\n",
       " '33MWU',\n",
       " '33MTV',\n",
       " '34MCC',\n",
       " '36NSH',\n",
       " '32NNF',\n",
       " '32NPF',\n",
       " '35NPA',\n",
       " '35MNR',\n",
       " '33MUT',\n",
       " '35MKU',\n",
       " '35NLE',\n",
       " '33NSD',\n",
       " '34NAK',\n",
       " '33NTD',\n",
       " '34MGD',\n",
       " '35NMB',\n",
       " '35MJR',\n",
       " '33NWF',\n",
       " '33MZV',\n",
       " '33NUD',\n",
       " '32NQM',\n",
       " '34NFK',\n",
       " '33NVA',\n",
       " '33MYT',\n",
       " '35NLC',\n",
       " '34MBC',\n",
       " '34MDU',\n",
       " '35MPS',\n",
       " '34MAD',\n",
       " '35NKC',\n",
       " '33MUQ',\n",
       " '33NSE',\n",
       " '35MQR',\n",
       " '34NEK',\n",
       " '32NML',\n",
       " '34NAF',\n",
       " '34NAJ',\n",
       " '35NKB',\n",
       " '33NUA',\n",
       " '33NTA',\n",
       " '33MXV',\n",
       " '34NDJ',\n",
       " '33MTU',\n",
       " '34MEV',\n",
       " '34MEU',\n",
       " '34MEC',\n",
       " '34NEF',\n",
       " '33NVC',\n",
       " '34NGK',\n",
       " '33NXE',\n",
       " '35NMD',\n",
       " '34MGE',\n",
       " '35NRB',\n",
       " '33NXD',\n",
       " '33MTQ',\n",
       " '33NSG',\n",
       " '34NHM',\n",
       " '34NGF',\n",
       " '35NJE',\n",
       " '34MHE',\n",
       " '34MCA',\n",
       " '33MST',\n",
       " '35MKR',\n",
       " '34MAC',\n",
       " '32MRC',\n",
       " '33NWB',\n",
       " '35NLB',\n",
       " '35MNU',\n",
       " '33MSS',\n",
       " '34NGL',\n",
       " '32NQL',\n",
       " '32NQG',\n",
       " '35NPB',\n",
       " '33MSQ',\n",
       " '34NCF',\n",
       " '33NZF',\n",
       " '33NUE',\n",
       " '33MZS',\n",
       " '33MUP',\n",
       " '35NJA',\n",
       " '34MCE',\n",
       " '33NSB',\n",
       " '35MMR',\n",
       " '33MYV',\n",
       " '32MPA',\n",
       " '35MQS',\n",
       " '34MEA',\n",
       " '33MUU',\n",
       " '35MQU',\n",
       " '34MDC',\n",
       " '35NPD',\n",
       " '32NPM',\n",
       " '32NLL',\n",
       " '33NTB',\n",
       " '35NNA',\n",
       " '32MPE',\n",
       " '32NQH',\n",
       " '32NQF',\n",
       " '35MJS',\n",
       " '32NPK',\n",
       " '34MCV',\n",
       " '33NYF',\n",
       " '32NRM',\n",
       " '34NDK',\n",
       " '35MPV',\n",
       " '33NWE',\n",
       " '34MFD',\n",
       " '35NMC',\n",
       " '32NPJ',\n",
       " '33MTP',\n",
       " '32NRG',\n",
       " '34MEB',\n",
       " '35NKA',\n",
       " '32MQC',\n",
       " '33NUB',\n",
       " '34NFM',\n",
       " '32MME',\n",
       " '33NTC',\n",
       " '34MHA',\n",
       " '33MXT',\n",
       " '32MQE',\n",
       " '33MSV',\n",
       " '33NZC',\n",
       " '33NZA',\n",
       " '35NQC',\n",
       " '33MWV',\n",
       " '34MAE',\n",
       " '34MHB',\n",
       " '34MFU',\n",
       " '35MQT',\n",
       " '32NPL',\n",
       " '34NCG',\n",
       " '33NVG',\n",
       " '34MAA',\n",
       " '34NEG',\n",
       " '34NHK',\n",
       " '33MSP',\n",
       " '35NLD',\n",
       " '34NEH',\n",
       " '33MYU',\n",
       " '35MLS',\n",
       " '34NBF',\n",
       " '35MMU',\n",
       " '34MFV',\n",
       " '33MSR',\n",
       " '34MBD',\n",
       " '33MTR',\n",
       " '33NXC',\n",
       " '34MDV',\n",
       " '34MFC',\n",
       " '35NNC',\n",
       " '33MSU',\n",
       " '32NRK',\n",
       " '33NUF',\n",
       " '35NNE',\n",
       " '32MMD',\n",
       " '33NYE',\n",
       " '35MJP',\n",
       " '33NTH',\n",
       " '35NKF',\n",
       " '33NWC',\n",
       " '33NYC',\n",
       " '35NJG',\n",
       " '32NNN',\n",
       " '33NVD',\n",
       " '34MFE',\n",
       " '32MPC',\n",
       " '32MRA',\n",
       " '33NSC',\n",
       " '35NQA',\n",
       " '32NPG',\n",
       " '33NUG',\n",
       " '35MMT',\n",
       " '32MRB',\n",
       " '35MLR',\n",
       " '35NLF',\n",
       " '32MNE',\n",
       " '35MLQ',\n",
       " '34MHC',\n",
       " '34NHL',\n",
       " '33NVF',\n",
       " '32NRF',\n",
       " '32NQK',\n",
       " '32MQB',\n",
       " '34NFJ',\n",
       " '34NDF',\n",
       " '34MGA',\n",
       " '35MKT',\n",
       " '32NLM',\n",
       " '34MHU',\n",
       " '32NNM',\n",
       " '34NGG',\n",
       " '34MHV',\n",
       " '32MNC',\n",
       " '34NAH',\n",
       " '32NNK',\n",
       " '36NSG',\n",
       " '33NXB',\n",
       " '34NBH',\n",
       " '33NWA',\n",
       " '34MCU',\n",
       " '34NCJ',\n",
       " '35MJT',\n",
       " '34NCH',\n",
       " '34NFL',\n",
       " '34NHF',\n",
       " '35NJB',\n",
       " '34MBA',\n",
       " '35MMS',\n",
       " '32MQD',\n",
       " '32MRD',\n",
       " '35MNT',\n",
       " '34MBB',\n",
       " '35NKG',\n",
       " '35NJD',\n",
       " '34MHD',\n",
       " '35NND',\n",
       " '35NMA',\n",
       " '33NXF',\n",
       " '35MMV',\n",
       " '32NRL',\n",
       " '34NGH',\n",
       " '32NRJ',\n",
       " '34NBG',\n",
       " '34MCD',\n",
       " '34NGM',\n",
       " '35NMF',\n",
       " '33NTE',\n",
       " '33NUC',\n",
       " '33NTG',\n",
       " '34NHG',\n",
       " '33NXA',\n",
       " '34NDH',\n",
       " '33NZE',\n",
       " '33MTT',\n",
       " '33NZD',\n",
       " '33MUS',\n",
       " '34MFB',\n",
       " '34MGU',\n",
       " '35MNS',\n",
       " '35NQB',\n",
       " '33NSA',\n",
       " '35NPC',\n",
       " '32NNL',\n",
       " '35MNV',\n",
       " '33MZT',\n",
       " '35MLV',\n",
       " '32MQV',\n",
       " '33NVE',\n",
       " '35NKD',\n",
       " '35MKS',\n",
       " '32MPB',\n",
       " '34NDG',\n",
       " '34MGC',\n",
       " '35MNQ',\n",
       " '35MJQ',\n",
       " '33MVU',\n",
       " '34NFG',\n",
       " '34NFF',\n",
       " '34MDE',\n",
       " '32NNJ',\n",
       " '32MRV',\n",
       " '35MPR',\n",
       " '34NCK',\n",
       " '34NBJ',\n",
       " '32MQA',\n",
       " '34MED',\n",
       " '35NJC',\n",
       " '32MND',\n",
       " '33NYB',\n",
       " '33NUH',\n",
       " '34MAB',\n",
       " '33NYA',\n",
       " '35MKQ',\n",
       " '32NQJ',\n",
       " '34NGJ',\n",
       " '34MDA',\n",
       " '32NMM',\n",
       " '35MPT',\n",
       " '34NHH',\n",
       " '32NPN',\n",
       " '33MXU',\n",
       " '32MPD',\n",
       " '33MVV',\n",
       " '34MDB',\n",
       " '34MDD',\n",
       " '34MGB',\n",
       " '34MCB',\n",
       " '35MMQ',\n",
       " '32NMK',\n",
       " '35NRA',\n",
       " '34NEJ',\n",
       " '35MLU',\n",
       " '34MGV',\n",
       " '35NJF',\n",
       " '35MRV',\n",
       " '32NNH',\n",
       " '34NHJ',\n",
       " '35MQV',\n",
       " '33MUV',\n",
       " '33NWD',\n",
       " '35MKV',\n",
       " '33NYD',\n",
       " '35NQD',\n",
       " '33MYS',\n",
       " '33NVB',\n",
       " '32NNG',\n",
       " '35NRC',\n",
       " '35NNB',\n",
       " '34NEL',\n",
       " '33NZB',\n",
       " '33MTS',\n",
       " '34NBK',\n",
       " '35NKE',\n",
       " '35MJU']"
      ]
     },
     "execution_count": 36,
     "metadata": {},
     "output_type": "execute_result"
    }
   ],
   "source": [
    "tile_ids_2"
   ]
  },
  {
   "cell_type": "code",
   "execution_count": 37,
   "metadata": {},
   "outputs": [
    {
     "data": {
      "text/plain": [
       "234"
      ]
     },
     "execution_count": 37,
     "metadata": {},
     "output_type": "execute_result"
    }
   ],
   "source": [
    "len(set(tile_ids))"
   ]
  },
  {
   "cell_type": "code",
   "execution_count": 38,
   "metadata": {},
   "outputs": [
    {
     "data": {
      "text/plain": [
       "335"
      ]
     },
     "execution_count": 38,
     "metadata": {},
     "output_type": "execute_result"
    }
   ],
   "source": [
    "len(set(tile_ids_2))"
   ]
  },
  {
   "cell_type": "code",
   "execution_count": 40,
   "metadata": {},
   "outputs": [],
   "source": [
    "# Try a different method\n",
    "\n",
    "tile_ids_4 = [tile for tile in tile_ids_2 if tile not in tile_ids]"
   ]
  },
  {
   "cell_type": "code",
   "execution_count": 41,
   "metadata": {},
   "outputs": [
    {
     "data": {
      "text/plain": [
       "104"
      ]
     },
     "execution_count": 41,
     "metadata": {},
     "output_type": "execute_result"
    }
   ],
   "source": [
    "len(tile_ids_4)\n",
    "\n",
    "# Still has a weird length"
   ]
  },
  {
   "cell_type": "code",
   "execution_count": 42,
   "metadata": {},
   "outputs": [
    {
     "data": {
      "text/plain": [
       "101"
      ]
     },
     "execution_count": 42,
     "metadata": {},
     "output_type": "execute_result"
    }
   ],
   "source": [
    "335 - 234\n",
    "\n",
    "# Well whatever...let's just go with it"
   ]
  },
  {
   "cell_type": "code",
   "execution_count": 45,
   "metadata": {},
   "outputs": [
    {
     "data": {
      "text/plain": [
       "64"
      ]
     },
     "execution_count": 45,
     "metadata": {},
     "output_type": "execute_result"
    }
   ],
   "source": [
    "tile_df = pd.DataFrame()\n",
    "\n",
    "tile_df['tile_id'] = tile_ids_4\n",
    "\n",
    "ee_index_2 = ee_index.reset_index()\n",
    "\n",
    "merged = tile_df.merge(ee_index_2, left_on='tile_id', right_on='MGRS_TILE')\n",
    "merged2 = merged.drop_duplicates(subset=['MGRS_TILE'])\n",
    "rows = merged2['index'].tolist()\n",
    "\n",
    "len(rows)\n",
    "\n",
    "# Only 64 of them are even in the EE Index"
   ]
  },
  {
   "cell_type": "code",
   "execution_count": 46,
   "metadata": {},
   "outputs": [],
   "source": [
    "download_tcis(ee_index, rows, 'D:/canopy_data/full_basin_test/')"
   ]
  },
  {
   "cell_type": "code",
   "execution_count": null,
   "metadata": {},
   "outputs": [],
   "source": []
  }
 ],
 "metadata": {
  "kernelspec": {
   "display_name": "canopy-conda",
   "language": "python",
   "name": "canopy_conda"
  },
  "language_info": {
   "codemirror_mode": {
    "name": "ipython",
    "version": 3
   },
   "file_extension": ".py",
   "mimetype": "text/x-python",
   "name": "python",
   "nbconvert_exporter": "python",
   "pygments_lexer": "ipython3",
   "version": "3.8.5"
  }
 },
 "nbformat": 4,
 "nbformat_minor": 4
}
