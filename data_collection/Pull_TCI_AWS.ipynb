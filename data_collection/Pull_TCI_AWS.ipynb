{
 "cells": [
  {
   "cell_type": "code",
   "execution_count": 1,
   "metadata": {},
   "outputs": [],
   "source": [
    "import glob\n",
    "import shutil"
   ]
  },
  {
   "cell_type": "code",
   "execution_count": 11,
   "metadata": {},
   "outputs": [],
   "source": [
    "TCI_files = glob.glob(\"/Volumes/Lacie/zhenyadata/Project_Canopy_Data/Data/Sentinel_Data/ROC/L2A/2020/*/*/*/*TCI_10m.jp2\",recursive=True)"
   ]
  },
  {
   "cell_type": "code",
   "execution_count": 12,
   "metadata": {},
   "outputs": [],
   "source": [
    "# TCI_test = ' '.join(map(str, TCI_test[0:3]))"
   ]
  },
  {
   "cell_type": "code",
   "execution_count": 13,
   "metadata": {},
   "outputs": [],
   "source": [
    "destination = \"/Volumes/Lacie/zhenyadata/Project_Canopy_Data/Data/Sentinel_Data/TCI/ROC/L2A/2020/\"\n",
    "\n",
    "for index,TCI_file in enumerate(TCI_files):\n",
    "    shutil.copyfile(TCI_file, destination + TCI_files[index].split(\"/\")[-1]) "
   ]
  },
  {
   "cell_type": "code",
   "execution_count": null,
   "metadata": {},
   "outputs": [],
   "source": []
  }
 ],
 "metadata": {
  "kernelspec": {
   "display_name": "data_collection",
   "language": "python",
   "name": "data_collection"
  },
  "language_info": {
   "codemirror_mode": {
    "name": "ipython",
    "version": 3
   },
   "file_extension": ".py",
   "mimetype": "text/x-python",
   "name": "python",
   "nbconvert_exporter": "python",
   "pygments_lexer": "ipython3",
   "version": "3.7.4"
  }
 },
 "nbformat": 4,
 "nbformat_minor": 4
}
