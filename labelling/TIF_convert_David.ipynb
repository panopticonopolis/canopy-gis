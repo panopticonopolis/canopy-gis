{
 "cells": [
  {
   "cell_type": "code",
   "execution_count": 1,
   "metadata": {},
   "outputs": [],
   "source": [
    "from glob import glob\n",
    "import os\n",
    "import rasterio as rio\n",
    "import numpy as np"
   ]
  },
  {
   "cell_type": "code",
   "execution_count": 4,
   "metadata": {},
   "outputs": [],
   "source": [
    "## from TIF-to-JPG, with changes\n",
    "\n",
    "def add_trailing_slash(path):\n",
    "    if path[-1] != '/':\n",
    "        path += '/'\n",
    "    return path\n",
    "\n",
    "\n",
    "def create_dir(output_dir):\n",
    "    # If the output folder doesn't exist, create it\n",
    "    if not os.path.isdir(output_dir):\n",
    "        os.mkdir(output_dir)\n",
    "        \n",
    "        \n",
    "def convert_to_int8(input_dir, output_dir, bands=[6,7,8], child_dirs=True, windows=False,\n",
    "                    start=0, limit=None, delete_after=True):\n",
    "    \n",
    "    input_dir = add_trailing_slash(input_dir)\n",
    "    output_dir = add_trailing_slash(output_dir)\n",
    "    \n",
    "    create_dir(output_dir)\n",
    "    \n",
    "    if child_dirs:\n",
    "        file_list = glob(input_dir + \"*/*.tif\")\n",
    "    else:\n",
    "        file_list = glob(input_dir + '*.tif')\n",
    "        \n",
    "    size = len(file_list)\n",
    "        \n",
    "    if limit is None:\n",
    "        limit = size\n",
    "        \n",
    "    i = start\n",
    "    \n",
    "    for image_path in file_list[start:limit]:\n",
    "        i += 1\n",
    "        print(f'Processing raster {i} of {size}', end='\\r', flush=True)\n",
    "\n",
    "        if child_dirs:\n",
    "            new_dir = output_dir + image_path.split(\"/\")[-2]\n",
    "            new_dir = add_trailing_slash(new_dir)\n",
    "            create_dir(new_dir)\n",
    "        \n",
    "        if child_dirs:\n",
    "            if windows:\n",
    "                file_path_append = ('/').join(image_path.split('\\\\')[-2:])\n",
    "            else:\n",
    "                file_path_append = (\"/\").join(image_path.split(\"/\")[-2:])\n",
    "        else:\n",
    "            if windows:\n",
    "                file_path_append = image_path.split('\\\\')[-1]\n",
    "            else:\n",
    "                file_path_append = image_path.split('/')[-1]\n",
    "        \n",
    "        with rio.open(image_path, 'r') as r:\n",
    "            rast = r.read(bands)\n",
    "            rast = rast.astype(np.uint8)\n",
    "            r_meta = r.meta\n",
    "            r_meta[\"count\"] = len(bands)\n",
    "            r_meta[\"dtype\"] = 'uint8'\n",
    "\n",
    "        with rio.open(output_dir + file_path_append, 'w', **r_meta) as outf:\n",
    "            outf.write(rast)\n",
    "            \n",
    "        if delete_after:\n",
    "            os.remove(image_path)\n",
    "            \n",
    "    print('Finished')"
   ]
  },
  {
   "cell_type": "code",
   "execution_count": 3,
   "metadata": {},
   "outputs": [
    {
     "data": {
      "text/plain": [
       "'D:/canopy_data/google_ee_pipeline/v3\\\\full_basin_export_v3_no_colons\\\\1000_full_basin_export_v3_Dec_15_11_01_06_2020.tif'"
      ]
     },
     "execution_count": 3,
     "metadata": {},
     "output_type": "execute_result"
    }
   ],
   "source": [
    "input_dir = 'D:/canopy_data/google_ee_pipeline/v3/'\n",
    "\n",
    "file_list = glob(input_dir + '/*/*.tif')\n",
    "\n",
    "image_path = file_list[0]\n",
    "\n",
    "image_path"
   ]
  },
  {
   "cell_type": "code",
   "execution_count": 5,
   "metadata": {},
   "outputs": [
    {
     "data": {
      "text/plain": [
       "['D:/canopy_data/google_ee_pipeline/v3',\n",
       " 'full_basin_export_v3_no_colons',\n",
       " '1000_full_basin_export_v3_Dec_15_11_01_06_2020.tif']"
      ]
     },
     "execution_count": 5,
     "metadata": {},
     "output_type": "execute_result"
    }
   ],
   "source": [
    "image_path.split(\"\\\\\")"
   ]
  },
  {
   "cell_type": "code",
   "execution_count": 7,
   "metadata": {},
   "outputs": [
    {
     "data": {
      "text/plain": [
       "[0, 1, 2]"
      ]
     },
     "execution_count": 7,
     "metadata": {},
     "output_type": "execute_result"
    }
   ],
   "source": [
    "l = [0,1,2]\n",
    "\n",
    "limit = len(l)\n",
    "\n",
    "l[:limit]"
   ]
  },
  {
   "cell_type": "code",
   "execution_count": 9,
   "metadata": {},
   "outputs": [
    {
     "name": "stdout",
     "output_type": "stream",
     "text": [
      "D:/canopy_data/google_ee_pipeline/basemap/1000_full_basin_export_v3_Dec_15_11_01_06_2020.tif\n",
      "D:/canopy_data/google_ee_pipeline/basemap/1001_full_basin_export_v3_Dec_15_11_01_09_2020.tif\n",
      "D:/canopy_data/google_ee_pipeline/basemap/1002_full_basin_export_v3_Dec_15_11_01_14_2020.tif\n",
      "D:/canopy_data/google_ee_pipeline/basemap/1003_full_basin_export_v3_Dec_15_11_01_17_2020.tif\n",
      "D:/canopy_data/google_ee_pipeline/basemap/1004_full_basin_export_v3_Dec_15_11_01_20_2020.tif\n"
     ]
    }
   ],
   "source": [
    "input_dir = 'D:/canopy_data/google_ee_pipeline/v3/full_basin_export_v3_no_colons'\n",
    "\n",
    "output_dir = 'D:/canopy_data/google_ee_pipeline/basemap'\n",
    "\n",
    "convert_to_int8(input_dir, output_dir, False, True, limit=5)"
   ]
  },
  {
   "cell_type": "code",
   "execution_count": 11,
   "metadata": {},
   "outputs": [
    {
     "name": "stdout",
     "output_type": "stream",
     "text": [
      "Processing raster 2353 of 2354\r"
     ]
    }
   ],
   "source": [
    "convert_to_int8(input_dir, output_dir, False, True)"
   ]
  },
  {
   "cell_type": "markdown",
   "metadata": {},
   "source": [
    "## s2cloudless convert"
   ]
  },
  {
   "cell_type": "code",
   "execution_count": 6,
   "metadata": {},
   "outputs": [
    {
     "name": "stdout",
     "output_type": "stream",
     "text": [
      "Processing raster 3 of 4\r"
     ]
    }
   ],
   "source": [
    "input_dir = 'D:/canopy_data/s2_cloudless/test'\n",
    "\n",
    "output_dir = 'D:/canopy_data/s2_cloudless/test_output'\n",
    "\n",
    "convert_to_int8(input_dir, output_dir, bands=[8,9,10], child_dirs=False, windows=True)"
   ]
  },
  {
   "cell_type": "code",
   "execution_count": 7,
   "metadata": {},
   "outputs": [
    {
     "name": "stdout",
     "output_type": "stream",
     "text": [
      "Finishedng raster 2397 of 2397\n"
     ]
    }
   ],
   "source": [
    "base = 'D:/canopy_data/s2_cloudless/full_basin/'\n",
    "\n",
    "input_dir = base + 'full_congo_s2cloudless_2/'\n",
    "\n",
    "output_dir = base + 'full_congo_s2cloudless_3_bands/'\n",
    "\n",
    "convert_to_int8(input_dir, output_dir, bands=[8,9,10], child_dirs=False, windows=True)"
   ]
  },
  {
   "cell_type": "code",
   "execution_count": null,
   "metadata": {},
   "outputs": [],
   "source": []
  }
 ],
 "metadata": {
  "kernelspec": {
   "display_name": "canopy-conda",
   "language": "python",
   "name": "canopy_conda"
  },
  "language_info": {
   "codemirror_mode": {
    "name": "ipython",
    "version": 3
   },
   "file_extension": ".py",
   "mimetype": "text/x-python",
   "name": "python",
   "nbconvert_exporter": "python",
   "pygments_lexer": "ipython3",
   "version": "3.8.5"
  }
 },
 "nbformat": 4,
 "nbformat_minor": 4
}
