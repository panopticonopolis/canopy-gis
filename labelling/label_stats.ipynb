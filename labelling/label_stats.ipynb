{
 "cells": [
  {
   "cell_type": "code",
   "execution_count": 245,
   "metadata": {},
   "outputs": [],
   "source": [
    "# Generate Multiline Vector from Labelbox Labels\n",
    "\n",
    "from glob import glob\n",
    "import pandas as pd\n",
    "import json\n",
    "import rasterio as rio\n",
    "from shapely.geometry import LineString\n",
    "from shapely.geometry import Polygon\n",
    "from geopandas import GeoDataFrame\n",
    "import geopandas\n",
    "from shapely.ops import transform\n",
    "from functools import partial\n",
    "import pyproj\n",
    "import seaborn as sns\n",
    "import numpy as np\n",
    "import matplotlib.pyplot as plt\n",
    "\n",
    "# Extract Chips\n",
    "\n",
    "import gdal\n",
    "import os"
   ]
  },
  {
   "cell_type": "code",
   "execution_count": 2,
   "metadata": {},
   "outputs": [],
   "source": [
    "def add_trailing_slash(path):\n",
    "    if path[-1] != '/':\n",
    "        path += '/'\n",
    "    return path"
   ]
  },
  {
   "cell_type": "markdown",
   "metadata": {},
   "source": [
    "# Sum Length of Vectors"
   ]
  },
  {
   "cell_type": "code",
   "execution_count": 3,
   "metadata": {},
   "outputs": [],
   "source": [
    "file = \"/Volumes/Lacie/zhenyadata/Project_Canopy_Data/PC_Data/Sentinel_Data/GEE/vectors/all_vectors/ISL/1/1_ISL.shp\"\n",
    "\n",
    "gdf = geopandas.read_file(file)"
   ]
  },
  {
   "cell_type": "code",
   "execution_count": 4,
   "metadata": {},
   "outputs": [],
   "source": [
    "sample_line = gdf.loc[0]['geometry']"
   ]
  },
  {
   "cell_type": "code",
   "execution_count": 5,
   "metadata": {},
   "outputs": [],
   "source": [
    "def line_length(shapefile):\n",
    "    \n",
    "    # Geometry transform function based on pyproj.transform\n",
    "    project = partial(\n",
    "        pyproj.transform,\n",
    "        pyproj.Proj('EPSG:4326'),\n",
    "        pyproj.Proj('EPSG:32633'))\n",
    "    \n",
    "    gdf = geopandas.read_file(file)\n",
    "    \n",
    "    line_sum = 0\n",
    "    \n",
    "    for geo in gdf[\"geometry\"]:\n",
    "\n",
    "        line2 = transform(project, geo)\n",
    "        \n",
    "        meter_length = line2.length\n",
    "        \n",
    "        line_sum += meter_length\n",
    "        \n",
    "    return line_sum"
   ]
  },
  {
   "cell_type": "code",
   "execution_count": 6,
   "metadata": {},
   "outputs": [
    {
     "data": {
      "text/plain": [
       "63115.801088527696"
      ]
     },
     "execution_count": 6,
     "metadata": {},
     "output_type": "execute_result"
    }
   ],
   "source": [
    "line_length(file)"
   ]
  },
  {
   "cell_type": "code",
   "execution_count": 13,
   "metadata": {},
   "outputs": [],
   "source": [
    "def line_label_sums(vector_path,line_labels):\n",
    "    \n",
    "    vector_path = add_trailing_slash(vector_path)\n",
    "    \n",
    "    line_label_sums = {}\n",
    "    \n",
    "    for label in line_labels:\n",
    "    \n",
    "        vector_list = glob(f'{vector_path}/{label}/*/*.shp')\n",
    "        \n",
    "        geo_lengths = [line_length(i) for i in vector_list]\n",
    "            \n",
    "        line_label_sums[label] = sum(geo_lengths)\n",
    "        \n",
    "    return line_label_sums\n",
    "    \n",
    "    \n",
    "    \n",
    "vector_path = \"/Volumes/Lacie/zhenyadata/Project_Canopy_Data/PC_Data/Sentinel_Data/GEE/vectors/all_vectors\"\n",
    "line_labels = [\"ISL\",\"Roads\",\"River\"]"
   ]
  },
  {
   "cell_type": "code",
   "execution_count": 14,
   "metadata": {},
   "outputs": [
    {
     "name": "stdout",
     "output_type": "stream",
     "text": [
      "label_not_there\n",
      "label_not_there\n",
      "label_not_there\n"
     ]
    }
   ],
   "source": [
    "sum_dict = line_label_sums(vector_path,line_labels)"
   ]
  },
  {
   "cell_type": "code",
   "execution_count": 15,
   "metadata": {},
   "outputs": [
    {
     "data": {
      "text/plain": [
       "{'ISL': 3850063.8664001925,\n",
       " 'Roads': 2145937.2370099425,\n",
       " 'River': 1704126.6293902483}"
      ]
     },
     "execution_count": 15,
     "metadata": {},
     "output_type": "execute_result"
    }
   ],
   "source": [
    "sum_dict"
   ]
  },
  {
   "cell_type": "code",
   "execution_count": 116,
   "metadata": {},
   "outputs": [],
   "source": [
    "pd.options.display.float_format = '{:,}'.format"
   ]
  },
  {
   "cell_type": "code",
   "execution_count": 117,
   "metadata": {},
   "outputs": [],
   "source": [
    "sum_dict2 = sum_dict.copy()"
   ]
  },
  {
   "cell_type": "code",
   "execution_count": 118,
   "metadata": {},
   "outputs": [],
   "source": [
    "for key in sum_dict2.keys():\n",
    "    sum_dict2[key] = sum_dict2[key] / 1000"
   ]
  },
  {
   "cell_type": "code",
   "execution_count": 119,
   "metadata": {},
   "outputs": [
    {
     "data": {
      "text/plain": [
       "{'ISL': 3850.0638664001926,\n",
       " 'Roads': 2145.9372370099427,\n",
       " 'River': 1704.1266293902484}"
      ]
     },
     "execution_count": 119,
     "metadata": {},
     "output_type": "execute_result"
    }
   ],
   "source": [
    "sum_dict2"
   ]
  },
  {
   "cell_type": "code",
   "execution_count": 120,
   "metadata": {},
   "outputs": [],
   "source": [
    "df = pd.DataFrame(sum_dict2,index=[0])"
   ]
  },
  {
   "cell_type": "code",
   "execution_count": 124,
   "metadata": {},
   "outputs": [
    {
     "data": {
      "text/html": [
       "<div>\n",
       "<style scoped>\n",
       "    .dataframe tbody tr th:only-of-type {\n",
       "        vertical-align: middle;\n",
       "    }\n",
       "\n",
       "    .dataframe tbody tr th {\n",
       "        vertical-align: top;\n",
       "    }\n",
       "\n",
       "    .dataframe thead th {\n",
       "        text-align: right;\n",
       "    }\n",
       "</style>\n",
       "<table border=\"1\" class=\"dataframe\">\n",
       "  <thead>\n",
       "    <tr style=\"text-align: right;\">\n",
       "      <th></th>\n",
       "      <th>ISL</th>\n",
       "      <th>Roads</th>\n",
       "      <th>River</th>\n",
       "    </tr>\n",
       "  </thead>\n",
       "  <tbody>\n",
       "    <tr>\n",
       "      <th>0</th>\n",
       "      <td>3,850.0</td>\n",
       "      <td>2,146.0</td>\n",
       "      <td>1,704.0</td>\n",
       "    </tr>\n",
       "  </tbody>\n",
       "</table>\n",
       "</div>"
      ],
      "text/plain": [
       "      ISL   Roads   River\n",
       "0 3,850.0 2,146.0 1,704.0"
      ]
     },
     "execution_count": 124,
     "metadata": {},
     "output_type": "execute_result"
    }
   ],
   "source": [
    "df.round()"
   ]
  },
  {
   "cell_type": "code",
   "execution_count": 122,
   "metadata": {},
   "outputs": [],
   "source": [
    "df2 = df.astype(int)"
   ]
  },
  {
   "cell_type": "code",
   "execution_count": 123,
   "metadata": {},
   "outputs": [
    {
     "data": {
      "text/html": [
       "<div>\n",
       "<style scoped>\n",
       "    .dataframe tbody tr th:only-of-type {\n",
       "        vertical-align: middle;\n",
       "    }\n",
       "\n",
       "    .dataframe tbody tr th {\n",
       "        vertical-align: top;\n",
       "    }\n",
       "\n",
       "    .dataframe thead th {\n",
       "        text-align: right;\n",
       "    }\n",
       "</style>\n",
       "<table border=\"1\" class=\"dataframe\">\n",
       "  <thead>\n",
       "    <tr style=\"text-align: right;\">\n",
       "      <th></th>\n",
       "      <th>ISL</th>\n",
       "      <th>Roads</th>\n",
       "      <th>River</th>\n",
       "    </tr>\n",
       "  </thead>\n",
       "  <tbody>\n",
       "    <tr>\n",
       "      <th>0</th>\n",
       "      <td>3850</td>\n",
       "      <td>2145</td>\n",
       "      <td>1704</td>\n",
       "    </tr>\n",
       "  </tbody>\n",
       "</table>\n",
       "</div>"
      ],
      "text/plain": [
       "    ISL  Roads  River\n",
       "0  3850   2145   1704"
      ]
     },
     "execution_count": 123,
     "metadata": {},
     "output_type": "execute_result"
    }
   ],
   "source": [
    "df2"
   ]
  },
  {
   "cell_type": "code",
   "execution_count": 101,
   "metadata": {},
   "outputs": [],
   "source": [
    "df2 = df2.astype(str)"
   ]
  },
  {
   "cell_type": "code",
   "execution_count": 102,
   "metadata": {},
   "outputs": [],
   "source": [
    "for column in df2:\n",
    "    df2[column] = df2[column] + \" \" + \"km\""
   ]
  },
  {
   "cell_type": "code",
   "execution_count": 112,
   "metadata": {},
   "outputs": [
    {
     "data": {
      "text/html": [
       "<div>\n",
       "<style scoped>\n",
       "    .dataframe tbody tr th:only-of-type {\n",
       "        vertical-align: middle;\n",
       "    }\n",
       "\n",
       "    .dataframe tbody tr th {\n",
       "        vertical-align: top;\n",
       "    }\n",
       "\n",
       "    .dataframe thead th {\n",
       "        text-align: right;\n",
       "    }\n",
       "</style>\n",
       "<table border=\"1\" class=\"dataframe\">\n",
       "  <thead>\n",
       "    <tr style=\"text-align: right;\">\n",
       "      <th></th>\n",
       "      <th>ISL</th>\n",
       "      <th>Roads</th>\n",
       "      <th>River</th>\n",
       "    </tr>\n",
       "  </thead>\n",
       "  <tbody>\n",
       "    <tr>\n",
       "      <th>0</th>\n",
       "      <td>3850 km</td>\n",
       "      <td>2145 km</td>\n",
       "      <td>1704 km</td>\n",
       "    </tr>\n",
       "  </tbody>\n",
       "</table>\n",
       "</div>"
      ],
      "text/plain": [
       "       ISL    Roads    River\n",
       "0  3850 km  2145 km  1704 km"
      ]
     },
     "execution_count": 112,
     "metadata": {},
     "output_type": "execute_result"
    }
   ],
   "source": [
    "df2"
   ]
  },
  {
   "cell_type": "markdown",
   "metadata": {},
   "source": [
    "# Chips Per Size / Class"
   ]
  },
  {
   "cell_type": "code",
   "execution_count": 155,
   "metadata": {},
   "outputs": [],
   "source": [
    "def chips_size_class(input_dir):\n",
    "    \n",
    "    chips = {}\n",
    "    \n",
    "    input_dir = add_trailing_slash(input_dir)\n",
    "    \n",
    "    chip_path_label = glob(f'{input_dir}/*/')\n",
    "    \n",
    "    for label_path in chip_path_label:\n",
    "        \n",
    "        label = label_path.split(\"/\")[-2]\n",
    "        \n",
    "        chips[label] = {} \n",
    "\n",
    "        chip_path_size = glob(f'{label_path}/*/')\n",
    "        \n",
    "        for size_path in chip_path_size:\n",
    "            \n",
    "            size = size_path.split(\"/\")[-2]\n",
    "                \n",
    "            chip_path_label_size = glob(f'{size_path}/*/*.tif')\n",
    "                                        \n",
    "            tif_len = len(chip_path_label_size)\n",
    "                                        \n",
    "            chips[label][size] = tif_len\n",
    "                                        \n",
    "            \n",
    "                \n",
    "    return chips\n",
    "            \n",
    "\n",
    "        \n",
    "    \n",
    "    \n",
    "#     sizes = [100,200,1000]\n",
    "#     labels = []"
   ]
  },
  {
   "cell_type": "code",
   "execution_count": 157,
   "metadata": {},
   "outputs": [],
   "source": [
    "input_dir = \"/Volumes/Lacie/zhenyadata/Project_Canopy_Data/PC_Data/Sentinel_Data/Chips/misha_polygons_v8/yes\"\n",
    "\n",
    "chips_count = chips_size_class(input_dir)"
   ]
  },
  {
   "cell_type": "code",
   "execution_count": 163,
   "metadata": {},
   "outputs": [],
   "source": [
    "chips_df = pd.DataFrame(chips_count)"
   ]
  },
  {
   "cell_type": "code",
   "execution_count": 167,
   "metadata": {},
   "outputs": [
    {
     "data": {
      "text/html": [
       "<div>\n",
       "<style scoped>\n",
       "    .dataframe tbody tr th:only-of-type {\n",
       "        vertical-align: middle;\n",
       "    }\n",
       "\n",
       "    .dataframe tbody tr th {\n",
       "        vertical-align: top;\n",
       "    }\n",
       "\n",
       "    .dataframe thead th {\n",
       "        text-align: right;\n",
       "    }\n",
       "</style>\n",
       "<table border=\"1\" class=\"dataframe\">\n",
       "  <thead>\n",
       "    <tr style=\"text-align: right;\">\n",
       "      <th></th>\n",
       "      <th>ISL</th>\n",
       "      <th>Habitation</th>\n",
       "      <th>Shifting_cultivation</th>\n",
       "      <th>Mining</th>\n",
       "      <th>Rainforest</th>\n",
       "      <th>Savannah</th>\n",
       "      <th>Water</th>\n",
       "      <th>River</th>\n",
       "      <th>Roads</th>\n",
       "      <th>Industrial_agriculture</th>\n",
       "    </tr>\n",
       "  </thead>\n",
       "  <tbody>\n",
       "    <tr>\n",
       "      <th>100</th>\n",
       "      <td>6791</td>\n",
       "      <td>775</td>\n",
       "      <td>3852</td>\n",
       "      <td>220</td>\n",
       "      <td>24489</td>\n",
       "      <td>4034</td>\n",
       "      <td>1825</td>\n",
       "      <td>2570</td>\n",
       "      <td>1445</td>\n",
       "      <td>1450</td>\n",
       "    </tr>\n",
       "    <tr>\n",
       "      <th>200</th>\n",
       "      <td>2802</td>\n",
       "      <td>418</td>\n",
       "      <td>1342</td>\n",
       "      <td>95</td>\n",
       "      <td>7234</td>\n",
       "      <td>1164</td>\n",
       "      <td>499</td>\n",
       "      <td>1027</td>\n",
       "      <td>716</td>\n",
       "      <td>448</td>\n",
       "    </tr>\n",
       "    <tr>\n",
       "      <th>1000</th>\n",
       "      <td>299</td>\n",
       "      <td>94</td>\n",
       "      <td>141</td>\n",
       "      <td>15</td>\n",
       "      <td>572</td>\n",
       "      <td>83</td>\n",
       "      <td>31</td>\n",
       "      <td>147</td>\n",
       "      <td>134</td>\n",
       "      <td>45</td>\n",
       "    </tr>\n",
       "  </tbody>\n",
       "</table>\n",
       "</div>"
      ],
      "text/plain": [
       "       ISL  Habitation  Shifting_cultivation  Mining  Rainforest  Savannah  \\\n",
       "100   6791         775                  3852     220       24489      4034   \n",
       "200   2802         418                  1342      95        7234      1164   \n",
       "1000   299          94                   141      15         572        83   \n",
       "\n",
       "      Water  River  Roads  Industrial_agriculture  \n",
       "100    1825   2570   1445                    1450  \n",
       "200     499   1027    716                     448  \n",
       "1000     31    147    134                      45  "
      ]
     },
     "execution_count": 167,
     "metadata": {},
     "output_type": "execute_result"
    }
   ],
   "source": [
    "chips_df"
   ]
  },
  {
   "cell_type": "code",
   "execution_count": null,
   "metadata": {},
   "outputs": [],
   "source": []
  },
  {
   "cell_type": "code",
   "execution_count": 170,
   "metadata": {},
   "outputs": [
    {
     "data": {
      "text/plain": [
       "<AxesSubplot:>"
      ]
     },
     "execution_count": 170,
     "metadata": {},
     "output_type": "execute_result"
    },
    {
     "data": {
      "image/png": "[encoded data removed]",
      "text/plain": [
       "<Figure size 432x288 with 1 Axes>"
      ]
     },
     "metadata": {
      "needs_background": "light"
     },
     "output_type": "display_data"
    }
   ],
   "source": [
    "# ax = sns.barplot(x=\"tip\", y=\"day\", data=chips_df)\n",
    "\n",
    "sns.barplot(data=chips_df.head(1), orient = 'h')"
   ]
  },
  {
   "cell_type": "code",
   "execution_count": 186,
   "metadata": {},
   "outputs": [],
   "source": [
    "chips_df_2 = chips_df.reset_index()"
   ]
  },
  {
   "cell_type": "code",
   "execution_count": 189,
   "metadata": {},
   "outputs": [],
   "source": [
    "chips_df_3 = chips_df_2.rename(columns={\"index\":\"size\"})"
   ]
  },
  {
   "cell_type": "code",
   "execution_count": 227,
   "metadata": {},
   "outputs": [
    {
     "data": {
      "text/html": [
       "<div>\n",
       "<style scoped>\n",
       "    .dataframe tbody tr th:only-of-type {\n",
       "        vertical-align: middle;\n",
       "    }\n",
       "\n",
       "    .dataframe tbody tr th {\n",
       "        vertical-align: top;\n",
       "    }\n",
       "\n",
       "    .dataframe thead th {\n",
       "        text-align: right;\n",
       "    }\n",
       "</style>\n",
       "<table border=\"1\" class=\"dataframe\">\n",
       "  <thead>\n",
       "    <tr style=\"text-align: right;\">\n",
       "      <th></th>\n",
       "      <th>size</th>\n",
       "      <th>ISL</th>\n",
       "      <th>Habitation</th>\n",
       "      <th>Shifting_cultivation</th>\n",
       "      <th>Mining</th>\n",
       "      <th>Rainforest</th>\n",
       "      <th>Savannah</th>\n",
       "      <th>Water</th>\n",
       "      <th>River</th>\n",
       "      <th>Roads</th>\n",
       "      <th>Industrial_agriculture</th>\n",
       "    </tr>\n",
       "  </thead>\n",
       "  <tbody>\n",
       "    <tr>\n",
       "      <th>0</th>\n",
       "      <td>100</td>\n",
       "      <td>6791</td>\n",
       "      <td>775</td>\n",
       "      <td>3852</td>\n",
       "      <td>220</td>\n",
       "      <td>24489</td>\n",
       "      <td>4034</td>\n",
       "      <td>1825</td>\n",
       "      <td>2570</td>\n",
       "      <td>1445</td>\n",
       "      <td>1450</td>\n",
       "    </tr>\n",
       "    <tr>\n",
       "      <th>1</th>\n",
       "      <td>200</td>\n",
       "      <td>2802</td>\n",
       "      <td>418</td>\n",
       "      <td>1342</td>\n",
       "      <td>95</td>\n",
       "      <td>7234</td>\n",
       "      <td>1164</td>\n",
       "      <td>499</td>\n",
       "      <td>1027</td>\n",
       "      <td>716</td>\n",
       "      <td>448</td>\n",
       "    </tr>\n",
       "    <tr>\n",
       "      <th>2</th>\n",
       "      <td>1000</td>\n",
       "      <td>299</td>\n",
       "      <td>94</td>\n",
       "      <td>141</td>\n",
       "      <td>15</td>\n",
       "      <td>572</td>\n",
       "      <td>83</td>\n",
       "      <td>31</td>\n",
       "      <td>147</td>\n",
       "      <td>134</td>\n",
       "      <td>45</td>\n",
       "    </tr>\n",
       "  </tbody>\n",
       "</table>\n",
       "</div>"
      ],
      "text/plain": [
       "   size   ISL  Habitation  Shifting_cultivation  Mining  Rainforest  Savannah  \\\n",
       "0   100  6791         775                  3852     220       24489      4034   \n",
       "1   200  2802         418                  1342      95        7234      1164   \n",
       "2  1000   299          94                   141      15         572        83   \n",
       "\n",
       "   Water  River  Roads  Industrial_agriculture  \n",
       "0   1825   2570   1445                    1450  \n",
       "1    499   1027    716                     448  \n",
       "2     31    147    134                      45  "
      ]
     },
     "execution_count": 227,
     "metadata": {},
     "output_type": "execute_result"
    }
   ],
   "source": [
    "chips_df_3"
   ]
  },
  {
   "cell_type": "code",
   "execution_count": 228,
   "metadata": {},
   "outputs": [],
   "source": [
    "# chips_df.melt('date', var_name='a', value_name='b')\n",
    "\n",
    "chips_df_4 = pd.melt(chips_df_3, id_vars=[\"size\"], value_vars=list(chips_df_3.columns[1:]))"
   ]
  },
  {
   "cell_type": "code",
   "execution_count": 229,
   "metadata": {},
   "outputs": [],
   "source": [
    "chips_df_4[\"size\"] = chips_df_4[\"size\"].replace({\"100\": \"1 x 1\", \"200\": \"2 x 2\",\"1000\": \"10 x 10\"})"
   ]
  },
  {
   "cell_type": "code",
   "execution_count": 230,
   "metadata": {},
   "outputs": [
    {
     "data": {
      "text/html": [
       "<div>\n",
       "<style scoped>\n",
       "    .dataframe tbody tr th:only-of-type {\n",
       "        vertical-align: middle;\n",
       "    }\n",
       "\n",
       "    .dataframe tbody tr th {\n",
       "        vertical-align: top;\n",
       "    }\n",
       "\n",
       "    .dataframe thead th {\n",
       "        text-align: right;\n",
       "    }\n",
       "</style>\n",
       "<table border=\"1\" class=\"dataframe\">\n",
       "  <thead>\n",
       "    <tr style=\"text-align: right;\">\n",
       "      <th></th>\n",
       "      <th>size</th>\n",
       "      <th>variable</th>\n",
       "      <th>value</th>\n",
       "    </tr>\n",
       "  </thead>\n",
       "  <tbody>\n",
       "    <tr>\n",
       "      <th>0</th>\n",
       "      <td>1 x 1</td>\n",
       "      <td>ISL</td>\n",
       "      <td>6791</td>\n",
       "    </tr>\n",
       "  </tbody>\n",
       "</table>\n",
       "</div>"
      ],
      "text/plain": [
       "    size variable  value\n",
       "0  1 x 1      ISL   6791"
      ]
     },
     "execution_count": 230,
     "metadata": {},
     "output_type": "execute_result"
    }
   ],
   "source": [
    "chips_df_4.head(1)"
   ]
  },
  {
   "cell_type": "code",
   "execution_count": 231,
   "metadata": {},
   "outputs": [],
   "source": [
    "chips_df_5 = chips_df_4.rename(columns={\"size\": \"Chip Size\", \"variable\": \"Label\", \"value\":\"Number of Chips\"})"
   ]
  },
  {
   "cell_type": "code",
   "execution_count": 255,
   "metadata": {},
   "outputs": [
    {
     "data": {
      "text/html": [
       "<div>\n",
       "<style scoped>\n",
       "    .dataframe tbody tr th:only-of-type {\n",
       "        vertical-align: middle;\n",
       "    }\n",
       "\n",
       "    .dataframe tbody tr th {\n",
       "        vertical-align: top;\n",
       "    }\n",
       "\n",
       "    .dataframe thead th {\n",
       "        text-align: right;\n",
       "    }\n",
       "</style>\n",
       "<table border=\"1\" class=\"dataframe\">\n",
       "  <thead>\n",
       "    <tr style=\"text-align: right;\">\n",
       "      <th></th>\n",
       "      <th>Chip Size</th>\n",
       "      <th>Label</th>\n",
       "      <th>Number of Chips</th>\n",
       "    </tr>\n",
       "  </thead>\n",
       "  <tbody>\n",
       "    <tr>\n",
       "      <th>0</th>\n",
       "      <td>1 x 1</td>\n",
       "      <td>ISL</td>\n",
       "      <td>6791</td>\n",
       "    </tr>\n",
       "    <tr>\n",
       "      <th>1</th>\n",
       "      <td>2 x 2</td>\n",
       "      <td>ISL</td>\n",
       "      <td>2802</td>\n",
       "    </tr>\n",
       "    <tr>\n",
       "      <th>2</th>\n",
       "      <td>10 x 10</td>\n",
       "      <td>ISL</td>\n",
       "      <td>299</td>\n",
       "    </tr>\n",
       "    <tr>\n",
       "      <th>3</th>\n",
       "      <td>1 x 1</td>\n",
       "      <td>Habitation</td>\n",
       "      <td>775</td>\n",
       "    </tr>\n",
       "    <tr>\n",
       "      <th>4</th>\n",
       "      <td>2 x 2</td>\n",
       "      <td>Habitation</td>\n",
       "      <td>418</td>\n",
       "    </tr>\n",
       "    <tr>\n",
       "      <th>5</th>\n",
       "      <td>10 x 10</td>\n",
       "      <td>Habitation</td>\n",
       "      <td>94</td>\n",
       "    </tr>\n",
       "    <tr>\n",
       "      <th>6</th>\n",
       "      <td>1 x 1</td>\n",
       "      <td>Shifting_cultivation</td>\n",
       "      <td>3852</td>\n",
       "    </tr>\n",
       "    <tr>\n",
       "      <th>7</th>\n",
       "      <td>2 x 2</td>\n",
       "      <td>Shifting_cultivation</td>\n",
       "      <td>1342</td>\n",
       "    </tr>\n",
       "    <tr>\n",
       "      <th>8</th>\n",
       "      <td>10 x 10</td>\n",
       "      <td>Shifting_cultivation</td>\n",
       "      <td>141</td>\n",
       "    </tr>\n",
       "    <tr>\n",
       "      <th>9</th>\n",
       "      <td>1 x 1</td>\n",
       "      <td>Mining</td>\n",
       "      <td>220</td>\n",
       "    </tr>\n",
       "    <tr>\n",
       "      <th>10</th>\n",
       "      <td>2 x 2</td>\n",
       "      <td>Mining</td>\n",
       "      <td>95</td>\n",
       "    </tr>\n",
       "    <tr>\n",
       "      <th>11</th>\n",
       "      <td>10 x 10</td>\n",
       "      <td>Mining</td>\n",
       "      <td>15</td>\n",
       "    </tr>\n",
       "    <tr>\n",
       "      <th>12</th>\n",
       "      <td>1 x 1</td>\n",
       "      <td>Rainforest</td>\n",
       "      <td>24489</td>\n",
       "    </tr>\n",
       "    <tr>\n",
       "      <th>13</th>\n",
       "      <td>2 x 2</td>\n",
       "      <td>Rainforest</td>\n",
       "      <td>7234</td>\n",
       "    </tr>\n",
       "    <tr>\n",
       "      <th>14</th>\n",
       "      <td>10 x 10</td>\n",
       "      <td>Rainforest</td>\n",
       "      <td>572</td>\n",
       "    </tr>\n",
       "    <tr>\n",
       "      <th>15</th>\n",
       "      <td>1 x 1</td>\n",
       "      <td>Savannah</td>\n",
       "      <td>4034</td>\n",
       "    </tr>\n",
       "    <tr>\n",
       "      <th>16</th>\n",
       "      <td>2 x 2</td>\n",
       "      <td>Savannah</td>\n",
       "      <td>1164</td>\n",
       "    </tr>\n",
       "    <tr>\n",
       "      <th>17</th>\n",
       "      <td>10 x 10</td>\n",
       "      <td>Savannah</td>\n",
       "      <td>83</td>\n",
       "    </tr>\n",
       "    <tr>\n",
       "      <th>18</th>\n",
       "      <td>1 x 1</td>\n",
       "      <td>Water</td>\n",
       "      <td>1825</td>\n",
       "    </tr>\n",
       "    <tr>\n",
       "      <th>19</th>\n",
       "      <td>2 x 2</td>\n",
       "      <td>Water</td>\n",
       "      <td>499</td>\n",
       "    </tr>\n",
       "    <tr>\n",
       "      <th>20</th>\n",
       "      <td>10 x 10</td>\n",
       "      <td>Water</td>\n",
       "      <td>31</td>\n",
       "    </tr>\n",
       "    <tr>\n",
       "      <th>21</th>\n",
       "      <td>1 x 1</td>\n",
       "      <td>River</td>\n",
       "      <td>2570</td>\n",
       "    </tr>\n",
       "    <tr>\n",
       "      <th>22</th>\n",
       "      <td>2 x 2</td>\n",
       "      <td>River</td>\n",
       "      <td>1027</td>\n",
       "    </tr>\n",
       "    <tr>\n",
       "      <th>23</th>\n",
       "      <td>10 x 10</td>\n",
       "      <td>River</td>\n",
       "      <td>147</td>\n",
       "    </tr>\n",
       "    <tr>\n",
       "      <th>24</th>\n",
       "      <td>1 x 1</td>\n",
       "      <td>Roads</td>\n",
       "      <td>1445</td>\n",
       "    </tr>\n",
       "    <tr>\n",
       "      <th>25</th>\n",
       "      <td>2 x 2</td>\n",
       "      <td>Roads</td>\n",
       "      <td>716</td>\n",
       "    </tr>\n",
       "    <tr>\n",
       "      <th>26</th>\n",
       "      <td>10 x 10</td>\n",
       "      <td>Roads</td>\n",
       "      <td>134</td>\n",
       "    </tr>\n",
       "    <tr>\n",
       "      <th>27</th>\n",
       "      <td>1 x 1</td>\n",
       "      <td>Industrial_agriculture</td>\n",
       "      <td>1450</td>\n",
       "    </tr>\n",
       "    <tr>\n",
       "      <th>28</th>\n",
       "      <td>2 x 2</td>\n",
       "      <td>Industrial_agriculture</td>\n",
       "      <td>448</td>\n",
       "    </tr>\n",
       "    <tr>\n",
       "      <th>29</th>\n",
       "      <td>10 x 10</td>\n",
       "      <td>Industrial_agriculture</td>\n",
       "      <td>45</td>\n",
       "    </tr>\n",
       "  </tbody>\n",
       "</table>\n",
       "</div>"
      ],
      "text/plain": [
       "   Chip Size                   Label  Number of Chips\n",
       "0      1 x 1                     ISL             6791\n",
       "1      2 x 2                     ISL             2802\n",
       "2    10 x 10                     ISL              299\n",
       "3      1 x 1              Habitation              775\n",
       "4      2 x 2              Habitation              418\n",
       "5    10 x 10              Habitation               94\n",
       "6      1 x 1    Shifting_cultivation             3852\n",
       "7      2 x 2    Shifting_cultivation             1342\n",
       "8    10 x 10    Shifting_cultivation              141\n",
       "9      1 x 1                  Mining              220\n",
       "10     2 x 2                  Mining               95\n",
       "11   10 x 10                  Mining               15\n",
       "12     1 x 1              Rainforest            24489\n",
       "13     2 x 2              Rainforest             7234\n",
       "14   10 x 10              Rainforest              572\n",
       "15     1 x 1                Savannah             4034\n",
       "16     2 x 2                Savannah             1164\n",
       "17   10 x 10                Savannah               83\n",
       "18     1 x 1                   Water             1825\n",
       "19     2 x 2                   Water              499\n",
       "20   10 x 10                   Water               31\n",
       "21     1 x 1                   River             2570\n",
       "22     2 x 2                   River             1027\n",
       "23   10 x 10                   River              147\n",
       "24     1 x 1                   Roads             1445\n",
       "25     2 x 2                   Roads              716\n",
       "26   10 x 10                   Roads              134\n",
       "27     1 x 1  Industrial_agriculture             1450\n",
       "28     2 x 2  Industrial_agriculture              448\n",
       "29   10 x 10  Industrial_agriculture               45"
      ]
     },
     "execution_count": 255,
     "metadata": {},
     "output_type": "execute_result"
    }
   ],
   "source": [
    "chips_df_5"
   ]
  },
  {
   "cell_type": "code",
   "execution_count": 280,
   "metadata": {},
   "outputs": [
    {
     "data": {
      "image/png": "[encoded data removed]",
      "text/plain": [
       "<Figure size 936x648 with 1 Axes>"
      ]
     },
     "metadata": {},
     "output_type": "display_data"
    }
   ],
   "source": [
    "sns.set_theme(style=\"whitegrid\")\n",
    "sns.set(rc={'figure.figsize':(13,9)})\n",
    "ax = sns.barplot(x='Number of Chips', y='Label', hue='Chip Size',data=chips_df_5)\n",
    "\n",
    "for p in ax.patches:\n",
    "    _x = p.get_x() + p.get_width() + float(50)\n",
    "    _y = p.get_y() + p.get_height()\n",
    "    value = int(p.get_width())\n",
    "    ax.text(_x, _y, value, ha=\"left\")\n",
    "    \n",
    "#     print(p)\n",
    "#     ax.annotate(p.get_width(),(p.get_height(),p.get_width()))\n",
    "\n",
    "\n",
    "# for index, row in chips_df_5.iterrows():\n",
    "#     ax.text(row['Number of Chips'],row[\"Label\"], row[\"Chip Size\"], color='black', ha=\"center\")\n",
    "\n",
    "\n",
    "plt.show()"
   ]
  },
  {
   "cell_type": "code",
   "execution_count": 262,
   "metadata": {
    "collapsed": true,
    "jupyter": {
     "outputs_hidden": true
    }
   },
   "outputs": [
    {
     "name": "stdout",
     "output_type": "stream",
     "text": [
      "Help on method annotate in module matplotlib.axes._axes:\n",
      "\n",
      "annotate(text, xy, *args, **kwargs) method of matplotlib.axes._subplots.AxesSubplot instance\n",
      "    Annotate the point *xy* with text *text*.\n",
      "    \n",
      "    In the simplest form, the text is placed at *xy*.\n",
      "    \n",
      "    Optionally, the text can be displayed in another position *xytext*.\n",
      "    An arrow pointing from the text to the annotated point *xy* can then\n",
      "    be added by defining *arrowprops*.\n",
      "    \n",
      "    Parameters\n",
      "    ----------\n",
      "    text : str\n",
      "        The text of the annotation.  *s* is a deprecated synonym for this\n",
      "        parameter.\n",
      "    \n",
      "    xy : (float, float)\n",
      "        The point *(x, y)* to annotate. The coordinate system is determined\n",
      "        by *xycoords*.\n",
      "    \n",
      "    xytext : (float, float), default: *xy*\n",
      "        The position *(x, y)* to place the text at. The coordinate system\n",
      "        is determined by *textcoords*.\n",
      "    \n",
      "    xycoords : str or `.Artist` or `.Transform` or callable or (float, float), default: 'data'\n",
      "    \n",
      "        The coordinate system that *xy* is given in. The following types\n",
      "        of values are supported:\n",
      "    \n",
      "        - One of the following strings:\n",
      "    \n",
      "          =================   =============================================\n",
      "          Value               Description\n",
      "          =================   =============================================\n",
      "          'figure points'     Points from the lower left of the figure\n",
      "          'figure pixels'     Pixels from the lower left of the figure\n",
      "          'figure fraction'   Fraction of figure from lower left\n",
      "          'axes points'       Points from lower left corner of axes\n",
      "          'axes pixels'       Pixels from lower left corner of axes\n",
      "          'axes fraction'     Fraction of axes from lower left\n",
      "          'data'              Use the coordinate system of the object being\n",
      "                              annotated (default)\n",
      "          'polar'             *(theta, r)* if not native 'data' coordinates\n",
      "          =================   =============================================\n",
      "    \n",
      "        - An `.Artist`: *xy* is interpreted as a fraction of the artist's\n",
      "          `~matplotlib.transforms.Bbox`. E.g. *(0, 0)* would be the lower\n",
      "          left corner of the bounding box and *(0.5, 1)* would be the\n",
      "          center top of the bounding box.\n",
      "    \n",
      "        - A `.Transform` to transform *xy* to screen coordinates.\n",
      "    \n",
      "        - A function with one of the following signatures::\n",
      "    \n",
      "            def transform(renderer) -> Bbox\n",
      "            def transform(renderer) -> Transform\n",
      "    \n",
      "          where *renderer* is a `.RendererBase` subclass.\n",
      "    \n",
      "          The result of the function is interpreted like the `.Artist` and\n",
      "          `.Transform` cases above.\n",
      "    \n",
      "        - A tuple *(xcoords, ycoords)* specifying separate coordinate\n",
      "          systems for *x* and *y*. *xcoords* and *ycoords* must each be\n",
      "          of one of the above described types.\n",
      "    \n",
      "        See :ref:`plotting-guide-annotation` for more details.\n",
      "    \n",
      "    textcoords : str or `.Artist` or `.Transform` or callable or (float, float), default: value of *xycoords*\n",
      "        The coordinate system that *xytext* is given in.\n",
      "    \n",
      "        All *xycoords* values are valid as well as the following\n",
      "        strings:\n",
      "    \n",
      "        =================   =========================================\n",
      "        Value               Description\n",
      "        =================   =========================================\n",
      "        'offset points'     Offset (in points) from the *xy* value\n",
      "        'offset pixels'     Offset (in pixels) from the *xy* value\n",
      "        =================   =========================================\n",
      "    \n",
      "    arrowprops : dict, optional\n",
      "        The properties used to draw a `.FancyArrowPatch` arrow between the\n",
      "        positions *xy* and *xytext*.\n",
      "    \n",
      "        If *arrowprops* does not contain the key 'arrowstyle' the\n",
      "        allowed keys are:\n",
      "    \n",
      "        ==========   ======================================================\n",
      "        Key          Description\n",
      "        ==========   ======================================================\n",
      "        width        The width of the arrow in points\n",
      "        headwidth    The width of the base of the arrow head in points\n",
      "        headlength   The length of the arrow head in points\n",
      "        shrink       Fraction of total length to shrink from both ends\n",
      "        ?            Any key to :class:`matplotlib.patches.FancyArrowPatch`\n",
      "        ==========   ======================================================\n",
      "    \n",
      "        If *arrowprops* contains the key 'arrowstyle' the\n",
      "        above keys are forbidden.  The allowed values of\n",
      "        ``'arrowstyle'`` are:\n",
      "    \n",
      "        ============   =============================================\n",
      "        Name           Attrs\n",
      "        ============   =============================================\n",
      "        ``'-'``        None\n",
      "        ``'->'``       head_length=0.4,head_width=0.2\n",
      "        ``'-['``       widthB=1.0,lengthB=0.2,angleB=None\n",
      "        ``'|-|'``      widthA=1.0,widthB=1.0\n",
      "        ``'-|>'``      head_length=0.4,head_width=0.2\n",
      "        ``'<-'``       head_length=0.4,head_width=0.2\n",
      "        ``'<->'``      head_length=0.4,head_width=0.2\n",
      "        ``'<|-'``      head_length=0.4,head_width=0.2\n",
      "        ``'<|-|>'``    head_length=0.4,head_width=0.2\n",
      "        ``'fancy'``    head_length=0.4,head_width=0.4,tail_width=0.4\n",
      "        ``'simple'``   head_length=0.5,head_width=0.5,tail_width=0.2\n",
      "        ``'wedge'``    tail_width=0.3,shrink_factor=0.5\n",
      "        ============   =============================================\n",
      "    \n",
      "        Valid keys for `~matplotlib.patches.FancyArrowPatch` are:\n",
      "    \n",
      "        ===============  ==================================================\n",
      "        Key              Description\n",
      "        ===============  ==================================================\n",
      "        arrowstyle       the arrow style\n",
      "        connectionstyle  the connection style\n",
      "        relpos           default is (0.5, 0.5)\n",
      "        patchA           default is bounding box of the text\n",
      "        patchB           default is None\n",
      "        shrinkA          default is 2 points\n",
      "        shrinkB          default is 2 points\n",
      "        mutation_scale   default is text size (in points)\n",
      "        mutation_aspect  default is 1.\n",
      "        ?                any key for :class:`matplotlib.patches.PathPatch`\n",
      "        ===============  ==================================================\n",
      "    \n",
      "        Defaults to None, i.e. no arrow is drawn.\n",
      "    \n",
      "    annotation_clip : bool or None, default: None\n",
      "        Whether to draw the annotation when the annotation point *xy* is\n",
      "        outside the axes area.\n",
      "    \n",
      "        - If *True*, the annotation will only be drawn when *xy* is\n",
      "          within the axes.\n",
      "        - If *False*, the annotation will always be drawn.\n",
      "        - If *None*, the annotation will only be drawn when *xy* is\n",
      "          within the axes and *xycoords* is 'data'.\n",
      "    \n",
      "    **kwargs\n",
      "        Additional kwargs are passed to `~matplotlib.text.Text`.\n",
      "    \n",
      "    Returns\n",
      "    -------\n",
      "    `.Annotation`\n",
      "    \n",
      "    See Also\n",
      "    --------\n",
      "    :ref:`plotting-guide-annotation`\n",
      "\n"
     ]
    }
   ],
   "source": [
    "help(ax.annotate)"
   ]
  },
  {
   "cell_type": "code",
   "execution_count": 247,
   "metadata": {},
   "outputs": [],
   "source": [
    "def show_values_on_bars(axs, h_v=\"h\", space=0.4):\n",
    "    def _show_on_single_plot(ax):\n",
    "        if h_v == \"v\":\n",
    "            for p in ax.patches:\n",
    "                _x = p.get_x() + p.get_width() / 2\n",
    "                _y = p.get_y() + p.get_height()\n",
    "                value = int(p.get_height())\n",
    "                ax.text(_x, _y, value, ha=\"center\") \n",
    "        elif h_v == \"h\":\n",
    "            for p in ax.patches:\n",
    "                _x = p.get_x() + p.get_width() + float(space)\n",
    "                _y = p.get_y() + p.get_height()\n",
    "                value = int(p.get_width())\n",
    "                ax.text(_x, _y, value, ha=\"left\")\n",
    "\n",
    "    if isinstance(axs, np.ndarray):\n",
    "        for idx, ax in np.ndenumerate(axs):\n",
    "            _show_on_single_plot(ax)\n",
    "    else:\n",
    "        _show_on_single_plot(axs)\n",
    "        \n",
    "    plt.show()\n",
    "        \n",
    "        \n",
    "        \n",
    "        \n",
    "show_values_on_bars(ax,h_v=\"h\",space=0.4)"
   ]
  },
  {
   "cell_type": "code",
   "execution_count": null,
   "metadata": {},
   "outputs": [],
   "source": []
  }
 ],
 "metadata": {
  "kernelspec": {
   "display_name": "labeling-conda",
   "language": "python",
   "name": "labeling-conda"
  },
  "language_info": {
   "codemirror_mode": {
    "name": "ipython",
    "version": 3
   },
   "file_extension": ".py",
   "mimetype": "text/x-python",
   "name": "python",
   "nbconvert_exporter": "python",
   "pygments_lexer": "ipython3",
   "version": "3.9.1"
  }
 },
 "nbformat": 4,
 "nbformat_minor": 4
}
