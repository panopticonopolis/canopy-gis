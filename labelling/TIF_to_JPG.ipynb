{
 "cells": [
  {
   "cell_type": "code",
   "execution_count": 1,
   "metadata": {},
   "outputs": [],
   "source": [
    "from glob import glob\n",
    "import os\n",
    "from PIL import Image\n",
    "import rasterio as rio\n",
    "import numpy as np"
   ]
  },
  {
   "cell_type": "code",
   "execution_count": 34,
   "metadata": {},
   "outputs": [],
   "source": [
    "tif_dir = \"/Volumes/Lacie/zhenyadata/Project_Canopy_Data/PC_Data/Sentinel_Data/Labelled/Tiles_v2/Polygon_Crops/MSK/Individual_Polygons/TIF\"\n",
    "tif_list = glob(tif_dir + \"/*.tif\",recursive=True)\n",
    "tif_files = [i.split(\"/\")[-1].split(\".\")[0] + \".jpg\" for i in tif_list]\n",
    "out_dir = \"/Volumes/Lacie/zhenyadata/Project_Canopy_Data/PC_Data/Sentinel_Data/Labelled/Tiles_v2_Misha/Polygon_Crops/MSK/Individual_Polygons/JPG/\"\n",
    "\n",
    "for index,tif in enumerate(tif_list):\n",
    "    im = Image.open(tif)\n",
    "#     im.thumbnail(im.size)\n",
    "#     im.save(out_dir + tif_files[index], \"JPEG\", quality=100)"
   ]
  },
  {
   "cell_type": "markdown",
   "metadata": {},
   "source": [
    "# Updated Code"
   ]
  },
  {
   "cell_type": "markdown",
   "metadata": {},
   "source": [
    "# Convert All Rasters to UINT8"
   ]
  },
  {
   "cell_type": "code",
   "execution_count": 122,
   "metadata": {},
   "outputs": [],
   "source": [
    "def add_trailing_slash(path):\n",
    "    if path[-1] != '/':\n",
    "        path += '/'\n",
    "    return path"
   ]
  },
  {
   "cell_type": "code",
   "execution_count": 123,
   "metadata": {},
   "outputs": [],
   "source": [
    "def create_dir(output_dir):\n",
    "    # If the output folder doesn't exist, create it\n",
    "    if not os.path.isdir(output_dir):\n",
    "        os.mkdir(output_dir)"
   ]
  },
  {
   "cell_type": "code",
   "execution_count": 150,
   "metadata": {},
   "outputs": [],
   "source": [
    "def convert_to_int8(input_dir,output_dir):\n",
    "    \n",
    "    input_dir = add_trailing_slash(input_dir)\n",
    "    output_dir = add_trailing_slash(output_dir)\n",
    "    \n",
    "    create_dir(output_dir)\n",
    "    \n",
    "    file_list = glob(input_dir + \"/*/*.tif\")\n",
    "   \n",
    "    \n",
    "    for image_path in file_list:\n",
    "        new_dir = output_dir + image_path.split(\"/\")[-2]\n",
    "        new_dir = add_trailing_slash(new_dir)\n",
    "        create_dir(new_dir)\n",
    "        \n",
    "        file_path_append = (\"/\").join(image_path.split(\"/\")[-2:]) \n",
    "        \n",
    "        with rio.open(image_path, 'r') as r:\n",
    "            rast = r.read([6,7,8])\n",
    "            rast = rast.astype(np.uint8)\n",
    "            r_meta = r.meta\n",
    "            r_meta[\"count\"] = 3\n",
    "            r_meta[\"dtype\"] = 'uint8'\n",
    "\n",
    "\n",
    "        with rio.open(output_dir + file_path_append, 'w', **r_meta) as outf:\n",
    "            outf.write(rast)\n",
    "    "
   ]
  },
  {
   "cell_type": "code",
   "execution_count": 151,
   "metadata": {},
   "outputs": [],
   "source": [
    "input_dir = \"/Volumes/Lacie/zhenyadata/Project_Canopy_Data/PC_Data/Sentinel_Data/Labelled/Tiles_v4/LabelBox_Labelling/TIF/\"\n",
    "output_dir = \"/Volumes/Lacie/zhenyadata/Project_Canopy_Data/PC_Data/Sentinel_Data/Labelled/Tiles_v4/LabelBox_Labelling/TIF_converted\"\n",
    "\n",
    "file_list = convert_to_int8(input_dir,output_dir)\n"
   ]
  },
  {
   "cell_type": "markdown",
   "metadata": {},
   "source": [
    "# Convert All TIFs to JPEG - Preserves Directory Structure"
   ]
  },
  {
   "cell_type": "code",
   "execution_count": 165,
   "metadata": {},
   "outputs": [],
   "source": [
    "def convert_to_jpg(input_dir,output_dir):\n",
    "    \n",
    "    input_dir = add_trailing_slash(input_dir)\n",
    "    output_dir = add_trailing_slash(output_dir)\n",
    "    \n",
    "    create_dir(output_dir)\n",
    "    \n",
    "    file_list = glob(input_dir + \"/*/*.tif\") \n",
    "    \n",
    "    \n",
    "    for image_path in file_list:\n",
    "        \n",
    "        new_dir = output_dir + image_path.split(\"/\")[-2]\n",
    "        \n",
    "        new_dir = add_trailing_slash(new_dir)\n",
    "        \n",
    "        create_dir(new_dir)\n",
    "        \n",
    "        file_name = image_path.split(\"/\")[-1].split(\".\")[-2]\n",
    "        \n",
    "        im = Image.open(image_path)\n",
    "        im.thumbnail(im.size)\n",
    "        im.save(new_dir + file_name + \".jpg\", \"JPEG\", quality=100)\n"
   ]
  },
  {
   "cell_type": "code",
   "execution_count": 166,
   "metadata": {},
   "outputs": [],
   "source": [
    "input_dir = \"/Volumes/Lacie/zhenyadata/Project_Canopy_Data/PC_Data/Sentinel_Data/Labelled/Tiles_v4/LabelBox_Labelling/TIF_converted\"\n",
    "output_dir = \"/Volumes/Lacie/zhenyadata/Project_Canopy_Data/PC_Data/Sentinel_Data/Labelled/Tiles_v4/LabelBox_Labelling/JPG/\"\n",
    "\n",
    "convert_to_jpg(input_dir,output_dir)\n"
   ]
  }
 ],
 "metadata": {
  "kernelspec": {
   "display_name": "GIS_processing",
   "language": "python",
   "name": "gis_processing"
  },
  "language_info": {
   "codemirror_mode": {
    "name": "ipython",
    "version": 3
   },
   "file_extension": ".py",
   "mimetype": "text/x-python",
   "name": "python",
   "nbconvert_exporter": "python",
   "pygments_lexer": "ipython3",
   "version": "3.7.6"
  }
 },
 "nbformat": 4,
 "nbformat_minor": 4
}
