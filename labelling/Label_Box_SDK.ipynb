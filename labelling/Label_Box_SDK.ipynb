{
 "cells": [
  {
   "cell_type": "code",
   "execution_count": 61,
   "metadata": {},
   "outputs": [],
   "source": [
    "from labelbox import Client\n",
    "from env_vars import LABELBOX_API_KEY\n",
    "from glob import glob\n",
    "from graphqlclient import GraphQLClient"
   ]
  },
  {
   "cell_type": "code",
   "execution_count": 75,
   "metadata": {},
   "outputs": [],
   "source": [
    "client = Client(LABELBOX_API_KEY)"
   ]
  },
  {
   "cell_type": "code",
   "execution_count": 3,
   "metadata": {},
   "outputs": [],
   "source": [
    "# project = client.create_project(name=\"testing_python_sdk\")"
   ]
  },
  {
   "cell_type": "code",
   "execution_count": 4,
   "metadata": {},
   "outputs": [],
   "source": [
    "# dataset = client.create_dataset(name=\"test_dataset\", projects=project)"
   ]
  },
  {
   "cell_type": "code",
   "execution_count": 54,
   "metadata": {},
   "outputs": [
    {
     "name": "stdout",
     "output_type": "stream",
     "text": [
      "Help on method create_dataset in module labelbox.client:\n",
      "\n",
      "create_dataset(**kwargs) method of labelbox.client.Client instance\n",
      "    Creates a Dataset object on the server. Attribute values are\n",
      "        passed as keyword arguments:\n",
      "            >>> project = client.get_project(\"uid_of_my_project\")\n",
      "            >>> dataset = client.create_dataset(name=\"MyDataset\",\n",
      "            >>>                                 projects=project)\n",
      "    \n",
      "    Kwargs:\n",
      "        Keyword arguments with new Dataset attribute values.\n",
      "        Keys are attribute names (in Python, snake-case convention) and\n",
      "        values are desired attribute values.\n",
      "    Returns:\n",
      "        A new Dataset object.\n",
      "    Raises:\n",
      "        InvalidAttributeError: If the Dataset type does not contain\n",
      "            any of the attribute names given in kwargs.\n",
      "\n"
     ]
    }
   ],
   "source": [
    "help(client.create_dataset)"
   ]
  },
  {
   "cell_type": "code",
   "execution_count": 13,
   "metadata": {},
   "outputs": [],
   "source": [
    "data_list = glob(\"/Volumes/Lacie/zhenyadata/Project_Canopy_Data/PC_Data/Sentinel_Data/Labelled/Tiles_v2_Misha/Polygon_Crops/MSK/Individual_Polygons/JPG/*\")"
   ]
  },
  {
   "cell_type": "code",
   "execution_count": 76,
   "metadata": {},
   "outputs": [],
   "source": [
    "# dataset.create_data_rows(data_list)"
   ]
  },
  {
   "cell_type": "code",
   "execution_count": 55,
   "metadata": {},
   "outputs": [
    {
     "name": "stdout",
     "output_type": "stream",
     "text": [
      "Help on method create_data_rows in module labelbox.schema.dataset:\n",
      "\n",
      "create_data_rows(items) method of labelbox.schema.dataset.Dataset instance\n",
      "    Creates multiple DataRow objects based on the given `items`.\n",
      "    \n",
      "    Each element in `items` can be either a `str` or a `dict`. If\n",
      "    it is a `str`, then it is interpreted as a local file path. The file\n",
      "    is uploaded to Labelbox and a DataRow referencing it is created.\n",
      "    If an item is a `dict`, then it should map `DataRow` fields (or their\n",
      "    names) to values. At the minimum an `item` passed as a `dict` must \n",
      "    contain a `DataRow.row_data` key and value.\n",
      "    \n",
      "    >>> dataset.create_data_rows([\n",
      "    >>>     {DataRow.row_data:\"http://my_site.com/photos/img_01.jpg\"},\n",
      "    >>>     \"path/to/file2.jpg\"\n",
      "    >>>     ])\n",
      "    \n",
      "    Args:\n",
      "        items (iterable of (dict or str)): See above for details.\n",
      "    \n",
      "    Returns:\n",
      "        Task representing the data import on the server side. The Task\n",
      "        can be used for inspecting task progress and waiting until it's done.\n",
      "    \n",
      "    Raises:\n",
      "        InvalidQueryError: If the `items` parameter does not conform to\n",
      "            the specification above or if the server did not accept the\n",
      "            DataRow creation request (unknown reason).\n",
      "        ResourceNotFoundError: If unable to retrieve the Task for the\n",
      "            import process. This could imply that the import failed.\n",
      "        InvalidAttributeError: If there are fields in `items` not valid for\n",
      "            a DataRow.\n",
      "\n"
     ]
    }
   ],
   "source": [
    "help(dataset.create_data_rows)"
   ]
  },
  {
   "cell_type": "code",
   "execution_count": 78,
   "metadata": {},
   "outputs": [],
   "source": [
    "project = client.get_project(\"ckfrdhdrer6ca0724t4mvu1ea\")"
   ]
  },
  {
   "cell_type": "code",
   "execution_count": 85,
   "metadata": {},
   "outputs": [
    {
     "name": "stdout",
     "output_type": "stream",
     "text": [
      "<Dataset {'created_at': datetime.datetime(2020, 10, 1, 22, 11, 33, tzinfo=datetime.timezone.utc), 'description': '', 'name': 'test_dataset', 'uid': 'ckfrdib3tgz1q07459gs261m9', 'updated_at': datetime.datetime(2020, 10, 1, 22, 11, 33, tzinfo=datetime.timezone.utc)}>\n"
     ]
    }
   ],
   "source": [
    "for dataset in project.datasets():\n",
    "    print(dataset)"
   ]
  },
  {
   "cell_type": "code",
   "execution_count": 23,
   "metadata": {},
   "outputs": [
    {
     "name": "stdout",
     "output_type": "stream",
     "text": [
      "<Project {'auto_audit_number_of_labels': 1, 'auto_audit_percentage': 1, 'created_at': datetime.datetime(2020, 10, 1, 22, 10, 50, tzinfo=datetime.timezone.utc), 'description': '', 'last_activity_time': datetime.datetime(2020, 10, 1, 22, 48, 6, tzinfo=datetime.timezone.utc), 'name': 'testing_python_sdk', 'setup_complete': datetime.datetime(2020, 10, 1, 22, 48, 5, 946000, tzinfo=datetime.timezone.utc), 'uid': 'ckfrdhdrer6ca0724t4mvu1ea', 'updated_at': datetime.datetime(2020, 10, 1, 22, 48, 6, tzinfo=datetime.timezone.utc)}>\n"
     ]
    }
   ],
   "source": [
    "print(project)"
   ]
  },
  {
   "cell_type": "code",
   "execution_count": 79,
   "metadata": {},
   "outputs": [],
   "source": [
    "for x in project.labels(): \n",
    "    print(x)"
   ]
  },
  {
   "cell_type": "code",
   "execution_count": 80,
   "metadata": {},
   "outputs": [
    {
     "name": "stdout",
     "output_type": "stream",
     "text": [
      "<Project {'auto_audit_number_of_labels': 1, 'auto_audit_percentage': 1, 'created_at': datetime.datetime(2020, 10, 6, 20, 10, 15, tzinfo=datetime.timezone.utc), 'description': 'Testing Labelling Workflow ', 'last_activity_time': datetime.datetime(2020, 10, 6, 20, 44, 36, tzinfo=datetime.timezone.utc), 'name': 'Canopy_Test2', 'setup_complete': datetime.datetime(2020, 10, 6, 20, 19, 10, 999000, tzinfo=datetime.timezone.utc), 'uid': 'ckfyedl1b3f8g0736z2qv8sa9', 'updated_at': datetime.datetime(2020, 10, 6, 20, 19, 11, tzinfo=datetime.timezone.utc)}>\n",
      "<Project {'auto_audit_number_of_labels': 1, 'auto_audit_percentage': 1, 'created_at': datetime.datetime(2020, 10, 1, 22, 10, 50, tzinfo=datetime.timezone.utc), 'description': '', 'last_activity_time': datetime.datetime(2020, 10, 1, 22, 48, 6, tzinfo=datetime.timezone.utc), 'name': 'testing_python_sdk', 'setup_complete': datetime.datetime(2020, 10, 1, 22, 48, 5, 946000, tzinfo=datetime.timezone.utc), 'uid': 'ckfrdhdrer6ca0724t4mvu1ea', 'updated_at': datetime.datetime(2020, 10, 1, 22, 48, 6, tzinfo=datetime.timezone.utc)}>\n",
      "<Project {'auto_audit_number_of_labels': 1, 'auto_audit_percentage': 1, 'created_at': datetime.datetime(2020, 9, 14, 22, 45, 50, tzinfo=datetime.timezone.utc), 'description': '', 'last_activity_time': datetime.datetime(2020, 9, 23, 4, 6, 16, tzinfo=datetime.timezone.utc), 'name': 'Canopy_Test', 'setup_complete': datetime.datetime(2020, 9, 14, 22, 46, 42, 93000, tzinfo=datetime.timezone.utc), 'uid': 'ckf348wtres4n0708intf0rhu', 'updated_at': datetime.datetime(2020, 9, 14, 22, 46, 42, tzinfo=datetime.timezone.utc)}>\n",
      "<Project {'auto_audit_number_of_labels': 1, 'auto_audit_percentage': 1, 'created_at': datetime.datetime(2020, 7, 30, 23, 43, 52, tzinfo=datetime.timezone.utc), 'description': 'Demonstrating image segmentation and object detection', 'last_activity_time': datetime.datetime(2020, 8, 3, 20, 34, 54, tzinfo=datetime.timezone.utc), 'name': 'Sample Project', 'setup_complete': datetime.datetime(2020, 7, 30, 23, 43, 52, 178000, tzinfo=datetime.timezone.utc), 'uid': 'ckd9g2cyh9ink0716f6wttv3q', 'updated_at': datetime.datetime(2020, 7, 30, 23, 43, 54, tzinfo=datetime.timezone.utc)}>\n"
     ]
    }
   ],
   "source": [
    "for i in client.get_projects():\n",
    "    print(i)"
   ]
  },
  {
   "cell_type": "code",
   "execution_count": 86,
   "metadata": {},
   "outputs": [],
   "source": [
    "dataset = client.get_dataset(\"ckfrdib3tgz1q07459gs261m9\")"
   ]
  },
  {
   "cell_type": "code",
   "execution_count": 109,
   "metadata": {},
   "outputs": [],
   "source": [
    "# count = 0 \n",
    "# for row in dataset.data_rows():\n",
    "#     count += 1 \n",
    "#     print(row)\n",
    "#     print(count)"
   ]
  },
  {
   "cell_type": "code",
   "execution_count": 108,
   "metadata": {},
   "outputs": [
    {
     "data": {
      "text/plain": [
       "labelbox.schema.asset_metadata.AssetMetadata"
      ]
     },
     "execution_count": 108,
     "metadata": {},
     "output_type": "execute_result"
    }
   ],
   "source": [
    "dataset.AssetMetadata"
   ]
  },
  {
   "cell_type": "code",
   "execution_count": 98,
   "metadata": {},
   "outputs": [
    {
     "name": "stdout",
     "output_type": "stream",
     "text": [
      "Help on class AssetMetadata in module labelbox.schema.asset_metadata:\n",
      "\n",
      "class AssetMetadata(labelbox.orm.db_object.DbObject)\n",
      " |  AssetMetadata(client, field_values)\n",
      " |  \n",
      " |  AssetMetadata is a datatype to provide extra context about an asset\n",
      " |  while labeling.\n",
      " |  \n",
      " |  Method resolution order:\n",
      " |      AssetMetadata\n",
      " |      labelbox.orm.db_object.DbObject\n",
      " |      labelbox.orm.model.Entity\n",
      " |      builtins.object\n",
      " |  \n",
      " |  Data and other attributes defined here:\n",
      " |  \n",
      " |  IMAGE = 'IMAGE'\n",
      " |  \n",
      " |  TEXT = 'TEXT'\n",
      " |  \n",
      " |  VIDEO = 'VIDEO'\n",
      " |  \n",
      " |  meta_type = <Field: 'meta_type'>\n",
      " |  \n",
      " |  meta_value = <Field: 'meta_value'>\n",
      " |  \n",
      " |  ----------------------------------------------------------------------\n",
      " |  Methods inherited from labelbox.orm.db_object.DbObject:\n",
      " |  \n",
      " |  __eq__(self, other)\n",
      " |      Return self==value.\n",
      " |  \n",
      " |  __hash__(self)\n",
      " |      Return hash(self).\n",
      " |  \n",
      " |  __init__(self, client, field_values)\n",
      " |      Constructor of a database object. Generally it should only be used\n",
      " |      by library internals and not by the end user.\n",
      " |      \n",
      " |      Args:\n",
      " |          client (labelbox.Client): the client used for fetching data from DB.\n",
      " |          field_values (dict): Data obtained from the DB. Maps database object\n",
      " |              fields (their graphql_name version) to values.\n",
      " |  \n",
      " |  __repr__(self)\n",
      " |      Return repr(self).\n",
      " |  \n",
      " |  __str__(self)\n",
      " |      Return str(self).\n",
      " |  \n",
      " |  ----------------------------------------------------------------------\n",
      " |  Class methods inherited from labelbox.orm.model.Entity:\n",
      " |  \n",
      " |  attribute(attribute_name) from labelbox.orm.model.EntityMeta\n",
      " |      Returns a Field or a Relationship object for the given name.\n",
      " |      Args:\n",
      " |          attribute_name (str): Field or Relationship name, Python\n",
      " |              (snake-case) convention.\n",
      " |      Return:\n",
      " |          Field or Relationship object\n",
      " |      Raises:\n",
      " |          InvalidAttributeError: in case this DB object type does not\n",
      " |              contain an attribute with the given name.\n",
      " |  \n",
      " |  field(field_name) from labelbox.orm.model.EntityMeta\n",
      " |      Returns a Field object for the given name.\n",
      " |      Args:\n",
      " |          field_name (str): Field name, Python (snake-case) convention.\n",
      " |      Return:\n",
      " |          Field object\n",
      " |      Raises:\n",
      " |          InvalidAttributeError: in case this DB object type does not\n",
      " |          contain a field with the given name.\n",
      " |  \n",
      " |  fields() from labelbox.orm.model.EntityMeta\n",
      " |      Returns a generateor that yields all the Fields declared in a\n",
      " |      concrete subclass.\n",
      " |  \n",
      " |  relationships() from labelbox.orm.model.EntityMeta\n",
      " |      Returns a generateor that yields all the Relationships declared in\n",
      " |      a concrete subclass.\n",
      " |  \n",
      " |  type_name() from labelbox.orm.model.EntityMeta\n",
      " |      Returns this DB object type name in TitleCase. For example:\n",
      " |      Project, DataRow, ...\n",
      " |  \n",
      " |  ----------------------------------------------------------------------\n",
      " |  Data descriptors inherited from labelbox.orm.model.Entity:\n",
      " |  \n",
      " |  __dict__\n",
      " |      dictionary for instance variables (if defined)\n",
      " |  \n",
      " |  __weakref__\n",
      " |      list of weak references to the object (if defined)\n",
      " |  \n",
      " |  ----------------------------------------------------------------------\n",
      " |  Data and other attributes inherited from labelbox.orm.model.Entity:\n",
      " |  \n",
      " |  AssetMetadata = <class 'labelbox.schema.asset_metadata.AssetMetadata'>\n",
      " |      AssetMetadata is a datatype to provide extra context about an asset\n",
      " |      while labeling.\n",
      " |  \n",
      " |  Benchmark = <class 'labelbox.schema.benchmark.Benchmark'>\n",
      " |      Benchmarks (also known as Golden Standard) is a quality assurance tool\n",
      " |      for training data. Training data quality is the measure of accuracy and\n",
      " |      consistency of the training data. Benchmarks works by interspersing data\n",
      " |      to be labeled, for which there is a benchmark label, to each person labeling.\n",
      " |      These labeled data are compared against their respective benchmark and an\n",
      " |      accuracy score between 0 and 100 percent is calculated.\n",
      " |  \n",
      " |  BulkImportRequest = <class 'labelbox.schema.bulk_import_request.BulkIm...\n",
      " |      A client-side representation of a database object (row). Intended as\n",
      " |      base class for classes representing concrete database types (for example\n",
      " |      a Project). Exposes support functionalities so that the concrete subclass\n",
      " |      definition be as simple and DRY as possible. It should come down to just\n",
      " |      listing Fields of that particular database type. For example:\n",
      " |      \n",
      " |          >>> class Project(DbObject):\n",
      " |          >>>     name = Field.String(\"name\")\n",
      " |          >>>     labels = Relationship.ToMany(\"Label\", True)\n",
      " |      \n",
      " |      This defines a `Project` class that has class attributes which are\n",
      " |      `Field`s and `Relationship`s. An instance of `Project` represents\n",
      " |      a database record. It has the same attributes as the `Project` class,\n",
      " |      but they are now attribute values of that record:\n",
      " |      \n",
      " |          >>> project = client.create_project(name=\"MyProject\")\n",
      " |          >>> project.name\n",
      " |          \"MyProject\"\n",
      " |  \n",
      " |  DataRow = <class 'labelbox.schema.data_row.DataRow'>\n",
      " |      A DataRow represents a single piece of data. For example, if you have\n",
      " |      a CSV with 100 rows, you will have 1 Dataset and 100 DataRows.\n",
      " |  \n",
      " |  Dataset = <class 'labelbox.schema.dataset.Dataset'>\n",
      " |      A dataset is a collection of DataRows. For example, if you have a CSV with\n",
      " |      100 rows, you will have 1 Dataset and 100 DataRows.\n",
      " |  \n",
      " |  DbObject = <class 'labelbox.orm.db_object.DbObject'>\n",
      " |      A client-side representation of a database object (row). Intended as\n",
      " |      base class for classes representing concrete database types (for example\n",
      " |      a Project). Exposes support functionalities so that the concrete subclass\n",
      " |      definition be as simple and DRY as possible. It should come down to just\n",
      " |      listing Fields of that particular database type. For example:\n",
      " |      \n",
      " |          >>> class Project(DbObject):\n",
      " |          >>>     name = Field.String(\"name\")\n",
      " |          >>>     labels = Relationship.ToMany(\"Label\", True)\n",
      " |      \n",
      " |      This defines a `Project` class that has class attributes which are\n",
      " |      `Field`s and `Relationship`s. An instance of `Project` represents\n",
      " |      a database record. It has the same attributes as the `Project` class,\n",
      " |      but they are now attribute values of that record:\n",
      " |      \n",
      " |          >>> project = client.create_project(name=\"MyProject\")\n",
      " |          >>> project.name\n",
      " |          \"MyProject\"\n",
      " |  \n",
      " |  Label = <class 'labelbox.schema.label.Label'>\n",
      " |      Label represents an assessment on a DataRow. For example one label could\n",
      " |      contain 100 bounding boxes (annotations).\n",
      " |  \n",
      " |  LabelingFrontend = <class 'labelbox.schema.labeling_frontend.LabelingF...\n",
      " |      Is a type representing an HTML / JavaScript UI that is used to generate\n",
      " |      labels. “Image Labeling” is the default Labeling Frontend that comes in every\n",
      " |      organization. You can create new labeling frontends for an organization.\n",
      " |  \n",
      " |  LabelingFrontendOptions = <class 'labelbox.schema.labeling_frontend.La...\n",
      " |      A client-side representation of a database object (row). Intended as\n",
      " |      base class for classes representing concrete database types (for example\n",
      " |      a Project). Exposes support functionalities so that the concrete subclass\n",
      " |      definition be as simple and DRY as possible. It should come down to just\n",
      " |      listing Fields of that particular database type. For example:\n",
      " |      \n",
      " |          >>> class Project(DbObject):\n",
      " |          >>>     name = Field.String(\"name\")\n",
      " |          >>>     labels = Relationship.ToMany(\"Label\", True)\n",
      " |      \n",
      " |      This defines a `Project` class that has class attributes which are\n",
      " |      `Field`s and `Relationship`s. An instance of `Project` represents\n",
      " |      a database record. It has the same attributes as the `Project` class,\n",
      " |      but they are now attribute values of that record:\n",
      " |      \n",
      " |          >>> project = client.create_project(name=\"MyProject\")\n",
      " |          >>> project.name\n",
      " |          \"MyProject\"\n",
      " |  \n",
      " |  LabelingParameterOverride = <class 'labelbox.schema.project.LabelingPa...\n",
      " |      A client-side representation of a database object (row). Intended as\n",
      " |      base class for classes representing concrete database types (for example\n",
      " |      a Project). Exposes support functionalities so that the concrete subclass\n",
      " |      definition be as simple and DRY as possible. It should come down to just\n",
      " |      listing Fields of that particular database type. For example:\n",
      " |      \n",
      " |          >>> class Project(DbObject):\n",
      " |          >>>     name = Field.String(\"name\")\n",
      " |          >>>     labels = Relationship.ToMany(\"Label\", True)\n",
      " |      \n",
      " |      This defines a `Project` class that has class attributes which are\n",
      " |      `Field`s and `Relationship`s. An instance of `Project` represents\n",
      " |      a database record. It has the same attributes as the `Project` class,\n",
      " |      but they are now attribute values of that record:\n",
      " |      \n",
      " |          >>> project = client.create_project(name=\"MyProject\")\n",
      " |          >>> project.name\n",
      " |          \"MyProject\"\n",
      " |  \n",
      " |  Organization = <class 'labelbox.schema.organization.Organization'>\n",
      " |      An Organization is a group of Users associated with data created by\n",
      " |      Users within that Organization. Typically all Users within an Organization\n",
      " |      have access to data created by any User in the same Organization.\n",
      " |  \n",
      " |  Prediction = <class 'labelbox.schema.prediction.Prediction'>\n",
      " |      A prediction created by a PredictionModel.\n",
      " |      \n",
      " |      NOTE: This is used for the legacy editor [1], if you wish to\n",
      " |      import annotations, refer to [2]\n",
      " |      \n",
      " |      \n",
      " |      [1] https://labelbox.com/docs/legacy/import-model-prediction\n",
      " |      [2] https://labelbox.com/docs/automation/model-assisted-labeling\n",
      " |  \n",
      " |  PredictionModel = <class 'labelbox.schema.prediction.PredictionModel'>\n",
      " |      A prediction model represents a specific version of a model.\n",
      " |      \n",
      " |      NOTE: This is used for the legacy editor [1], if you wish to\n",
      " |      import annotations, refer to [2]\n",
      " |      \n",
      " |      \n",
      " |      [1] https://labelbox.com/docs/legacy/import-model-prediction\n",
      " |      [2] https://labelbox.com/docs/automation/model-assisted-labeling\n",
      " |  \n",
      " |  Project = <class 'labelbox.schema.project.Project'>\n",
      " |      A Project is a container that includes a labeling frontend, an ontology,\n",
      " |      datasets and labels.\n",
      " |  \n",
      " |  Review = <class 'labelbox.schema.review.Review'>\n",
      " |      Reviewing labeled data is a collaborative quality assurance technique.\n",
      " |      A Review object indicates the quality of the assigned Label. The aggregated\n",
      " |      review numbers can be obtained on a Project object.\n",
      " |  \n",
      " |  Task = <class 'labelbox.schema.task.Task'>\n",
      " |      Represents a server-side process that might take a longer time to process.\n",
      " |      Allows the Task state to be updated and checked on the client side.\n",
      " |  \n",
      " |  User = <class 'labelbox.schema.user.User'>\n",
      " |      A User is a registered Labelbox user (for example you) associated with\n",
      " |      data they create or import and an Organization they belong to.\n",
      " |  \n",
      " |  Webhook = <class 'labelbox.schema.webhook.Webhook'>\n",
      " |      Represents a server-side rule for sending notifications to a web-server\n",
      " |      whenever one of several predefined actions happens within a context of\n",
      " |      a Project or an Organization.\n",
      " |  \n",
      " |  deleted = <Field: 'deleted'>\n",
      " |  \n",
      " |  uid = <Field: 'uid'>\n",
      "\n"
     ]
    }
   ],
   "source": [
    "help(dataset.AssetMetadata)"
   ]
  },
  {
   "cell_type": "code",
   "execution_count": 64,
   "metadata": {},
   "outputs": [
    {
     "name": "stdout",
     "output_type": "stream",
     "text": [
      "{\"data\":{\"user\":{\"id\":\"ckd9g2cwm9lsc0812f89y41o0\",\"email\":\"zwarshavsky@gmail.com\",\"role\":\"ADMIN\",\"organization\":{\"id\":\"ckd9g2cw29ine071604jfkgcj\",\"name\":\"Project Canopy\"},\"projects\":[{\"id\":\"ckfyedl1b3f8g0736z2qv8sa9\",\"name\":\"Canopy_Test2\"},{\"id\":\"ckfrdhdrer6ca0724t4mvu1ea\",\"name\":\"testing_python_sdk\"},{\"id\":\"ckf348wtres4n0708intf0rhu\",\"name\":\"Canopy_Test\"},{\"id\":\"ckd9g2cyh9ink0716f6wttv3q\",\"name\":\"Sample Project\"}]}}}\n",
      "\n"
     ]
    }
   ],
   "source": [
    "client = GraphQLClient('https://api.labelbox.com/graphql')\n",
    "client.inject_token(f'Bearer {LABELBOX_API_KEY}')\n",
    "\n",
    "data = client.execute('''\n",
    "\n",
    "query getUserInfo { \n",
    "    user { \n",
    "        id \n",
    "        email \n",
    "        role \n",
    "        organization { \n",
    "            id \n",
    "            name \n",
    "        } \n",
    "        projects { \n",
    "            id \n",
    "            name \n",
    "        } \n",
    "    }\n",
    "}\n",
    "\n",
    "  \n",
    "''')\n",
    "\n",
    "print(data)"
   ]
  },
  {
   "cell_type": "code",
   "execution_count": null,
   "metadata": {},
   "outputs": [],
   "source": []
  }
 ],
 "metadata": {
  "kernelspec": {
   "display_name": "labelling",
   "language": "python",
   "name": "labelling"
  },
  "language_info": {
   "codemirror_mode": {
    "name": "ipython",
    "version": 3
   },
   "file_extension": ".py",
   "mimetype": "text/x-python",
   "name": "python",
   "nbconvert_exporter": "python",
   "pygments_lexer": "ipython3",
   "version": "3.7.5"
  }
 },
 "nbformat": 4,
 "nbformat_minor": 4
}
