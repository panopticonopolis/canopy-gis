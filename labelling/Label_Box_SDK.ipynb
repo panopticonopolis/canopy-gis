{
 "cells": [
  {
   "cell_type": "code",
   "execution_count": 61,
   "metadata": {},
   "outputs": [],
   "source": [
    "from labelbox import Client\n",
    "from env_vars import LABELBOX_API_KEY\n",
    "from glob import glob\n",
    "from graphqlclient import GraphQLClient"
   ]
  },
  {
   "cell_type": "code",
   "execution_count": 75,
   "metadata": {},
   "outputs": [],
   "source": [
    "client = Client(LABELBOX_API_KEY)"
   ]
  },
  {
   "cell_type": "code",
   "execution_count": 3,
   "metadata": {},
   "outputs": [],
   "source": [
    "# project = client.create_project(name=\"testing_python_sdk\")"
   ]
  },
  {
   "cell_type": "code",
   "execution_count": 4,
   "metadata": {},
   "outputs": [],
   "source": [
    "# dataset = client.create_dataset(name=\"test_dataset\", projects=project)"
   ]
  },
  {
   "cell_type": "code",
   "execution_count": 54,
   "metadata": {},
   "outputs": [
    {
     "name": "stdout",
     "output_type": "stream",
     "text": [
      "Help on method create_dataset in module labelbox.client:\n",
      "\n",
      "create_dataset(**kwargs) method of labelbox.client.Client instance\n",
      "    Creates a Dataset object on the server. Attribute values are\n",
      "        passed as keyword arguments:\n",
      "            >>> project = client.get_project(\"uid_of_my_project\")\n",
      "            >>> dataset = client.create_dataset(name=\"MyDataset\",\n",
      "            >>>                                 projects=project)\n",
      "    \n",
      "    Kwargs:\n",
      "        Keyword arguments with new Dataset attribute values.\n",
      "        Keys are attribute names (in Python, snake-case convention) and\n",
      "        values are desired attribute values.\n",
      "    Returns:\n",
      "        A new Dataset object.\n",
      "    Raises:\n",
      "        InvalidAttributeError: If the Dataset type does not contain\n",
      "            any of the attribute names given in kwargs.\n",
      "\n"
     ]
    }
   ],
   "source": [
    "help(client.create_dataset)"
   ]
  },
  {
   "cell_type": "code",
   "execution_count": 13,
   "metadata": {},
   "outputs": [],
   "source": [
    "data_list = glob(\"/Volumes/Lacie/zhenyadata/Project_Canopy_Data/PC_Data/Sentinel_Data/Labelled/Tiles_v2_Misha/Polygon_Crops/MSK/Individual_Polygons/JPG/*\")"
   ]
  },
  {
   "cell_type": "code",
   "execution_count": 76,
   "metadata": {},
   "outputs": [],
   "source": [
    "# dataset.create_data_rows(data_list)"
   ]
  },
  {
   "cell_type": "code",
   "execution_count": 55,
   "metadata": {},
   "outputs": [
    {
     "name": "stdout",
     "output_type": "stream",
     "text": [
      "Help on method create_data_rows in module labelbox.schema.dataset:\n",
      "\n",
      "create_data_rows(items) method of labelbox.schema.dataset.Dataset instance\n",
      "    Creates multiple DataRow objects based on the given `items`.\n",
      "    \n",
      "    Each element in `items` can be either a `str` or a `dict`. If\n",
      "    it is a `str`, then it is interpreted as a local file path. The file\n",
      "    is uploaded to Labelbox and a DataRow referencing it is created.\n",
      "    If an item is a `dict`, then it should map `DataRow` fields (or their\n",
      "    names) to values. At the minimum an `item` passed as a `dict` must \n",
      "    contain a `DataRow.row_data` key and value.\n",
      "    \n",
      "    >>> dataset.create_data_rows([\n",
      "    >>>     {DataRow.row_data:\"http://my_site.com/photos/img_01.jpg\"},\n",
      "    >>>     \"path/to/file2.jpg\"\n",
      "    >>>     ])\n",
      "    \n",
      "    Args:\n",
      "        items (iterable of (dict or str)): See above for details.\n",
      "    \n",
      "    Returns:\n",
      "        Task representing the data import on the server side. The Task\n",
      "        can be used for inspecting task progress and waiting until it's done.\n",
      "    \n",
      "    Raises:\n",
      "        InvalidQueryError: If the `items` parameter does not conform to\n",
      "            the specification above or if the server did not accept the\n",
      "            DataRow creation request (unknown reason).\n",
      "        ResourceNotFoundError: If unable to retrieve the Task for the\n",
      "            import process. This could imply that the import failed.\n",
      "        InvalidAttributeError: If there are fields in `items` not valid for\n",
      "            a DataRow.\n",
      "\n"
     ]
    }
   ],
   "source": [
    "help(dataset.create_data_rows)"
   ]
  },
  {
   "cell_type": "code",
   "execution_count": 78,
   "metadata": {},
   "outputs": [],
   "source": [
    "project = client.get_project(\"ckfrdhdrer6ca0724t4mvu1ea\")"
   ]
  },
  {
   "cell_type": "code",
   "execution_count": 85,
   "metadata": {},
   "outputs": [
    {
     "name": "stdout",
     "output_type": "stream",
     "text": [
      "<Dataset {'created_at': datetime.datetime(2020, 10, 1, 22, 11, 33, tzinfo=datetime.timezone.utc), 'description': '', 'name': 'test_dataset', 'uid': 'ckfrdib3tgz1q07459gs261m9', 'updated_at': datetime.datetime(2020, 10, 1, 22, 11, 33, tzinfo=datetime.timezone.utc)}>\n"
     ]
    }
   ],
   "source": [
    "for dataset in project.datasets():\n",
    "    print(dataset)"
   ]
  },
  {
   "cell_type": "code",
   "execution_count": 23,
   "metadata": {},
   "outputs": [
    {
     "name": "stdout",
     "output_type": "stream",
     "text": [
      "<Project {'auto_audit_number_of_labels': 1, 'auto_audit_percentage': 1, 'created_at': datetime.datetime(2020, 10, 1, 22, 10, 50, tzinfo=datetime.timezone.utc), 'description': '', 'last_activity_time': datetime.datetime(2020, 10, 1, 22, 48, 6, tzinfo=datetime.timezone.utc), 'name': 'testing_python_sdk', 'setup_complete': datetime.datetime(2020, 10, 1, 22, 48, 5, 946000, tzinfo=datetime.timezone.utc), 'uid': 'ckfrdhdrer6ca0724t4mvu1ea', 'updated_at': datetime.datetime(2020, 10, 1, 22, 48, 6, tzinfo=datetime.timezone.utc)}>\n"
     ]
    }
   ],
   "source": [
    "print(project)"
   ]
  },
  {
   "cell_type": "code",
   "execution_count": 79,
   "metadata": {},
   "outputs": [],
   "source": [
    "for x in project.labels(): \n",
    "    print(x)"
   ]
  },
  {
   "cell_type": "code",
   "execution_count": 80,
   "metadata": {},
   "outputs": [
    {
     "name": "stdout",
     "output_type": "stream",
     "text": [
      "<Project {'auto_audit_number_of_labels': 1, 'auto_audit_percentage': 1, 'created_at': datetime.datetime(2020, 10, 6, 20, 10, 15, tzinfo=datetime.timezone.utc), 'description': 'Testing Labelling Workflow ', 'last_activity_time': datetime.datetime(2020, 10, 6, 20, 44, 36, tzinfo=datetime.timezone.utc), 'name': 'Canopy_Test2', 'setup_complete': datetime.datetime(2020, 10, 6, 20, 19, 10, 999000, tzinfo=datetime.timezone.utc), 'uid': 'ckfyedl1b3f8g0736z2qv8sa9', 'updated_at': datetime.datetime(2020, 10, 6, 20, 19, 11, tzinfo=datetime.timezone.utc)}>\n",
      "<Project {'auto_audit_number_of_labels': 1, 'auto_audit_percentage': 1, 'created_at': datetime.datetime(2020, 10, 1, 22, 10, 50, tzinfo=datetime.timezone.utc), 'description': '', 'last_activity_time': datetime.datetime(2020, 10, 1, 22, 48, 6, tzinfo=datetime.timezone.utc), 'name': 'testing_python_sdk', 'setup_complete': datetime.datetime(2020, 10, 1, 22, 48, 5, 946000, tzinfo=datetime.timezone.utc), 'uid': 'ckfrdhdrer6ca0724t4mvu1ea', 'updated_at': datetime.datetime(2020, 10, 1, 22, 48, 6, tzinfo=datetime.timezone.utc)}>\n",
      "<Project {'auto_audit_number_of_labels': 1, 'auto_audit_percentage': 1, 'created_at': datetime.datetime(2020, 9, 14, 22, 45, 50, tzinfo=datetime.timezone.utc), 'description': '', 'last_activity_time': datetime.datetime(2020, 9, 23, 4, 6, 16, tzinfo=datetime.timezone.utc), 'name': 'Canopy_Test', 'setup_complete': datetime.datetime(2020, 9, 14, 22, 46, 42, 93000, tzinfo=datetime.timezone.utc), 'uid': 'ckf348wtres4n0708intf0rhu', 'updated_at': datetime.datetime(2020, 9, 14, 22, 46, 42, tzinfo=datetime.timezone.utc)}>\n",
      "<Project {'auto_audit_number_of_labels': 1, 'auto_audit_percentage': 1, 'created_at': datetime.datetime(2020, 7, 30, 23, 43, 52, tzinfo=datetime.timezone.utc), 'description': 'Demonstrating image segmentation and object detection', 'last_activity_time': datetime.datetime(2020, 8, 3, 20, 34, 54, tzinfo=datetime.timezone.utc), 'name': 'Sample Project', 'setup_complete': datetime.datetime(2020, 7, 30, 23, 43, 52, 178000, tzinfo=datetime.timezone.utc), 'uid': 'ckd9g2cyh9ink0716f6wttv3q', 'updated_at': datetime.datetime(2020, 7, 30, 23, 43, 54, tzinfo=datetime.timezone.utc)}>\n"
     ]
    }
   ],
   "source": [
    "for i in client.get_projects():\n",
    "    print(i)"
   ]
  },
  {
   "cell_type": "code",
   "execution_count": 132,
   "metadata": {},
   "outputs": [
    {
     "name": "stdout",
     "output_type": "stream",
     "text": [
      "<Dataset {'created_at': datetime.datetime(2020, 7, 30, 23, 43, 52, tzinfo=datetime.timezone.utc), 'description': '', 'name': 'Example Nature Dataset', 'uid': 'ckd9g2czqkg910797yxw61dwo', 'updated_at': datetime.datetime(2020, 7, 30, 23, 43, 52, tzinfo=datetime.timezone.utc)}>\n",
      "<Dataset {'created_at': datetime.datetime(2020, 8, 3, 21, 13, 20, tzinfo=datetime.timezone.utc), 'description': '', 'name': 'canopy-test', 'uid': 'ckdf0g6h9srht0766h124l0je', 'updated_at': datetime.datetime(2020, 8, 3, 21, 13, 20, tzinfo=datetime.timezone.utc)}>\n",
      "<Dataset {'created_at': datetime.datetime(2020, 8, 4, 18, 1, 41, tzinfo=datetime.timezone.utc), 'description': '', 'name': 'test-dataset', 'uid': 'ckdg91kgsaxzi08840be2mk8j', 'updated_at': datetime.datetime(2020, 8, 4, 18, 1, 41, tzinfo=datetime.timezone.utc)}>\n",
      "<Dataset {'created_at': datetime.datetime(2020, 9, 14, 21, 43, 40, tzinfo=datetime.timezone.utc), 'description': '', 'name': 'Polygon_Crops_Tiles_v2', 'uid': 'ckf320yujd8h107579hodf4du', 'updated_at': datetime.datetime(2020, 9, 14, 21, 43, 40, tzinfo=datetime.timezone.utc)}>\n",
      "<Dataset {'created_at': datetime.datetime(2020, 9, 14, 22, 42, 46, tzinfo=datetime.timezone.utc), 'description': '', 'name': 'Polygon_Crops_jpg', 'uid': 'ckf344zdudja207705m90cbnm', 'updated_at': datetime.datetime(2020, 9, 14, 22, 42, 46, tzinfo=datetime.timezone.utc)}>\n",
      "<Dataset {'created_at': datetime.datetime(2020, 10, 1, 22, 11, 33, tzinfo=datetime.timezone.utc), 'description': '', 'name': 'test_dataset', 'uid': 'ckfrdib3tgz1q07459gs261m9', 'updated_at': datetime.datetime(2020, 10, 1, 22, 11, 33, tzinfo=datetime.timezone.utc)}>\n"
     ]
    }
   ],
   "source": [
    "for dataset in client.get_datasets():\n",
    "    print(dataset)"
   ]
  },
  {
   "cell_type": "code",
   "execution_count": 86,
   "metadata": {},
   "outputs": [],
   "source": [
    "dataset = client.get_dataset(\"ckfrdib3tgz1q07459gs261m9\")"
   ]
  },
  {
   "cell_type": "code",
   "execution_count": null,
   "metadata": {},
   "outputs": [],
   "source": [
    "row data_row.create_metadata(\"TEXT\", \"testing_description\"). Here, type will need to be of a specific format from here, namely TEXT, IMAGE, or VIDEO. "
   ]
  },
  {
   "cell_type": "code",
   "execution_count": 109,
   "metadata": {},
   "outputs": [],
   "source": [
    "# count = 0 \n",
    "# for row in dataset.data_rows():\n",
    "#     count += 1 \n",
    "#     print(row)\n",
    "#     print(count)"
   ]
  },
  {
   "cell_type": "code",
   "execution_count": 129,
   "metadata": {},
   "outputs": [],
   "source": [
    "for row in dataset.data_rows():\n",
    "    row.create_metadata(\"TEXT\",\"Test Description\")"
   ]
  },
  {
   "cell_type": "code",
   "execution_count": 152,
   "metadata": {},
   "outputs": [
    {
     "name": "stdout",
     "output_type": "stream",
     "text": [
      "https://storage.labelbox.com/ckd9g2cw29ine071604jfkgcj%2Ff3a074e1-e614-33bf-8718-74cec5158ed2-1.jpg?Expires=1602190980830&KeyName=labelbox-assets-key-1&Signature=LtxU07avox_I52mxUQnrsjKK61s\n",
      "['__add__', '__class__', '__contains__', '__delattr__', '__dir__', '__doc__', '__eq__', '__format__', '__ge__', '__getattribute__', '__getitem__', '__getnewargs__', '__gt__', '__hash__', '__init__', '__init_subclass__', '__iter__', '__le__', '__len__', '__lt__', '__mod__', '__mul__', '__ne__', '__new__', '__reduce__', '__reduce_ex__', '__repr__', '__rmod__', '__rmul__', '__setattr__', '__sizeof__', '__str__', '__subclasshook__', 'capitalize', 'casefold', 'center', 'count', 'encode', 'endswith', 'expandtabs', 'find', 'format', 'format_map', 'index', 'isalnum', 'isalpha', 'isascii', 'isdecimal', 'isdigit', 'isidentifier', 'islower', 'isnumeric', 'isprintable', 'isspace', 'istitle', 'isupper', 'join', 'ljust', 'lower', 'lstrip', 'maketrans', 'partition', 'replace', 'rfind', 'rindex', 'rjust', 'rpartition', 'rsplit', 'rstrip', 'split', 'splitlines', 'startswith', 'strip', 'swapcase', 'title', 'translate', 'upper', 'zfill']\n",
      "https://storage.labelbox.com/ckd9g2cw29ine071604jfkgcj%2Fb7b3eab2-d55c-36a2-09d3-28b3a17c260d-2.jpg?Expires=1602190980830&KeyName=labelbox-assets-key-1&Signature=yW0RxOkUveVqdqyyAncDpWAgWj0\n",
      "['__add__', '__class__', '__contains__', '__delattr__', '__dir__', '__doc__', '__eq__', '__format__', '__ge__', '__getattribute__', '__getitem__', '__getnewargs__', '__gt__', '__hash__', '__init__', '__init_subclass__', '__iter__', '__le__', '__len__', '__lt__', '__mod__', '__mul__', '__ne__', '__new__', '__reduce__', '__reduce_ex__', '__repr__', '__rmod__', '__rmul__', '__setattr__', '__sizeof__', '__str__', '__subclasshook__', 'capitalize', 'casefold', 'center', 'count', 'encode', 'endswith', 'expandtabs', 'find', 'format', 'format_map', 'index', 'isalnum', 'isalpha', 'isascii', 'isdecimal', 'isdigit', 'isidentifier', 'islower', 'isnumeric', 'isprintable', 'isspace', 'istitle', 'isupper', 'join', 'ljust', 'lower', 'lstrip', 'maketrans', 'partition', 'replace', 'rfind', 'rindex', 'rjust', 'rpartition', 'rsplit', 'rstrip', 'split', 'splitlines', 'startswith', 'strip', 'swapcase', 'title', 'translate', 'upper', 'zfill']\n",
      "https://storage.labelbox.com/ckd9g2cw29ine071604jfkgcj%2F1ed0ff51-ce14-69c3-8e63-e19a90b82406-3.jpg?Expires=1602190980830&KeyName=labelbox-assets-key-1&Signature=zhEu1vOEI-4Xff_gcvamaCl20do\n",
      "['__add__', '__class__', '__contains__', '__delattr__', '__dir__', '__doc__', '__eq__', '__format__', '__ge__', '__getattribute__', '__getitem__', '__getnewargs__', '__gt__', '__hash__', '__init__', '__init_subclass__', '__iter__', '__le__', '__len__', '__lt__', '__mod__', '__mul__', '__ne__', '__new__', '__reduce__', '__reduce_ex__', '__repr__', '__rmod__', '__rmul__', '__setattr__', '__sizeof__', '__str__', '__subclasshook__', 'capitalize', 'casefold', 'center', 'count', 'encode', 'endswith', 'expandtabs', 'find', 'format', 'format_map', 'index', 'isalnum', 'isalpha', 'isascii', 'isdecimal', 'isdigit', 'isidentifier', 'islower', 'isnumeric', 'isprintable', 'isspace', 'istitle', 'isupper', 'join', 'ljust', 'lower', 'lstrip', 'maketrans', 'partition', 'replace', 'rfind', 'rindex', 'rjust', 'rpartition', 'rsplit', 'rstrip', 'split', 'splitlines', 'startswith', 'strip', 'swapcase', 'title', 'translate', 'upper', 'zfill']\n",
      "https://storage.labelbox.com/ckd9g2cw29ine071604jfkgcj%2F67abd1d8-e969-4a88-d96f-9063e46ba190-4.jpg?Expires=1602190980830&KeyName=labelbox-assets-key-1&Signature=BjfHF-ka024wq2IKnWL54pTwCkM\n",
      "['__add__', '__class__', '__contains__', '__delattr__', '__dir__', '__doc__', '__eq__', '__format__', '__ge__', '__getattribute__', '__getitem__', '__getnewargs__', '__gt__', '__hash__', '__init__', '__init_subclass__', '__iter__', '__le__', '__len__', '__lt__', '__mod__', '__mul__', '__ne__', '__new__', '__reduce__', '__reduce_ex__', '__repr__', '__rmod__', '__rmul__', '__setattr__', '__sizeof__', '__str__', '__subclasshook__', 'capitalize', 'casefold', 'center', 'count', 'encode', 'endswith', 'expandtabs', 'find', 'format', 'format_map', 'index', 'isalnum', 'isalpha', 'isascii', 'isdecimal', 'isdigit', 'isidentifier', 'islower', 'isnumeric', 'isprintable', 'isspace', 'istitle', 'isupper', 'join', 'ljust', 'lower', 'lstrip', 'maketrans', 'partition', 'replace', 'rfind', 'rindex', 'rjust', 'rpartition', 'rsplit', 'rstrip', 'split', 'splitlines', 'startswith', 'strip', 'swapcase', 'title', 'translate', 'upper', 'zfill']\n",
      "https://storage.labelbox.com/ckd9g2cw29ine071604jfkgcj%2Febc29b41-13f3-902c-b38f-de718fe90eff-5.jpg?Expires=1602190980831&KeyName=labelbox-assets-key-1&Signature=olSP6PDeUNZ7gN1z-WKeP1KFQNc\n",
      "['__add__', '__class__', '__contains__', '__delattr__', '__dir__', '__doc__', '__eq__', '__format__', '__ge__', '__getattribute__', '__getitem__', '__getnewargs__', '__gt__', '__hash__', '__init__', '__init_subclass__', '__iter__', '__le__', '__len__', '__lt__', '__mod__', '__mul__', '__ne__', '__new__', '__reduce__', '__reduce_ex__', '__repr__', '__rmod__', '__rmul__', '__setattr__', '__sizeof__', '__str__', '__subclasshook__', 'capitalize', 'casefold', 'center', 'count', 'encode', 'endswith', 'expandtabs', 'find', 'format', 'format_map', 'index', 'isalnum', 'isalpha', 'isascii', 'isdecimal', 'isdigit', 'isidentifier', 'islower', 'isnumeric', 'isprintable', 'isspace', 'istitle', 'isupper', 'join', 'ljust', 'lower', 'lstrip', 'maketrans', 'partition', 'replace', 'rfind', 'rindex', 'rjust', 'rpartition', 'rsplit', 'rstrip', 'split', 'splitlines', 'startswith', 'strip', 'swapcase', 'title', 'translate', 'upper', 'zfill']\n",
      "https://storage.labelbox.com/ckd9g2cw29ine071604jfkgcj%2Fa0f29009-8782-2302-5a80-1f0d6f2ee917-6.jpg?Expires=1602190980831&KeyName=labelbox-assets-key-1&Signature=NdlZspqlpgn9xvNChn-Io8bq00Q\n",
      "['__add__', '__class__', '__contains__', '__delattr__', '__dir__', '__doc__', '__eq__', '__format__', '__ge__', '__getattribute__', '__getitem__', '__getnewargs__', '__gt__', '__hash__', '__init__', '__init_subclass__', '__iter__', '__le__', '__len__', '__lt__', '__mod__', '__mul__', '__ne__', '__new__', '__reduce__', '__reduce_ex__', '__repr__', '__rmod__', '__rmul__', '__setattr__', '__sizeof__', '__str__', '__subclasshook__', 'capitalize', 'casefold', 'center', 'count', 'encode', 'endswith', 'expandtabs', 'find', 'format', 'format_map', 'index', 'isalnum', 'isalpha', 'isascii', 'isdecimal', 'isdigit', 'isidentifier', 'islower', 'isnumeric', 'isprintable', 'isspace', 'istitle', 'isupper', 'join', 'ljust', 'lower', 'lstrip', 'maketrans', 'partition', 'replace', 'rfind', 'rindex', 'rjust', 'rpartition', 'rsplit', 'rstrip', 'split', 'splitlines', 'startswith', 'strip', 'swapcase', 'title', 'translate', 'upper', 'zfill']\n",
      "https://storage.labelbox.com/ckd9g2cw29ine071604jfkgcj%2F20560f2f-42c9-3f79-7434-657691ef5dea-7.jpg?Expires=1602190980831&KeyName=labelbox-assets-key-1&Signature=t4Gu00fdZbgslGgcw465ZKVAgtU\n",
      "['__add__', '__class__', '__contains__', '__delattr__', '__dir__', '__doc__', '__eq__', '__format__', '__ge__', '__getattribute__', '__getitem__', '__getnewargs__', '__gt__', '__hash__', '__init__', '__init_subclass__', '__iter__', '__le__', '__len__', '__lt__', '__mod__', '__mul__', '__ne__', '__new__', '__reduce__', '__reduce_ex__', '__repr__', '__rmod__', '__rmul__', '__setattr__', '__sizeof__', '__str__', '__subclasshook__', 'capitalize', 'casefold', 'center', 'count', 'encode', 'endswith', 'expandtabs', 'find', 'format', 'format_map', 'index', 'isalnum', 'isalpha', 'isascii', 'isdecimal', 'isdigit', 'isidentifier', 'islower', 'isnumeric', 'isprintable', 'isspace', 'istitle', 'isupper', 'join', 'ljust', 'lower', 'lstrip', 'maketrans', 'partition', 'replace', 'rfind', 'rindex', 'rjust', 'rpartition', 'rsplit', 'rstrip', 'split', 'splitlines', 'startswith', 'strip', 'swapcase', 'title', 'translate', 'upper', 'zfill']\n",
      "https://storage.labelbox.com/ckd9g2cw29ine071604jfkgcj%2Feb3bad43-5a3e-e302-9477-81f6b80e77d6-8.jpg?Expires=1602190980831&KeyName=labelbox-assets-key-1&Signature=v5Gxj419q9TL3wx6_vTngGYEnDc\n",
      "['__add__', '__class__', '__contains__', '__delattr__', '__dir__', '__doc__', '__eq__', '__format__', '__ge__', '__getattribute__', '__getitem__', '__getnewargs__', '__gt__', '__hash__', '__init__', '__init_subclass__', '__iter__', '__le__', '__len__', '__lt__', '__mod__', '__mul__', '__ne__', '__new__', '__reduce__', '__reduce_ex__', '__repr__', '__rmod__', '__rmul__', '__setattr__', '__sizeof__', '__str__', '__subclasshook__', 'capitalize', 'casefold', 'center', 'count', 'encode', 'endswith', 'expandtabs', 'find', 'format', 'format_map', 'index', 'isalnum', 'isalpha', 'isascii', 'isdecimal', 'isdigit', 'isidentifier', 'islower', 'isnumeric', 'isprintable', 'isspace', 'istitle', 'isupper', 'join', 'ljust', 'lower', 'lstrip', 'maketrans', 'partition', 'replace', 'rfind', 'rindex', 'rjust', 'rpartition', 'rsplit', 'rstrip', 'split', 'splitlines', 'startswith', 'strip', 'swapcase', 'title', 'translate', 'upper', 'zfill']\n",
      "https://storage.labelbox.com/ckd9g2cw29ine071604jfkgcj%2F8c0581e5-74e1-c23e-f956-23cf880fade0-9.jpg?Expires=1602190980831&KeyName=labelbox-assets-key-1&Signature=gOv7ivxu3hPox9Ql8E4yK8Nwvq4\n",
      "['__add__', '__class__', '__contains__', '__delattr__', '__dir__', '__doc__', '__eq__', '__format__', '__ge__', '__getattribute__', '__getitem__', '__getnewargs__', '__gt__', '__hash__', '__init__', '__init_subclass__', '__iter__', '__le__', '__len__', '__lt__', '__mod__', '__mul__', '__ne__', '__new__', '__reduce__', '__reduce_ex__', '__repr__', '__rmod__', '__rmul__', '__setattr__', '__sizeof__', '__str__', '__subclasshook__', 'capitalize', 'casefold', 'center', 'count', 'encode', 'endswith', 'expandtabs', 'find', 'format', 'format_map', 'index', 'isalnum', 'isalpha', 'isascii', 'isdecimal', 'isdigit', 'isidentifier', 'islower', 'isnumeric', 'isprintable', 'isspace', 'istitle', 'isupper', 'join', 'ljust', 'lower', 'lstrip', 'maketrans', 'partition', 'replace', 'rfind', 'rindex', 'rjust', 'rpartition', 'rsplit', 'rstrip', 'split', 'splitlines', 'startswith', 'strip', 'swapcase', 'title', 'translate', 'upper', 'zfill']\n",
      "https://storage.labelbox.com/ckd9g2cw29ine071604jfkgcj%2F3e4509c6-7379-c755-b0bd-29c1b2092925-10.jpg?Expires=1602190980832&KeyName=labelbox-assets-key-1&Signature=e45d8emk4fT7pASYQHB2_bHBh5c\n",
      "['__add__', '__class__', '__contains__', '__delattr__', '__dir__', '__doc__', '__eq__', '__format__', '__ge__', '__getattribute__', '__getitem__', '__getnewargs__', '__gt__', '__hash__', '__init__', '__init_subclass__', '__iter__', '__le__', '__len__', '__lt__', '__mod__', '__mul__', '__ne__', '__new__', '__reduce__', '__reduce_ex__', '__repr__', '__rmod__', '__rmul__', '__setattr__', '__sizeof__', '__str__', '__subclasshook__', 'capitalize', 'casefold', 'center', 'count', 'encode', 'endswith', 'expandtabs', 'find', 'format', 'format_map', 'index', 'isalnum', 'isalpha', 'isascii', 'isdecimal', 'isdigit', 'isidentifier', 'islower', 'isnumeric', 'isprintable', 'isspace', 'istitle', 'isupper', 'join', 'ljust', 'lower', 'lstrip', 'maketrans', 'partition', 'replace', 'rfind', 'rindex', 'rjust', 'rpartition', 'rsplit', 'rstrip', 'split', 'splitlines', 'startswith', 'strip', 'swapcase', 'title', 'translate', 'upper', 'zfill']\n",
      "https://storage.labelbox.com/ckd9g2cw29ine071604jfkgcj%2F1d541853-2c14-4ee7-0ac4-2984a13f42ea-11.jpg?Expires=1602190980832&KeyName=labelbox-assets-key-1&Signature=4H61hoY2_g7wGuT9KaJ6ehYeaaQ\n",
      "['__add__', '__class__', '__contains__', '__delattr__', '__dir__', '__doc__', '__eq__', '__format__', '__ge__', '__getattribute__', '__getitem__', '__getnewargs__', '__gt__', '__hash__', '__init__', '__init_subclass__', '__iter__', '__le__', '__len__', '__lt__', '__mod__', '__mul__', '__ne__', '__new__', '__reduce__', '__reduce_ex__', '__repr__', '__rmod__', '__rmul__', '__setattr__', '__sizeof__', '__str__', '__subclasshook__', 'capitalize', 'casefold', 'center', 'count', 'encode', 'endswith', 'expandtabs', 'find', 'format', 'format_map', 'index', 'isalnum', 'isalpha', 'isascii', 'isdecimal', 'isdigit', 'isidentifier', 'islower', 'isnumeric', 'isprintable', 'isspace', 'istitle', 'isupper', 'join', 'ljust', 'lower', 'lstrip', 'maketrans', 'partition', 'replace', 'rfind', 'rindex', 'rjust', 'rpartition', 'rsplit', 'rstrip', 'split', 'splitlines', 'startswith', 'strip', 'swapcase', 'title', 'translate', 'upper', 'zfill']\n",
      "https://storage.labelbox.com/ckd9g2cw29ine071604jfkgcj%2F11359ea7-40e7-5c05-a11d-b14efdd44df3-12.jpg?Expires=1602190980832&KeyName=labelbox-assets-key-1&Signature=KFBOWA9T2Hg_Y1-i7_XvpFOeXmM\n",
      "['__add__', '__class__', '__contains__', '__delattr__', '__dir__', '__doc__', '__eq__', '__format__', '__ge__', '__getattribute__', '__getitem__', '__getnewargs__', '__gt__', '__hash__', '__init__', '__init_subclass__', '__iter__', '__le__', '__len__', '__lt__', '__mod__', '__mul__', '__ne__', '__new__', '__reduce__', '__reduce_ex__', '__repr__', '__rmod__', '__rmul__', '__setattr__', '__sizeof__', '__str__', '__subclasshook__', 'capitalize', 'casefold', 'center', 'count', 'encode', 'endswith', 'expandtabs', 'find', 'format', 'format_map', 'index', 'isalnum', 'isalpha', 'isascii', 'isdecimal', 'isdigit', 'isidentifier', 'islower', 'isnumeric', 'isprintable', 'isspace', 'istitle', 'isupper', 'join', 'ljust', 'lower', 'lstrip', 'maketrans', 'partition', 'replace', 'rfind', 'rindex', 'rjust', 'rpartition', 'rsplit', 'rstrip', 'split', 'splitlines', 'startswith', 'strip', 'swapcase', 'title', 'translate', 'upper', 'zfill']\n",
      "https://storage.labelbox.com/ckd9g2cw29ine071604jfkgcj%2F86ec6108-f32c-16c7-3942-fb73a0c3a5ba-13.jpg?Expires=1602190980832&KeyName=labelbox-assets-key-1&Signature=zNU1hL7VijX8s_OzDSm9tHaC4hI\n",
      "['__add__', '__class__', '__contains__', '__delattr__', '__dir__', '__doc__', '__eq__', '__format__', '__ge__', '__getattribute__', '__getitem__', '__getnewargs__', '__gt__', '__hash__', '__init__', '__init_subclass__', '__iter__', '__le__', '__len__', '__lt__', '__mod__', '__mul__', '__ne__', '__new__', '__reduce__', '__reduce_ex__', '__repr__', '__rmod__', '__rmul__', '__setattr__', '__sizeof__', '__str__', '__subclasshook__', 'capitalize', 'casefold', 'center', 'count', 'encode', 'endswith', 'expandtabs', 'find', 'format', 'format_map', 'index', 'isalnum', 'isalpha', 'isascii', 'isdecimal', 'isdigit', 'isidentifier', 'islower', 'isnumeric', 'isprintable', 'isspace', 'istitle', 'isupper', 'join', 'ljust', 'lower', 'lstrip', 'maketrans', 'partition', 'replace', 'rfind', 'rindex', 'rjust', 'rpartition', 'rsplit', 'rstrip', 'split', 'splitlines', 'startswith', 'strip', 'swapcase', 'title', 'translate', 'upper', 'zfill']\n",
      "https://storage.labelbox.com/ckd9g2cw29ine071604jfkgcj%2Fa45e1646-8815-58a4-c690-ccb8e77a0aa4-14.jpg?Expires=1602190980832&KeyName=labelbox-assets-key-1&Signature=mAG51B4HJ26Y8DjH_bJx8lEeCRA\n",
      "['__add__', '__class__', '__contains__', '__delattr__', '__dir__', '__doc__', '__eq__', '__format__', '__ge__', '__getattribute__', '__getitem__', '__getnewargs__', '__gt__', '__hash__', '__init__', '__init_subclass__', '__iter__', '__le__', '__len__', '__lt__', '__mod__', '__mul__', '__ne__', '__new__', '__reduce__', '__reduce_ex__', '__repr__', '__rmod__', '__rmul__', '__setattr__', '__sizeof__', '__str__', '__subclasshook__', 'capitalize', 'casefold', 'center', 'count', 'encode', 'endswith', 'expandtabs', 'find', 'format', 'format_map', 'index', 'isalnum', 'isalpha', 'isascii', 'isdecimal', 'isdigit', 'isidentifier', 'islower', 'isnumeric', 'isprintable', 'isspace', 'istitle', 'isupper', 'join', 'ljust', 'lower', 'lstrip', 'maketrans', 'partition', 'replace', 'rfind', 'rindex', 'rjust', 'rpartition', 'rsplit', 'rstrip', 'split', 'splitlines', 'startswith', 'strip', 'swapcase', 'title', 'translate', 'upper', 'zfill']\n",
      "https://storage.labelbox.com/ckd9g2cw29ine071604jfkgcj%2F5b6fcd87-c38b-4f6a-b0ed-dbe08b902aa5-15.jpg?Expires=1602190980833&KeyName=labelbox-assets-key-1&Signature=WIDImJ9GTw_ZFCtWMTc_QC6U1U0\n",
      "['__add__', '__class__', '__contains__', '__delattr__', '__dir__', '__doc__', '__eq__', '__format__', '__ge__', '__getattribute__', '__getitem__', '__getnewargs__', '__gt__', '__hash__', '__init__', '__init_subclass__', '__iter__', '__le__', '__len__', '__lt__', '__mod__', '__mul__', '__ne__', '__new__', '__reduce__', '__reduce_ex__', '__repr__', '__rmod__', '__rmul__', '__setattr__', '__sizeof__', '__str__', '__subclasshook__', 'capitalize', 'casefold', 'center', 'count', 'encode', 'endswith', 'expandtabs', 'find', 'format', 'format_map', 'index', 'isalnum', 'isalpha', 'isascii', 'isdecimal', 'isdigit', 'isidentifier', 'islower', 'isnumeric', 'isprintable', 'isspace', 'istitle', 'isupper', 'join', 'ljust', 'lower', 'lstrip', 'maketrans', 'partition', 'replace', 'rfind', 'rindex', 'rjust', 'rpartition', 'rsplit', 'rstrip', 'split', 'splitlines', 'startswith', 'strip', 'swapcase', 'title', 'translate', 'upper', 'zfill']\n",
      "https://storage.labelbox.com/ckd9g2cw29ine071604jfkgcj%2F30b76648-7983-fcc3-d2b5-fd77d99f9eba-16.jpg?Expires=1602190980833&KeyName=labelbox-assets-key-1&Signature=NnbVu0cDPyJdxwXxcsoJw-1xKxY\n",
      "['__add__', '__class__', '__contains__', '__delattr__', '__dir__', '__doc__', '__eq__', '__format__', '__ge__', '__getattribute__', '__getitem__', '__getnewargs__', '__gt__', '__hash__', '__init__', '__init_subclass__', '__iter__', '__le__', '__len__', '__lt__', '__mod__', '__mul__', '__ne__', '__new__', '__reduce__', '__reduce_ex__', '__repr__', '__rmod__', '__rmul__', '__setattr__', '__sizeof__', '__str__', '__subclasshook__', 'capitalize', 'casefold', 'center', 'count', 'encode', 'endswith', 'expandtabs', 'find', 'format', 'format_map', 'index', 'isalnum', 'isalpha', 'isascii', 'isdecimal', 'isdigit', 'isidentifier', 'islower', 'isnumeric', 'isprintable', 'isspace', 'istitle', 'isupper', 'join', 'ljust', 'lower', 'lstrip', 'maketrans', 'partition', 'replace', 'rfind', 'rindex', 'rjust', 'rpartition', 'rsplit', 'rstrip', 'split', 'splitlines', 'startswith', 'strip', 'swapcase', 'title', 'translate', 'upper', 'zfill']\n",
      "https://storage.labelbox.com/ckd9g2cw29ine071604jfkgcj%2F1362e207-40b3-2a0c-511f-d44e35b82360-17.jpg?Expires=1602190980833&KeyName=labelbox-assets-key-1&Signature=CGSdk-fDsx7MTEDONEnwPiT_bmk\n",
      "['__add__', '__class__', '__contains__', '__delattr__', '__dir__', '__doc__', '__eq__', '__format__', '__ge__', '__getattribute__', '__getitem__', '__getnewargs__', '__gt__', '__hash__', '__init__', '__init_subclass__', '__iter__', '__le__', '__len__', '__lt__', '__mod__', '__mul__', '__ne__', '__new__', '__reduce__', '__reduce_ex__', '__repr__', '__rmod__', '__rmul__', '__setattr__', '__sizeof__', '__str__', '__subclasshook__', 'capitalize', 'casefold', 'center', 'count', 'encode', 'endswith', 'expandtabs', 'find', 'format', 'format_map', 'index', 'isalnum', 'isalpha', 'isascii', 'isdecimal', 'isdigit', 'isidentifier', 'islower', 'isnumeric', 'isprintable', 'isspace', 'istitle', 'isupper', 'join', 'ljust', 'lower', 'lstrip', 'maketrans', 'partition', 'replace', 'rfind', 'rindex', 'rjust', 'rpartition', 'rsplit', 'rstrip', 'split', 'splitlines', 'startswith', 'strip', 'swapcase', 'title', 'translate', 'upper', 'zfill']\n",
      "https://storage.labelbox.com/ckd9g2cw29ine071604jfkgcj%2F8da84a60-d356-f29a-9e4d-2e2fcd8f47ea-18.jpg?Expires=1602190980833&KeyName=labelbox-assets-key-1&Signature=uz631KWdgYl6TqXnfvyXfliUvjc\n",
      "['__add__', '__class__', '__contains__', '__delattr__', '__dir__', '__doc__', '__eq__', '__format__', '__ge__', '__getattribute__', '__getitem__', '__getnewargs__', '__gt__', '__hash__', '__init__', '__init_subclass__', '__iter__', '__le__', '__len__', '__lt__', '__mod__', '__mul__', '__ne__', '__new__', '__reduce__', '__reduce_ex__', '__repr__', '__rmod__', '__rmul__', '__setattr__', '__sizeof__', '__str__', '__subclasshook__', 'capitalize', 'casefold', 'center', 'count', 'encode', 'endswith', 'expandtabs', 'find', 'format', 'format_map', 'index', 'isalnum', 'isalpha', 'isascii', 'isdecimal', 'isdigit', 'isidentifier', 'islower', 'isnumeric', 'isprintable', 'isspace', 'istitle', 'isupper', 'join', 'ljust', 'lower', 'lstrip', 'maketrans', 'partition', 'replace', 'rfind', 'rindex', 'rjust', 'rpartition', 'rsplit', 'rstrip', 'split', 'splitlines', 'startswith', 'strip', 'swapcase', 'title', 'translate', 'upper', 'zfill']\n",
      "https://storage.labelbox.com/ckd9g2cw29ine071604jfkgcj%2Fa698eee0-2a21-4080-c9cb-5f1d2d04d659-19.jpg?Expires=1602190980833&KeyName=labelbox-assets-key-1&Signature=awu_v7qytIMN5XSAOpkepS-4nVs\n",
      "['__add__', '__class__', '__contains__', '__delattr__', '__dir__', '__doc__', '__eq__', '__format__', '__ge__', '__getattribute__', '__getitem__', '__getnewargs__', '__gt__', '__hash__', '__init__', '__init_subclass__', '__iter__', '__le__', '__len__', '__lt__', '__mod__', '__mul__', '__ne__', '__new__', '__reduce__', '__reduce_ex__', '__repr__', '__rmod__', '__rmul__', '__setattr__', '__sizeof__', '__str__', '__subclasshook__', 'capitalize', 'casefold', 'center', 'count', 'encode', 'endswith', 'expandtabs', 'find', 'format', 'format_map', 'index', 'isalnum', 'isalpha', 'isascii', 'isdecimal', 'isdigit', 'isidentifier', 'islower', 'isnumeric', 'isprintable', 'isspace', 'istitle', 'isupper', 'join', 'ljust', 'lower', 'lstrip', 'maketrans', 'partition', 'replace', 'rfind', 'rindex', 'rjust', 'rpartition', 'rsplit', 'rstrip', 'split', 'splitlines', 'startswith', 'strip', 'swapcase', 'title', 'translate', 'upper', 'zfill']\n",
      "https://storage.labelbox.com/ckd9g2cw29ine071604jfkgcj%2F53bb8ca2-98d8-0221-bb69-05ea8717654c-20.jpg?Expires=1602190980834&KeyName=labelbox-assets-key-1&Signature=CkvWAkuUTiy3HlhLlYmLssJiL1I\n",
      "['__add__', '__class__', '__contains__', '__delattr__', '__dir__', '__doc__', '__eq__', '__format__', '__ge__', '__getattribute__', '__getitem__', '__getnewargs__', '__gt__', '__hash__', '__init__', '__init_subclass__', '__iter__', '__le__', '__len__', '__lt__', '__mod__', '__mul__', '__ne__', '__new__', '__reduce__', '__reduce_ex__', '__repr__', '__rmod__', '__rmul__', '__setattr__', '__sizeof__', '__str__', '__subclasshook__', 'capitalize', 'casefold', 'center', 'count', 'encode', 'endswith', 'expandtabs', 'find', 'format', 'format_map', 'index', 'isalnum', 'isalpha', 'isascii', 'isdecimal', 'isdigit', 'isidentifier', 'islower', 'isnumeric', 'isprintable', 'isspace', 'istitle', 'isupper', 'join', 'ljust', 'lower', 'lstrip', 'maketrans', 'partition', 'replace', 'rfind', 'rindex', 'rjust', 'rpartition', 'rsplit', 'rstrip', 'split', 'splitlines', 'startswith', 'strip', 'swapcase', 'title', 'translate', 'upper', 'zfill']\n",
      "https://storage.labelbox.com/ckd9g2cw29ine071604jfkgcj%2Fc40a14c9-a743-44fc-bbc3-c4db39644474-21.jpg?Expires=1602190980834&KeyName=labelbox-assets-key-1&Signature=1T4YWBoD0Fim5bj4vYzLLBVOtxg\n",
      "['__add__', '__class__', '__contains__', '__delattr__', '__dir__', '__doc__', '__eq__', '__format__', '__ge__', '__getattribute__', '__getitem__', '__getnewargs__', '__gt__', '__hash__', '__init__', '__init_subclass__', '__iter__', '__le__', '__len__', '__lt__', '__mod__', '__mul__', '__ne__', '__new__', '__reduce__', '__reduce_ex__', '__repr__', '__rmod__', '__rmul__', '__setattr__', '__sizeof__', '__str__', '__subclasshook__', 'capitalize', 'casefold', 'center', 'count', 'encode', 'endswith', 'expandtabs', 'find', 'format', 'format_map', 'index', 'isalnum', 'isalpha', 'isascii', 'isdecimal', 'isdigit', 'isidentifier', 'islower', 'isnumeric', 'isprintable', 'isspace', 'istitle', 'isupper', 'join', 'ljust', 'lower', 'lstrip', 'maketrans', 'partition', 'replace', 'rfind', 'rindex', 'rjust', 'rpartition', 'rsplit', 'rstrip', 'split', 'splitlines', 'startswith', 'strip', 'swapcase', 'title', 'translate', 'upper', 'zfill']\n",
      "https://storage.labelbox.com/ckd9g2cw29ine071604jfkgcj%2F2e707ca3-178e-9abf-96ce-5ce4352f7fa3-22.jpg?Expires=1602190980834&KeyName=labelbox-assets-key-1&Signature=I8_LX7XiZ-mzqygsSmQ0SGvm-Zo\n",
      "['__add__', '__class__', '__contains__', '__delattr__', '__dir__', '__doc__', '__eq__', '__format__', '__ge__', '__getattribute__', '__getitem__', '__getnewargs__', '__gt__', '__hash__', '__init__', '__init_subclass__', '__iter__', '__le__', '__len__', '__lt__', '__mod__', '__mul__', '__ne__', '__new__', '__reduce__', '__reduce_ex__', '__repr__', '__rmod__', '__rmul__', '__setattr__', '__sizeof__', '__str__', '__subclasshook__', 'capitalize', 'casefold', 'center', 'count', 'encode', 'endswith', 'expandtabs', 'find', 'format', 'format_map', 'index', 'isalnum', 'isalpha', 'isascii', 'isdecimal', 'isdigit', 'isidentifier', 'islower', 'isnumeric', 'isprintable', 'isspace', 'istitle', 'isupper', 'join', 'ljust', 'lower', 'lstrip', 'maketrans', 'partition', 'replace', 'rfind', 'rindex', 'rjust', 'rpartition', 'rsplit', 'rstrip', 'split', 'splitlines', 'startswith', 'strip', 'swapcase', 'title', 'translate', 'upper', 'zfill']\n",
      "https://storage.labelbox.com/ckd9g2cw29ine071604jfkgcj%2F4b42252e-7575-7e60-5867-73fd77254d36-23.jpg?Expires=1602190980834&KeyName=labelbox-assets-key-1&Signature=1rduZ2QNECU1e59tVmqNM9qYQm0\n",
      "['__add__', '__class__', '__contains__', '__delattr__', '__dir__', '__doc__', '__eq__', '__format__', '__ge__', '__getattribute__', '__getitem__', '__getnewargs__', '__gt__', '__hash__', '__init__', '__init_subclass__', '__iter__', '__le__', '__len__', '__lt__', '__mod__', '__mul__', '__ne__', '__new__', '__reduce__', '__reduce_ex__', '__repr__', '__rmod__', '__rmul__', '__setattr__', '__sizeof__', '__str__', '__subclasshook__', 'capitalize', 'casefold', 'center', 'count', 'encode', 'endswith', 'expandtabs', 'find', 'format', 'format_map', 'index', 'isalnum', 'isalpha', 'isascii', 'isdecimal', 'isdigit', 'isidentifier', 'islower', 'isnumeric', 'isprintable', 'isspace', 'istitle', 'isupper', 'join', 'ljust', 'lower', 'lstrip', 'maketrans', 'partition', 'replace', 'rfind', 'rindex', 'rjust', 'rpartition', 'rsplit', 'rstrip', 'split', 'splitlines', 'startswith', 'strip', 'swapcase', 'title', 'translate', 'upper', 'zfill']\n",
      "https://storage.labelbox.com/ckd9g2cw29ine071604jfkgcj%2Feca9c847-a832-7e47-c7cc-07e1976f6807-24.jpg?Expires=1602190980834&KeyName=labelbox-assets-key-1&Signature=s7BXbFYardRNNMsJDtor0JHxFXI\n",
      "['__add__', '__class__', '__contains__', '__delattr__', '__dir__', '__doc__', '__eq__', '__format__', '__ge__', '__getattribute__', '__getitem__', '__getnewargs__', '__gt__', '__hash__', '__init__', '__init_subclass__', '__iter__', '__le__', '__len__', '__lt__', '__mod__', '__mul__', '__ne__', '__new__', '__reduce__', '__reduce_ex__', '__repr__', '__rmod__', '__rmul__', '__setattr__', '__sizeof__', '__str__', '__subclasshook__', 'capitalize', 'casefold', 'center', 'count', 'encode', 'endswith', 'expandtabs', 'find', 'format', 'format_map', 'index', 'isalnum', 'isalpha', 'isascii', 'isdecimal', 'isdigit', 'isidentifier', 'islower', 'isnumeric', 'isprintable', 'isspace', 'istitle', 'isupper', 'join', 'ljust', 'lower', 'lstrip', 'maketrans', 'partition', 'replace', 'rfind', 'rindex', 'rjust', 'rpartition', 'rsplit', 'rstrip', 'split', 'splitlines', 'startswith', 'strip', 'swapcase', 'title', 'translate', 'upper', 'zfill']\n",
      "https://storage.labelbox.com/ckd9g2cw29ine071604jfkgcj%2F6df3e4cc-e8b5-86b2-406c-7ecac8773571-25.jpg?Expires=1602190980835&KeyName=labelbox-assets-key-1&Signature=P_21v71cimEh46lLtRa0X1PB-yQ\n",
      "['__add__', '__class__', '__contains__', '__delattr__', '__dir__', '__doc__', '__eq__', '__format__', '__ge__', '__getattribute__', '__getitem__', '__getnewargs__', '__gt__', '__hash__', '__init__', '__init_subclass__', '__iter__', '__le__', '__len__', '__lt__', '__mod__', '__mul__', '__ne__', '__new__', '__reduce__', '__reduce_ex__', '__repr__', '__rmod__', '__rmul__', '__setattr__', '__sizeof__', '__str__', '__subclasshook__', 'capitalize', 'casefold', 'center', 'count', 'encode', 'endswith', 'expandtabs', 'find', 'format', 'format_map', 'index', 'isalnum', 'isalpha', 'isascii', 'isdecimal', 'isdigit', 'isidentifier', 'islower', 'isnumeric', 'isprintable', 'isspace', 'istitle', 'isupper', 'join', 'ljust', 'lower', 'lstrip', 'maketrans', 'partition', 'replace', 'rfind', 'rindex', 'rjust', 'rpartition', 'rsplit', 'rstrip', 'split', 'splitlines', 'startswith', 'strip', 'swapcase', 'title', 'translate', 'upper', 'zfill']\n",
      "https://storage.labelbox.com/ckd9g2cw29ine071604jfkgcj%2F8155c091-bb25-f378-ed98-4b1b1bc66929-26.jpg?Expires=1602190980835&KeyName=labelbox-assets-key-1&Signature=M8P_jRUbhQ7_oToFdtr29MC1hnE\n",
      "['__add__', '__class__', '__contains__', '__delattr__', '__dir__', '__doc__', '__eq__', '__format__', '__ge__', '__getattribute__', '__getitem__', '__getnewargs__', '__gt__', '__hash__', '__init__', '__init_subclass__', '__iter__', '__le__', '__len__', '__lt__', '__mod__', '__mul__', '__ne__', '__new__', '__reduce__', '__reduce_ex__', '__repr__', '__rmod__', '__rmul__', '__setattr__', '__sizeof__', '__str__', '__subclasshook__', 'capitalize', 'casefold', 'center', 'count', 'encode', 'endswith', 'expandtabs', 'find', 'format', 'format_map', 'index', 'isalnum', 'isalpha', 'isascii', 'isdecimal', 'isdigit', 'isidentifier', 'islower', 'isnumeric', 'isprintable', 'isspace', 'istitle', 'isupper', 'join', 'ljust', 'lower', 'lstrip', 'maketrans', 'partition', 'replace', 'rfind', 'rindex', 'rjust', 'rpartition', 'rsplit', 'rstrip', 'split', 'splitlines', 'startswith', 'strip', 'swapcase', 'title', 'translate', 'upper', 'zfill']\n",
      "https://storage.labelbox.com/ckd9g2cw29ine071604jfkgcj%2F0755bc09-18e4-ad39-d24f-ca1147a5210a-27.jpg?Expires=1602190980835&KeyName=labelbox-assets-key-1&Signature=Fs22TwwprxiD-XHFdzFO3_JY-Qc\n",
      "['__add__', '__class__', '__contains__', '__delattr__', '__dir__', '__doc__', '__eq__', '__format__', '__ge__', '__getattribute__', '__getitem__', '__getnewargs__', '__gt__', '__hash__', '__init__', '__init_subclass__', '__iter__', '__le__', '__len__', '__lt__', '__mod__', '__mul__', '__ne__', '__new__', '__reduce__', '__reduce_ex__', '__repr__', '__rmod__', '__rmul__', '__setattr__', '__sizeof__', '__str__', '__subclasshook__', 'capitalize', 'casefold', 'center', 'count', 'encode', 'endswith', 'expandtabs', 'find', 'format', 'format_map', 'index', 'isalnum', 'isalpha', 'isascii', 'isdecimal', 'isdigit', 'isidentifier', 'islower', 'isnumeric', 'isprintable', 'isspace', 'istitle', 'isupper', 'join', 'ljust', 'lower', 'lstrip', 'maketrans', 'partition', 'replace', 'rfind', 'rindex', 'rjust', 'rpartition', 'rsplit', 'rstrip', 'split', 'splitlines', 'startswith', 'strip', 'swapcase', 'title', 'translate', 'upper', 'zfill']\n",
      "https://storage.labelbox.com/ckd9g2cw29ine071604jfkgcj%2Fad33184d-33c9-fd8d-c195-02d134e8a577-28.jpg?Expires=1602190980835&KeyName=labelbox-assets-key-1&Signature=TTHOigXcLO0U6K-zaSkFvQau9Ms\n",
      "['__add__', '__class__', '__contains__', '__delattr__', '__dir__', '__doc__', '__eq__', '__format__', '__ge__', '__getattribute__', '__getitem__', '__getnewargs__', '__gt__', '__hash__', '__init__', '__init_subclass__', '__iter__', '__le__', '__len__', '__lt__', '__mod__', '__mul__', '__ne__', '__new__', '__reduce__', '__reduce_ex__', '__repr__', '__rmod__', '__rmul__', '__setattr__', '__sizeof__', '__str__', '__subclasshook__', 'capitalize', 'casefold', 'center', 'count', 'encode', 'endswith', 'expandtabs', 'find', 'format', 'format_map', 'index', 'isalnum', 'isalpha', 'isascii', 'isdecimal', 'isdigit', 'isidentifier', 'islower', 'isnumeric', 'isprintable', 'isspace', 'istitle', 'isupper', 'join', 'ljust', 'lower', 'lstrip', 'maketrans', 'partition', 'replace', 'rfind', 'rindex', 'rjust', 'rpartition', 'rsplit', 'rstrip', 'split', 'splitlines', 'startswith', 'strip', 'swapcase', 'title', 'translate', 'upper', 'zfill']\n",
      "https://storage.labelbox.com/ckd9g2cw29ine071604jfkgcj%2F71175f11-a005-24b3-de41-f6cfc6a8c920-29.jpg?Expires=1602190980835&KeyName=labelbox-assets-key-1&Signature=XAw3FfeJJoa1oqdsb1zrrN8RKpA\n",
      "['__add__', '__class__', '__contains__', '__delattr__', '__dir__', '__doc__', '__eq__', '__format__', '__ge__', '__getattribute__', '__getitem__', '__getnewargs__', '__gt__', '__hash__', '__init__', '__init_subclass__', '__iter__', '__le__', '__len__', '__lt__', '__mod__', '__mul__', '__ne__', '__new__', '__reduce__', '__reduce_ex__', '__repr__', '__rmod__', '__rmul__', '__setattr__', '__sizeof__', '__str__', '__subclasshook__', 'capitalize', 'casefold', 'center', 'count', 'encode', 'endswith', 'expandtabs', 'find', 'format', 'format_map', 'index', 'isalnum', 'isalpha', 'isascii', 'isdecimal', 'isdigit', 'isidentifier', 'islower', 'isnumeric', 'isprintable', 'isspace', 'istitle', 'isupper', 'join', 'ljust', 'lower', 'lstrip', 'maketrans', 'partition', 'replace', 'rfind', 'rindex', 'rjust', 'rpartition', 'rsplit', 'rstrip', 'split', 'splitlines', 'startswith', 'strip', 'swapcase', 'title', 'translate', 'upper', 'zfill']\n",
      "https://storage.labelbox.com/ckd9g2cw29ine071604jfkgcj%2F0a9df796-2ae6-296a-ef43-9bedca257b19-30.jpg?Expires=1602190980836&KeyName=labelbox-assets-key-1&Signature=ns95CNtySDTI2vjN4oXnviApUxU\n",
      "['__add__', '__class__', '__contains__', '__delattr__', '__dir__', '__doc__', '__eq__', '__format__', '__ge__', '__getattribute__', '__getitem__', '__getnewargs__', '__gt__', '__hash__', '__init__', '__init_subclass__', '__iter__', '__le__', '__len__', '__lt__', '__mod__', '__mul__', '__ne__', '__new__', '__reduce__', '__reduce_ex__', '__repr__', '__rmod__', '__rmul__', '__setattr__', '__sizeof__', '__str__', '__subclasshook__', 'capitalize', 'casefold', 'center', 'count', 'encode', 'endswith', 'expandtabs', 'find', 'format', 'format_map', 'index', 'isalnum', 'isalpha', 'isascii', 'isdecimal', 'isdigit', 'isidentifier', 'islower', 'isnumeric', 'isprintable', 'isspace', 'istitle', 'isupper', 'join', 'ljust', 'lower', 'lstrip', 'maketrans', 'partition', 'replace', 'rfind', 'rindex', 'rjust', 'rpartition', 'rsplit', 'rstrip', 'split', 'splitlines', 'startswith', 'strip', 'swapcase', 'title', 'translate', 'upper', 'zfill']\n",
      "https://storage.labelbox.com/ckd9g2cw29ine071604jfkgcj%2Fc4a653cc-4867-941d-e8de-7ddb470faa2d-31.jpg?Expires=1602190980836&KeyName=labelbox-assets-key-1&Signature=qH-jfyNIbQEJrG7s1qc6PMKV53o\n",
      "['__add__', '__class__', '__contains__', '__delattr__', '__dir__', '__doc__', '__eq__', '__format__', '__ge__', '__getattribute__', '__getitem__', '__getnewargs__', '__gt__', '__hash__', '__init__', '__init_subclass__', '__iter__', '__le__', '__len__', '__lt__', '__mod__', '__mul__', '__ne__', '__new__', '__reduce__', '__reduce_ex__', '__repr__', '__rmod__', '__rmul__', '__setattr__', '__sizeof__', '__str__', '__subclasshook__', 'capitalize', 'casefold', 'center', 'count', 'encode', 'endswith', 'expandtabs', 'find', 'format', 'format_map', 'index', 'isalnum', 'isalpha', 'isascii', 'isdecimal', 'isdigit', 'isidentifier', 'islower', 'isnumeric', 'isprintable', 'isspace', 'istitle', 'isupper', 'join', 'ljust', 'lower', 'lstrip', 'maketrans', 'partition', 'replace', 'rfind', 'rindex', 'rjust', 'rpartition', 'rsplit', 'rstrip', 'split', 'splitlines', 'startswith', 'strip', 'swapcase', 'title', 'translate', 'upper', 'zfill']\n",
      "https://storage.labelbox.com/ckd9g2cw29ine071604jfkgcj%2Fcdc65ce8-838c-0919-2031-b353d152b1d3-32.jpg?Expires=1602190980836&KeyName=labelbox-assets-key-1&Signature=u0p_7H61nZ1A0HbOPf3AvssjC9Q\n",
      "['__add__', '__class__', '__contains__', '__delattr__', '__dir__', '__doc__', '__eq__', '__format__', '__ge__', '__getattribute__', '__getitem__', '__getnewargs__', '__gt__', '__hash__', '__init__', '__init_subclass__', '__iter__', '__le__', '__len__', '__lt__', '__mod__', '__mul__', '__ne__', '__new__', '__reduce__', '__reduce_ex__', '__repr__', '__rmod__', '__rmul__', '__setattr__', '__sizeof__', '__str__', '__subclasshook__', 'capitalize', 'casefold', 'center', 'count', 'encode', 'endswith', 'expandtabs', 'find', 'format', 'format_map', 'index', 'isalnum', 'isalpha', 'isascii', 'isdecimal', 'isdigit', 'isidentifier', 'islower', 'isnumeric', 'isprintable', 'isspace', 'istitle', 'isupper', 'join', 'ljust', 'lower', 'lstrip', 'maketrans', 'partition', 'replace', 'rfind', 'rindex', 'rjust', 'rpartition', 'rsplit', 'rstrip', 'split', 'splitlines', 'startswith', 'strip', 'swapcase', 'title', 'translate', 'upper', 'zfill']\n",
      "https://storage.labelbox.com/ckd9g2cw29ine071604jfkgcj%2F05edce3d-b221-f746-dee9-064f092ebdee-33.jpg?Expires=1602190980836&KeyName=labelbox-assets-key-1&Signature=kku6p6--dYhwxPQStL-dKffxknc\n",
      "['__add__', '__class__', '__contains__', '__delattr__', '__dir__', '__doc__', '__eq__', '__format__', '__ge__', '__getattribute__', '__getitem__', '__getnewargs__', '__gt__', '__hash__', '__init__', '__init_subclass__', '__iter__', '__le__', '__len__', '__lt__', '__mod__', '__mul__', '__ne__', '__new__', '__reduce__', '__reduce_ex__', '__repr__', '__rmod__', '__rmul__', '__setattr__', '__sizeof__', '__str__', '__subclasshook__', 'capitalize', 'casefold', 'center', 'count', 'encode', 'endswith', 'expandtabs', 'find', 'format', 'format_map', 'index', 'isalnum', 'isalpha', 'isascii', 'isdecimal', 'isdigit', 'isidentifier', 'islower', 'isnumeric', 'isprintable', 'isspace', 'istitle', 'isupper', 'join', 'ljust', 'lower', 'lstrip', 'maketrans', 'partition', 'replace', 'rfind', 'rindex', 'rjust', 'rpartition', 'rsplit', 'rstrip', 'split', 'splitlines', 'startswith', 'strip', 'swapcase', 'title', 'translate', 'upper', 'zfill']\n"
     ]
    }
   ],
   "source": [
    "for row in dataset.data_rows():\n",
    "    print(row.row_data)\n",
    "    print(dir(row.row_data))"
   ]
  },
  {
   "cell_type": "code",
   "execution_count": 128,
   "metadata": {},
   "outputs": [
    {
     "data": {
      "text/plain": [
       "['AssetMetadata',\n",
       " 'Benchmark',\n",
       " 'BulkImportRequest',\n",
       " 'DataRow',\n",
       " 'Dataset',\n",
       " 'DbObject',\n",
       " 'Label',\n",
       " 'LabelingFrontend',\n",
       " 'LabelingFrontendOptions',\n",
       " 'LabelingParameterOverride',\n",
       " 'Organization',\n",
       " 'Prediction',\n",
       " 'PredictionModel',\n",
       " 'Project',\n",
       " 'Review',\n",
       " 'Task',\n",
       " 'User',\n",
       " 'Webhook',\n",
       " '__class__',\n",
       " '__delattr__',\n",
       " '__dict__',\n",
       " '__dir__',\n",
       " '__doc__',\n",
       " '__eq__',\n",
       " '__format__',\n",
       " '__ge__',\n",
       " '__getattribute__',\n",
       " '__gt__',\n",
       " '__hash__',\n",
       " '__init__',\n",
       " '__init_subclass__',\n",
       " '__le__',\n",
       " '__lt__',\n",
       " '__module__',\n",
       " '__ne__',\n",
       " '__new__',\n",
       " '__reduce__',\n",
       " '__reduce_ex__',\n",
       " '__repr__',\n",
       " '__setattr__',\n",
       " '__sizeof__',\n",
       " '__str__',\n",
       " '__subclasshook__',\n",
       " '__weakref__',\n",
       " '_attributes_of_type',\n",
       " '_set_field_values',\n",
       " 'attribute',\n",
       " 'client',\n",
       " 'create_data_row',\n",
       " 'create_data_rows',\n",
       " 'created_at',\n",
       " 'created_by',\n",
       " 'data_row_for_external_id',\n",
       " 'data_rows',\n",
       " 'delete',\n",
       " 'deleted',\n",
       " 'description',\n",
       " 'field',\n",
       " 'fields',\n",
       " 'name',\n",
       " 'organization',\n",
       " 'projects',\n",
       " 'relationships',\n",
       " 'type_name',\n",
       " 'uid',\n",
       " 'update',\n",
       " 'updated_at']"
      ]
     },
     "execution_count": 128,
     "metadata": {},
     "output_type": "execute_result"
    }
   ],
   "source": [
    "dir(dataset)"
   ]
  },
  {
   "cell_type": "code",
   "execution_count": 122,
   "metadata": {},
   "outputs": [
    {
     "ename": "TypeError",
     "evalue": "__init__() missing 1 required positional argument: 'field_values'",
     "output_type": "error",
     "traceback": [
      "\u001b[0;31m---------------------------------------------------------------------------\u001b[0m",
      "\u001b[0;31mTypeError\u001b[0m                                 Traceback (most recent call last)",
      "\u001b[0;32m<ipython-input-122-d06733f50189>\u001b[0m in \u001b[0;36m<module>\u001b[0;34m\u001b[0m\n\u001b[0;32m----> 1\u001b[0;31m \u001b[0mdataset\u001b[0m\u001b[0;34m.\u001b[0m\u001b[0mDataRow\u001b[0m\u001b[0;34m(\u001b[0m\u001b[0;34m\"ckfreeix00md00rjh1bee2q5r\"\u001b[0m\u001b[0;34m)\u001b[0m\u001b[0;34m\u001b[0m\u001b[0;34m\u001b[0m\u001b[0m\n\u001b[0m",
      "\u001b[0;32m~/.local/share/virtualenvs/labelling-4tV_Q0vj/lib/python3.7/site-packages/labelbox/schema/data_row.py\u001b[0m in \u001b[0;36m__init__\u001b[0;34m(self, *args, **kwargs)\u001b[0m\n\u001b[1;32m     32\u001b[0m \u001b[0;34m\u001b[0m\u001b[0m\n\u001b[1;32m     33\u001b[0m     \u001b[0;32mdef\u001b[0m \u001b[0m__init__\u001b[0m\u001b[0;34m(\u001b[0m\u001b[0mself\u001b[0m\u001b[0;34m,\u001b[0m \u001b[0;34m*\u001b[0m\u001b[0margs\u001b[0m\u001b[0;34m,\u001b[0m \u001b[0;34m**\u001b[0m\u001b[0mkwargs\u001b[0m\u001b[0;34m)\u001b[0m\u001b[0;34m:\u001b[0m\u001b[0;34m\u001b[0m\u001b[0;34m\u001b[0m\u001b[0m\n\u001b[0;32m---> 34\u001b[0;31m         \u001b[0msuper\u001b[0m\u001b[0;34m(\u001b[0m\u001b[0;34m)\u001b[0m\u001b[0;34m.\u001b[0m\u001b[0m__init__\u001b[0m\u001b[0;34m(\u001b[0m\u001b[0;34m*\u001b[0m\u001b[0margs\u001b[0m\u001b[0;34m,\u001b[0m \u001b[0;34m**\u001b[0m\u001b[0mkwargs\u001b[0m\u001b[0;34m)\u001b[0m\u001b[0;34m\u001b[0m\u001b[0;34m\u001b[0m\u001b[0m\n\u001b[0m\u001b[1;32m     35\u001b[0m         \u001b[0mself\u001b[0m\u001b[0;34m.\u001b[0m\u001b[0mmetadata\u001b[0m\u001b[0;34m.\u001b[0m\u001b[0msupports_filtering\u001b[0m \u001b[0;34m=\u001b[0m \u001b[0;32mFalse\u001b[0m\u001b[0;34m\u001b[0m\u001b[0;34m\u001b[0m\u001b[0m\n\u001b[1;32m     36\u001b[0m         \u001b[0mself\u001b[0m\u001b[0;34m.\u001b[0m\u001b[0mmetadata\u001b[0m\u001b[0;34m.\u001b[0m\u001b[0msupports_sorting\u001b[0m \u001b[0;34m=\u001b[0m \u001b[0;32mFalse\u001b[0m\u001b[0;34m\u001b[0m\u001b[0;34m\u001b[0m\u001b[0m\n",
      "\u001b[0;31mTypeError\u001b[0m: __init__() missing 1 required positional argument: 'field_values'"
     ]
    }
   ],
   "source": [
    "dataset.DataRow(\"ckfreeix00md00rjh1bee2q5r\")"
   ]
  },
  {
   "cell_type": "code",
   "execution_count": 98,
   "metadata": {},
   "outputs": [
    {
     "name": "stdout",
     "output_type": "stream",
     "text": [
      "Help on class AssetMetadata in module labelbox.schema.asset_metadata:\n",
      "\n",
      "class AssetMetadata(labelbox.orm.db_object.DbObject)\n",
      " |  AssetMetadata(client, field_values)\n",
      " |  \n",
      " |  AssetMetadata is a datatype to provide extra context about an asset\n",
      " |  while labeling.\n",
      " |  \n",
      " |  Method resolution order:\n",
      " |      AssetMetadata\n",
      " |      labelbox.orm.db_object.DbObject\n",
      " |      labelbox.orm.model.Entity\n",
      " |      builtins.object\n",
      " |  \n",
      " |  Data and other attributes defined here:\n",
      " |  \n",
      " |  IMAGE = 'IMAGE'\n",
      " |  \n",
      " |  TEXT = 'TEXT'\n",
      " |  \n",
      " |  VIDEO = 'VIDEO'\n",
      " |  \n",
      " |  meta_type = <Field: 'meta_type'>\n",
      " |  \n",
      " |  meta_value = <Field: 'meta_value'>\n",
      " |  \n",
      " |  ----------------------------------------------------------------------\n",
      " |  Methods inherited from labelbox.orm.db_object.DbObject:\n",
      " |  \n",
      " |  __eq__(self, other)\n",
      " |      Return self==value.\n",
      " |  \n",
      " |  __hash__(self)\n",
      " |      Return hash(self).\n",
      " |  \n",
      " |  __init__(self, client, field_values)\n",
      " |      Constructor of a database object. Generally it should only be used\n",
      " |      by library internals and not by the end user.\n",
      " |      \n",
      " |      Args:\n",
      " |          client (labelbox.Client): the client used for fetching data from DB.\n",
      " |          field_values (dict): Data obtained from the DB. Maps database object\n",
      " |              fields (their graphql_name version) to values.\n",
      " |  \n",
      " |  __repr__(self)\n",
      " |      Return repr(self).\n",
      " |  \n",
      " |  __str__(self)\n",
      " |      Return str(self).\n",
      " |  \n",
      " |  ----------------------------------------------------------------------\n",
      " |  Class methods inherited from labelbox.orm.model.Entity:\n",
      " |  \n",
      " |  attribute(attribute_name) from labelbox.orm.model.EntityMeta\n",
      " |      Returns a Field or a Relationship object for the given name.\n",
      " |      Args:\n",
      " |          attribute_name (str): Field or Relationship name, Python\n",
      " |              (snake-case) convention.\n",
      " |      Return:\n",
      " |          Field or Relationship object\n",
      " |      Raises:\n",
      " |          InvalidAttributeError: in case this DB object type does not\n",
      " |              contain an attribute with the given name.\n",
      " |  \n",
      " |  field(field_name) from labelbox.orm.model.EntityMeta\n",
      " |      Returns a Field object for the given name.\n",
      " |      Args:\n",
      " |          field_name (str): Field name, Python (snake-case) convention.\n",
      " |      Return:\n",
      " |          Field object\n",
      " |      Raises:\n",
      " |          InvalidAttributeError: in case this DB object type does not\n",
      " |          contain a field with the given name.\n",
      " |  \n",
      " |  fields() from labelbox.orm.model.EntityMeta\n",
      " |      Returns a generateor that yields all the Fields declared in a\n",
      " |      concrete subclass.\n",
      " |  \n",
      " |  relationships() from labelbox.orm.model.EntityMeta\n",
      " |      Returns a generateor that yields all the Relationships declared in\n",
      " |      a concrete subclass.\n",
      " |  \n",
      " |  type_name() from labelbox.orm.model.EntityMeta\n",
      " |      Returns this DB object type name in TitleCase. For example:\n",
      " |      Project, DataRow, ...\n",
      " |  \n",
      " |  ----------------------------------------------------------------------\n",
      " |  Data descriptors inherited from labelbox.orm.model.Entity:\n",
      " |  \n",
      " |  __dict__\n",
      " |      dictionary for instance variables (if defined)\n",
      " |  \n",
      " |  __weakref__\n",
      " |      list of weak references to the object (if defined)\n",
      " |  \n",
      " |  ----------------------------------------------------------------------\n",
      " |  Data and other attributes inherited from labelbox.orm.model.Entity:\n",
      " |  \n",
      " |  AssetMetadata = <class 'labelbox.schema.asset_metadata.AssetMetadata'>\n",
      " |      AssetMetadata is a datatype to provide extra context about an asset\n",
      " |      while labeling.\n",
      " |  \n",
      " |  Benchmark = <class 'labelbox.schema.benchmark.Benchmark'>\n",
      " |      Benchmarks (also known as Golden Standard) is a quality assurance tool\n",
      " |      for training data. Training data quality is the measure of accuracy and\n",
      " |      consistency of the training data. Benchmarks works by interspersing data\n",
      " |      to be labeled, for which there is a benchmark label, to each person labeling.\n",
      " |      These labeled data are compared against their respective benchmark and an\n",
      " |      accuracy score between 0 and 100 percent is calculated.\n",
      " |  \n",
      " |  BulkImportRequest = <class 'labelbox.schema.bulk_import_request.BulkIm...\n",
      " |      A client-side representation of a database object (row). Intended as\n",
      " |      base class for classes representing concrete database types (for example\n",
      " |      a Project). Exposes support functionalities so that the concrete subclass\n",
      " |      definition be as simple and DRY as possible. It should come down to just\n",
      " |      listing Fields of that particular database type. For example:\n",
      " |      \n",
      " |          >>> class Project(DbObject):\n",
      " |          >>>     name = Field.String(\"name\")\n",
      " |          >>>     labels = Relationship.ToMany(\"Label\", True)\n",
      " |      \n",
      " |      This defines a `Project` class that has class attributes which are\n",
      " |      `Field`s and `Relationship`s. An instance of `Project` represents\n",
      " |      a database record. It has the same attributes as the `Project` class,\n",
      " |      but they are now attribute values of that record:\n",
      " |      \n",
      " |          >>> project = client.create_project(name=\"MyProject\")\n",
      " |          >>> project.name\n",
      " |          \"MyProject\"\n",
      " |  \n",
      " |  DataRow = <class 'labelbox.schema.data_row.DataRow'>\n",
      " |      A DataRow represents a single piece of data. For example, if you have\n",
      " |      a CSV with 100 rows, you will have 1 Dataset and 100 DataRows.\n",
      " |  \n",
      " |  Dataset = <class 'labelbox.schema.dataset.Dataset'>\n",
      " |      A dataset is a collection of DataRows. For example, if you have a CSV with\n",
      " |      100 rows, you will have 1 Dataset and 100 DataRows.\n",
      " |  \n",
      " |  DbObject = <class 'labelbox.orm.db_object.DbObject'>\n",
      " |      A client-side representation of a database object (row). Intended as\n",
      " |      base class for classes representing concrete database types (for example\n",
      " |      a Project). Exposes support functionalities so that the concrete subclass\n",
      " |      definition be as simple and DRY as possible. It should come down to just\n",
      " |      listing Fields of that particular database type. For example:\n",
      " |      \n",
      " |          >>> class Project(DbObject):\n",
      " |          >>>     name = Field.String(\"name\")\n",
      " |          >>>     labels = Relationship.ToMany(\"Label\", True)\n",
      " |      \n",
      " |      This defines a `Project` class that has class attributes which are\n",
      " |      `Field`s and `Relationship`s. An instance of `Project` represents\n",
      " |      a database record. It has the same attributes as the `Project` class,\n",
      " |      but they are now attribute values of that record:\n",
      " |      \n",
      " |          >>> project = client.create_project(name=\"MyProject\")\n",
      " |          >>> project.name\n",
      " |          \"MyProject\"\n",
      " |  \n",
      " |  Label = <class 'labelbox.schema.label.Label'>\n",
      " |      Label represents an assessment on a DataRow. For example one label could\n",
      " |      contain 100 bounding boxes (annotations).\n",
      " |  \n",
      " |  LabelingFrontend = <class 'labelbox.schema.labeling_frontend.LabelingF...\n",
      " |      Is a type representing an HTML / JavaScript UI that is used to generate\n",
      " |      labels. “Image Labeling” is the default Labeling Frontend that comes in every\n",
      " |      organization. You can create new labeling frontends for an organization.\n",
      " |  \n",
      " |  LabelingFrontendOptions = <class 'labelbox.schema.labeling_frontend.La...\n",
      " |      A client-side representation of a database object (row). Intended as\n",
      " |      base class for classes representing concrete database types (for example\n",
      " |      a Project). Exposes support functionalities so that the concrete subclass\n",
      " |      definition be as simple and DRY as possible. It should come down to just\n",
      " |      listing Fields of that particular database type. For example:\n",
      " |      \n",
      " |          >>> class Project(DbObject):\n",
      " |          >>>     name = Field.String(\"name\")\n",
      " |          >>>     labels = Relationship.ToMany(\"Label\", True)\n",
      " |      \n",
      " |      This defines a `Project` class that has class attributes which are\n",
      " |      `Field`s and `Relationship`s. An instance of `Project` represents\n",
      " |      a database record. It has the same attributes as the `Project` class,\n",
      " |      but they are now attribute values of that record:\n",
      " |      \n",
      " |          >>> project = client.create_project(name=\"MyProject\")\n",
      " |          >>> project.name\n",
      " |          \"MyProject\"\n",
      " |  \n",
      " |  LabelingParameterOverride = <class 'labelbox.schema.project.LabelingPa...\n",
      " |      A client-side representation of a database object (row). Intended as\n",
      " |      base class for classes representing concrete database types (for example\n",
      " |      a Project). Exposes support functionalities so that the concrete subclass\n",
      " |      definition be as simple and DRY as possible. It should come down to just\n",
      " |      listing Fields of that particular database type. For example:\n",
      " |      \n",
      " |          >>> class Project(DbObject):\n",
      " |          >>>     name = Field.String(\"name\")\n",
      " |          >>>     labels = Relationship.ToMany(\"Label\", True)\n",
      " |      \n",
      " |      This defines a `Project` class that has class attributes which are\n",
      " |      `Field`s and `Relationship`s. An instance of `Project` represents\n",
      " |      a database record. It has the same attributes as the `Project` class,\n",
      " |      but they are now attribute values of that record:\n",
      " |      \n",
      " |          >>> project = client.create_project(name=\"MyProject\")\n",
      " |          >>> project.name\n",
      " |          \"MyProject\"\n",
      " |  \n",
      " |  Organization = <class 'labelbox.schema.organization.Organization'>\n",
      " |      An Organization is a group of Users associated with data created by\n",
      " |      Users within that Organization. Typically all Users within an Organization\n",
      " |      have access to data created by any User in the same Organization.\n",
      " |  \n",
      " |  Prediction = <class 'labelbox.schema.prediction.Prediction'>\n",
      " |      A prediction created by a PredictionModel.\n",
      " |      \n",
      " |      NOTE: This is used for the legacy editor [1], if you wish to\n",
      " |      import annotations, refer to [2]\n",
      " |      \n",
      " |      \n",
      " |      [1] https://labelbox.com/docs/legacy/import-model-prediction\n",
      " |      [2] https://labelbox.com/docs/automation/model-assisted-labeling\n",
      " |  \n",
      " |  PredictionModel = <class 'labelbox.schema.prediction.PredictionModel'>\n",
      " |      A prediction model represents a specific version of a model.\n",
      " |      \n",
      " |      NOTE: This is used for the legacy editor [1], if you wish to\n",
      " |      import annotations, refer to [2]\n",
      " |      \n",
      " |      \n",
      " |      [1] https://labelbox.com/docs/legacy/import-model-prediction\n",
      " |      [2] https://labelbox.com/docs/automation/model-assisted-labeling\n",
      " |  \n",
      " |  Project = <class 'labelbox.schema.project.Project'>\n",
      " |      A Project is a container that includes a labeling frontend, an ontology,\n",
      " |      datasets and labels.\n",
      " |  \n",
      " |  Review = <class 'labelbox.schema.review.Review'>\n",
      " |      Reviewing labeled data is a collaborative quality assurance technique.\n",
      " |      A Review object indicates the quality of the assigned Label. The aggregated\n",
      " |      review numbers can be obtained on a Project object.\n",
      " |  \n",
      " |  Task = <class 'labelbox.schema.task.Task'>\n",
      " |      Represents a server-side process that might take a longer time to process.\n",
      " |      Allows the Task state to be updated and checked on the client side.\n",
      " |  \n",
      " |  User = <class 'labelbox.schema.user.User'>\n",
      " |      A User is a registered Labelbox user (for example you) associated with\n",
      " |      data they create or import and an Organization they belong to.\n",
      " |  \n",
      " |  Webhook = <class 'labelbox.schema.webhook.Webhook'>\n",
      " |      Represents a server-side rule for sending notifications to a web-server\n",
      " |      whenever one of several predefined actions happens within a context of\n",
      " |      a Project or an Organization.\n",
      " |  \n",
      " |  deleted = <Field: 'deleted'>\n",
      " |  \n",
      " |  uid = <Field: 'uid'>\n",
      "\n"
     ]
    }
   ],
   "source": [
    "help(dataset.AssetMetadata)"
   ]
  },
  {
   "cell_type": "code",
   "execution_count": 64,
   "metadata": {},
   "outputs": [
    {
     "name": "stdout",
     "output_type": "stream",
     "text": [
      "{\"data\":{\"user\":{\"id\":\"ckd9g2cwm9lsc0812f89y41o0\",\"email\":\"zwarshavsky@gmail.com\",\"role\":\"ADMIN\",\"organization\":{\"id\":\"ckd9g2cw29ine071604jfkgcj\",\"name\":\"Project Canopy\"},\"projects\":[{\"id\":\"ckfyedl1b3f8g0736z2qv8sa9\",\"name\":\"Canopy_Test2\"},{\"id\":\"ckfrdhdrer6ca0724t4mvu1ea\",\"name\":\"testing_python_sdk\"},{\"id\":\"ckf348wtres4n0708intf0rhu\",\"name\":\"Canopy_Test\"},{\"id\":\"ckd9g2cyh9ink0716f6wttv3q\",\"name\":\"Sample Project\"}]}}}\n",
      "\n"
     ]
    }
   ],
   "source": [
    "client = GraphQLClient('https://api.labelbox.com/graphql')\n",
    "client.inject_token(f'Bearer {LABELBOX_API_KEY}')\n",
    "\n",
    "data = client.execute('''\n",
    "\n",
    "query getUserInfo { \n",
    "    user { \n",
    "        id \n",
    "        email \n",
    "        role \n",
    "        organization { \n",
    "            id \n",
    "            name \n",
    "        } \n",
    "        projects { \n",
    "            id \n",
    "            name \n",
    "        } \n",
    "    }\n",
    "}\n",
    "\n",
    "  \n",
    "''')\n",
    "\n",
    "print(data)"
   ]
  },
  {
   "cell_type": "code",
   "execution_count": null,
   "metadata": {},
   "outputs": [],
   "source": []
  }
 ],
 "metadata": {
  "kernelspec": {
   "display_name": "labelling",
   "language": "python",
   "name": "labelling"
  },
  "language_info": {
   "codemirror_mode": {
    "name": "ipython",
    "version": 3
   },
   "file_extension": ".py",
   "mimetype": "text/x-python",
   "name": "python",
   "nbconvert_exporter": "python",
   "pygments_lexer": "ipython3",
   "version": "3.7.5"
  }
 },
 "nbformat": 4,
 "nbformat_minor": 4
}
