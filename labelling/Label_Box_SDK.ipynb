{
 "cells": [
  {
   "cell_type": "code",
   "execution_count": 1,
   "metadata": {},
   "outputs": [],
   "source": [
    "from labelbox import Client\n",
    "from env_vars import LABELBOX_API_KEY\n",
    "from glob import glob\n",
    "from graphqlclient import GraphQLClient\n",
    "import pandas as pd\n",
    "import time"
   ]
  },
  {
   "cell_type": "code",
   "execution_count": null,
   "metadata": {},
   "outputs": [],
   "source": [
    "def add_trailing_slash(path):\n",
    "    if path[-1] != '/':\n",
    "        path += '/'\n",
    "    return path"
   ]
  },
  {
   "cell_type": "code",
   "execution_count": null,
   "metadata": {},
   "outputs": [],
   "source": [
    "client = Client(LABELBOX_API_KEY)"
   ]
  },
  {
   "cell_type": "code",
   "execution_count": 206,
   "metadata": {},
   "outputs": [],
   "source": [
    "# import description per image\n",
    "\n",
    "csv_loc = \"/Volumes/Lacie/zhenyadata/Project_Canopy_Data/PC_Data/Sentinel_Data/Labelled/Tiles_v3/Polygon_List/polygons_100820.csv\"\n",
    "\n",
    "df = pd.read_csv(csv_loc)\n",
    "df[\"image\"] = df[\"image\"].astype('object')"
   ]
  },
  {
   "cell_type": "code",
   "execution_count": 172,
   "metadata": {},
   "outputs": [],
   "source": [
    "# Create project, dataset, and upload assets to each dataset\n",
    "\n",
    "aoi_dir_parent = \"/Volumes/Lacie/zhenyadata/Project_Canopy_Data/PC_Data/Sentinel_Data/Labelled/Tiles_v3/AOI_Crops/LabelBox/JPG\"\n",
    "aoi_dir = add_trailing_slash(aoi_dir)\n",
    "\n",
    "aoi_dir_child = glob(aoi_dir + \"*/\" )\n",
    "\n",
    "label_list = []\n",
    "for label_dir in aoi_dir_child:\n",
    "    \n",
    "    label_dir = add_trailing_slash(label_dir)\n",
    "    label = label_dir.split(\"/\")[-2]\n",
    "    label_list.append(label)\n",
    "#     project_name = f'{label} Label Flow'\n",
    "#     dataset_name = f'{label} Images'\n",
    "#     project = client.create_project(name=project_name)\n",
    "#     dataset = client.create_dataset(name=dataset_name, projects=project)\n",
    "#     data_list = glob(label_dir + \"/*\")\n",
    "#     dataset.create_data_rows(data_list)"
   ]
  },
  {
   "cell_type": "code",
   "execution_count": 219,
   "metadata": {},
   "outputs": [],
   "source": [
    "for project in client.get_projects():\n",
    "    project_name = \" \".join(project.name.split(\" \")[:-2])\n",
    "    if project_name in label_list:\n",
    "        for dataset in project.datasets():\n",
    "            time.sleep(30)\n",
    "            for row in dataset.data_rows():\n",
    "                image_id = int(row.external_id.split(\"/\")[-1].split(\".\")[0])\n",
    "                unique_index = pd.Index(df[\"image\"])\n",
    "                image_index = unique_index.get_loc(image_id)\n",
    "                comment = df[\"Comments\"].loc[image_index]\n",
    "                row.create_metadata(\"TEXT\",comment)"
   ]
  },
  {
   "cell_type": "code",
   "execution_count": 222,
   "metadata": {},
   "outputs": [
    {
     "name": "stdout",
     "output_type": "stream",
     "text": [
      "Help on method create_metadata in module labelbox.schema.data_row:\n",
      "\n",
      "create_metadata(meta_type, meta_value) method of labelbox.schema.data_row.DataRow instance\n",
      "    Creates an asset metadata for this DataRow.\n",
      "    \n",
      "    Args:\n",
      "        meta_type (str): Asset metadata type, must be one of:\n",
      "            VIDEO, IMAGE, TEXT.\n",
      "        meta_value (str): Asset metadata value.\n",
      "    Returns:\n",
      "        AssetMetadata DB object.\n",
      "\n"
     ]
    }
   ],
   "source": [
    "help(row.create_metadata)"
   ]
  },
  {
   "cell_type": "code",
   "execution_count": 78,
   "metadata": {},
   "outputs": [],
   "source": [
    "project = client.get_project(\"ckfrdhdrer6ca0724t4mvu1ea\")"
   ]
  },
  {
   "cell_type": "code",
   "execution_count": 85,
   "metadata": {},
   "outputs": [
    {
     "name": "stdout",
     "output_type": "stream",
     "text": [
      "<Dataset {'created_at': datetime.datetime(2020, 10, 1, 22, 11, 33, tzinfo=datetime.timezone.utc), 'description': '', 'name': 'test_dataset', 'uid': 'ckfrdib3tgz1q07459gs261m9', 'updated_at': datetime.datetime(2020, 10, 1, 22, 11, 33, tzinfo=datetime.timezone.utc)}>\n"
     ]
    }
   ],
   "source": [
    "for dataset in project.datasets():\n",
    "    print(dataset)"
   ]
  },
  {
   "cell_type": "code",
   "execution_count": 23,
   "metadata": {},
   "outputs": [
    {
     "name": "stdout",
     "output_type": "stream",
     "text": [
      "<Project {'auto_audit_number_of_labels': 1, 'auto_audit_percentage': 1, 'created_at': datetime.datetime(2020, 10, 1, 22, 10, 50, tzinfo=datetime.timezone.utc), 'description': '', 'last_activity_time': datetime.datetime(2020, 10, 1, 22, 48, 6, tzinfo=datetime.timezone.utc), 'name': 'testing_python_sdk', 'setup_complete': datetime.datetime(2020, 10, 1, 22, 48, 5, 946000, tzinfo=datetime.timezone.utc), 'uid': 'ckfrdhdrer6ca0724t4mvu1ea', 'updated_at': datetime.datetime(2020, 10, 1, 22, 48, 6, tzinfo=datetime.timezone.utc)}>\n"
     ]
    }
   ],
   "source": [
    "print(project)"
   ]
  },
  {
   "cell_type": "code",
   "execution_count": 79,
   "metadata": {},
   "outputs": [],
   "source": [
    "for x in project.labels(): \n",
    "    print(x)"
   ]
  },
  {
   "cell_type": "code",
   "execution_count": 80,
   "metadata": {},
   "outputs": [
    {
     "name": "stdout",
     "output_type": "stream",
     "text": [
      "<Project {'auto_audit_number_of_labels': 1, 'auto_audit_percentage': 1, 'created_at': datetime.datetime(2020, 10, 6, 20, 10, 15, tzinfo=datetime.timezone.utc), 'description': 'Testing Labelling Workflow ', 'last_activity_time': datetime.datetime(2020, 10, 6, 20, 44, 36, tzinfo=datetime.timezone.utc), 'name': 'Canopy_Test2', 'setup_complete': datetime.datetime(2020, 10, 6, 20, 19, 10, 999000, tzinfo=datetime.timezone.utc), 'uid': 'ckfyedl1b3f8g0736z2qv8sa9', 'updated_at': datetime.datetime(2020, 10, 6, 20, 19, 11, tzinfo=datetime.timezone.utc)}>\n",
      "<Project {'auto_audit_number_of_labels': 1, 'auto_audit_percentage': 1, 'created_at': datetime.datetime(2020, 10, 1, 22, 10, 50, tzinfo=datetime.timezone.utc), 'description': '', 'last_activity_time': datetime.datetime(2020, 10, 1, 22, 48, 6, tzinfo=datetime.timezone.utc), 'name': 'testing_python_sdk', 'setup_complete': datetime.datetime(2020, 10, 1, 22, 48, 5, 946000, tzinfo=datetime.timezone.utc), 'uid': 'ckfrdhdrer6ca0724t4mvu1ea', 'updated_at': datetime.datetime(2020, 10, 1, 22, 48, 6, tzinfo=datetime.timezone.utc)}>\n",
      "<Project {'auto_audit_number_of_labels': 1, 'auto_audit_percentage': 1, 'created_at': datetime.datetime(2020, 9, 14, 22, 45, 50, tzinfo=datetime.timezone.utc), 'description': '', 'last_activity_time': datetime.datetime(2020, 9, 23, 4, 6, 16, tzinfo=datetime.timezone.utc), 'name': 'Canopy_Test', 'setup_complete': datetime.datetime(2020, 9, 14, 22, 46, 42, 93000, tzinfo=datetime.timezone.utc), 'uid': 'ckf348wtres4n0708intf0rhu', 'updated_at': datetime.datetime(2020, 9, 14, 22, 46, 42, tzinfo=datetime.timezone.utc)}>\n",
      "<Project {'auto_audit_number_of_labels': 1, 'auto_audit_percentage': 1, 'created_at': datetime.datetime(2020, 7, 30, 23, 43, 52, tzinfo=datetime.timezone.utc), 'description': 'Demonstrating image segmentation and object detection', 'last_activity_time': datetime.datetime(2020, 8, 3, 20, 34, 54, tzinfo=datetime.timezone.utc), 'name': 'Sample Project', 'setup_complete': datetime.datetime(2020, 7, 30, 23, 43, 52, 178000, tzinfo=datetime.timezone.utc), 'uid': 'ckd9g2cyh9ink0716f6wttv3q', 'updated_at': datetime.datetime(2020, 7, 30, 23, 43, 54, tzinfo=datetime.timezone.utc)}>\n"
     ]
    }
   ],
   "source": [
    "for i in client.get_projects():\n",
    "    print(i)"
   ]
  },
  {
   "cell_type": "code",
   "execution_count": 132,
   "metadata": {},
   "outputs": [
    {
     "name": "stdout",
     "output_type": "stream",
     "text": [
      "<Dataset {'created_at': datetime.datetime(2020, 7, 30, 23, 43, 52, tzinfo=datetime.timezone.utc), 'description': '', 'name': 'Example Nature Dataset', 'uid': 'ckd9g2czqkg910797yxw61dwo', 'updated_at': datetime.datetime(2020, 7, 30, 23, 43, 52, tzinfo=datetime.timezone.utc)}>\n",
      "<Dataset {'created_at': datetime.datetime(2020, 8, 3, 21, 13, 20, tzinfo=datetime.timezone.utc), 'description': '', 'name': 'canopy-test', 'uid': 'ckdf0g6h9srht0766h124l0je', 'updated_at': datetime.datetime(2020, 8, 3, 21, 13, 20, tzinfo=datetime.timezone.utc)}>\n",
      "<Dataset {'created_at': datetime.datetime(2020, 8, 4, 18, 1, 41, tzinfo=datetime.timezone.utc), 'description': '', 'name': 'test-dataset', 'uid': 'ckdg91kgsaxzi08840be2mk8j', 'updated_at': datetime.datetime(2020, 8, 4, 18, 1, 41, tzinfo=datetime.timezone.utc)}>\n",
      "<Dataset {'created_at': datetime.datetime(2020, 9, 14, 21, 43, 40, tzinfo=datetime.timezone.utc), 'description': '', 'name': 'Polygon_Crops_Tiles_v2', 'uid': 'ckf320yujd8h107579hodf4du', 'updated_at': datetime.datetime(2020, 9, 14, 21, 43, 40, tzinfo=datetime.timezone.utc)}>\n",
      "<Dataset {'created_at': datetime.datetime(2020, 9, 14, 22, 42, 46, tzinfo=datetime.timezone.utc), 'description': '', 'name': 'Polygon_Crops_jpg', 'uid': 'ckf344zdudja207705m90cbnm', 'updated_at': datetime.datetime(2020, 9, 14, 22, 42, 46, tzinfo=datetime.timezone.utc)}>\n",
      "<Dataset {'created_at': datetime.datetime(2020, 10, 1, 22, 11, 33, tzinfo=datetime.timezone.utc), 'description': '', 'name': 'test_dataset', 'uid': 'ckfrdib3tgz1q07459gs261m9', 'updated_at': datetime.datetime(2020, 10, 1, 22, 11, 33, tzinfo=datetime.timezone.utc)}>\n"
     ]
    }
   ],
   "source": [
    "for dataset in client.get_datasets():\n",
    "    print(dataset)"
   ]
  },
  {
   "cell_type": "code",
   "execution_count": 86,
   "metadata": {},
   "outputs": [],
   "source": [
    "dataset = client.get_dataset(\"ckfrdib3tgz1q07459gs261m9\")"
   ]
  },
  {
   "cell_type": "code",
   "execution_count": null,
   "metadata": {},
   "outputs": [],
   "source": [
    "row data_row.create_metadata(\"TEXT\", \"testing_description\"). Here, type will need to be of a specific format from here, namely TEXT, IMAGE, or VIDEO. "
   ]
  },
  {
   "cell_type": "code",
   "execution_count": 109,
   "metadata": {},
   "outputs": [],
   "source": [
    "# count = 0 \n",
    "# for row in dataset.data_rows():\n",
    "#     count += 1 \n",
    "#     print(row)\n",
    "#     print(count)"
   ]
  },
  {
   "cell_type": "code",
   "execution_count": 129,
   "metadata": {},
   "outputs": [],
   "source": [
    "for row in dataset.data_rows():\n",
    "    row.create_metadata(\"TEXT\",\"Test Description\")"
   ]
  },
  {
   "cell_type": "code",
   "execution_count": 64,
   "metadata": {},
   "outputs": [
    {
     "name": "stdout",
     "output_type": "stream",
     "text": [
      "{\"data\":{\"user\":{\"id\":\"ckd9g2cwm9lsc0812f89y41o0\",\"email\":\"zwarshavsky@gmail.com\",\"role\":\"ADMIN\",\"organization\":{\"id\":\"ckd9g2cw29ine071604jfkgcj\",\"name\":\"Project Canopy\"},\"projects\":[{\"id\":\"ckfyedl1b3f8g0736z2qv8sa9\",\"name\":\"Canopy_Test2\"},{\"id\":\"ckfrdhdrer6ca0724t4mvu1ea\",\"name\":\"testing_python_sdk\"},{\"id\":\"ckf348wtres4n0708intf0rhu\",\"name\":\"Canopy_Test\"},{\"id\":\"ckd9g2cyh9ink0716f6wttv3q\",\"name\":\"Sample Project\"}]}}}\n",
      "\n"
     ]
    }
   ],
   "source": [
    "client = GraphQLClient('https://api.labelbox.com/graphql')\n",
    "client.inject_token(f'Bearer {LABELBOX_API_KEY}')\n",
    "\n",
    "data = client.execute('''\n",
    "\n",
    "query getUserInfo { \n",
    "    user { \n",
    "        id \n",
    "        email \n",
    "        role \n",
    "        organization { \n",
    "            id \n",
    "            name \n",
    "        } \n",
    "        projects { \n",
    "            id \n",
    "            name \n",
    "        } \n",
    "    }\n",
    "}\n",
    "\n",
    "  \n",
    "''')\n",
    "\n",
    "print(data)"
   ]
  },
  {
   "cell_type": "markdown",
   "metadata": {},
   "source": [
    "# Updated LabelBox Import Projects Code"
   ]
  },
  {
   "cell_type": "code",
   "execution_count": 2,
   "metadata": {},
   "outputs": [],
   "source": [
    "def add_trailing_slash(path):\n",
    "    if path[-1] != '/':\n",
    "        path += '/'\n",
    "    return path"
   ]
  },
  {
   "cell_type": "code",
   "execution_count": 15,
   "metadata": {},
   "outputs": [],
   "source": [
    "client = Client(LABELBOX_API_KEY)"
   ]
  },
  {
   "cell_type": "code",
   "execution_count": 3,
   "metadata": {},
   "outputs": [],
   "source": [
    "# import description per image\n",
    "\n",
    "csv_loc = \"/Volumes/Lacie/zhenyadata/Project_Canopy_Data/PC_Data/Sentinel_Data/Labelled/Tiles_v3/Polygon_List/polygons_101320.csv\"\n",
    "\n",
    "df = pd.read_csv(csv_loc)\n",
    "df[\"image\"] = df[\"image\"].astype('object')"
   ]
  },
  {
   "cell_type": "code",
   "execution_count": 32,
   "metadata": {},
   "outputs": [],
   "source": [
    "# Create project, dataset, and upload assets to each dataset\n",
    "\n",
    "aoi_dir_parent = \"/Volumes/Lacie/zhenyadata/Project_Canopy_Data/PC_Data/Sentinel_Data/Labelled/Tiles_v4/LabelBox_Labelling/JPG\"\n",
    "aoi_dir_parent = add_trailing_slash(aoi_dir_parent)\n",
    "\n",
    "aoi_dir_child = glob(aoi_dir_parent + \"*/\" )\n",
    "\n",
    "\n",
    "label_list = []\n",
    "for label_dir in aoi_dir_child:\n",
    "    \n",
    "    label_dir = add_trailing_slash(label_dir)\n",
    "    label = label_dir.split(\"/\")[-2]\n",
    "    label_list.append(label)      \n",
    "    project_name = f'{label} Label Flow'\n",
    "    dataset_name = f'{label} Images'\n",
    "    project = client.create_project(name=project_name)\n",
    "    project_uid = project.uid\n",
    "    dataset = client.create_dataset(name=dataset_name, projects=project_uid)\n",
    "    data_list = glob(label_dir + \"/*\")\n",
    "    dataset.create_data_rows(data_list)"
   ]
  },
  {
   "cell_type": "code",
   "execution_count": 46,
   "metadata": {},
   "outputs": [
    {
     "name": "stdout",
     "output_type": "stream",
     "text": [
      "Water\n",
      "Shifting cultivation\n",
      "Savannah\n",
      "Rainforest\n",
      "Mining\n",
      "Industrial agriculture\n",
      "Habitation\n",
      "Fire\n",
      "\n",
      "\n",
      "\n",
      "\n"
     ]
    }
   ],
   "source": [
    "for project in client.get_projects():\n",
    "    project_name = \" \".join(project.name.split(\" \")[:-2])\n",
    "    print(project_name)\n",
    "    if project_name in label_list:\n",
    "        for dataset in project.datasets():\n",
    "            time.sleep(30)\n",
    "            for row in dataset.data_rows():\n",
    "                image_id = int(row.external_id.split(\"/\")[-1].split(\".\")[0].split(\"_\")[0])\n",
    "                unique_index = pd.Index(df[\"image\"])\n",
    "                image_index = unique_index.get_loc(image_id)\n",
    "                comment = df[\"Comments\"].loc[image_index]\n",
    "                row.create_metadata(\"TEXT\",comment)"
   ]
  }
 ],
 "metadata": {
  "kernelspec": {
   "display_name": "gee-conda",
   "language": "python",
   "name": "gee-conda"
  },
  "language_info": {
   "codemirror_mode": {
    "name": "ipython",
    "version": 3
   },
   "file_extension": ".py",
   "mimetype": "text/x-python",
   "name": "python",
   "nbconvert_exporter": "python",
   "pygments_lexer": "ipython3",
   "version": "3.8.6"
  }
 },
 "nbformat": 4,
 "nbformat_minor": 4
}
