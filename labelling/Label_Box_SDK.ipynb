{
 "cells": [
  {
   "cell_type": "code",
   "execution_count": 1,
   "metadata": {},
   "outputs": [],
   "source": [
    "from labelbox import Client\n",
    "from env_vars import LABELBOX_API_KEY\n",
    "from glob import glob\n",
    "from graphqlclient import GraphQLClient\n",
    "import pandas as pd\n",
    "import time"
   ]
  },
  {
   "cell_type": "code",
   "execution_count": null,
   "metadata": {},
   "outputs": [],
   "source": [
    "def add_trailing_slash(path):\n",
    "    if path[-1] != '/':\n",
    "        path += '/'\n",
    "    return path"
   ]
  },
  {
   "cell_type": "code",
   "execution_count": 2,
   "metadata": {},
   "outputs": [],
   "source": [
    "client = Client(LABELBOX_API_KEY)"
   ]
  },
  {
   "cell_type": "code",
   "execution_count": 206,
   "metadata": {},
   "outputs": [],
   "source": [
    "# import description per image\n",
    "\n",
    "csv_loc = \"/Volumes/Lacie/zhenyadata/Project_Canopy_Data/PC_Data/Sentinel_Data/Labelled/Tiles_v3/Polygon_List/polygons_100820.csv\"\n",
    "\n",
    "df = pd.read_csv(csv_loc)\n",
    "df[\"image\"] = df[\"image\"].astype('object')"
   ]
  },
  {
   "cell_type": "code",
   "execution_count": 172,
   "metadata": {},
   "outputs": [],
   "source": [
    "# Create project, dataset, and upload assets to each dataset\n",
    "\n",
    "aoi_dir_parent = \"/Volumes/Lacie/zhenyadata/Project_Canopy_Data/PC_Data/Sentinel_Data/Labelled/Tiles_v3/AOI_Crops/LabelBox/JPG\"\n",
    "aoi_dir = add_trailing_slash(aoi_dir)\n",
    "\n",
    "aoi_dir_child = glob(aoi_dir + \"*/\" )\n",
    "\n",
    "label_list = []\n",
    "for label_dir in aoi_dir_child:\n",
    "    \n",
    "    label_dir = add_trailing_slash(label_dir)\n",
    "    label = label_dir.split(\"/\")[-2]\n",
    "    label_list.append(label)\n",
    "#     project_name = f'{label} Label Flow'\n",
    "#     dataset_name = f'{label} Images'\n",
    "#     project = client.create_project(name=project_name)\n",
    "#     dataset = client.create_dataset(name=dataset_name, projects=project)\n",
    "#     data_list = glob(label_dir + \"/*\")\n",
    "#     dataset.create_data_rows(data_list)"
   ]
  },
  {
   "cell_type": "code",
   "execution_count": 219,
   "metadata": {},
   "outputs": [],
   "source": [
    "for project in client.get_projects():\n",
    "    project_name = \" \".join(project.name.split(\" \")[:-2])\n",
    "    if project_name in label_list:\n",
    "        for dataset in project.datasets():\n",
    "            time.sleep(30)\n",
    "            for row in dataset.data_rows():\n",
    "                image_id = int(row.external_id.split(\"/\")[-1].split(\".\")[0])\n",
    "                unique_index = pd.Index(df[\"image\"])\n",
    "                image_index = unique_index.get_loc(image_id)\n",
    "                comment = df[\"Comments\"].loc[image_index]\n",
    "                row.create_metadata(\"TEXT\",comment)"
   ]
  },
  {
   "cell_type": "code",
   "execution_count": 222,
   "metadata": {},
   "outputs": [
    {
     "name": "stdout",
     "output_type": "stream",
     "text": [
      "Help on method create_metadata in module labelbox.schema.data_row:\n",
      "\n",
      "create_metadata(meta_type, meta_value) method of labelbox.schema.data_row.DataRow instance\n",
      "    Creates an asset metadata for this DataRow.\n",
      "    \n",
      "    Args:\n",
      "        meta_type (str): Asset metadata type, must be one of:\n",
      "            VIDEO, IMAGE, TEXT.\n",
      "        meta_value (str): Asset metadata value.\n",
      "    Returns:\n",
      "        AssetMetadata DB object.\n",
      "\n"
     ]
    }
   ],
   "source": [
    "help(row.create_metadata)"
   ]
  },
  {
   "cell_type": "code",
   "execution_count": 3,
   "metadata": {},
   "outputs": [],
   "source": [
    "project = client.get_project(\"ckfrdhdrer6ca0724t4mvu1ea\")"
   ]
  },
  {
   "cell_type": "code",
   "execution_count": 85,
   "metadata": {},
   "outputs": [
    {
     "name": "stdout",
     "output_type": "stream",
     "text": [
      "<Dataset {'created_at': datetime.datetime(2020, 10, 1, 22, 11, 33, tzinfo=datetime.timezone.utc), 'description': '', 'name': 'test_dataset', 'uid': 'ckfrdib3tgz1q07459gs261m9', 'updated_at': datetime.datetime(2020, 10, 1, 22, 11, 33, tzinfo=datetime.timezone.utc)}>\n"
     ]
    }
   ],
   "source": [
    "for dataset in project.datasets():\n",
    "    print(dataset)"
   ]
  },
  {
   "cell_type": "code",
   "execution_count": 23,
   "metadata": {},
   "outputs": [
    {
     "name": "stdout",
     "output_type": "stream",
     "text": [
      "<Project {'auto_audit_number_of_labels': 1, 'auto_audit_percentage': 1, 'created_at': datetime.datetime(2020, 10, 1, 22, 10, 50, tzinfo=datetime.timezone.utc), 'description': '', 'last_activity_time': datetime.datetime(2020, 10, 1, 22, 48, 6, tzinfo=datetime.timezone.utc), 'name': 'testing_python_sdk', 'setup_complete': datetime.datetime(2020, 10, 1, 22, 48, 5, 946000, tzinfo=datetime.timezone.utc), 'uid': 'ckfrdhdrer6ca0724t4mvu1ea', 'updated_at': datetime.datetime(2020, 10, 1, 22, 48, 6, tzinfo=datetime.timezone.utc)}>\n"
     ]
    }
   ],
   "source": [
    "print(project)"
   ]
  },
  {
   "cell_type": "code",
   "execution_count": 79,
   "metadata": {},
   "outputs": [],
   "source": [
    "for x in project.labels(): \n",
    "    print(x)"
   ]
  },
  {
   "cell_type": "code",
   "execution_count": 80,
   "metadata": {},
   "outputs": [
    {
     "name": "stdout",
     "output_type": "stream",
     "text": [
      "<Project {'auto_audit_number_of_labels': 1, 'auto_audit_percentage': 1, 'created_at': datetime.datetime(2020, 10, 6, 20, 10, 15, tzinfo=datetime.timezone.utc), 'description': 'Testing Labelling Workflow ', 'last_activity_time': datetime.datetime(2020, 10, 6, 20, 44, 36, tzinfo=datetime.timezone.utc), 'name': 'Canopy_Test2', 'setup_complete': datetime.datetime(2020, 10, 6, 20, 19, 10, 999000, tzinfo=datetime.timezone.utc), 'uid': 'ckfyedl1b3f8g0736z2qv8sa9', 'updated_at': datetime.datetime(2020, 10, 6, 20, 19, 11, tzinfo=datetime.timezone.utc)}>\n",
      "<Project {'auto_audit_number_of_labels': 1, 'auto_audit_percentage': 1, 'created_at': datetime.datetime(2020, 10, 1, 22, 10, 50, tzinfo=datetime.timezone.utc), 'description': '', 'last_activity_time': datetime.datetime(2020, 10, 1, 22, 48, 6, tzinfo=datetime.timezone.utc), 'name': 'testing_python_sdk', 'setup_complete': datetime.datetime(2020, 10, 1, 22, 48, 5, 946000, tzinfo=datetime.timezone.utc), 'uid': 'ckfrdhdrer6ca0724t4mvu1ea', 'updated_at': datetime.datetime(2020, 10, 1, 22, 48, 6, tzinfo=datetime.timezone.utc)}>\n",
      "<Project {'auto_audit_number_of_labels': 1, 'auto_audit_percentage': 1, 'created_at': datetime.datetime(2020, 9, 14, 22, 45, 50, tzinfo=datetime.timezone.utc), 'description': '', 'last_activity_time': datetime.datetime(2020, 9, 23, 4, 6, 16, tzinfo=datetime.timezone.utc), 'name': 'Canopy_Test', 'setup_complete': datetime.datetime(2020, 9, 14, 22, 46, 42, 93000, tzinfo=datetime.timezone.utc), 'uid': 'ckf348wtres4n0708intf0rhu', 'updated_at': datetime.datetime(2020, 9, 14, 22, 46, 42, tzinfo=datetime.timezone.utc)}>\n",
      "<Project {'auto_audit_number_of_labels': 1, 'auto_audit_percentage': 1, 'created_at': datetime.datetime(2020, 7, 30, 23, 43, 52, tzinfo=datetime.timezone.utc), 'description': 'Demonstrating image segmentation and object detection', 'last_activity_time': datetime.datetime(2020, 8, 3, 20, 34, 54, tzinfo=datetime.timezone.utc), 'name': 'Sample Project', 'setup_complete': datetime.datetime(2020, 7, 30, 23, 43, 52, 178000, tzinfo=datetime.timezone.utc), 'uid': 'ckd9g2cyh9ink0716f6wttv3q', 'updated_at': datetime.datetime(2020, 7, 30, 23, 43, 54, tzinfo=datetime.timezone.utc)}>\n"
     ]
    }
   ],
   "source": [
    "for i in client.get_projects():\n",
    "    print(i)"
   ]
  },
  {
   "cell_type": "code",
   "execution_count": 132,
   "metadata": {},
   "outputs": [
    {
     "name": "stdout",
     "output_type": "stream",
     "text": [
      "<Dataset {'created_at': datetime.datetime(2020, 7, 30, 23, 43, 52, tzinfo=datetime.timezone.utc), 'description': '', 'name': 'Example Nature Dataset', 'uid': 'ckd9g2czqkg910797yxw61dwo', 'updated_at': datetime.datetime(2020, 7, 30, 23, 43, 52, tzinfo=datetime.timezone.utc)}>\n",
      "<Dataset {'created_at': datetime.datetime(2020, 8, 3, 21, 13, 20, tzinfo=datetime.timezone.utc), 'description': '', 'name': 'canopy-test', 'uid': 'ckdf0g6h9srht0766h124l0je', 'updated_at': datetime.datetime(2020, 8, 3, 21, 13, 20, tzinfo=datetime.timezone.utc)}>\n",
      "<Dataset {'created_at': datetime.datetime(2020, 8, 4, 18, 1, 41, tzinfo=datetime.timezone.utc), 'description': '', 'name': 'test-dataset', 'uid': 'ckdg91kgsaxzi08840be2mk8j', 'updated_at': datetime.datetime(2020, 8, 4, 18, 1, 41, tzinfo=datetime.timezone.utc)}>\n",
      "<Dataset {'created_at': datetime.datetime(2020, 9, 14, 21, 43, 40, tzinfo=datetime.timezone.utc), 'description': '', 'name': 'Polygon_Crops_Tiles_v2', 'uid': 'ckf320yujd8h107579hodf4du', 'updated_at': datetime.datetime(2020, 9, 14, 21, 43, 40, tzinfo=datetime.timezone.utc)}>\n",
      "<Dataset {'created_at': datetime.datetime(2020, 9, 14, 22, 42, 46, tzinfo=datetime.timezone.utc), 'description': '', 'name': 'Polygon_Crops_jpg', 'uid': 'ckf344zdudja207705m90cbnm', 'updated_at': datetime.datetime(2020, 9, 14, 22, 42, 46, tzinfo=datetime.timezone.utc)}>\n",
      "<Dataset {'created_at': datetime.datetime(2020, 10, 1, 22, 11, 33, tzinfo=datetime.timezone.utc), 'description': '', 'name': 'test_dataset', 'uid': 'ckfrdib3tgz1q07459gs261m9', 'updated_at': datetime.datetime(2020, 10, 1, 22, 11, 33, tzinfo=datetime.timezone.utc)}>\n"
     ]
    }
   ],
   "source": [
    "for dataset in client.get_datasets():\n",
    "    print(dataset)"
   ]
  },
  {
   "cell_type": "code",
   "execution_count": 86,
   "metadata": {},
   "outputs": [],
   "source": [
    "dataset = client.get_dataset(\"ckfrdib3tgz1q07459gs261m9\")"
   ]
  },
  {
   "cell_type": "code",
   "execution_count": null,
   "metadata": {},
   "outputs": [],
   "source": [
    "row data_row.create_metadata(\"TEXT\", \"testing_description\"). Here, type will need to be of a specific format from here, namely TEXT, IMAGE, or VIDEO. "
   ]
  },
  {
   "cell_type": "code",
   "execution_count": 109,
   "metadata": {},
   "outputs": [],
   "source": [
    "# count = 0 \n",
    "# for row in dataset.data_rows():\n",
    "#     count += 1 \n",
    "#     print(row)\n",
    "#     print(count)"
   ]
  },
  {
   "cell_type": "code",
   "execution_count": 129,
   "metadata": {},
   "outputs": [],
   "source": [
    "for row in dataset.data_rows():\n",
    "    row.create_metadata(\"TEXT\",\"Test Description\")"
   ]
  },
  {
   "cell_type": "code",
   "execution_count": 64,
   "metadata": {},
   "outputs": [
    {
     "name": "stdout",
     "output_type": "stream",
     "text": [
      "{\"data\":{\"user\":{\"id\":\"ckd9g2cwm9lsc0812f89y41o0\",\"email\":\"zwarshavsky@gmail.com\",\"role\":\"ADMIN\",\"organization\":{\"id\":\"ckd9g2cw29ine071604jfkgcj\",\"name\":\"Project Canopy\"},\"projects\":[{\"id\":\"ckfyedl1b3f8g0736z2qv8sa9\",\"name\":\"Canopy_Test2\"},{\"id\":\"ckfrdhdrer6ca0724t4mvu1ea\",\"name\":\"testing_python_sdk\"},{\"id\":\"ckf348wtres4n0708intf0rhu\",\"name\":\"Canopy_Test\"},{\"id\":\"ckd9g2cyh9ink0716f6wttv3q\",\"name\":\"Sample Project\"}]}}}\n",
      "\n"
     ]
    }
   ],
   "source": [
    "client = GraphQLClient('https://api.labelbox.com/graphql')\n",
    "client.inject_token(f'Bearer {LABELBOX_API_KEY}')\n",
    "\n",
    "data = client.execute('''\n",
    "\n",
    "query getUserInfo { \n",
    "    user { \n",
    "        id \n",
    "        email \n",
    "        role \n",
    "        organization { \n",
    "            id \n",
    "            name \n",
    "        } \n",
    "        projects { \n",
    "            id \n",
    "            name \n",
    "        } \n",
    "    }\n",
    "}\n",
    "\n",
    "  \n",
    "''')\n",
    "\n",
    "print(data)"
   ]
  },
  {
   "cell_type": "markdown",
   "metadata": {},
   "source": [
    "# Updated LabelBox Import Projects Code"
   ]
  },
  {
   "cell_type": "code",
   "execution_count": 2,
   "metadata": {},
   "outputs": [],
   "source": [
    "def add_trailing_slash(path):\n",
    "    if path[-1] != '/':\n",
    "        path += '/'\n",
    "    return path"
   ]
  },
  {
   "cell_type": "code",
   "execution_count": 15,
   "metadata": {},
   "outputs": [],
   "source": [
    "client = Client(LABELBOX_API_KEY)"
   ]
  },
  {
   "cell_type": "code",
   "execution_count": 3,
   "metadata": {},
   "outputs": [],
   "source": [
    "# import description per image\n",
    "\n",
    "csv_loc = \"/Volumes/Lacie/zhenyadata/Project_Canopy_Data/PC_Data/Sentinel_Data/Labelled/Tiles_v3/Polygon_List/polygons_101320.csv\"\n",
    "\n",
    "df = pd.read_csv(csv_loc)\n",
    "df[\"image\"] = df[\"image\"].astype('object')"
   ]
  },
  {
   "cell_type": "code",
   "execution_count": 32,
   "metadata": {},
   "outputs": [],
   "source": [
    "# Create project, dataset, and upload assets to each dataset\n",
    "\n",
    "aoi_dir_parent = \"/Volumes/Lacie/zhenyadata/Project_Canopy_Data/PC_Data/Sentinel_Data/Labelled/Tiles_v4/LabelBox_Labelling/JPG\"\n",
    "aoi_dir_parent = add_trailing_slash(aoi_dir_parent)\n",
    "\n",
    "aoi_dir_child = glob(aoi_dir_parent + \"*/\" )\n",
    "\n",
    "\n",
    "label_list = []\n",
    "for label_dir in aoi_dir_child:\n",
    "    \n",
    "    label_dir = add_trailing_slash(label_dir)\n",
    "    label = label_dir.split(\"/\")[-2]\n",
    "    label_list.append(label)      \n",
    "    project_name = f'{label} Label Flow'\n",
    "    dataset_name = f'{label} Images'\n",
    "    project = client.create_project(name=project_name)\n",
    "    project_uid = project.uid\n",
    "    dataset = client.create_dataset(name=dataset_name, projects=project_uid)\n",
    "    data_list = glob(label_dir + \"/*\")\n",
    "    dataset.create_data_rows(data_list)"
   ]
  },
  {
   "cell_type": "code",
   "execution_count": 46,
   "metadata": {},
   "outputs": [
    {
     "name": "stdout",
     "output_type": "stream",
     "text": [
      "Water\n",
      "Shifting cultivation\n",
      "Savannah\n",
      "Rainforest\n",
      "Mining\n",
      "Industrial agriculture\n",
      "Habitation\n",
      "Fire\n",
      "\n",
      "\n",
      "\n",
      "\n"
     ]
    }
   ],
   "source": [
    "for project in client.get_projects():\n",
    "    project_name = \" \".join(project.name.split(\" \")[:-2])\n",
    "    print(project_name)\n",
    "    if project_name in label_list:\n",
    "        for dataset in project.datasets():\n",
    "            time.sleep(30)\n",
    "            for row in dataset.data_rows():\n",
    "                image_id = int(row.external_id.split(\"/\")[-1].split(\".\")[0].split(\"_\")[0])\n",
    "                unique_index = pd.Index(df[\"image\"])\n",
    "                image_index = unique_index.get_loc(image_id)\n",
    "                comment = df[\"Comments\"].loc[image_index]\n",
    "                row.create_metadata(\"TEXT\",comment)"
   ]
  },
  {
   "cell_type": "markdown",
   "metadata": {},
   "source": [
    "# Sandbox"
   ]
  },
  {
   "cell_type": "code",
   "execution_count": 21,
   "metadata": {},
   "outputs": [
    {
     "name": "stdout",
     "output_type": "stream",
     "text": [
      "https://storage.googleapis.com/labelbox-exports/ckd9g2cw29ine071604jfkgcj/ckj0ulvyntmjq08862vy9nl0a/export-2021-01-26T18%3A08%3A39.883Z.json?GoogleAccessId=api-prod%40labelbox-193903.iam.gserviceaccount.com&Expires=1612894156&Signature=AfisBn8CunJ14lEYQtFvZzEY2%2Bxwzrews88juSdBSxkFBNCKlTE60keEw784gC7Q4EufwMc%2Bmo0lKf86DvVe%2Fmklvq59nvSL0VCDHaQSPtr1m4FNq4zKwCqV%2Bjlq5D8IwQXZ3DSHpikQoRCoXdX%2BawfNeSYUoTLa2vj4non7ha7fpIXZGF8P9nG9el4Wg3aMIq4O62BKF5WDWEDAZKWws1jaLYTD5ICVKd%2F6iZuthV73bPWu1X2QhV7gu2tPa4nqQR4oy2Wa1dY00ttWl1JBNYceWYSOUPUUoXi%2Fm8jiWelXXFIjhtpKohMZ5W%2Fsh62WH3Zonkvx17VbWNE90eKjIg%3D%3D&response-content-disposition=attachment\n",
      "https://storage.googleapis.com/labelbox-exports/ckd9g2cw29ine071604jfkgcj/ckj0ul1yatmgx0734uxa8fxje/export-2021-01-26T18%3A08%3A42.687Z.json?GoogleAccessId=api-prod%40labelbox-193903.iam.gserviceaccount.com&Expires=1612894157&Signature=p8iudI4RPCeW%2F7u38grNHbgj4Fl6zoc%2BIji907j5GBJ20to8azZevCLLzUhp87gHoQQe0yBWFFwYNp24Y4atf4d43ZmPllXTyxerP702XJjM57IJmmdFqysrXjqDNlyliSlPu%2BlQGbPYdYKS%2F1N1ulEHnJYZ7kaCj67jBHsvzZA7rsYEuFr2bn0%2F8%2BRjrKAAl1uBbK5UNbknmaikJD6jdhfkEyN1k93sR8q5V37wH8nu5OhT6j0p09Vpp1XY1%2BbU1p%2FwCbtj751qbVUrl9dJ4q0DcjEkP%2Fnws5csw50Q84Lh%2BUC9TltKQ2hFz7MeOjDLSYP2m0FFABKqFV%2BUEeFNdw%3D%3D&response-content-disposition=attachment\n",
      "https://storage.googleapis.com/labelbox-exports/ckd9g2cw29ine071604jfkgcj/ckj0ukk45tm2k0886d7pl83em/export-2021-01-26T18%3A08%3A45.316Z.json?GoogleAccessId=api-prod%40labelbox-193903.iam.gserviceaccount.com&Expires=1612894157&Signature=cfpyryRl8kRuLv3QETY6AKZemlfDjXNIAtlp%2BhC30e4Vh8z%2FoxkUjmlvwqmqwCABWUQrOWQwTs7IeJzBOB6%2F5b9tk8EFmQQhdFOY204FqHy1LrtSZGLateAGGnEwT2afzt%2FuGXmw62JzTocCku6UET21Du9iv%2F1zM5%2B2dWnGfj5YJIq9XceL6oVXpvk4J%2B%2FsaZ6lR8SVgK4ysnno0UPER03Q9lC3dkkGJq1jBrUyQdzHJ1FU4x8sKrXsQs5mtVqohiEVRaq53tnxkTeyT10gag1XcN7LfYJlyrO5UN7KBSFDLSLqMqF%2F5ewDA%2FISH6jDd6uzdq6A8Hw1c9AJgQOXXA%3D%3D&response-content-disposition=attachment\n",
      "https://storage.googleapis.com/labelbox-exports/ckd9g2cw29ine071604jfkgcj/ckj0uirnl1frd0761yf8xoxjb/export-2021-01-26T18%3A08%3A47.711Z.json?GoogleAccessId=api-prod%40labelbox-193903.iam.gserviceaccount.com&Expires=1612894157&Signature=B4ZtEh9hucvn1SZ5aTtg%2FzviFAceTN1coLIVzCwHq4z5MLcwMaDUdMXyiohL8DBueYswLt2VjIYp6RwGCKp8lvmQX8AScc7gl9FYkPc4%2BPGSuU%2BZmRNmfpDZvyAmpVUoeoa9IsuQC38WVXXcEcqcRyNDEedw%2Bp8q%2FsRhtl9RKllIDRfo3Ye5R2xd0ffZIrQfCOhgvSBqbUWRnCB1q2ufK5zucrqmQgQyQPR5%2BOstynk04bLb4YUf5H2xVNDnuvnSvnwARXk2pHIHxvVBzE1BA4xElPKsR422HRlFvyXIrlWL4d3R%2FW6vYnrW7klZeuai543hNls00OG58xUMEDhYeQ%3D%3D&response-content-disposition=attachment\n",
      "https://storage.googleapis.com/labelbox-exports/ckd9g2cw29ine071604jfkgcj/ckj0uio8ytlja0746h78qp307/export-2021-01-26T18%3A08%3A50.135Z.json?GoogleAccessId=api-prod%40labelbox-193903.iam.gserviceaccount.com&Expires=1612894157&Signature=mhCr%2BifzKPpMb0aPYxAOt3WNISt520%2FlfiOIbwnOCVpYHCQdozDKDYbLINOgSG27qpS8hCSqT%2BFuchO73ZxCr3JGIG4f8oHbFpJ6KPFHtODa%2FMFfBLWhZXd9fNipWIo%2BXa%2B1ETQ7o7mXvt6D1HpX8HM7hD%2BNCjZ0tpeKHKJWyH3w%2F84HySNBWU%2FR6hPVI%2FVbfD6%2FveXGpK8zB11Ahb77lmPyN8fFGFhs85cb%2BPT0uijqw3sEqOAg64pTIkWd7SfmK7MimwXGBc%2FH8AhPgeV9XoIdYMuwaF04RtS9Hrfhl43babNJXsNxf6ZbodLL%2B15AC6bjoUPf97ADUwzWJjaFbw%3D%3D&response-content-disposition=attachment\n",
      "https://storage.googleapis.com/labelbox-exports/ckd9g2cw29ine071604jfkgcj/ckj0uifuvrkdh07410p5qd6gz/export-2021-01-26T18%3A08%3A52.623Z.json?GoogleAccessId=api-prod%40labelbox-193903.iam.gserviceaccount.com&Expires=1612894157&Signature=F6WJOygBeEyauFeBBwrE5kshrr6MwGd4uPyO4BM56Oabbp4HnupInYiYoAgVOiWf4z6Fz7BzD1h1xiP4hNRlL04jAk80JHjh4GiBqywXPCH3S%2FTUegoc30ANpW1%2FbzobB3MhRqQDG6NHaq3FEs8oYRhlvkiG6vwWvWmCbgmjONkDSPCzgzaEUQQbLetR2gkh2wW9FnszDD%2FgrsXAJn54gv1Yd3H7Zv8crL8HpqpD0sIuZJyYPIDrV8%2BmZ0ShvIpikw8IC5R6tGaISmOaVYT9zWMcgA0zISDo4fvxYBX0AhmD6ooNRh%2FeXmqOCkVANLXxYYvMJZ8M6ytPKpEJb3C3cg%3D%3D&response-content-disposition=attachment\n",
      "https://storage.googleapis.com/labelbox-exports/ckd9g2cw29ine071604jfkgcj/ckj0uhje5rjzs0741n35yr0va/export-2021-01-26T18%3A08%3A55.280Z.json?GoogleAccessId=api-prod%40labelbox-193903.iam.gserviceaccount.com&Expires=1612894158&Signature=XM8mBiM1mpvM2Wg48o8bFMWCpYoEZ%2FFSxjTCDpzglsQJGu1hJh5lyPrmb1dM64NSCUHRpt8CQVPh4Nnm1z26kNbPh1kFCTRINes57aRHAlw4R8mm5JfcztOerrmge4K0AAm8a9b6gaecDw%2FYFhdiUpUVZF5wYqHzC94pn3ryTKKuCunNGkeJS0H%2Bd4A3GaL%2BTB94R5Xrn3H%2F2skWB6t0C5rgT5xdi5AiEWTqhdUU0XC14I0qI20WqqB74W0YgtZEwl7NI6xBYndTjhABNnrxuCSzf6V2IFC2fzA5aOTPXv6XbMTO%2Fvhlt9rBHtOnH8dQ%2F6gtQPn4G%2FueYPPIvQgWrQ%3D%3D&response-content-disposition=attachment\n",
      "https://storage.googleapis.com/labelbox-exports/ckd9g2cw29ine071604jfkgcj/ckj0uhhawthxz0752cc1hmdih/export-2021-01-26T18%3A08%3A58.109Z.json?GoogleAccessId=api-prod%40labelbox-193903.iam.gserviceaccount.com&Expires=1612894158&Signature=Taw7%2BGnPAWpTuAZZxh1GHhemohseekwfUc64R4lxwFgafnYdqD%2BFwF14AUKaL3qvDKAY3RfiAXMe7etomYdkk8UtRCTU1xSFcoRAzN49YVBuxE8bGYygfCIU5pSEF0KH7Pd2ONM9lIOH%2FzOhwNnno4co1WFTMyKjoojRE8syApUp0cJIdmqxclbZWHGvdOXOxqkyfPcln6UBROgMwArDwJSqwDAUN6R5Sz5KOsnBff568IfkNgjvb%2BgfZ94YVwd0h3fItvrk0dE%2Bo9aDppfPZi4fJXEIf9nC01aNNjc7hZWRjQwnSImyMtAG%2BNEUsLJaqtKYfD9kThjYC5pw4hthEg%3D%3D&response-content-disposition=attachment\n",
      "https://storage.googleapis.com/labelbox-exports/ckd9g2cw29ine071604jfkgcj/ckfyedl1b3f8g0736z2qv8sa9/export-2021-01-26T18%3A09%3A00.750Z.json?GoogleAccessId=api-prod%40labelbox-193903.iam.gserviceaccount.com&Expires=1612894158&Signature=mGvUmyNtuuAFsj5CPNw2vj30ThUTD3%2FUKrEkk5UST%2FJS9%2BUZWZ9hL9qJEzD1PTpYGcQslk%2FeQHy%2FirsUt5L3H%2FqN4njcsDTkq%2FWBEu6PzA5Cg8yDLjxH1MR8fH33XBYmmFCsOiVueP90uGgfIs3qP2eI%2BCrtWEf5%2F9gGalBNqxp5yy6D%2FpiRYlm0R%2FEvWzccX3vbsDMAcJVsqb4GVQtZbHlRdSbHxRMt7OeNzhzeYZFTjOSYFc%2BQ1JRd8Xw4rQas7rdb8jkneA6IVocgMQlPl7xBjdPvqCcneyAfI953cCLaPaz7NclwMUY2iEHNvouxrcQsdOFTSY70HrvfFvdGEA%3D%3D&response-content-disposition=attachment\n",
      "https://storage.googleapis.com/labelbox-exports/ckd9g2cw29ine071604jfkgcj/ckfrdhdrer6ca0724t4mvu1ea/export-2021-01-26T18%3A09%3A03.305Z.json?GoogleAccessId=api-prod%40labelbox-193903.iam.gserviceaccount.com&Expires=1612894158&Signature=CL9WWhD%2BXTQ7j9xS%2FVzxgjYIHNw8MfezRRck12Kwv5lVg8WUheGuqv%2B%2BUVTY6JPPFMFmX91y0cRIT0CeHfVrGKx0mpErI6B9wWopAjbv6E98fn1dk3lgbmOf3Af%2Fzee0eJdTGPBeHNk3lZ07Sz%2F0ALNGYMJOYT7JTmrnZfM%2BvwFzTA4yw%2BoU7aBNQm2xCQaOOFO1vC8nRk1qiDTgJ2Ib93XEjYS3aPkhojWANEBy4ez6cquaU27FZINa9S0uz2UeB5uRFyCDLwVfbogvpVvMVO6MgF297OQgb0qcSLsJegNlYKIXFR5%2FpWBgM1glHrO11NY8rQrBD95sYQW7WsqZKQ%3D%3D&response-content-disposition=attachment\n",
      "https://storage.googleapis.com/labelbox-exports/ckd9g2cw29ine071604jfkgcj/ckf348wtres4n0708intf0rhu/export-2021-01-26T18%3A09%3A05.856Z.json?GoogleAccessId=api-prod%40labelbox-193903.iam.gserviceaccount.com&Expires=1612894159&Signature=Pj9mrIVe81gwjDmfP9mKvspnY21eC4PFTcgxSxJRp8OzkDAVvuY6WbTo275QwzMNXkrcaPnGYV4Y9DKRzfurC1Og%2B%2BQog%2F03Zh1B38tN0%2FxI4PYWqrY%2F8z7tQSlilxlAOaDaW5K7JNvAE%2FiCrkhWi8EuzwN1vAcm2CDDxaLukYSRwMjY4DTFYLu70KmAGa3w9vZMUERcQKbs%2Bd5yDut7lPNJeyvKB9nbEaR2umLl%2F7Dv0baTQjtR7fXD224AjlInXziaPAcl2AllBqmFtxVGyVcIBMupUMjKwF%2BLKwF7mWcYr0l4JWhdBnHWrHvthGZ1O9JEQHB8mwr6O0IrSfO6QQ%3D%3D&response-content-disposition=attachment\n",
      "https://storage.googleapis.com/labelbox-exports/ckd9g2cw29ine071604jfkgcj/ckd9g2cyh9ink0716f6wttv3q/export-2021-01-26T18%3A09%3A19.303Z.json?GoogleAccessId=api-prod%40labelbox-193903.iam.gserviceaccount.com&Expires=1612894161&Signature=f2%2Feh4vf5rmWte6YobPYYUmo3KhKWejx8XWVpED6OmVDFKz6h9Kygc%2Fd4MUZMljyqwcI5xG4oSTQl62m%2B3nNkF15ZqCmnLKiSXumpi7JvkseF1tiqd7x%2FMLNPhup5QvUTo2skQbBAKErU4NJk2h63ETt8J5uEzUr2r6diN4MkRhRp20g0lNbbnFyhjbxA%2FL0YhsCtuEgGHD4ikmW0NHNQfs5z0iWX7Av8178JcfnQ%2FQp7sMEtvEOalWHgNaxa7PghXvnkou0sYzzowoFxWijnL%2FeWrfeqkaGK7D04WqnlziMW1Yt%2F%2FAujCvcUUD5qUN67c9kPOfvc9dfW1y4mCfWAQ%3D%3D&response-content-disposition=attachment\n"
     ]
    }
   ],
   "source": [
    "labels = []\n",
    "for project in client.get_projects():\n",
    "    print(project.export_labels())"
   ]
  },
  {
   "cell_type": "code",
   "execution_count": 22,
   "metadata": {},
   "outputs": [
    {
     "name": "stdout",
     "output_type": "stream",
     "text": [
      "zsh:1: parse error near `&'\n"
     ]
    }
   ],
   "source": [
    "!wget https://storage.googleapis.com/labelbox-exports/ckd9g2cw29ine071604jfkgcj/ckj0ulvyntmjq08862vy9nl0a/export-2021-01-26T18%3A08%3A39.883Z.json?GoogleAccessId=api-prod%40labelbox-193903.iam.gserviceaccount.com&amp;Expires=1612894156&amp;Signature=AfisBn8CunJ14lEYQtFvZzEY2%2Bxwzrews88juSdBSxkFBNCKlTE60keEw784gC7Q4EufwMc%2Bmo0lKf86DvVe%2Fmklvq59nvSL0VCDHaQSPtr1m4FNq4zKwCqV%2Bjlq5D8IwQXZ3DSHpikQoRCoXdX%2BawfNeSYUoTLa2vj4non7ha7fpIXZGF8P9nG9el4Wg3aMIq4O62BKF5WDWEDAZKWws1jaLYTD5ICVKd%2F6iZuthV73bPWu1X2QhV7gu2tPa4nqQR4oy2Wa1dY00ttWl1JBNYceWYSOUPUUoXi%2Fm8jiWelXXFIjhtpKohMZ5W%2Fsh62WH3Zonkvx17VbWNE90eKjIg%3D%3D&amp;response-content-disposition=attachment"
   ]
  },
  {
   "cell_type": "code",
   "execution_count": 17,
   "metadata": {},
   "outputs": [
    {
     "data": {
      "text/plain": [
       "['https://storage.googleapis.com/labelbox-exports/ckd9g2cw29ine071604jfkgcj/ckj0ulvyntmjq08862vy9nl0a/export-2021-01-26T05%3A04%3A49.749Z.json?GoogleAccessId=api-prod%40labelbox-193903.iam.gserviceaccount.com&Expires=1612847092&Signature=btAiH8%2B9oIWoAsnEwa%2B9bjDi97x7Z1NAPkpTSIsp4xAKuQBjzIS8zpgb4ed6oK%2Bblm8OXHUdYrGEWH%2Br%2B6eYSsh9%2FARyBkzn7xledTmtTMbdIs3o%2F0w9a1i2%2FB3Ay9rdlVBhwo3yeHrhB0hFMxPE%2FQYaFfz7nz1qZAD7lajiREDAL5TCgM1jYm0OPWy1ZneOI50q53k8%2FUcruVLv7PwhcjXjdgKpOqGfvl1PpxQ808fTfLNx7tRUlZqLqxEXM2Gp93RWXnn4FVAQYgvChc5ioatHGplOER6nmsZKFnv3nYaQmzqF8%2B6FD6ek%2FcCovUy91uzhpbSIp882jrVbG6bnYA%3D%3D&response-content-disposition=attachment',\n",
       " 'https://storage.googleapis.com/labelbox-exports/ckd9g2cw29ine071604jfkgcj/ckj0ul1yatmgx0734uxa8fxje/export-2021-01-26T05%3A04%3A52.257Z.json?GoogleAccessId=api-prod%40labelbox-193903.iam.gserviceaccount.com&Expires=1612847094&Signature=T8hFOihT9%2BaGcz558yTlnKsMT2BI7PJ4emgvSr2o5VBPfQNXQldaCs39TUGyZGSOTi%2BoW7GQDuqzm3kwP7gBR53cb40NYytOSlUla6Qc7LfA2csLALQb0639txkS025wW3X8J%2BLQa9cJOetYmQ6AFtVq4wLvU5qYJp53QduE7KyvFzFBIiS4vzx1qaBQf3r9upzEnQZdm%2FBB7lW8XxjCSt8HQLoWhwT4Z3%2BfRWPd9X86GXi2u8qJbam4%2FBqIKgMO%2FYT2anQDOig9u5SOtasmrHwleTHwZzazRYqqThizv1wSWzZEP7kYqgfRsvg%2Fz5IH%2BJiljAGaZiFV8GKgF%2Bdf%2Fw%3D%3D&response-content-disposition=attachment',\n",
       " 'https://storage.googleapis.com/labelbox-exports/ckd9g2cw29ine071604jfkgcj/ckj0ukk45tm2k0886d7pl83em/export-2021-01-26T05%3A04%3A54.880Z.json?GoogleAccessId=api-prod%40labelbox-193903.iam.gserviceaccount.com&Expires=1612847099&Signature=JQE14mWFpn5msp9ALpYNsMvOWuhN44yD9h7ePVMJj3jk1QfIDzosjftbvGHWnEzlRVgSk%2FKc5gjSmg1Md5mXJwEbcWs4bUBkcxl54kqJd3niKSq6Cy79LGuwLF4fL30RNzIf8m%2Bdr4P7dFK0XOf7BIiUBBYxYiOVyjC3ZSAY3NAJeFVHFrap92lFwRIkPvIHxzwLQ3dan92PcnC%2FRCM2Runlna3JO%2BXR0FjzC0du9U6a9wB9x45kLIP%2FoN6aJzx4WL%2BQVHBsF1jT4UZ3g%2FSvOAClz36iz10sDlkPZ7r0s%2BQgu1hktKP8GhD0J9JQyWIqeIL%2BYDN6fBwtl%2B3vWon5PQ%3D%3D&response-content-disposition=attachment',\n",
       " 'https://storage.googleapis.com/labelbox-exports/ckd9g2cw29ine071604jfkgcj/ckj0uirnl1frd0761yf8xoxjb/export-2021-01-26T05%3A05%3A02.329Z.json?GoogleAccessId=api-prod%40labelbox-193903.iam.gserviceaccount.com&Expires=1612847104&Signature=cGQl3VsvKGBJgwjQXuV3tp0aJP3%2FghNPFVQ2eeHEa%2FOUR75%2Bp85y8VwFTsgphrBJUKdEXwYVtqKdNhKAbvOow4P06mVx1EMhlNfpC5w0HWC8lW6Tfawd0URpABGnMYfMSW3QUAIks4TZht08O9lUuDJ05240P1FMKQoMgNyqLD%2BQR0a1lvJIODi4fnWFUbbcd9kaI79UCDq2JG6XUbrz5bQ92CTiPt9jpL%2B5YN5SloHb0WY2jJ402zh5ejof80AZ6O04IM0rfmTMzKkf6ES16Ms8fLexc9l6x%2FQDFpnWgqRLudKitq6H1cO6Prp61i2LONpHfUOfvGplkceK%2B%2FXBIg%3D%3D&response-content-disposition=attachment',\n",
       " 'https://storage.googleapis.com/labelbox-exports/ckd9g2cw29ine071604jfkgcj/ckj0uio8ytlja0746h78qp307/export-2021-01-26T05%3A05%3A04.739Z.json?GoogleAccessId=api-prod%40labelbox-193903.iam.gserviceaccount.com&Expires=1612847106&Signature=jbza8kUe7a%2BX5KL0q2tbDTFJojscbkvWhH8PtVtn1ZqnaxFdc76cNlvzG35WZUTzT7OgKtjN9WS8R9Y39vDXB45XM52o64dSXj98vOkE4bFxEmSiShzh1WJvh3GFns%2BuNKxZ%2FUWGJfkV7P6739eS8LNEZYr2z8sna4%2FqrP95EAD4APyMRDVPCE6jLhrdNRJmZiMmuvYw8oyimL6a3T6B3HK9%2BW9xvo73Go3CwAq0BFUng7pOj9MIrIBliNZLLRsfei1d0tDDB1C2mM5nbLDsJPkpGN0C9eUMsJt9MhsNtfvs4lW7%2B3a1hXj3RMEyBIsMZCNTOyLLrOOWaDX4GzW86A%3D%3D&response-content-disposition=attachment',\n",
       " 'https://storage.googleapis.com/labelbox-exports/ckd9g2cw29ine071604jfkgcj/ckj0uifuvrkdh07410p5qd6gz/export-2021-01-26T05%3A05%3A07.044Z.json?GoogleAccessId=api-prod%40labelbox-193903.iam.gserviceaccount.com&Expires=1612847111&Signature=I9%2BT%2BEp5eM0s%2BNAHlvwDFnSq4vv4Ei2PH4Do0%2BKrRPuqTzGOCffoSzZPGibagNKLEsEHVfFJIZ8CRGPjFWl%2FhxN6EZfhRjiMaKskLIYlH8cdWeHMURcuPcXy6gtefcGhnqWeV2LfzKEq69Fh9zPCzVcsqyYv2H9%2FJiWZ%2Bu0iMk9Bmjd%2FFeFvLbqmBCFxWF1QIDJtFA2Yr2aSaiyVbaNNxsHvP601OYy4yeh0qU3UvT6czwoJ0%2BONbzc9tFsK9jfVkZ%2F94MRMGU3ZpVcDqoRrqm0ESoSRBsQwB1oPPGeo4Yhb3ywbmEI%2BnjaXm34x4SQqguO6u8bjJZSqi3oVnLBgyA%3D%3D&response-content-disposition=attachment',\n",
       " 'https://storage.googleapis.com/labelbox-exports/ckd9g2cw29ine071604jfkgcj/ckj0uhje5rjzs0741n35yr0va/export-2021-01-26T05%3A05%3A11.573Z.json?GoogleAccessId=api-prod%40labelbox-193903.iam.gserviceaccount.com&Expires=1612847114&Signature=BBs9QflFohBah%2F8u1g2bhHGheVXbzDo2cOKjW30pj5j4vC1vHdS2WERa8ZnVwkij6PN0uafeQaIp1txH54ZpgEapiN878WA%2B4OVZm4om01MZH6mkhTGTF140NCVNo3k5u9xpov9%2FmskYv7uW3srdXIsy%2FfmQlyofa%2Fmiim1yLOPLbw1kPR1bDrwMcDuKNOhwRVAE3Nttb%2F4XY3hFeJGkzMLEtBiemqReIVUbK26IejS89o7W1M1cmj%2BwSXLR5Bjb3ruUTWZ847rXSXmCnq7y6dgsNW8WAm2Y5da%2F4hBV3xAheQWRyOvqVQC%2BCkQHF%2BjleJX9pY8HBdWQ8EEcy1cmwg%3D%3D&response-content-disposition=attachment',\n",
       " 'https://storage.googleapis.com/labelbox-exports/ckd9g2cw29ine071604jfkgcj/ckj0uhhawthxz0752cc1hmdih/export-2021-01-26T05%3A05%3A14.102Z.json?GoogleAccessId=api-prod%40labelbox-193903.iam.gserviceaccount.com&Expires=1612847116&Signature=peWNF%2FqS03Ts2MvY4RfSnLbT9ivUVTAeWMeOjdEBCJeJpsDL9Qxsh8G%2BttWk1so5UqwnFvFim7fGLUpzrt0GgtstWd6kTjAk1DvZkMJQIBrmPzRrYh5yCx230Ex8IWj1qThdb7pca1QtMjcd0BjDTGaGBQGxYl9ofalvgpSeVUNKZNOaxUuBFmFc%2FRd12qZEL7n0jTOa9V76RP6PS15FbWSjiyV4jWqhmO5GMJP7VLEwZjHqjgPcHnB2TX4EN7qCQFMWdFSvcRmd5g3lGlzdjGEIu2%2BRtx4drENtxa7ymQaj7hCKhQvPhKQLZLUII%2BeYPuZJFIsJO4CndeFRpD%2BXwA%3D%3D&response-content-disposition=attachment',\n",
       " 'https://storage.googleapis.com/labelbox-exports/ckd9g2cw29ine071604jfkgcj/ckfyedl1b3f8g0736z2qv8sa9/export-2021-01-26T05%3A05%3A16.996Z.json?GoogleAccessId=api-prod%40labelbox-193903.iam.gserviceaccount.com&Expires=1612847119&Signature=H5ekhy8vyo9Iiny659eKzcKHey6gYclTck05hvwvb7%2F8BaWZLWIFs2OkMVo%2Fsvii0rBbtoSO1iYMlkm8bWGdg9OedyvkeJIeode%2BWJqzcaUmJxzcvfxgI7zKc6q94Wnb10ZDgE5roC1nZIUQePAak6Vr8b9YY2E7Sv8Nqp3Dta%2Fw0gzWRzoFcGljIp9LO38ade6sJUeKG4SwMTRSMhXHZ96aURVpywrmucCDf%2BgAWlutLKaFmj23uBaaPu4M7REnTvzEbkpPl3Vh4sH%2FDHNNmz8XGueHF5%2BsvWue2AjASzl48diROSDVaFbzi0QzZ8M0TSmDagAOFUFnPvSH7TnUCg%3D%3D&response-content-disposition=attachment',\n",
       " 'https://storage.googleapis.com/labelbox-exports/ckd9g2cw29ine071604jfkgcj/ckfrdhdrer6ca0724t4mvu1ea/export-2021-01-26T05%3A01%3A34.756Z.json?GoogleAccessId=api-prod%40labelbox-193903.iam.gserviceaccount.com&Expires=1612847119&Signature=NXm9CFuQRZDAsNe9FYhrOd%2FrnoPW1yy5LuEh5g7STa117I3oj67RbXH2QFpfSne8Y1BauiIjlMYsdoE38Pukq8fr3u2ZEomJbVaosBtpz%2FliLYRSF4UM18n8n1VeQ%2FPER2PgeizeeYIfqXJ%2BkeyaT09H78Uc7sDk9XN%2FeTWXyCYDTm6VUQsUIOK2lGmtgDnFJ9uUosUvk7INycitakAYxpM0QrWhI5402JSsBaQ3I5ARmn6Ky%2FCQ00h5Sf4E5gIFGVtYaPysjBM8O6VDZdKAdBWNwyzbU%2BzzEiULBwKkPV372GHJlxTiiUTOMO%2FFPnvv%2BeHc%2FDfPxfJ0EIyPkU1M7w%3D%3D&response-content-disposition=attachment',\n",
       " 'https://storage.googleapis.com/labelbox-exports/ckd9g2cw29ine071604jfkgcj/ckf348wtres4n0708intf0rhu/export-2021-01-26T05%3A05%3A19.469Z.json?GoogleAccessId=api-prod%40labelbox-193903.iam.gserviceaccount.com&Expires=1612847123&Signature=mIuP5SSPb0h0Wv92OyD7eag%2FzISnvSRbp8l4dO7x0SCr6x6w551LtI7r3s4Ddf8EXwY9VYLMegBLuVnUv%2B7MLFNOJb7kvmcwk%2BWXOPwJGLneEAyOqm%2BrReQVfqcJ%2F8MXZEz%2BCa%2Br4pH4SkDy96Ta7Z%2F2aTQIHKZmZ9pYY4lUL9vvWCW7WENfqFzTqmld2u%2B8mYt0e9M7BZ25RkK%2BRdKTIFM6fYlT7swTlfUF0zWeATaeLKMpjT0Sjw19kc0F4%2Fe%2FVxPvmm6ofPqc8kpSs%2BpPmwUX%2BfstzYqJGdm3%2FGY2UhuLAmoDZ7SE4M2BKaN9QKeqmU4iWSC1ncdrONT%2BA2zpZw%3D%3D&response-content-disposition=attachment',\n",
       " 'https://storage.googleapis.com/labelbox-exports/ckd9g2cw29ine071604jfkgcj/ckd9g2cyh9ink0716f6wttv3q/export-2021-01-26T05%3A05%3A26.438Z.json?GoogleAccessId=api-prod%40labelbox-193903.iam.gserviceaccount.com&Expires=1612847128&Signature=Sy3U5JUslGYbFqLugZ2c51mI7cDOLbs11OFULwV3Jvzu%2BIyH7o987htuuPILkFmd%2FYUc5rzfoO2DsYsosakl7UAVUNApFUE%2BAqtS1vm8T58S9U1s49bWyUTXXLQnAWFT76mmVYpXRVuqHwWCv9GAJKChjI44rZe7P028SsJ%2B6yMurFRU2k4%2Fo%2F5Qumm3ZeDw%2Fs2DXKBMd3quRZ3QWbBfGxvUQX%2Brn3X3U7OoG%2BKbwrdBdR8MATbSuOTszFL%2BXdyO6HUFCnuKFYsKL%2FFEmFEkQ6HzivEb9ycUgHQqLXVf3ZE77Yreu70HuV2NqOM4BnbN47uq3zfNIVTnd%2BwCgtAasQ%3D%3D&response-content-disposition=attachment']"
      ]
     },
     "execution_count": 17,
     "metadata": {},
     "output_type": "execute_result"
    }
   ],
   "source": [
    "labels"
   ]
  },
  {
   "cell_type": "code",
   "execution_count": 19,
   "metadata": {},
   "outputs": [
    {
     "name": "stdout",
     "output_type": "stream",
     "text": [
      "Help on method export_labels in module labelbox.schema.project:\n",
      "\n",
      "export_labels(timeout_seconds=60) method of labelbox.schema.project.Project instance\n",
      "    Calls the server-side Label exporting that generates a JSON\n",
      "    payload, and returns the URL to that payload.\n",
      "    \n",
      "    Will only generate a new URL at a max frequency of 30 min.\n",
      "    \n",
      "    Args:\n",
      "        timeout_seconds (float): Max waiting time, in seconds.\n",
      "    Returns:\n",
      "        URL of the data file with this Project's labels. If the server\n",
      "            didn't generate during the `timeout_seconds` period, None\n",
      "            is returned.\n",
      "\n"
     ]
    }
   ],
   "source": [
    "help(project.export_labels)"
   ]
  },
  {
   "cell_type": "code",
   "execution_count": null,
   "metadata": {},
   "outputs": [],
   "source": []
  }
 ],
 "metadata": {
  "kernelspec": {
   "display_name": "gee-conda",
   "language": "python",
   "name": "gee-conda"
  },
  "language_info": {
   "codemirror_mode": {
    "name": "ipython",
    "version": 3
   },
   "file_extension": ".py",
   "mimetype": "text/x-python",
   "name": "python",
   "nbconvert_exporter": "python",
   "pygments_lexer": "ipython3",
   "version": "3.8.6"
  }
 },
 "nbformat": 4,
 "nbformat_minor": 4
}
