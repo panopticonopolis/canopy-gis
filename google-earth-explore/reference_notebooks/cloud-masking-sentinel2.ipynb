{
 "cells": [
  {
   "cell_type": "markdown",
   "metadata": {},
   "source": [
    "## Cloud masking with Sentinel 2"
   ]
  },
  {
   "cell_type": "markdown",
   "metadata": {},
   "source": [
    "Cloud and cloud shadow masking of Sentinel 2 images in Python. Refactored from javascipt taken from this thread: [Sentinel 2 cloud masking](https://groups.google.com/forum/#!searchin/google-earth-engine-developers/cloud$20masking%7Csort:relevance/google-earth-engine-developers/i63DS-Dg8Sg/Kc0knF9BBgAJ)"
   ]
  },
  {
   "cell_type": "markdown",
   "metadata": {},
   "source": [
    "<center>\n",
    "** Wavebands used for cloud and cloud shadow masking **\n",
    "</center>\n",
    "\n",
    "|Band \t|Use \t\t|Wavelength (nm) |Resolution (m)|\n",
    "|-------|-----------|----------------|--------------|\n",
    "|B1 \t|Aerosols \t|443 \t|60|\n",
    "|B2 \t|Blue \t\t|490 \t|10|\n",
    "|B3 \t|Green \t\t|560 \t|10|\n",
    "|B4 \t|Red \t\t|665 \t|10|\n",
    "|B6 \t|Red Edge 2 |740 \t|20|\n",
    "|B8a \t|Red Edge 4 |865 \t|20|\n",
    "|B9 \t|Water vapor|940 \t|60|\n",
    "|B10 \t|Cirrus \t|1375 \t|60|\n",
    "|B11 \t|SWIR 1 \t|1610 \t|20|\n",
    "|B12 \t|SWIR 2 \t|2190 \t|20|\n",
    "|QA60   |ESA Cloud  | n/a   |60|\n",
    "\n",
    "\n",
    "**NB: ** 8a (red4) used instead of 8 (nir) for narrower spectral width (i.e. 20 vs 115 nm)"
   ]
  },
  {
   "cell_type": "code",
   "execution_count": 1,
   "metadata": {
    "collapsed": true
   },
   "outputs": [],
   "source": [
    "from IPython.display import display, Image\n",
    "import math\n",
    "import ee\n",
    "ee.Initialize()"
   ]
  },
  {
   "cell_type": "code",
   "execution_count": 2,
   "metadata": {
    "collapsed": false
   },
   "outputs": [],
   "source": [
    "def rescale(img, thresholds):\n",
    "    \"\"\"\n",
    "    Linear stretch of image between two threshold values.\n",
    "    \"\"\"\n",
    "    return img.subtract(thresholds[0]).divide(thresholds[1] - thresholds[0])"
   ]
  },
  {
   "cell_type": "code",
   "execution_count": 3,
   "metadata": {
    "collapsed": false
   },
   "outputs": [],
   "source": [
    "def sentinelCloudScore(img):\n",
    "    \"\"\"\n",
    "    Computes spectral indices of cloudyness and take the minimum of them.\n",
    "    \n",
    "    Each spectral index is fairly lenient because the group minimum \n",
    "    is a somewhat stringent comparison policy. side note -> this seems like a job for machine learning :)\n",
    "    \n",
    "    originally written by Matt Hancher for Landsat imagery\n",
    "    adapted to Sentinel by Chris Hewig and Ian Housman\n",
    "    \"\"\"\n",
    "    \n",
    "    # cloud until proven otherwise\n",
    "    score = ee.Image(1)\n",
    "\n",
    "    # clouds are reasonably bright\n",
    "    score = score.min(rescale(img.select(['blue']), [0.1, 0.5]))\n",
    "    score = score.min(rescale(img.select(['aerosol']), [0.1, 0.3]))\n",
    "    score = score.min(rescale(img.select(['aerosol']).add(img.select(['cirrus'])), [0.15, 0.2]))\n",
    "    score = score.min(rescale(img.select(['red']).add(img.select(['green'])).add(img.select('blue')), [0.2, 0.8]))\n",
    "\n",
    "    # clouds are moist\n",
    "    ndmi = img.normalizedDifference(['red4','swir1'])\n",
    "    score=score.min(rescale(ndmi, [-0.1, 0.1]))\n",
    "\n",
    "    # clouds are not snow.\n",
    "    ndsi = img.normalizedDifference(['green', 'swir1'])\n",
    "    score=score.min(rescale(ndsi, [0.8, 0.6])).rename(['cloudScore'])\n",
    "    \n",
    "    return img.addBands(score)"
   ]
  },
  {
   "cell_type": "code",
   "execution_count": 4,
   "metadata": {
    "collapsed": false
   },
   "outputs": [],
   "source": [
    "def ESAcloudMask(img):\n",
    "    \"\"\"\n",
    "    European Space Agency (ESA) clouds from 'QA60', i.e. Quality Assessment band at 60m\n",
    "     \n",
    "    parsed by Nick Clinton\n",
    "    \"\"\"\n",
    "\n",
    "    qa = img.select('QA60')\n",
    "\n",
    "    # bits 10 and 11 are clouds and cirrus\n",
    "    cloudBitMask = int(2**10)\n",
    "    cirrusBitMask = int(2**11)\n",
    "\n",
    "    # both flags set to zero indicates clear conditions.\n",
    "    clear = qa.bitwiseAnd(cloudBitMask).eq(0).And(\\\n",
    "           qa.bitwiseAnd(cirrusBitMask).eq(0))\n",
    "    \n",
    "    # clouds is not clear\n",
    "    cloud = clear.Not().rename(['ESA_clouds'])\n",
    "\n",
    "    # return the masked and scaled data.\n",
    "    return img.addBands(cloud)  "
   ]
  },
  {
   "cell_type": "code",
   "execution_count": 5,
   "metadata": {
    "collapsed": false
   },
   "outputs": [],
   "source": [
    "def shadowMask(img,cloudMaskType):\n",
    "    \"\"\"\n",
    "    Finds cloud shadows in images\n",
    "    \n",
    "    Originally by Gennadii Donchyts, adapted by Ian Housman\n",
    "    \"\"\"\n",
    "    \n",
    "    def potentialShadow(cloudHeight):\n",
    "        \"\"\"\n",
    "        Finds potential shadow areas from array of cloud heights\n",
    "        \n",
    "        returns an image stack (i.e. list of images) \n",
    "        \"\"\"\n",
    "        cloudHeight = ee.Number(cloudHeight)\n",
    "        \n",
    "        # shadow vector length\n",
    "        shadowVector = zenith.tan().multiply(cloudHeight)\n",
    "        \n",
    "        # x and y components of shadow vector length\n",
    "        x = azimuth.cos().multiply(shadowVector).divide(nominalScale).round()\n",
    "        y = azimuth.sin().multiply(shadowVector).divide(nominalScale).round()\n",
    "        \n",
    "        # affine translation of clouds\n",
    "        cloudShift = cloudMask.changeProj(cloudMask.projection(), cloudMask.projection().translate(x, y)) # could incorporate shadow stretch?\n",
    "        \n",
    "        return cloudShift\n",
    "  \n",
    "    # select a cloud mask\n",
    "    cloudMask = img.select(cloudMaskType)\n",
    "    \n",
    "    # make sure it is binary (i.e. apply threshold to cloud score)\n",
    "    cloudScoreThreshold = 0.5\n",
    "    cloudMask = cloudMask.gt(cloudScoreThreshold)\n",
    "\n",
    "    # solar geometry (radians)\n",
    "    azimuth = ee.Number(img.get('solar_azimuth')).multiply(math.pi).divide(180.0).add(ee.Number(0.5).multiply(math.pi))\n",
    "    zenith  = ee.Number(0.5).multiply(math.pi ).subtract(ee.Number(img.get('solar_zenith')).multiply(math.pi).divide(180.0))\n",
    "\n",
    "    # find potential shadow areas based on cloud and solar geometry\n",
    "    nominalScale = cloudMask.projection().nominalScale()\n",
    "    cloudHeights = ee.List.sequence(500,4000,500)        \n",
    "    potentialShadowStack = cloudHeights.map(potentialShadow)\n",
    "    potentialShadow = ee.ImageCollection.fromImages(potentialShadowStack).max()\n",
    "\n",
    "    # shadows are not clouds\n",
    "    potentialShadow = potentialShadow.And(cloudMask.Not())\n",
    "\n",
    "    # (modified) dark pixel detection \n",
    "    darkPixels = toa.normalizedDifference(['green', 'swir2']).gt(0.25)\n",
    "\n",
    "    # shadows are dark\n",
    "    shadows = potentialShadow.And(darkPixels).rename(['shadows'])\n",
    "    \n",
    "    # might be scope for one last check here. Dark surfaces (e.g. water, basalt, etc.) cause shadow commission errors.\n",
    "    # perhaps using a NDWI (e.g. green and nir)\n",
    "\n",
    "    return img.addBands(shadows)"
   ]
  },
  {
   "cell_type": "code",
   "execution_count": 6,
   "metadata": {
    "collapsed": true
   },
   "outputs": [],
   "source": [
    "def quicklook(bandNames, mn, mx, region, gamma=False, title=False):\n",
    "    \"\"\"\n",
    "    Displays images in notebook\n",
    "    \"\"\"\n",
    "    \n",
    "    if title:\n",
    "        print('\\n',title)\n",
    " \n",
    "    if not gamma:\n",
    "        gamma = 1\n",
    "        \n",
    "    visual = Image(url=toa.select(bandNames).getThumbUrl({\n",
    "                'region':region,\n",
    "                'min':mn,\n",
    "                'max':mx,\n",
    "                'gamma':gamma,\n",
    "                'title':title\n",
    "                }))\n",
    "    \n",
    "    display(visual)"
   ]
  },
  {
   "cell_type": "code",
   "execution_count": 7,
   "metadata": {
    "collapsed": false
   },
   "outputs": [],
   "source": [
    "# region of interest\n",
    "geom = ee.Geometry.Point(-155.0844, 19.7189)\n",
    "\n",
    "# start and end of time series\n",
    "startDate = ee.Date('1980-01-01')\n",
    "stopDate  = ee.Date('2020-01-01')"
   ]
  },
  {
   "cell_type": "code",
   "execution_count": 13,
   "metadata": {
    "collapsed": true
   },
   "outputs": [],
   "source": [
    "# image collection\n",
    "ic = ee.ImageCollection('COPERNICUS/S2')\\\n",
    "    .filterBounds(geom)\\\n",
    "    .filterDate(startDate,stopDate)\n",
    "    \n",
    "# single image\n",
    "img = ee.Image(ic.first())"
   ]
  },
  {
   "cell_type": "code",
   "execution_count": 12,
   "metadata": {},
   "outputs": [
    {
     "output_type": "error",
     "ename": "EEException",
     "evalue": "Required argument (id) missing to function: Returns the image collection given its ID.\n\nArgs:\n  id: The asset ID of the image collection.\n  version: The version of the asset. -1 signifies the latest\n      version.",
     "traceback": [
      "\u001b[0;31m---------------------------------------------------------------------------\u001b[0m",
      "\u001b[0;31mEEException\u001b[0m                               Traceback (most recent call last)",
      "\u001b[0;32m<ipython-input-12-ba47187feb0f>\u001b[0m in \u001b[0;36m<module>\u001b[0;34m\u001b[0m\n\u001b[0;32m----> 1\u001b[0;31m \u001b[0mic\u001b[0m\u001b[0;34m.\u001b[0m\u001b[0mload\u001b[0m\u001b[0;34m(\u001b[0m\u001b[0;34m)\u001b[0m\u001b[0;34m\u001b[0m\u001b[0;34m\u001b[0m\u001b[0m\n\u001b[0m",
      "\u001b[0;32m~/opt/anaconda3/envs/gee-conda/lib/python3.8/site-packages/ee/apifunction.py\u001b[0m in \u001b[0;36m<lambda>\u001b[0;34m(*args, **kwargs)\u001b[0m\n\u001b[1;32m    203\u001b[0m         \u001b[0;32mdef\u001b[0m \u001b[0mMakeBoundFunction\u001b[0m\u001b[0;34m(\u001b[0m\u001b[0mfunc\u001b[0m\u001b[0;34m)\u001b[0m\u001b[0;34m:\u001b[0m\u001b[0;34m\u001b[0m\u001b[0;34m\u001b[0m\u001b[0m\n\u001b[1;32m    204\u001b[0m           \u001b[0;31m# We need the lambda to capture \"func\" from the enclosing scope.\u001b[0m\u001b[0;34m\u001b[0m\u001b[0;34m\u001b[0m\u001b[0;34m\u001b[0m\u001b[0m\n\u001b[0;32m--> 205\u001b[0;31m           \u001b[0;32mreturn\u001b[0m \u001b[0;32mlambda\u001b[0m \u001b[0;34m*\u001b[0m\u001b[0margs\u001b[0m\u001b[0;34m,\u001b[0m \u001b[0;34m**\u001b[0m\u001b[0mkwargs\u001b[0m\u001b[0;34m:\u001b[0m \u001b[0mfunc\u001b[0m\u001b[0;34m.\u001b[0m\u001b[0mcall\u001b[0m\u001b[0;34m(\u001b[0m\u001b[0;34m*\u001b[0m\u001b[0margs\u001b[0m\u001b[0;34m,\u001b[0m \u001b[0;34m**\u001b[0m\u001b[0mkwargs\u001b[0m\u001b[0;34m)\u001b[0m  \u001b[0;31m# pylint: disable=unnecessary-lambda\u001b[0m\u001b[0;34m\u001b[0m\u001b[0;34m\u001b[0m\u001b[0m\n\u001b[0m\u001b[1;32m    206\u001b[0m         \u001b[0mbound_function\u001b[0m \u001b[0;34m=\u001b[0m \u001b[0mMakeBoundFunction\u001b[0m\u001b[0;34m(\u001b[0m\u001b[0mapi_func\u001b[0m\u001b[0;34m)\u001b[0m\u001b[0;34m\u001b[0m\u001b[0;34m\u001b[0m\u001b[0m\n\u001b[1;32m    207\u001b[0m \u001b[0;34m\u001b[0m\u001b[0m\n",
      "\u001b[0;32m~/opt/anaconda3/envs/gee-conda/lib/python3.8/site-packages/ee/function.py\u001b[0m in \u001b[0;36mcall\u001b[0;34m(self, *args, **kwargs)\u001b[0m\n\u001b[1;32m     65\u001b[0m       \u001b[0mto\u001b[0m \u001b[0mthat\u001b[0m \u001b[0mtype\u001b[0m\u001b[0;34m.\u001b[0m\u001b[0;34m\u001b[0m\u001b[0;34m\u001b[0m\u001b[0m\n\u001b[1;32m     66\u001b[0m     \"\"\"\n\u001b[0;32m---> 67\u001b[0;31m     \u001b[0;32mreturn\u001b[0m \u001b[0mself\u001b[0m\u001b[0;34m.\u001b[0m\u001b[0mapply\u001b[0m\u001b[0;34m(\u001b[0m\u001b[0mself\u001b[0m\u001b[0;34m.\u001b[0m\u001b[0mnameArgs\u001b[0m\u001b[0;34m(\u001b[0m\u001b[0margs\u001b[0m\u001b[0;34m,\u001b[0m \u001b[0mkwargs\u001b[0m\u001b[0;34m)\u001b[0m\u001b[0;34m)\u001b[0m\u001b[0;34m\u001b[0m\u001b[0;34m\u001b[0m\u001b[0m\n\u001b[0m\u001b[1;32m     68\u001b[0m \u001b[0;34m\u001b[0m\u001b[0m\n\u001b[1;32m     69\u001b[0m   \u001b[0;32mdef\u001b[0m \u001b[0mapply\u001b[0m\u001b[0;34m(\u001b[0m\u001b[0mself\u001b[0m\u001b[0;34m,\u001b[0m \u001b[0mnamed_args\u001b[0m\u001b[0;34m)\u001b[0m\u001b[0;34m:\u001b[0m\u001b[0;34m\u001b[0m\u001b[0;34m\u001b[0m\u001b[0m\n",
      "\u001b[0;32m~/opt/anaconda3/envs/gee-conda/lib/python3.8/site-packages/ee/function.py\u001b[0m in \u001b[0;36mapply\u001b[0;34m(self, named_args)\u001b[0m\n\u001b[1;32m     78\u001b[0m       \u001b[0mto\u001b[0m \u001b[0mthat\u001b[0m \u001b[0mtype\u001b[0m\u001b[0;34m.\u001b[0m\u001b[0;34m\u001b[0m\u001b[0;34m\u001b[0m\u001b[0m\n\u001b[1;32m     79\u001b[0m     \"\"\"\n\u001b[0;32m---> 80\u001b[0;31m     \u001b[0mresult\u001b[0m \u001b[0;34m=\u001b[0m \u001b[0mcomputedobject\u001b[0m\u001b[0;34m.\u001b[0m\u001b[0mComputedObject\u001b[0m\u001b[0;34m(\u001b[0m\u001b[0mself\u001b[0m\u001b[0;34m,\u001b[0m \u001b[0mself\u001b[0m\u001b[0;34m.\u001b[0m\u001b[0mpromoteArgs\u001b[0m\u001b[0;34m(\u001b[0m\u001b[0mnamed_args\u001b[0m\u001b[0;34m)\u001b[0m\u001b[0;34m)\u001b[0m\u001b[0;34m\u001b[0m\u001b[0;34m\u001b[0m\u001b[0m\n\u001b[0m\u001b[1;32m     81\u001b[0m     \u001b[0;32mreturn\u001b[0m \u001b[0mFunction\u001b[0m\u001b[0;34m.\u001b[0m\u001b[0m_promoter\u001b[0m\u001b[0;34m(\u001b[0m\u001b[0mresult\u001b[0m\u001b[0;34m,\u001b[0m \u001b[0mself\u001b[0m\u001b[0;34m.\u001b[0m\u001b[0mgetReturnType\u001b[0m\u001b[0;34m(\u001b[0m\u001b[0;34m)\u001b[0m\u001b[0;34m)\u001b[0m\u001b[0;34m\u001b[0m\u001b[0;34m\u001b[0m\u001b[0m\n\u001b[1;32m     82\u001b[0m \u001b[0;34m\u001b[0m\u001b[0m\n",
      "\u001b[0;32m~/opt/anaconda3/envs/gee-conda/lib/python3.8/site-packages/ee/function.py\u001b[0m in \u001b[0;36mpromoteArgs\u001b[0;34m(self, args)\u001b[0m\n\u001b[1;32m    107\u001b[0m         \u001b[0mpromoted_args\u001b[0m\u001b[0;34m[\u001b[0m\u001b[0mname\u001b[0m\u001b[0;34m]\u001b[0m \u001b[0;34m=\u001b[0m \u001b[0mFunction\u001b[0m\u001b[0;34m.\u001b[0m\u001b[0m_promoter\u001b[0m\u001b[0;34m(\u001b[0m\u001b[0margs\u001b[0m\u001b[0;34m[\u001b[0m\u001b[0mname\u001b[0m\u001b[0;34m]\u001b[0m\u001b[0;34m,\u001b[0m \u001b[0mspec\u001b[0m\u001b[0;34m[\u001b[0m\u001b[0;34m'type'\u001b[0m\u001b[0;34m]\u001b[0m\u001b[0;34m)\u001b[0m\u001b[0;34m\u001b[0m\u001b[0;34m\u001b[0m\u001b[0m\n\u001b[1;32m    108\u001b[0m       \u001b[0;32melif\u001b[0m \u001b[0;32mnot\u001b[0m \u001b[0mspec\u001b[0m\u001b[0;34m.\u001b[0m\u001b[0mget\u001b[0m\u001b[0;34m(\u001b[0m\u001b[0;34m'optional'\u001b[0m\u001b[0;34m)\u001b[0m\u001b[0;34m:\u001b[0m\u001b[0;34m\u001b[0m\u001b[0;34m\u001b[0m\u001b[0m\n\u001b[0;32m--> 109\u001b[0;31m         raise ee_exception.EEException(\n\u001b[0m\u001b[1;32m    110\u001b[0m             'Required argument (%s) missing to function: %s' % (name, self))\n\u001b[1;32m    111\u001b[0m       \u001b[0mknown\u001b[0m\u001b[0;34m.\u001b[0m\u001b[0madd\u001b[0m\u001b[0;34m(\u001b[0m\u001b[0mname\u001b[0m\u001b[0;34m)\u001b[0m\u001b[0;34m\u001b[0m\u001b[0;34m\u001b[0m\u001b[0m\n",
      "\u001b[0;31mEEException\u001b[0m: Required argument (id) missing to function: Returns the image collection given its ID.\n\nArgs:\n  id: The asset ID of the image collection.\n  version: The version of the asset. -1 signifies the latest\n      version."
     ]
    }
   ],
   "source": [
    "ic.load()"
   ]
  },
  {
   "cell_type": "code",
   "execution_count": 11,
   "metadata": {},
   "outputs": [
    {
     "output_type": "execute_result",
     "data": {
      "text/plain": [
       "['And',\n",
       " 'Or',\n",
       " '__class__',\n",
       " '__delattr__',\n",
       " '__dict__',\n",
       " '__dir__',\n",
       " '__doc__',\n",
       " '__eq__',\n",
       " '__format__',\n",
       " '__ge__',\n",
       " '__getattribute__',\n",
       " '__gt__',\n",
       " '__hash__',\n",
       " '__init__',\n",
       " '__init_subclass__',\n",
       " '__le__',\n",
       " '__lt__',\n",
       " '__module__',\n",
       " '__ne__',\n",
       " '__new__',\n",
       " '__reduce__',\n",
       " '__reduce_ex__',\n",
       " '__repr__',\n",
       " '__setattr__',\n",
       " '__sizeof__',\n",
       " '__str__',\n",
       " '__subclasshook__',\n",
       " '__weakref__',\n",
       " '_apply_preparation_function',\n",
       " '_cast',\n",
       " '_getThumbURL',\n",
       " '_initialized',\n",
       " 'aggregate_array',\n",
       " 'aggregate_count',\n",
       " 'aggregate_count_distinct',\n",
       " 'aggregate_first',\n",
       " 'aggregate_histogram',\n",
       " 'aggregate_max',\n",
       " 'aggregate_mean',\n",
       " 'aggregate_min',\n",
       " 'aggregate_product',\n",
       " 'aggregate_sample_sd',\n",
       " 'aggregate_sample_var',\n",
       " 'aggregate_stats',\n",
       " 'aggregate_sum',\n",
       " 'aggregate_total_sd',\n",
       " 'aggregate_total_var',\n",
       " 'args',\n",
       " 'aside',\n",
       " 'cache',\n",
       " 'cast',\n",
       " 'combine',\n",
       " 'copyProperties',\n",
       " 'count',\n",
       " 'distance',\n",
       " 'distinct',\n",
       " 'draw',\n",
       " 'elementType',\n",
       " 'encode',\n",
       " 'encode_cloud_value',\n",
       " 'errorMatrix',\n",
       " 'filter',\n",
       " 'filterBounds',\n",
       " 'filterDate',\n",
       " 'filterMetadata',\n",
       " 'first',\n",
       " 'flatten',\n",
       " 'formaTrend',\n",
       " 'freeze',\n",
       " 'fromColumns',\n",
       " 'fromImages',\n",
       " 'func',\n",
       " 'geometry',\n",
       " 'get',\n",
       " 'getArray',\n",
       " 'getFilmstripThumbURL',\n",
       " 'getInfo',\n",
       " 'getMapId',\n",
       " 'getNumber',\n",
       " 'getRegion',\n",
       " 'getString',\n",
       " 'getVideoThumbURL',\n",
       " 'initialize',\n",
       " 'isVariable',\n",
       " 'iterate',\n",
       " 'limit',\n",
       " 'load',\n",
       " 'loadTable',\n",
       " 'map',\n",
       " 'max',\n",
       " 'mean',\n",
       " 'median',\n",
       " 'merge',\n",
       " 'min',\n",
       " 'mode',\n",
       " 'mosaic',\n",
       " 'name',\n",
       " 'prepare_for_export',\n",
       " 'product',\n",
       " 'propertyNames',\n",
       " 'qualityMosaic',\n",
       " 'randomColumn',\n",
       " 'reduce',\n",
       " 'reduceColumns',\n",
       " 'reduceToImage',\n",
       " 'remap',\n",
       " 'replaceProperties',\n",
       " 'reset',\n",
       " 'select',\n",
       " 'serialize',\n",
       " 'set',\n",
       " 'setMulti',\n",
       " 'size',\n",
       " 'sort',\n",
       " 'style',\n",
       " 'sum',\n",
       " 'toArray',\n",
       " 'toArrayPerBand',\n",
       " 'toBands',\n",
       " 'toDictionary',\n",
       " 'toList',\n",
       " 'union',\n",
       " 'varName']"
      ]
     },
     "metadata": {},
     "execution_count": 11
    }
   ],
   "source": [
    "dir(ic)"
   ]
  },
  {
   "cell_type": "code",
   "execution_count": 9,
   "metadata": {
    "collapsed": true
   },
   "outputs": [],
   "source": [
    "# top of atmosphere reflectance\n",
    "toa = img.select(['B1','B2','B3','B4','B6','B8A','B9','B10', 'B11','B12'],\\\n",
    "                 ['aerosol', 'blue', 'green', 'red', 'red2','red4','h2o', 'cirrus','swir1', 'swir2'])\\\n",
    "                 .divide(10000).addBands(img.select('QA60'))\\\n",
    "                 .set('solar_azimuth',img.get('MEAN_SOLAR_AZIMUTH_ANGLE'))\\\n",
    "                 .set('solar_zenith',img.get('MEAN_SOLAR_ZENITH_ANGLE'))"
   ]
  },
  {
   "cell_type": "code",
   "execution_count": 10,
   "metadata": {
    "collapsed": false
   },
   "outputs": [],
   "source": [
    "# clouds\n",
    "toa = sentinelCloudScore(toa)\n",
    "toa = ESAcloudMask(toa)"
   ]
  },
  {
   "cell_type": "code",
   "execution_count": 11,
   "metadata": {
    "collapsed": false
   },
   "outputs": [],
   "source": [
    "# cloud shadow\n",
    "toa = shadowMask(toa,'cloudScore')"
   ]
  },
  {
   "cell_type": "code",
   "execution_count": 12,
   "metadata": {
    "collapsed": true
   },
   "outputs": [],
   "source": [
    "# display region\n",
    "region = geom.buffer(10000).bounds().getInfo()['coordinates']"
   ]
  },
  {
   "cell_type": "code",
   "execution_count": 13,
   "metadata": {
    "collapsed": false
   },
   "outputs": [
    {
     "output_type": "stream",
     "name": "stdout",
     "text": [
      "\n RGB\n"
     ]
    },
    {
     "output_type": "display_data",
     "data": {
      "text/html": "<img src=\"https://earthengine.googleapis.com/v1alpha/projects/earthengine-legacy/thumbnails/48939e890effe14712e03190438e41cf-4dc0dcdd996056cc5a42031e77d1ede9:getPixels\"/>",
      "text/plain": "<IPython.core.display.Image object>"
     },
     "metadata": {}
    },
    {
     "output_type": "stream",
     "name": "stdout",
     "text": [
      "\n Cloud Score\n"
     ]
    },
    {
     "output_type": "display_data",
     "data": {
      "text/html": "<img src=\"https://earthengine.googleapis.com/v1alpha/projects/earthengine-legacy/thumbnails/9e7fb8e1b420f1835f4c46bbe6ba93fb-889b4cb57f1adf989fe22e06c409d442:getPixels\"/>",
      "text/plain": "<IPython.core.display.Image object>"
     },
     "metadata": {}
    },
    {
     "output_type": "stream",
     "name": "stdout",
     "text": [
      "\n ESA Clouds (QA60)\n"
     ]
    },
    {
     "output_type": "display_data",
     "data": {
      "text/html": "<img src=\"https://earthengine.googleapis.com/v1alpha/projects/earthengine-legacy/thumbnails/df0ce121c5eacad9f0bf8fa00805c534-e52c6bfe742d5a49adc48917f8bc2adc:getPixels\"/>",
      "text/plain": "<IPython.core.display.Image object>"
     },
     "metadata": {}
    },
    {
     "output_type": "stream",
     "name": "stdout",
     "text": [
      "\n Shadow mask\n"
     ]
    },
    {
     "output_type": "display_data",
     "data": {
      "text/html": "<img src=\"https://earthengine.googleapis.com/v1alpha/projects/earthengine-legacy/thumbnails/8685f9024c1e093cf65dd90295fa5323-06e215131308a7c74e22239a00cbb136:getPixels\"/>",
      "text/plain": "<IPython.core.display.Image object>"
     },
     "metadata": {}
    }
   ],
   "source": [
    "# quicklooks\n",
    "quicklook(['red','green','blue'], 0, 0.25, region, gamma=1.5, title='RGB')\n",
    "quicklook('cloudScore', 0, 1, region, title='Cloud Score')\n",
    "quicklook('ESA_clouds', 0, 1, region, title = 'ESA Clouds (QA60)')\n",
    "quicklook('shadows', 0, 1, region, title = 'Shadow mask')"
   ]
  },
  {
   "cell_type": "code",
   "execution_count": null,
   "metadata": {},
   "outputs": [],
   "source": []
  }
 ],
 "metadata": {
  "kernelspec": {
   "display_name": "gee-conda",
   "language": "python",
   "name": "gee-conda"
  },
  "language_info": {
   "codemirror_mode": {
    "name": "ipython",
    "version": 3
   },
   "file_extension": ".py",
   "mimetype": "text/x-python",
   "name": "python",
   "nbconvert_exporter": "python",
   "pygments_lexer": "ipython3",
   "version": "3.8.6-final"
  }
 },
 "nbformat": 4,
 "nbformat_minor": 2
}