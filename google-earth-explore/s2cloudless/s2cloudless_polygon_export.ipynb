{
 "cells": [
  {
   "cell_type": "code",
   "execution_count": 14,
   "metadata": {},
   "outputs": [],
   "source": [
    "import ee\n",
    "import pandas as pd\n",
    "import json\n",
    "\n",
    "# # Trigger the authentication flow.\n",
    "# ee.Authenticate()\n",
    "\n",
    "# Initialize the library.\n",
    "ee.Initialize()"
   ]
  },
  {
   "cell_type": "code",
   "execution_count": 15,
   "metadata": {},
   "outputs": [],
   "source": [
    "def import_aois(csv_loc):    \n",
    "\n",
    "    df_labels = pd.read_csv(csv_loc)\n",
    "    df_labels = df_labels[[\"center-lat\",\"center-long\",\"polygon\",\"Labels combined\"]]\n",
    "\n",
    "    polygons = []\n",
    "    for polygon in df_labels[\"polygon\"]:\n",
    "        polygons.append(json.loads(polygon)[\"coordinates\"])\n",
    "\n",
    "    return polygons\n",
    "\n",
    "### CHANGE BELOW PATH ###\n",
    "zhenya_path = \"/Volumes/Lacie/zhenyadata/Project_Canopy_Data/PC_Data/Sentinel_Data/Labelled/Tiles_v3/Polygon_List/polygons_101320.csv\"\n",
    "david_path = 'D:/canopy_data/csvs/polygons_101320.csv'\n",
    "polygons = import_aois(zhenya_path)"
   ]
  },
  {
   "cell_type": "code",
   "execution_count": 16,
   "metadata": {},
   "outputs": [],
   "source": [
    "def get_s2_sr_cld_col(aoi, start_date, end_date):\n",
    "    # Import and filter S2 SR.\n",
    "    s2_sr_col = (ee.ImageCollection('COPERNICUS/S2_SR')\n",
    "        .filterBounds(aoi)\n",
    "        .filterDate(start_date, end_date)\n",
    "        .filter(ee.Filter.lte('CLOUDY_PIXEL_PERCENTAGE', CLOUD_FILTER)))\n",
    "\n",
    "    # Import and filter s2cloudless.\n",
    "    s2_cloudless_col = (ee.ImageCollection('COPERNICUS/S2_CLOUD_PROBABILITY')\n",
    "        .filterBounds(aoi)\n",
    "        .filterDate(start_date, end_date))\n",
    "\n",
    "    # Join the filtered s2cloudless collection to the SR collection by the 'system:index' property.\n",
    "    return ee.ImageCollection(ee.Join.saveFirst('s2cloudless').apply(**{\n",
    "        'primary': s2_sr_col,\n",
    "        'secondary': s2_cloudless_col,\n",
    "        'condition': ee.Filter.equals(**{\n",
    "            'leftField': 'system:index',\n",
    "            'rightField': 'system:index'\n",
    "        })\n",
    "    }))"
   ]
  },
  {
   "cell_type": "code",
   "execution_count": 17,
   "metadata": {},
   "outputs": [],
   "source": [
    "def add_cloud_bands(img):\n",
    "    # Get s2cloudless image, subset the probability band.\n",
    "    cld_prb = ee.Image(img.get('s2cloudless')).select('probability')\n",
    "\n",
    "    # Condition s2cloudless by the probability threshold value.\n",
    "    is_cloud = cld_prb.gt(CLD_PRB_THRESH).rename('clouds')\n",
    "\n",
    "    # Add the cloud probability layer and cloud mask as image bands.\n",
    "    return img.addBands(ee.Image([cld_prb, is_cloud]))"
   ]
  },
  {
   "cell_type": "code",
   "execution_count": 18,
   "metadata": {},
   "outputs": [],
   "source": [
    "def add_shadow_bands(img):\n",
    "    # Identify water pixels from the SCL band.\n",
    "    not_water = img.select('SCL').neq(6)\n",
    "\n",
    "    # Identify dark NIR pixels that are not water (potential cloud shadow pixels).\n",
    "    SR_BAND_SCALE = 1e4\n",
    "    dark_pixels = img.select('B8').lt(NIR_DRK_THRESH*SR_BAND_SCALE).multiply(not_water).rename('dark_pixels')\n",
    "\n",
    "    # Determine the direction to project cloud shadow from clouds (assumes UTM projection).\n",
    "    shadow_azimuth = ee.Number(90).subtract(ee.Number(img.get('MEAN_SOLAR_AZIMUTH_ANGLE')));\n",
    "\n",
    "    # Project shadows from clouds for the distance specified by the CLD_PRJ_DIST input.\n",
    "    cld_proj = (img.select('clouds').directionalDistanceTransform(shadow_azimuth, CLD_PRJ_DIST*10)\n",
    "        .reproject(**{'crs': img.select(0).projection(), 'scale': 100})\n",
    "        .select('distance')\n",
    "        .mask()\n",
    "        .rename('cloud_transform'))\n",
    "\n",
    "    # Identify the intersection of dark pixels with cloud shadow projection.\n",
    "    shadows = cld_proj.multiply(dark_pixels).rename('shadows')\n",
    "\n",
    "    # Add dark pixels, cloud projection, and identified shadows as image bands.\n",
    "    return img.addBands(ee.Image([dark_pixels, cld_proj, shadows]))"
   ]
  },
  {
   "cell_type": "code",
   "execution_count": 19,
   "metadata": {},
   "outputs": [],
   "source": [
    "def add_cld_shdw_mask(img):\n",
    "    # Add cloud component bands.\n",
    "    img_cloud = add_cloud_bands(img)\n",
    "\n",
    "    # Add cloud shadow component bands.\n",
    "    img_cloud_shadow = add_shadow_bands(img_cloud)\n",
    "\n",
    "    # Combine cloud and shadow mask, set cloud and shadow as value 1, else 0.\n",
    "    is_cld_shdw = img_cloud_shadow.select('clouds').add(img_cloud_shadow.select('shadows')).gt(0)\n",
    "\n",
    "    # Remove small cloud-shadow patches and dilate remaining pixels by BUFFER input.\n",
    "    # 20 m scale is for speed, and assumes clouds don't require 10 m precision.\n",
    "    is_cld_shdw = (is_cld_shdw.focal_min(2).focal_max(BUFFER*2/20)\n",
    "        .reproject(**{'crs': img.select([0]).projection(), 'scale': 20})\n",
    "        .rename('cloudmask'))\n",
    "\n",
    "    # Add the final cloud-shadow mask to the image.\n",
    "    return img_cloud_shadow.addBands(is_cld_shdw)"
   ]
  },
  {
   "cell_type": "code",
   "execution_count": 20,
   "metadata": {},
   "outputs": [],
   "source": [
    "def apply_cld_shdw_mask_all_bands(img):\n",
    "    # Subset the cloudmask band and invert it so clouds/shadow are 0, else 1.\n",
    "    not_cld_shdw = img.select('cloudmask').Not()\n",
    "\n",
    "    # Subset reflectance bands and update their masks, return the result.\n",
    "    return img.updateMask(not_cld_shdw)"
   ]
  },
  {
   "cell_type": "code",
   "execution_count": 26,
   "metadata": {},
   "outputs": [],
   "source": [
    "def add_ndvi(img):\n",
    "    ndvi = img.normalizedDifference(['B8', 'B4']).rename('NDVI')\n",
    "    img = img.addBands(ndvi)\n",
    "    img = img.float()\n",
    "    return img"
   ]
  },
  {
   "cell_type": "code",
   "execution_count": 21,
   "metadata": {},
   "outputs": [],
   "source": [
    "AOI = ee.Geometry.Polygon(polygons[0])\n",
    "START_DATE = '2019-01-01'\n",
    "END_DATE = '2020-12-31'\n",
    "CLOUD_FILTER = 60\n",
    "CLD_PRB_THRESH = 40\n",
    "NIR_DRK_THRESH = 0.15\n",
    "CLD_PRJ_DIST = 2\n",
    "BUFFER = 100"
   ]
  },
  {
   "cell_type": "code",
   "execution_count": 25,
   "metadata": {},
   "outputs": [],
   "source": [
    "s2_sr_cld_col = get_s2_sr_cld_col(AOI, START_DATE, END_DATE)"
   ]
  },
  {
   "cell_type": "code",
   "execution_count": 27,
   "metadata": {},
   "outputs": [],
   "source": [
    "s2_sr_median = (s2_sr_cld_col.map(add_cld_shdw_mask)\n",
    "                             .map(apply_cld_shdw_mask_all_bands)\n",
    "                             .median())"
   ]
  },
  {
   "cell_type": "code",
   "execution_count": 41,
   "metadata": {},
   "outputs": [],
   "source": [
    "def export_to_gcs(s2_sr_median,AOI,polygon_id,date_range,band_list):\n",
    "    export = ee.batch.Export.image.toCloudStorage(\n",
    "      image=s2_sr_median.select(band_list),\n",
    "      description=f'{date_range + \"_\" + str(polygon_id)}_full_band_s2cloudless_export',\n",
    "      scale=10,\n",
    "      region=AOI,\n",
    "      fileNamePrefix=f'S2_CloudFree/full_band_s2cloudless_export/{date_range + \"_\" + str(polygon_id)}',\n",
    "      bucket='project-canopy-temp-2',\n",
    "      maxPixels=1e13\n",
    ")\n",
    "    export.start()\n",
    "    \n",
    "    return export"
   ]
  },
  {
   "cell_type": "code",
   "execution_count": 33,
   "metadata": {},
   "outputs": [],
   "source": [
    "export = export_to_gcs()"
   ]
  },
  {
   "cell_type": "code",
   "execution_count": 34,
   "metadata": {},
   "outputs": [
    {
     "name": "stdout",
     "output_type": "stream",
     "text": [
      "{'state': 'RUNNING', 'description': 's2cloudless_test5', 'creation_timestamp_ms': 1610641860745, 'update_timestamp_ms': 1610642347940, 'start_timestamp_ms': 1610641949592, 'task_type': 'EXPORT_IMAGE', 'attempt': 1, 'id': 'KO52VJ5VR76QSCTISQIFQJZD', 'name': 'projects/earthengine-legacy/operations/KO52VJ5VR76QSCTISQIFQJZD'}\r"
     ]
    }
   ],
   "source": [
    "while export.active():\n",
    "    print(export.status(), end=\"\\r\", flush=True)"
   ]
  },
  {
   "cell_type": "code",
   "execution_count": 2,
   "metadata": {},
   "outputs": [],
   "source": [
    "dates_dict = {\"3_months\":{\"START_DATE\":'2019-12-11',\"END_DATE\":'2020-03-10'},\n",
    "\"2_years\":{\"START_DATE\":\"2019-01-01\",\"END_DATE\":\"2020-12-31\"}}"
   ]
  },
  {
   "cell_type": "code",
   "execution_count": 42,
   "metadata": {},
   "outputs": [],
   "source": [
    "def s2cloudless_download(dates_dict,polygons,band_list):\n",
    "    \n",
    "    band_list: ['B2','B3','B4','B8','B8A','TCI_R','TCI_G','TCI_B','NDVI']\n",
    "        \n",
    "    for date_range in dates_dict.keys():\n",
    "        for polygon_id,polygon in enumerate(polygons,1):\n",
    "            print(f\"processing {polygon_id} of {len(polygons)} for {date_range} range\")\n",
    "            AOI = ee.Geometry.Polygon(polygon)\n",
    "            s2_sr_cld_col = get_s2_sr_cld_col(AOI, dates_dict[date_range][\"START_DATE\"], dates_dict[date_range][\"END_DATE\"])\n",
    "            s2_sr_median = (s2_sr_cld_col.map(add_cld_shdw_mask)\n",
    "                             .map(apply_cld_shdw_mask_all_bands)\n",
    "                             .median())\n",
    "            s2_sr_median = add_ndvi(s2_sr_median)\n",
    "            \n",
    "            export_to_gcs(s2_sr_median,AOI,polygon_id,date_range,band_list)\n"
   ]
  },
  {
   "cell_type": "code",
   "execution_count": 28,
   "metadata": {},
   "outputs": [
    {
     "name": "stdout",
     "output_type": "stream",
     "text": [
      "processing 1 of 101 for 3_months range\n"
     ]
    }
   ],
   "source": [
    "moz = s2cloudless_download(dates_dict,polygons)"
   ]
  },
  {
   "cell_type": "code",
   "execution_count": null,
   "metadata": {},
   "outputs": [],
   "source": []
  },
  {
   "cell_type": "markdown",
   "metadata": {},
   "source": [
    "# Downloading Two Specific Polygons with full band list"
   ]
  },
  {
   "cell_type": "code",
   "execution_count": 39,
   "metadata": {},
   "outputs": [
    {
     "data": {
      "text/plain": [
       "[[[13.794794, 2.877294],\n",
       "  [13.796768, 2.947498],\n",
       "  [13.854361, 2.946812],\n",
       "  [13.794794, 2.877294]],\n",
       " [[11.708164, 2.113016],\n",
       "  [11.6922, 2.14132],\n",
       "  [11.69426, 2.168767],\n",
       "  [11.758289, 2.192096],\n",
       "  [11.758289, 2.192096],\n",
       "  [11.83279, 2.176657],\n",
       "  [11.946259, 2.146981],\n",
       "  [11.929264, 2.067384],\n",
       "  [11.744213, 2.067899],\n",
       "  [11.744213, 2.067899],\n",
       "  [11.708164, 2.113016]]]"
      ]
     },
     "execution_count": 39,
     "metadata": {},
     "output_type": "execute_result"
    }
   ],
   "source": [
    "polygons_list"
   ]
  },
  {
   "cell_type": "code",
   "execution_count": 43,
   "metadata": {},
   "outputs": [
    {
     "name": "stdout",
     "output_type": "stream",
     "text": [
      "processing 1 of 2 for 3_months range\n",
      "processing 2 of 2 for 3_months range\n",
      "processing 1 of 2 for 2_years range\n",
      "processing 2 of 2 for 2_years range\n"
     ]
    }
   ],
   "source": [
    "band_list =  ['B2','B3','B4','B8','B8A','TCI_R','TCI_G','TCI_B','NDVI']\n",
    "    \n",
    "polygons_list = polygons[33] + polygons[57]\n",
    "\n",
    "s2cloudless_download(dates_dict,polygons_list,band_list)\n"
   ]
  },
  {
   "cell_type": "code",
   "execution_count": null,
   "metadata": {},
   "outputs": [],
   "source": []
  }
 ],
 "metadata": {
  "kernelspec": {
   "display_name": "gee-conda",
   "language": "python",
   "name": "gee-conda"
  },
  "language_info": {
   "codemirror_mode": {
    "name": "ipython",
    "version": 3
   },
   "file_extension": ".py",
   "mimetype": "text/x-python",
   "name": "python",
   "nbconvert_exporter": "python",
   "pygments_lexer": "ipython3",
   "version": "3.8.6"
  }
 },
 "nbformat": 4,
 "nbformat_minor": 4
}
