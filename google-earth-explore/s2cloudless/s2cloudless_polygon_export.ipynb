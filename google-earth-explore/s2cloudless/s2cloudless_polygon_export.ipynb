{
 "cells": [
  {
   "cell_type": "code",
   "execution_count": 1,
   "metadata": {},
   "outputs": [],
   "source": [
    "import ee\n",
    "import pandas as pd\n",
    "import json\n",
    "\n",
    "# # Trigger the authentication flow.\n",
    "# ee.Authenticate()\n",
    "\n",
    "# Initialize the library.\n",
    "ee.Initialize()"
   ]
  },
  {
   "cell_type": "code",
   "execution_count": 2,
   "metadata": {},
   "outputs": [],
   "source": [
    "def import_aois(csv_loc):    \n",
    "\n",
    "    df_labels = pd.read_csv(csv_loc)\n",
    "    df_labels = df_labels[[\"center-lat\",\"center-long\",\"polygon\",\"Labels combined\"]]\n",
    "\n",
    "    polygons = []\n",
    "    for polygon in df_labels[\"polygon\"]:\n",
    "        polygons.append(json.loads(polygon)[\"coordinates\"])\n",
    "\n",
    "    return polygons\n",
    "\n",
    "### CHANGE BELOW PATH ###\n",
    "zhenya_path = \"/Volumes/Lacie/zhenyadata/Project_Canopy_Data/PC_Data/Sentinel_Data/Labelled/rasters/Tiles_v3/Polygon_List/polygons_101320.csv\"\n",
    "david_path = 'D:/canopy_data/csvs/polygons_101320.csv'\n",
    "polygons = import_aois(zhenya_path)"
   ]
  },
  {
   "cell_type": "code",
   "execution_count": 3,
   "metadata": {},
   "outputs": [
    {
     "data": {
      "text/plain": [
       "[[[18.620796, -3.184909],\n",
       "  [18.965664, -3.181138],\n",
       "  [19.033127, -3.264605],\n",
       "  [19.025745, -3.373256],\n",
       "  [18.641911, -3.371542],\n",
       "  [18.620796, -3.184909]]]"
      ]
     },
     "execution_count": 3,
     "metadata": {},
     "output_type": "execute_result"
    }
   ],
   "source": [
    "polygons[100]"
   ]
  },
  {
   "cell_type": "code",
   "execution_count": 4,
   "metadata": {},
   "outputs": [],
   "source": [
    "def get_s2_sr_cld_col(aoi, start_date, end_date):\n",
    "    # Import and filter S2 SR.\n",
    "    s2_sr_col = (ee.ImageCollection('COPERNICUS/S2_SR')\n",
    "        .filterBounds(aoi)\n",
    "        .filterDate(start_date, end_date)\n",
    "        .filter(ee.Filter.lte('CLOUDY_PIXEL_PERCENTAGE', CLOUD_FILTER)))\n",
    "\n",
    "    # Import and filter s2cloudless.\n",
    "    s2_cloudless_col = (ee.ImageCollection('COPERNICUS/S2_CLOUD_PROBABILITY')\n",
    "        .filterBounds(aoi)\n",
    "        .filterDate(start_date, end_date))\n",
    "\n",
    "    # Join the filtered s2cloudless collection to the SR collection by the 'system:index' property.\n",
    "    return ee.ImageCollection(ee.Join.saveFirst('s2cloudless').apply(**{\n",
    "        'primary': s2_sr_col,\n",
    "        'secondary': s2_cloudless_col,\n",
    "        'condition': ee.Filter.equals(**{\n",
    "            'leftField': 'system:index',\n",
    "            'rightField': 'system:index'\n",
    "        })\n",
    "    }))"
   ]
  },
  {
   "cell_type": "code",
   "execution_count": 5,
   "metadata": {},
   "outputs": [],
   "source": [
    "def add_cloud_bands(img):\n",
    "    # Get s2cloudless image, subset the probability band.\n",
    "    cld_prb = ee.Image(img.get('s2cloudless')).select('probability')\n",
    "\n",
    "    # Condition s2cloudless by the probability threshold value.\n",
    "    is_cloud = cld_prb.gt(CLD_PRB_THRESH).rename('clouds')\n",
    "\n",
    "    # Add the cloud probability layer and cloud mask as image bands.\n",
    "    return img.addBands(ee.Image([cld_prb, is_cloud]))"
   ]
  },
  {
   "cell_type": "code",
   "execution_count": 6,
   "metadata": {},
   "outputs": [],
   "source": [
    "def add_shadow_bands(img):\n",
    "    # Identify water pixels from the SCL band.\n",
    "    not_water = img.select('SCL').neq(6)\n",
    "\n",
    "    # Identify dark NIR pixels that are not water (potential cloud shadow pixels).\n",
    "    SR_BAND_SCALE = 1e4\n",
    "    dark_pixels = img.select('B8').lt(NIR_DRK_THRESH*SR_BAND_SCALE).multiply(not_water).rename('dark_pixels')\n",
    "\n",
    "    # Determine the direction to project cloud shadow from clouds (assumes UTM projection).\n",
    "    shadow_azimuth = ee.Number(90).subtract(ee.Number(img.get('MEAN_SOLAR_AZIMUTH_ANGLE')));\n",
    "\n",
    "    # Project shadows from clouds for the distance specified by the CLD_PRJ_DIST input.\n",
    "    cld_proj = (img.select('clouds').directionalDistanceTransform(shadow_azimuth, CLD_PRJ_DIST*10)\n",
    "        .reproject(**{'crs': img.select(0).projection(), 'scale': 100})\n",
    "        .select('distance')\n",
    "        .mask()\n",
    "        .rename('cloud_transform'))\n",
    "\n",
    "    # Identify the intersection of dark pixels with cloud shadow projection.\n",
    "    shadows = cld_proj.multiply(dark_pixels).rename('shadows')\n",
    "\n",
    "    # Add dark pixels, cloud projection, and identified shadows as image bands.\n",
    "    return img.addBands(ee.Image([dark_pixels, cld_proj, shadows]))"
   ]
  },
  {
   "cell_type": "code",
   "execution_count": 18,
   "metadata": {},
   "outputs": [],
   "source": [
    "def add_cld_shdw_mask(img):\n",
    "    # Add cloud component bands.\n",
    "    img_cloud = add_cloud_bands(img)\n",
    "\n",
    "    # Add cloud shadow component bands.\n",
    "    img_cloud_shadow = add_shadow_bands(img_cloud)\n",
    "\n",
    "    # Combine cloud and shadow mask, set cloud and shadow as value 1, else 0.\n",
    "    is_cld_shdw = img_cloud_shadow.select('clouds').add(img_cloud_shadow.select('shadows')).gt(0)\n",
    "\n",
    "    # Remove small cloud-shadow patches and dilate remaining pixels by BUFFER input.\n",
    "    # 20 m scale is for speed, and assumes clouds don't require 10 m precision.\n",
    "    is_cld_shdw = (is_cld_shdw.focal_min(2).focal_max(BUFFER*2/20)\n",
    "        .reproject(**{'crs': img.select([0]).projection(), 'scale': 20})\n",
    "        .rename('cloudmask'))\n",
    "\n",
    "    # Add the final cloud-shadow mask to the image.\n",
    "    return img_cloud_shadow.addBands(is_cld_shdw)"
   ]
  },
  {
   "cell_type": "code",
   "execution_count": 19,
   "metadata": {},
   "outputs": [],
   "source": [
    "def apply_cld_shdw_mask_all_bands(img):\n",
    "    # Subset the cloudmask band and invert it so clouds/shadow are 0, else 1.\n",
    "    not_cld_shdw = img.select('cloudmask').Not()\n",
    "\n",
    "    # Subset reflectance bands and update their masks, return the result.\n",
    "    return img.updateMask(not_cld_shdw)"
   ]
  },
  {
   "cell_type": "code",
   "execution_count": 20,
   "metadata": {},
   "outputs": [],
   "source": [
    "def add_ndvi(img):\n",
    "    ndvi = img.normalizedDifference(['B8', 'B4']).rename('NDVI')\n",
    "    img = img.addBands(ndvi)\n",
    "    img = img.float()\n",
    "    return img"
   ]
  },
  {
   "cell_type": "code",
   "execution_count": 21,
   "metadata": {},
   "outputs": [],
   "source": [
    "AOI = ee.Geometry.Polygon(polygons[0])\n",
    "START_DATE = '2019-01-01'\n",
    "END_DATE = '2020-12-31'\n",
    "CLOUD_FILTER = 60\n",
    "CLD_PRB_THRESH = 40\n",
    "NIR_DRK_THRESH = 0.15\n",
    "CLD_PRJ_DIST = 2\n",
    "BUFFER = 100"
   ]
  },
  {
   "cell_type": "code",
   "execution_count": 22,
   "metadata": {},
   "outputs": [],
   "source": [
    "s2_sr_cld_col = get_s2_sr_cld_col(AOI, START_DATE, END_DATE)"
   ]
  },
  {
   "cell_type": "code",
   "execution_count": 23,
   "metadata": {},
   "outputs": [],
   "source": [
    "s2_sr_median = (s2_sr_cld_col.map(add_cld_shdw_mask)\n",
    "                             .map(apply_cld_shdw_mask_all_bands)\n",
    "                             .median())"
   ]
  },
  {
   "cell_type": "code",
   "execution_count": 24,
   "metadata": {},
   "outputs": [],
   "source": [
    "def export_to_gcs(s2_sr_median,AOI,polygon_id,date_range,band_list):\n",
    "    export = ee.batch.Export.image.toCloudStorage(\n",
    "      image=s2_sr_median.select(band_list),\n",
    "      description=f'{date_range + \"_\" + str(polygon_id)}_full_band_s2cloudless_export',\n",
    "      scale=10,\n",
    "      region=AOI,\n",
    "      fileNamePrefix=f'S2_CloudFree/full_band_s2cloudless_export/{date_range + \"_\" + str(polygon_id)}',\n",
    "      bucket='project-canopy-temp-2',\n",
    "      maxPixels=1e13\n",
    ")\n",
    "    export.start()\n",
    "    \n",
    "    return export"
   ]
  },
  {
   "cell_type": "code",
   "execution_count": 33,
   "metadata": {},
   "outputs": [],
   "source": [
    "export = export_to_gcs()"
   ]
  },
  {
   "cell_type": "code",
   "execution_count": 34,
   "metadata": {},
   "outputs": [
    {
     "name": "stdout",
     "output_type": "stream",
     "text": [
      "{'state': 'RUNNING', 'description': 's2cloudless_test5', 'creation_timestamp_ms': 1610641860745, 'update_timestamp_ms': 1610642347940, 'start_timestamp_ms': 1610641949592, 'task_type': 'EXPORT_IMAGE', 'attempt': 1, 'id': 'KO52VJ5VR76QSCTISQIFQJZD', 'name': 'projects/earthengine-legacy/operations/KO52VJ5VR76QSCTISQIFQJZD'}\r"
     ]
    }
   ],
   "source": [
    "while export.active():\n",
    "    print(export.status(), end=\"\\r\", flush=True)"
   ]
  },
  {
   "cell_type": "code",
   "execution_count": 2,
   "metadata": {},
   "outputs": [],
   "source": [
    "dates_dict = {\"3_months\":{\"START_DATE\":'2019-12-11',\"END_DATE\":'2020-03-10'},\n",
    "\"2_years\":{\"START_DATE\":\"2019-01-01\",\"END_DATE\":\"2020-12-31\"}}"
   ]
  },
  {
   "cell_type": "code",
   "execution_count": 26,
   "metadata": {},
   "outputs": [],
   "source": [
    "def s2cloudless_download(dates_dict,polygons,band_list):\n",
    "    \n",
    "    band_list: ['B1','B2','B3','B4','B5','B6','B7','B8','B8A','B9','B11','B12','TCI_R','TCI_G','TCI_B','AOT','WVP']\n",
    "        \n",
    "    for date_range in dates_dict.keys():\n",
    "        for polygon_id,polygon in enumerate(polygons,1):\n",
    "            print(f\"processing {polygon_id} of {len(polygons)} for {date_range} range\")\n",
    "            AOI = ee.Geometry.Polygon(polygon)\n",
    "            s2_sr_cld_col = get_s2_sr_cld_col(AOI, dates_dict[date_range][\"START_DATE\"], dates_dict[date_range][\"END_DATE\"])\n",
    "            s2_sr_median = (s2_sr_cld_col.map(add_cld_shdw_mask)\n",
    "                             .map(apply_cld_shdw_mask_all_bands)\n",
    "                             .median())\n",
    "            \n",
    "            return s2_sr_median\n",
    "        \n",
    "            s2_sr_median = add_ndvi(s2_sr_median)\n",
    "            \n",
    "            export_to_gcs(s2_sr_median,AOI,polygon_id,date_range,band_list)\n"
   ]
  },
  {
   "cell_type": "code",
   "execution_count": 28,
   "metadata": {},
   "outputs": [
    {
     "name": "stdout",
     "output_type": "stream",
     "text": [
      "processing 1 of 101 for 3_months range\n"
     ]
    }
   ],
   "source": [
    "moz = s2cloudless_download(dates_dict,polygons)"
   ]
  },
  {
   "cell_type": "code",
   "execution_count": 27,
   "metadata": {},
   "outputs": [
    {
     "ename": "NameError",
     "evalue": "name 'dates_dict' is not defined",
     "output_type": "error",
     "traceback": [
      "\u001b[0;31m---------------------------------------------------------------------------\u001b[0m",
      "\u001b[0;31mNameError\u001b[0m                                 Traceback (most recent call last)",
      "\u001b[0;32m<ipython-input-27-ef94a0cfd4e3>\u001b[0m in \u001b[0;36m<module>\u001b[0;34m\u001b[0m\n\u001b[0;32m----> 1\u001b[0;31m \u001b[0mcol\u001b[0m \u001b[0;34m=\u001b[0m \u001b[0ms2cloudless_download\u001b[0m\u001b[0;34m(\u001b[0m\u001b[0mdates_dict\u001b[0m\u001b[0;34m,\u001b[0m\u001b[0mpolygons\u001b[0m\u001b[0;34m)\u001b[0m\u001b[0;34m\u001b[0m\u001b[0;34m\u001b[0m\u001b[0m\n\u001b[0m",
      "\u001b[0;31mNameError\u001b[0m: name 'dates_dict' is not defined"
     ]
    }
   ],
   "source": [
    "col = s2cloudless_download(dates_dict,polygons)"
   ]
  },
  {
   "cell_type": "code",
   "execution_count": null,
   "metadata": {},
   "outputs": [],
   "source": []
  },
  {
   "cell_type": "markdown",
   "metadata": {},
   "source": [
    "# Downloading Two Specific Polygons with full band list"
   ]
  },
  {
   "cell_type": "code",
   "execution_count": 39,
   "metadata": {},
   "outputs": [
    {
     "data": {
      "text/plain": [
       "[[[13.794794, 2.877294],\n",
       "  [13.796768, 2.947498],\n",
       "  [13.854361, 2.946812],\n",
       "  [13.794794, 2.877294]],\n",
       " [[11.708164, 2.113016],\n",
       "  [11.6922, 2.14132],\n",
       "  [11.69426, 2.168767],\n",
       "  [11.758289, 2.192096],\n",
       "  [11.758289, 2.192096],\n",
       "  [11.83279, 2.176657],\n",
       "  [11.946259, 2.146981],\n",
       "  [11.929264, 2.067384],\n",
       "  [11.744213, 2.067899],\n",
       "  [11.744213, 2.067899],\n",
       "  [11.708164, 2.113016]]]"
      ]
     },
     "execution_count": 39,
     "metadata": {},
     "output_type": "execute_result"
    }
   ],
   "source": [
    "polygons_list"
   ]
  },
  {
   "cell_type": "code",
   "execution_count": 43,
   "metadata": {},
   "outputs": [
    {
     "name": "stdout",
     "output_type": "stream",
     "text": [
      "processing 1 of 2 for 3_months range\n",
      "processing 2 of 2 for 3_months range\n",
      "processing 1 of 2 for 2_years range\n",
      "processing 2 of 2 for 2_years range\n"
     ]
    }
   ],
   "source": [
    "band_list =  ['B2','B3','B4','B8','B8A','TCI_R','TCI_G','TCI_B','NDVI']\n",
    "    \n",
    "polygons_list = polygons[33] + polygons[57]\n",
    "\n",
    "s2cloudless_download(dates_dict,polygons_list,band_list)\n"
   ]
  },
  {
   "cell_type": "markdown",
   "metadata": {},
   "source": [
    "# Sandbox"
   ]
  },
  {
   "cell_type": "code",
   "execution_count": 17,
   "metadata": {},
   "outputs": [
    {
     "data": {
      "text/plain": [
       "{'type': 'Image',\n",
       " 'bands': [{'id': 'B1',\n",
       "   'data_type': {'type': 'PixelType',\n",
       "    'precision': 'int',\n",
       "    'min': 0,\n",
       "    'max': 65535},\n",
       "   'dimensions': [1830, 1830],\n",
       "   'crs': 'EPSG:32632',\n",
       "   'crs_transform': [60, 0, 499980, 0, -60, 700020]},\n",
       "  {'id': 'B2',\n",
       "   'data_type': {'type': 'PixelType',\n",
       "    'precision': 'int',\n",
       "    'min': 0,\n",
       "    'max': 65535},\n",
       "   'dimensions': [10980, 10980],\n",
       "   'crs': 'EPSG:32632',\n",
       "   'crs_transform': [10, 0, 499980, 0, -10, 700020]},\n",
       "  {'id': 'B3',\n",
       "   'data_type': {'type': 'PixelType',\n",
       "    'precision': 'int',\n",
       "    'min': 0,\n",
       "    'max': 65535},\n",
       "   'dimensions': [10980, 10980],\n",
       "   'crs': 'EPSG:32632',\n",
       "   'crs_transform': [10, 0, 499980, 0, -10, 700020]},\n",
       "  {'id': 'B4',\n",
       "   'data_type': {'type': 'PixelType',\n",
       "    'precision': 'int',\n",
       "    'min': 0,\n",
       "    'max': 65535},\n",
       "   'dimensions': [10980, 10980],\n",
       "   'crs': 'EPSG:32632',\n",
       "   'crs_transform': [10, 0, 499980, 0, -10, 700020]},\n",
       "  {'id': 'B5',\n",
       "   'data_type': {'type': 'PixelType',\n",
       "    'precision': 'int',\n",
       "    'min': 0,\n",
       "    'max': 65535},\n",
       "   'dimensions': [5490, 5490],\n",
       "   'crs': 'EPSG:32632',\n",
       "   'crs_transform': [20, 0, 499980, 0, -20, 700020]},\n",
       "  {'id': 'B6',\n",
       "   'data_type': {'type': 'PixelType',\n",
       "    'precision': 'int',\n",
       "    'min': 0,\n",
       "    'max': 65535},\n",
       "   'dimensions': [5490, 5490],\n",
       "   'crs': 'EPSG:32632',\n",
       "   'crs_transform': [20, 0, 499980, 0, -20, 700020]},\n",
       "  {'id': 'B7',\n",
       "   'data_type': {'type': 'PixelType',\n",
       "    'precision': 'int',\n",
       "    'min': 0,\n",
       "    'max': 65535},\n",
       "   'dimensions': [5490, 5490],\n",
       "   'crs': 'EPSG:32632',\n",
       "   'crs_transform': [20, 0, 499980, 0, -20, 700020]},\n",
       "  {'id': 'B8',\n",
       "   'data_type': {'type': 'PixelType',\n",
       "    'precision': 'int',\n",
       "    'min': 0,\n",
       "    'max': 65535},\n",
       "   'dimensions': [10980, 10980],\n",
       "   'crs': 'EPSG:32632',\n",
       "   'crs_transform': [10, 0, 499980, 0, -10, 700020]},\n",
       "  {'id': 'B8A',\n",
       "   'data_type': {'type': 'PixelType',\n",
       "    'precision': 'int',\n",
       "    'min': 0,\n",
       "    'max': 65535},\n",
       "   'dimensions': [5490, 5490],\n",
       "   'crs': 'EPSG:32632',\n",
       "   'crs_transform': [20, 0, 499980, 0, -20, 700020]},\n",
       "  {'id': 'B9',\n",
       "   'data_type': {'type': 'PixelType',\n",
       "    'precision': 'int',\n",
       "    'min': 0,\n",
       "    'max': 65535},\n",
       "   'dimensions': [1830, 1830],\n",
       "   'crs': 'EPSG:32632',\n",
       "   'crs_transform': [60, 0, 499980, 0, -60, 700020]},\n",
       "  {'id': 'B11',\n",
       "   'data_type': {'type': 'PixelType',\n",
       "    'precision': 'int',\n",
       "    'min': 0,\n",
       "    'max': 65535},\n",
       "   'dimensions': [5490, 5490],\n",
       "   'crs': 'EPSG:32632',\n",
       "   'crs_transform': [20, 0, 499980, 0, -20, 700020]},\n",
       "  {'id': 'B12',\n",
       "   'data_type': {'type': 'PixelType',\n",
       "    'precision': 'int',\n",
       "    'min': 0,\n",
       "    'max': 65535},\n",
       "   'dimensions': [5490, 5490],\n",
       "   'crs': 'EPSG:32632',\n",
       "   'crs_transform': [20, 0, 499980, 0, -20, 700020]},\n",
       "  {'id': 'AOT',\n",
       "   'data_type': {'type': 'PixelType',\n",
       "    'precision': 'int',\n",
       "    'min': 0,\n",
       "    'max': 65535},\n",
       "   'dimensions': [10980, 10980],\n",
       "   'crs': 'EPSG:32632',\n",
       "   'crs_transform': [10, 0, 499980, 0, -10, 700020]},\n",
       "  {'id': 'WVP',\n",
       "   'data_type': {'type': 'PixelType',\n",
       "    'precision': 'int',\n",
       "    'min': 0,\n",
       "    'max': 65535},\n",
       "   'dimensions': [10980, 10980],\n",
       "   'crs': 'EPSG:32632',\n",
       "   'crs_transform': [10, 0, 499980, 0, -10, 700020]},\n",
       "  {'id': 'SCL',\n",
       "   'data_type': {'type': 'PixelType',\n",
       "    'precision': 'int',\n",
       "    'min': 0,\n",
       "    'max': 255},\n",
       "   'dimensions': [5490, 5490],\n",
       "   'crs': 'EPSG:32632',\n",
       "   'crs_transform': [20, 0, 499980, 0, -20, 700020]},\n",
       "  {'id': 'TCI_R',\n",
       "   'data_type': {'type': 'PixelType',\n",
       "    'precision': 'int',\n",
       "    'min': 0,\n",
       "    'max': 255},\n",
       "   'dimensions': [10980, 10980],\n",
       "   'crs': 'EPSG:32632',\n",
       "   'crs_transform': [10, 0, 499980, 0, -10, 700020]},\n",
       "  {'id': 'TCI_G',\n",
       "   'data_type': {'type': 'PixelType',\n",
       "    'precision': 'int',\n",
       "    'min': 0,\n",
       "    'max': 255},\n",
       "   'dimensions': [10980, 10980],\n",
       "   'crs': 'EPSG:32632',\n",
       "   'crs_transform': [10, 0, 499980, 0, -10, 700020]},\n",
       "  {'id': 'TCI_B',\n",
       "   'data_type': {'type': 'PixelType',\n",
       "    'precision': 'int',\n",
       "    'min': 0,\n",
       "    'max': 255},\n",
       "   'dimensions': [10980, 10980],\n",
       "   'crs': 'EPSG:32632',\n",
       "   'crs_transform': [10, 0, 499980, 0, -10, 700020]},\n",
       "  {'id': 'MSK_CLDPRB',\n",
       "   'data_type': {'type': 'PixelType',\n",
       "    'precision': 'int',\n",
       "    'min': 0,\n",
       "    'max': 255},\n",
       "   'dimensions': [5490, 5490],\n",
       "   'crs': 'EPSG:32632',\n",
       "   'crs_transform': [20, 0, 499980, 0, -20, 700020]},\n",
       "  {'id': 'MSK_SNWPRB',\n",
       "   'data_type': {'type': 'PixelType',\n",
       "    'precision': 'int',\n",
       "    'min': 0,\n",
       "    'max': 255},\n",
       "   'dimensions': [5490, 5490],\n",
       "   'crs': 'EPSG:32632',\n",
       "   'crs_transform': [20, 0, 499980, 0, -20, 700020]},\n",
       "  {'id': 'QA10',\n",
       "   'data_type': {'type': 'PixelType',\n",
       "    'precision': 'int',\n",
       "    'min': 0,\n",
       "    'max': 65535},\n",
       "   'dimensions': [10980, 10980],\n",
       "   'crs': 'EPSG:32632',\n",
       "   'crs_transform': [10, 0, 499980, 0, -10, 700020]},\n",
       "  {'id': 'QA20',\n",
       "   'data_type': {'type': 'PixelType',\n",
       "    'precision': 'int',\n",
       "    'min': 0,\n",
       "    'max': 4294967295},\n",
       "   'dimensions': [5490, 5490],\n",
       "   'crs': 'EPSG:32632',\n",
       "   'crs_transform': [20, 0, 499980, 0, -20, 700020]},\n",
       "  {'id': 'QA60',\n",
       "   'data_type': {'type': 'PixelType',\n",
       "    'precision': 'int',\n",
       "    'min': 0,\n",
       "    'max': 65535},\n",
       "   'dimensions': [1830, 1830],\n",
       "   'crs': 'EPSG:32632',\n",
       "   'crs_transform': [60, 0, 499980, 0, -60, 700020]}],\n",
       " 'id': 'COPERNICUS/S2_SR/20190105T094401_20190105T095815_T32NNM',\n",
       " 'version': 1556508095565998,\n",
       " 'properties': {'s2cloudless': {'type': 'Image',\n",
       "   'bands': [{'id': 'probability',\n",
       "     'data_type': {'type': 'PixelType',\n",
       "      'precision': 'int',\n",
       "      'min': 0,\n",
       "      'max': 255},\n",
       "     'dimensions': [10980, 10980],\n",
       "     'crs': 'EPSG:32632',\n",
       "     'crs_transform': [10, 0, 499980, 0, -10, 700020]}],\n",
       "   'version': 1584445533539565,\n",
       "   'id': 'COPERNICUS/S2_CLOUD_PROBABILITY/20190105T094401_20190105T095815_T32NNM',\n",
       "   'properties': {'system:time_start': 1546681441000,\n",
       "    'system:footprint': {'type': 'LinearRing',\n",
       "     'coordinates': [[8.99977452799931, 6.333008221513951],\n",
       "      [8.999773853613105, 6.332996915309481],\n",
       "      [8.999774275104484, 5.339795736441115],\n",
       "      [8.999810944863023, 5.339754310009282],\n",
       "      [8.999842219544101, 5.339708542435721],\n",
       "      [8.999857056054823, 5.339705719858531],\n",
       "      [9.990741099839274, 5.338906759580924],\n",
       "      [9.990782818288212, 5.338943318464101],\n",
       "      [9.99082871713657, 5.338974297964051],\n",
       "      [9.990831617808098, 5.338989052052154],\n",
       "      [9.991666503350496, 5.835526765618763],\n",
       "      [9.992576901174116, 6.332048082155975],\n",
       "      [9.992540130165349, 6.332089625314403],\n",
       "      [9.992508989996079, 6.332135383248157],\n",
       "      [9.992494059781894, 6.332138233681824],\n",
       "      [8.999864390012858, 6.33308693009285],\n",
       "      [8.999822662329686, 6.333050329587675],\n",
       "      [8.999776635456247, 6.333019262030045],\n",
       "      [8.99977452799931, 6.333008221513951]]},\n",
       "    'system:time_end': 1546767841000,\n",
       "    'system:asset_size': 68602738,\n",
       "    'system:index': '20190105T094401_20190105T095815_T32NNM'}},\n",
       "  'DATATAKE_IDENTIFIER': 'GS2A_20190105T094401_018480_N02.11',\n",
       "  'AOT_RETRIEVAL_ACCURACY': 0,\n",
       "  'SPACECRAFT_NAME': 'Sentinel-2A',\n",
       "  'SATURATED_DEFECTIVE_PIXEL_PERCENTAGE': 0,\n",
       "  'MEAN_INCIDENCE_AZIMUTH_ANGLE_B8A': 284.137385249,\n",
       "  'CLOUD_SHADOW_PERCENTAGE': 0.250263,\n",
       "  'MEAN_SOLAR_AZIMUTH_ANGLE': 143.578230884,\n",
       "  'system:footprint': {'type': 'LinearRing',\n",
       "   'coordinates': [[8.999797035642262, 5.339844263184505],\n",
       "    [8.99981195644281, 5.339841439359468],\n",
       "    [9.845675614829513, 5.33925928608353],\n",
       "    [9.851635111206605, 5.339613080891088],\n",
       "    [9.851658193999091, 5.339635944165247],\n",
       "    [9.85169081655406, 5.339636521916279],\n",
       "    [9.851705381719691, 5.33965369388238],\n",
       "    [9.862019673545094, 5.355384902963936],\n",
       "    [9.86202810702506, 5.355408322331474],\n",
       "    [9.975508039504248, 5.86755753713183],\n",
       "    [9.991392217055948, 5.9608832222838695],\n",
       "    [9.991806419554315, 5.990195730365732],\n",
       "    [9.992441334817471, 6.332093615112531],\n",
       "    [9.992404649181486, 6.332135156662344],\n",
       "    [9.992373423745386, 6.332180916288683],\n",
       "    [9.992358578869867, 6.332183765075006],\n",
       "    [8.99981920609833, 6.333132183715921],\n",
       "    [8.999777478439032, 6.333095583180297],\n",
       "    [8.999728669750386, 6.333062557175941],\n",
       "    [8.99972909124152, 5.339931457424325],\n",
       "    [8.999765845277345, 5.33988995070781],\n",
       "    [8.999797035642262, 5.339844263184505]]},\n",
       "  'VEGETATION_PERCENTAGE': 84.426415,\n",
       "  'SOLAR_IRRADIANCE_B12': 85.25,\n",
       "  'SOLAR_IRRADIANCE_B10': 367.15,\n",
       "  'SENSOR_QUALITY': 'PASSED',\n",
       "  'SOLAR_IRRADIANCE_B11': 245.59,\n",
       "  'GENERATION_TIME': 1546691117000,\n",
       "  'SOLAR_IRRADIANCE_B8A': 955.32,\n",
       "  'FORMAT_CORRECTNESS': 'PASSED',\n",
       "  'CLOUD_COVERAGE_ASSESSMENT': 8.747876,\n",
       "  'THIN_CIRRUS_PERCENTAGE': 3.405358,\n",
       "  'system:time_end': 1546682343000,\n",
       "  'WATER_VAPOUR_RETRIEVAL_ACCURACY': 0,\n",
       "  'system:time_start': 1546682343000,\n",
       "  'DATASTRIP_ID': 'S2A_OPER_MSI_L2A_DS_MTI__20190105T122517_S20190105T095815_N02.11',\n",
       "  'PROCESSING_BASELINE': '02.11',\n",
       "  'SENSING_ORBIT_NUMBER': 36,\n",
       "  'NODATA_PIXEL_PERCENTAGE': 4.859354,\n",
       "  'SENSING_ORBIT_DIRECTION': 'DESCENDING',\n",
       "  'GENERAL_QUALITY': 'PASSED',\n",
       "  'GRANULE_ID': 'L2A_T32NNM_A018480_20190105T095815',\n",
       "  'REFLECTANCE_CONVERSION_CORRECTION': 1.03430009572,\n",
       "  'MEDIUM_PROBA_CLOUDS_PERCENTAGE': 5.311,\n",
       "  'MEAN_INCIDENCE_AZIMUTH_ANGLE_B8': 283.940902802,\n",
       "  'DATATAKE_TYPE': 'INS-NOBS',\n",
       "  'MEAN_INCIDENCE_AZIMUTH_ANGLE_B9': 284.165865306,\n",
       "  'MEAN_INCIDENCE_AZIMUTH_ANGLE_B6': 284.072828528,\n",
       "  'MEAN_INCIDENCE_AZIMUTH_ANGLE_B7': 284.097865904,\n",
       "  'MEAN_INCIDENCE_AZIMUTH_ANGLE_B4': 284.030095698,\n",
       "  'MEAN_INCIDENCE_ZENITH_ANGLE_B1': 7.75131163001,\n",
       "  'NOT_VEGETATED_PERCENTAGE': 4.082034,\n",
       "  'MEAN_INCIDENCE_AZIMUTH_ANGLE_B5': 284.032934559,\n",
       "  'RADIOMETRIC_QUALITY': 'PASSED',\n",
       "  'MEAN_INCIDENCE_AZIMUTH_ANGLE_B2': 283.903858416,\n",
       "  'MEAN_INCIDENCE_AZIMUTH_ANGLE_B3': 283.977942082,\n",
       "  'MEAN_INCIDENCE_ZENITH_ANGLE_B5': 7.62445078647,\n",
       "  'MEAN_INCIDENCE_AZIMUTH_ANGLE_B1': 284.11306601,\n",
       "  'MEAN_INCIDENCE_ZENITH_ANGLE_B4': 7.59648216409,\n",
       "  'MEAN_INCIDENCE_ZENITH_ANGLE_B3': 7.55526508644,\n",
       "  'MEAN_INCIDENCE_ZENITH_ANGLE_B2': 7.5253149852,\n",
       "  'MEAN_INCIDENCE_ZENITH_ANGLE_B9': 7.79888184719,\n",
       "  'MEAN_INCIDENCE_ZENITH_ANGLE_B8': 7.53879596083,\n",
       "  'MEAN_INCIDENCE_ZENITH_ANGLE_B7': 7.68230934222,\n",
       "  'DARK_FEATURES_PERCENTAGE': 1.346342,\n",
       "  'HIGH_PROBA_CLOUDS_PERCENTAGE': 0.031518,\n",
       "  'MEAN_INCIDENCE_ZENITH_ANGLE_B6': 7.65198212577,\n",
       "  'UNCLASSIFIED_PERCENTAGE': 1.096654,\n",
       "  'MEAN_SOLAR_ZENITH_ANGLE': 35.7039872268,\n",
       "  'MEAN_INCIDENCE_ZENITH_ANGLE_B8A': 7.71533709376,\n",
       "  'RADIATIVE_TRANSFER_ACCURACY': 0,\n",
       "  'MGRS_TILE': '32NNM',\n",
       "  'CLOUDY_PIXEL_PERCENTAGE': 8.747876,\n",
       "  'PRODUCT_ID': 'S2A_MSIL2A_20190105T094401_N0211_R036_T32NNM_20190105T122517',\n",
       "  'MEAN_INCIDENCE_ZENITH_ANGLE_B10': 7.608726662,\n",
       "  'SOLAR_IRRADIANCE_B9': 812.92,\n",
       "  'SNOW_ICE_PERCENTAGE': 0,\n",
       "  'DEGRADED_MSI_DATA_PERCENTAGE': 0,\n",
       "  'MEAN_INCIDENCE_ZENITH_ANGLE_B11': 7.67867401198,\n",
       "  'MEAN_INCIDENCE_ZENITH_ANGLE_B12': 7.74169196512,\n",
       "  'SOLAR_IRRADIANCE_B6': 1287.61,\n",
       "  'MEAN_INCIDENCE_AZIMUTH_ANGLE_B10': 283.883979797,\n",
       "  'SOLAR_IRRADIANCE_B5': 1424.64,\n",
       "  'MEAN_INCIDENCE_AZIMUTH_ANGLE_B11': 284.042315306,\n",
       "  'SOLAR_IRRADIANCE_B8': 1041.63,\n",
       "  'MEAN_INCIDENCE_AZIMUTH_ANGLE_B12': 284.070129079,\n",
       "  'SOLAR_IRRADIANCE_B7': 1162.08,\n",
       "  'SOLAR_IRRADIANCE_B2': 1959.72,\n",
       "  'SOLAR_IRRADIANCE_B1': 1884.69,\n",
       "  'SOLAR_IRRADIANCE_B4': 1512.06,\n",
       "  'GEOMETRIC_QUALITY': 'PASSED',\n",
       "  'SOLAR_IRRADIANCE_B3': 1823.24,\n",
       "  'system:asset_size': 1494698513,\n",
       "  'WATER_PERCENTAGE': 0.050423,\n",
       "  'system:index': '20190105T094401_20190105T095815_T32NNM'}}"
      ]
     },
     "execution_count": 17,
     "metadata": {},
     "output_type": "execute_result"
    }
   ],
   "source": [
    "s2_sr_cld_col.first().getInfo()"
   ]
  },
  {
   "cell_type": "code",
   "execution_count": null,
   "metadata": {},
   "outputs": [],
   "source": []
  }
 ],
 "metadata": {
  "kernelspec": {
   "display_name": "gee-conda",
   "language": "python",
   "name": "gee-conda"
  },
  "language_info": {
   "codemirror_mode": {
    "name": "ipython",
    "version": 3
   },
   "file_extension": ".py",
   "mimetype": "text/x-python",
   "name": "python",
   "nbconvert_exporter": "python",
   "pygments_lexer": "ipython3",
   "version": "3.8.6"
  }
 },
 "nbformat": 4,
 "nbformat_minor": 4
}
