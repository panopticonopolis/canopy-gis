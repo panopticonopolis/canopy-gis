{
 "cells": [
  {
   "cell_type": "code",
   "execution_count": null,
   "metadata": {
    "id": "8kdsGkYJXXKc"
   },
   "outputs": [],
   "source": [
    "#@title Copyright 2020 The Earth Engine Community Authors { display-mode: \"form\" }\n",
    "#\n",
    "# Licensed under the Apache License, Version 2.0 (the \"License\");\n",
    "# you may not use this file except in compliance with the License.\n",
    "# You may obtain a copy of the License at\n",
    "#\n",
    "# https://www.apache.org/licenses/LICENSE-2.0\n",
    "#\n",
    "# Unless required by applicable law or agreed to in writing, software\n",
    "# distributed under the License is distributed on an \"AS IS\" BASIS,\n",
    "# WITHOUT WARRANTIES OR CONDITIONS OF ANY KIND, either express or implied.\n",
    "# See the License for the specific language governing permissions and\n",
    "# limitations under the License."
   ]
  },
  {
   "cell_type": "markdown",
   "metadata": {
    "id": "l18M9_r5XmAQ"
   },
   "source": [
    "# Sentinel-2 Cloud Masking with s2cloudless\n",
    "\n",
    "Author: jdbcode\n"
   ]
  },
  {
   "cell_type": "markdown",
   "metadata": {
    "id": "h2i3NKIk4nWq"
   },
   "source": [
    "This tutorial is an introduction to masking clouds and cloud shadows in Sentinel-2 (S2) surface reflectance (SR) data using Earth Engine. Clouds are identified from the S2 cloud probability dataset (s2cloudless) and shadows are defined by cloud projection intersection with low-reflectance near-infrared (NIR) pixels."
   ]
  },
  {
   "cell_type": "markdown",
   "metadata": {
    "id": "U7i55vr_aKCB"
   },
   "source": [
    "### Run me first\n",
    "\n",
    "Run the following cell to initialize the Earth Engine API. The output will contain instructions on how to grant this notebook access to Earth Engine using your account."
   ]
  },
  {
   "cell_type": "code",
   "execution_count": 6,
   "metadata": {
    "id": "XeFsiSp2aDL6"
   },
   "outputs": [],
   "source": [
    "import ee\n",
    "import pandas as pd\n",
    "import json\n",
    "\n",
    "# # Trigger the authentication flow.\n",
    "# ee.Authenticate()\n",
    "\n",
    "# Initialize the library.\n",
    "ee.Initialize()"
   ]
  },
  {
   "cell_type": "markdown",
   "metadata": {
    "id": "U0xJ-vCrWF1S"
   },
   "source": [
    "## Assemble cloud mask components\n",
    "\n",
    "This section builds an S2 SR collection and defines functions to add cloud and cloud shadow component layers to each image in the collection.\n",
    "\n"
   ]
  },
  {
   "cell_type": "markdown",
   "metadata": {
    "id": "tCRB28UkJJjp"
   },
   "source": [
    "### Define collection filter and cloud mask parameters\n",
    "\n",
    "Define parameters that are used to filter the S2 image collection and determine cloud and cloud shadow identification.\n",
    "\n",
    "|Parameter | Type | Description |\n",
    "| :-- | :-- | :-- |\n",
    "| `AOI` | `ee.Geometry` | Area of interest |\n",
    "| `START_DATE` | string | Image collection start date (inclusive) |\n",
    "| `END_DATE` | string | Image collection end date (exclusive) |\n",
    "| `CLOUD_FILTER` | integer | Maximum image cloud cover percent allowed in image collection |\n",
    "| `CLD_PRB_THRESH` | integer | Cloud probability (%); values greater than are considered cloud |\n",
    "| `NIR_DRK_THRESH` | float | Near-infrared reflectance; values less than are considered potential cloud shadow |\n",
    "| `CLD_PRJ_DIST` | float | Maximum distance (km) to search for cloud shadows from cloud edges |\n",
    "| `BUFFER` | integer | Distance (m) to dilate the edge of cloud-identified objects |"
   ]
  },
  {
   "cell_type": "markdown",
   "metadata": {
    "id": "q9LnKA3kEVrw"
   },
   "source": [
    "The values currently set for `AOI`, `START_DATE`, `END_DATE`, and `CLOUD_FILTER` are intended to build a collection for a single S2 overpass of a region near Portland, Oregon, USA. When parameterizing and evaluating cloud masks for a new area, it is good practice to identify a single overpass date and limit the regional extent to minimize processing requirements. If you want to work with a different example, use this [Earth Engine App](https://showcase.earthengine.app/view/s2-sr-browser-s2cloudless-nb) to identify an image that includes some clouds, then replace the relevant parameter values below with those provided in the app."
   ]
  },
  {
   "cell_type": "code",
   "execution_count": 7,
   "metadata": {},
   "outputs": [],
   "source": [
    "def import_aois(csv_loc):    \n",
    "\n",
    "    df_labels = pd.read_csv(csv_loc)\n",
    "    df_labels = df_labels[[\"center-lat\",\"center-long\",\"polygon\",\"Labels combined\"]]\n",
    "\n",
    "    polygons = []\n",
    "    for polygon in df_labels[\"polygon\"]:\n",
    "        polygons.append(json.loads(polygon)[\"coordinates\"])\n",
    "\n",
    "    return polygons\n",
    "\n",
    "### CHANGE BELOW PATH ###\n",
    "zhenya_path = \"/Volumes/Lacie/zhenyadata/Project_Canopy_Data/PC_Data/Sentinel_Data/Labelled/Tiles_v3/Polygon_List/polygons_101320.csv\"\n",
    "david_path = 'D:/canopy_data/csvs/polygons_101320.csv'\n",
    "polygons = import_aois(zhenya_path)\n",
    "\n",
    "feature_id = 0 \n",
    "features = []\n",
    "for poly in polygons:\n",
    "    # create an roi. first item in Misha's label list\n",
    "    feature_id += 1 \n",
    "    \n",
    "    # create geometry object, create feature object, append to features list for feature collection creation \n",
    "    polys = ee.Geometry.Polygon(poly)\n",
    "    feature = ee.Feature(polys,{\"name\":feature_id})\n",
    "    features.append(feature)\n",
    "\n",
    "fc = ee.FeatureCollection(features)"
   ]
  },
  {
   "cell_type": "code",
   "execution_count": 9,
   "metadata": {},
   "outputs": [],
   "source": [
    "bad_polygons = [polygons[24], polygons[28], polygons[35], polygons[40], polygons[42], polygons[52], polygons[63], polygons[87], polygons[88], polygons[91], polygons[97]]"
   ]
  },
  {
   "cell_type": "code",
   "execution_count": 10,
   "metadata": {
    "id": "qBjBmX4-WFG7"
   },
   "outputs": [],
   "source": [
    "AOI = ee.Geometry.Polygon(bad_polygons[0])\n",
    "START_DATE = '2019-01-01'\n",
    "END_DATE = '2020-12-31'\n",
    "CLOUD_FILTER = 60\n",
    "CLD_PRB_THRESH = 50\n",
    "NIR_DRK_THRESH = 0.15\n",
    "CLD_PRJ_DIST = 1\n",
    "BUFFER = 50"
   ]
  },
  {
   "cell_type": "markdown",
   "metadata": {
    "id": "DnJGSW1MlEL2"
   },
   "source": [
    "### Build a Sentinel-2 collection\n",
    "\n",
    "[Sentinel-2 surface reflectance](https://developers.google.com/earth-engine/datasets/catalog/COPERNICUS_S2_SR) and [Sentinel-2 cloud probability](https://developers.google.com/earth-engine/datasets/catalog/COPERNICUS_S2_CLOUD_PROBABILITY) are two different image collections. Each collection must be filtered similarly (e.g., by date and bounds) and then the two filtered collections must be joined.\n",
    "\n",
    "Define a function to filter the SR and s2cloudless collections according to area of interest and date parameters, then join them on the `system:index` property. The result is a copy of the SR collection where each image has a new `'s2cloudless'` property whose value is the corresponding s2cloudless image."
   ]
  },
  {
   "cell_type": "code",
   "execution_count": 11,
   "metadata": {
    "id": "eCp0jiy2WBSz"
   },
   "outputs": [],
   "source": [
    "def get_s2_sr_cld_col(aoi, start_date, end_date):\n",
    "    # Import and filter S2 SR.\n",
    "    s2_sr_col = (ee.ImageCollection('COPERNICUS/S2_SR')\n",
    "        .filterBounds(aoi)\n",
    "        .filterDate(start_date, end_date)\n",
    "        .filter(ee.Filter.lte('CLOUDY_PIXEL_PERCENTAGE', CLOUD_FILTER)))\n",
    "\n",
    "    # Import and filter s2cloudless.\n",
    "    s2_cloudless_col = (ee.ImageCollection('COPERNICUS/S2_CLOUD_PROBABILITY')\n",
    "        .filterBounds(aoi)\n",
    "        .filterDate(start_date, end_date))\n",
    "\n",
    "    # Join the filtered s2cloudless collection to the SR collection by the 'system:index' property.\n",
    "    return ee.ImageCollection(ee.Join.saveFirst('s2cloudless').apply(**{\n",
    "        'primary': s2_sr_col,\n",
    "        'secondary': s2_cloudless_col,\n",
    "        'condition': ee.Filter.equals(**{\n",
    "            'leftField': 'system:index',\n",
    "            'rightField': 'system:index'\n",
    "        })\n",
    "    }))"
   ]
  },
  {
   "cell_type": "markdown",
   "metadata": {
    "id": "G2SNDLIKkaZS"
   },
   "source": [
    "Apply the `get_s2_sr_cld_col` function to build a collection according to the parameters defined above."
   ]
  },
  {
   "cell_type": "code",
   "execution_count": 12,
   "metadata": {
    "id": "WhpT9SpeW0W2"
   },
   "outputs": [],
   "source": [
    "s2_sr_cld_col_eval = get_s2_sr_cld_col(AOI, START_DATE, END_DATE)"
   ]
  },
  {
   "cell_type": "markdown",
   "metadata": {
    "id": "56S6gZNUr2n8"
   },
   "source": [
    "### Define cloud mask component functions"
   ]
  },
  {
   "cell_type": "markdown",
   "metadata": {
    "id": "ZUyuXh7gP-98"
   },
   "source": [
    "#### Cloud components\n",
    "\n",
    "Define a function to add the s2cloudless probability layer and derived cloud mask as bands to an S2 SR image input."
   ]
  },
  {
   "cell_type": "code",
   "execution_count": 13,
   "metadata": {
    "id": "yE9x4KREYfnD"
   },
   "outputs": [],
   "source": [
    "def add_cloud_bands(img):\n",
    "    # Get s2cloudless image, subset the probability band.\n",
    "    cld_prb = ee.Image(img.get('s2cloudless')).select('probability')\n",
    "\n",
    "    # Condition s2cloudless by the probability threshold value.\n",
    "    is_cloud = cld_prb.gt(CLD_PRB_THRESH).rename('clouds')\n",
    "\n",
    "    # Add the cloud probability layer and cloud mask as image bands.\n",
    "    return img.addBands(ee.Image([cld_prb, is_cloud]))"
   ]
  },
  {
   "cell_type": "markdown",
   "metadata": {
    "id": "HUnkfgniKzVr"
   },
   "source": [
    "#### Cloud shadow components\n",
    "\n",
    "Define a function to add dark pixels, cloud projection, and identified shadows as bands to an S2 SR image input. Note that the image input needs to be the result of the above `add_cloud_bands` function because it relies on knowing which pixels are considered cloudy (`'clouds'` band)."
   ]
  },
  {
   "cell_type": "code",
   "execution_count": 14,
   "metadata": {
    "id": "zU-uPdhtbzw3"
   },
   "outputs": [],
   "source": [
    "def add_shadow_bands(img):\n",
    "    # Identify water pixels from the SCL band.\n",
    "    not_water = img.select('SCL').neq(6)\n",
    "\n",
    "    # Identify dark NIR pixels that are not water (potential cloud shadow pixels).\n",
    "    SR_BAND_SCALE = 1e4\n",
    "    dark_pixels = img.select('B8').lt(NIR_DRK_THRESH*SR_BAND_SCALE).multiply(not_water).rename('dark_pixels')\n",
    "\n",
    "    # Determine the direction to project cloud shadow from clouds (assumes UTM projection).\n",
    "    shadow_azimuth = ee.Number(90).subtract(ee.Number(img.get('MEAN_SOLAR_AZIMUTH_ANGLE')));\n",
    "\n",
    "    # Project shadows from clouds for the distance specified by the CLD_PRJ_DIST input.\n",
    "    cld_proj = (img.select('clouds').directionalDistanceTransform(shadow_azimuth, CLD_PRJ_DIST*10)\n",
    "        .reproject(**{'crs': img.select(0).projection(), 'scale': 100})\n",
    "        .select('distance')\n",
    "        .mask()\n",
    "        .rename('cloud_transform'))\n",
    "\n",
    "    # Identify the intersection of dark pixels with cloud shadow projection.\n",
    "    shadows = cld_proj.multiply(dark_pixels).rename('shadows')\n",
    "\n",
    "    # Add dark pixels, cloud projection, and identified shadows as image bands.\n",
    "    return img.addBands(ee.Image([dark_pixels, cld_proj, shadows]))"
   ]
  },
  {
   "cell_type": "markdown",
   "metadata": {
    "id": "2rqSRgn1NfxZ"
   },
   "source": [
    "#### Final cloud-shadow mask\n",
    "\n",
    "Define a function to assemble all of the cloud and cloud shadow components and produce the final mask."
   ]
  },
  {
   "cell_type": "code",
   "execution_count": 15,
   "metadata": {
    "id": "VNP-VlmwccKG"
   },
   "outputs": [],
   "source": [
    "def add_cld_shdw_mask(img):\n",
    "    # Add cloud component bands.\n",
    "    img_cloud = add_cloud_bands(img)\n",
    "\n",
    "    # Add cloud shadow component bands.\n",
    "    img_cloud_shadow = add_shadow_bands(img_cloud)\n",
    "\n",
    "    # Combine cloud and shadow mask, set cloud and shadow as value 1, else 0.\n",
    "    is_cld_shdw = img_cloud_shadow.select('clouds').add(img_cloud_shadow.select('shadows')).gt(0)\n",
    "\n",
    "    # Remove small cloud-shadow patches and dilate remaining pixels by BUFFER input.\n",
    "    # 20 m scale is for speed, and assumes clouds don't require 10 m precision.\n",
    "    is_cld_shdw = (is_cld_shdw.focal_min(2).focal_max(BUFFER*2/20)\n",
    "        .reproject(**{'crs': img.select([0]).projection(), 'scale': 20})\n",
    "        .rename('cloudmask'))\n",
    "\n",
    "    # Add the final cloud-shadow mask to the image.\n",
    "    return img_cloud_shadow.addBands(is_cld_shdw)"
   ]
  },
  {
   "cell_type": "markdown",
   "metadata": {
    "id": "i0QbQoJ1jpHw"
   },
   "source": [
    "## Visualize and evaluate cloud mask components\n",
    "\n",
    "This section provides functions for displaying the cloud and cloud shadow components. In most cases, adding all components to images and viewing them is unnecessary. This section is included to illustrate how the cloud/cloud shadow mask is developed and demonstrate how to test and evaluate various parameters, which is helpful when defining masking variables for an unfamiliar region or time of year.\n",
    "\n",
    "In applications outside of this tutorial, if you prefer to include only the final cloud/cloud shadow mask along with the original image bands, replace:\n",
    "\n",
    "```\n",
    "return img_cloud_shadow.addBands(is_cld_shdw)\n",
    "```\n",
    "\n",
    "with\n",
    "\n",
    "```\n",
    "return img.addBands(is_cld_shdw)\n",
    "```\n",
    "\n",
    "in the above `add_cld_shdw_mask` function."
   ]
  },
  {
   "cell_type": "markdown",
   "metadata": {
    "id": "E_kxYHOAjvu2"
   },
   "source": [
    "### Define functions to display image and mask component layers.\n",
    "\n",
    "Folium will be used to display map layers. Import `folium` and define a method to display Earth Engine image tiles."
   ]
  },
  {
   "cell_type": "code",
   "execution_count": 16,
   "metadata": {
    "id": "JPjOhSvGZAY8"
   },
   "outputs": [],
   "source": [
    "# Import the folium library.\n",
    "import folium\n",
    "\n",
    "# Define a method for displaying Earth Engine image tiles to a folium map.\n",
    "def add_ee_layer(self, ee_image_object, vis_params, name, show=True, opacity=1, min_zoom=0):\n",
    "    map_id_dict = ee.Image(ee_image_object).getMapId(vis_params)\n",
    "    folium.raster_layers.TileLayer(\n",
    "        tiles=map_id_dict['tile_fetcher'].url_format,\n",
    "        attr='Map Data &copy; <a href=\"https://earthengine.google.com/\">Google Earth Engine</a>',\n",
    "        name=name,\n",
    "        show=show,\n",
    "        opacity=opacity,\n",
    "        min_zoom=min_zoom,\n",
    "        overlay=True,\n",
    "        control=True\n",
    "        ).add_to(self)\n",
    "\n",
    "# Add the Earth Engine layer method to folium.\n",
    "folium.Map.add_ee_layer = add_ee_layer"
   ]
  },
  {
   "cell_type": "markdown",
   "metadata": {
    "id": "6XqvR5-qQUpQ"
   },
   "source": [
    "Define a function to display all of the cloud and cloud shadow components to an interactive Folium map. The input is an image collection where each image is the result of the `add_cld_shdw_mask` function defined previously."
   ]
  },
  {
   "cell_type": "code",
   "execution_count": 17,
   "metadata": {
    "id": "9yow4KRVZGST"
   },
   "outputs": [],
   "source": [
    "def display_cloud_layers(col):\n",
    "    # Mosaic the image collection.\n",
    "    img = col.mosaic()\n",
    "\n",
    "    # Subset layers and prepare them for display.\n",
    "    clouds = img.select('clouds').selfMask()\n",
    "    shadows = img.select('shadows').selfMask()\n",
    "    dark_pixels = img.select('dark_pixels').selfMask()\n",
    "    probability = img.select('probability')\n",
    "    cloudmask = img.select('cloudmask').selfMask()\n",
    "    cloud_transform = img.select('cloud_transform')\n",
    "\n",
    "    # Create a folium map object.\n",
    "    center = AOI.centroid(10).coordinates().reverse().getInfo()\n",
    "    m = folium.Map(location=center, zoom_start=12, height=700)\n",
    "\n",
    "    # Add layers to the folium map.\n",
    "    m.add_ee_layer(img,\n",
    "                   {'bands': ['B4', 'B3', 'B2'], 'min': 0, 'max': 2500, 'gamma': 1.1},\n",
    "                   'S2 image', True, 1, 9)\n",
    "    m.add_ee_layer(probability,\n",
    "                   {'min': 0, 'max': 100},\n",
    "                   'probability (cloud)', False, 1, 9)\n",
    "    m.add_ee_layer(clouds,\n",
    "                   {'palette': 'e056fd'},\n",
    "                   'clouds', False, 1, 9)\n",
    "    m.add_ee_layer(cloud_transform,\n",
    "                   {'min': 0, 'max': 1, 'palette': ['white', 'black']},\n",
    "                   'cloud_transform', False, 1, 9)\n",
    "    m.add_ee_layer(dark_pixels,\n",
    "                   {'palette': 'orange'},\n",
    "                   'dark_pixels', False, 1, 9)\n",
    "    m.add_ee_layer(shadows, {'palette': 'yellow'},\n",
    "                   'shadows', False, 1, 9)\n",
    "    m.add_ee_layer(cloudmask, {'palette': 'orange'},\n",
    "                   'cloudmask', True, 0.5, 9)\n",
    "\n",
    "    # Add a layer control panel to the map.\n",
    "    m.add_child(folium.LayerControl())\n",
    "\n",
    "    # Display the map.\n",
    "    display(m)"
   ]
  },
  {
   "cell_type": "markdown",
   "metadata": {
    "id": "-yteWco7sgfW"
   },
   "source": [
    "### Display mask component layers\n",
    "\n",
    "Map the `add_cld_shdw_mask` function over the collection to add mask component bands to each image, then display the results.\n",
    "\n",
    "Give the system some time to render everything, it should take less than a minute."
   ]
  },
  {
   "cell_type": "code",
   "execution_count": 18,
   "metadata": {
    "id": "gvsULCqgdLHu"
   },
   "outputs": [
    {
     "data": {
      "text/html": [
       "<div style=\"width:100%;\"><div style=\"position:relative;width:100%;height:0;padding-bottom:60%;\"><iframe src=\"data:text/html;charset=utf-8;base64,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\" style=\"position:absolute;width:100%;height:100%;left:0;top:0;border:none !important;\" allowfullscreen webkitallowfullscreen mozallowfullscreen></iframe></div></div>"
      ],
      "text/plain": [
       "<folium.folium.Map at 0x10b8dffd0>"
      ]
     },
     "metadata": {},
     "output_type": "display_data"
    }
   ],
   "source": [
    "s2_sr_cld_col_eval_disp = s2_sr_cld_col_eval.map(add_cld_shdw_mask)\n",
    "\n",
    "display_cloud_layers(s2_sr_cld_col_eval_disp)"
   ]
  },
  {
   "cell_type": "markdown",
   "metadata": {
    "id": "HZAd5ZHWWZed"
   },
   "source": [
    "### Evaluate mask component layers\n",
    "\n",
    "In the above map, use the layer control panel in the upper right corner to toggle layers on and off; layer names are the same as band names, for easy code referral. Note that the layers have a minimum zoom level of 9 to avoid resource issues that can occur when visualizing layers that depend on the `ee.Image.reproject` function (used during cloud shadow project and mask dilation).\n",
    "\n",
    "Try changing the above `CLD_PRB_THRESH`, `NIR_DRK_THRESH`, `CLD_PRJ_DIST`, and `BUFFER` input variables and rerunning the previous cell to see how the results change. Find a good set of values for a given overpass and then try the procedure with a new overpass with different cloud conditions (this [S2 SR image browser app](https://showcase.earthengine.app/view/s2-sr-browser-s2cloudless-nb) is handy for quickly identifying images and determining image collection filter criteria). Try to identify a set of parameter values that balances cloud/cloud shadow commission and omission error for a range of cloud types. In the next section, we'll use the values to actually apply the mask to generate a cloud-free composite for 2020."
   ]
  },
  {
   "cell_type": "markdown",
   "metadata": {
    "id": "7iR3d7HCYf8j"
   },
   "source": [
    "## Apply cloud and cloud shadow mask\n",
    "\n",
    "In this section we'll generate a cloud-free composite for the same region as above that represents mean reflectance for July and August, 2020."
   ]
  },
  {
   "cell_type": "markdown",
   "metadata": {
    "id": "V1lnub3LNoiq"
   },
   "source": [
    "### Define collection filter and cloud mask parameters\n",
    "\n",
    "We'll redefine the parameters to be a little more aggressive, i.e. decrease the cloud probability threshold, increase the cloud projection distance, and increase the buffer. These changes will increase cloud commission error (mask out some clear pixels), but since we will be compositing images from three months, there should be plenty of observations to complete the mosaic."
   ]
  },
  {
   "cell_type": "code",
   "execution_count": 19,
   "metadata": {
    "id": "H_eDsLZ5Yzxh"
   },
   "outputs": [],
   "source": [
    "AOI = AOI = ee.Geometry.Polygon(bad_polygons[0])\n",
    "START_DATE = '2020-06-01'\n",
    "END_DATE = '2020-09-01'\n",
    "CLOUD_FILTER = 60\n",
    "CLD_PRB_THRESH = 40\n",
    "NIR_DRK_THRESH = 0.15\n",
    "CLD_PRJ_DIST = 2\n",
    "BUFFER = 100"
   ]
  },
  {
   "cell_type": "markdown",
   "metadata": {
    "id": "R6iuJ2FybAc_"
   },
   "source": [
    "### Build a Sentinel-2 collection\n",
    "\n",
    "Reassemble the S2-cloudless collection since the collection filter parameters have changed."
   ]
  },
  {
   "cell_type": "code",
   "execution_count": 20,
   "metadata": {
    "id": "AIk8xa0ImRTS"
   },
   "outputs": [],
   "source": [
    "s2_sr_cld_col = get_s2_sr_cld_col(AOI, START_DATE, END_DATE)"
   ]
  },
  {
   "cell_type": "markdown",
   "metadata": {
    "id": "iuJ-Ml9taz-i"
   },
   "source": [
    "### Define cloud mask application function\n",
    "\n",
    "Define a function to apply the cloud mask to each image in the collection."
   ]
  },
  {
   "cell_type": "code",
   "execution_count": 21,
   "metadata": {
    "id": "VyR9JYxbbJJQ"
   },
   "outputs": [],
   "source": [
    "def apply_cld_shdw_mask(img):\n",
    "    # Subset the cloudmask band and invert it so clouds/shadow are 0, else 1.\n",
    "    not_cld_shdw = img.select('cloudmask').Not()\n",
    "\n",
    "    # Subset reflectance bands and update their masks, return the result.\n",
    "    return img.select('B.*').updateMask(not_cld_shdw)"
   ]
  },
  {
   "cell_type": "markdown",
   "metadata": {
    "id": "8dT3EWPqcOkA"
   },
   "source": [
    "### Process the collection\n",
    "\n",
    "Add cloud and cloud shadow component bands to each image and then apply the mask to each image. Reduce the collection by median (in your application, you might consider using medoid reduction to build a composite from actual data values, instead of per-band statistics)."
   ]
  },
  {
   "cell_type": "code",
   "execution_count": 22,
   "metadata": {
    "id": "G2XogQYycO53"
   },
   "outputs": [],
   "source": [
    "s2_sr_median = (s2_sr_cld_col.map(add_cld_shdw_mask)\n",
    "                             .map(apply_cld_shdw_mask)\n",
    "                             .median())"
   ]
  },
  {
   "cell_type": "markdown",
   "metadata": {
    "id": "nYS9EV_Mc-2_"
   },
   "source": [
    "### Display the cloud-free composite\n",
    "\n",
    "Display the results. Be patient while the map renders, it may take a minute; [`ee.Image.reproject`](https://developers.google.com/earth-engine/guides/projections#reprojecting) is forcing computations to happen at 100 and 20 m scales (i.e. it is not relying on appropriate pyramid level [scales for analysis](https://developers.google.com/earth-engine/guides/scale#scale-of-analysis)). The issues with `ee.Image.reproject` being resource-intensive in this case are mostly confined to interactive map viewing. Batch image [exports](https://developers.google.com/earth-engine/guides/exporting) and table reduction exports where the `scale` parameter is set to typical Sentinel-2 scales (10-60 m) are less affected.\n",
    "\n"
   ]
  },
  {
   "cell_type": "code",
   "execution_count": 23,
   "metadata": {
    "id": "hMObmv_tdLaX"
   },
   "outputs": [
    {
     "data": {
      "text/html": [
       "<div style=\"width:100%;\"><div style=\"position:relative;width:100%;height:0;padding-bottom:60%;\"><iframe src=\"data:text/html;charset=utf-8;base64,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\" style=\"position:absolute;width:100%;height:100%;left:0;top:0;border:none !important;\" allowfullscreen webkitallowfullscreen mozallowfullscreen></iframe></div></div>"
      ],
      "text/plain": [
       "<folium.folium.Map at 0x10b4ad100>"
      ]
     },
     "metadata": {},
     "output_type": "display_data"
    }
   ],
   "source": [
    "# Create a folium map object.\n",
    "center = AOI.centroid(10).coordinates().reverse().getInfo()\n",
    "m = folium.Map(location=center, zoom_start=12, height=700)\n",
    "\n",
    "# Add layers to the folium map.\n",
    "m.add_ee_layer(s2_sr_median,\n",
    "                {'bands': ['B4', 'B3', 'B2'], 'min': 0, 'max': 2500, 'gamma': 1.1},\n",
    "                'S2 cloud-free mosaic', True, 1, 9)\n",
    "\n",
    "# Add a layer control panel to the map.\n",
    "m.add_child(folium.LayerControl())\n",
    "\n",
    "# Display the map.\n",
    "display(m)"
   ]
  },
  {
   "cell_type": "markdown",
   "metadata": {
    "id": "PuqD4vNyo-aF"
   },
   "source": [
    "Hopefully you now have a good sense for Sentinel-2 cloud masking in the cloud 😉 with Earth Engine."
   ]
  },
  {
   "cell_type": "code",
   "execution_count": 25,
   "metadata": {},
   "outputs": [],
   "source": [
    "# {'bucket': 'project_canopy_temp', 'resolution': 10, 'filename': '1_full_polygon_test_Nov_12_16:24:31_2020', \n",
    "#  'dest_path': 'S2_CloudFree/full_polygon_test/1_full_polygon_test_Nov_12_16:24:31_2020', 'img': <ee.image.Image object at 0x1409a65b0>, \n",
    "#  'roi': [[[9.088783, 5.753152], [9.179249, 5.703106], [9.248257, 5.792946], [9.236069, 5.845887], [9.090672, 5.844009], [9.088783, 5.753152]]], \n",
    "#  'sensor_name': 'copernicus/s2_sr'}\n",
    "\n",
    "\n",
    "export = ee.batch.Export.image.toCloudStorage(\n",
    "  image=s2_sr_median,\n",
    "  description=\"s2cloudless_test\",\n",
    "  scale=10,\n",
    "  region=[[[9.088783, 5.753152], [9.179249, 5.703106], [9.248257, 5.792946], [9.236069, 5.845887], [9.090672, 5.844009], [9.088783, 5.753152]]],\n",
    "  fileNamePrefix='S2_CloudFree/s2cloudless_test/',\n",
    "  bucket='project_canopy_temp',\n",
    "  maxPixels=1e13\n",
    ")\n",
    "\n",
    "\n",
    "\n"
   ]
  },
  {
   "cell_type": "code",
   "execution_count": 30,
   "metadata": {},
   "outputs": [],
   "source": [
    "export.start()"
   ]
  },
  {
   "cell_type": "code",
   "execution_count": null,
   "metadata": {},
   "outputs": [
    {
     "name": "stdout",
     "output_type": "stream",
     "text": [
      "{'state': 'READY', 'description': 's2cloudless_test', 'creation_timestamp_ms': 1605216567945, 'update_timestamp_ms': 1605216567945, 'start_timestamp_ms': 0, 'task_type': 'EXPORT_IMAGE', 'id': 'MOAQEOWDSX6I7VQ67B3ABJKX', 'name': 'projects/earthengine-legacy/operations/MOAQEOWDSX6I7VQ67B3ABJKX'}\r"
     ]
    }
   ],
   "source": [
    "while export.active():\n",
    "    print(export.status(), end=\"\\r\", flush=True)"
   ]
  },
  {
   "cell_type": "code",
   "execution_count": null,
   "metadata": {},
   "outputs": [],
   "source": []
  }
 ],
 "metadata": {
  "colab": {
   "collapsed_sections": [],
   "name": "Sentinel-2 Cloud Masking with s2cloudless",
   "provenance": []
  },
  "kernelspec": {
   "display_name": "gee-conda",
   "language": "python",
   "name": "gee-conda"
  },
  "language_info": {
   "codemirror_mode": {
    "name": "ipython",
    "version": 3
   },
   "file_extension": ".py",
   "mimetype": "text/x-python",
   "name": "python",
   "nbconvert_exporter": "python",
   "pygments_lexer": "ipython3",
   "version": "3.8.6"
  }
 },
 "nbformat": 4,
 "nbformat_minor": 4
}
