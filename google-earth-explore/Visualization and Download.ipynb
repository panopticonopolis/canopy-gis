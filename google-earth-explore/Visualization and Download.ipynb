{
 "cells": [
  {
   "cell_type": "code",
   "execution_count": 70,
   "metadata": {},
   "outputs": [],
   "source": [
    "import ee\n",
    "import geemap\n",
    "import os\n",
    "import shapely\n",
    "import json\n",
    "import mgrs\n",
    "import pandas as pd\n",
    "import ipywidgets\n",
    "import folium\n",
    "import geemap.eefolium as gmap\n",
    "import traceback"
   ]
  },
  {
   "cell_type": "markdown",
   "metadata": {},
   "source": [
    "# Initialize Map Object"
   ]
  },
  {
   "cell_type": "code",
   "execution_count": 71,
   "metadata": {},
   "outputs": [],
   "source": [
    "ee.Initialize()"
   ]
  },
  {
   "cell_type": "code",
   "execution_count": 3,
   "metadata": {},
   "outputs": [],
   "source": [
    "Map = gmap.Map()"
   ]
  },
  {
   "cell_type": "markdown",
   "metadata": {},
   "source": [
    "# Import Polygons"
   ]
  },
  {
   "cell_type": "code",
   "execution_count": 4,
   "metadata": {},
   "outputs": [],
   "source": [
    "def import_aois(csv_loc):    \n",
    "\n",
    "        df_labels = pd.read_csv(csv_loc)\n",
    "        df_labels = df_labels[[\"center-lat\",\"center-long\",\"polygon\",\"Labels combined\"]]\n",
    "\n",
    "        polygons = []\n",
    "        for polygon in df_labels[\"polygon\"]:\n",
    "            polygons.append(json.loads(polygon)[\"coordinates\"])\n",
    "\n",
    "\n",
    "        tiles = []\n",
    "        tiles_dic = {}\n",
    "        polygon_id = 0 \n",
    "        coordinates = []\n",
    "        m = mgrs.MGRS()\n",
    "        for items in polygons:\n",
    "            polygon_id += 1 \n",
    "            for item in items:\n",
    "                for lon_lat in item:\n",
    "                    coordinates.append(lon_lat)\n",
    "                    c = m.toMGRS(lon_lat[1], lon_lat[0])\n",
    "                    tile = c[0:5]\n",
    "                    \n",
    "\n",
    "                    if polygon_id in tiles_dic:\n",
    "\n",
    "                        tiles_dic[polygon_id].append(tile)\n",
    "\n",
    "                    else:\n",
    "\n",
    "                        tiles_dic[polygon_id] = [tile]\n",
    "\n",
    "                    tiles.append(tile)\n",
    "\n",
    "                tiles_dic[polygon_id] = list(set(tiles_dic[polygon_id]))\n",
    "\n",
    "        tiles = list(set(tiles))\n",
    "\n",
    "        df_labels[\"tiles\"] = tiles_dic.values()\n",
    "\n",
    "        #bounding box\n",
    "\n",
    "        min_lon = min([i[0] for i in coordinates])\n",
    "        min_lat = min([i[1] for i in coordinates])\n",
    "        max_lon = max([i[0] for i in coordinates])\n",
    "        max_lat = max([i[1] for i in coordinates])\n",
    "\n",
    "        bounding_box = min_lon,min_lat,max_lon,max_lat\n",
    "        \n",
    "        return polygons"
   ]
  },
  {
   "cell_type": "code",
   "execution_count": 5,
   "metadata": {},
   "outputs": [
    {
     "name": "stderr",
     "output_type": "stream",
     "text": [
      "/Users/purgatorid/opt/anaconda3/envs/gee-conda/lib/python3.8/site-packages/numpy/core/_asarray.py:83: VisibleDeprecationWarning: Creating an ndarray from ragged nested sequences (which is a list-or-tuple of lists-or-tuples-or ndarrays with different lengths or shapes) is deprecated. If you meant to do this, you must specify 'dtype=object' when creating the ndarray\n",
      "  return array(a, dtype, copy=False, order=order)\n"
     ]
    }
   ],
   "source": [
    "polygons = import_aois(\"/Volumes/Lacie/zhenyadata/Project_Canopy_Data/PC_Data/Sentinel_Data/Labelled/Tiles_v3/Polygon_List/polygons_101320.csv\")"
   ]
  },
  {
   "cell_type": "code",
   "execution_count": 6,
   "metadata": {
    "tags": []
   },
   "outputs": [
    {
     "name": "stdout",
     "output_type": "stream",
     "text": [
      "lng = 9.163954053102769, lat = 5.7876496002257225\n",
      "Count:  7\n",
      "Added Image ID 1\n",
      "lng = 8.920994498773, lat = 5.752791089641022\n",
      "Count:  7\n",
      "Added Image ID 2\n",
      "lng = 13.198437170573584, lat = 5.597060007220655\n",
      "Count:  17\n",
      "Added Image ID 3\n",
      "found 0 polygons without a corresponding image collection\n"
     ]
    },
    {
     "data": {
      "text/html": [
       "<div style=\"width:100%;\"><div style=\"position:relative;width:100%;height:0;padding-bottom:60%;\"><iframe src=\"data:text/html;charset=utf-8;base64,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\" style=\"position:absolute;width:100%;height:100%;left:0;top:0;border:none !important;\" allowfullscreen webkitallowfullscreen mozallowfullscreen></iframe></div></div>"
      ],
      "text/plain": [
       "<geemap.eefolium.Map at 0x1404e8730>"
      ]
     },
     "execution_count": 6,
     "metadata": {},
     "output_type": "execute_result"
    }
   ],
   "source": [
    "Map = gmap.Map()\n",
    "\n",
    "# start and end of time series\n",
    "startDate = ee.Date('2020-01-01')\n",
    "stopDate  = ee.Date('2020-12-31')\n",
    "TCI_RGB = ['TCI_R', 'TCI_G', 'TCI_B']\n",
    "count_loop = 0\n",
    "count_bad = 0  \n",
    "good_images = []\n",
    "good_dict = {}\n",
    "feature_id = 0 \n",
    "features = []\n",
    "\n",
    "\n",
    "for poly in polygons[0:3]:\n",
    "    Map = gmap.Map()\n",
    "    # create an roi. first item in Misha's label list\n",
    "    feature_id += 1 \n",
    "    \n",
    "    # create geometry object, create feature object, append to features list for feature collection creation \n",
    "    polys = ee.Geometry.Polygon(poly)\n",
    "    feature = ee.Feature(polys,{\"name\":feature_id})\n",
    "    features.append(feature)\n",
    "    \n",
    "    centroid = polys.centroid()\n",
    "    lng, lat = centroid.getInfo()['coordinates']\n",
    "    print(\"lng = {}, lat = {}\".format(lng, lat))\n",
    "    Map.setCenter(lng, lat, 12)\n",
    "\n",
    "    # Add Earth Engine dataset\n",
    "    # Sentinel 2 L2A ImageCollection\n",
    "    # filter by bounds and data\n",
    "    collection = ee.ImageCollection('COPERNICUS/S2_SR')\\\n",
    "        .filterBounds(polys)\\\n",
    "        .filterDate(startDate,stopDate)\\\n",
    "        .filter(ee.Filter.lt(\"CLOUDY_PIXEL_PERCENTAGE\",5))\\\n",
    "        .sort('CLOUD_COVER',True)\\\n",
    "        .select(TCI_RGB)\n",
    "    \n",
    "\n",
    "    # use only first image from collection\n",
    "    img = ee.Image(collection.first())\n",
    "    \n",
    "    # clip image to the specific geometry\n",
    "    img = img.clip(polys)\n",
    "\n",
    "    # use the mean image - would require clipping image again\n",
    "#     collection_mean = collection.mean()\n",
    "\n",
    "\n",
    "    # print out the number of images in the ImageCollection\n",
    "    count = collection.size().getInfo()\n",
    "    print(\"Count: \", count)\n",
    "    \n",
    "    # viz params\n",
    "    vis = {'bands': TCI_RGB, \"gamma\": [2, 2, 2]}\n",
    "    \n",
    "    count_loop += 1\n",
    "    \n",
    "    # if more than zero in the image collection\n",
    "    if count > 0:\n",
    "#         Map.addLayer(img,vis, f\"Image ID {count_loop}\")\n",
    "        # Map.addLayer(collection,vis,\"Original Collection\")\n",
    "        # Map.addLayer(collection_mean,vis, \"Collection Mean\")\n",
    "        good_images.append(img)\n",
    "        print(f\"Added Image ID {count_loop}\")\n",
    "    \n",
    "    else:\n",
    "        count_bad += 1 \n",
    "        continue\n",
    "\n",
    "    \n",
    "\n",
    "print(f'found {count_bad} polygons without a corresponding image collection')\n",
    "\n",
    "\n",
    "# Create custom collection with list of images for DL\n",
    "custom_collection = ee.ImageCollection.fromImages(good_images)\n",
    "Map.addLayer(custom_collection, vis)\n",
    "image_dl_list = custom_collection.toList(105)\n",
    "\n",
    "# add all polygon features to map\n",
    "\n",
    "fc = ee.FeatureCollection(features)\n",
    "Map.add_layer(fc, {}, 'default display')\n",
    "\n",
    "Map"
   ]
  },
  {
   "cell_type": "code",
   "execution_count": 16,
   "metadata": {},
   "outputs": [
    {
     "name": "stdout",
     "output_type": "stream",
     "text": [
      "Image to Download: 20200105T094309_20200105T095703_T32NNM\n",
      "Image to Download: 20200105T094309_20200105T095703_T32NMM\n",
      "Image to Download: 20200104T092401_20200104T093437_T33NTG\n",
      "Image to Download: 20200104T092401_20200104T093437_T33NVF\n",
      "Image to Download: 20200104T092401_20200104T093437_T33NTF\n",
      "Image to Download: 20200105T094309_20200105T095703_T32NML\n",
      "Image to Download: 20200104T092401_20200104T093437_T33NUF\n",
      "Image to Download: 20200104T092401_20200104T093437_T33NVF\n",
      "Image to Download: 20200107T093351_20200107T094442_T32NRL\n",
      "Image to Download: 20200107T093351_20200107T094442_T32NRL\n",
      "Image to Download: 20200114T092331_20200114T093418_T33NVE\n",
      "Image to Download: 20200105T094309_20200105T095703_T32NML\n",
      "Image to Download: 20200114T092331_20200114T093418_T33NVE\n",
      "Image to Download: 20200213T092101_20200213T093321_T32NRK\n",
      "Image to Download: 20200205T091049_20200205T091719_T33NWE\n",
      "Image to Download: 20200205T091049_20200205T091719_T33NWE\n",
      "Image to Download: 20200205T091049_20200205T091719_T33NXE\n",
      "Image to Download: 20200205T091049_20200205T091719_T33NWE\n",
      "Image to Download: 20200127T093241_20200127T094438_T32NRK\n",
      "Image to Download: 20200114T092331_20200114T093418_T33NUD\n",
      "Image to Download: 20200114T092331_20200114T093418_T33NUD\n",
      "Image to Download: 20200113T090229_20200113T091351_T33NZD\n",
      "Image to Download: 20200111T091341_20200111T092435_T33NXD\n",
      "Image to Download: 20200126T091139_20200126T091912_T33NWD\n",
      "Image to Download: 20200113T090229_20200113T091351_T33NYD\n",
      "Image to Download: 20200114T092331_20200114T093418_T33NVD\n",
      "Image to Download: 20200104T092401_20200104T093437_T32NRJ\n",
      "Image to Download: 20200114T092331_20200114T093418_T33NUD\n",
      "Image to Download: 20200113T090229_20200113T091351_T33NYD\n",
      "Image to Download: 20200104T092401_20200104T093437_T32NRJ\n",
      "Image to Download: 20200104T092401_20200104T093437_T32NRJ\n",
      "Image to Download: 20200425T090549_20200425T092712_T33NVD\n",
      "Image to Download: 20200114T092331_20200114T093418_T33NUD\n",
      "Image to Download: 20200114T092331_20200114T093418_T33NUD\n",
      "Image to Download: 20200114T092331_20200114T093418_T33NUD\n",
      "Image to Download: 20200113T090229_20200113T091351_T33NYD\n",
      "Image to Download: 20200114T092331_20200114T093418_T33NUD\n",
      "Image to Download: 20200111T091341_20200111T092435_T33NXD\n",
      "Image to Download: 20200111T091341_20200111T092435_T33NWC\n",
      "Image to Download: 20200111T091341_20200111T092435_T33NVC\n",
      "Image to Download: 20200213T092101_20200213T093321_T33NTD\n",
      "Image to Download: 20200111T091341_20200111T092435_T33NWC\n",
      "Image to Download: 20200111T091341_20200111T092435_T33NVC\n",
      "Image to Download: 20200113T090229_20200113T091351_T33NYC\n",
      "Image to Download: 20200113T090229_20200113T091351_T33NYC\n",
      "Image to Download: 20200104T092401_20200104T093437_T32NQH\n",
      "Image to Download: 20200104T092401_20200104T093437_T32NRH\n",
      "Image to Download: 20200113T090229_20200113T091351_T33NYC\n",
      "Image to Download: 20200115T085311_20200115T090410_T34NCH\n",
      "Image to Download: 20200115T085311_20200115T090410_T34NDH\n",
      "Image to Download: 20200115T085311_20200115T090410_T34NDH\n",
      "Image to Download: 20200115T085311_20200115T090410_T34NDH\n",
      "Image to Download: 20200111T091341_20200111T092435_T33NVC\n",
      "Image to Download: 20200115T085311_20200115T090410_T34NDH\n",
      "Image to Download: 20200113T090229_20200113T091351_T33NYC\n",
      "Image to Download: 20200115T085311_20200115T090410_T34NDH\n",
      "Image to Download: 20200115T085311_20200115T090410_T34NCH\n",
      "Image to Download: 20200104T092401_20200104T093437_T32NQH\n",
      "Image to Download: 20200108T090341_20200108T091424_T33NXC\n",
      "Image to Download: 20200115T085311_20200115T090410_T34NCH\n",
      "Image to Download: 20200124T092251_20200124T093439_T33NUC\n",
      "Image to Download: 20200127T084119_20200127T085331_T34NFH\n",
      "Image to Download: 20200124T092251_20200124T093439_T33NUC\n",
      "Image to Download: 20200124T092251_20200124T093439_T33NUC\n",
      "Image to Download: 20200127T084119_20200127T085331_T34NFG\n",
      "Image to Download: 20200111T091341_20200111T092435_T33NXB\n",
      "Image to Download: 20200127T084119_20200127T085331_T34NFG\n",
      "Image to Download: 20200108T090341_20200108T091424_T33NXB\n",
      "Image to Download: 20200112T093249_20200112T094228_T32NPG\n",
      "Image to Download: 20200113T090229_20200113T091351_T33NYB\n",
      "Image to Download: 20200112T093249_20200112T094228_T32NPG\n",
      "Image to Download: 20200127T084119_20200127T085331_T34NGG\n",
      "Image to Download: 20200112T093249_20200112T094228_T32NPG\n",
      "Image to Download: 20200111T091341_20200111T092435_T33NWB\n",
      "Image to Download: 20200108T090341_20200108T091424_T33NXB\n",
      "Image to Download: 20200114T083219_20200114T084628_T35NLB\n",
      "Image to Download: 20200115T085311_20200115T090410_T34NDF\n",
      "Image to Download: 20200115T085311_20200115T090410_T34NCG\n",
      "Image to Download: 20200115T085311_20200115T090410_T34NDF\n",
      "Image to Download: 20200106T091249_20200106T092711_T33NWA\n",
      "Image to Download: 20200111T091341_20200111T092435_T33NVA\n",
      "Image to Download: 20200106T091249_20200106T092711_T33NWA\n",
      "Image to Download: 20200111T091341_20200111T092435_T33NVA\n",
      "Image to Download: 20200111T091341_20200111T092435_T33NVA\n",
      "Image to Download: 20200215T091019_20200215T092112_T33MVV\n",
      "Image to Download: 20200215T091019_20200215T092112_T33MVV\n",
      "Image to Download: 20200115T085311_20200115T090410_T34MCE\n",
      "Image to Download: 20200115T085311_20200115T090410_T34MCE\n",
      "Image to Download: 20200113T090229_20200113T091351_T33MZT\n",
      "Image to Download: 20200115T085311_20200115T090410_T33MZT\n",
      "Image to Download: 20200115T085311_20200115T090410_T33MZT\n",
      "Image to Download: 20200115T085311_20200115T090410_T34MBC\n",
      "Image to Download: 20200113T090229_20200113T091351_T33MZT\n",
      "Image to Download: 20200113T090229_20200113T091351_T33MZS\n",
      "Image to Download: 20200115T085311_20200115T090410_T34MBB\n",
      "Image to Download: 20200115T085311_20200115T090410_T34MBB\n",
      "Image to Download: 20200115T085311_20200115T090410_T34MBB\n",
      "Image to Download: 20200115T085311_20200115T090410_T33MZS\n"
     ]
    }
   ],
   "source": [
    "RGB = ['TCI_R', 'TCI_G', 'TCI_B']\n",
    "\n",
    "# Download the specific image\n",
    "# for image_obj in range(len(good_images)):\n",
    "for i in range(len(good_images)):\n",
    "    downConfig = {'scale': 10, \"maxPixels\": 1.0E13, 'driveFolder': 'image3',\"driveFileNamePrefix\":str(i)}  # scale means resolution.\n",
    "    image_to_dl = ee.Image(image_dl_list.get(i))\n",
    "    # img_2 = image_to_dl.select('B.+')\n",
    "    img_2 = image_to_dl.select(RGB)\n",
    "    name = img_2.getInfo()[\"id\"].split(\"/\")[-1]\n",
    "    print(\"Image to Download:\",name)\n",
    "    task = ee.batch.Export.image(img_2, name, downConfig)\n",
    "    task.start()\n",
    "\n",
    "while task.status()[\"state\"] == 'RUNNING':\n",
    "    print(task.status(), end=\"\\r\", flush=True)"
   ]
  },
  {
   "cell_type": "markdown",
   "metadata": {},
   "source": [
    "# Sandbox"
   ]
  },
  {
   "cell_type": "code",
   "execution_count": 37,
   "metadata": {},
   "outputs": [],
   "source": [
    "ee.Initialize()"
   ]
  },
  {
   "cell_type": "code",
   "execution_count": 44,
   "metadata": {},
   "outputs": [],
   "source": [
    "def import_aois(csv_loc):    \n",
    "\n",
    "        df_labels = pd.read_csv(csv_loc)\n",
    "        df_labels = df_labels[[\"center-lat\",\"center-long\",\"polygon\",\"Labels combined\"]]\n",
    "\n",
    "        polygons = []\n",
    "        for polygon in df_labels[\"polygon\"]:\n",
    "            polygons.append(json.loads(polygon)[\"coordinates\"])\n",
    "\n",
    "\n",
    "        tiles = []\n",
    "        tiles_dic = {}\n",
    "        polygon_id = 0 \n",
    "        coordinates = []\n",
    "        m = mgrs.MGRS()\n",
    "        for items in polygons:\n",
    "            polygon_id += 1 \n",
    "            for item in items:\n",
    "                for lon_lat in item:\n",
    "                    coordinates.append(lon_lat)\n",
    "                    c = m.toMGRS(lon_lat[1], lon_lat[0])\n",
    "                    tile = c[0:5]\n",
    "                    \n",
    "\n",
    "                    if polygon_id in tiles_dic:\n",
    "\n",
    "                        tiles_dic[polygon_id].append(tile)\n",
    "\n",
    "                    else:\n",
    "\n",
    "                        tiles_dic[polygon_id] = [tile]\n",
    "\n",
    "                    tiles.append(tile)\n",
    "\n",
    "                tiles_dic[polygon_id] = list(set(tiles_dic[polygon_id]))\n",
    "\n",
    "        tiles = list(set(tiles))\n",
    "\n",
    "#         df_labels[\"tiles\"] = tiles_dic.values()\n",
    "\n",
    "        #bounding box\n",
    "\n",
    "        min_lon = min([i[0] for i in coordinates])\n",
    "        min_lat = min([i[1] for i in coordinates])\n",
    "        max_lon = max([i[0] for i in coordinates])\n",
    "        max_lat = max([i[1] for i in coordinates])\n",
    "\n",
    "        bounding_box = min_lon,min_lat,max_lon,max_lat\n",
    "        \n",
    "        return polygons[0:1]"
   ]
  },
  {
   "cell_type": "code",
   "execution_count": 45,
   "metadata": {},
   "outputs": [],
   "source": [
    "polygons = import_aois(\"/Volumes/Lacie/zhenyadata/Project_Canopy_Data/PC_Data/Sentinel_Data/Labelled/Tiles_v3/Polygon_List/polygons_101320.csv\")"
   ]
  },
  {
   "cell_type": "code",
   "execution_count": 47,
   "metadata": {},
   "outputs": [
    {
     "data": {
      "text/plain": [
       "[[[[9.088783, 5.753152],\n",
       "   [9.179249, 5.703106],\n",
       "   [9.248257, 5.792946],\n",
       "   [9.236069, 5.845887],\n",
       "   [9.090672, 5.844009],\n",
       "   [9.088783, 5.753152]]]]"
      ]
     },
     "execution_count": 47,
     "metadata": {},
     "output_type": "execute_result"
    }
   ],
   "source": [
    "polygons"
   ]
  },
  {
   "cell_type": "code",
   "execution_count": 81,
   "metadata": {},
   "outputs": [
    {
     "name": "stdout",
     "output_type": "stream",
     "text": [
      "lng = 9.163954053102769, lat = 5.7876496002257225\n"
     ]
    }
   ],
   "source": [
    "# Map = gmap.Map()\n",
    "\n",
    "# start and end of time series\n",
    "startDate = ee.Date('2020-01-01')\n",
    "stopDate  = ee.Date('2020-12-31')\n",
    "TCI_RGB = ['TCI_R', 'TCI_G', 'TCI_B']\n",
    "count_loop = 0\n",
    "count_bad = 0  \n",
    "good_images = []\n",
    "good_dict = {}\n",
    "feature_id = 0 \n",
    "features = []\n",
    "img_objs = []\n",
    "\n",
    "\n",
    "for poly in polygons[0:1]:\n",
    "#     Map = gmap.Map()\n",
    "    # create an roi. first item in Misha's label list\n",
    "    feature_id += 1 \n",
    "    \n",
    "    # create geometry object, create feature object, append to features list for feature collection creation \n",
    "    polys = ee.Geometry.Polygon(poly)\n",
    "    feature = ee.Feature(polys,{\"name\":feature_id})\n",
    "    features.append(feature)\n",
    "    \n",
    "    centroid = polys.centroid()\n",
    "    lng, lat = centroid.getInfo()['coordinates']\n",
    "    print(\"lng = {}, lat = {}\".format(lng, lat))\n",
    "    Map.setCenter(lng, lat, 12)\n",
    "    \n",
    "    \n",
    "    sensor_list = ['COPERNICUS/S2','COPERNICUS/S2_SR']\n",
    "    for sensor in sensor_list:\n",
    "        # Add Earth Engine dataset\n",
    "        # Sentinel 2 L2A ImageCollection\n",
    "        # filter by bounds and data\n",
    "        collection = ee.ImageCollection(sensor)\\\n",
    "            .filterBounds(polys)\\\n",
    "            .filterDate(startDate,stopDate)\\\n",
    "            .filter(ee.Filter.lt(\"CLOUDY_PIXEL_PERCENTAGE\",5))\\\n",
    "            .sort('CLOUD_COVER',True)\n",
    "\n",
    "\n",
    "        # use only first image from collection\n",
    "        img = ee.Image(collection.first())\n",
    "\n",
    "        # clip image to the specific geometry\n",
    "        img = img.clip(polys)\n",
    "        img_objs.append(img)"
   ]
  },
  {
   "cell_type": "code",
   "execution_count": 101,
   "metadata": {},
   "outputs": [
    {
     "name": "stdout",
     "output_type": "stream",
     "text": [
      "\"{'type': 'Image', 'bands': [{'id': 'B1', 'data_type': {'type': 'PixelType', 'precision': 'int', 'min': 0, 'max': 65535}, 'dimensions': [295, 264], 'origin': [164, 897], 'crs': 'EPSG:32632', 'crs_transform': [60, 0, 499980, 0, -60, 700020]}, {'id': 'B2', 'data_type': {'type': 'PixelType', 'precision': 'int', 'min': 0, 'max': 65535}, 'dimensions': [1767, 1580], 'origin': [984, 5384], 'crs': 'EPSG:32632', 'crs_transform': [10, 0, 499980, 0, -10, 700020]}, {'id': 'B3', 'data_type': {'type': 'PixelType', 'precision': 'int', 'min': 0, 'max': 65535}, 'dimensions': [1767, 1580], 'origin': [984, 5384], 'crs': 'EPSG:32632', 'crs_transform': [10, 0, 499980, 0, -10, 700020]}, {'id': 'B4', 'data_type': {'type': 'PixelType', 'precision': 'int', 'min': 0, 'max': 65535}, 'dimensions': [1767, 1580], 'origin': [984, 5384], 'crs': 'EPSG:32632', 'crs_transform': [10, 0, 499980, 0, -10, 700020]}, {'id': 'B5', 'data_type': {'type': 'PixelType', 'precision': 'int', 'min': 0, 'max': 65535}, 'dimensions': [884, 790], 'origin': [492, 2692], 'crs': 'EPSG:32632', 'crs_transform': [20, 0, 499980, 0, -20, 700020]}, {'id': 'B6', 'data_type': {'type': 'PixelType', 'precision': 'int', 'min': 0, 'max': 65535}, 'dimensions': [884, 790], 'origin': [492, 2692], 'crs': 'EPSG:32632', 'crs_transform': [20, 0, 499980, 0, -20, 700020]}, {'id': 'B7', 'data_type': {'type': 'PixelType', 'precision': 'int', 'min': 0, 'max': 65535}, 'dimensions': [884, 790], 'origin': [492, 2692], 'crs': 'EPSG:32632', 'crs_transform': [20, 0, 499980, 0, -20, 700020]}, {'id': 'B8', 'data_type': {'type': 'PixelType', 'precision': 'int', 'min': 0, 'max': 65535}, 'dimensions': [1767, 1580], 'origin': [984, 5384], 'crs': 'EPSG:32632', 'crs_transform': [10, 0, 499980, 0, -10, 700020]}, {'id': 'B8A', 'data_type': {'type': 'PixelType', 'precision': 'int', 'min': 0, 'max': 65535}, 'dimensions': [884, 790], 'origin': [492, 2692], 'crs': 'EPSG:32632', 'crs_transform': [20, 0, 499980, 0, -20, 700020]}, {'id': 'B9', 'data_type': {'type': 'PixelType', 'precision': 'int', 'min': 0, 'max': 65535}, 'dimensions': [295, 264], 'origin': [164, 897], 'crs': 'EPSG:32632', 'crs_transform': [60, 0, 499980, 0, -60, 700020]}, {'id': 'B10', 'data_type': {'type': 'PixelType', 'precision': 'int', 'min': 0, 'max': 65535}, 'dimensions': [295, 264], 'origin': [164, 897], 'crs': 'EPSG:32632', 'crs_transform': [60, 0, 499980, 0, -60, 700020]}, {'id': 'B11', 'data_type': {'type': 'PixelType', 'precision': 'int', 'min': 0, 'max': 65535}, 'dimensions': [884, 790], 'origin': [492, 2692], 'crs': 'EPSG:32632', 'crs_transform': [20, 0, 499980, 0, -20, 700020]}, {'id': 'B12', 'data_type': {'type': 'PixelType', 'precision': 'int', 'min': 0, 'max': 65535}, 'dimensions': [884, 790], 'origin': [492, 2692], 'crs': 'EPSG:32632', 'crs_transform': [20, 0, 499980, 0, -20, 700020]}, {'id': 'QA10', 'data_type': {'type': 'PixelType', 'precision': 'int', 'min': 0, 'max': 65535}, 'dimensions': [1767, 1580], 'origin': [984, 5384], 'crs': 'EPSG:32632', 'crs_transform': [10, 0, 499980, 0, -10, 700020]}, {'id': 'QA20', 'data_type': {'type': 'PixelType', 'precision': 'int', 'min': 0, 'max': 4294967295}, 'dimensions': [884, 790], 'origin': [492, 2692], 'crs': 'EPSG:32632', 'crs_transform': [20, 0, 499980, 0, -20, 700020]}, {'id': 'QA60', 'data_type': {'type': 'PixelType', 'precision': 'int', 'min': 0, 'max': 65535}, 'dimensions': [295, 264], 'origin': [164, 897], 'crs': 'EPSG:32632', 'crs_transform': [60, 0, 499980, 0, -60, 700020]}], 'id': 'COPERNICUS/S2/20200105T094309_20200105T095703_T32NNM', 'version': 1578292702865577, 'properties': {'system:footprint': {'type': 'Polygon', 'coordinates': [[[9.088783, 5.753151999999999], [9.179248999999999, 5.703106], [9.248257000000002, 5.792946], [9.236069, 5.845887000000001], [9.090672, 5.844009], [9.088783, 5.753151999999999]]]}, 'DATATAKE_IDENTIFIER': 'GS2B_20200105T094309_014791_N02.08', 'SPACECRAFT_NAME': 'Sentinel-2B', 'MEAN_INCIDENCE_AZIMUTH_ANGLE_B8A': 283.354926056, 'MEAN_SOLAR_AZIMUTH_ANGLE': 143.643657178, 'SOLAR_IRRADIANCE_B12': 87.75, 'SOLAR_IRRADIANCE_B10': 365.41, 'SENSOR_QUALITY': 'PASSED', 'SOLAR_IRRADIANCE_B11': 247.08, 'GENERATION_TIME': 1578223969000, 'SOLAR_IRRADIANCE_B8A': 953.93, 'FORMAT_CORRECTNESS': 'PASSED', 'CLOUD_COVERAGE_ASSESSMENT': 0.023, 'system:time_end': 1578218343367, 'system:time_start': 1578218343367, 'DATASTRIP_ID': 'S2B_OPER_MSI_L1C_DS_SGS__20200105T113249_S20200105T095703_N02.08', 'PROCESSING_BASELINE': '02.08', 'SENSING_ORBIT_NUMBER': 36, 'SENSING_ORBIT_DIRECTION': 'DESCENDING', 'GENERAL_QUALITY': 'PASSED', 'GRANULE_ID': 'L1C_T32NNM_A014791_20200105T095703', 'REFLECTANCE_CONVERSION_CORRECTION': 1.03429365865, 'MEAN_INCIDENCE_AZIMUTH_ANGLE_B8': 282.941315617, 'DATATAKE_TYPE': 'INS-NOBS', 'MEAN_INCIDENCE_AZIMUTH_ANGLE_B9': 283.353813351, 'MEAN_INCIDENCE_AZIMUTH_ANGLE_B6': 283.215292768, 'MEAN_INCIDENCE_AZIMUTH_ANGLE_B7': 283.288275774, 'MEAN_INCIDENCE_AZIMUTH_ANGLE_B4': 283.099287457, 'MEAN_INCIDENCE_ZENITH_ANGLE_B1': 7.73008715169, 'MEAN_INCIDENCE_AZIMUTH_ANGLE_B5': 283.148844655, 'RADIOMETRIC_QUALITY': 'PASSED', 'MEAN_INCIDENCE_AZIMUTH_ANGLE_B2': 282.872815387, 'MEAN_INCIDENCE_AZIMUTH_ANGLE_B3': 282.99062319, 'MEAN_INCIDENCE_ZENITH_ANGLE_B5': 7.60042136236, 'MEAN_INCIDENCE_AZIMUTH_ANGLE_B1': 283.249982175, 'MEAN_INCIDENCE_ZENITH_ANGLE_B4': 7.57581427398, 'MEAN_INCIDENCE_ZENITH_ANGLE_B3': 7.53804717867, 'MEAN_INCIDENCE_ZENITH_ANGLE_B2': 7.51931097398, 'MEAN_INCIDENCE_ZENITH_ANGLE_B9': 7.76297473653, 'MEAN_INCIDENCE_ZENITH_ANGLE_B8': 7.52591943616, 'MEAN_INCIDENCE_ZENITH_ANGLE_B7': 7.64748401711, 'MEAN_INCIDENCE_ZENITH_ANGLE_B6': 7.62792745469, 'MEAN_SOLAR_ZENITH_ANGLE': 35.7087087628, 'MEAN_INCIDENCE_ZENITH_ANGLE_B8A': 7.680516497, 'MGRS_TILE': '32NNM', 'CLOUDY_PIXEL_PERCENTAGE': 0.023, 'PRODUCT_ID': 'S2B_MSIL1C_20200105T094309_N0208_R036_T32NNM_20200105T113249', 'MEAN_INCIDENCE_ZENITH_ANGLE_B10': 7.57470030244, 'SOLAR_IRRADIANCE_B9': 817.58, 'DEGRADED_MSI_DATA_PERCENTAGE': 0, 'MEAN_INCIDENCE_ZENITH_ANGLE_B11': 7.61692373737, 'MEAN_INCIDENCE_ZENITH_ANGLE_B12': 7.68875204201, 'SOLAR_IRRADIANCE_B6': 1291.13, 'MEAN_INCIDENCE_AZIMUTH_ANGLE_B10': 282.942963289, 'SOLAR_IRRADIANCE_B5': 1425.78, 'MEAN_INCIDENCE_AZIMUTH_ANGLE_B11': 283.151371587, 'SOLAR_IRRADIANCE_B8': 1041.28, 'MEAN_INCIDENCE_AZIMUTH_ANGLE_B12': 283.257920032, 'SOLAR_IRRADIANCE_B7': 1175.57, 'SOLAR_IRRADIANCE_B2': 1959.75, 'SOLAR_IRRADIANCE_B1': 1874.3, 'SOLAR_IRRADIANCE_B4': 1512.79, 'GEOMETRIC_QUALITY': 'PASSED', 'SOLAR_IRRADIANCE_B3': 1824.93, 'system:asset_size': 1019313534, 'system:index': '20200105T094309_20200105T095703_T32NNM'}}\"\n",
      "\"{'type': 'Image', 'bands': [{'id': 'B1', 'data_type': {'type': 'PixelType', 'precision': 'int', 'min': 0, 'max': 65535}, 'dimensions': [295, 264], 'origin': [164, 897], 'crs': 'EPSG:32632', 'crs_transform': [60, 0, 499980, 0, -60, 700020]}, {'id': 'B2', 'data_type': {'type': 'PixelType', 'precision': 'int', 'min': 0, 'max': 65535}, 'dimensions': [1767, 1580], 'origin': [984, 5384], 'crs': 'EPSG:32632', 'crs_transform': [10, 0, 499980, 0, -10, 700020]}, {'id': 'B3', 'data_type': {'type': 'PixelType', 'precision': 'int', 'min': 0, 'max': 65535}, 'dimensions': [1767, 1580], 'origin': [984, 5384], 'crs': 'EPSG:32632', 'crs_transform': [10, 0, 499980, 0, -10, 700020]}, {'id': 'B4', 'data_type': {'type': 'PixelType', 'precision': 'int', 'min': 0, 'max': 65535}, 'dimensions': [1767, 1580], 'origin': [984, 5384], 'crs': 'EPSG:32632', 'crs_transform': [10, 0, 499980, 0, -10, 700020]}, {'id': 'B5', 'data_type': {'type': 'PixelType', 'precision': 'int', 'min': 0, 'max': 65535}, 'dimensions': [884, 790], 'origin': [492, 2692], 'crs': 'EPSG:32632', 'crs_transform': [20, 0, 499980, 0, -20, 700020]}, {'id': 'B6', 'data_type': {'type': 'PixelType', 'precision': 'int', 'min': 0, 'max': 65535}, 'dimensions': [884, 790], 'origin': [492, 2692], 'crs': 'EPSG:32632', 'crs_transform': [20, 0, 499980, 0, -20, 700020]}, {'id': 'B7', 'data_type': {'type': 'PixelType', 'precision': 'int', 'min': 0, 'max': 65535}, 'dimensions': [884, 790], 'origin': [492, 2692], 'crs': 'EPSG:32632', 'crs_transform': [20, 0, 499980, 0, -20, 700020]}, {'id': 'B8', 'data_type': {'type': 'PixelType', 'precision': 'int', 'min': 0, 'max': 65535}, 'dimensions': [1767, 1580], 'origin': [984, 5384], 'crs': 'EPSG:32632', 'crs_transform': [10, 0, 499980, 0, -10, 700020]}, {'id': 'B8A', 'data_type': {'type': 'PixelType', 'precision': 'int', 'min': 0, 'max': 65535}, 'dimensions': [884, 790], 'origin': [492, 2692], 'crs': 'EPSG:32632', 'crs_transform': [20, 0, 499980, 0, -20, 700020]}, {'id': 'B9', 'data_type': {'type': 'PixelType', 'precision': 'int', 'min': 0, 'max': 65535}, 'dimensions': [295, 264], 'origin': [164, 897], 'crs': 'EPSG:32632', 'crs_transform': [60, 0, 499980, 0, -60, 700020]}, {'id': 'B11', 'data_type': {'type': 'PixelType', 'precision': 'int', 'min': 0, 'max': 65535}, 'dimensions': [884, 790], 'origin': [492, 2692], 'crs': 'EPSG:32632', 'crs_transform': [20, 0, 499980, 0, -20, 700020]}, {'id': 'B12', 'data_type': {'type': 'PixelType', 'precision': 'int', 'min': 0, 'max': 65535}, 'dimensions': [884, 790], 'origin': [492, 2692], 'crs': 'EPSG:32632', 'crs_transform': [20, 0, 499980, 0, -20, 700020]}, {'id': 'AOT', 'data_type': {'type': 'PixelType', 'precision': 'int', 'min': 0, 'max': 65535}, 'dimensions': [1767, 1580], 'origin': [984, 5384], 'crs': 'EPSG:32632', 'crs_transform': [10, 0, 499980, 0, -10, 700020]}, {'id': 'WVP', 'data_type': {'type': 'PixelType', 'precision': 'int', 'min': 0, 'max': 65535}, 'dimensions': [1767, 1580], 'origin': [984, 5384], 'crs': 'EPSG:32632', 'crs_transform': [10, 0, 499980, 0, -10, 700020]}, {'id': 'SCL', 'data_type': {'type': 'PixelType', 'precision': 'int', 'min': 0, 'max': 255}, 'dimensions': [884, 790], 'origin': [492, 2692], 'crs': 'EPSG:32632', 'crs_transform': [20, 0, 499980, 0, -20, 700020]}, {'id': 'TCI_R', 'data_type': {'type': 'PixelType', 'precision': 'int', 'min': 0, 'max': 255}, 'dimensions': [1767, 1580], 'origin': [984, 5384], 'crs': 'EPSG:32632', 'crs_transform': [10, 0, 499980, 0, -10, 700020]}, {'id': 'TCI_G', 'data_type': {'type': 'PixelType', 'precision': 'int', 'min': 0, 'max': 255}, 'dimensions': [1767, 1580], 'origin': [984, 5384], 'crs': 'EPSG:32632', 'crs_transform': [10, 0, 499980, 0, -10, 700020]}, {'id': 'TCI_B', 'data_type': {'type': 'PixelType', 'precision': 'int', 'min': 0, 'max': 255}, 'dimensions': [1767, 1580], 'origin': [984, 5384], 'crs': 'EPSG:32632', 'crs_transform': [10, 0, 499980, 0, -10, 700020]}, {'id': 'MSK_CLDPRB', 'data_type': {'type': 'PixelType', 'precision': 'int', 'min': 0, 'max': 255}, 'dimensions': [884, 790], 'origin': [492, 2692], 'crs': 'EPSG:32632', 'crs_transform': [20, 0, 499980, 0, -20, 700020]}, {'id': 'MSK_SNWPRB', 'data_type': {'type': 'PixelType', 'precision': 'int', 'min': 0, 'max': 255}, 'dimensions': [884, 790], 'origin': [492, 2692], 'crs': 'EPSG:32632', 'crs_transform': [20, 0, 499980, 0, -20, 700020]}, {'id': 'QA10', 'data_type': {'type': 'PixelType', 'precision': 'int', 'min': 0, 'max': 65535}, 'dimensions': [1767, 1580], 'origin': [984, 5384], 'crs': 'EPSG:32632', 'crs_transform': [10, 0, 499980, 0, -10, 700020]}, {'id': 'QA20', 'data_type': {'type': 'PixelType', 'precision': 'int', 'min': 0, 'max': 4294967295}, 'dimensions': [884, 790], 'origin': [492, 2692], 'crs': 'EPSG:32632', 'crs_transform': [20, 0, 499980, 0, -20, 700020]}, {'id': 'QA60', 'data_type': {'type': 'PixelType', 'precision': 'int', 'min': 0, 'max': 65535}, 'dimensions': [295, 264], 'origin': [164, 897], 'crs': 'EPSG:32632', 'crs_transform': [60, 0, 499980, 0, -60, 700020]}], 'id': 'COPERNICUS/S2_SR/20200105T094309_20200105T095703_T32NNM', 'version': 1578398000574699, 'properties': {'system:footprint': {'type': 'Polygon', 'coordinates': [[[9.088783, 5.753151999999999], [9.179248999999999, 5.703106], [9.248257000000002, 5.792946], [9.236069, 5.845887000000001], [9.090672, 5.844009], [9.088783, 5.753151999999999]]]}, 'DATATAKE_IDENTIFIER': 'GS2B_20200105T094309_014791_N02.13', 'AOT_RETRIEVAL_ACCURACY': 0, 'SPACECRAFT_NAME': 'Sentinel-2B', 'SATURATED_DEFECTIVE_PIXEL_PERCENTAGE': 0, 'MEAN_INCIDENCE_AZIMUTH_ANGLE_B8A': 283.354926056, 'CLOUD_SHADOW_PERCENTAGE': 0.063872, 'MEAN_SOLAR_AZIMUTH_ANGLE': 143.643657178, 'VEGETATION_PERCENTAGE': 90.235651, 'SOLAR_IRRADIANCE_B12': 87.75, 'SOLAR_IRRADIANCE_B10': 365.41, 'SENSOR_QUALITY': 'PASSED', 'SOLAR_IRRADIANCE_B11': 247.08, 'GENERATION_TIME': 1578225361000, 'SOLAR_IRRADIANCE_B8A': 953.93, 'FORMAT_CORRECTNESS': 'PASSED', 'CLOUD_COVERAGE_ASSESSMENT': 1.778067, 'THIN_CIRRUS_PERCENTAGE': 1.702274, 'system:time_end': 1578218343367, 'WATER_VAPOUR_RETRIEVAL_ACCURACY': 0, 'system:time_start': 1578218343367, 'DATASTRIP_ID': 'S2B_OPER_MSI_L2A_DS_SGS__20200105T115601_S20200105T095703_N02.13', 'PROCESSING_BASELINE': '02.13', 'SENSING_ORBIT_NUMBER': 36, 'NODATA_PIXEL_PERCENTAGE': 4.312113, 'SENSING_ORBIT_DIRECTION': 'DESCENDING', 'GENERAL_QUALITY': 'PASSED', 'GRANULE_ID': 'L2A_T32NNM_A014791_20200105T095703', 'REFLECTANCE_CONVERSION_CORRECTION': 1.03429365865, 'MEDIUM_PROBA_CLOUDS_PERCENTAGE': 0.045634, 'MEAN_INCIDENCE_AZIMUTH_ANGLE_B8': 282.941315617, 'DATATAKE_TYPE': 'INS-NOBS', 'MEAN_INCIDENCE_AZIMUTH_ANGLE_B9': 283.353813351, 'MEAN_INCIDENCE_AZIMUTH_ANGLE_B6': 283.215292768, 'MEAN_INCIDENCE_AZIMUTH_ANGLE_B7': 283.288275774, 'MEAN_INCIDENCE_AZIMUTH_ANGLE_B4': 283.099287457, 'MEAN_INCIDENCE_ZENITH_ANGLE_B1': 7.73008715169, 'NOT_VEGETATED_PERCENTAGE': 3.607509, 'MEAN_INCIDENCE_AZIMUTH_ANGLE_B5': 283.148844655, 'RADIOMETRIC_QUALITY': 'PASSED', 'MEAN_INCIDENCE_AZIMUTH_ANGLE_B2': 282.872815387, 'MEAN_INCIDENCE_AZIMUTH_ANGLE_B3': 282.99062319, 'MEAN_INCIDENCE_ZENITH_ANGLE_B5': 7.60042136236, 'MEAN_INCIDENCE_AZIMUTH_ANGLE_B1': 283.249982175, 'MEAN_INCIDENCE_ZENITH_ANGLE_B4': 7.57581427398, 'MEAN_INCIDENCE_ZENITH_ANGLE_B3': 7.53804717867, 'MEAN_INCIDENCE_ZENITH_ANGLE_B2': 7.51931097398, 'MEAN_INCIDENCE_ZENITH_ANGLE_B9': 7.76297473653, 'MEAN_INCIDENCE_ZENITH_ANGLE_B8': 7.52591943616, 'MEAN_INCIDENCE_ZENITH_ANGLE_B7': 7.64748401711, 'DARK_FEATURES_PERCENTAGE': 0.69714, 'HIGH_PROBA_CLOUDS_PERCENTAGE': 0.030159, 'MEAN_INCIDENCE_ZENITH_ANGLE_B6': 7.62792745469, 'UNCLASSIFIED_PERCENTAGE': 3.566255, 'MEAN_SOLAR_ZENITH_ANGLE': 35.7087087628, 'MEAN_INCIDENCE_ZENITH_ANGLE_B8A': 7.680516497, 'RADIATIVE_TRANSFER_ACCURACY': 0, 'MGRS_TILE': '32NNM', 'CLOUDY_PIXEL_PERCENTAGE': 1.778067, 'PRODUCT_ID': 'S2B_MSIL2A_20200105T094309_N0213_R036_T32NNM_20200105T115601', 'MEAN_INCIDENCE_ZENITH_ANGLE_B10': 7.57470030244, 'SOLAR_IRRADIANCE_B9': 817.58, 'SNOW_ICE_PERCENTAGE': 0, 'DEGRADED_MSI_DATA_PERCENTAGE': 0, 'MEAN_INCIDENCE_ZENITH_ANGLE_B11': 7.61692373737, 'MEAN_INCIDENCE_ZENITH_ANGLE_B12': 7.68875204201, 'SOLAR_IRRADIANCE_B6': 1291.13, 'MEAN_INCIDENCE_AZIMUTH_ANGLE_B10': 282.942963289, 'SOLAR_IRRADIANCE_B5': 1425.78, 'MEAN_INCIDENCE_AZIMUTH_ANGLE_B11': 283.151371587, 'SOLAR_IRRADIANCE_B8': 1041.28, 'MEAN_INCIDENCE_AZIMUTH_ANGLE_B12': 283.257920032, 'SOLAR_IRRADIANCE_B7': 1175.57, 'SOLAR_IRRADIANCE_B2': 1959.75, 'SOLAR_IRRADIANCE_B1': 1874.3, 'SOLAR_IRRADIANCE_B4': 1512.79, 'GEOMETRIC_QUALITY': 'PASSED', 'SOLAR_IRRADIANCE_B3': 1824.93, 'system:asset_size': 1523381153, 'WATER_PERCENTAGE': 0.051508, 'system:index': '20200105T094309_20200105T095703_T32NNM'}}\"\n"
     ]
    }
   ],
   "source": [
    "for img in img_objs:\n",
    "    dic = img.getInfo()\n",
    "    print(json.dumps(str(dic)))\n",
    "#     product_id = str(img.getInfo()[\"properties\"]['PRODUCT_ID'])\n",
    "#     print(product_id)\n",
    "#     print([product_id.split(\"_\")[1],product_id.split(\"_\")[2], product_id.split(\"_\")[-2]])\n",
    "    "
   ]
  },
  {
   "cell_type": "code",
   "execution_count": 57,
   "metadata": {
    "jupyter": {
     "source_hidden": true
    }
   },
   "outputs": [],
   "source": [
    "mosaic = custom_collection.mosaic().clip(polys)"
   ]
  },
  {
   "cell_type": "code",
   "execution_count": 60,
   "metadata": {},
   "outputs": [
    {
     "name": "stdout",
     "output_type": "stream",
     "text": [
      "Image to Download: mosaic\n"
     ]
    }
   ],
   "source": [
    "RGB = ['TCI_R', 'TCI_G', 'TCI_B']\n",
    "\n",
    "# Download the specific image\n",
    "# for image_obj in range(len(good_images)):\n",
    "downConfig = {'scale': 10, \"maxPixels\": 1.0E13, 'driveFolder': 'image3',\"driveFileNamePrefix\":\"mosaic\"}  # scale means resolution.\n",
    "# image_to_dl = ee.Image(image_dl_list.get(i))\n",
    "# img_2 = image_to_dl.select('B.+')\n",
    "# img_2 = image_to_dl.select(RGB)\n",
    "name = \"mosaic\"\n",
    "print(\"Image to Download:\",name)\n",
    "task = ee.batch.Export.image(mosaic, name, downConfig)\n",
    "task.start()\n",
    "\n",
    "while task.status()[\"state\"] == 'RUNNING':\n",
    "    print(task.status(), end=\"\\r\", flush=True)"
   ]
  },
  {
   "cell_type": "code",
   "execution_count": 63,
   "metadata": {},
   "outputs": [
    {
     "name": "stdout",
     "output_type": "stream",
     "text": [
      "{'state': 'RUNNING', 'description': 'mosaic', 'creation_timestamp_ms': 1604962569413, 'update_timestamp_ms': 1604962657485, 'start_timestamp_ms': 1604962600755, 'task_type': 'EXPORT_IMAGE', 'attempt': 1, 'id': 'UPXHHLD44VNZVFM74FFZNYUG', 'name': 'projects/earthengine-legacy/operations/UPXHHLD44VNZVFM74FFZNYUG'}\r"
     ]
    }
   ],
   "source": [
    "while task.status()[\"state\"] == 'RUNNING' or task.status()[\"state\"] == 'READY':\n",
    "    print(task.status(), end=\"\\r\", flush=True)"
   ]
  }
 ],
 "metadata": {
  "kernelspec": {
   "display_name": "gee-conda",
   "language": "python",
   "name": "gee-conda"
  },
  "language_info": {
   "codemirror_mode": {
    "name": "ipython",
    "version": 3
   },
   "file_extension": ".py",
   "mimetype": "text/x-python",
   "name": "python",
   "nbconvert_exporter": "python",
   "pygments_lexer": "ipython3",
   "version": "3.8.6"
  }
 },
 "nbformat": 4,
 "nbformat_minor": 4
}
