{
 "cells": [
  {
   "cell_type": "code",
   "execution_count": 1,
   "metadata": {},
   "outputs": [
    {
     "name": "stderr",
     "output_type": "stream",
     "text": [
      "C:\\Anaconda3\\envs\\cloud_removal\\lib\\site-packages\\gevent\\hub.py:158: UserWarning: libuv only supports millisecond timer resolution; all times less will be set to 1 ms\n",
      "  with loop.timer(seconds, ref=ref) as t:\n"
     ]
    }
   ],
   "source": [
    "from pandas.tseries.offsets import DateOffset\n",
    "import ee\n",
    "import yaml\n",
    "import time\n",
    "import os\n",
    "import json\n",
    "import pandas as pd\n",
    "from utils import exportImageToGDrive,exportImageToGCS\n",
    "from download_sen12 import *\n",
    "\n",
    "ee.Initialize()"
   ]
  },
  {
   "cell_type": "code",
   "execution_count": 2,
   "metadata": {},
   "outputs": [
    {
     "name": "stdout",
     "output_type": "stream",
     "text": [
      "project-canopy-temp-2\n"
     ]
    },
    {
     "name": "stderr",
     "output_type": "stream",
     "text": [
      "C:\\Users\\David\\canopy\\canopy-gis\\google-earth-explore\\GEE_DataDownloader\\download_sen12.py:466: YAMLLoadWarning: calling yaml.load() without Loader=... is deprecated, as the default Loader is unsafe. Please read https://msg.pyyaml.org/load for full details.\n",
      "  return yaml.load(stream)\n"
     ]
    }
   ],
   "source": [
    "config_dict = load_config('config.yml')\n",
    "source = config_dict['data_list'][0]\n",
    "sensor = config_dict['sensors'][0]\n",
    "# export_folder = config_dict['drive_folder']\n",
    "export_folder = config_dict['bucket']\n",
    "\n",
    "print(export_folder)"
   ]
  },
  {
   "cell_type": "code",
   "execution_count": 3,
   "metadata": {},
   "outputs": [
    {
     "data": {
      "text/plain": [
       "['TCI_R', 'TCI_G', 'TCI_B']"
      ]
     },
     "execution_count": 3,
     "metadata": {},
     "output_type": "execute_result"
    }
   ],
   "source": [
    "sensor['bands']"
   ]
  },
  {
   "cell_type": "code",
   "execution_count": 4,
   "metadata": {},
   "outputs": [
    {
     "data": {
      "text/plain": [
       "{'name': ['full_basin_export_v10_3_months'],\n",
       " 'start_date': '2019-01-01',\n",
       " 'end_date': '2020-12-31',\n",
       " 'geometry': 'point',\n",
       " 'size': 20000,\n",
       " 'resolution': 10,\n",
       " 'sort_by': 'id',\n",
       " 'features_src': 'ft:19Vexm10pJcAZ8tTVbl4j0HA8w2muyPPz6-cyvdxI',\n",
       " 'sensors': [0, 1, 2]}"
      ]
     },
     "execution_count": 4,
     "metadata": {},
     "output_type": "execute_result"
    }
   ],
   "source": [
    "source"
   ]
  },
  {
   "cell_type": "code",
   "execution_count": 3,
   "metadata": {},
   "outputs": [],
   "source": [
    "def import_aois(csv_loc, Full_Congo_Pull=False, start_date=None,\n",
    "                end_date=None, days_duration=90, poly_start=0, poly_limit=None):\n",
    "    features = []\n",
    "    polygons = []\n",
    "    day_offset = days_duration / 2\n",
    "    start_end_list = []\n",
    "    \n",
    "    if Full_Congo_Pull:\n",
    "        with open(csv_loc,\"r\",encoding='utf-8') as jsonfile:\n",
    "            data = json.load(jsonfile)\n",
    "            for feature_id, geometry in enumerate(data[\"features\"], 1):\n",
    "                polygon = geometry[\"geometry\"][\"coordinates\"][0][0]\n",
    "                poly_obj = ee.Geometry.Polygon(polygon)\n",
    "                feature = ee.Feature(poly_obj, {\"name\": feature_id})\n",
    "                features.append(feature)\n",
    "                \n",
    "            original_date = pd.to_datetime('01-01-2020')\n",
    "            start = (original_date + DateOffset(days=-30))\n",
    "            end = (original_date + DateOffset(days=30))\n",
    "            start_date = str(start)[:10]\n",
    "            end_date = str(end)[:10]\n",
    "            date_dict = {\n",
    "                'start_date': start_date,\n",
    "                'end_date': end_date,\n",
    "                'original_date': original_date,\n",
    "                'day_offset': 30,\n",
    "                'area': 1\n",
    "            }\n",
    "            \n",
    "            start_end_list = [date_dict] * len(features)\n",
    "            \n",
    "            return ee.FeatureCollection(features), start_end_list\n",
    "            \n",
    "    else:\n",
    "        feature_id = poly_start\n",
    "        \n",
    "        if poly_limit:\n",
    "            df_labels = pd.read_csv(csv_loc, skiprows=range(1, poly_start+1), nrows=poly_limit)\n",
    "        else:\n",
    "            df_labels = pd.read_csv(csv_loc, skiprows=range(1, poly_start+1))\n",
    "\n",
    "        df_labels = df_labels[[\"center-lat\",\"center-long\",\"polygon\",\"Labels combined\",\"tile date\",\"area (km2)\"]]\n",
    "        df_labels[\"tile date\"] = pd.to_datetime(df_labels[\"tile date\"])\n",
    "        start = (df_labels[\"tile date\"] + DateOffset(days=-day_offset))\n",
    "        end = (df_labels[\"tile date\"] + DateOffset(days=day_offset))\n",
    "        for i in range(len(start)):\n",
    "            start_date = str(start[i])[:10]\n",
    "            end_date = str(end[i])[:10]\n",
    "            original_date = df_labels.loc[i, 'tile date']\n",
    "            area = df_labels.loc[i, 'area (km2)']\n",
    "            date_dict = {\n",
    "                'start_date': start_date,\n",
    "                'end_date': end_date,\n",
    "                'original_date': original_date,\n",
    "                'day_offset': day_offset,\n",
    "                'area': area\n",
    "            }\n",
    "            start_end_list.append(date_dict)\n",
    "\n",
    "        for polygon in df_labels[\"polygon\"]:\n",
    "            polygons.append(json.loads(polygon)[\"coordinates\"])\n",
    "            \n",
    "        for poly in polygons:\n",
    "            # create an roi. first item in Misha's label list\n",
    "            feature_id += 1 \n",
    "            # create geometry object, create feature object, append to features list for feature collection creation \n",
    "            polys = ee.Geometry.Polygon(poly)\n",
    "            feature = ee.Feature(polys,{\"name\":feature_id})\n",
    "            features.append(feature)\n",
    "            \n",
    "        return ee.FeatureCollection(features),start_end_list,df_labels\n",
    "\n",
    "\n",
    "# ### CHANGE BELOW PATH ###\n",
    "zhenya_label_path = \"/Volumes/Lacie/zhenyadata/Project_Canopy_Data/PC_Data/Sentinel_Data/Labelled/Tiles_v3/Polygon_List/polygons_101320.csv\"\n",
    "david__label_path = 'D:/canopy_data/csvs/polygons_101320.csv'\n",
    "zhenya_tilelist_path = \"/Volumes/Lacie/zhenyadata/Project_Canopy_Data/PC_Data/Geometry/tile_lists/shub_tile_list/tiles_polygons_full.csv\"\n",
    "david_grid_path = 'D:/canopy_data/Geometry/Congo_Basin_Boundary_no_islands_v5_gridded.geojson'"
   ]
  },
  {
   "cell_type": "code",
   "execution_count": 6,
   "metadata": {},
   "outputs": [],
   "source": [
    "fc,date_range_list,df_labels = import_aois(david__label_path, Full_Congo_Pull=False)"
   ]
  },
  {
   "cell_type": "code",
   "execution_count": 7,
   "metadata": {},
   "outputs": [
    {
     "data": {
      "text/plain": [
       "101"
      ]
     },
     "execution_count": 7,
     "metadata": {},
     "output_type": "execute_result"
    }
   ],
   "source": [
    "len(date_range_list)"
   ]
  },
  {
   "cell_type": "code",
   "execution_count": 8,
   "metadata": {},
   "outputs": [
    {
     "data": {
      "text/plain": [
       "[{'start_date': '2019-12-11',\n",
       "  'end_date': '2020-03-10',\n",
       "  'original_date': Timestamp('2020-01-25 00:00:00'),\n",
       "  'day_offset': 45.0,\n",
       "  'area': 207.84},\n",
       " {'start_date': '2019-12-11',\n",
       "  'end_date': '2020-03-10',\n",
       "  'original_date': Timestamp('2020-01-25 00:00:00'),\n",
       "  'day_offset': 45.0,\n",
       "  'area': 89.56},\n",
       " {'start_date': '2019-11-30',\n",
       "  'end_date': '2020-02-28',\n",
       "  'original_date': Timestamp('2020-01-14 00:00:00'),\n",
       "  'day_offset': 45.0,\n",
       "  'area': 28.52},\n",
       " {'start_date': '2019-11-25',\n",
       "  'end_date': '2020-02-23',\n",
       "  'original_date': Timestamp('2020-01-09 00:00:00'),\n",
       "  'day_offset': 45.0,\n",
       "  'area': 7.58},\n",
       " {'start_date': '2019-11-30',\n",
       "  'end_date': '2020-02-28',\n",
       "  'original_date': Timestamp('2020-01-14 00:00:00'),\n",
       "  'day_offset': 45.0,\n",
       "  'area': 169.77}]"
      ]
     },
     "execution_count": 8,
     "metadata": {},
     "output_type": "execute_result"
    }
   ],
   "source": [
    "date_range_list[0:5]"
   ]
  },
  {
   "cell_type": "code",
   "execution_count": 9,
   "metadata": {},
   "outputs": [
    {
     "data": {
      "text/plain": [
       "[{'start_date': '2019-12-11',\n",
       "  'end_date': '2020-03-10',\n",
       "  'original_date': Timestamp('2020-01-25 00:00:00'),\n",
       "  'day_offset': 45.0,\n",
       "  'area': 207.84},\n",
       " {'start_date': '2019-12-11',\n",
       "  'end_date': '2020-03-10',\n",
       "  'original_date': Timestamp('2020-01-25 00:00:00'),\n",
       "  'day_offset': 45.0,\n",
       "  'area': 89.56},\n",
       " {'start_date': '2019-12-11',\n",
       "  'end_date': '2020-03-10',\n",
       "  'original_date': Timestamp('2020-01-14 00:00:00'),\n",
       "  'day_offset': 45.0,\n",
       "  'area': 28.52},\n",
       " {'start_date': '2019-12-11',\n",
       "  'end_date': '2020-03-10',\n",
       "  'original_date': Timestamp('2020-01-09 00:00:00'),\n",
       "  'day_offset': 45.0,\n",
       "  'area': 7.58},\n",
       " {'start_date': '2019-12-11',\n",
       "  'end_date': '2020-03-10',\n",
       "  'original_date': Timestamp('2020-01-14 00:00:00'),\n",
       "  'day_offset': 45.0,\n",
       "  'area': 169.77}]"
      ]
     },
     "execution_count": 9,
     "metadata": {},
     "output_type": "execute_result"
    }
   ],
   "source": [
    "drl_3_months = date_range_list.copy()\n",
    "\n",
    "for d in drl_3_months:\n",
    "    new_start = '2019-12-11'\n",
    "    new_end = '2020-03-10'\n",
    "    d['start_date'] = new_start\n",
    "    d['end_date'] = new_end\n",
    "    \n",
    "drl_3_months[0:5]"
   ]
  },
  {
   "cell_type": "code",
   "execution_count": 10,
   "metadata": {},
   "outputs": [
    {
     "data": {
      "text/plain": [
       "101"
      ]
     },
     "execution_count": 10,
     "metadata": {},
     "output_type": "execute_result"
    }
   ],
   "source": [
    "len(drl_3_months)"
   ]
  },
  {
   "cell_type": "code",
   "execution_count": 11,
   "metadata": {},
   "outputs": [
    {
     "name": "stdout",
     "output_type": "stream",
     "text": [
      "101 features have been loaded\n",
      "processing polygon 101 of 101\r"
     ]
    },
    {
     "name": "stderr",
     "output_type": "stream",
     "text": [
      "C:\\Anaconda3\\envs\\cloud_removal\\lib\\site-packages\\gevent\\hub.py:158: UserWarning: libuv only supports millisecond timer resolution; all times less will be set to 1 ms\n",
      "  with loop.timer(seconds, ref=ref) as t:\n"
     ]
    }
   ],
   "source": [
    "exports = process_datasource_custom_daterange(\n",
    "    source, sensor, export_folder, fc, offset_dict=None,\n",
    "    date_range_list=drl_3_months, no_dynamic_daterage=True\n",
    ")"
   ]
  },
  {
   "cell_type": "code",
   "execution_count": 7,
   "metadata": {},
   "outputs": [
    {
     "name": "stdout",
     "output_type": "stream",
     "text": [
      "101 features have been loaded\n",
      "date range dict: {'start_date': '2019-12-11', 'end_date': '2020-03-10', 'original_date': Timestamp('2020-01-25 00:00:00'), 'day_offset': 45.0, 'area': 207.84}\n",
      "Start date: 2019-12-11; End date: 2020-03-10\n",
      "{'type': 'Date', 'value': 1576022400000}\n",
      "collection made\n"
     ]
    },
    {
     "name": "stderr",
     "output_type": "stream",
     "text": [
      "C:\\Anaconda3\\envs\\cloud_removal\\lib\\site-packages\\gevent\\hub.py:158: UserWarning: libuv only supports millisecond timer resolution; all times less will be set to 1 ms\n",
      "  with loop.timer(seconds, ref=ref) as t:\n"
     ]
    }
   ],
   "source": [
    "offset_dict = {\n",
    "    45: 90,\n",
    "    90: 180,\n",
    "    180: 'two years'\n",
    "}\n",
    "\n",
    "exports = process_datasource_custom_daterange(\n",
    "    source, sensor, export_folder, fc, offset_dict=offset_dict,\n",
    "    date_range_list=date_range_list, no_dynamic_daterage=False, limit=1\n",
    ")"
   ]
  },
  {
   "cell_type": "code",
   "execution_count": 12,
   "metadata": {},
   "outputs": [
    {
     "name": "stdout",
     "output_type": "stream",
     "text": [
      "project-canopy-temp-2\n"
     ]
    },
    {
     "name": "stderr",
     "output_type": "stream",
     "text": [
      "C:\\Users\\David\\canopy\\canopy-gis\\google-earth-explore\\GEE_DataDownloader\\download_sen12.py:458: YAMLLoadWarning: calling yaml.load() without Loader=... is deprecated, as the default Loader is unsafe. Please read https://msg.pyyaml.org/load for full details.\n",
      "  return yaml.load(stream)\n"
     ]
    }
   ],
   "source": [
    "config_dict = load_config('config.yml')\n",
    "source = config_dict['data_list'][0]\n",
    "sensor = config_dict['sensors'][0]\n",
    "# export_folder = config_dict['drive_folder']\n",
    "export_folder = config_dict['bucket']\n",
    "\n",
    "print(export_folder)"
   ]
  },
  {
   "cell_type": "code",
   "execution_count": 13,
   "metadata": {},
   "outputs": [
    {
     "data": {
      "text/plain": [
       "{'name': ['full_basin_export_v10_2_years'],\n",
       " 'start_date': '2019-01-01',\n",
       " 'end_date': '2020-12-31',\n",
       " 'geometry': 'point',\n",
       " 'size': 20000,\n",
       " 'resolution': 10,\n",
       " 'sort_by': 'id',\n",
       " 'features_src': 'ft:19Vexm10pJcAZ8tTVbl4j0HA8w2muyPPz6-cyvdxI',\n",
       " 'sensors': [0, 1, 2]}"
      ]
     },
     "execution_count": 13,
     "metadata": {},
     "output_type": "execute_result"
    }
   ],
   "source": [
    "source"
   ]
  },
  {
   "cell_type": "code",
   "execution_count": 14,
   "metadata": {},
   "outputs": [
    {
     "data": {
      "text/plain": [
       "[{'start_date': '2019-01-01',\n",
       "  'end_date': '2020-12-31',\n",
       "  'original_date': Timestamp('2020-01-25 00:00:00'),\n",
       "  'day_offset': 45.0,\n",
       "  'area': 207.84},\n",
       " {'start_date': '2019-01-01',\n",
       "  'end_date': '2020-12-31',\n",
       "  'original_date': Timestamp('2020-01-25 00:00:00'),\n",
       "  'day_offset': 45.0,\n",
       "  'area': 89.56},\n",
       " {'start_date': '2019-01-01',\n",
       "  'end_date': '2020-12-31',\n",
       "  'original_date': Timestamp('2020-01-14 00:00:00'),\n",
       "  'day_offset': 45.0,\n",
       "  'area': 28.52},\n",
       " {'start_date': '2019-01-01',\n",
       "  'end_date': '2020-12-31',\n",
       "  'original_date': Timestamp('2020-01-09 00:00:00'),\n",
       "  'day_offset': 45.0,\n",
       "  'area': 7.58},\n",
       " {'start_date': '2019-01-01',\n",
       "  'end_date': '2020-12-31',\n",
       "  'original_date': Timestamp('2020-01-14 00:00:00'),\n",
       "  'day_offset': 45.0,\n",
       "  'area': 169.77}]"
      ]
     },
     "execution_count": 14,
     "metadata": {},
     "output_type": "execute_result"
    }
   ],
   "source": [
    "drl_2_years = date_range_list.copy()\n",
    "\n",
    "for d in drl_2_years:\n",
    "    new_start = '2019-01-01'\n",
    "    new_end = '2020-12-31'\n",
    "    d['start_date'] = new_start\n",
    "    d['end_date'] = new_end\n",
    "    \n",
    "drl_2_years[0:5]"
   ]
  },
  {
   "cell_type": "code",
   "execution_count": 15,
   "metadata": {},
   "outputs": [
    {
     "name": "stdout",
     "output_type": "stream",
     "text": [
      "101 features have been loaded\n",
      "processing polygon 101 of 101\r"
     ]
    },
    {
     "name": "stderr",
     "output_type": "stream",
     "text": [
      "C:\\Anaconda3\\envs\\cloud_removal\\lib\\site-packages\\gevent\\hub.py:158: UserWarning: libuv only supports millisecond timer resolution; all times less will be set to 1 ms\n",
      "  with loop.timer(seconds, ref=ref) as t:\n"
     ]
    }
   ],
   "source": [
    "exports = process_datasource_custom_daterange(\n",
    "    source, sensor, export_folder, fc, offset_dict=None,\n",
    "    date_range_list=drl_2_years, no_dynamic_daterage=True\n",
    ")"
   ]
  },
  {
   "cell_type": "code",
   "execution_count": 19,
   "metadata": {},
   "outputs": [
    {
     "data": {
      "text/plain": [
       "<ee.ee_date.Date at 0x1b44e465730>"
      ]
     },
     "execution_count": 19,
     "metadata": {},
     "output_type": "execute_result"
    }
   ],
   "source": [
    "date = ee.Date(date_range_list[0]['start_date'])\n",
    "\n",
    "date"
   ]
  },
  {
   "cell_type": "code",
   "execution_count": 20,
   "metadata": {},
   "outputs": [
    {
     "data": {
      "text/plain": [
       "{'type': 'Date', 'value': 1607644800000}"
      ]
     },
     "execution_count": 20,
     "metadata": {},
     "output_type": "execute_result"
    }
   ],
   "source": [
    "date.getInfo()"
   ]
  },
  {
   "cell_type": "code",
   "execution_count": 12,
   "metadata": {},
   "outputs": [],
   "source": [
    "feature_list = fc.sort(source['sort_by']).toList(fc.size())\n",
    "feature_point = ee.Feature( feature_list.get(0) )\n",
    "roi = feature_point.geometry()\n",
    "roi = roi.coordinates().getInfo()[0]"
   ]
  },
  {
   "cell_type": "code",
   "execution_count": 14,
   "metadata": {},
   "outputs": [],
   "source": [
    "start_date = drl_3_months[0]['start_date']\n",
    "end_date = drl_3_months[0]['end_date']\n",
    "\n",
    "collection = ee.ImageCollection(sensor['name']) \\\n",
    ".filterDate(ee.Date(start_date), ee.Date(end_date)) \\\n",
    "#.filterBounds(roi)"
   ]
  },
  {
   "cell_type": "code",
   "execution_count": 15,
   "metadata": {},
   "outputs": [
    {
     "ename": "EEException",
     "evalue": "Collection.reduceColumns: Empty date ranges not supported for the current operation.",
     "output_type": "error",
     "traceback": [
      "\u001b[1;31m---------------------------------------------------------------------------\u001b[0m",
      "\u001b[1;31mHttpError\u001b[0m                                 Traceback (most recent call last)",
      "\u001b[1;32mC:\\Anaconda3\\envs\\cloud_removal\\lib\\site-packages\\ee\\data.py\u001b[0m in \u001b[0;36m_execute_cloud_call\u001b[1;34m(call, num_retries)\u001b[0m\n\u001b[0;32m    344\u001b[0m   \u001b[1;32mtry\u001b[0m\u001b[1;33m:\u001b[0m\u001b[1;33m\u001b[0m\u001b[1;33m\u001b[0m\u001b[0m\n\u001b[1;32m--> 345\u001b[1;33m     \u001b[1;32mreturn\u001b[0m \u001b[0mcall\u001b[0m\u001b[1;33m.\u001b[0m\u001b[0mexecute\u001b[0m\u001b[1;33m(\u001b[0m\u001b[0mnum_retries\u001b[0m\u001b[1;33m=\u001b[0m\u001b[0mnum_retries\u001b[0m\u001b[1;33m)\u001b[0m\u001b[1;33m\u001b[0m\u001b[1;33m\u001b[0m\u001b[0m\n\u001b[0m\u001b[0;32m    346\u001b[0m   \u001b[1;32mexcept\u001b[0m \u001b[0mgoogleapiclient\u001b[0m\u001b[1;33m.\u001b[0m\u001b[0merrors\u001b[0m\u001b[1;33m.\u001b[0m\u001b[0mHttpError\u001b[0m \u001b[1;32mas\u001b[0m \u001b[0me\u001b[0m\u001b[1;33m:\u001b[0m\u001b[1;33m\u001b[0m\u001b[1;33m\u001b[0m\u001b[0m\n",
      "\u001b[1;32mC:\\Anaconda3\\envs\\cloud_removal\\lib\\site-packages\\googleapiclient\\_helpers.py\u001b[0m in \u001b[0;36mpositional_wrapper\u001b[1;34m(*args, **kwargs)\u001b[0m\n\u001b[0;32m    133\u001b[0m                     \u001b[0mlogger\u001b[0m\u001b[1;33m.\u001b[0m\u001b[0mwarning\u001b[0m\u001b[1;33m(\u001b[0m\u001b[0mmessage\u001b[0m\u001b[1;33m)\u001b[0m\u001b[1;33m\u001b[0m\u001b[1;33m\u001b[0m\u001b[0m\n\u001b[1;32m--> 134\u001b[1;33m             \u001b[1;32mreturn\u001b[0m \u001b[0mwrapped\u001b[0m\u001b[1;33m(\u001b[0m\u001b[1;33m*\u001b[0m\u001b[0margs\u001b[0m\u001b[1;33m,\u001b[0m \u001b[1;33m**\u001b[0m\u001b[0mkwargs\u001b[0m\u001b[1;33m)\u001b[0m\u001b[1;33m\u001b[0m\u001b[1;33m\u001b[0m\u001b[0m\n\u001b[0m\u001b[0;32m    135\u001b[0m \u001b[1;33m\u001b[0m\u001b[0m\n",
      "\u001b[1;32mC:\\Anaconda3\\envs\\cloud_removal\\lib\\site-packages\\googleapiclient\\http.py\u001b[0m in \u001b[0;36mexecute\u001b[1;34m(self, http, num_retries)\u001b[0m\n\u001b[0;32m    914\u001b[0m         \u001b[1;32mif\u001b[0m \u001b[0mresp\u001b[0m\u001b[1;33m.\u001b[0m\u001b[0mstatus\u001b[0m \u001b[1;33m>=\u001b[0m \u001b[1;36m300\u001b[0m\u001b[1;33m:\u001b[0m\u001b[1;33m\u001b[0m\u001b[1;33m\u001b[0m\u001b[0m\n\u001b[1;32m--> 915\u001b[1;33m             \u001b[1;32mraise\u001b[0m \u001b[0mHttpError\u001b[0m\u001b[1;33m(\u001b[0m\u001b[0mresp\u001b[0m\u001b[1;33m,\u001b[0m \u001b[0mcontent\u001b[0m\u001b[1;33m,\u001b[0m \u001b[0muri\u001b[0m\u001b[1;33m=\u001b[0m\u001b[0mself\u001b[0m\u001b[1;33m.\u001b[0m\u001b[0muri\u001b[0m\u001b[1;33m)\u001b[0m\u001b[1;33m\u001b[0m\u001b[1;33m\u001b[0m\u001b[0m\n\u001b[0m\u001b[0;32m    916\u001b[0m         \u001b[1;32mreturn\u001b[0m \u001b[0mself\u001b[0m\u001b[1;33m.\u001b[0m\u001b[0mpostproc\u001b[0m\u001b[1;33m(\u001b[0m\u001b[0mresp\u001b[0m\u001b[1;33m,\u001b[0m \u001b[0mcontent\u001b[0m\u001b[1;33m)\u001b[0m\u001b[1;33m\u001b[0m\u001b[1;33m\u001b[0m\u001b[0m\n",
      "\u001b[1;31mHttpError\u001b[0m: <HttpError 400 when requesting https://earthengine.googleapis.com/v1alpha/projects/earthengine-legacy/value:compute?prettyPrint=false&alt=json returned \"Collection.reduceColumns: Empty date ranges not supported for the current operation.\">",
      "\nDuring handling of the above exception, another exception occurred:\n",
      "\u001b[1;31mEEException\u001b[0m                               Traceback (most recent call last)",
      "\u001b[1;32m<ipython-input-15-4b40b2a64ec9>\u001b[0m in \u001b[0;36m<module>\u001b[1;34m\u001b[0m\n\u001b[1;32m----> 1\u001b[1;33m \u001b[0mcollection\u001b[0m\u001b[1;33m.\u001b[0m\u001b[0msize\u001b[0m\u001b[1;33m(\u001b[0m\u001b[1;33m)\u001b[0m\u001b[1;33m.\u001b[0m\u001b[0mgetInfo\u001b[0m\u001b[1;33m(\u001b[0m\u001b[1;33m)\u001b[0m\u001b[1;33m\u001b[0m\u001b[1;33m\u001b[0m\u001b[0m\n\u001b[0m",
      "\u001b[1;32mC:\\Anaconda3\\envs\\cloud_removal\\lib\\site-packages\\ee\\computedobject.py\u001b[0m in \u001b[0;36mgetInfo\u001b[1;34m(self)\u001b[0m\n\u001b[0;32m     93\u001b[0m       \u001b[0mThe\u001b[0m \u001b[0mobject\u001b[0m \u001b[0mcan\u001b[0m \u001b[0mevaluate\u001b[0m \u001b[0mto\u001b[0m \u001b[0manything\u001b[0m\u001b[1;33m.\u001b[0m\u001b[1;33m\u001b[0m\u001b[1;33m\u001b[0m\u001b[0m\n\u001b[0;32m     94\u001b[0m     \"\"\"\n\u001b[1;32m---> 95\u001b[1;33m     \u001b[1;32mreturn\u001b[0m \u001b[0mdata\u001b[0m\u001b[1;33m.\u001b[0m\u001b[0mcomputeValue\u001b[0m\u001b[1;33m(\u001b[0m\u001b[0mself\u001b[0m\u001b[1;33m)\u001b[0m\u001b[1;33m\u001b[0m\u001b[1;33m\u001b[0m\u001b[0m\n\u001b[0m\u001b[0;32m     96\u001b[0m \u001b[1;33m\u001b[0m\u001b[0m\n\u001b[0;32m     97\u001b[0m   \u001b[1;32mdef\u001b[0m \u001b[0mencode\u001b[0m\u001b[1;33m(\u001b[0m\u001b[0mself\u001b[0m\u001b[1;33m,\u001b[0m \u001b[0mencoder\u001b[0m\u001b[1;33m)\u001b[0m\u001b[1;33m:\u001b[0m\u001b[1;33m\u001b[0m\u001b[1;33m\u001b[0m\u001b[0m\n",
      "\u001b[1;32mC:\\Anaconda3\\envs\\cloud_removal\\lib\\site-packages\\ee\\data.py\u001b[0m in \u001b[0;36mcomputeValue\u001b[1;34m(obj)\u001b[0m\n\u001b[0;32m    704\u001b[0m   \"\"\"\n\u001b[0;32m    705\u001b[0m   \u001b[1;32mif\u001b[0m \u001b[0m_use_cloud_api\u001b[0m\u001b[1;33m:\u001b[0m\u001b[1;33m\u001b[0m\u001b[1;33m\u001b[0m\u001b[0m\n\u001b[1;32m--> 706\u001b[1;33m     return _execute_cloud_call(\n\u001b[0m\u001b[0;32m    707\u001b[0m         _get_cloud_api_resource().projects().value().compute(\n\u001b[0;32m    708\u001b[0m             \u001b[0mbody\u001b[0m\u001b[1;33m=\u001b[0m\u001b[1;33m{\u001b[0m\u001b[1;34m'expression'\u001b[0m\u001b[1;33m:\u001b[0m \u001b[0mserializer\u001b[0m\u001b[1;33m.\u001b[0m\u001b[0mencode\u001b[0m\u001b[1;33m(\u001b[0m\u001b[0mobj\u001b[0m\u001b[1;33m,\u001b[0m \u001b[0mfor_cloud_api\u001b[0m\u001b[1;33m=\u001b[0m\u001b[1;32mTrue\u001b[0m\u001b[1;33m)\u001b[0m\u001b[1;33m}\u001b[0m\u001b[1;33m,\u001b[0m\u001b[1;33m\u001b[0m\u001b[1;33m\u001b[0m\u001b[0m\n",
      "\u001b[1;32mC:\\Anaconda3\\envs\\cloud_removal\\lib\\site-packages\\ee\\data.py\u001b[0m in \u001b[0;36m_execute_cloud_call\u001b[1;34m(call, num_retries)\u001b[0m\n\u001b[0;32m    345\u001b[0m     \u001b[1;32mreturn\u001b[0m \u001b[0mcall\u001b[0m\u001b[1;33m.\u001b[0m\u001b[0mexecute\u001b[0m\u001b[1;33m(\u001b[0m\u001b[0mnum_retries\u001b[0m\u001b[1;33m=\u001b[0m\u001b[0mnum_retries\u001b[0m\u001b[1;33m)\u001b[0m\u001b[1;33m\u001b[0m\u001b[1;33m\u001b[0m\u001b[0m\n\u001b[0;32m    346\u001b[0m   \u001b[1;32mexcept\u001b[0m \u001b[0mgoogleapiclient\u001b[0m\u001b[1;33m.\u001b[0m\u001b[0merrors\u001b[0m\u001b[1;33m.\u001b[0m\u001b[0mHttpError\u001b[0m \u001b[1;32mas\u001b[0m \u001b[0me\u001b[0m\u001b[1;33m:\u001b[0m\u001b[1;33m\u001b[0m\u001b[1;33m\u001b[0m\u001b[0m\n\u001b[1;32m--> 347\u001b[1;33m     \u001b[1;32mraise\u001b[0m \u001b[0m_translate_cloud_exception\u001b[0m\u001b[1;33m(\u001b[0m\u001b[0me\u001b[0m\u001b[1;33m)\u001b[0m\u001b[1;33m\u001b[0m\u001b[1;33m\u001b[0m\u001b[0m\n\u001b[0m\u001b[0;32m    348\u001b[0m \u001b[1;33m\u001b[0m\u001b[0m\n\u001b[0;32m    349\u001b[0m \u001b[1;33m\u001b[0m\u001b[0m\n",
      "\u001b[1;31mEEException\u001b[0m: Collection.reduceColumns: Empty date ranges not supported for the current operation."
     ]
    }
   ],
   "source": [
    "collection.size().getInfo()"
   ]
  },
  {
   "cell_type": "code",
   "execution_count": 16,
   "metadata": {},
   "outputs": [
    {
     "data": {
      "text/plain": [
       "'2020-12-11'"
      ]
     },
     "execution_count": 16,
     "metadata": {},
     "output_type": "execute_result"
    }
   ],
   "source": [
    "start_date"
   ]
  },
  {
   "cell_type": "code",
   "execution_count": 17,
   "metadata": {},
   "outputs": [
    {
     "data": {
      "text/plain": [
       "'2020-03-10'"
      ]
     },
     "execution_count": 17,
     "metadata": {},
     "output_type": "execute_result"
    }
   ],
   "source": [
    "end_date"
   ]
  },
  {
   "cell_type": "markdown",
   "metadata": {},
   "source": [
    "# Logging dynamic date range collection sizes"
   ]
  },
  {
   "cell_type": "code",
   "execution_count": 4,
   "metadata": {},
   "outputs": [],
   "source": [
    "fc,date_range_list,df_labels = import_aois(david__label_path, Full_Congo_Pull=False)"
   ]
  },
  {
   "cell_type": "code",
   "execution_count": 5,
   "metadata": {},
   "outputs": [
    {
     "name": "stdout",
     "output_type": "stream",
     "text": [
      "101 features have been loaded\n",
      "processing polygon 1 of 1\r"
     ]
    },
    {
     "name": "stderr",
     "output_type": "stream",
     "text": [
      "C:\\Anaconda3\\envs\\cloud_removal\\lib\\site-packages\\gevent\\hub.py:158: UserWarning: libuv only supports millisecond timer resolution; all times less will be set to 1 ms\n",
      "  with loop.timer(seconds, ref=ref) as t:\n"
     ]
    }
   ],
   "source": [
    "offset_dict = {\n",
    "    45: 90,\n",
    "    90: 180,\n",
    "    180: 'two years'\n",
    "}\n",
    "\n",
    "exports = process_datasource_custom_daterange(\n",
    "    source, sensor, export_folder, fc, offset_dict, date_range_list=date_range_list, limit=1\n",
    ")"
   ]
  },
  {
   "cell_type": "code",
   "execution_count": 6,
   "metadata": {},
   "outputs": [
    {
     "data": {
      "text/plain": [
       "([None], [])"
      ]
     },
     "execution_count": 6,
     "metadata": {},
     "output_type": "execute_result"
    }
   ],
   "source": [
    "exports"
   ]
  },
  {
   "cell_type": "code",
   "execution_count": 7,
   "metadata": {},
   "outputs": [
    {
     "name": "stdout",
     "output_type": "stream",
     "text": [
      "101 features have been loaded\n",
      "Computation timed out.; please wait for 60 minutes\r"
     ]
    },
    {
     "name": "stderr",
     "output_type": "stream",
     "text": [
      "Traceback (most recent call last):\n",
      "  File \"C:\\Anaconda3\\envs\\cloud_removal\\lib\\site-packages\\gevent\\_ffi\\loop.py\", line 269, in python_check_callback\n",
      "    def python_check_callback(self, watcher_ptr): # pylint:disable=unused-argument\n",
      "KeyboardInterrupt\n",
      "2021-01-15T21:15:08Z\n"
     ]
    },
    {
     "ename": "KeyboardInterrupt",
     "evalue": "",
     "output_type": "error",
     "traceback": [
      "\u001b[1;31m---------------------------------------------------------------------------\u001b[0m",
      "\u001b[1;31mKeyboardInterrupt\u001b[0m                         Traceback (most recent call last)",
      "\u001b[1;32m<ipython-input-7-c33681cdd443>\u001b[0m in \u001b[0;36m<module>\u001b[1;34m\u001b[0m\n\u001b[1;32m----> 1\u001b[1;33m exports = process_datasource_custom_daterange(\n\u001b[0m\u001b[0;32m      2\u001b[0m     \u001b[0msource\u001b[0m\u001b[1;33m,\u001b[0m \u001b[0msensor\u001b[0m\u001b[1;33m,\u001b[0m \u001b[0mexport_folder\u001b[0m\u001b[1;33m,\u001b[0m \u001b[0mfc\u001b[0m\u001b[1;33m,\u001b[0m \u001b[0moffset_dict\u001b[0m\u001b[1;33m,\u001b[0m \u001b[0mdate_range_list\u001b[0m\u001b[1;33m=\u001b[0m\u001b[0mdate_range_list\u001b[0m\u001b[1;33m\u001b[0m\u001b[1;33m\u001b[0m\u001b[0m\n\u001b[0;32m      3\u001b[0m )\n",
      "\u001b[1;32m~\\canopy\\canopy-gis\\google-earth-explore\\GEE_DataDownloader\\download_sen12.py\u001b[0m in \u001b[0;36mprocess_datasource_custom_daterange\u001b[1;34m(source, sensor, export_folder, polygons, offset_dict, date_range_list, pre_mosaic_sort, area_limit, loop_start, limit, minutes_to_wait, debug, no_dynamic_daterage)\u001b[0m\n\u001b[0;32m    280\u001b[0m                 \u001b[1;31m# exports.append(export)\u001b[0m\u001b[1;33m\u001b[0m\u001b[1;33m\u001b[0m\u001b[1;33m\u001b[0m\u001b[0m\n\u001b[0;32m    281\u001b[0m \u001b[1;33m\u001b[0m\u001b[0m\n\u001b[1;32m--> 282\u001b[1;33m                 \u001b[0mexport_try_except_loop\u001b[0m\u001b[1;33m(\u001b[0m\u001b[0mparams\u001b[0m\u001b[1;33m,\u001b[0m \u001b[0mminutes_to_wait\u001b[0m\u001b[1;33m,\u001b[0m \u001b[0mexports\u001b[0m\u001b[1;33m,\u001b[0m \u001b[0mexceptions\u001b[0m\u001b[1;33m,\u001b[0m \u001b[1;36m0\u001b[0m\u001b[1;33m,\u001b[0m \u001b[0mdebug\u001b[0m\u001b[1;33m)\u001b[0m\u001b[1;33m\u001b[0m\u001b[1;33m\u001b[0m\u001b[0m\n\u001b[0m\u001b[0;32m    283\u001b[0m                 \u001b[1;31m# print(f'Polygon {polygon_id} processed; please wait')\u001b[0m\u001b[1;33m\u001b[0m\u001b[1;33m\u001b[0m\u001b[1;33m\u001b[0m\u001b[0m\n\u001b[0;32m    284\u001b[0m                 \u001b[1;31m# time.sleep(30)\u001b[0m\u001b[1;33m\u001b[0m\u001b[1;33m\u001b[0m\u001b[1;33m\u001b[0m\u001b[0m\n",
      "\u001b[1;32m~\\canopy\\canopy-gis\\google-earth-explore\\GEE_DataDownloader\\download_sen12.py\u001b[0m in \u001b[0;36mexport_try_except_loop\u001b[1;34m(params, minutes_to_wait, exports, exceptions, attempts, debug)\u001b[0m\n\u001b[0;32m    301\u001b[0m                 \u001b[0mexceptions\u001b[0m\u001b[1;33m.\u001b[0m\u001b[0mappend\u001b[0m\u001b[1;33m(\u001b[0m\u001b[0me\u001b[0m\u001b[1;33m)\u001b[0m\u001b[1;33m\u001b[0m\u001b[1;33m\u001b[0m\u001b[0m\n\u001b[0;32m    302\u001b[0m                 \u001b[1;31m# wait 30 minutes\u001b[0m\u001b[1;33m\u001b[0m\u001b[1;33m\u001b[0m\u001b[1;33m\u001b[0m\u001b[0m\n\u001b[1;32m--> 303\u001b[1;33m                 \u001b[0mtime\u001b[0m\u001b[1;33m.\u001b[0m\u001b[0msleep\u001b[0m\u001b[1;33m(\u001b[0m\u001b[1;36m60\u001b[0m \u001b[1;33m*\u001b[0m \u001b[0mminutes_to_wait\u001b[0m\u001b[1;33m)\u001b[0m\u001b[1;33m\u001b[0m\u001b[1;33m\u001b[0m\u001b[0m\n\u001b[0m\u001b[0;32m    304\u001b[0m \u001b[1;33m\u001b[0m\u001b[0m\n\u001b[0;32m    305\u001b[0m                 \u001b[0mexport_try_except_loop\u001b[0m\u001b[1;33m(\u001b[0m\u001b[0mparams\u001b[0m\u001b[1;33m,\u001b[0m \u001b[0mminutes_to_wait\u001b[0m\u001b[1;33m,\u001b[0m \u001b[0mexports\u001b[0m\u001b[1;33m,\u001b[0m \u001b[0mexceptions\u001b[0m\u001b[1;33m,\u001b[0m \u001b[0mattempts\u001b[0m\u001b[1;33m)\u001b[0m\u001b[1;33m\u001b[0m\u001b[1;33m\u001b[0m\u001b[0m\n",
      "\u001b[1;32mC:\\Anaconda3\\envs\\cloud_removal\\lib\\site-packages\\gevent\\hub.py\u001b[0m in \u001b[0;36msleep\u001b[1;34m(seconds, ref)\u001b[0m\n\u001b[0;32m    161\u001b[0m             \u001b[1;31m# important to update the loop's notion of now before we start\u001b[0m\u001b[1;33m\u001b[0m\u001b[1;33m\u001b[0m\u001b[1;33m\u001b[0m\u001b[0m\n\u001b[0;32m    162\u001b[0m             \u001b[0mloop\u001b[0m\u001b[1;33m.\u001b[0m\u001b[0mupdate_now\u001b[0m\u001b[1;33m(\u001b[0m\u001b[1;33m)\u001b[0m\u001b[1;33m\u001b[0m\u001b[1;33m\u001b[0m\u001b[0m\n\u001b[1;32m--> 163\u001b[1;33m             \u001b[0mhub\u001b[0m\u001b[1;33m.\u001b[0m\u001b[0mwait\u001b[0m\u001b[1;33m(\u001b[0m\u001b[0mt\u001b[0m\u001b[1;33m)\u001b[0m\u001b[1;33m\u001b[0m\u001b[1;33m\u001b[0m\u001b[0m\n\u001b[0m\u001b[0;32m    164\u001b[0m \u001b[1;33m\u001b[0m\u001b[0m\n\u001b[0;32m    165\u001b[0m \u001b[1;33m\u001b[0m\u001b[0m\n",
      "\u001b[1;32mC:\\Anaconda3\\envs\\cloud_removal\\lib\\site-packages\\gevent\\_gevent_c_hub_primitives.cp38-win_amd64.pyd\u001b[0m in \u001b[0;36mgevent._gevent_c_hub_primitives.WaitOperationsGreenlet.wait\u001b[1;34m()\u001b[0m\n",
      "\u001b[1;32mC:\\Anaconda3\\envs\\cloud_removal\\lib\\site-packages\\gevent\\_gevent_c_hub_primitives.cp38-win_amd64.pyd\u001b[0m in \u001b[0;36mgevent._gevent_c_hub_primitives.WaitOperationsGreenlet.wait\u001b[1;34m()\u001b[0m\n",
      "\u001b[1;32mC:\\Anaconda3\\envs\\cloud_removal\\lib\\site-packages\\gevent\\_gevent_c_waiter.cp38-win_amd64.pyd\u001b[0m in \u001b[0;36mgevent._gevent_c_waiter.Waiter.get\u001b[1;34m()\u001b[0m\n",
      "\u001b[1;32mC:\\Anaconda3\\envs\\cloud_removal\\lib\\site-packages\\gevent\\_gevent_c_greenlet_primitives.cp38-win_amd64.pyd\u001b[0m in \u001b[0;36mgevent._gevent_c_greenlet_primitives.SwitchOutGreenletWithLoop.switch\u001b[1;34m()\u001b[0m\n",
      "\u001b[1;32mC:\\Anaconda3\\envs\\cloud_removal\\lib\\site-packages\\gevent\\_gevent_c_greenlet_primitives.cp38-win_amd64.pyd\u001b[0m in \u001b[0;36mgevent._gevent_c_greenlet_primitives.SwitchOutGreenletWithLoop.switch\u001b[1;34m()\u001b[0m\n",
      "\u001b[1;32mC:\\Anaconda3\\envs\\cloud_removal\\lib\\site-packages\\gevent\\_gevent_c_greenlet_primitives.cp38-win_amd64.pyd\u001b[0m in \u001b[0;36mgevent._gevent_c_greenlet_primitives.SwitchOutGreenletWithLoop.switch\u001b[1;34m()\u001b[0m\n",
      "\u001b[1;32msrc/gevent/_gevent_c_greenlet_primitives.pxd\u001b[0m in \u001b[0;36mgevent._gevent_c_greenlet_primitives._greenlet_switch\u001b[1;34m()\u001b[0m\n",
      "\u001b[1;32mC:\\Anaconda3\\envs\\cloud_removal\\lib\\site-packages\\gevent\\_ffi\\loop.py\u001b[0m in \u001b[0;36mpython_check_callback\u001b[1;34m(self, watcher_ptr)\u001b[0m\n\u001b[0;32m    267\u001b[0m \u001b[1;33m\u001b[0m\u001b[0m\n\u001b[0;32m    268\u001b[0m     \u001b[1;32mif\u001b[0m \u001b[1;32mnot\u001b[0m \u001b[0mPYPY\u001b[0m\u001b[1;33m:\u001b[0m\u001b[1;33m\u001b[0m\u001b[1;33m\u001b[0m\u001b[0m\n\u001b[1;32m--> 269\u001b[1;33m         \u001b[1;32mdef\u001b[0m \u001b[0mpython_check_callback\u001b[0m\u001b[1;33m(\u001b[0m\u001b[0mself\u001b[0m\u001b[1;33m,\u001b[0m \u001b[0mwatcher_ptr\u001b[0m\u001b[1;33m)\u001b[0m\u001b[1;33m:\u001b[0m \u001b[1;31m# pylint:disable=unused-argument\u001b[0m\u001b[1;33m\u001b[0m\u001b[1;33m\u001b[0m\u001b[0m\n\u001b[0m\u001b[0;32m    270\u001b[0m             \u001b[1;31m# If we have the onerror callback, this is a no-op; all the real\u001b[0m\u001b[1;33m\u001b[0m\u001b[1;33m\u001b[0m\u001b[1;33m\u001b[0m\u001b[0m\n\u001b[0;32m    271\u001b[0m             \u001b[1;31m# work to rethrow the exception is done by the onerror callback\u001b[0m\u001b[1;33m\u001b[0m\u001b[1;33m\u001b[0m\u001b[1;33m\u001b[0m\u001b[0m\n",
      "\u001b[1;31mKeyboardInterrupt\u001b[0m: "
     ]
    },
    {
     "name": "stderr",
     "output_type": "stream",
     "text": [
      "C:\\Anaconda3\\envs\\cloud_removal\\lib\\site-packages\\gevent\\hub.py:158: UserWarning: libuv only supports millisecond timer resolution; all times less will be set to 1 ms\n",
      "  with loop.timer(seconds, ref=ref) as t:\n"
     ]
    }
   ],
   "source": [
    "exports = process_datasource_custom_daterange(\n",
    "    source, sensor, export_folder, fc, offset_dict, date_range_list=date_range_list\n",
    ")"
   ]
  },
  {
   "cell_type": "code",
   "execution_count": 9,
   "metadata": {},
   "outputs": [
    {
     "name": "stdout",
     "output_type": "stream",
     "text": [
      "101 features have been loaded\n",
      "processing polygon 101 of 101\r"
     ]
    },
    {
     "name": "stderr",
     "output_type": "stream",
     "text": [
      "C:\\Anaconda3\\envs\\cloud_removal\\lib\\site-packages\\gevent\\hub.py:158: UserWarning: libuv only supports millisecond timer resolution; all times less will be set to 1 ms\n",
      "  with loop.timer(seconds, ref=ref) as t:\n"
     ]
    }
   ],
   "source": [
    "exports = process_datasource_custom_daterange(\n",
    "    source, sensor, export_folder, fc, offset_dict, date_range_list=date_range_list, loop_start=81\n",
    ")"
   ]
  },
  {
   "cell_type": "code",
   "execution_count": null,
   "metadata": {},
   "outputs": [],
   "source": []
  }
 ],
 "metadata": {
  "kernelspec": {
   "display_name": "cloud-removal",
   "language": "python",
   "name": "cloud_removal"
  },
  "language_info": {
   "codemirror_mode": {
    "name": "ipython",
    "version": 3
   },
   "file_extension": ".py",
   "mimetype": "text/x-python",
   "name": "python",
   "nbconvert_exporter": "python",
   "pygments_lexer": "ipython3",
   "version": "3.8.5"
  }
 },
 "nbformat": 4,
 "nbformat_minor": 4
}
