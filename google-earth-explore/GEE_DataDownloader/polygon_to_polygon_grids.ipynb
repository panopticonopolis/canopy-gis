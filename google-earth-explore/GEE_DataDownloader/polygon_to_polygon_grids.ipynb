{
 "cells": [
  {
   "cell_type": "code",
   "execution_count": 216,
   "metadata": {},
   "outputs": [],
   "source": [
    "import pandas as pd\n",
    "import gdal\n",
    "import json\n",
    "from shapely.geometry import Polygon\n",
    "import geopandas as gpd\n",
    "import gpd_lite_toolbox as glt\n",
    "from gpd_lite_toolbox.utils_carto import m_plot_dataframe, m_plot_multipolygon\n",
    "import numpy as np\n",
    "import ee\n",
    "\n",
    "ee.Initialize()"
   ]
  },
  {
   "cell_type": "code",
   "execution_count": 2,
   "metadata": {},
   "outputs": [],
   "source": [
    "df = pd.read_csv(\"/Volumes/Lacie/zhenyadata/Project_Canopy_Data/PC_Data/Geometry/tile_lists/shub_tile_list/tiles_polygons_full_v2.csv\")"
   ]
  },
  {
   "cell_type": "code",
   "execution_count": 3,
   "metadata": {},
   "outputs": [
    {
     "data": {
      "text/html": [
       "<div>\n",
       "<style scoped>\n",
       "    .dataframe tbody tr th:only-of-type {\n",
       "        vertical-align: middle;\n",
       "    }\n",
       "\n",
       "    .dataframe tbody tr th {\n",
       "        vertical-align: top;\n",
       "    }\n",
       "\n",
       "    .dataframe thead th {\n",
       "        text-align: right;\n",
       "    }\n",
       "</style>\n",
       "<table border=\"1\" class=\"dataframe\">\n",
       "  <thead>\n",
       "    <tr style=\"text-align: right;\">\n",
       "      <th></th>\n",
       "      <th>Tile_ID</th>\n",
       "      <th>Polygon</th>\n",
       "    </tr>\n",
       "  </thead>\n",
       "  <tbody>\n",
       "    <tr>\n",
       "      <th>0</th>\n",
       "      <td>32MMD</td>\n",
       "      <td>[[8.100490685394892, -1.8974285062763014], [8....</td>\n",
       "    </tr>\n",
       "    <tr>\n",
       "      <th>1</th>\n",
       "      <td>32MME</td>\n",
       "      <td>[[8.260416537224202, -0.9930685574564732], [8....</td>\n",
       "    </tr>\n",
       "    <tr>\n",
       "      <th>2</th>\n",
       "      <td>32NNG</td>\n",
       "      <td>[[8.999730861504322, 1.8098298376179167], [8.9...</td>\n",
       "    </tr>\n",
       "    <tr>\n",
       "      <th>3</th>\n",
       "      <td>32NNH</td>\n",
       "      <td>[[9.076459111593785, 2.714261301620153], [9.07...</td>\n",
       "    </tr>\n",
       "    <tr>\n",
       "      <th>4</th>\n",
       "      <td>32NNJ</td>\n",
       "      <td>[[9.275359188516656, 3.6191061888902563], [9.2...</td>\n",
       "    </tr>\n",
       "    <tr>\n",
       "      <th>...</th>\n",
       "      <td>...</td>\n",
       "      <td>...</td>\n",
       "    </tr>\n",
       "    <tr>\n",
       "      <th>303</th>\n",
       "      <td>35NPB</td>\n",
       "      <td>[[27.898993787527058, 1.8096057131920158], [27...</td>\n",
       "    </tr>\n",
       "    <tr>\n",
       "      <th>304</th>\n",
       "      <td>35NNC</td>\n",
       "      <td>[[26.999730687673807, 2.714184965229428], [26....</td>\n",
       "    </tr>\n",
       "    <tr>\n",
       "      <th>305</th>\n",
       "      <td>35NPC</td>\n",
       "      <td>[[27.899550592739754, 2.7138487059430134], [27...</td>\n",
       "    </tr>\n",
       "    <tr>\n",
       "      <th>306</th>\n",
       "      <td>35NPD</td>\n",
       "      <td>[[27.900331529723736, 3.618620781907565], [27....</td>\n",
       "    </tr>\n",
       "    <tr>\n",
       "      <th>307</th>\n",
       "      <td>35NPE</td>\n",
       "      <td>[[27.901337310793615, 4.5233745349513805], [27...</td>\n",
       "    </tr>\n",
       "  </tbody>\n",
       "</table>\n",
       "<p>308 rows × 2 columns</p>\n",
       "</div>"
      ],
      "text/plain": [
       "    Tile_ID                                            Polygon\n",
       "0     32MMD  [[8.100490685394892, -1.8974285062763014], [8....\n",
       "1     32MME  [[8.260416537224202, -0.9930685574564732], [8....\n",
       "2     32NNG  [[8.999730861504322, 1.8098298376179167], [8.9...\n",
       "3     32NNH  [[9.076459111593785, 2.714261301620153], [9.07...\n",
       "4     32NNJ  [[9.275359188516656, 3.6191061888902563], [9.2...\n",
       "..      ...                                                ...\n",
       "303   35NPB  [[27.898993787527058, 1.8096057131920158], [27...\n",
       "304   35NNC  [[26.999730687673807, 2.714184965229428], [26....\n",
       "305   35NPC  [[27.899550592739754, 2.7138487059430134], [27...\n",
       "306   35NPD  [[27.900331529723736, 3.618620781907565], [27....\n",
       "307   35NPE  [[27.901337310793615, 4.5233745349513805], [27...\n",
       "\n",
       "[308 rows x 2 columns]"
      ]
     },
     "execution_count": 3,
     "metadata": {},
     "output_type": "execute_result"
    }
   ],
   "source": [
    "df"
   ]
  },
  {
   "cell_type": "code",
   "execution_count": 38,
   "metadata": {},
   "outputs": [],
   "source": [
    "gdf = gpd.GeoSeries([Polygon(json.loads(polygon)) for polygon in df[\"Polygon\"]])"
   ]
  },
  {
   "cell_type": "code",
   "execution_count": 41,
   "metadata": {},
   "outputs": [
    {
     "data": {
      "text/plain": [
       "308"
      ]
     },
     "execution_count": 41,
     "metadata": {},
     "output_type": "execute_result"
    }
   ],
   "source": [
    "gdf.shape[0]"
   ]
  },
  {
   "cell_type": "code",
   "execution_count": 49,
   "metadata": {},
   "outputs": [],
   "source": [
    "gdf.to_file(\"/Volumes/Lacie/zhenyadata/Project_Canopy_Data/PC_Data/Geometry/tile_lists/polygon_shapefiles/test.shp\")\n",
    "\n",
    "# for i in range(gdf.shape[0]):\n",
    "#     print(gdf.loc[i])\n",
    "#     gdf.loc[i].to_file(f\"/Volumes/Lacie/zhenyadata/Project_Canopy_Data/PC_Data/Geometry/tile_lists/polygon_shapefiles/{i}.shp\")"
   ]
  },
  {
   "cell_type": "code",
   "execution_count": null,
   "metadata": {},
   "outputs": [],
   "source": [
    "# output = \"/Volumes/Lacie/zhenyadata/Project_Canopy_Data/PC_Data/Geometry/tile_lists/test_polygon_to_rast/test.tif\"\n",
    "# shapesrc = \"/Volumes/Lacie/zhenyadata/Project_Canopy_Data/PC_Data/Geometry/tile_lists/polygon_shapefiles/test.shp\"\n",
    "\n",
    "# gdal.Rasterize(output,shapesrc)"
   ]
  },
  {
   "cell_type": "code",
   "execution_count": 56,
   "metadata": {},
   "outputs": [],
   "source": [
    "gdal.Rasterize(\"/Volumes/Lacie/zhenyadata/Project_Canopy_Data/PC_Data/Geometry/tile_lists/test_polygon_to_rast/test.tif\",polygon)\n"
   ]
  },
  {
   "cell_type": "code",
   "execution_count": 59,
   "metadata": {},
   "outputs": [
    {
     "name": "stdout",
     "output_type": "stream",
     "text": [
      "Help on function Rasterize in module osgeo.gdal:\n",
      "\n",
      "Rasterize(destNameOrDestDS, srcDS, **kwargs)\n",
      "    Burns vector geometries into a raster\n",
      "    Arguments are :\n",
      "      destNameOrDestDS --- Output dataset name or object\n",
      "      srcDS --- a Dataset object or a filename\n",
      "    Keyword arguments are :\n",
      "      options --- return of gdal.RasterizeOptions(), string or array of strings\n",
      "      other keywords arguments of gdal.RasterizeOptions()\n",
      "    If options is provided as a gdal.RasterizeOptions() object, other keywords are ignored.\n",
      "\n"
     ]
    }
   ],
   "source": [
    "help(gdal.Rasterize)"
   ]
  },
  {
   "cell_type": "markdown",
   "metadata": {},
   "source": [
    "# Exploring Grid Shapefile"
   ]
  },
  {
   "cell_type": "code",
   "execution_count": 294,
   "metadata": {},
   "outputs": [],
   "source": [
    "full_congo_geo = \"/Volumes/Lacie/zhenyadata/Project_Canopy_Data/PC_Data/Geometry/tile_lists/polygon_shapefiles/Congo_Basin_Shapefile_Grid_v1.geojson\"\n"
   ]
  },
  {
   "cell_type": "code",
   "execution_count": 296,
   "metadata": {},
   "outputs": [],
   "source": [
    "features = []\n",
    "\n",
    "with open(full_congo_geo,\"r\",encoding='utf-8') as jsonfile:\n",
    "    data = json.load(jsonfile)\n",
    "    for geometry in data[\"features\"]:\n",
    "        polygon = geometry[\"geometry\"][\"coordinates\"][0][0]\n",
    "        poly_obj = ee.Geometry.Polygon(polygon)\n",
    "        feature = ee.Feature(poly_obj)\n",
    "        features.append(feature)\n",
    "        \n",
    "        \n",
    "#                 for index,tile,polygon in df_congo_tile_list.itertuples():\n",
    "#             poly_obj = ee.Geometry.Polygon(json.loads(polygon))\n",
    "#             feature = ee.Feature(poly_obj,{\"name\":tile})\n",
    "#             features.append(feature)"
   ]
  },
  {
   "cell_type": "code",
   "execution_count": 298,
   "metadata": {},
   "outputs": [
    {
     "data": {
      "text/plain": [
       "{'type': 'Feature',\n",
       " 'geometry': {'type': 'Polygon',\n",
       "  'coordinates': [[[7.774437227891959, 5.590436336],\n",
       "    [7.789316305, 5.590436336],\n",
       "    [7.789316305, 5.607344378168228],\n",
       "    [7.774437227891959, 5.590436336]]]},\n",
       " 'properties': {}}"
      ]
     },
     "execution_count": 298,
     "metadata": {},
     "output_type": "execute_result"
    }
   ],
   "source": [
    "features[0].getInfo()"
   ]
  },
  {
   "cell_type": "code",
   "execution_count": 199,
   "metadata": {},
   "outputs": [],
   "source": [
    "# gdf.to_csv(\"/Volumes/Lacie/zhenyadata/Project_Canopy_Data/PC_Data/Geometry/tile_lists/polygon_shapefiles/Congo_Basin_Shapefile_Grid_v1.csv\")\n",
    "\n",
    "csv_loc = \"/Volumes/Lacie/zhenyadata/Project_Canopy_Data/PC_Data/Geometry/tile_lists/polygon_shapefiles/Congo_Basin_Shapefile_Grid_v1.csv\""
   ]
  },
  {
   "cell_type": "code",
   "execution_count": 235,
   "metadata": {},
   "outputs": [],
   "source": [
    "gdf_test = pd.read_csv(csv_loc)[\"geometry\"]"
   ]
  },
  {
   "cell_type": "code",
   "execution_count": 245,
   "metadata": {},
   "outputs": [
    {
     "name": "stderr",
     "output_type": "stream",
     "text": [
      "<ipython-input-245-4fb9316e03a5>:1: FutureWarning:     You are passing non-geometry data to the GeoSeries constructor. Currently,\n",
      "    it falls back to returning a pandas Series. But in the future, we will start\n",
      "    to raise a TypeError instead.\n",
      "  gpd.GeoSeries(gdf_test).to_numpy()\n"
     ]
    },
    {
     "data": {
      "text/plain": [
       "array(['POLYGON ((7.774437227891959 5.590436336, 7.789316305 5.607344378168228, 7.789316305 5.590436336, 7.774437227891959 5.590436336))',\n",
       "       'POLYGON ((7.598437227891959 5.390436336, 7.774437227891959 5.590436336, 7.789316305 5.590436336, 7.789316305 5.390436336, 7.598437227891959 5.390436336))',\n",
       "       'POLYGON ((7.722077447963644 5.190436335999999, 7.58931630518685 5.38007165110783, 7.598437227891959 5.390436336, 7.789316305 5.390436336, 7.789316305 5.190436335999999, 7.722077447963644 5.190436335999999))',\n",
       "       ...,\n",
       "       'POLYGON ((30.189316305 2.3514008758721, 30.27175171449114 2.304938798701089, 30.24538363948426 2.190436335999999, 30.189316305 2.190436335999999, 30.189316305 2.3514008758721))',\n",
       "       'POLYGON ((30.24538363948426 2.190436335999999, 30.19932685714988 1.990436335999999, 30.189316305 1.990436335999999, 30.189316305 2.190436335999999, 30.24538363948426 2.190436335999999))',\n",
       "       'POLYGON ((30.19932685714988 1.990436335999999, 30.189316305 1.946965856116292, 30.189316305 1.990436335999999, 30.19932685714988 1.990436335999999))'],\n",
       "      dtype=object)"
      ]
     },
     "execution_count": 245,
     "metadata": {},
     "output_type": "execute_result"
    }
   ],
   "source": [
    "gpd.GeoSeries(gdf_test).to_numpy()"
   ]
  },
  {
   "cell_type": "markdown",
   "metadata": {},
   "source": [
    "# Testing Polygon Import"
   ]
  },
  {
   "cell_type": "code",
   "execution_count": 309,
   "metadata": {},
   "outputs": [],
   "source": [
    "def import_aois(csv_loc, Full_Congo_Pull=False, start_date=None,\n",
    "                end_date=None, days_duration=90, poly_start=0, poly_limit=None):\n",
    "    features = []\n",
    "    polygons = []\n",
    "    day_offset = days_duration / 2\n",
    "    start_end_list = []\n",
    "    \n",
    "    if Full_Congo_Pull:\n",
    "        with open(csv_loc,\"r\",encoding='utf-8') as jsonfile:\n",
    "            data = json.load(jsonfile)\n",
    "            for geometry in data[\"features\"]:\n",
    "                polygon = geometry[\"geometry\"][\"coordinates\"][0][0]\n",
    "                poly_obj = ee.Geometry.Polygon(polygon)\n",
    "                feature = ee.Feature(poly_obj)\n",
    "                features.append(feature)\n",
    "        \n",
    "    else:\n",
    "        feature_id = poly_start\n",
    "        \n",
    "        if poly_limit:\n",
    "            df_labels = pd.read_csv(csv_loc, skiprows=range(1, poly_start+1), nrows=poly_limit)\n",
    "        else:\n",
    "            df_labels = pd.read_csv(csv_loc, skiprows=range(1, poly_start+1))\n",
    "\n",
    "        df_labels = df_labels[[\"center-lat\",\"center-long\",\"polygon\",\"Labels combined\",\"tile date\",\"area (km2)\"]]\n",
    "        df_labels[\"tile date\"] = pd.to_datetime(df_labels[\"tile date\"])\n",
    "        start = (df_labels[\"tile date\"] + DateOffset(days=-day_offset))\n",
    "        end = (df_labels[\"tile date\"] + DateOffset(days=day_offset))\n",
    "        for i in range(len(start)):\n",
    "            start_date = str(start[i])[:10]\n",
    "            end_date = str(end[i])[:10]\n",
    "            original_date = df_labels.loc[i, 'tile date']\n",
    "            area = df_labels.loc[i, 'area (km2)']\n",
    "            date_dict = {\n",
    "                'start_date': start_date,\n",
    "                'end_date': end_date,\n",
    "                'original_date': original_date,\n",
    "                'day_offset': day_offset,\n",
    "                'area': area\n",
    "            }\n",
    "            start_end_list.append(date_dict)\n",
    "\n",
    "        for polygon in df_labels[\"polygon\"]:\n",
    "            polygons.append(json.loads(polygon)[\"coordinates\"])\n",
    "            \n",
    "        for poly in polygons:\n",
    "            # create an roi. first item in Misha's label list\n",
    "            feature_id += 1 \n",
    "            # create geometry object, create feature object, append to features list for feature collection creation \n",
    "            polys = ee.Geometry.Polygon(poly)\n",
    "            feature = ee.Feature(polys,{\"name\":feature_id})\n",
    "            features.append(feature)\n",
    "        \n",
    "            \n",
    "    return ee.FeatureCollection(features)\n",
    "\n",
    "\n",
    "# ### CHANGE BELOW PATH ###\n",
    "# zhenya_label_path = \"/Volumes/Lacie/zhenyadata/Project_Canopy_Data/PC_Data/Sentinel_Data/Labelled/Tiles_v3/Polygon_List/polygons_101320.csv\"\n",
    "# david__label_path = 'D:/canopy_data/csvs/polygons_101320.csv'\n",
    "zhenya_tilelist_path = \"/Volumes/Lacie/zhenyadata/Project_Canopy_Data/PC_Data/Geometry/tile_lists/shub_tile_list/tiles_polygons_full.csv\"\n",
    "full_congo_geo_path = \"/Volumes/Lacie/zhenyadata/Project_Canopy_Data/PC_Data/Geometry/tile_lists/polygon_shapefiles/Congo_Basin_Shapefile_Grid_v1.geojson\""
   ]
  },
  {
   "cell_type": "code",
   "execution_count": 310,
   "metadata": {},
   "outputs": [],
   "source": [
    "features = import_aois(full_congo_geo_path,Full_Congo_Pull = True)"
   ]
  },
  {
   "cell_type": "markdown",
   "metadata": {},
   "source": [
    "# Exporting individual polygons as shapefile from polygon list"
   ]
  },
  {
   "cell_type": "code",
   "execution_count": 315,
   "metadata": {},
   "outputs": [],
   "source": [
    "label_list = \"/Volumes/Lacie/zhenyadata/Project_Canopy_Data/PC_Data/Sentinel_Data/Labelled/Tiles_v3/Polygon_List/polygons_101320.csv\"\n",
    "\n",
    "\n",
    "\n"
   ]
  },
  {
   "cell_type": "code",
   "execution_count": null,
   "metadata": {},
   "outputs": [],
   "source": []
  }
 ],
 "metadata": {
  "kernelspec": {
   "display_name": "gee-conda",
   "language": "python",
   "name": "gee-conda"
  },
  "language_info": {
   "codemirror_mode": {
    "name": "ipython",
    "version": 3
   },
   "file_extension": ".py",
   "mimetype": "text/x-python",
   "name": "python",
   "nbconvert_exporter": "python",
   "pygments_lexer": "ipython3",
   "version": "3.8.6"
  }
 },
 "nbformat": 4,
 "nbformat_minor": 4
}
