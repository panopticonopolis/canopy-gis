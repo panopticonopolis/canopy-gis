{
 "cells": [
  {
   "cell_type": "code",
   "execution_count": 37,
   "metadata": {},
   "outputs": [],
   "source": [
    "import pandas as pd\n",
    "import gdal\n",
    "import json\n",
    "from shapely.geometry import Polygon\n",
    "import geopandas as gpd"
   ]
  },
  {
   "cell_type": "code",
   "execution_count": 2,
   "metadata": {},
   "outputs": [],
   "source": [
    "df = pd.read_csv(\"/Volumes/Lacie/zhenyadata/Project_Canopy_Data/PC_Data/Geometry/tile_lists/shub_tile_list/tiles_polygons_full_v2.csv\")"
   ]
  },
  {
   "cell_type": "code",
   "execution_count": 3,
   "metadata": {},
   "outputs": [
    {
     "data": {
      "text/html": [
       "<div>\n",
       "<style scoped>\n",
       "    .dataframe tbody tr th:only-of-type {\n",
       "        vertical-align: middle;\n",
       "    }\n",
       "\n",
       "    .dataframe tbody tr th {\n",
       "        vertical-align: top;\n",
       "    }\n",
       "\n",
       "    .dataframe thead th {\n",
       "        text-align: right;\n",
       "    }\n",
       "</style>\n",
       "<table border=\"1\" class=\"dataframe\">\n",
       "  <thead>\n",
       "    <tr style=\"text-align: right;\">\n",
       "      <th></th>\n",
       "      <th>Tile_ID</th>\n",
       "      <th>Polygon</th>\n",
       "    </tr>\n",
       "  </thead>\n",
       "  <tbody>\n",
       "    <tr>\n",
       "      <th>0</th>\n",
       "      <td>32MMD</td>\n",
       "      <td>[[8.100490685394892, -1.8974285062763014], [8....</td>\n",
       "    </tr>\n",
       "    <tr>\n",
       "      <th>1</th>\n",
       "      <td>32MME</td>\n",
       "      <td>[[8.260416537224202, -0.9930685574564732], [8....</td>\n",
       "    </tr>\n",
       "    <tr>\n",
       "      <th>2</th>\n",
       "      <td>32NNG</td>\n",
       "      <td>[[8.999730861504322, 1.8098298376179167], [8.9...</td>\n",
       "    </tr>\n",
       "    <tr>\n",
       "      <th>3</th>\n",
       "      <td>32NNH</td>\n",
       "      <td>[[9.076459111593785, 2.714261301620153], [9.07...</td>\n",
       "    </tr>\n",
       "    <tr>\n",
       "      <th>4</th>\n",
       "      <td>32NNJ</td>\n",
       "      <td>[[9.275359188516656, 3.6191061888902563], [9.2...</td>\n",
       "    </tr>\n",
       "    <tr>\n",
       "      <th>...</th>\n",
       "      <td>...</td>\n",
       "      <td>...</td>\n",
       "    </tr>\n",
       "    <tr>\n",
       "      <th>303</th>\n",
       "      <td>35NPB</td>\n",
       "      <td>[[27.898993787527058, 1.8096057131920158], [27...</td>\n",
       "    </tr>\n",
       "    <tr>\n",
       "      <th>304</th>\n",
       "      <td>35NNC</td>\n",
       "      <td>[[26.999730687673807, 2.714184965229428], [26....</td>\n",
       "    </tr>\n",
       "    <tr>\n",
       "      <th>305</th>\n",
       "      <td>35NPC</td>\n",
       "      <td>[[27.899550592739754, 2.7138487059430134], [27...</td>\n",
       "    </tr>\n",
       "    <tr>\n",
       "      <th>306</th>\n",
       "      <td>35NPD</td>\n",
       "      <td>[[27.900331529723736, 3.618620781907565], [27....</td>\n",
       "    </tr>\n",
       "    <tr>\n",
       "      <th>307</th>\n",
       "      <td>35NPE</td>\n",
       "      <td>[[27.901337310793615, 4.5233745349513805], [27...</td>\n",
       "    </tr>\n",
       "  </tbody>\n",
       "</table>\n",
       "<p>308 rows × 2 columns</p>\n",
       "</div>"
      ],
      "text/plain": [
       "    Tile_ID                                            Polygon\n",
       "0     32MMD  [[8.100490685394892, -1.8974285062763014], [8....\n",
       "1     32MME  [[8.260416537224202, -0.9930685574564732], [8....\n",
       "2     32NNG  [[8.999730861504322, 1.8098298376179167], [8.9...\n",
       "3     32NNH  [[9.076459111593785, 2.714261301620153], [9.07...\n",
       "4     32NNJ  [[9.275359188516656, 3.6191061888902563], [9.2...\n",
       "..      ...                                                ...\n",
       "303   35NPB  [[27.898993787527058, 1.8096057131920158], [27...\n",
       "304   35NNC  [[26.999730687673807, 2.714184965229428], [26....\n",
       "305   35NPC  [[27.899550592739754, 2.7138487059430134], [27...\n",
       "306   35NPD  [[27.900331529723736, 3.618620781907565], [27....\n",
       "307   35NPE  [[27.901337310793615, 4.5233745349513805], [27...\n",
       "\n",
       "[308 rows x 2 columns]"
      ]
     },
     "execution_count": 3,
     "metadata": {},
     "output_type": "execute_result"
    }
   ],
   "source": [
    "df"
   ]
  },
  {
   "cell_type": "code",
   "execution_count": 38,
   "metadata": {},
   "outputs": [],
   "source": [
    "gdf = gpd.GeoSeries([Polygon(json.loads(polygon)) for polygon in df[\"Polygon\"]])"
   ]
  },
  {
   "cell_type": "code",
   "execution_count": 41,
   "metadata": {},
   "outputs": [
    {
     "data": {
      "text/plain": [
       "308"
      ]
     },
     "execution_count": 41,
     "metadata": {},
     "output_type": "execute_result"
    }
   ],
   "source": [
    "gdf.shape[0]"
   ]
  },
  {
   "cell_type": "code",
   "execution_count": 49,
   "metadata": {},
   "outputs": [],
   "source": [
    "gdf.to_file(\"/Volumes/Lacie/zhenyadata/Project_Canopy_Data/PC_Data/Geometry/tile_lists/polygon_shapefiles/test.shp\")\n",
    "\n",
    "# for i in range(gdf.shape[0]):\n",
    "#     print(gdf.loc[i])\n",
    "#     gdf.loc[i].to_file(f\"/Volumes/Lacie/zhenyadata/Project_Canopy_Data/PC_Data/Geometry/tile_lists/polygon_shapefiles/{i}.shp\")"
   ]
  },
  {
   "cell_type": "code",
   "execution_count": null,
   "metadata": {},
   "outputs": [],
   "source": [
    "# output = \"/Volumes/Lacie/zhenyadata/Project_Canopy_Data/PC_Data/Geometry/tile_lists/test_polygon_to_rast/test.tif\"\n",
    "# shapesrc = \"/Volumes/Lacie/zhenyadata/Project_Canopy_Data/PC_Data/Geometry/tile_lists/polygon_shapefiles/test.shp\"\n",
    "\n",
    "# gdal.Rasterize(output,shapesrc)"
   ]
  },
  {
   "cell_type": "code",
   "execution_count": 56,
   "metadata": {},
   "outputs": [],
   "source": [
    "gdal.Rasterize(\"/Volumes/Lacie/zhenyadata/Project_Canopy_Data/PC_Data/Geometry/tile_lists/test_polygon_to_rast/test.tif\",polygon)\n",
    "\n",
    "\n",
    "\n"
   ]
  },
  {
   "cell_type": "code",
   "execution_count": 59,
   "metadata": {},
   "outputs": [
    {
     "name": "stdout",
     "output_type": "stream",
     "text": [
      "Help on function Rasterize in module osgeo.gdal:\n",
      "\n",
      "Rasterize(destNameOrDestDS, srcDS, **kwargs)\n",
      "    Burns vector geometries into a raster\n",
      "    Arguments are :\n",
      "      destNameOrDestDS --- Output dataset name or object\n",
      "      srcDS --- a Dataset object or a filename\n",
      "    Keyword arguments are :\n",
      "      options --- return of gdal.RasterizeOptions(), string or array of strings\n",
      "      other keywords arguments of gdal.RasterizeOptions()\n",
      "    If options is provided as a gdal.RasterizeOptions() object, other keywords are ignored.\n",
      "\n"
     ]
    }
   ],
   "source": [
    "help(gdal.Rasterize)"
   ]
  },
  {
   "cell_type": "code",
   "execution_count": null,
   "metadata": {},
   "outputs": [],
   "source": []
  }
 ],
 "metadata": {
  "kernelspec": {
   "display_name": "gee-conda",
   "language": "python",
   "name": "gee-conda"
  },
  "language_info": {
   "codemirror_mode": {
    "name": "ipython",
    "version": 3
   },
   "file_extension": ".py",
   "mimetype": "text/x-python",
   "name": "python",
   "nbconvert_exporter": "python",
   "pygments_lexer": "ipython3",
   "version": "3.8.6"
  }
 },
 "nbformat": 4,
 "nbformat_minor": 4
}
