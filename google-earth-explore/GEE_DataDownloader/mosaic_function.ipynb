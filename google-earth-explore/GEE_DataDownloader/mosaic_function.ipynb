{
 "cells": [
  {
   "cell_type": "code",
   "execution_count": 1,
   "metadata": {},
   "outputs": [],
   "source": [
    "def mergeCollection(imgC, keepThresh=5, filterBy='CLOUDY_PERCENTAGE', filterType='less_than', mosaicBy='cloudShadowScore'):\n",
    "    # Select the best images, which are below the cloud free threshold, sort them in reverse order (worst on top) for mosaicing\n",
    "    ## same as the JS version\n",
    "    low_cloud_images = imgC.filterMetadata(filterBy, filterType, keepThresh).sort(filterBy, False)\n",
    "    low_cloud_mosaic = low_cloud_images.mosaic()\n",
    "    #print('Info on first image of collection:', imgC.first().getInfo())\n",
    "    per_pixel_mosaic = imgC.qualityMosaic(mosaicBy)\n",
    "\n",
    "    # Add the quality mosaic to fill in any missing areas of the ROI which aren't covered by low cloud images\n",
    "    newC = ee.ImageCollection.fromImages( [per_pixel_mosaic, low_cloud_mosaic] )\n",
    "\n",
    "    return ee.Image(newC.mosaic())"
   ]
  },
  {
   "cell_type": "code",
   "execution_count": 2,
   "metadata": {},
   "outputs": [],
   "source": [
    "import ee\n",
    "\n",
    "ee.Initialize()"
   ]
  },
  {
   "cell_type": "code",
   "execution_count": 3,
   "metadata": {},
   "outputs": [
    {
     "name": "stdout",
     "output_type": "stream",
     "text": [
      "Help on function filterMetadata in module ee.collection:\n",
      "\n",
      "filterMetadata(self, name, operator, value)\n",
      "    Shortcut to add a metadata filter to a collection.\n",
      "    \n",
      "    This is equivalent to self.filter(Filter().metadata(...)).\n",
      "    \n",
      "    Args:\n",
      "      name: Name of a property to filter.\n",
      "      operator: Name of a comparison operator as defined\n",
      "          by FilterCollection.  Possible values are: \"equals\", \"less_than\",\n",
      "          \"greater_than\", \"not_equals\", \"not_less_than\", \"not_greater_than\",\n",
      "          \"starts_with\", \"ends_with\", \"not_starts_with\", \"not_ends_with\",\n",
      "          \"contains\", \"not_contains\".\n",
      "      value: The value to compare against.\n",
      "    \n",
      "    Returns:\n",
      "      The filtered collection.\n",
      "\n"
     ]
    }
   ],
   "source": [
    "help(ee.ImageCollection.filterMetadata)"
   ]
  },
  {
   "cell_type": "code",
   "execution_count": 4,
   "metadata": {},
   "outputs": [
    {
     "name": "stdout",
     "output_type": "stream",
     "text": [
      "Help on function ImageCollection.qualityMosaic in ImageCollection:\n",
      "\n",
      "ImageCollection.qualityMosaic(*args, **kwargs)\n",
      "    Composites all the images in a collection, using a quality band as a per-\n",
      "    pixel ordering function.\n",
      "    \n",
      "    Args:\n",
      "      collection: The collection to mosaic.\n",
      "      qualityBand: The name of the quality band in the\n",
      "          collection.\n",
      "\n"
     ]
    }
   ],
   "source": [
    "help(ee.ImageCollection.qualityMosaic)"
   ]
  },
  {
   "cell_type": "code",
   "execution_count": 5,
   "metadata": {},
   "outputs": [
    {
     "name": "stdout",
     "output_type": "stream",
     "text": [
      "Help on function ImageCollection.fromImages in ImageCollection:\n",
      "\n",
      "ImageCollection.fromImages(*args, **kwargs)\n",
      "    Returns the image collection containing the given images.\n",
      "    \n",
      "    Args:\n",
      "      images: The images to include in the collection.\n",
      "\n"
     ]
    }
   ],
   "source": [
    "help(ee.ImageCollection.fromImages)"
   ]
  },
  {
   "cell_type": "code",
   "execution_count": null,
   "metadata": {},
   "outputs": [],
   "source": []
  }
 ],
 "metadata": {
  "kernelspec": {
   "display_name": "google_conda",
   "language": "python",
   "name": "google_api"
  },
  "language_info": {
   "codemirror_mode": {
    "name": "ipython",
    "version": 3
   },
   "file_extension": ".py",
   "mimetype": "text/x-python",
   "name": "python",
   "nbconvert_exporter": "python",
   "pygments_lexer": "ipython3",
   "version": "3.8.5"
  }
 },
 "nbformat": 4,
 "nbformat_minor": 4
}
