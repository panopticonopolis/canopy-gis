{
 "cells": [
  {
   "cell_type": "code",
   "execution_count": 4,
   "metadata": {},
   "outputs": [
    {
     "name": "stderr",
     "output_type": "stream",
     "text": [
      "C:\\Anaconda3\\envs\\cloud_removal\\lib\\site-packages\\gevent\\hub.py:158: UserWarning: libuv only supports millisecond timer resolution; all times less will be set to 1 ms\n",
      "  with loop.timer(seconds, ref=ref) as t:\n"
     ]
    }
   ],
   "source": [
    "# Cloud Mask 2.0 \n",
    "\n",
    "import ee\n",
    "import yaml\n",
    "import time\n",
    "import os\n",
    "import json\n",
    "from argparse import ArgumentParser\n",
    "from utils import clipToROI, exportImageCollectionToGCS, exportImageToGCS, sentinel2CloudScore, calcCloudCoverage\n",
    "from utils import GEETaskManager\n",
    "\n",
    "from gevent.fileobject import FileObjectThread\n",
    "\n",
    "# Polygon Import from Misha ROI List\n",
    "\n",
    "import pandas as pd\n",
    "\n",
    "# Functions for Active Run of Cloud Mask 2.0 \n",
    "\n",
    "from download_sen12 import *"
   ]
  },
  {
   "cell_type": "code",
   "execution_count": 5,
   "metadata": {},
   "outputs": [],
   "source": [
    "config_file = \"config.yml\""
   ]
  },
  {
   "cell_type": "code",
   "execution_count": 6,
   "metadata": {},
   "outputs": [],
   "source": [
    "stream = open(config_file, 'r') "
   ]
  },
  {
   "cell_type": "code",
   "execution_count": 7,
   "metadata": {},
   "outputs": [
    {
     "name": "stderr",
     "output_type": "stream",
     "text": [
      "<ipython-input-7-8d98dc56653f>:1: YAMLLoadWarning: calling yaml.load() without Loader=... is deprecated, as the default Loader is unsafe. Please read https://msg.pyyaml.org/load for full details.\n",
      "  config = yaml.load(stream)\n"
     ]
    }
   ],
   "source": [
    "config = yaml.load(stream)"
   ]
  },
  {
   "cell_type": "code",
   "execution_count": 8,
   "metadata": {},
   "outputs": [
    {
     "data": {
      "text/plain": [
       "{'name': ['summer', '1886'],\n",
       " 'start_date': '2017-06-01',\n",
       " 'end_date': '2017-08-31',\n",
       " 'geometry': 'point',\n",
       " 'size': 20000,\n",
       " 'resolution': 10,\n",
       " 'sort_by': 'name',\n",
       " 'features_src': 'ft:19Vexm10pJcAZ8tTVbl4j0HA8w2muyPPz6-cyvdxI',\n",
       " 'sensors': [0, 1, 2]}"
      ]
     },
     "execution_count": 8,
     "metadata": {},
     "output_type": "execute_result"
    }
   ],
   "source": [
    "config[\"data_list\"][0]"
   ]
  },
  {
   "cell_type": "markdown",
   "metadata": {},
   "source": [
    "# Initialize EE"
   ]
  },
  {
   "cell_type": "code",
   "execution_count": 9,
   "metadata": {},
   "outputs": [
    {
     "name": "stderr",
     "output_type": "stream",
     "text": [
      "C:\\Anaconda3\\envs\\cloud_removal\\lib\\site-packages\\gevent\\hub.py:158: UserWarning: libuv only supports millisecond timer resolution; all times less will be set to 1 ms\n",
      "  with loop.timer(seconds, ref=ref) as t:\n"
     ]
    }
   ],
   "source": [
    "ee.Initialize()"
   ]
  },
  {
   "cell_type": "markdown",
   "metadata": {},
   "source": [
    "# Creating New Feature Collection To Use with CM_v2"
   ]
  },
  {
   "cell_type": "code",
   "execution_count": 10,
   "metadata": {},
   "outputs": [],
   "source": [
    "def import_aois(csv_loc):    \n",
    "\n",
    "    df_labels = pd.read_csv(csv_loc)\n",
    "    df_labels = df_labels[[\"center-lat\",\"center-long\",\"polygon\",\"Labels combined\"]]\n",
    "\n",
    "    polygons = []\n",
    "    for polygon in df_labels[\"polygon\"]:\n",
    "        polygons.append(json.loads(polygon)[\"coordinates\"])\n",
    "\n",
    "    return polygons\n",
    "\n",
    "polygons = import_aois(\"D:/canopy_data/csvs/polygons_101320.csv\")\n",
    "\n",
    "feature_id = 0 \n",
    "features = []\n",
    "for poly in polygons[0:3]:\n",
    "    # create an roi. first item in Misha's label list\n",
    "    feature_id += 1 \n",
    "    \n",
    "    # create geometry object, create feature object, append to features list for feature collection creation \n",
    "    polys = ee.Geometry.Polygon(poly)\n",
    "    feature = ee.Feature(polys,{\"name\":feature_id})\n",
    "    features.append(feature)\n",
    "\n",
    "fc = ee.FeatureCollection(features)"
   ]
  },
  {
   "cell_type": "code",
   "execution_count": 11,
   "metadata": {},
   "outputs": [
    {
     "data": {
      "text/plain": [
       "<ee.featurecollection.FeatureCollection at 0x1567a9c55b0>"
      ]
     },
     "execution_count": 11,
     "metadata": {},
     "output_type": "execute_result"
    }
   ],
   "source": [
    "fc"
   ]
  },
  {
   "cell_type": "code",
   "execution_count": 12,
   "metadata": {},
   "outputs": [
    {
     "name": "stdout",
     "output_type": "stream",
     "text": [
      "{'name': 'COPERNICUS/S2', 'prefix': 'S2_CloudFree', 'type': 'opt', 'bands': ['B1', 'B2', 'B3', 'B4', 'B5', 'B6', 'B7', 'B8', 'B8A', 'B9', 'B10', 'B11', 'B12'], 'filters_after': [{'CLOUDY_PERCENTAGE': {'lte': 10}}]}\n",
      "3 features have been loaded\n",
      "Queued Task S2_CloudFree_summer_1886_1\n",
      "Processing S2_CloudFree_summer_1886_1\n",
      "Task [S2_CloudFree_summer_1886_1] has failed to complete\n",
      "Worker 0 has no more work... Returning\n",
      "Monitor has quit as there are no more workers\n",
      "Queued Task S2_CloudFree_summer_1886_2\n",
      "{'name': 'COPERNICUS/S2', 'type': 'opt', 'prefix': 'S2_20_60_Cloud', 'bands': ['B1', 'B2', 'B3', 'B4', 'B5', 'B6', 'B7', 'B8', 'B8A', 'B9', 'B10', 'B11', 'B12'], 'filters_after': [{'CLOUDY_PERCENTAGE': {'gte': 20}}, {'CLOUDY_PERCENTAGE': {'lte': 60}}]}\n",
      "Processing S2_CloudFree_summer_1886_2\n",
      "Task [S2_CloudFree_summer_1886_2] has failed to complete\n",
      "Worker 0 has no more work... Returning\n",
      "Monitor has quit as there are no more workers\n",
      "3 features have been loaded\n",
      "Queued Task S2_20_60_Cloud_summer_1886_1\n",
      "Processing S2_20_60_Cloud_summer_1886_1\n",
      "Task [S2_20_60_Cloud_summer_1886_1] has failed to complete\n",
      "Worker 0 has no more work... Returning\n",
      "Monitor has quit as there are no more workers\n",
      "Queued Task S2_20_60_Cloud_summer_1886_2\n",
      "{'name': 'COPERNICUS/S1_GRD', 'type': 'sar', 'prefix': 'S1', 'bands': ['VV', 'VH'], 'filters_before': [{'instrumentMode': {'eq': 'IW'}}, {'transmitterReceiverPolarisation': {'listContains': 'VV'}}, {'transmitterReceiverPolarisation': {'listContains': 'VH'}}]}\n",
      "Processing S2_20_60_Cloud_summer_1886_2\n",
      "Task [S2_20_60_Cloud_summer_1886_2] has failed to complete\n",
      "Worker 0 has no more work... Returning\n",
      "Monitor has quit as there are no more workers\n",
      "3 features have been loaded\n",
      "Queued Task S1_summer_1886_1\n",
      "Processing S1_summer_1886_1\n",
      "Task [S1_summer_1886_1] has failed to complete\n",
      "Worker 0 has no more work... Returning\n",
      "Monitor has quit as there are no more workers\n",
      "Queued Task S1_summer_1886_2\n",
      "Waiting for completion...\n"
     ]
    },
    {
     "ename": "AttributeError",
     "evalue": "'NoneType' object has no attribute 'rawlink'",
     "output_type": "error",
     "traceback": [
      "\u001b[1;31m---------------------------------------------------------------------------\u001b[0m",
      "\u001b[1;31mAttributeError\u001b[0m                            Traceback (most recent call last)",
      "\u001b[1;32m<ipython-input-12-4350fb90fbdf>\u001b[0m in \u001b[0;36m<module>\u001b[1;34m\u001b[0m\n\u001b[0;32m     13\u001b[0m \u001b[1;33m\u001b[0m\u001b[0m\n\u001b[0;32m     14\u001b[0m \u001b[0mprint\u001b[0m\u001b[1;33m(\u001b[0m\u001b[1;34m\"Waiting for completion...\"\u001b[0m\u001b[1;33m)\u001b[0m\u001b[1;33m\u001b[0m\u001b[1;33m\u001b[0m\u001b[0m\n\u001b[1;32m---> 15\u001b[1;33m \u001b[0mtask_queue\u001b[0m\u001b[1;33m.\u001b[0m\u001b[0mwait_till_done\u001b[0m\u001b[1;33m(\u001b[0m\u001b[1;33m)\u001b[0m\u001b[1;33m\u001b[0m\u001b[1;33m\u001b[0m\u001b[0m\n\u001b[0m",
      "\u001b[1;32m~\\Documents\\Jupyter_Notebook_Stuff\\canopy_notebooks\\GEE_DataDownloader\\utils\\gee_task_manager.py\u001b[0m in \u001b[0;36mwait_till_done\u001b[1;34m(self)\u001b[0m\n\u001b[0;32m    249\u001b[0m         \u001b[1;32mdef\u001b[0m \u001b[0mwait_till_done\u001b[0m\u001b[1;33m(\u001b[0m\u001b[0mself\u001b[0m\u001b[1;33m)\u001b[0m\u001b[1;33m:\u001b[0m\u001b[1;33m\u001b[0m\u001b[1;33m\u001b[0m\u001b[0m\n\u001b[0;32m    250\u001b[0m                 \u001b[0mself\u001b[0m\u001b[1;33m.\u001b[0m\u001b[0m_validate\u001b[0m\u001b[1;33m(\u001b[0m\u001b[1;33m)\u001b[0m\u001b[1;33m\u001b[0m\u001b[1;33m\u001b[0m\u001b[0m\n\u001b[1;32m--> 251\u001b[1;33m                 \u001b[0mgevent\u001b[0m\u001b[1;33m.\u001b[0m\u001b[0mjoinall\u001b[0m\u001b[1;33m(\u001b[0m\u001b[0mself\u001b[0m\u001b[1;33m.\u001b[0m\u001b[0mmonitor_greenlet\u001b[0m \u001b[1;33m+\u001b[0m \u001b[0mself\u001b[0m\u001b[1;33m.\u001b[0m\u001b[0mgreenlets\u001b[0m\u001b[1;33m)\u001b[0m\u001b[1;33m\u001b[0m\u001b[1;33m\u001b[0m\u001b[0m\n\u001b[0m\u001b[0;32m    252\u001b[0m                 \u001b[0mself\u001b[0m\u001b[1;33m.\u001b[0m\u001b[0mn_running_workers\u001b[0m \u001b[1;33m=\u001b[0m \u001b[1;36m0\u001b[0m\u001b[1;33m\u001b[0m\u001b[1;33m\u001b[0m\u001b[0m\n",
      "\u001b[1;32mC:\\Anaconda3\\envs\\cloud_removal\\lib\\site-packages\\gevent\\_gevent_cgreenlet.cp38-win_amd64.pyd\u001b[0m in \u001b[0;36mgevent._gevent_cgreenlet.joinall\u001b[1;34m()\u001b[0m\n",
      "\u001b[1;32mC:\\Anaconda3\\envs\\cloud_removal\\lib\\site-packages\\gevent\\_gevent_cgreenlet.cp38-win_amd64.pyd\u001b[0m in \u001b[0;36mgevent._gevent_cgreenlet.joinall\u001b[1;34m()\u001b[0m\n",
      "\u001b[1;32mC:\\Anaconda3\\envs\\cloud_removal\\lib\\site-packages\\gevent\\_gevent_c_hub_primitives.cp38-win_amd64.pyd\u001b[0m in \u001b[0;36mgevent._gevent_c_hub_primitives.wait_on_objects\u001b[1;34m()\u001b[0m\n",
      "\u001b[1;32mC:\\Anaconda3\\envs\\cloud_removal\\lib\\site-packages\\gevent\\_gevent_c_hub_primitives.cp38-win_amd64.pyd\u001b[0m in \u001b[0;36mgevent._gevent_c_hub_primitives.wait_on_objects\u001b[1;34m()\u001b[0m\n",
      "\u001b[1;32mC:\\Anaconda3\\envs\\cloud_removal\\lib\\site-packages\\gevent\\_gevent_c_hub_primitives.cp38-win_amd64.pyd\u001b[0m in \u001b[0;36mgevent._gevent_c_hub_primitives._WaitIterator.__next__\u001b[1;34m()\u001b[0m\n",
      "\u001b[1;32mC:\\Anaconda3\\envs\\cloud_removal\\lib\\site-packages\\gevent\\_gevent_c_hub_primitives.cp38-win_amd64.pyd\u001b[0m in \u001b[0;36mgevent._gevent_c_hub_primitives._WaitIterator._begin\u001b[1;34m()\u001b[0m\n",
      "\u001b[1;31mAttributeError\u001b[0m: 'NoneType' object has no attribute 'rawlink'"
     ]
    },
    {
     "name": "stdout",
     "output_type": "stream",
     "text": [
      "SAVING LOG\n",
      "Processing S1_summer_1886_2\n",
      "SAVING LOG\n",
      "Task [S1_summer_1886_2] has failed to complete\n",
      "Worker 0 has no more work... Returning\n",
      "Monitor has quit as there are no more workers\n"
     ]
    }
   ],
   "source": [
    "task_queue = GEETaskManager(n_workers=config['max_tasks'], max_retry=config['max_retry'], wake_on_task=True, log_file=config['log_file'], process_timeout=config['task_timeout'])\n",
    "task_queue.register_monitor(monitor_tasks)\n",
    "\n",
    "if os.path.exists('task_log.json'):\n",
    "    task_log = load_task_log(filename='task_log.json')\n",
    "    task_queue.set_task_log(task_log)\n",
    "\n",
    "for data_list in config['data_list'][0:1]:\n",
    "    for sensor_idx in data_list['sensors']:\n",
    "        sensor = config['sensors'][sensor_idx]\n",
    "        print(sensor)\n",
    "        tasks = process_datasource(task_queue, data_list, sensor, config['export_to'], config['export_dest'], feature_list = fc)\n",
    "\n",
    "print(\"Waiting for completion...\")\n",
    "task_queue.wait_till_done()"
   ]
  },
  {
   "cell_type": "code",
   "execution_count": 1,
   "metadata": {},
   "outputs": [
    {
     "data": {
      "text/plain": [
       "dict_keys(['a', 'b', 'c'])"
      ]
     },
     "execution_count": 1,
     "metadata": {},
     "output_type": "execute_result"
    },
    {
     "name": "stderr",
     "output_type": "stream",
     "text": [
      "C:\\Anaconda3\\envs\\cloud_removal\\lib\\site-packages\\gevent\\hub.py:158: UserWarning: libuv only supports millisecond timer resolution; all times less will be set to 1 ms\n",
      "  with loop.timer(seconds, ref=ref) as t:\n"
     ]
    }
   ],
   "source": [
    "d = {'a': 1, 'b': 2, 'c': 3}\n",
    "\n",
    "d.keys()"
   ]
  },
  {
   "cell_type": "code",
   "execution_count": null,
   "metadata": {},
   "outputs": [],
   "source": [
    "list(d.keys())[0]"
   ]
  },
  {
   "cell_type": "code",
   "execution_count": null,
   "metadata": {},
   "outputs": [],
   "source": [
    "list(d.values())[0]"
   ]
  },
  {
   "cell_type": "code",
   "execution_count": 3,
   "metadata": {},
   "outputs": [
    {
     "data": {
      "text/plain": [
       "dict_items([('a', 1), ('b', 2), ('c', 3)])"
      ]
     },
     "execution_count": 3,
     "metadata": {},
     "output_type": "execute_result"
    }
   ],
   "source": [
    "d.items()"
   ]
  },
  {
   "cell_type": "code",
   "execution_count": null,
   "metadata": {},
   "outputs": [],
   "source": [
    "e = {'d': d, 'e': 0}\n",
    "\n",
    "e"
   ]
  },
  {
   "cell_type": "code",
   "execution_count": null,
   "metadata": {},
   "outputs": [],
   "source": [
    "list(list(e.values())[0].keys())[0]"
   ]
  },
  {
   "cell_type": "code",
   "execution_count": null,
   "metadata": {},
   "outputs": [],
   "source": [
    "task_queue = GEETaskManager(n_workers=config['max_tasks'], max_retry=config['max_retry'], wake_on_task=True, log_file=config['log_file'], process_timeout=config['task_timeout'])\n",
    "task_queue.register_monitor(monitor_tasks)\n",
    "\n",
    "if os.path.exists('task_log.json'):\n",
    "    task_log = load_task_log(filename='task_log.json')\n",
    "    task_queue.set_task_log(task_log)\n",
    "\n",
    "for data_list in config['data_list']:\n",
    "    for sensor_idx in data_list['sensors']:\n",
    "        sensor = config['sensors'][sensor_idx]\n",
    "        tasks = process_datasource(task_queue, data_list, sensor, config['export_to'], config['export_dest'])\n",
    "\n",
    "print(\"Waiting for completion...\")\n",
    "task_queue.wait_till_done()"
   ]
  },
  {
   "cell_type": "code",
   "execution_count": null,
   "metadata": {},
   "outputs": [],
   "source": [
    "!pwd"
   ]
  },
  {
   "cell_type": "code",
   "execution_count": null,
   "metadata": {},
   "outputs": [],
   "source": []
  }
 ],
 "metadata": {
  "kernelspec": {
   "display_name": "cloud-removal",
   "language": "python",
   "name": "cloud_removal"
  },
  "language_info": {
   "codemirror_mode": {
    "name": "ipython",
    "version": 3
   },
   "file_extension": ".py",
   "mimetype": "text/x-python",
   "name": "python",
   "nbconvert_exporter": "python",
   "pygments_lexer": "ipython3",
   "version": "3.8.5"
  }
 },
 "nbformat": 4,
 "nbformat_minor": 4
}
