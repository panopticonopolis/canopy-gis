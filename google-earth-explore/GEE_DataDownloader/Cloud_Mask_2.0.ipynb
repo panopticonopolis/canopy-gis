{
 "cells": [
  {
   "cell_type": "code",
   "execution_count": 1,
   "metadata": {},
   "outputs": [
    {
     "name": "stderr",
     "output_type": "stream",
     "text": [
      "C:\\Anaconda3\\envs\\cloud_removal\\lib\\site-packages\\gevent\\hub.py:158: UserWarning: libuv only supports millisecond timer resolution; all times less will be set to 1 ms\n",
      "  with loop.timer(seconds, ref=ref) as t:\n"
     ]
    }
   ],
   "source": [
    "# Cloud Mask 2.0 \n",
    "\n",
    "import ee\n",
    "import yaml\n",
    "import time\n",
    "import os\n",
    "import json\n",
    "from argparse import ArgumentParser\n",
    "from utils import clipToROI, exportImageCollectionToGCS, exportImageToGCS, sentinel2CloudScore, calcCloudCoverage\n",
    "from utils import GEETaskManager\n",
    "\n",
    "from gevent.fileobject import FileObjectThread\n",
    "\n",
    "# Polygon Import from Misha ROI List\n",
    "\n",
    "import pandas as pd\n",
    "\n",
    "# Functions for Active Run of Cloud Mask 2.0 \n",
    "\n",
    "from download_sen12 import *"
   ]
  },
  {
   "cell_type": "code",
   "execution_count": 3,
   "metadata": {},
   "outputs": [],
   "source": [
    "config_file = \"config.yml\""
   ]
  },
  {
   "cell_type": "code",
   "execution_count": 4,
   "metadata": {},
   "outputs": [],
   "source": [
    "stream = open(config_file, 'r') "
   ]
  },
  {
   "cell_type": "code",
   "execution_count": 5,
   "metadata": {},
   "outputs": [
    {
     "name": "stderr",
     "output_type": "stream",
     "text": [
      "<ipython-input-5-8d98dc56653f>:1: YAMLLoadWarning: calling yaml.load() without Loader=... is deprecated, as the default Loader is unsafe. Please read https://msg.pyyaml.org/load for full details.\n",
      "  config = yaml.load(stream)\n"
     ]
    }
   ],
   "source": [
    "config = yaml.load(stream)"
   ]
  },
  {
   "cell_type": "code",
   "execution_count": 8,
   "metadata": {},
   "outputs": [
    {
     "data": {
      "text/plain": [
       "{'name': ['summer', '1886'],\n",
       " 'start_date': '2017-06-01',\n",
       " 'end_date': '2017-08-31',\n",
       " 'geometry': 'point',\n",
       " 'size': 20000,\n",
       " 'resolution': 10,\n",
       " 'sort_by': 'name',\n",
       " 'features_src': 'ft:19Vexm10pJcAZ8tTVbl4j0HA8w2muyPPz6-cyvdxI',\n",
       " 'sensors': [0, 1, 2]}"
      ]
     },
     "execution_count": 8,
     "metadata": {},
     "output_type": "execute_result"
    }
   ],
   "source": [
    "config[\"data_list\"][0]"
   ]
  },
  {
   "cell_type": "markdown",
   "metadata": {},
   "source": [
    "# Initialize EE"
   ]
  },
  {
   "cell_type": "code",
   "execution_count": 9,
   "metadata": {},
   "outputs": [
    {
     "name": "stderr",
     "output_type": "stream",
     "text": [
      "C:\\Anaconda3\\envs\\cloud_removal\\lib\\site-packages\\gevent\\hub.py:158: UserWarning: libuv only supports millisecond timer resolution; all times less will be set to 1 ms\n",
      "  with loop.timer(seconds, ref=ref) as t:\n"
     ]
    }
   ],
   "source": [
    "ee.Initialize()"
   ]
  },
  {
   "cell_type": "markdown",
   "metadata": {},
   "source": [
    "# Creating New Feature Collection To Use with CM_v2"
   ]
  },
  {
   "cell_type": "code",
   "execution_count": 20,
   "metadata": {},
   "outputs": [],
   "source": [
    "def import_aois(csv_loc):    \n",
    "\n",
    "    df_labels = pd.read_csv(csv_loc)\n",
    "    df_labels = df_labels[[\"center-lat\",\"center-long\",\"polygon\",\"Labels combined\"]]\n",
    "\n",
    "    polygons = []\n",
    "    for polygon in df_labels[\"polygon\"]:\n",
    "        polygons.append(json.loads(polygon)[\"coordinates\"])\n",
    "\n",
    "    return polygons\n",
    "\n",
    "polygons = import_aois(\"D:/canopy_data/csvs/polygons_101320.csv\")\n",
    "\n",
    "feature_id = 0 \n",
    "features = []\n",
    "for poly in polygons[0:3]:\n",
    "    # create an roi. first item in Misha's label list\n",
    "    feature_id += 1 \n",
    "    \n",
    "    # create geometry object, create feature object, append to features list for feature collection creation \n",
    "    polys = ee.Geometry.Polygon(poly)\n",
    "    feature = ee.Feature(polys,{\"name\":feature_id})\n",
    "    features.append(feature)\n",
    "\n",
    "fc = ee.FeatureCollection(features)"
   ]
  },
  {
   "cell_type": "code",
   "execution_count": 11,
   "metadata": {},
   "outputs": [
    {
     "data": {
      "text/plain": [
       "<ee.featurecollection.FeatureCollection at 0x1567a9c55b0>"
      ]
     },
     "execution_count": 11,
     "metadata": {},
     "output_type": "execute_result"
    }
   ],
   "source": [
    "fc"
   ]
  },
  {
   "cell_type": "code",
   "execution_count": 12,
   "metadata": {},
   "outputs": [
    {
     "name": "stdout",
     "output_type": "stream",
     "text": [
      "{'name': 'COPERNICUS/S2', 'prefix': 'S2_CloudFree', 'type': 'opt', 'bands': ['B1', 'B2', 'B3', 'B4', 'B5', 'B6', 'B7', 'B8', 'B8A', 'B9', 'B10', 'B11', 'B12'], 'filters_after': [{'CLOUDY_PERCENTAGE': {'lte': 10}}]}\n",
      "3 features have been loaded\n",
      "Queued Task S2_CloudFree_summer_1886_1\n",
      "Processing S2_CloudFree_summer_1886_1\n",
      "Task [S2_CloudFree_summer_1886_1] has failed to complete\n",
      "Worker 0 has no more work... Returning\n",
      "Monitor has quit as there are no more workers\n",
      "Queued Task S2_CloudFree_summer_1886_2\n",
      "{'name': 'COPERNICUS/S2', 'type': 'opt', 'prefix': 'S2_20_60_Cloud', 'bands': ['B1', 'B2', 'B3', 'B4', 'B5', 'B6', 'B7', 'B8', 'B8A', 'B9', 'B10', 'B11', 'B12'], 'filters_after': [{'CLOUDY_PERCENTAGE': {'gte': 20}}, {'CLOUDY_PERCENTAGE': {'lte': 60}}]}\n",
      "Processing S2_CloudFree_summer_1886_2\n",
      "Task [S2_CloudFree_summer_1886_2] has failed to complete\n",
      "Worker 0 has no more work... Returning\n",
      "Monitor has quit as there are no more workers\n",
      "3 features have been loaded\n",
      "Queued Task S2_20_60_Cloud_summer_1886_1\n",
      "Processing S2_20_60_Cloud_summer_1886_1\n",
      "Task [S2_20_60_Cloud_summer_1886_1] has failed to complete\n",
      "Worker 0 has no more work... Returning\n",
      "Monitor has quit as there are no more workers\n",
      "Queued Task S2_20_60_Cloud_summer_1886_2\n",
      "{'name': 'COPERNICUS/S1_GRD', 'type': 'sar', 'prefix': 'S1', 'bands': ['VV', 'VH'], 'filters_before': [{'instrumentMode': {'eq': 'IW'}}, {'transmitterReceiverPolarisation': {'listContains': 'VV'}}, {'transmitterReceiverPolarisation': {'listContains': 'VH'}}]}\n",
      "Processing S2_20_60_Cloud_summer_1886_2\n",
      "Task [S2_20_60_Cloud_summer_1886_2] has failed to complete\n",
      "Worker 0 has no more work... Returning\n",
      "Monitor has quit as there are no more workers\n",
      "3 features have been loaded\n",
      "Queued Task S1_summer_1886_1\n",
      "Processing S1_summer_1886_1\n",
      "Task [S1_summer_1886_1] has failed to complete\n",
      "Worker 0 has no more work... Returning\n",
      "Monitor has quit as there are no more workers\n",
      "Queued Task S1_summer_1886_2\n",
      "Waiting for completion...\n"
     ]
    },
    {
     "ename": "AttributeError",
     "evalue": "'NoneType' object has no attribute 'rawlink'",
     "output_type": "error",
     "traceback": [
      "\u001b[1;31m---------------------------------------------------------------------------\u001b[0m",
      "\u001b[1;31mAttributeError\u001b[0m                            Traceback (most recent call last)",
      "\u001b[1;32m<ipython-input-12-4350fb90fbdf>\u001b[0m in \u001b[0;36m<module>\u001b[1;34m\u001b[0m\n\u001b[0;32m     13\u001b[0m \u001b[1;33m\u001b[0m\u001b[0m\n\u001b[0;32m     14\u001b[0m \u001b[0mprint\u001b[0m\u001b[1;33m(\u001b[0m\u001b[1;34m\"Waiting for completion...\"\u001b[0m\u001b[1;33m)\u001b[0m\u001b[1;33m\u001b[0m\u001b[1;33m\u001b[0m\u001b[0m\n\u001b[1;32m---> 15\u001b[1;33m \u001b[0mtask_queue\u001b[0m\u001b[1;33m.\u001b[0m\u001b[0mwait_till_done\u001b[0m\u001b[1;33m(\u001b[0m\u001b[1;33m)\u001b[0m\u001b[1;33m\u001b[0m\u001b[1;33m\u001b[0m\u001b[0m\n\u001b[0m",
      "\u001b[1;32m~\\Documents\\Jupyter_Notebook_Stuff\\canopy_notebooks\\GEE_DataDownloader\\utils\\gee_task_manager.py\u001b[0m in \u001b[0;36mwait_till_done\u001b[1;34m(self)\u001b[0m\n\u001b[0;32m    249\u001b[0m         \u001b[1;32mdef\u001b[0m \u001b[0mwait_till_done\u001b[0m\u001b[1;33m(\u001b[0m\u001b[0mself\u001b[0m\u001b[1;33m)\u001b[0m\u001b[1;33m:\u001b[0m\u001b[1;33m\u001b[0m\u001b[1;33m\u001b[0m\u001b[0m\n\u001b[0;32m    250\u001b[0m                 \u001b[0mself\u001b[0m\u001b[1;33m.\u001b[0m\u001b[0m_validate\u001b[0m\u001b[1;33m(\u001b[0m\u001b[1;33m)\u001b[0m\u001b[1;33m\u001b[0m\u001b[1;33m\u001b[0m\u001b[0m\n\u001b[1;32m--> 251\u001b[1;33m                 \u001b[0mgevent\u001b[0m\u001b[1;33m.\u001b[0m\u001b[0mjoinall\u001b[0m\u001b[1;33m(\u001b[0m\u001b[0mself\u001b[0m\u001b[1;33m.\u001b[0m\u001b[0mmonitor_greenlet\u001b[0m \u001b[1;33m+\u001b[0m \u001b[0mself\u001b[0m\u001b[1;33m.\u001b[0m\u001b[0mgreenlets\u001b[0m\u001b[1;33m)\u001b[0m\u001b[1;33m\u001b[0m\u001b[1;33m\u001b[0m\u001b[0m\n\u001b[0m\u001b[0;32m    252\u001b[0m                 \u001b[0mself\u001b[0m\u001b[1;33m.\u001b[0m\u001b[0mn_running_workers\u001b[0m \u001b[1;33m=\u001b[0m \u001b[1;36m0\u001b[0m\u001b[1;33m\u001b[0m\u001b[1;33m\u001b[0m\u001b[0m\n",
      "\u001b[1;32mC:\\Anaconda3\\envs\\cloud_removal\\lib\\site-packages\\gevent\\_gevent_cgreenlet.cp38-win_amd64.pyd\u001b[0m in \u001b[0;36mgevent._gevent_cgreenlet.joinall\u001b[1;34m()\u001b[0m\n",
      "\u001b[1;32mC:\\Anaconda3\\envs\\cloud_removal\\lib\\site-packages\\gevent\\_gevent_cgreenlet.cp38-win_amd64.pyd\u001b[0m in \u001b[0;36mgevent._gevent_cgreenlet.joinall\u001b[1;34m()\u001b[0m\n",
      "\u001b[1;32mC:\\Anaconda3\\envs\\cloud_removal\\lib\\site-packages\\gevent\\_gevent_c_hub_primitives.cp38-win_amd64.pyd\u001b[0m in \u001b[0;36mgevent._gevent_c_hub_primitives.wait_on_objects\u001b[1;34m()\u001b[0m\n",
      "\u001b[1;32mC:\\Anaconda3\\envs\\cloud_removal\\lib\\site-packages\\gevent\\_gevent_c_hub_primitives.cp38-win_amd64.pyd\u001b[0m in \u001b[0;36mgevent._gevent_c_hub_primitives.wait_on_objects\u001b[1;34m()\u001b[0m\n",
      "\u001b[1;32mC:\\Anaconda3\\envs\\cloud_removal\\lib\\site-packages\\gevent\\_gevent_c_hub_primitives.cp38-win_amd64.pyd\u001b[0m in \u001b[0;36mgevent._gevent_c_hub_primitives._WaitIterator.__next__\u001b[1;34m()\u001b[0m\n",
      "\u001b[1;32mC:\\Anaconda3\\envs\\cloud_removal\\lib\\site-packages\\gevent\\_gevent_c_hub_primitives.cp38-win_amd64.pyd\u001b[0m in \u001b[0;36mgevent._gevent_c_hub_primitives._WaitIterator._begin\u001b[1;34m()\u001b[0m\n",
      "\u001b[1;31mAttributeError\u001b[0m: 'NoneType' object has no attribute 'rawlink'"
     ]
    },
    {
     "name": "stdout",
     "output_type": "stream",
     "text": [
      "SAVING LOG\n",
      "Processing S1_summer_1886_2\n",
      "SAVING LOG\n",
      "Task [S1_summer_1886_2] has failed to complete\n",
      "Worker 0 has no more work... Returning\n",
      "Monitor has quit as there are no more workers\n"
     ]
    }
   ],
   "source": [
    "task_queue = GEETaskManager(n_workers=config['max_tasks'], max_retry=config['max_retry'], wake_on_task=True, log_file=config['log_file'], process_timeout=config['task_timeout'])\n",
    "task_queue.register_monitor(monitor_tasks)\n",
    "\n",
    "if os.path.exists('task_log.json'):\n",
    "    task_log = load_task_log(filename='task_log.json')\n",
    "    task_queue.set_task_log(task_log)\n",
    "\n",
    "for data_list in config['data_list'][0:1]:\n",
    "    for sensor_idx in data_list['sensors']:\n",
    "        sensor = config['sensors'][sensor_idx]\n",
    "        print(sensor)\n",
    "        tasks = process_datasource(task_queue, data_list, sensor, config['export_to'], config['export_dest'], feature_list = fc)\n",
    "\n",
    "print(\"Waiting for completion...\")\n",
    "task_queue.wait_till_done()"
   ]
  },
  {
   "cell_type": "code",
   "execution_count": 1,
   "metadata": {},
   "outputs": [
    {
     "data": {
      "text/plain": [
       "dict_keys(['a', 'b', 'c'])"
      ]
     },
     "execution_count": 1,
     "metadata": {},
     "output_type": "execute_result"
    },
    {
     "name": "stderr",
     "output_type": "stream",
     "text": [
      "C:\\Anaconda3\\envs\\cloud_removal\\lib\\site-packages\\gevent\\hub.py:158: UserWarning: libuv only supports millisecond timer resolution; all times less will be set to 1 ms\n",
      "  with loop.timer(seconds, ref=ref) as t:\n"
     ]
    }
   ],
   "source": [
    "d = {'a': 1, 'b': 2, 'c': 3}\n",
    "\n",
    "d.keys()"
   ]
  },
  {
   "cell_type": "code",
   "execution_count": null,
   "metadata": {},
   "outputs": [],
   "source": [
    "list(d.keys())[0]"
   ]
  },
  {
   "cell_type": "code",
   "execution_count": null,
   "metadata": {},
   "outputs": [],
   "source": [
    "list(d.values())[0]"
   ]
  },
  {
   "cell_type": "code",
   "execution_count": 3,
   "metadata": {},
   "outputs": [
    {
     "data": {
      "text/plain": [
       "dict_items([('a', 1), ('b', 2), ('c', 3)])"
      ]
     },
     "execution_count": 3,
     "metadata": {},
     "output_type": "execute_result"
    }
   ],
   "source": [
    "d.items()"
   ]
  },
  {
   "cell_type": "code",
   "execution_count": null,
   "metadata": {},
   "outputs": [],
   "source": [
    "e = {'d': d, 'e': 0}\n",
    "\n",
    "e"
   ]
  },
  {
   "cell_type": "code",
   "execution_count": null,
   "metadata": {},
   "outputs": [],
   "source": [
    "list(list(e.values())[0].keys())[0]"
   ]
  },
  {
   "cell_type": "code",
   "execution_count": null,
   "metadata": {},
   "outputs": [],
   "source": [
    "task_queue = GEETaskManager(n_workers=config['max_tasks'], max_retry=config['max_retry'], wake_on_task=True, log_file=config['log_file'], process_timeout=config['task_timeout'])\n",
    "task_queue.register_monitor(monitor_tasks)\n",
    "\n",
    "if os.path.exists('task_log.json'):\n",
    "    task_log = load_task_log(filename='task_log.json')\n",
    "    task_queue.set_task_log(task_log)\n",
    "\n",
    "for data_list in config['data_list']:\n",
    "    for sensor_idx in data_list['sensors']:\n",
    "        sensor = config['sensors'][sensor_idx]\n",
    "        tasks = process_datasource(task_queue, data_list, sensor, config['export_to'], config['export_dest'])\n",
    "\n",
    "print(\"Waiting for completion...\")\n",
    "task_queue.wait_till_done()"
   ]
  },
  {
   "cell_type": "code",
   "execution_count": null,
   "metadata": {},
   "outputs": [],
   "source": [
    "!pwd"
   ]
  },
  {
   "cell_type": "markdown",
   "metadata": {},
   "source": [
    "## makeFilterList"
   ]
  },
  {
   "cell_type": "code",
   "execution_count": 2,
   "metadata": {},
   "outputs": [],
   "source": [
    "def makeFilterList(sensor):\n",
    "    filters_before = None\n",
    "    filters_after = None\n",
    "\n",
    "    def _build_filters(filter_list):\n",
    "        filters = []\n",
    "        for f in filter_list:\n",
    "            key = list(f.keys())[0]\n",
    "            op = list(list(f.values())[0].keys())[0]\n",
    "            val = list(list(f.values())[0].values())[0]\n",
    "            filters.append(getattr(ee.Filter, op)(key, val))\n",
    "\n",
    "        return filters\n",
    "\n",
    "    if 'filters_before' in sensor:\n",
    "        filters_before = _build_filters(sensor['filters_before'])\n",
    "\n",
    "    if 'filters_after' in sensor:\n",
    "        filters_after = _build_filters(sensor['filters_after'])\n",
    "\n",
    "    return filters_before, filters_after"
   ]
  },
  {
   "cell_type": "code",
   "execution_count": 6,
   "metadata": {},
   "outputs": [
    {
     "data": {
      "text/plain": [
       "dict"
      ]
     },
     "execution_count": 6,
     "metadata": {},
     "output_type": "execute_result"
    }
   ],
   "source": [
    "type(config)"
   ]
  },
  {
   "cell_type": "code",
   "execution_count": 7,
   "metadata": {},
   "outputs": [
    {
     "data": {
      "text/plain": [
       "dict_keys(['downloadDirectory', 'export_to', 'export_dest', 'log_file', 'max_tasks', 'max_retry', 'task_timeout', 'sensors', 'data_list'])"
      ]
     },
     "execution_count": 7,
     "metadata": {},
     "output_type": "execute_result"
    }
   ],
   "source": [
    "config.keys()"
   ]
  },
  {
   "cell_type": "code",
   "execution_count": 10,
   "metadata": {},
   "outputs": [
    {
     "data": {
      "text/plain": [
       "{'downloadDirectory': '/Volumes/Lacie/zhenyadata/Project_Canopy_Data/PC_Data/Sentinel_Data/GEE/test_cloud_mask_v2/DL_test',\n",
       " 'export_to': 'bucket',\n",
       " 'export_dest': 'sentinel2',\n",
       " 'log_file': 'gee_download_log.pkl',\n",
       " 'max_tasks': 5,\n",
       " 'max_retry': 1,\n",
       " 'task_timeout': 14400,\n",
       " 'sensors': [{'name': 'COPERNICUS/S2',\n",
       "   'prefix': 'S2_CloudFree',\n",
       "   'type': 'opt',\n",
       "   'bands': ['B1',\n",
       "    'B2',\n",
       "    'B3',\n",
       "    'B4',\n",
       "    'B5',\n",
       "    'B6',\n",
       "    'B7',\n",
       "    'B8',\n",
       "    'B8A',\n",
       "    'B9',\n",
       "    'B10',\n",
       "    'B11',\n",
       "    'B12'],\n",
       "   'filters_after': [{'CLOUDY_PERCENTAGE': {'lte': 10}}]},\n",
       "  {'name': 'COPERNICUS/S2',\n",
       "   'type': 'opt',\n",
       "   'prefix': 'S2_20_60_Cloud',\n",
       "   'bands': ['B1',\n",
       "    'B2',\n",
       "    'B3',\n",
       "    'B4',\n",
       "    'B5',\n",
       "    'B6',\n",
       "    'B7',\n",
       "    'B8',\n",
       "    'B8A',\n",
       "    'B9',\n",
       "    'B10',\n",
       "    'B11',\n",
       "    'B12'],\n",
       "   'filters_after': [{'CLOUDY_PERCENTAGE': {'gte': 20}},\n",
       "    {'CLOUDY_PERCENTAGE': {'lte': 60}}]},\n",
       "  {'name': 'COPERNICUS/S1_GRD',\n",
       "   'type': 'sar',\n",
       "   'prefix': 'S1',\n",
       "   'bands': ['VV', 'VH'],\n",
       "   'filters_before': [{'instrumentMode': {'eq': 'IW'}},\n",
       "    {'transmitterReceiverPolarisation': {'listContains': 'VV'}},\n",
       "    {'transmitterReceiverPolarisation': {'listContains': 'VH'}}]}],\n",
       " 'data_list': [{'name': ['summer', '1886'],\n",
       "   'start_date': '2017-06-01',\n",
       "   'end_date': '2017-08-31',\n",
       "   'geometry': 'point',\n",
       "   'size': 20000,\n",
       "   'resolution': 10,\n",
       "   'sort_by': 'name',\n",
       "   'features_src': 'ft:19Vexm10pJcAZ8tTVbl4j0HA8w2muyPPz6-cyvdxI',\n",
       "   'sensors': [0, 1, 2]},\n",
       "  {'name': ['winter', '2017'],\n",
       "   'start_date': '2016-12-01',\n",
       "   'end_date': '2017-02-28',\n",
       "   'geometry': 'point',\n",
       "   'size': 20000,\n",
       "   'resolution': 10,\n",
       "   'sort_by': 'name',\n",
       "   'features_src': 'ft:1dHi-etD8wtSMPJh-_QT07dKSPO0PE9quSXKCfXeN',\n",
       "   'sensors': [0, 1, 2]},\n",
       "  {'name': ['spring', '1158'],\n",
       "   'start_date': '2017-03-01',\n",
       "   'end_date': '2017-05-30',\n",
       "   'geometry': 'point',\n",
       "   'size': 20000,\n",
       "   'resolution': 10,\n",
       "   'sort_by': 'name',\n",
       "   'features_src': 'ft:1JLPWjSewCd040i_bstDrNrCAvSAaep3i_QRJm-Tb',\n",
       "   'sensors': [0, 1, 2]},\n",
       "  {'name': ['autumn', '1970'],\n",
       "   'start_date': '2017-09-01',\n",
       "   'end_date': '2017-11-30',\n",
       "   'geometry': 'point',\n",
       "   'size': 20000,\n",
       "   'resolution': 10,\n",
       "   'sort_by': 'name',\n",
       "   'features_src': 'ft:1o6ZNS2lkXUiloJ96_UipxR8BWwMoXVnM_Cd4ERHm',\n",
       "   'sensors': [0, 1, 2]}]}"
      ]
     },
     "execution_count": 10,
     "metadata": {},
     "output_type": "execute_result"
    }
   ],
   "source": [
    "config"
   ]
  },
  {
   "cell_type": "code",
   "execution_count": 8,
   "metadata": {},
   "outputs": [
    {
     "data": {
      "text/plain": [
       "[{'name': 'COPERNICUS/S2',\n",
       "  'prefix': 'S2_CloudFree',\n",
       "  'type': 'opt',\n",
       "  'bands': ['B1',\n",
       "   'B2',\n",
       "   'B3',\n",
       "   'B4',\n",
       "   'B5',\n",
       "   'B6',\n",
       "   'B7',\n",
       "   'B8',\n",
       "   'B8A',\n",
       "   'B9',\n",
       "   'B10',\n",
       "   'B11',\n",
       "   'B12'],\n",
       "  'filters_after': [{'CLOUDY_PERCENTAGE': {'lte': 10}}]},\n",
       " {'name': 'COPERNICUS/S2',\n",
       "  'type': 'opt',\n",
       "  'prefix': 'S2_20_60_Cloud',\n",
       "  'bands': ['B1',\n",
       "   'B2',\n",
       "   'B3',\n",
       "   'B4',\n",
       "   'B5',\n",
       "   'B6',\n",
       "   'B7',\n",
       "   'B8',\n",
       "   'B8A',\n",
       "   'B9',\n",
       "   'B10',\n",
       "   'B11',\n",
       "   'B12'],\n",
       "  'filters_after': [{'CLOUDY_PERCENTAGE': {'gte': 20}},\n",
       "   {'CLOUDY_PERCENTAGE': {'lte': 60}}]},\n",
       " {'name': 'COPERNICUS/S1_GRD',\n",
       "  'type': 'sar',\n",
       "  'prefix': 'S1',\n",
       "  'bands': ['VV', 'VH'],\n",
       "  'filters_before': [{'instrumentMode': {'eq': 'IW'}},\n",
       "   {'transmitterReceiverPolarisation': {'listContains': 'VV'}},\n",
       "   {'transmitterReceiverPolarisation': {'listContains': 'VH'}}]}]"
      ]
     },
     "execution_count": 8,
     "metadata": {},
     "output_type": "execute_result"
    }
   ],
   "source": [
    "config['sensors']"
   ]
  },
  {
   "cell_type": "code",
   "execution_count": 9,
   "metadata": {},
   "outputs": [
    {
     "data": {
      "text/plain": [
       "{'name': 'COPERNICUS/S2',\n",
       " 'prefix': 'S2_CloudFree',\n",
       " 'type': 'opt',\n",
       " 'bands': ['B1',\n",
       "  'B2',\n",
       "  'B3',\n",
       "  'B4',\n",
       "  'B5',\n",
       "  'B6',\n",
       "  'B7',\n",
       "  'B8',\n",
       "  'B8A',\n",
       "  'B9',\n",
       "  'B10',\n",
       "  'B11',\n",
       "  'B12'],\n",
       " 'filters_after': [{'CLOUDY_PERCENTAGE': {'lte': 10}}]}"
      ]
     },
     "execution_count": 9,
     "metadata": {},
     "output_type": "execute_result"
    }
   ],
   "source": [
    "sensor = config['sensors'][0]\n",
    "sensor"
   ]
  },
  {
   "cell_type": "code",
   "execution_count": 11,
   "metadata": {},
   "outputs": [],
   "source": [
    "# Default values\n",
    "filters_before = None\n",
    "filters_after = None"
   ]
  },
  {
   "cell_type": "code",
   "execution_count": null,
   "metadata": {},
   "outputs": [],
   "source": [
    "# Sub function\n",
    "def _build_filters(filter_list):\n",
    "    # filter_list is a list of dictionaries. Includes the attributes for filtering an image collection\n",
    "    filters = []\n",
    "    # for each dict in filter_list\n",
    "    # example: {'CLOUDY_PERCENTAGE': {'lte': 10}}\n",
    "    for f in filter_list:\n",
    "        # key is the first key of the dict -- the feature you're trying to filter by\n",
    "        # example: 'CLOUDY_PERCENTAGE'\n",
    "        key = list(f.keys())[0]\n",
    "        # op is the key of the nested dictionary\n",
    "        # example: 'lte'\n",
    "        op = list(list(f.values())[0].keys())[0]\n",
    "        # val is the value of the nested dictionary\n",
    "        # example: 10\n",
    "        val = list(list(f.values())[0].values())[0]\n",
    "        # Make an ee.Filter object that matches the input filter dict\n",
    "        # example: ee.Filter.lte('CLOUDY_PERCENTAGE', 10)\n",
    "        # This will then get applied to an image_collection object\n",
    "        filters.append(getattr(ee.Filter, op)(key, val))"
   ]
  },
  {
   "cell_type": "code",
   "execution_count": 12,
   "metadata": {},
   "outputs": [
    {
     "name": "stdout",
     "output_type": "stream",
     "text": [
      "Help on class Filter in module ee.filter:\n",
      "\n",
      "class Filter(ee.computedobject.ComputedObject)\n",
      " |  Filter(*args, **kwargs)\n",
      " |  \n",
      " |  An object to represent collection filters.\n",
      " |  \n",
      " |  Method resolution order:\n",
      " |      Filter\n",
      " |      ee.computedobject.ComputedObject\n",
      " |      ee.encodable.Encodable\n",
      " |      builtins.object\n",
      " |  \n",
      " |  Methods defined here:\n",
      " |  \n",
      " |  Not(self)\n",
      " |      Returns the opposite of this filter.\n",
      " |      \n",
      " |      Returns:\n",
      " |        The negated filter, which will match iff this filter doesn't.\n",
      " |  \n",
      " |  __init__(self, opt_filter=None)\n",
      " |      Construct a filter.\n",
      " |      \n",
      " |      This constructor accepts the following args:\n",
      " |        1) Another filter.\n",
      " |        2) An array of filters (which are implicitly ANDed together).\n",
      " |        3) A ComputedObject returning a filter. Users shouldn't be making these;\n",
      " |           they're produced by the generator functions below.\n",
      " |      \n",
      " |      Args:\n",
      " |        opt_filter: Optional filter to add.\n",
      " |  \n",
      " |  predicateCount(self)\n",
      " |      Return the number of predicates that have been added to this filter.\n",
      " |      \n",
      " |      Returns:\n",
      " |        The number of predicates that have been added to this filter.\n",
      " |        This does not count nested predicates.\n",
      " |  \n",
      " |  ----------------------------------------------------------------------\n",
      " |  Class methods defined here:\n",
      " |  \n",
      " |  initialize() from ee.computedobject.ComputedObjectMetaclass\n",
      " |      Imports API functions to this class.\n",
      " |  \n",
      " |  reset() from ee.computedobject.ComputedObjectMetaclass\n",
      " |      Removes imported API functions from this class.\n",
      " |  \n",
      " |  ----------------------------------------------------------------------\n",
      " |  Static methods defined here:\n",
      " |  \n",
      " |  And(*args)\n",
      " |      Combine two or more filters using boolean AND.\n",
      " |  \n",
      " |  Or(*args)\n",
      " |      Combine two or more filters using boolean OR.\n",
      " |  \n",
      " |  date(start, opt_end=None)\n",
      " |      Filter images by date.\n",
      " |      \n",
      " |      The start and end may be a Date, numbers (interpreted as milliseconds since\n",
      " |      1970-01-01T00:00:00Z), or strings (such as '1996-01-01T08:00'). Based on\n",
      " |      'system:time_start'.\n",
      " |      \n",
      " |      Args:\n",
      " |        start: The inclusive start date.\n",
      " |        opt_end: The optional exclusive end date, If not specified, a\n",
      " |                 1-millisecond range starting at 'start' is created.\n",
      " |      \n",
      " |      Returns:\n",
      " |        The modified filter.\n",
      " |  \n",
      " |  eq(name, value)\n",
      " |      Filter to metadata equal to the given value.\n",
      " |  \n",
      " |  geometry(geometry, opt_errorMargin=None)\n",
      " |      Filter on intersection with geometry.\n",
      " |      \n",
      " |      Items in the collection with a footprint that fails to intersect\n",
      " |      the given geometry will be excluded.\n",
      " |      \n",
      " |      Args:\n",
      " |        geometry: The geometry to filter to either as a GeoJSON geometry,\n",
      " |            or a FeatureCollection, from which a geometry will be extracted.\n",
      " |        opt_errorMargin: An optional error margin. If a number, interpreted as\n",
      " |            sphere surface meters.\n",
      " |      \n",
      " |      Returns:\n",
      " |        The constructed filter.\n",
      " |  \n",
      " |  gt(name, value)\n",
      " |      Filter on metadata greater than the given value.\n",
      " |  \n",
      " |  gte(name, value)\n",
      " |      Filter on metadata greater than or equal to the given value.\n",
      " |  \n",
      " |  inList(opt_leftField=None, opt_rightValue=None, opt_rightField=None, opt_leftValue=None)\n",
      " |      Filter on metadata contained in a list.\n",
      " |      \n",
      " |      Args:\n",
      " |        opt_leftField: A selector for the left operand.\n",
      " |            Should not be specified if leftValue is specified.\n",
      " |        opt_rightValue: The value of the right operand.\n",
      " |            Should not be specified if rightField is specified.\n",
      " |        opt_rightField: A selector for the right operand.\n",
      " |            Should not be specified if rightValue is specified.\n",
      " |        opt_leftValue: The value of the left operand.\n",
      " |            Should not be specified if leftField is specified.\n",
      " |      \n",
      " |      Returns:\n",
      " |        The constructed filter.\n",
      " |  \n",
      " |  lt(name, value)\n",
      " |      Filter to metadata less than the given value.\n",
      " |  \n",
      " |  lte(name, value)\n",
      " |      Filter on metadata less than or equal to the given value.\n",
      " |  \n",
      " |  metadata_(name, operator, value)\n",
      " |      Filter on metadata. This is deprecated.\n",
      " |      \n",
      " |      Args:\n",
      " |        name: The property name to filter on.\n",
      " |        operator: The type of comparison. One of:\n",
      " |            \"equals\", \"less_than\", \"greater_than\", \"contains\", \"begins_with\",\n",
      " |            \"ends_with\", or any of these prefixed with \"not_\".\n",
      " |        value: The value to compare against.\n",
      " |      \n",
      " |      Returns:\n",
      " |        The new filter.\n",
      " |      \n",
      " |      Deprecated.  Use ee.Filter.eq(), ee.Filter.gte(), etc.'\n",
      " |  \n",
      " |  name()\n",
      " |      Returns the name of the object, used in __str__().\n",
      " |  \n",
      " |  neq(name, value)\n",
      " |      Filter to metadata not equal to the given value.\n",
      " |  \n",
      " |  ----------------------------------------------------------------------\n",
      " |  Methods inherited from ee.computedobject.ComputedObject:\n",
      " |  \n",
      " |  __eq__(self, other)\n",
      " |      Return self==value.\n",
      " |  \n",
      " |  __hash__(self)\n",
      " |      Return hash(self).\n",
      " |  \n",
      " |  __ne__(self, other)\n",
      " |      Return self!=value.\n",
      " |  \n",
      " |  __str__(self)\n",
      " |      Writes out the object in a human-readable form.\n",
      " |  \n",
      " |  aside(self, func, *var_args)\n",
      " |      Calls a function passing this object as the first argument.\n",
      " |      \n",
      " |      Returns the object itself for chaining. Convenient e.g. when debugging:\n",
      " |      \n",
      " |      c = (ee.ImageCollection('foo').aside(logging.info)\n",
      " |               .filterDate('2001-01-01', '2002-01-01').aside(logging.info)\n",
      " |               .filterBounds(geom).aside(logging.info)\n",
      " |               .aside(addToMap, {'min': 0, 'max': 142})\n",
      " |               .select('a', 'b'))\n",
      " |      \n",
      " |      Args:\n",
      " |        func: The function to call.\n",
      " |        *var_args: Any extra arguments to pass to the function.\n",
      " |      \n",
      " |      Returns:\n",
      " |        The same object, for chaining.\n",
      " |  \n",
      " |  encode(self, encoder)\n",
      " |      Encodes the object in a format compatible with Serializer.\n",
      " |  \n",
      " |  encode_cloud_value(self, encoder)\n",
      " |      Encodes the object as a ValueNode.\n",
      " |      \n",
      " |      Args:\n",
      " |        encoder: A function that can be called to encode the components of\n",
      " |            an object.\n",
      " |      \n",
      " |      Returns:\n",
      " |        The encoded form of the object.\n",
      " |  \n",
      " |  getInfo(self)\n",
      " |      Fetch and return information about this object.\n",
      " |      \n",
      " |      Returns:\n",
      " |        The object can evaluate to anything.\n",
      " |  \n",
      " |  isVariable(self)\n",
      " |      Returns whether this computed object is a variable reference.\n",
      " |  \n",
      " |  serialize(self, opt_pretty=False, for_cloud_api=True)\n",
      " |      Serialize this object into a JSON string.\n",
      " |      \n",
      " |      Args:\n",
      " |        opt_pretty: A flag indicating whether to pretty-print the JSON.\n",
      " |        for_cloud_api: Whether the encoding should be done for the Cloud API\n",
      " |          or the legacy API.\n",
      " |      \n",
      " |      Returns:\n",
      " |        The serialized representation of this object.\n",
      " |  \n",
      " |  ----------------------------------------------------------------------\n",
      " |  Static methods inherited from ee.computedobject.ComputedObject:\n",
      " |  \n",
      " |  freeze(obj)\n",
      " |      Freeze a list or dict so it can be hashed.\n",
      " |  \n",
      " |  ----------------------------------------------------------------------\n",
      " |  Data descriptors inherited from ee.encodable.Encodable:\n",
      " |  \n",
      " |  __dict__\n",
      " |      dictionary for instance variables (if defined)\n",
      " |  \n",
      " |  __weakref__\n",
      " |      list of weak references to the object (if defined)\n",
      "\n"
     ]
    }
   ],
   "source": [
    "help(ee.Filter)"
   ]
  },
  {
   "cell_type": "code",
   "execution_count": null,
   "metadata": {},
   "outputs": [],
   "source": [
    "# Because of the sorting (probably), you may want to apply filters specifically\n",
    "# before or after creating the image_collection object.\n",
    "# So we have separate filter lists for both before and after.\n",
    "if 'filters_before' in sensor:\n",
    "    filters_before = _build_filters(sensor['filters_before'])\n",
    "\n",
    "if 'filters_after' in sensor:\n",
    "    filters_after = _build_filters(sensor['filters_after'])\n",
    "    \n",
    "# So at the end, we build a list of ee.Filter objects based off of the sensor\n",
    "# values for its 'filters_before' and 'filters_after' keys. If the sensor\n",
    "# lacks one or both such keys, the filters_before and filters_after retain\n",
    "# their default None value (i.e. no filters get applied)."
   ]
  },
  {
   "cell_type": "code",
   "execution_count": 14,
   "metadata": {},
   "outputs": [
    {
     "name": "stderr",
     "output_type": "stream",
     "text": [
      "C:\\Anaconda3\\envs\\cloud_removal\\lib\\site-packages\\gevent\\hub.py:158: UserWarning: libuv only supports millisecond timer resolution; all times less will be set to 1 ms\n",
      "  with loop.timer(seconds, ref=ref) as t:\n"
     ]
    }
   ],
   "source": [
    "ee.Initialize()"
   ]
  },
  {
   "cell_type": "code",
   "execution_count": 15,
   "metadata": {},
   "outputs": [
    {
     "data": {
      "text/plain": [
       "(None, [<ee.filter.Filter at 0x25c4c5754c0>])"
      ]
     },
     "execution_count": 15,
     "metadata": {},
     "output_type": "execute_result"
    }
   ],
   "source": [
    "makeFilterList(sensor)"
   ]
  },
  {
   "cell_type": "markdown",
   "metadata": {},
   "source": [
    "## makeImageCollection"
   ]
  },
  {
   "cell_type": "code",
   "execution_count": 17,
   "metadata": {},
   "outputs": [],
   "source": [
    "def makeImageCollection(sensor, roi, start_date, end_date, modifiers=[]):\n",
    "    # Make the filters based off of the previous function\n",
    "    filters_before, filters_after = makeFilterList(sensor)\n",
    "\n",
    "    # Make an image collection. Take the name from the sensor.\n",
    "    # Filter by date based off of start_date and end_date.\n",
    "    # Filter bounds based off of the ROI.\n",
    "    # The map method applies an additional function as a filter; in this case,\n",
    "    # a clipToROI function that crops every image result in the collection.\n",
    "    # This way you only have the piece of the image that you're concerned with.\n",
    "    collection = ee.ImageCollection(sensor['name']) \\\n",
    "                .filterDate(ee.Date(start_date), ee.Date(end_date)) \\\n",
    "                .filterBounds(roi) \\\n",
    "                ### NOTE: Does this need the lambda??\n",
    "                .map( lambda x: clipToROI(x, ee.Geometry(roi)) )\n",
    "\n",
    "    # If there are filters_before, apply them\n",
    "    if filters_before is not None:\n",
    "        collection = collection.filter( filters_before )\n",
    "\n",
    "    # If there are additional functions you want to apply, put them in the\n",
    "    # \"modifiers\" list and then they will be applied in turn using the 'map' method\n",
    "    if modifiers and len(modifiers) > 0:\n",
    "        for m in modifiers:\n",
    "            collection = collection.map(m)\n",
    "\n",
    "    # If there are filters_after, apply them\n",
    "    if filters_after:\n",
    "        collection = collection.filter( filters_after )\n",
    "\n",
    "    # 'sensor' states the specific bands you want to take in the 'bands' value.\n",
    "    # Return those bands of the image collection.\n",
    "    # This is done at the end just in case other bands are used in custom (pre-)processing--\n",
    "    # i.e., in the \"modifiers\" list\n",
    "    return collection.select(sensor['bands'])"
   ]
  },
  {
   "cell_type": "markdown",
   "metadata": {},
   "source": [
    "## process_datasource"
   ]
  },
  {
   "cell_type": "code",
   "execution_count": 18,
   "metadata": {},
   "outputs": [],
   "source": [
    "def process_datasource(task_queue, source, sensor, export_to, export_dest, feature_list = None):\n",
    "    # feature_list = ee.FeatureCollection(source['features_src'])\n",
    "    feature_list = feature_list.sort(source['sort_by']).toList(feature_list.size())\n",
    "    n_features = feature_list.size().getInfo()\n",
    "\n",
    "    print(\"{} features have been loaded\".format(n_features))\n",
    "\n",
    "    task_list = []\n",
    "\n",
    "    for i in range(1, n_features):\n",
    "        feature_point = ee.Feature( feature_list.get(i) )\n",
    "\n",
    "        if source['geometry'] == \"point\":\n",
    "            feature_point = feature_point.buffer(source['size']).bounds()\n",
    "\n",
    "        roi = feature_point.geometry()\n",
    "        roi = roi.coordinates().getInfo()\n",
    "\n",
    "        if isinstance(source['name'], str):\n",
    "            source['name'] = [source['name']]\n",
    "\n",
    "        if isinstance(sensor['prefix'], str):\n",
    "            sensor['prefix'] = [sensor['prefix']]\n",
    "\n",
    "        if 'prefix' in sensor:\n",
    "            filename_parts = sensor['prefix'] + source['name']\n",
    "        else:\n",
    "            filename_parts = source['name']\n",
    "\n",
    "        filename = \"_\".join(source['name'] + [str(i)])\n",
    "        dest_path = \"/\".join(filename_parts + [filename])\n",
    "\n",
    "        export_params = {\n",
    "            'bucket': export_dest,\n",
    "            'resolution': source['resolution'],\n",
    "            'filename': filename,\n",
    "            'dest_path': dest_path\n",
    "        }\n",
    "\n",
    "        task_params = {\n",
    "            'action': export_single_feature,\n",
    "            'id': \"_\".join(filename_parts + [str(i)]), # This must be unique per task, to allow to track retries\n",
    "            'kwargs': {\n",
    "                'roi': roi,\n",
    "                'export_params': export_params,\n",
    "                'sensor': sensor,\n",
    "                'date_range': {'start_date': source['start_date'], 'end_date': source['end_date']}\n",
    "            }\n",
    "        }\n",
    "\n",
    "        task_queue.add_task(task_params, blocking=True)"
   ]
  },
  {
   "cell_type": "code",
   "execution_count": null,
   "metadata": {},
   "outputs": [],
   "source": [
    "def process_datasource(task_queue, source, sensor, export_to, export_dest, feature_list = None)\n",
    "### NOTE: We're going to remove the task_queue probably"
   ]
  },
  {
   "cell_type": "code",
   "execution_count": null,
   "metadata": {},
   "outputs": [],
   "source": [
    "# the feature_list is an ee.FeatureCollection\n",
    "# This sorts the feature_list by the parameter in source['sort_by']\n",
    "feature_list = feature_list.sort(source['sort_by']).toList(feature_list.size())\n",
    "# get the number of features in the feature_list\n",
    "n_features = feature_list.size().getInfo()"
   ]
  },
  {
   "cell_type": "code",
   "execution_count": 21,
   "metadata": {},
   "outputs": [
    {
     "data": {
      "text/plain": [
       "<ee.featurecollection.FeatureCollection at 0x25c4af66820>"
      ]
     },
     "execution_count": 21,
     "metadata": {},
     "output_type": "execute_result"
    }
   ],
   "source": [
    "fc"
   ]
  },
  {
   "cell_type": "code",
   "execution_count": 24,
   "metadata": {},
   "outputs": [
    {
     "data": {
      "text/plain": [
       "<ee.ee_list.List at 0x25c4c575b20>"
      ]
     },
     "execution_count": 24,
     "metadata": {},
     "output_type": "execute_result"
    }
   ],
   "source": [
    "fc.toList(fc.size())"
   ]
  },
  {
   "cell_type": "code",
   "execution_count": 25,
   "metadata": {},
   "outputs": [
    {
     "name": "stdout",
     "output_type": "stream",
     "text": [
      "Help on method Collection.toList in Collection:\n",
      "\n",
      "Collection.toList(*args, **kwargs) method of ee.featurecollection.FeatureCollection instance\n",
      "    Returns the elements of a collection as a list.\n",
      "    \n",
      "    Args:\n",
      "      collection: The input collection to fetch.\n",
      "      count: The maximum number of elements to fetch.\n",
      "      offset: The number of elements to discard from the start. If\n",
      "          set, (offset + count) elements will be fetched and the\n",
      "          first offset elements will be discarded.\n",
      "\n"
     ]
    }
   ],
   "source": [
    "help(fc.toList)"
   ]
  },
  {
   "cell_type": "code",
   "execution_count": 26,
   "metadata": {},
   "outputs": [
    {
     "data": {
      "text/plain": [
       "3"
      ]
     },
     "execution_count": 26,
     "metadata": {},
     "output_type": "execute_result"
    }
   ],
   "source": [
    "fc.size().getInfo()"
   ]
  },
  {
   "cell_type": "code",
   "execution_count": 27,
   "metadata": {},
   "outputs": [],
   "source": [
    "task_list = []\n",
    "# This variable is not used so I don't know why it's defined"
   ]
  },
  {
   "cell_type": "code",
   "execution_count": null,
   "metadata": {},
   "outputs": [],
   "source": []
  }
 ],
 "metadata": {
  "kernelspec": {
   "display_name": "cloud-removal",
   "language": "python",
   "name": "cloud_removal"
  },
  "language_info": {
   "codemirror_mode": {
    "name": "ipython",
    "version": 3
   },
   "file_extension": ".py",
   "mimetype": "text/x-python",
   "name": "python",
   "nbconvert_exporter": "python",
   "pygments_lexer": "ipython3",
   "version": "3.8.5"
  }
 },
 "nbformat": 4,
 "nbformat_minor": 4
}
