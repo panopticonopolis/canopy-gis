{
 "cells": [
  {
   "cell_type": "code",
   "execution_count": 1,
   "metadata": {},
   "outputs": [
    {
     "name": "stderr",
     "output_type": "stream",
     "text": [
      "C:\\Anaconda3\\envs\\cloud_removal\\lib\\site-packages\\gevent\\hub.py:158: UserWarning: libuv only supports millisecond timer resolution; all times less will be set to 1 ms\n",
      "  with loop.timer(seconds, ref=ref) as t:\n"
     ]
    }
   ],
   "source": [
    "# Cloud Mask 2.0 \n",
    "\n",
    "import ee\n",
    "import yaml\n",
    "import time\n",
    "import os\n",
    "import json\n",
    "from argparse import ArgumentParser\n",
    "from utils import clipToROI, exportImageCollectionToGCS, exportImageToGCS, sentinel2CloudScore, calcCloudCoverage\n",
    "from utils import GEETaskManager\n",
    "\n",
    "from gevent.fileobject import FileObjectThread\n",
    "\n",
    "# Polygon Import from Misha ROI List\n",
    "\n",
    "import pandas as pd\n",
    "\n",
    "# Functions for Active Run of Cloud Mask 2.0 \n",
    "\n",
    "from download_sen12 import *"
   ]
  },
  {
   "cell_type": "code",
   "execution_count": null,
   "metadata": {},
   "outputs": [],
   "source": [
    "config_file = \"config.yml\""
   ]
  },
  {
   "cell_type": "code",
   "execution_count": null,
   "metadata": {},
   "outputs": [],
   "source": [
    "stream = open(config_file, 'r') "
   ]
  },
  {
   "cell_type": "code",
   "execution_count": null,
   "metadata": {},
   "outputs": [],
   "source": [
    "config = yaml.load(stream)"
   ]
  },
  {
   "cell_type": "code",
   "execution_count": null,
   "metadata": {},
   "outputs": [],
   "source": [
    "config[\"data_list\"][0]"
   ]
  },
  {
   "cell_type": "code",
   "execution_count": null,
   "metadata": {},
   "outputs": [],
   "source": [
    "config"
   ]
  },
  {
   "cell_type": "markdown",
   "metadata": {},
   "source": [
    "# Initialize EE"
   ]
  },
  {
   "cell_type": "code",
   "execution_count": null,
   "metadata": {},
   "outputs": [],
   "source": [
    "ee.Initialize()"
   ]
  },
  {
   "cell_type": "markdown",
   "metadata": {},
   "source": [
    "# Creating New Feature Collection To Use with CM_v2"
   ]
  },
  {
   "cell_type": "code",
   "execution_count": null,
   "metadata": {},
   "outputs": [],
   "source": [
    "def import_aois(csv_loc):    \n",
    "\n",
    "    df_labels = pd.read_csv(csv_loc)\n",
    "    df_labels = df_labels[[\"center-lat\",\"center-long\",\"polygon\",\"Labels combined\"]]\n",
    "\n",
    "    polygons = []\n",
    "    for polygon in df_labels[\"polygon\"]:\n",
    "        polygons.append(json.loads(polygon)[\"coordinates\"])\n",
    "\n",
    "    return polygons\n",
    "\n",
    "polygons = import_aois(\"D:/canopy_data/csvs/polygons_101320.csv\")\n",
    "\n",
    "feature_id = 0 \n",
    "features = []\n",
    "for poly in polygons[0:3]:\n",
    "    # create an roi. first item in Misha's label list\n",
    "    feature_id += 1 \n",
    "    \n",
    "    # create geometry object, create feature object, append to features list for feature collection creation \n",
    "    polys = ee.Geometry.Polygon(poly)\n",
    "    feature = ee.Feature(polys,{\"name\":feature_id})\n",
    "    features.append(feature)\n",
    "\n",
    "fc = ee.FeatureCollection(features)"
   ]
  },
  {
   "cell_type": "code",
   "execution_count": null,
   "metadata": {},
   "outputs": [],
   "source": [
    "fc"
   ]
  },
  {
   "cell_type": "code",
   "execution_count": null,
   "metadata": {},
   "outputs": [],
   "source": [
    "task_queue = GEETaskManager(n_workers=config['max_tasks'], max_retry=config['max_retry'], wake_on_task=True, log_file=config['log_file'], process_timeout=config['task_timeout'])\n",
    "task_queue.register_monitor(monitor_tasks)\n",
    "\n",
    "if os.path.exists('task_log.json'):\n",
    "    task_log = load_task_log(filename='task_log.json')\n",
    "    task_queue.set_task_log(task_log)\n",
    "\n",
    "for data_list in config['data_list'][0:1]:\n",
    "    for sensor_idx in data_list['sensors']:\n",
    "        sensor = config['sensors'][sensor_idx]\n",
    "        print(sensor)\n",
    "        tasks = process_datasource(task_queue, data_list, sensor, config['export_to'], config['export_dest'], feature_list = fc)\n",
    "\n",
    "print(\"Waiting for completion...\")\n",
    "task_queue.wait_till_done()"
   ]
  },
  {
   "cell_type": "code",
   "execution_count": null,
   "metadata": {},
   "outputs": [],
   "source": [
    "d = {'a': 1, 'b': 2, 'c': 3}\n",
    "\n",
    "d.keys()"
   ]
  },
  {
   "cell_type": "code",
   "execution_count": null,
   "metadata": {},
   "outputs": [],
   "source": [
    "list(d.keys())[0]"
   ]
  },
  {
   "cell_type": "code",
   "execution_count": null,
   "metadata": {},
   "outputs": [],
   "source": [
    "list(d.values())[0]"
   ]
  },
  {
   "cell_type": "code",
   "execution_count": null,
   "metadata": {},
   "outputs": [],
   "source": [
    "d.items()"
   ]
  },
  {
   "cell_type": "code",
   "execution_count": null,
   "metadata": {},
   "outputs": [],
   "source": [
    "e = {'d': d, 'e': 0}\n",
    "\n",
    "e"
   ]
  },
  {
   "cell_type": "code",
   "execution_count": null,
   "metadata": {},
   "outputs": [],
   "source": [
    "list(list(e.values())[0].keys())[0]"
   ]
  },
  {
   "cell_type": "code",
   "execution_count": null,
   "metadata": {},
   "outputs": [],
   "source": [
    "task_queue = GEETaskManager(n_workers=config['max_tasks'], max_retry=config['max_retry'], wake_on_task=True, log_file=config['log_file'], process_timeout=config['task_timeout'])\n",
    "task_queue.register_monitor(monitor_tasks)\n",
    "\n",
    "if os.path.exists('task_log.json'):\n",
    "    task_log = load_task_log(filename='task_log.json')\n",
    "    task_queue.set_task_log(task_log)\n",
    "\n",
    "for data_list in config['data_list']:\n",
    "    for sensor_idx in data_list['sensors']:\n",
    "        sensor = config['sensors'][sensor_idx]\n",
    "        tasks = process_datasource(task_queue, data_list, sensor, config['export_to'], config['export_dest'])\n",
    "\n",
    "print(\"Waiting for completion...\")\n",
    "task_queue.wait_till_done()"
   ]
  },
  {
   "cell_type": "code",
   "execution_count": null,
   "metadata": {},
   "outputs": [],
   "source": [
    "!pwd"
   ]
  },
  {
   "cell_type": "markdown",
   "metadata": {},
   "source": [
    "## makeFilterList"
   ]
  },
  {
   "cell_type": "code",
   "execution_count": null,
   "metadata": {},
   "outputs": [],
   "source": [
    "def makeFilterList(sensor):\n",
    "    filters_before = None\n",
    "    filters_after = None\n",
    "\n",
    "    def _build_filters(filter_list):\n",
    "        filters = []\n",
    "        for f in filter_list:\n",
    "            key = list(f.keys())[0]\n",
    "            op = list(list(f.values())[0].keys())[0]\n",
    "            val = list(list(f.values())[0].values())[0]\n",
    "            filters.append(getattr(ee.Filter, op)(key, val))\n",
    "\n",
    "        return filters\n",
    "\n",
    "    if 'filters_before' in sensor:\n",
    "        filters_before = _build_filters(sensor['filters_before'])\n",
    "\n",
    "    if 'filters_after' in sensor:\n",
    "        filters_after = _build_filters(sensor['filters_after'])\n",
    "\n",
    "    return filters_before, filters_after"
   ]
  },
  {
   "cell_type": "code",
   "execution_count": null,
   "metadata": {},
   "outputs": [],
   "source": [
    "type(config)"
   ]
  },
  {
   "cell_type": "code",
   "execution_count": null,
   "metadata": {},
   "outputs": [],
   "source": [
    "config.keys()"
   ]
  },
  {
   "cell_type": "code",
   "execution_count": null,
   "metadata": {},
   "outputs": [],
   "source": [
    "config"
   ]
  },
  {
   "cell_type": "code",
   "execution_count": null,
   "metadata": {},
   "outputs": [],
   "source": [
    "config['sensors']"
   ]
  },
  {
   "cell_type": "code",
   "execution_count": null,
   "metadata": {},
   "outputs": [],
   "source": [
    "sensor = config['sensors'][0]\n",
    "sensor"
   ]
  },
  {
   "cell_type": "code",
   "execution_count": null,
   "metadata": {},
   "outputs": [],
   "source": [
    "# Default values\n",
    "filters_before = None\n",
    "filters_after = None"
   ]
  },
  {
   "cell_type": "code",
   "execution_count": null,
   "metadata": {},
   "outputs": [],
   "source": [
    "# Sub function\n",
    "def _build_filters(filter_list):\n",
    "    # filter_list is a list of dictionaries. Includes the attributes for filtering an image collection\n",
    "    filters = []\n",
    "    # for each dict in filter_list\n",
    "    # example: {'CLOUDY_PERCENTAGE': {'lte': 10}}\n",
    "    for f in filter_list:\n",
    "        # key is the first key of the dict -- the feature you're trying to filter by\n",
    "        # example: 'CLOUDY_PERCENTAGE'\n",
    "        key = list(f.keys())[0]\n",
    "        # op is the key of the nested dictionary\n",
    "        # example: 'lte'\n",
    "        op = list(list(f.values())[0].keys())[0]\n",
    "        # val is the value of the nested dictionary\n",
    "        # example: 10\n",
    "        val = list(list(f.values())[0].values())[0]\n",
    "        # Make an ee.Filter object that matches the input filter dict\n",
    "        # example: ee.Filter.lte('CLOUDY_PERCENTAGE', 10)\n",
    "        # This will then get applied to an image_collection object\n",
    "        filters.append(getattr(ee.Filter, op)(key, val))"
   ]
  },
  {
   "cell_type": "code",
   "execution_count": null,
   "metadata": {},
   "outputs": [],
   "source": [
    "help(ee.Filter)"
   ]
  },
  {
   "cell_type": "code",
   "execution_count": null,
   "metadata": {},
   "outputs": [],
   "source": [
    "# Because of the sorting (probably), you may want to apply filters specifically\n",
    "# before or after creating the image_collection object.\n",
    "# So we have separate filter lists for both before and after.\n",
    "if 'filters_before' in sensor:\n",
    "    filters_before = _build_filters(sensor['filters_before'])\n",
    "\n",
    "if 'filters_after' in sensor:\n",
    "    filters_after = _build_filters(sensor['filters_after'])\n",
    "    \n",
    "# So at the end, we build a list of ee.Filter objects based off of the sensor\n",
    "# values for its 'filters_before' and 'filters_after' keys. If the sensor\n",
    "# lacks one or both such keys, the filters_before and filters_after retain\n",
    "# their default None value (i.e. no filters get applied)."
   ]
  },
  {
   "cell_type": "code",
   "execution_count": null,
   "metadata": {},
   "outputs": [],
   "source": [
    "ee.Initialize()"
   ]
  },
  {
   "cell_type": "code",
   "execution_count": null,
   "metadata": {},
   "outputs": [],
   "source": [
    "makeFilterList(sensor)"
   ]
  },
  {
   "cell_type": "markdown",
   "metadata": {},
   "source": [
    "## makeImageCollection"
   ]
  },
  {
   "cell_type": "code",
   "execution_count": null,
   "metadata": {},
   "outputs": [],
   "source": [
    "def makeImageCollection(sensor, roi, start_date, end_date, modifiers=[]):\n",
    "    # Make the filters based off of the previous function\n",
    "    filters_before, filters_after = makeFilterList(sensor)\n",
    "\n",
    "    # Make an image collection. Take the name from the sensor.\n",
    "    # Filter by date based off of start_date and end_date.\n",
    "    # Filter bounds based off of the ROI.\n",
    "    # The map method applies an additional function as a filter; in this case,\n",
    "    # a clipToROI function that crops every image result in the collection.\n",
    "    # This way you only have the piece of the image that you're concerned with.\n",
    "    collection = ee.ImageCollection(sensor['name']) \\\n",
    "                .filterDate(ee.Date(start_date), ee.Date(end_date)) \\\n",
    "                .filterBounds(roi) \\\n",
    "                ### NOTE: Does this need the lambda??\n",
    "                .map( lambda x: clipToROI(x, ee.Geometry(roi)) )\n",
    "\n",
    "    # If there are filters_before, apply them\n",
    "    if filters_before is not None:\n",
    "        collection = collection.filter( filters_before )\n",
    "\n",
    "    # If there are additional functions you want to apply, put them in the\n",
    "    # \"modifiers\" list and then they will be applied in turn using the 'map' method\n",
    "    if modifiers and len(modifiers) > 0:\n",
    "        for m in modifiers:\n",
    "            collection = collection.map(m)\n",
    "\n",
    "    # If there are filters_after, apply them\n",
    "    if filters_after:\n",
    "        collection = collection.filter( filters_after )\n",
    "\n",
    "    # 'sensor' states the specific bands you want to take in the 'bands' value.\n",
    "    # Return those bands of the image collection.\n",
    "    # This is done at the end just in case other bands are used in custom (pre-)processing--\n",
    "    # i.e., in the \"modifiers\" list\n",
    "    return collection.select(sensor['bands'])"
   ]
  },
  {
   "cell_type": "markdown",
   "metadata": {},
   "source": [
    "## process_datasource"
   ]
  },
  {
   "cell_type": "code",
   "execution_count": null,
   "metadata": {},
   "outputs": [],
   "source": [
    "def process_datasource(task_queue, source, sensor, export_to, export_dest, feature_list = None):\n",
    "    # feature_list = ee.FeatureCollection(source['features_src'])\n",
    "    feature_list = feature_list.sort(source['sort_by']).toList(feature_list.size())\n",
    "    n_features = feature_list.size().getInfo()\n",
    "\n",
    "    print(\"{} features have been loaded\".format(n_features))\n",
    "\n",
    "    task_list = []\n",
    "\n",
    "    for i in range(1, n_features):\n",
    "        feature_point = ee.Feature( feature_list.get(i) )\n",
    "\n",
    "        if source['geometry'] == \"point\":\n",
    "            feature_point = feature_point.buffer(source['size']).bounds()\n",
    "\n",
    "        roi = feature_point.geometry()\n",
    "        roi = roi.coordinates().getInfo()\n",
    "\n",
    "        if isinstance(source['name'], str):\n",
    "            source['name'] = [source['name']]\n",
    "\n",
    "        if isinstance(sensor['prefix'], str):\n",
    "            sensor['prefix'] = [sensor['prefix']]\n",
    "\n",
    "        if 'prefix' in sensor:\n",
    "            filename_parts = sensor['prefix'] + source['name']\n",
    "        else:\n",
    "            filename_parts = source['name']\n",
    "\n",
    "        filename = \"_\".join(source['name'] + [str(i)])\n",
    "        dest_path = \"/\".join(filename_parts + [filename])\n",
    "\n",
    "        export_params = {\n",
    "            'bucket': export_dest,\n",
    "            'resolution': source['resolution'],\n",
    "            'filename': filename,\n",
    "            'dest_path': dest_path\n",
    "        }\n",
    "\n",
    "        task_params = {\n",
    "            'action': export_single_feature,\n",
    "            'id': \"_\".join(filename_parts + [str(i)]), # This must be unique per task, to allow to track retries\n",
    "            'kwargs': {\n",
    "                'roi': roi,\n",
    "                'export_params': export_params,\n",
    "                'sensor': sensor,\n",
    "                'date_range': {'start_date': source['start_date'], 'end_date': source['end_date']}\n",
    "            }\n",
    "        }\n",
    "\n",
    "        task_queue.add_task(task_params, blocking=True)"
   ]
  },
  {
   "cell_type": "code",
   "execution_count": null,
   "metadata": {},
   "outputs": [],
   "source": [
    "def process_datasource(task_queue, source, sensor, export_to, export_dest, feature_list = None)\n",
    "### NOTE: We're going to remove the task_queue probably"
   ]
  },
  {
   "cell_type": "code",
   "execution_count": null,
   "metadata": {},
   "outputs": [],
   "source": [
    "# the feature_list is an ee.FeatureCollection\n",
    "# This sorts the feature_list by the parameter in source['sort_by']\n",
    "feature_list = feature_list.sort(source['sort_by']).toList(feature_list.size())\n",
    "# get the number of features in the feature_list\n",
    "n_features = feature_list.size().getInfo()"
   ]
  },
  {
   "cell_type": "code",
   "execution_count": null,
   "metadata": {},
   "outputs": [],
   "source": [
    "fc"
   ]
  },
  {
   "cell_type": "code",
   "execution_count": null,
   "metadata": {},
   "outputs": [],
   "source": [
    "fc.toList(fc.size())"
   ]
  },
  {
   "cell_type": "code",
   "execution_count": null,
   "metadata": {},
   "outputs": [],
   "source": [
    "help(fc.toList)"
   ]
  },
  {
   "cell_type": "code",
   "execution_count": null,
   "metadata": {},
   "outputs": [],
   "source": [
    "fc.size().getInfo()"
   ]
  },
  {
   "cell_type": "code",
   "execution_count": null,
   "metadata": {},
   "outputs": [],
   "source": [
    "type(fc.size())"
   ]
  },
  {
   "cell_type": "code",
   "execution_count": null,
   "metadata": {},
   "outputs": [],
   "source": [
    "help(ee.ee_number.Number)"
   ]
  },
  {
   "cell_type": "code",
   "execution_count": null,
   "metadata": {},
   "outputs": [],
   "source": [
    "task_list = []\n",
    "# This variable is not used so I don't know why it's defined"
   ]
  },
  {
   "cell_type": "code",
   "execution_count": null,
   "metadata": {},
   "outputs": [],
   "source": [
    "for i in range(1, n_features):\n",
    "    feature_point = ee.Feature( feature_list.get(i) )"
   ]
  },
  {
   "cell_type": "code",
   "execution_count": null,
   "metadata": {},
   "outputs": [],
   "source": [
    "feature_list = fc.toList(fc.size())"
   ]
  },
  {
   "cell_type": "code",
   "execution_count": null,
   "metadata": {},
   "outputs": [],
   "source": [
    "type(feature_list)"
   ]
  },
  {
   "cell_type": "code",
   "execution_count": null,
   "metadata": {},
   "outputs": [],
   "source": [
    "help(feature_list.get)"
   ]
  },
  {
   "cell_type": "code",
   "execution_count": null,
   "metadata": {},
   "outputs": [],
   "source": [
    "feature_list.get(0).getInfo()"
   ]
  },
  {
   "cell_type": "code",
   "execution_count": null,
   "metadata": {},
   "outputs": [],
   "source": [
    "feature_list.get(1).getInfo()"
   ]
  },
  {
   "cell_type": "code",
   "execution_count": null,
   "metadata": {},
   "outputs": [],
   "source": [
    "## CHANGE:\n",
    "\n",
    "for i in range(0, n_features):\n",
    "    # Loop through each feature. Pull out the feature--\n",
    "    # need to put it inside an \"ee.Feature\" because otherwise\n",
    "    # it's a \"ComputedObject.\"\n",
    "    feature_point = ee.Feature( feature_list.get(i) )"
   ]
  },
  {
   "cell_type": "code",
   "execution_count": null,
   "metadata": {},
   "outputs": [],
   "source": [
    "feature_point = ee.Feature( feature_list.get(0) )"
   ]
  },
  {
   "cell_type": "code",
   "execution_count": null,
   "metadata": {},
   "outputs": [],
   "source": [
    "type(feature_list.get(0))"
   ]
  },
  {
   "cell_type": "code",
   "execution_count": null,
   "metadata": {},
   "outputs": [],
   "source": [
    "if source['geometry'] == \"point\":\n",
    "    # If the feature is a point, then create a bounding box based off\n",
    "    # of the \"size\" attribute from 'source', using the defined\n",
    "    # feature as the centroid.\n",
    "    feature_point = feature_point.buffer(source['size']).bounds()"
   ]
  },
  {
   "cell_type": "code",
   "execution_count": null,
   "metadata": {},
   "outputs": [],
   "source": [
    "help(feature_point.buffer)"
   ]
  },
  {
   "cell_type": "code",
   "execution_count": null,
   "metadata": {},
   "outputs": [],
   "source": [
    "help(feature_point.bounds)"
   ]
  },
  {
   "cell_type": "code",
   "execution_count": null,
   "metadata": {},
   "outputs": [],
   "source": [
    "# Get the coordinates of feature_point as the ROI\n",
    "roi = feature_point.geometry()\n",
    "roi = roi.coordinates().getInfo()"
   ]
  },
  {
   "cell_type": "code",
   "execution_count": null,
   "metadata": {},
   "outputs": [],
   "source": [
    "## if type(source['name']) == str\n",
    "if isinstance(source['name'], str):\n",
    "    # make it into a list, so we don't error out\n",
    "    source['name'] = [source['name']]\n",
    "    \n",
    "# same as above\n",
    "if isinstance(sensor['prefix'], str):\n",
    "    sensor['prefix'] = [sensor['prefix']]"
   ]
  },
  {
   "cell_type": "code",
   "execution_count": null,
   "metadata": {},
   "outputs": [],
   "source": [
    "# make a list 'filename_parts', with all the prefixes\n",
    "# first (if there are prefixes), then all of the names.\n",
    "# Keep in mind that at this point, we're working on a single source\n",
    "# and a single sensor, so really there's just one prefix and one name;\n",
    "# however, these each might be divided into parts and put into a list\n",
    "# so that we can then join all the parts together later.\n",
    "if 'prefix' in sensor:\n",
    "    filename_parts = sensor['prefix'] + source['name']\n",
    "else:\n",
    "    filename_parts = source['name']"
   ]
  },
  {
   "cell_type": "code",
   "execution_count": null,
   "metadata": {},
   "outputs": [],
   "source": [
    "# Filename is the source name, underscore, then an integer\n",
    "# (integer depends on which feature we're wroking on)\n",
    "filename = \"_\".join(source['name'] + [str(i)])\n",
    "# dest_path is the filename parts joined by backlashses, then the filename\n",
    "dest_path = \"/\".join(filename_parts + [filename])"
   ]
  },
  {
   "cell_type": "code",
   "execution_count": null,
   "metadata": {},
   "outputs": [],
   "source": [
    "# Define export parameters\n",
    "export_params = {\n",
    "    # export bucket is one of the arguments to the overall function\n",
    "    'bucket': export_dest,\n",
    "    # resolution comes from the source\n",
    "    'resolution': source['resolution'],\n",
    "    # filename and dest_path defined above\n",
    "    'filename': filename,\n",
    "    'dest_path': dest_path\n",
    "}"
   ]
  },
  {
   "cell_type": "code",
   "execution_count": null,
   "metadata": {},
   "outputs": [],
   "source": [
    "# Define task parameters for the async stuff\n",
    "task_params = {\n",
    "    # Function to run: export_single_feature\n",
    "    'action': export_single_feature,\n",
    "    # ID for the async stuff to track each task\n",
    "    'id': \"_\".join(filename_parts + [str(i)]), # This must be unique per task, to allow to track retries\n",
    "    'kwargs': {\n",
    "        # kwargs come from the variables defined in-function\n",
    "        'roi': roi,\n",
    "        'export_params': export_params,\n",
    "        'sensor': sensor,\n",
    "        'date_range': {'start_date': source['start_date'], 'end_date': source['end_date']}\n",
    "    }\n",
    "}"
   ]
  },
  {
   "cell_type": "code",
   "execution_count": null,
   "metadata": {},
   "outputs": [],
   "source": [
    "# async line\n",
    "task_queue.add_task(task_params, blocking=True)"
   ]
  },
  {
   "cell_type": "code",
   "execution_count": null,
   "metadata": {},
   "outputs": [],
   "source": [
    "l1 = [1, 2, 3]\n",
    "l2 = [4, 5, 6]\n",
    "l1 + l2"
   ]
  },
  {
   "cell_type": "code",
   "execution_count": null,
   "metadata": {},
   "outputs": [],
   "source": [
    "config['sensors']"
   ]
  },
  {
   "cell_type": "code",
   "execution_count": null,
   "metadata": {},
   "outputs": [],
   "source": [
    "sensor = config['sensors'][0]"
   ]
  },
  {
   "cell_type": "code",
   "execution_count": null,
   "metadata": {},
   "outputs": [],
   "source": [
    "config.keys()"
   ]
  },
  {
   "cell_type": "code",
   "execution_count": null,
   "metadata": {},
   "outputs": [],
   "source": [
    "config['data_list']"
   ]
  },
  {
   "cell_type": "code",
   "execution_count": null,
   "metadata": {},
   "outputs": [],
   "source": [
    "source = config['data_list'][0]"
   ]
  },
  {
   "cell_type": "code",
   "execution_count": null,
   "metadata": {},
   "outputs": [],
   "source": [
    "source['name']"
   ]
  },
  {
   "cell_type": "markdown",
   "metadata": {},
   "source": [
    "## export_single_feature"
   ]
  },
  {
   "cell_type": "code",
   "execution_count": null,
   "metadata": {},
   "outputs": [],
   "source": [
    "def export_single_feature(roi=None, sensor=None, date_range=None, export_params=None):\n",
    "    modifiers = None\n",
    "    if sensor['type'].lower() == \"opt\":\n",
    "        #print(sensor['type'])\n",
    "        modifiers = [sentinel2CloudScore, calcCloudCoverage]\n",
    "\n",
    "    roi_ee = ee.Geometry.Polygon(roi[0])\n",
    "    image_collection = makeImageCollection(sensor, roi_ee, date_range['start_date'], date_range['end_date'], modifiers=modifiers)\n",
    "    img = ee.Image(image_collection.mosaic())\n",
    "\n",
    "    new_params = export_params.copy()\n",
    "    new_params['img'] = img\n",
    "    new_params['roi'] = roi\n",
    "\n",
    "    return exportImageToGCS(**new_params)"
   ]
  },
  {
   "cell_type": "code",
   "execution_count": null,
   "metadata": {},
   "outputs": [],
   "source": [
    "# roi, sensor, date_range, export_params\n",
    "export_single_feature(roi=None, sensor=None, date_range=None, export_params=None)"
   ]
  },
  {
   "cell_type": "code",
   "execution_count": null,
   "metadata": {},
   "outputs": [],
   "source": [
    "# default modifiers value\n",
    "modifiers = None\n",
    "# if the sensor type is \"opt\" (optical)\n",
    "if sensor['type'].lower() == \"opt\":\n",
    "    #print(sensor['type'])\n",
    "    # then the modifiers is the following two functions from utils.\n",
    "    # the only reason to run these functions is if you're getting\n",
    "    # optical products (i.e. rasters)\n",
    "    modifiers = [sentinel2CloudScore, calcCloudCoverage]"
   ]
  },
  {
   "cell_type": "code",
   "execution_count": null,
   "metadata": {},
   "outputs": [],
   "source": [
    "# Getting the RoI as an EE Geometry (Polygon) object\n",
    "roi_ee = ee.Geometry.Polygon(roi[0])\n",
    "\n",
    "# run the makeImageCollection function that is pulled from utils\n",
    "image_collection = makeImageCollection(sensor, roi_ee, date_range['start_date'], date_range['end_date'], modifiers=modifiers)\n",
    "\n",
    "# get a single image by mosaicing the image collection.\n",
    "# this will naturally do a pixel replacement (i.e. we're flattening the products)\n",
    "img = ee.Image(image_collection.mosaic())"
   ]
  },
  {
   "cell_type": "code",
   "execution_count": null,
   "metadata": {},
   "outputs": [],
   "source": [
    "# copy the export_params, then add 'img' and 'roi' key/value pairs\n",
    "new_params = export_params.copy()\n",
    "new_params['img'] = img\n",
    "new_params['roi'] = roi"
   ]
  },
  {
   "cell_type": "code",
   "execution_count": null,
   "metadata": {},
   "outputs": [],
   "source": [
    "# run exportImageToGCS (pulled from utils) on the new_params\n",
    "return exportImageToGCS(**new_params)"
   ]
  },
  {
   "cell_type": "markdown",
   "metadata": {},
   "source": [
    "# TESTING (ZHENYA START HERE)"
   ]
  },
  {
   "cell_type": "code",
   "execution_count": 1,
   "metadata": {},
   "outputs": [
    {
     "name": "stderr",
     "output_type": "stream",
     "text": [
      "C:\\Anaconda3\\envs\\cloud_removal\\lib\\site-packages\\gevent\\hub.py:158: UserWarning: libuv only supports millisecond timer resolution; all times less will be set to 1 ms\n",
      "  with loop.timer(seconds, ref=ref) as t:\n"
     ]
    }
   ],
   "source": [
    "import ee\n",
    "import yaml\n",
    "import time\n",
    "import os\n",
    "import json\n",
    "import pandas as pd\n",
    "from utils import exportImageToGDrive,exportImageToGCS\n",
    "from download_sen12 import *\n",
    "\n",
    "ee.Initialize()"
   ]
  },
  {
   "cell_type": "code",
   "execution_count": null,
   "metadata": {},
   "outputs": [],
   "source": [
    "# def process_datasource(source, sensor, export_folder, feature_collection = None):\n",
    "#     # feature_list = ee.FeatureCollection(source['features_src'])\n",
    "#     feature_list = feature_collection.sort(source['sort_by']).toList(feature_collection.size())\n",
    "#     n_features = feature_list.size().getInfo()\n",
    "\n",
    "#     print(\"{} features have been loaded\".format(n_features))\n",
    "\n",
    "#     for i in range(0, n_features):\n",
    "#         feature_point = ee.Feature( feature_list.get(i) )\n",
    "\n",
    "# #         if source['geometry'] == \"point\":\n",
    "# #             feature_point = feature_point.buffer(source['size']).bounds()\n",
    "\n",
    "#         roi = feature_point.geometry()\n",
    "#         roi = roi.coordinates().getInfo()\n",
    "\n",
    "#         if isinstance(source['name'], str):\n",
    "#             source['name'] = [source['name']]\n",
    "\n",
    "#         if isinstance(sensor['prefix'], str):\n",
    "#             sensor['prefix'] = [sensor['prefix']]\n",
    "\n",
    "#         if 'prefix' in sensor:\n",
    "#             filename_parts = sensor['prefix'] + source['name']\n",
    "#         else:\n",
    "#             filename_parts = source['name']\n",
    "            \n",
    "#         time_stamp = \"_\".join(time.ctime().split(\" \")[1:])\n",
    "\n",
    "#         filename = \"_\".join(source['name'] + [str(i)])\n",
    "        \n",
    "#         dest_path = \"/\".join(filename_parts + [filename])\n",
    "#         print(dest_path)\n",
    "\n",
    "#         export_params = {\n",
    "# #             'drive_folder': export_folder,\n",
    "#             'bucket' : export_folder,\n",
    "#             'resolution': source['resolution'],\n",
    "#             'filename': filename,\n",
    "#             'dest_path': dest_path\n",
    "#         }\n",
    "        \n",
    "        \n",
    "        \n",
    "# #         return export_single_feature(roi=roi, export_params=export_params,\n",
    "# #                                      sensor=sensor,\n",
    "# #                                      date_range={'start_date': source['start_date'],\n",
    "# #                                                  'end_date': source['end_date']})\n",
    "    \n",
    "    \n",
    "# def export_single_feature(roi=None, sensor=None, date_range=None, export_params=None):\n",
    "#     modifiers = None\n",
    "#     if sensor['type'].lower() == \"opt\":\n",
    "#         #print(sensor['type'])\n",
    "#         modifiers = [sentinel2CloudScore, calcCloudCoverage]\n",
    "\n",
    "#     roi_ee = ee.Geometry.Polygon(roi[0])\n",
    "#     image_collection = makeImageCollection(sensor, roi_ee, date_range['start_date'], date_range['end_date'], modifiers=modifiers)\n",
    "#     img = image_collection.mosaic().clip(roi_ee)\n",
    "#     print(img.getInfo())\n",
    "    \n",
    "\n",
    "#     new_params = export_params.copy()\n",
    "#     print(new_params)\n",
    "#     new_params['img'] = img\n",
    "#     new_params['roi'] = roi\n",
    "    \n",
    "    \n",
    "#     return exportImageToGCS(**new_params)\n",
    "\n",
    "\n",
    "# #     return exportImageToGDrive(**new_params)\n",
    "\n",
    "# def load_config(config_file):\n",
    "#     stream = open(config_file, 'r') \n",
    "#     return yaml.load(stream)"
   ]
  },
  {
   "cell_type": "code",
   "execution_count": 2,
   "metadata": {},
   "outputs": [
    {
     "name": "stdout",
     "output_type": "stream",
     "text": [
      "project-canopy-temp-2\n"
     ]
    },
    {
     "name": "stderr",
     "output_type": "stream",
     "text": [
      "C:\\Users\\David\\canopy\\canopy-gis\\google-earth-explore\\GEE_DataDownloader\\download_sen12.py:199: YAMLLoadWarning: calling yaml.load() without Loader=... is deprecated, as the default Loader is unsafe. Please read https://msg.pyyaml.org/load for full details.\n",
      "  return yaml.load(stream)\n"
     ]
    }
   ],
   "source": [
    "config_dict = load_config('config.yml')\n",
    "source = config_dict['data_list'][0]\n",
    "sensor = config_dict['sensors'][0]\n",
    "# export_folder = config_dict['drive_folder']\n",
    "export_folder = config_dict['bucket']\n",
    "\n",
    "print(export_folder)"
   ]
  },
  {
   "cell_type": "code",
   "execution_count": 3,
   "metadata": {},
   "outputs": [
    {
     "name": "stdout",
     "output_type": "stream",
     "text": [
      "['full_polygon_test']\n"
     ]
    }
   ],
   "source": [
    "print(source['name'])"
   ]
  },
  {
   "cell_type": "code",
   "execution_count": 3,
   "metadata": {},
   "outputs": [],
   "source": [
    "def import_aois(csv_loc):    \n",
    "\n",
    "    df_labels = pd.read_csv(csv_loc)\n",
    "    df_labels = df_labels[[\"center-lat\",\"center-long\",\"polygon\",\"Labels combined\"]]\n",
    "\n",
    "    polygons = []\n",
    "    for polygon in df_labels[\"polygon\"]:\n",
    "        polygons.append(json.loads(polygon)[\"coordinates\"])\n",
    "\n",
    "    return polygons\n",
    "\n",
    "### CHANGE BELOW PATH ###\n",
    "zhenya_path = \"/Volumes/Lacie/zhenyadata/Project_Canopy_Data/PC_Data/Sentinel_Data/Labelled/Tiles_v3/Polygon_List/polygons_101320.csv\"\n",
    "david_path = 'D:/canopy_data/csvs/polygons_101320.csv'\n",
    "polygons = import_aois(david_path)\n",
    "\n",
    "feature_id = 0 \n",
    "features = []\n",
    "for poly in polygons:\n",
    "    # create an roi. first item in Misha's label list\n",
    "    feature_id += 1 \n",
    "    \n",
    "    # create geometry object, create feature object, append to features list for feature collection creation \n",
    "    polys = ee.Geometry.Polygon(poly)\n",
    "    feature = ee.Feature(polys,{\"name\":feature_id})\n",
    "    features.append(feature)\n",
    "\n",
    "fc = ee.FeatureCollection(features)"
   ]
  },
  {
   "cell_type": "code",
   "execution_count": 4,
   "metadata": {},
   "outputs": [
    {
     "name": "stdout",
     "output_type": "stream",
     "text": [
      "101 features have been loaded\n",
      "processing  1_full_polygon_test_Nov_12_15:04:28_2020\n",
      "Inject B10\n",
      "processing  2_full_polygon_test_Nov_12_15:04:29_2020\n",
      "Inject B10\n",
      "processing  3_full_polygon_test_Nov_12_15:04:30_2020\n",
      "Inject B10\n",
      "processing  4_full_polygon_test_Nov_12_15:04:31_2020\n",
      "Inject B10\n",
      "processing  5_full_polygon_test_Nov_12_15:04:32_2020\n",
      "Inject B10\n",
      "processing  6_full_polygon_test_Nov_12_15:04:33_2020\n",
      "Inject B10\n",
      "processing  7_full_polygon_test_Nov_12_15:04:34_2020\n",
      "Inject B10\n",
      "processing  8_full_polygon_test_Nov_12_15:04:35_2020\n",
      "Inject B10\n",
      "processing  9_full_polygon_test_Nov_12_15:04:36_2020\n",
      "Inject B10\n",
      "processing  10_full_polygon_test_Nov_12_15:04:37_2020\n",
      "Inject B10\n",
      "processing  11_full_polygon_test_Nov_12_15:04:38_2020\n",
      "Inject B10\n",
      "processing  12_full_polygon_test_Nov_12_15:04:39_2020\n",
      "Inject B10\n",
      "processing  13_full_polygon_test_Nov_12_15:04:39_2020\n",
      "Inject B10\n",
      "processing  14_full_polygon_test_Nov_12_15:04:40_2020\n",
      "Inject B10\n",
      "processing  15_full_polygon_test_Nov_12_15:04:41_2020\n",
      "Inject B10\n",
      "processing  16_full_polygon_test_Nov_12_15:04:42_2020\n",
      "Inject B10\n",
      "processing  17_full_polygon_test_Nov_12_15:04:43_2020\n",
      "Inject B10\n",
      "processing  18_full_polygon_test_Nov_12_15:04:44_2020\n",
      "Inject B10\n",
      "processing  19_full_polygon_test_Nov_12_15:04:45_2020\n",
      "Inject B10\n",
      "processing  20_full_polygon_test_Nov_12_15:04:46_2020\n",
      "Inject B10\n",
      "processing  21_full_polygon_test_Nov_12_15:04:47_2020\n",
      "Inject B10\n",
      "processing  22_full_polygon_test_Nov_12_15:04:47_2020\n",
      "Inject B10\n",
      "processing  23_full_polygon_test_Nov_12_15:04:48_2020\n",
      "Inject B10\n",
      "processing  24_full_polygon_test_Nov_12_15:04:49_2020\n",
      "Inject B10\n",
      "processing  25_full_polygon_test_Nov_12_15:04:50_2020\n",
      "Inject B10\n",
      "processing  26_full_polygon_test_Nov_12_15:04:51_2020\n",
      "Inject B10\n",
      "processing  27_full_polygon_test_Nov_12_15:04:52_2020\n",
      "Inject B10\n",
      "processing  28_full_polygon_test_Nov_12_15:04:53_2020\n",
      "Inject B10\n",
      "processing  29_full_polygon_test_Nov_12_15:04:54_2020\n",
      "Inject B10\n",
      "processing  30_full_polygon_test_Nov_12_15:04:55_2020\n",
      "Inject B10\n",
      "processing  31_full_polygon_test_Nov_12_15:04:56_2020\n",
      "Inject B10\n",
      "processing  32_full_polygon_test_Nov_12_15:04:57_2020\n",
      "Inject B10\n",
      "processing  33_full_polygon_test_Nov_12_15:04:58_2020\n",
      "Inject B10\n",
      "processing  34_full_polygon_test_Nov_12_15:04:58_2020\n",
      "Inject B10\n",
      "processing  35_full_polygon_test_Nov_12_15:04:59_2020\n",
      "Inject B10\n",
      "processing  36_full_polygon_test_Nov_12_15:05:00_2020\n",
      "Inject B10\n",
      "processing  37_full_polygon_test_Nov_12_15:05:01_2020\n",
      "Inject B10\n",
      "processing  38_full_polygon_test_Nov_12_15:05:02_2020\n",
      "Inject B10\n",
      "processing  39_full_polygon_test_Nov_12_15:05:03_2020\n",
      "Inject B10\n",
      "processing  40_full_polygon_test_Nov_12_15:05:04_2020\n",
      "Inject B10\n",
      "processing  41_full_polygon_test_Nov_12_15:05:05_2020\n",
      "Inject B10\n",
      "processing  42_full_polygon_test_Nov_12_15:05:06_2020\n",
      "Inject B10\n",
      "processing  43_full_polygon_test_Nov_12_15:05:07_2020\n",
      "Inject B10\n",
      "processing  44_full_polygon_test_Nov_12_15:05:07_2020\n",
      "Inject B10\n",
      "processing  45_full_polygon_test_Nov_12_15:05:08_2020\n",
      "Inject B10\n",
      "processing  46_full_polygon_test_Nov_12_15:05:09_2020\n",
      "Inject B10\n",
      "processing  47_full_polygon_test_Nov_12_15:05:10_2020\n",
      "Inject B10\n",
      "processing  48_full_polygon_test_Nov_12_15:05:11_2020\n",
      "Inject B10\n",
      "processing  49_full_polygon_test_Nov_12_15:05:12_2020\n",
      "Inject B10\n",
      "processing  50_full_polygon_test_Nov_12_15:05:13_2020\n",
      "Inject B10\n",
      "processing  51_full_polygon_test_Nov_12_15:05:14_2020\n",
      "Inject B10\n",
      "processing  52_full_polygon_test_Nov_12_15:05:14_2020\n",
      "Inject B10\n",
      "processing  53_full_polygon_test_Nov_12_15:05:15_2020\n",
      "Inject B10\n",
      "processing  54_full_polygon_test_Nov_12_15:05:16_2020\n",
      "Inject B10\n",
      "processing  55_full_polygon_test_Nov_12_15:05:17_2020\n",
      "Inject B10\n",
      "processing  56_full_polygon_test_Nov_12_15:05:18_2020\n",
      "Inject B10\n",
      "processing  57_full_polygon_test_Nov_12_15:05:18_2020\n",
      "Inject B10\n",
      "processing  58_full_polygon_test_Nov_12_15:05:19_2020\n",
      "Inject B10\n",
      "processing  59_full_polygon_test_Nov_12_15:05:20_2020\n",
      "Inject B10\n",
      "processing  60_full_polygon_test_Nov_12_15:05:21_2020\n",
      "Inject B10\n",
      "processing  61_full_polygon_test_Nov_12_15:05:21_2020\n",
      "Inject B10\n",
      "processing  62_full_polygon_test_Nov_12_15:05:22_2020\n",
      "Inject B10\n",
      "processing  63_full_polygon_test_Nov_12_15:05:23_2020\n",
      "Inject B10\n",
      "processing  64_full_polygon_test_Nov_12_15:05:24_2020\n",
      "Inject B10\n",
      "processing  65_full_polygon_test_Nov_12_15:05:24_2020\n",
      "Inject B10\n",
      "processing  66_full_polygon_test_Nov_12_15:05:25_2020\n",
      "Inject B10\n",
      "processing  67_full_polygon_test_Nov_12_15:05:26_2020\n",
      "Inject B10\n",
      "processing  68_full_polygon_test_Nov_12_15:05:27_2020\n",
      "Inject B10\n",
      "processing  69_full_polygon_test_Nov_12_15:05:27_2020\n",
      "Inject B10\n",
      "processing  70_full_polygon_test_Nov_12_15:05:28_2020\n",
      "Inject B10\n",
      "processing  71_full_polygon_test_Nov_12_15:05:29_2020\n",
      "Inject B10\n",
      "processing  72_full_polygon_test_Nov_12_15:05:30_2020\n",
      "Inject B10\n",
      "processing  73_full_polygon_test_Nov_12_15:05:30_2020\n",
      "Inject B10\n",
      "processing  74_full_polygon_test_Nov_12_15:05:31_2020\n",
      "Inject B10\n",
      "processing  75_full_polygon_test_Nov_12_15:05:32_2020\n",
      "Inject B10\n",
      "processing  76_full_polygon_test_Nov_12_15:05:33_2020\n",
      "Inject B10\n",
      "processing  77_full_polygon_test_Nov_12_15:05:33_2020\n",
      "Inject B10\n",
      "processing  78_full_polygon_test_Nov_12_15:05:34_2020\n",
      "Inject B10\n",
      "processing  79_full_polygon_test_Nov_12_15:05:35_2020\n",
      "Inject B10\n",
      "processing  80_full_polygon_test_Nov_12_15:05:36_2020\n",
      "Inject B10\n",
      "processing  81_full_polygon_test_Nov_12_15:05:37_2020\n",
      "Inject B10\n",
      "processing  82_full_polygon_test_Nov_12_15:05:37_2020\n",
      "Inject B10\n",
      "processing  83_full_polygon_test_Nov_12_15:05:38_2020\n",
      "Inject B10\n",
      "processing  84_full_polygon_test_Nov_12_15:05:39_2020\n",
      "Inject B10\n",
      "processing  85_full_polygon_test_Nov_12_15:05:40_2020\n",
      "Inject B10\n",
      "processing  86_full_polygon_test_Nov_12_15:05:40_2020\n",
      "Inject B10\n",
      "processing  87_full_polygon_test_Nov_12_15:05:41_2020\n",
      "Inject B10\n",
      "processing  88_full_polygon_test_Nov_12_15:05:42_2020\n",
      "Inject B10\n",
      "processing  89_full_polygon_test_Nov_12_15:05:43_2020\n",
      "Inject B10\n",
      "processing  90_full_polygon_test_Nov_12_15:05:43_2020\n",
      "Inject B10\n",
      "processing  91_full_polygon_test_Nov_12_15:05:44_2020\n",
      "Inject B10\n",
      "processing  92_full_polygon_test_Nov_12_15:05:45_2020\n",
      "Inject B10\n",
      "processing  93_full_polygon_test_Nov_12_15:05:46_2020\n",
      "Inject B10\n",
      "processing  94_full_polygon_test_Nov_12_15:05:46_2020\n",
      "Inject B10\n",
      "processing  95_full_polygon_test_Nov_12_15:05:47_2020\n",
      "Inject B10\n",
      "processing  96_full_polygon_test_Nov_12_15:05:48_2020\n",
      "Inject B10\n",
      "processing  97_full_polygon_test_Nov_12_15:05:49_2020\n",
      "Inject B10\n",
      "processing  98_full_polygon_test_Nov_12_15:05:50_2020\n",
      "Inject B10\n",
      "processing  99_full_polygon_test_Nov_12_15:05:50_2020\n",
      "Inject B10\n",
      "processing  100_full_polygon_test_Nov_12_15:05:51_2020\n",
      "Inject B10\n",
      "processing  101_full_polygon_test_Nov_12_15:05:52_2020\n",
      "Inject B10\n"
     ]
    },
    {
     "name": "stderr",
     "output_type": "stream",
     "text": [
      "C:\\Anaconda3\\envs\\cloud_removal\\lib\\site-packages\\gevent\\hub.py:158: UserWarning: libuv only supports millisecond timer resolution; all times less will be set to 1 ms\n",
      "  with loop.timer(seconds, ref=ref) as t:\n"
     ]
    }
   ],
   "source": [
    "export = process_datasource(source, sensor, export_folder, fc)"
   ]
  },
  {
   "cell_type": "code",
   "execution_count": 6,
   "metadata": {},
   "outputs": [
    {
     "name": "stdout",
     "output_type": "stream",
     "text": [
      "{'state': 'COMPLETED', 'description': 'test_0_Nov_11_14:54:58_2020', 'creation_timestamp_ms': 1605135299822, 'update_timestamp_ms': 1605135922839, 'start_timestamp_ms': 1605135306877, 'task_type': 'EXPORT_IMAGE', 'destination_uris': ['https://console.developers.google.com/storage/browser/project_canopy_temp/S2_CloudFree/test/'], 'attempt': 1, 'id': 'MMOHTBKSVXOZE5EMSJAOKB4N', 'name': 'projects/earthengine-legacy/operations/MMOHTBKSVXOZE5EMSJAOKB4N'}\r"
     ]
    }
   ],
   "source": [
    "while export.active():\n",
    "    print(export.status(), end=\"\\r\", flush=True)"
   ]
  },
  {
   "cell_type": "code",
   "execution_count": 5,
   "metadata": {},
   "outputs": [],
   "source": [
    "feature_id = 0 \n",
    "features = []\n",
    "for poly in polygons:\n",
    "    # create an roi. first item in Misha's label list\n",
    "    feature_id += 1 \n",
    "    \n",
    "    # create geometry object, create feature object, append to features list for feature collection creation \n",
    "    polys = ee.Geometry.Polygon(poly)\n",
    "    feature = ee.Feature(polys,{\"name\":feature_id})\n",
    "    features.append(feature)\n",
    "\n",
    "fc = ee.FeatureCollection(features)"
   ]
  },
  {
   "cell_type": "code",
   "execution_count": 5,
   "metadata": {},
   "outputs": [
    {
     "name": "stdout",
     "output_type": "stream",
     "text": [
      "11 features have been loaded\n",
      "Inject B10\n",
      "cloudFree info: {'type': 'Image', 'bands': [{'id': 'B1', 'data_type': {'type': 'PixelType', 'precision': 'int', 'min': 0, 'max': 65535}, 'dimensions': [11133, 11133], 'origin': [189243, -44528], 'crs': 'EPSG:4326', 'crs_transform': [8.983152841195215e-05, 0, 0, 0, -8.983152841195215e-05, 0]}, {'id': 'B2', 'data_type': {'type': 'PixelType', 'precision': 'int', 'min': 0, 'max': 65535}, 'dimensions': [11133, 11133], 'origin': [189243, -44528], 'crs': 'EPSG:4326', 'crs_transform': [8.983152841195215e-05, 0, 0, 0, -8.983152841195215e-05, 0]}, {'id': 'B3', 'data_type': {'type': 'PixelType', 'precision': 'int', 'min': 0, 'max': 65535}, 'dimensions': [11133, 11133], 'origin': [189243, -44528], 'crs': 'EPSG:4326', 'crs_transform': [8.983152841195215e-05, 0, 0, 0, -8.983152841195215e-05, 0]}, {'id': 'B4', 'data_type': {'type': 'PixelType', 'precision': 'int', 'min': 0, 'max': 65535}, 'dimensions': [11133, 11133], 'origin': [189243, -44528], 'crs': 'EPSG:4326', 'crs_transform': [8.983152841195215e-05, 0, 0, 0, -8.983152841195215e-05, 0]}, {'id': 'B5', 'data_type': {'type': 'PixelType', 'precision': 'int', 'min': 0, 'max': 65535}, 'dimensions': [11133, 11133], 'origin': [189243, -44528], 'crs': 'EPSG:4326', 'crs_transform': [8.983152841195215e-05, 0, 0, 0, -8.983152841195215e-05, 0]}, {'id': 'B6', 'data_type': {'type': 'PixelType', 'precision': 'int', 'min': 0, 'max': 65535}, 'dimensions': [11133, 11133], 'origin': [189243, -44528], 'crs': 'EPSG:4326', 'crs_transform': [8.983152841195215e-05, 0, 0, 0, -8.983152841195215e-05, 0]}, {'id': 'B7', 'data_type': {'type': 'PixelType', 'precision': 'int', 'min': 0, 'max': 65535}, 'dimensions': [11133, 11133], 'origin': [189243, -44528], 'crs': 'EPSG:4326', 'crs_transform': [8.983152841195215e-05, 0, 0, 0, -8.983152841195215e-05, 0]}, {'id': 'B8', 'data_type': {'type': 'PixelType', 'precision': 'int', 'min': 0, 'max': 65535}, 'dimensions': [11133, 11133], 'origin': [189243, -44528], 'crs': 'EPSG:4326', 'crs_transform': [8.983152841195215e-05, 0, 0, 0, -8.983152841195215e-05, 0]}, {'id': 'B8A', 'data_type': {'type': 'PixelType', 'precision': 'int', 'min': 0, 'max': 65535}, 'dimensions': [11133, 11133], 'origin': [189243, -44528], 'crs': 'EPSG:4326', 'crs_transform': [8.983152841195215e-05, 0, 0, 0, -8.983152841195215e-05, 0]}, {'id': 'B9', 'data_type': {'type': 'PixelType', 'precision': 'int', 'min': 0, 'max': 65535}, 'dimensions': [11133, 11133], 'origin': [189243, -44528], 'crs': 'EPSG:4326', 'crs_transform': [8.983152841195215e-05, 0, 0, 0, -8.983152841195215e-05, 0]}, {'id': 'B11', 'data_type': {'type': 'PixelType', 'precision': 'int', 'min': 0, 'max': 65535}, 'dimensions': [11133, 11133], 'origin': [189243, -44528], 'crs': 'EPSG:4326', 'crs_transform': [8.983152841195215e-05, 0, 0, 0, -8.983152841195215e-05, 0]}, {'id': 'B12', 'data_type': {'type': 'PixelType', 'precision': 'int', 'min': 0, 'max': 65535}, 'dimensions': [11133, 11133], 'origin': [189243, -44528], 'crs': 'EPSG:4326', 'crs_transform': [8.983152841195215e-05, 0, 0, 0, -8.983152841195215e-05, 0]}, {'id': 'AOT', 'data_type': {'type': 'PixelType', 'precision': 'int', 'min': 0, 'max': 65535}, 'dimensions': [11133, 11133], 'origin': [189243, -44528], 'crs': 'EPSG:4326', 'crs_transform': [8.983152841195215e-05, 0, 0, 0, -8.983152841195215e-05, 0]}, {'id': 'WVP', 'data_type': {'type': 'PixelType', 'precision': 'int', 'min': 0, 'max': 65535}, 'dimensions': [11133, 11133], 'origin': [189243, -44528], 'crs': 'EPSG:4326', 'crs_transform': [8.983152841195215e-05, 0, 0, 0, -8.983152841195215e-05, 0]}, {'id': 'SCL', 'data_type': {'type': 'PixelType', 'precision': 'int', 'min': 0, 'max': 255}, 'dimensions': [11133, 11133], 'origin': [189243, -44528], 'crs': 'EPSG:4326', 'crs_transform': [8.983152841195215e-05, 0, 0, 0, -8.983152841195215e-05, 0]}, {'id': 'TCI_R', 'data_type': {'type': 'PixelType', 'precision': 'int', 'min': 0, 'max': 255}, 'dimensions': [11133, 11133], 'origin': [189243, -44528], 'crs': 'EPSG:4326', 'crs_transform': [8.983152841195215e-05, 0, 0, 0, -8.983152841195215e-05, 0]}, {'id': 'TCI_G', 'data_type': {'type': 'PixelType', 'precision': 'int', 'min': 0, 'max': 255}, 'dimensions': [11133, 11133], 'origin': [189243, -44528], 'crs': 'EPSG:4326', 'crs_transform': [8.983152841195215e-05, 0, 0, 0, -8.983152841195215e-05, 0]}, {'id': 'TCI_B', 'data_type': {'type': 'PixelType', 'precision': 'int', 'min': 0, 'max': 255}, 'dimensions': [11133, 11133], 'origin': [189243, -44528], 'crs': 'EPSG:4326', 'crs_transform': [8.983152841195215e-05, 0, 0, 0, -8.983152841195215e-05, 0]}, {'id': 'MSK_CLDPRB', 'data_type': {'type': 'PixelType', 'precision': 'int', 'min': 0, 'max': 255}, 'dimensions': [11133, 11133], 'origin': [189243, -44528], 'crs': 'EPSG:4326', 'crs_transform': [8.983152841195215e-05, 0, 0, 0, -8.983152841195215e-05, 0]}, {'id': 'MSK_SNWPRB', 'data_type': {'type': 'PixelType', 'precision': 'int', 'min': 0, 'max': 255}, 'dimensions': [11133, 11133], 'origin': [189243, -44528], 'crs': 'EPSG:4326', 'crs_transform': [8.983152841195215e-05, 0, 0, 0, -8.983152841195215e-05, 0]}, {'id': 'QA10', 'data_type': {'type': 'PixelType', 'precision': 'int', 'min': 0, 'max': 65535}, 'dimensions': [11133, 11133], 'origin': [189243, -44528], 'crs': 'EPSG:4326', 'crs_transform': [8.983152841195215e-05, 0, 0, 0, -8.983152841195215e-05, 0]}, {'id': 'QA20', 'data_type': {'type': 'PixelType', 'precision': 'int', 'min': 0, 'max': 4294967295}, 'dimensions': [11133, 11133], 'origin': [189243, -44528], 'crs': 'EPSG:4326', 'crs_transform': [8.983152841195215e-05, 0, 0, 0, -8.983152841195215e-05, 0]}, {'id': 'QA60', 'data_type': {'type': 'PixelType', 'precision': 'int', 'min': 0, 'max': 65535}, 'dimensions': [11133, 11133], 'origin': [189243, -44528], 'crs': 'EPSG:4326', 'crs_transform': [8.983152841195215e-05, 0, 0, 0, -8.983152841195215e-05, 0]}, {'id': 'B10', 'data_type': {'type': 'PixelType', 'precision': 'int', 'min': 0, 'max': 65535}, 'dimensions': [11133, 11133], 'origin': [189243, -44528], 'crs': 'EPSG:4326', 'crs_transform': [8.983152841195215e-05, 0, 0, 0, -8.983152841195215e-05, 0]}, {'id': 'cloudScore', 'data_type': {'type': 'PixelType', 'precision': 'double', 'min': 0.001, 'max': 1}, 'dimensions': [11133, 11133], 'origin': [189243, -44528], 'crs': 'EPSG:4326', 'crs_transform': [8.983152841195215e-05, 0, 0, 0, -8.983152841195215e-05, 0]}, {'id': 'shadowScore', 'data_type': {'type': 'PixelType', 'precision': 'double', 'min': 0, 'max': 1}, 'dimensions': [11133, 11133], 'origin': [189243, -44528], 'crs': 'EPSG:4326', 'crs_transform': [8.983152841195215e-05, 0, 0, 0, -8.983152841195215e-05, 0]}, {'id': 'cloudShadowScore', 'data_type': {'type': 'PixelType', 'precision': 'double', 'min': -1, 'max': -0.001}, 'dimensions': [11133, 11133], 'origin': [189243, -44528], 'crs': 'EPSG:4326', 'crs_transform': [8.983152841195215e-05, 0, 0, 0, -8.983152841195215e-05, 0]}], 'properties': {'system:footprint': {'type': 'Polygon', 'coordinates': [[[17.348785, 3.404272], [17.34827, 3.331785], [17.493668, 3.236155], [17.657604, 3.258949], [17.600784, 3.405814], [17.348785, 3.404272]]]}}}\n",
      "Inject B10\n",
      "cloudFree info: {'type': 'Image', 'bands': [{'id': 'B1', 'data_type': {'type': 'PixelType', 'precision': 'int', 'min': 0, 'max': 65535}, 'dimensions': [11133, 11133], 'origin': [189243, -44528], 'crs': 'EPSG:4326', 'crs_transform': [8.983152841195215e-05, 0, 0, 0, -8.983152841195215e-05, 0]}, {'id': 'B2', 'data_type': {'type': 'PixelType', 'precision': 'int', 'min': 0, 'max': 65535}, 'dimensions': [11133, 11133], 'origin': [189243, -44528], 'crs': 'EPSG:4326', 'crs_transform': [8.983152841195215e-05, 0, 0, 0, -8.983152841195215e-05, 0]}, {'id': 'B3', 'data_type': {'type': 'PixelType', 'precision': 'int', 'min': 0, 'max': 65535}, 'dimensions': [11133, 11133], 'origin': [189243, -44528], 'crs': 'EPSG:4326', 'crs_transform': [8.983152841195215e-05, 0, 0, 0, -8.983152841195215e-05, 0]}, {'id': 'B4', 'data_type': {'type': 'PixelType', 'precision': 'int', 'min': 0, 'max': 65535}, 'dimensions': [11133, 11133], 'origin': [189243, -44528], 'crs': 'EPSG:4326', 'crs_transform': [8.983152841195215e-05, 0, 0, 0, -8.983152841195215e-05, 0]}, {'id': 'B5', 'data_type': {'type': 'PixelType', 'precision': 'int', 'min': 0, 'max': 65535}, 'dimensions': [11133, 11133], 'origin': [189243, -44528], 'crs': 'EPSG:4326', 'crs_transform': [8.983152841195215e-05, 0, 0, 0, -8.983152841195215e-05, 0]}, {'id': 'B6', 'data_type': {'type': 'PixelType', 'precision': 'int', 'min': 0, 'max': 65535}, 'dimensions': [11133, 11133], 'origin': [189243, -44528], 'crs': 'EPSG:4326', 'crs_transform': [8.983152841195215e-05, 0, 0, 0, -8.983152841195215e-05, 0]}, {'id': 'B7', 'data_type': {'type': 'PixelType', 'precision': 'int', 'min': 0, 'max': 65535}, 'dimensions': [11133, 11133], 'origin': [189243, -44528], 'crs': 'EPSG:4326', 'crs_transform': [8.983152841195215e-05, 0, 0, 0, -8.983152841195215e-05, 0]}, {'id': 'B8', 'data_type': {'type': 'PixelType', 'precision': 'int', 'min': 0, 'max': 65535}, 'dimensions': [11133, 11133], 'origin': [189243, -44528], 'crs': 'EPSG:4326', 'crs_transform': [8.983152841195215e-05, 0, 0, 0, -8.983152841195215e-05, 0]}, {'id': 'B8A', 'data_type': {'type': 'PixelType', 'precision': 'int', 'min': 0, 'max': 65535}, 'dimensions': [11133, 11133], 'origin': [189243, -44528], 'crs': 'EPSG:4326', 'crs_transform': [8.983152841195215e-05, 0, 0, 0, -8.983152841195215e-05, 0]}, {'id': 'B9', 'data_type': {'type': 'PixelType', 'precision': 'int', 'min': 0, 'max': 65535}, 'dimensions': [11133, 11133], 'origin': [189243, -44528], 'crs': 'EPSG:4326', 'crs_transform': [8.983152841195215e-05, 0, 0, 0, -8.983152841195215e-05, 0]}, {'id': 'B11', 'data_type': {'type': 'PixelType', 'precision': 'int', 'min': 0, 'max': 65535}, 'dimensions': [11133, 11133], 'origin': [189243, -44528], 'crs': 'EPSG:4326', 'crs_transform': [8.983152841195215e-05, 0, 0, 0, -8.983152841195215e-05, 0]}, {'id': 'B12', 'data_type': {'type': 'PixelType', 'precision': 'int', 'min': 0, 'max': 65535}, 'dimensions': [11133, 11133], 'origin': [189243, -44528], 'crs': 'EPSG:4326', 'crs_transform': [8.983152841195215e-05, 0, 0, 0, -8.983152841195215e-05, 0]}, {'id': 'AOT', 'data_type': {'type': 'PixelType', 'precision': 'int', 'min': 0, 'max': 65535}, 'dimensions': [11133, 11133], 'origin': [189243, -44528], 'crs': 'EPSG:4326', 'crs_transform': [8.983152841195215e-05, 0, 0, 0, -8.983152841195215e-05, 0]}, {'id': 'WVP', 'data_type': {'type': 'PixelType', 'precision': 'int', 'min': 0, 'max': 65535}, 'dimensions': [11133, 11133], 'origin': [189243, -44528], 'crs': 'EPSG:4326', 'crs_transform': [8.983152841195215e-05, 0, 0, 0, -8.983152841195215e-05, 0]}, {'id': 'SCL', 'data_type': {'type': 'PixelType', 'precision': 'int', 'min': 0, 'max': 255}, 'dimensions': [11133, 11133], 'origin': [189243, -44528], 'crs': 'EPSG:4326', 'crs_transform': [8.983152841195215e-05, 0, 0, 0, -8.983152841195215e-05, 0]}, {'id': 'TCI_R', 'data_type': {'type': 'PixelType', 'precision': 'int', 'min': 0, 'max': 255}, 'dimensions': [11133, 11133], 'origin': [189243, -44528], 'crs': 'EPSG:4326', 'crs_transform': [8.983152841195215e-05, 0, 0, 0, -8.983152841195215e-05, 0]}, {'id': 'TCI_G', 'data_type': {'type': 'PixelType', 'precision': 'int', 'min': 0, 'max': 255}, 'dimensions': [11133, 11133], 'origin': [189243, -44528], 'crs': 'EPSG:4326', 'crs_transform': [8.983152841195215e-05, 0, 0, 0, -8.983152841195215e-05, 0]}, {'id': 'TCI_B', 'data_type': {'type': 'PixelType', 'precision': 'int', 'min': 0, 'max': 255}, 'dimensions': [11133, 11133], 'origin': [189243, -44528], 'crs': 'EPSG:4326', 'crs_transform': [8.983152841195215e-05, 0, 0, 0, -8.983152841195215e-05, 0]}, {'id': 'MSK_CLDPRB', 'data_type': {'type': 'PixelType', 'precision': 'int', 'min': 0, 'max': 255}, 'dimensions': [11133, 11133], 'origin': [189243, -44528], 'crs': 'EPSG:4326', 'crs_transform': [8.983152841195215e-05, 0, 0, 0, -8.983152841195215e-05, 0]}, {'id': 'MSK_SNWPRB', 'data_type': {'type': 'PixelType', 'precision': 'int', 'min': 0, 'max': 255}, 'dimensions': [11133, 11133], 'origin': [189243, -44528], 'crs': 'EPSG:4326', 'crs_transform': [8.983152841195215e-05, 0, 0, 0, -8.983152841195215e-05, 0]}, {'id': 'QA10', 'data_type': {'type': 'PixelType', 'precision': 'int', 'min': 0, 'max': 65535}, 'dimensions': [11133, 11133], 'origin': [189243, -44528], 'crs': 'EPSG:4326', 'crs_transform': [8.983152841195215e-05, 0, 0, 0, -8.983152841195215e-05, 0]}, {'id': 'QA20', 'data_type': {'type': 'PixelType', 'precision': 'int', 'min': 0, 'max': 4294967295}, 'dimensions': [11133, 11133], 'origin': [189243, -44528], 'crs': 'EPSG:4326', 'crs_transform': [8.983152841195215e-05, 0, 0, 0, -8.983152841195215e-05, 0]}, {'id': 'QA60', 'data_type': {'type': 'PixelType', 'precision': 'int', 'min': 0, 'max': 65535}, 'dimensions': [11133, 11133], 'origin': [189243, -44528], 'crs': 'EPSG:4326', 'crs_transform': [8.983152841195215e-05, 0, 0, 0, -8.983152841195215e-05, 0]}, {'id': 'B10', 'data_type': {'type': 'PixelType', 'precision': 'int', 'min': 0, 'max': 65535}, 'dimensions': [11133, 11133], 'origin': [189243, -44528], 'crs': 'EPSG:4326', 'crs_transform': [8.983152841195215e-05, 0, 0, 0, -8.983152841195215e-05, 0]}, {'id': 'cloudScore', 'data_type': {'type': 'PixelType', 'precision': 'double', 'min': 0.001, 'max': 1}, 'dimensions': [11133, 11133], 'origin': [189243, -44528], 'crs': 'EPSG:4326', 'crs_transform': [8.983152841195215e-05, 0, 0, 0, -8.983152841195215e-05, 0]}, {'id': 'shadowScore', 'data_type': {'type': 'PixelType', 'precision': 'double', 'min': 0, 'max': 1}, 'dimensions': [11133, 11133], 'origin': [189243, -44528], 'crs': 'EPSG:4326', 'crs_transform': [8.983152841195215e-05, 0, 0, 0, -8.983152841195215e-05, 0]}, {'id': 'cloudShadowScore', 'data_type': {'type': 'PixelType', 'precision': 'double', 'min': -1, 'max': -0.001}, 'dimensions': [11133, 11133], 'origin': [189243, -44528], 'crs': 'EPSG:4326', 'crs_transform': [8.983152841195215e-05, 0, 0, 0, -8.983152841195215e-05, 0]}], 'properties': {'system:footprint': {'type': 'Polygon', 'coordinates': [[[17.089062, 3.259806], [17.09095, 3.21953], [17.192574, 3.124404], [17.271538, 3.057382], [17.365608, 3.054125], [17.41436, 3.259292], [17.089062, 3.259806]]]}}}\n",
      "Inject B10\n",
      "cloudFree info: {'type': 'Image', 'bands': [{'id': 'B1', 'data_type': {'type': 'PixelType', 'precision': 'int', 'min': 0, 'max': 65535}, 'dimensions': [11133, 11133], 'origin': [189243, -33396], 'crs': 'EPSG:4326', 'crs_transform': [8.983152841195215e-05, 0, 0, 0, -8.983152841195215e-05, 0]}, {'id': 'B2', 'data_type': {'type': 'PixelType', 'precision': 'int', 'min': 0, 'max': 65535}, 'dimensions': [11133, 11133], 'origin': [189243, -33396], 'crs': 'EPSG:4326', 'crs_transform': [8.983152841195215e-05, 0, 0, 0, -8.983152841195215e-05, 0]}, {'id': 'B3', 'data_type': {'type': 'PixelType', 'precision': 'int', 'min': 0, 'max': 65535}, 'dimensions': [11133, 11133], 'origin': [189243, -33396], 'crs': 'EPSG:4326', 'crs_transform': [8.983152841195215e-05, 0, 0, 0, -8.983152841195215e-05, 0]}, {'id': 'B4', 'data_type': {'type': 'PixelType', 'precision': 'int', 'min': 0, 'max': 65535}, 'dimensions': [11133, 11133], 'origin': [189243, -33396], 'crs': 'EPSG:4326', 'crs_transform': [8.983152841195215e-05, 0, 0, 0, -8.983152841195215e-05, 0]}, {'id': 'B5', 'data_type': {'type': 'PixelType', 'precision': 'int', 'min': 0, 'max': 65535}, 'dimensions': [11133, 11133], 'origin': [189243, -33396], 'crs': 'EPSG:4326', 'crs_transform': [8.983152841195215e-05, 0, 0, 0, -8.983152841195215e-05, 0]}, {'id': 'B6', 'data_type': {'type': 'PixelType', 'precision': 'int', 'min': 0, 'max': 65535}, 'dimensions': [11133, 11133], 'origin': [189243, -33396], 'crs': 'EPSG:4326', 'crs_transform': [8.983152841195215e-05, 0, 0, 0, -8.983152841195215e-05, 0]}, {'id': 'B7', 'data_type': {'type': 'PixelType', 'precision': 'int', 'min': 0, 'max': 65535}, 'dimensions': [11133, 11133], 'origin': [189243, -33396], 'crs': 'EPSG:4326', 'crs_transform': [8.983152841195215e-05, 0, 0, 0, -8.983152841195215e-05, 0]}, {'id': 'B8', 'data_type': {'type': 'PixelType', 'precision': 'int', 'min': 0, 'max': 65535}, 'dimensions': [11133, 11133], 'origin': [189243, -33396], 'crs': 'EPSG:4326', 'crs_transform': [8.983152841195215e-05, 0, 0, 0, -8.983152841195215e-05, 0]}, {'id': 'B8A', 'data_type': {'type': 'PixelType', 'precision': 'int', 'min': 0, 'max': 65535}, 'dimensions': [11133, 11133], 'origin': [189243, -33396], 'crs': 'EPSG:4326', 'crs_transform': [8.983152841195215e-05, 0, 0, 0, -8.983152841195215e-05, 0]}, {'id': 'B9', 'data_type': {'type': 'PixelType', 'precision': 'int', 'min': 0, 'max': 65535}, 'dimensions': [11133, 11133], 'origin': [189243, -33396], 'crs': 'EPSG:4326', 'crs_transform': [8.983152841195215e-05, 0, 0, 0, -8.983152841195215e-05, 0]}, {'id': 'B11', 'data_type': {'type': 'PixelType', 'precision': 'int', 'min': 0, 'max': 65535}, 'dimensions': [11133, 11133], 'origin': [189243, -33396], 'crs': 'EPSG:4326', 'crs_transform': [8.983152841195215e-05, 0, 0, 0, -8.983152841195215e-05, 0]}, {'id': 'B12', 'data_type': {'type': 'PixelType', 'precision': 'int', 'min': 0, 'max': 65535}, 'dimensions': [11133, 11133], 'origin': [189243, -33396], 'crs': 'EPSG:4326', 'crs_transform': [8.983152841195215e-05, 0, 0, 0, -8.983152841195215e-05, 0]}, {'id': 'AOT', 'data_type': {'type': 'PixelType', 'precision': 'int', 'min': 0, 'max': 65535}, 'dimensions': [11133, 11133], 'origin': [189243, -33396], 'crs': 'EPSG:4326', 'crs_transform': [8.983152841195215e-05, 0, 0, 0, -8.983152841195215e-05, 0]}, {'id': 'WVP', 'data_type': {'type': 'PixelType', 'precision': 'int', 'min': 0, 'max': 65535}, 'dimensions': [11133, 11133], 'origin': [189243, -33396], 'crs': 'EPSG:4326', 'crs_transform': [8.983152841195215e-05, 0, 0, 0, -8.983152841195215e-05, 0]}, {'id': 'SCL', 'data_type': {'type': 'PixelType', 'precision': 'int', 'min': 0, 'max': 255}, 'dimensions': [11133, 11133], 'origin': [189243, -33396], 'crs': 'EPSG:4326', 'crs_transform': [8.983152841195215e-05, 0, 0, 0, -8.983152841195215e-05, 0]}, {'id': 'TCI_R', 'data_type': {'type': 'PixelType', 'precision': 'int', 'min': 0, 'max': 255}, 'dimensions': [11133, 11133], 'origin': [189243, -33396], 'crs': 'EPSG:4326', 'crs_transform': [8.983152841195215e-05, 0, 0, 0, -8.983152841195215e-05, 0]}, {'id': 'TCI_G', 'data_type': {'type': 'PixelType', 'precision': 'int', 'min': 0, 'max': 255}, 'dimensions': [11133, 11133], 'origin': [189243, -33396], 'crs': 'EPSG:4326', 'crs_transform': [8.983152841195215e-05, 0, 0, 0, -8.983152841195215e-05, 0]}, {'id': 'TCI_B', 'data_type': {'type': 'PixelType', 'precision': 'int', 'min': 0, 'max': 255}, 'dimensions': [11133, 11133], 'origin': [189243, -33396], 'crs': 'EPSG:4326', 'crs_transform': [8.983152841195215e-05, 0, 0, 0, -8.983152841195215e-05, 0]}, {'id': 'MSK_CLDPRB', 'data_type': {'type': 'PixelType', 'precision': 'int', 'min': 0, 'max': 255}, 'dimensions': [11133, 11133], 'origin': [189243, -33396], 'crs': 'EPSG:4326', 'crs_transform': [8.983152841195215e-05, 0, 0, 0, -8.983152841195215e-05, 0]}, {'id': 'MSK_SNWPRB', 'data_type': {'type': 'PixelType', 'precision': 'int', 'min': 0, 'max': 255}, 'dimensions': [11133, 11133], 'origin': [189243, -33396], 'crs': 'EPSG:4326', 'crs_transform': [8.983152841195215e-05, 0, 0, 0, -8.983152841195215e-05, 0]}, {'id': 'QA10', 'data_type': {'type': 'PixelType', 'precision': 'int', 'min': 0, 'max': 65535}, 'dimensions': [11133, 11133], 'origin': [189243, -33396], 'crs': 'EPSG:4326', 'crs_transform': [8.983152841195215e-05, 0, 0, 0, -8.983152841195215e-05, 0]}, {'id': 'QA20', 'data_type': {'type': 'PixelType', 'precision': 'int', 'min': 0, 'max': 4294967295}, 'dimensions': [11133, 11133], 'origin': [189243, -33396], 'crs': 'EPSG:4326', 'crs_transform': [8.983152841195215e-05, 0, 0, 0, -8.983152841195215e-05, 0]}, {'id': 'QA60', 'data_type': {'type': 'PixelType', 'precision': 'int', 'min': 0, 'max': 65535}, 'dimensions': [11133, 11133], 'origin': [189243, -33396], 'crs': 'EPSG:4326', 'crs_transform': [8.983152841195215e-05, 0, 0, 0, -8.983152841195215e-05, 0]}, {'id': 'B10', 'data_type': {'type': 'PixelType', 'precision': 'int', 'min': 0, 'max': 65535}, 'dimensions': [11133, 11133], 'origin': [189243, -33396], 'crs': 'EPSG:4326', 'crs_transform': [8.983152841195215e-05, 0, 0, 0, -8.983152841195215e-05, 0]}, {'id': 'cloudScore', 'data_type': {'type': 'PixelType', 'precision': 'double', 'min': 0.001, 'max': 1}, 'dimensions': [11133, 11133], 'origin': [189243, -33396], 'crs': 'EPSG:4326', 'crs_transform': [8.983152841195215e-05, 0, 0, 0, -8.983152841195215e-05, 0]}, {'id': 'shadowScore', 'data_type': {'type': 'PixelType', 'precision': 'double', 'min': 0, 'max': 1}, 'dimensions': [11133, 11133], 'origin': [189243, -33396], 'crs': 'EPSG:4326', 'crs_transform': [8.983152841195215e-05, 0, 0, 0, -8.983152841195215e-05, 0]}, {'id': 'cloudShadowScore', 'data_type': {'type': 'PixelType', 'precision': 'double', 'min': -1, 'max': -0.001}, 'dimensions': [11133, 11133], 'origin': [189243, -33396], 'crs': 'EPSG:4326', 'crs_transform': [8.983152841195215e-05, 0, 0, 0, -8.983152841195215e-05, 0]}], 'properties': {'system:footprint': {'type': 'Polygon', 'coordinates': [[[17.18811, 2.782052], [17.377453, 2.77828], [17.375221, 2.87395], [17.300549, 2.958984], [17.182102, 2.958127], [17.235489, 2.879608], [17.18811, 2.782052]]]}}}\n",
      "Inject B10\n",
      "cloudFree info: {'type': 'Image', 'bands': [{'id': 'B1', 'data_type': {'type': 'PixelType', 'precision': 'int', 'min': 0, 'max': 65535}, 'dimensions': [11133, 11133], 'origin': [144715, -33396], 'crs': 'EPSG:4326', 'crs_transform': [8.983152841195215e-05, 0, 0, 0, -8.983152841195215e-05, 0]}, {'id': 'B2', 'data_type': {'type': 'PixelType', 'precision': 'int', 'min': 0, 'max': 65535}, 'dimensions': [11133, 11133], 'origin': [144715, -33396], 'crs': 'EPSG:4326', 'crs_transform': [8.983152841195215e-05, 0, 0, 0, -8.983152841195215e-05, 0]}, {'id': 'B3', 'data_type': {'type': 'PixelType', 'precision': 'int', 'min': 0, 'max': 65535}, 'dimensions': [11133, 11133], 'origin': [144715, -33396], 'crs': 'EPSG:4326', 'crs_transform': [8.983152841195215e-05, 0, 0, 0, -8.983152841195215e-05, 0]}, {'id': 'B4', 'data_type': {'type': 'PixelType', 'precision': 'int', 'min': 0, 'max': 65535}, 'dimensions': [11133, 11133], 'origin': [144715, -33396], 'crs': 'EPSG:4326', 'crs_transform': [8.983152841195215e-05, 0, 0, 0, -8.983152841195215e-05, 0]}, {'id': 'B5', 'data_type': {'type': 'PixelType', 'precision': 'int', 'min': 0, 'max': 65535}, 'dimensions': [11133, 11133], 'origin': [144715, -33396], 'crs': 'EPSG:4326', 'crs_transform': [8.983152841195215e-05, 0, 0, 0, -8.983152841195215e-05, 0]}, {'id': 'B6', 'data_type': {'type': 'PixelType', 'precision': 'int', 'min': 0, 'max': 65535}, 'dimensions': [11133, 11133], 'origin': [144715, -33396], 'crs': 'EPSG:4326', 'crs_transform': [8.983152841195215e-05, 0, 0, 0, -8.983152841195215e-05, 0]}, {'id': 'B7', 'data_type': {'type': 'PixelType', 'precision': 'int', 'min': 0, 'max': 65535}, 'dimensions': [11133, 11133], 'origin': [144715, -33396], 'crs': 'EPSG:4326', 'crs_transform': [8.983152841195215e-05, 0, 0, 0, -8.983152841195215e-05, 0]}, {'id': 'B8', 'data_type': {'type': 'PixelType', 'precision': 'int', 'min': 0, 'max': 65535}, 'dimensions': [11133, 11133], 'origin': [144715, -33396], 'crs': 'EPSG:4326', 'crs_transform': [8.983152841195215e-05, 0, 0, 0, -8.983152841195215e-05, 0]}, {'id': 'B8A', 'data_type': {'type': 'PixelType', 'precision': 'int', 'min': 0, 'max': 65535}, 'dimensions': [11133, 11133], 'origin': [144715, -33396], 'crs': 'EPSG:4326', 'crs_transform': [8.983152841195215e-05, 0, 0, 0, -8.983152841195215e-05, 0]}, {'id': 'B9', 'data_type': {'type': 'PixelType', 'precision': 'int', 'min': 0, 'max': 65535}, 'dimensions': [11133, 11133], 'origin': [144715, -33396], 'crs': 'EPSG:4326', 'crs_transform': [8.983152841195215e-05, 0, 0, 0, -8.983152841195215e-05, 0]}, {'id': 'B11', 'data_type': {'type': 'PixelType', 'precision': 'int', 'min': 0, 'max': 65535}, 'dimensions': [11133, 11133], 'origin': [144715, -33396], 'crs': 'EPSG:4326', 'crs_transform': [8.983152841195215e-05, 0, 0, 0, -8.983152841195215e-05, 0]}, {'id': 'B12', 'data_type': {'type': 'PixelType', 'precision': 'int', 'min': 0, 'max': 65535}, 'dimensions': [11133, 11133], 'origin': [144715, -33396], 'crs': 'EPSG:4326', 'crs_transform': [8.983152841195215e-05, 0, 0, 0, -8.983152841195215e-05, 0]}, {'id': 'AOT', 'data_type': {'type': 'PixelType', 'precision': 'int', 'min': 0, 'max': 65535}, 'dimensions': [11133, 11133], 'origin': [144715, -33396], 'crs': 'EPSG:4326', 'crs_transform': [8.983152841195215e-05, 0, 0, 0, -8.983152841195215e-05, 0]}, {'id': 'WVP', 'data_type': {'type': 'PixelType', 'precision': 'int', 'min': 0, 'max': 65535}, 'dimensions': [11133, 11133], 'origin': [144715, -33396], 'crs': 'EPSG:4326', 'crs_transform': [8.983152841195215e-05, 0, 0, 0, -8.983152841195215e-05, 0]}, {'id': 'SCL', 'data_type': {'type': 'PixelType', 'precision': 'int', 'min': 0, 'max': 255}, 'dimensions': [11133, 11133], 'origin': [144715, -33396], 'crs': 'EPSG:4326', 'crs_transform': [8.983152841195215e-05, 0, 0, 0, -8.983152841195215e-05, 0]}, {'id': 'TCI_R', 'data_type': {'type': 'PixelType', 'precision': 'int', 'min': 0, 'max': 255}, 'dimensions': [11133, 11133], 'origin': [144715, -33396], 'crs': 'EPSG:4326', 'crs_transform': [8.983152841195215e-05, 0, 0, 0, -8.983152841195215e-05, 0]}, {'id': 'TCI_G', 'data_type': {'type': 'PixelType', 'precision': 'int', 'min': 0, 'max': 255}, 'dimensions': [11133, 11133], 'origin': [144715, -33396], 'crs': 'EPSG:4326', 'crs_transform': [8.983152841195215e-05, 0, 0, 0, -8.983152841195215e-05, 0]}, {'id': 'TCI_B', 'data_type': {'type': 'PixelType', 'precision': 'int', 'min': 0, 'max': 255}, 'dimensions': [11133, 11133], 'origin': [144715, -33396], 'crs': 'EPSG:4326', 'crs_transform': [8.983152841195215e-05, 0, 0, 0, -8.983152841195215e-05, 0]}, {'id': 'MSK_CLDPRB', 'data_type': {'type': 'PixelType', 'precision': 'int', 'min': 0, 'max': 255}, 'dimensions': [11133, 11133], 'origin': [144715, -33396], 'crs': 'EPSG:4326', 'crs_transform': [8.983152841195215e-05, 0, 0, 0, -8.983152841195215e-05, 0]}, {'id': 'MSK_SNWPRB', 'data_type': {'type': 'PixelType', 'precision': 'int', 'min': 0, 'max': 255}, 'dimensions': [11133, 11133], 'origin': [144715, -33396], 'crs': 'EPSG:4326', 'crs_transform': [8.983152841195215e-05, 0, 0, 0, -8.983152841195215e-05, 0]}, {'id': 'QA10', 'data_type': {'type': 'PixelType', 'precision': 'int', 'min': 0, 'max': 65535}, 'dimensions': [11133, 11133], 'origin': [144715, -33396], 'crs': 'EPSG:4326', 'crs_transform': [8.983152841195215e-05, 0, 0, 0, -8.983152841195215e-05, 0]}, {'id': 'QA20', 'data_type': {'type': 'PixelType', 'precision': 'int', 'min': 0, 'max': 4294967295}, 'dimensions': [11133, 11133], 'origin': [144715, -33396], 'crs': 'EPSG:4326', 'crs_transform': [8.983152841195215e-05, 0, 0, 0, -8.983152841195215e-05, 0]}, {'id': 'QA60', 'data_type': {'type': 'PixelType', 'precision': 'int', 'min': 0, 'max': 65535}, 'dimensions': [11133, 11133], 'origin': [144715, -33396], 'crs': 'EPSG:4326', 'crs_transform': [8.983152841195215e-05, 0, 0, 0, -8.983152841195215e-05, 0]}, {'id': 'B10', 'data_type': {'type': 'PixelType', 'precision': 'int', 'min': 0, 'max': 65535}, 'dimensions': [11133, 11133], 'origin': [144715, -33396], 'crs': 'EPSG:4326', 'crs_transform': [8.983152841195215e-05, 0, 0, 0, -8.983152841195215e-05, 0]}, {'id': 'cloudScore', 'data_type': {'type': 'PixelType', 'precision': 'double', 'min': 0.001, 'max': 1}, 'dimensions': [11133, 11133], 'origin': [144715, -33396], 'crs': 'EPSG:4326', 'crs_transform': [8.983152841195215e-05, 0, 0, 0, -8.983152841195215e-05, 0]}, {'id': 'shadowScore', 'data_type': {'type': 'PixelType', 'precision': 'double', 'min': 0, 'max': 1}, 'dimensions': [11133, 11133], 'origin': [144715, -33396], 'crs': 'EPSG:4326', 'crs_transform': [8.983152841195215e-05, 0, 0, 0, -8.983152841195215e-05, 0]}, {'id': 'cloudShadowScore', 'data_type': {'type': 'PixelType', 'precision': 'double', 'min': -1, 'max': -0.001}, 'dimensions': [11133, 11133], 'origin': [144715, -33396], 'crs': 'EPSG:4326', 'crs_transform': [8.983152841195215e-05, 0, 0, 0, -8.983152841195215e-05, 0]}], 'properties': {'system:footprint': {'type': 'Polygon', 'coordinates': [[[13.078365, 2.745616], [13.194237, 2.708494], [13.193808, 2.76542], [13.16617, 2.80417], [13.106174, 2.805713], [13.078365, 2.745616]]]}}}\n",
      "Inject B10\n",
      "cloudFree info: {'type': 'Image', 'bands': [{'id': 'B1', 'data_type': {'type': 'PixelType', 'precision': 'int', 'min': 0, 'max': 65535}, 'dimensions': [11133, 11133], 'origin': [155847, -33396], 'crs': 'EPSG:4326', 'crs_transform': [8.983152841195215e-05, 0, 0, 0, -8.983152841195215e-05, 0]}, {'id': 'B2', 'data_type': {'type': 'PixelType', 'precision': 'int', 'min': 0, 'max': 65535}, 'dimensions': [11133, 11133], 'origin': [155847, -33396], 'crs': 'EPSG:4326', 'crs_transform': [8.983152841195215e-05, 0, 0, 0, -8.983152841195215e-05, 0]}, {'id': 'B3', 'data_type': {'type': 'PixelType', 'precision': 'int', 'min': 0, 'max': 65535}, 'dimensions': [11133, 11133], 'origin': [155847, -33396], 'crs': 'EPSG:4326', 'crs_transform': [8.983152841195215e-05, 0, 0, 0, -8.983152841195215e-05, 0]}, {'id': 'B4', 'data_type': {'type': 'PixelType', 'precision': 'int', 'min': 0, 'max': 65535}, 'dimensions': [11133, 11133], 'origin': [155847, -33396], 'crs': 'EPSG:4326', 'crs_transform': [8.983152841195215e-05, 0, 0, 0, -8.983152841195215e-05, 0]}, {'id': 'B5', 'data_type': {'type': 'PixelType', 'precision': 'int', 'min': 0, 'max': 65535}, 'dimensions': [11133, 11133], 'origin': [155847, -33396], 'crs': 'EPSG:4326', 'crs_transform': [8.983152841195215e-05, 0, 0, 0, -8.983152841195215e-05, 0]}, {'id': 'B6', 'data_type': {'type': 'PixelType', 'precision': 'int', 'min': 0, 'max': 65535}, 'dimensions': [11133, 11133], 'origin': [155847, -33396], 'crs': 'EPSG:4326', 'crs_transform': [8.983152841195215e-05, 0, 0, 0, -8.983152841195215e-05, 0]}, {'id': 'B7', 'data_type': {'type': 'PixelType', 'precision': 'int', 'min': 0, 'max': 65535}, 'dimensions': [11133, 11133], 'origin': [155847, -33396], 'crs': 'EPSG:4326', 'crs_transform': [8.983152841195215e-05, 0, 0, 0, -8.983152841195215e-05, 0]}, {'id': 'B8', 'data_type': {'type': 'PixelType', 'precision': 'int', 'min': 0, 'max': 65535}, 'dimensions': [11133, 11133], 'origin': [155847, -33396], 'crs': 'EPSG:4326', 'crs_transform': [8.983152841195215e-05, 0, 0, 0, -8.983152841195215e-05, 0]}, {'id': 'B8A', 'data_type': {'type': 'PixelType', 'precision': 'int', 'min': 0, 'max': 65535}, 'dimensions': [11133, 11133], 'origin': [155847, -33396], 'crs': 'EPSG:4326', 'crs_transform': [8.983152841195215e-05, 0, 0, 0, -8.983152841195215e-05, 0]}, {'id': 'B9', 'data_type': {'type': 'PixelType', 'precision': 'int', 'min': 0, 'max': 65535}, 'dimensions': [11133, 11133], 'origin': [155847, -33396], 'crs': 'EPSG:4326', 'crs_transform': [8.983152841195215e-05, 0, 0, 0, -8.983152841195215e-05, 0]}, {'id': 'B11', 'data_type': {'type': 'PixelType', 'precision': 'int', 'min': 0, 'max': 65535}, 'dimensions': [11133, 11133], 'origin': [155847, -33396], 'crs': 'EPSG:4326', 'crs_transform': [8.983152841195215e-05, 0, 0, 0, -8.983152841195215e-05, 0]}, {'id': 'B12', 'data_type': {'type': 'PixelType', 'precision': 'int', 'min': 0, 'max': 65535}, 'dimensions': [11133, 11133], 'origin': [155847, -33396], 'crs': 'EPSG:4326', 'crs_transform': [8.983152841195215e-05, 0, 0, 0, -8.983152841195215e-05, 0]}, {'id': 'AOT', 'data_type': {'type': 'PixelType', 'precision': 'int', 'min': 0, 'max': 65535}, 'dimensions': [11133, 11133], 'origin': [155847, -33396], 'crs': 'EPSG:4326', 'crs_transform': [8.983152841195215e-05, 0, 0, 0, -8.983152841195215e-05, 0]}, {'id': 'WVP', 'data_type': {'type': 'PixelType', 'precision': 'int', 'min': 0, 'max': 65535}, 'dimensions': [11133, 11133], 'origin': [155847, -33396], 'crs': 'EPSG:4326', 'crs_transform': [8.983152841195215e-05, 0, 0, 0, -8.983152841195215e-05, 0]}, {'id': 'SCL', 'data_type': {'type': 'PixelType', 'precision': 'int', 'min': 0, 'max': 255}, 'dimensions': [11133, 11133], 'origin': [155847, -33396], 'crs': 'EPSG:4326', 'crs_transform': [8.983152841195215e-05, 0, 0, 0, -8.983152841195215e-05, 0]}, {'id': 'TCI_R', 'data_type': {'type': 'PixelType', 'precision': 'int', 'min': 0, 'max': 255}, 'dimensions': [11133, 11133], 'origin': [155847, -33396], 'crs': 'EPSG:4326', 'crs_transform': [8.983152841195215e-05, 0, 0, 0, -8.983152841195215e-05, 0]}, {'id': 'TCI_G', 'data_type': {'type': 'PixelType', 'precision': 'int', 'min': 0, 'max': 255}, 'dimensions': [11133, 11133], 'origin': [155847, -33396], 'crs': 'EPSG:4326', 'crs_transform': [8.983152841195215e-05, 0, 0, 0, -8.983152841195215e-05, 0]}, {'id': 'TCI_B', 'data_type': {'type': 'PixelType', 'precision': 'int', 'min': 0, 'max': 255}, 'dimensions': [11133, 11133], 'origin': [155847, -33396], 'crs': 'EPSG:4326', 'crs_transform': [8.983152841195215e-05, 0, 0, 0, -8.983152841195215e-05, 0]}, {'id': 'MSK_CLDPRB', 'data_type': {'type': 'PixelType', 'precision': 'int', 'min': 0, 'max': 255}, 'dimensions': [11133, 11133], 'origin': [155847, -33396], 'crs': 'EPSG:4326', 'crs_transform': [8.983152841195215e-05, 0, 0, 0, -8.983152841195215e-05, 0]}, {'id': 'MSK_SNWPRB', 'data_type': {'type': 'PixelType', 'precision': 'int', 'min': 0, 'max': 255}, 'dimensions': [11133, 11133], 'origin': [155847, -33396], 'crs': 'EPSG:4326', 'crs_transform': [8.983152841195215e-05, 0, 0, 0, -8.983152841195215e-05, 0]}, {'id': 'QA10', 'data_type': {'type': 'PixelType', 'precision': 'int', 'min': 0, 'max': 65535}, 'dimensions': [11133, 11133], 'origin': [155847, -33396], 'crs': 'EPSG:4326', 'crs_transform': [8.983152841195215e-05, 0, 0, 0, -8.983152841195215e-05, 0]}, {'id': 'QA20', 'data_type': {'type': 'PixelType', 'precision': 'int', 'min': 0, 'max': 4294967295}, 'dimensions': [11133, 11133], 'origin': [155847, -33396], 'crs': 'EPSG:4326', 'crs_transform': [8.983152841195215e-05, 0, 0, 0, -8.983152841195215e-05, 0]}, {'id': 'QA60', 'data_type': {'type': 'PixelType', 'precision': 'int', 'min': 0, 'max': 65535}, 'dimensions': [11133, 11133], 'origin': [155847, -33396], 'crs': 'EPSG:4326', 'crs_transform': [8.983152841195215e-05, 0, 0, 0, -8.983152841195215e-05, 0]}, {'id': 'B10', 'data_type': {'type': 'PixelType', 'precision': 'int', 'min': 0, 'max': 65535}, 'dimensions': [11133, 11133], 'origin': [155847, -33396], 'crs': 'EPSG:4326', 'crs_transform': [8.983152841195215e-05, 0, 0, 0, -8.983152841195215e-05, 0]}, {'id': 'cloudScore', 'data_type': {'type': 'PixelType', 'precision': 'double', 'min': 0.001, 'max': 1}, 'dimensions': [11133, 11133], 'origin': [155847, -33396], 'crs': 'EPSG:4326', 'crs_transform': [8.983152841195215e-05, 0, 0, 0, -8.983152841195215e-05, 0]}, {'id': 'shadowScore', 'data_type': {'type': 'PixelType', 'precision': 'double', 'min': 0, 'max': 1}, 'dimensions': [11133, 11133], 'origin': [155847, -33396], 'crs': 'EPSG:4326', 'crs_transform': [8.983152841195215e-05, 0, 0, 0, -8.983152841195215e-05, 0]}, {'id': 'cloudShadowScore', 'data_type': {'type': 'PixelType', 'precision': 'double', 'min': -1, 'max': -0.001}, 'dimensions': [11133, 11133], 'origin': [155847, -33396], 'crs': 'EPSG:4326', 'crs_transform': [8.983152841195215e-05, 0, 0, 0, -8.983152841195215e-05, 0]}], 'properties': {'system:footprint': {'type': 'Polygon', 'coordinates': [[[14.265747, 2.649164], [14.323254, 2.647964], [14.323769, 2.725641], [14.287033, 2.726155], [14.265747, 2.649164]]]}}}\n",
      "Inject B10\n",
      "cloudFree info: {'type': 'Image', 'bands': [{'id': 'B1', 'data_type': {'type': 'PixelType', 'precision': 'int', 'min': 0, 'max': 65535}, 'dimensions': [22265, 11133], 'origin': [144715, -33396], 'crs': 'EPSG:4326', 'crs_transform': [8.983152841195215e-05, 0, 0, 0, -8.983152841195215e-05, 0]}, {'id': 'B2', 'data_type': {'type': 'PixelType', 'precision': 'int', 'min': 0, 'max': 65535}, 'dimensions': [22265, 11133], 'origin': [144715, -33396], 'crs': 'EPSG:4326', 'crs_transform': [8.983152841195215e-05, 0, 0, 0, -8.983152841195215e-05, 0]}, {'id': 'B3', 'data_type': {'type': 'PixelType', 'precision': 'int', 'min': 0, 'max': 65535}, 'dimensions': [22265, 11133], 'origin': [144715, -33396], 'crs': 'EPSG:4326', 'crs_transform': [8.983152841195215e-05, 0, 0, 0, -8.983152841195215e-05, 0]}, {'id': 'B4', 'data_type': {'type': 'PixelType', 'precision': 'int', 'min': 0, 'max': 65535}, 'dimensions': [22265, 11133], 'origin': [144715, -33396], 'crs': 'EPSG:4326', 'crs_transform': [8.983152841195215e-05, 0, 0, 0, -8.983152841195215e-05, 0]}, {'id': 'B5', 'data_type': {'type': 'PixelType', 'precision': 'int', 'min': 0, 'max': 65535}, 'dimensions': [22265, 11133], 'origin': [144715, -33396], 'crs': 'EPSG:4326', 'crs_transform': [8.983152841195215e-05, 0, 0, 0, -8.983152841195215e-05, 0]}, {'id': 'B6', 'data_type': {'type': 'PixelType', 'precision': 'int', 'min': 0, 'max': 65535}, 'dimensions': [22265, 11133], 'origin': [144715, -33396], 'crs': 'EPSG:4326', 'crs_transform': [8.983152841195215e-05, 0, 0, 0, -8.983152841195215e-05, 0]}, {'id': 'B7', 'data_type': {'type': 'PixelType', 'precision': 'int', 'min': 0, 'max': 65535}, 'dimensions': [22265, 11133], 'origin': [144715, -33396], 'crs': 'EPSG:4326', 'crs_transform': [8.983152841195215e-05, 0, 0, 0, -8.983152841195215e-05, 0]}, {'id': 'B8', 'data_type': {'type': 'PixelType', 'precision': 'int', 'min': 0, 'max': 65535}, 'dimensions': [22265, 11133], 'origin': [144715, -33396], 'crs': 'EPSG:4326', 'crs_transform': [8.983152841195215e-05, 0, 0, 0, -8.983152841195215e-05, 0]}, {'id': 'B8A', 'data_type': {'type': 'PixelType', 'precision': 'int', 'min': 0, 'max': 65535}, 'dimensions': [22265, 11133], 'origin': [144715, -33396], 'crs': 'EPSG:4326', 'crs_transform': [8.983152841195215e-05, 0, 0, 0, -8.983152841195215e-05, 0]}, {'id': 'B9', 'data_type': {'type': 'PixelType', 'precision': 'int', 'min': 0, 'max': 65535}, 'dimensions': [22265, 11133], 'origin': [144715, -33396], 'crs': 'EPSG:4326', 'crs_transform': [8.983152841195215e-05, 0, 0, 0, -8.983152841195215e-05, 0]}, {'id': 'B11', 'data_type': {'type': 'PixelType', 'precision': 'int', 'min': 0, 'max': 65535}, 'dimensions': [22265, 11133], 'origin': [144715, -33396], 'crs': 'EPSG:4326', 'crs_transform': [8.983152841195215e-05, 0, 0, 0, -8.983152841195215e-05, 0]}, {'id': 'B12', 'data_type': {'type': 'PixelType', 'precision': 'int', 'min': 0, 'max': 65535}, 'dimensions': [22265, 11133], 'origin': [144715, -33396], 'crs': 'EPSG:4326', 'crs_transform': [8.983152841195215e-05, 0, 0, 0, -8.983152841195215e-05, 0]}, {'id': 'AOT', 'data_type': {'type': 'PixelType', 'precision': 'int', 'min': 0, 'max': 65535}, 'dimensions': [22265, 11133], 'origin': [144715, -33396], 'crs': 'EPSG:4326', 'crs_transform': [8.983152841195215e-05, 0, 0, 0, -8.983152841195215e-05, 0]}, {'id': 'WVP', 'data_type': {'type': 'PixelType', 'precision': 'int', 'min': 0, 'max': 65535}, 'dimensions': [22265, 11133], 'origin': [144715, -33396], 'crs': 'EPSG:4326', 'crs_transform': [8.983152841195215e-05, 0, 0, 0, -8.983152841195215e-05, 0]}, {'id': 'SCL', 'data_type': {'type': 'PixelType', 'precision': 'int', 'min': 0, 'max': 255}, 'dimensions': [22265, 11133], 'origin': [144715, -33396], 'crs': 'EPSG:4326', 'crs_transform': [8.983152841195215e-05, 0, 0, 0, -8.983152841195215e-05, 0]}, {'id': 'TCI_R', 'data_type': {'type': 'PixelType', 'precision': 'int', 'min': 0, 'max': 255}, 'dimensions': [22265, 11133], 'origin': [144715, -33396], 'crs': 'EPSG:4326', 'crs_transform': [8.983152841195215e-05, 0, 0, 0, -8.983152841195215e-05, 0]}, {'id': 'TCI_G', 'data_type': {'type': 'PixelType', 'precision': 'int', 'min': 0, 'max': 255}, 'dimensions': [22265, 11133], 'origin': [144715, -33396], 'crs': 'EPSG:4326', 'crs_transform': [8.983152841195215e-05, 0, 0, 0, -8.983152841195215e-05, 0]}, {'id': 'TCI_B', 'data_type': {'type': 'PixelType', 'precision': 'int', 'min': 0, 'max': 255}, 'dimensions': [22265, 11133], 'origin': [144715, -33396], 'crs': 'EPSG:4326', 'crs_transform': [8.983152841195215e-05, 0, 0, 0, -8.983152841195215e-05, 0]}, {'id': 'MSK_CLDPRB', 'data_type': {'type': 'PixelType', 'precision': 'int', 'min': 0, 'max': 255}, 'dimensions': [22265, 11133], 'origin': [144715, -33396], 'crs': 'EPSG:4326', 'crs_transform': [8.983152841195215e-05, 0, 0, 0, -8.983152841195215e-05, 0]}, {'id': 'MSK_SNWPRB', 'data_type': {'type': 'PixelType', 'precision': 'int', 'min': 0, 'max': 255}, 'dimensions': [22265, 11133], 'origin': [144715, -33396], 'crs': 'EPSG:4326', 'crs_transform': [8.983152841195215e-05, 0, 0, 0, -8.983152841195215e-05, 0]}, {'id': 'QA10', 'data_type': {'type': 'PixelType', 'precision': 'int', 'min': 0, 'max': 65535}, 'dimensions': [22265, 11133], 'origin': [144715, -33396], 'crs': 'EPSG:4326', 'crs_transform': [8.983152841195215e-05, 0, 0, 0, -8.983152841195215e-05, 0]}, {'id': 'QA20', 'data_type': {'type': 'PixelType', 'precision': 'int', 'min': 0, 'max': 4294967295}, 'dimensions': [22265, 11133], 'origin': [144715, -33396], 'crs': 'EPSG:4326', 'crs_transform': [8.983152841195215e-05, 0, 0, 0, -8.983152841195215e-05, 0]}, {'id': 'QA60', 'data_type': {'type': 'PixelType', 'precision': 'int', 'min': 0, 'max': 65535}, 'dimensions': [22265, 11133], 'origin': [144715, -33396], 'crs': 'EPSG:4326', 'crs_transform': [8.983152841195215e-05, 0, 0, 0, -8.983152841195215e-05, 0]}, {'id': 'B10', 'data_type': {'type': 'PixelType', 'precision': 'int', 'min': 0, 'max': 65535}, 'dimensions': [22265, 11133], 'origin': [144715, -33396], 'crs': 'EPSG:4326', 'crs_transform': [8.983152841195215e-05, 0, 0, 0, -8.983152841195215e-05, 0]}, {'id': 'cloudScore', 'data_type': {'type': 'PixelType', 'precision': 'double', 'min': 0.001, 'max': 1}, 'dimensions': [22265, 11133], 'origin': [144715, -33396], 'crs': 'EPSG:4326', 'crs_transform': [8.983152841195215e-05, 0, 0, 0, -8.983152841195215e-05, 0]}, {'id': 'shadowScore', 'data_type': {'type': 'PixelType', 'precision': 'double', 'min': 0, 'max': 1}, 'dimensions': [22265, 11133], 'origin': [144715, -33396], 'crs': 'EPSG:4326', 'crs_transform': [8.983152841195215e-05, 0, 0, 0, -8.983152841195215e-05, 0]}, {'id': 'cloudShadowScore', 'data_type': {'type': 'PixelType', 'precision': 'double', 'min': -1, 'max': -0.001}, 'dimensions': [22265, 11133], 'origin': [144715, -33396], 'crs': 'EPSG:4326', 'crs_transform': [8.983152841195215e-05, 0, 0, 0, -8.983152841195215e-05, 0]}], 'properties': {'system:footprint': {'type': 'Polygon', 'coordinates': [[[14.082069, 2.279062], [14.134083, 2.331376], [14.00053, 2.411988], [13.855476, 2.259508], [13.892899, 2.232578], [14.002247, 2.336007], [14.082069, 2.279062]]]}}}\n",
      "Inject B10\n",
      "cloudFree info: {'type': 'Image', 'bands': [{'id': 'B1', 'data_type': {'type': 'PixelType', 'precision': 'int', 'min': 0, 'max': 65535}, 'dimensions': [11133, 11133], 'origin': [144715, -22264], 'crs': 'EPSG:4326', 'crs_transform': [8.983152841195215e-05, 0, 0, 0, -8.983152841195215e-05, 0]}, {'id': 'B2', 'data_type': {'type': 'PixelType', 'precision': 'int', 'min': 0, 'max': 65535}, 'dimensions': [11133, 11133], 'origin': [144715, -22264], 'crs': 'EPSG:4326', 'crs_transform': [8.983152841195215e-05, 0, 0, 0, -8.983152841195215e-05, 0]}, {'id': 'B3', 'data_type': {'type': 'PixelType', 'precision': 'int', 'min': 0, 'max': 65535}, 'dimensions': [11133, 11133], 'origin': [144715, -22264], 'crs': 'EPSG:4326', 'crs_transform': [8.983152841195215e-05, 0, 0, 0, -8.983152841195215e-05, 0]}, {'id': 'B4', 'data_type': {'type': 'PixelType', 'precision': 'int', 'min': 0, 'max': 65535}, 'dimensions': [11133, 11133], 'origin': [144715, -22264], 'crs': 'EPSG:4326', 'crs_transform': [8.983152841195215e-05, 0, 0, 0, -8.983152841195215e-05, 0]}, {'id': 'B5', 'data_type': {'type': 'PixelType', 'precision': 'int', 'min': 0, 'max': 65535}, 'dimensions': [11133, 11133], 'origin': [144715, -22264], 'crs': 'EPSG:4326', 'crs_transform': [8.983152841195215e-05, 0, 0, 0, -8.983152841195215e-05, 0]}, {'id': 'B6', 'data_type': {'type': 'PixelType', 'precision': 'int', 'min': 0, 'max': 65535}, 'dimensions': [11133, 11133], 'origin': [144715, -22264], 'crs': 'EPSG:4326', 'crs_transform': [8.983152841195215e-05, 0, 0, 0, -8.983152841195215e-05, 0]}, {'id': 'B7', 'data_type': {'type': 'PixelType', 'precision': 'int', 'min': 0, 'max': 65535}, 'dimensions': [11133, 11133], 'origin': [144715, -22264], 'crs': 'EPSG:4326', 'crs_transform': [8.983152841195215e-05, 0, 0, 0, -8.983152841195215e-05, 0]}, {'id': 'B8', 'data_type': {'type': 'PixelType', 'precision': 'int', 'min': 0, 'max': 65535}, 'dimensions': [11133, 11133], 'origin': [144715, -22264], 'crs': 'EPSG:4326', 'crs_transform': [8.983152841195215e-05, 0, 0, 0, -8.983152841195215e-05, 0]}, {'id': 'B8A', 'data_type': {'type': 'PixelType', 'precision': 'int', 'min': 0, 'max': 65535}, 'dimensions': [11133, 11133], 'origin': [144715, -22264], 'crs': 'EPSG:4326', 'crs_transform': [8.983152841195215e-05, 0, 0, 0, -8.983152841195215e-05, 0]}, {'id': 'B9', 'data_type': {'type': 'PixelType', 'precision': 'int', 'min': 0, 'max': 65535}, 'dimensions': [11133, 11133], 'origin': [144715, -22264], 'crs': 'EPSG:4326', 'crs_transform': [8.983152841195215e-05, 0, 0, 0, -8.983152841195215e-05, 0]}, {'id': 'B11', 'data_type': {'type': 'PixelType', 'precision': 'int', 'min': 0, 'max': 65535}, 'dimensions': [11133, 11133], 'origin': [144715, -22264], 'crs': 'EPSG:4326', 'crs_transform': [8.983152841195215e-05, 0, 0, 0, -8.983152841195215e-05, 0]}, {'id': 'B12', 'data_type': {'type': 'PixelType', 'precision': 'int', 'min': 0, 'max': 65535}, 'dimensions': [11133, 11133], 'origin': [144715, -22264], 'crs': 'EPSG:4326', 'crs_transform': [8.983152841195215e-05, 0, 0, 0, -8.983152841195215e-05, 0]}, {'id': 'AOT', 'data_type': {'type': 'PixelType', 'precision': 'int', 'min': 0, 'max': 65535}, 'dimensions': [11133, 11133], 'origin': [144715, -22264], 'crs': 'EPSG:4326', 'crs_transform': [8.983152841195215e-05, 0, 0, 0, -8.983152841195215e-05, 0]}, {'id': 'WVP', 'data_type': {'type': 'PixelType', 'precision': 'int', 'min': 0, 'max': 65535}, 'dimensions': [11133, 11133], 'origin': [144715, -22264], 'crs': 'EPSG:4326', 'crs_transform': [8.983152841195215e-05, 0, 0, 0, -8.983152841195215e-05, 0]}, {'id': 'SCL', 'data_type': {'type': 'PixelType', 'precision': 'int', 'min': 0, 'max': 255}, 'dimensions': [11133, 11133], 'origin': [144715, -22264], 'crs': 'EPSG:4326', 'crs_transform': [8.983152841195215e-05, 0, 0, 0, -8.983152841195215e-05, 0]}, {'id': 'TCI_R', 'data_type': {'type': 'PixelType', 'precision': 'int', 'min': 0, 'max': 255}, 'dimensions': [11133, 11133], 'origin': [144715, -22264], 'crs': 'EPSG:4326', 'crs_transform': [8.983152841195215e-05, 0, 0, 0, -8.983152841195215e-05, 0]}, {'id': 'TCI_G', 'data_type': {'type': 'PixelType', 'precision': 'int', 'min': 0, 'max': 255}, 'dimensions': [11133, 11133], 'origin': [144715, -22264], 'crs': 'EPSG:4326', 'crs_transform': [8.983152841195215e-05, 0, 0, 0, -8.983152841195215e-05, 0]}, {'id': 'TCI_B', 'data_type': {'type': 'PixelType', 'precision': 'int', 'min': 0, 'max': 255}, 'dimensions': [11133, 11133], 'origin': [144715, -22264], 'crs': 'EPSG:4326', 'crs_transform': [8.983152841195215e-05, 0, 0, 0, -8.983152841195215e-05, 0]}, {'id': 'MSK_CLDPRB', 'data_type': {'type': 'PixelType', 'precision': 'int', 'min': 0, 'max': 255}, 'dimensions': [11133, 11133], 'origin': [144715, -22264], 'crs': 'EPSG:4326', 'crs_transform': [8.983152841195215e-05, 0, 0, 0, -8.983152841195215e-05, 0]}, {'id': 'MSK_SNWPRB', 'data_type': {'type': 'PixelType', 'precision': 'int', 'min': 0, 'max': 255}, 'dimensions': [11133, 11133], 'origin': [144715, -22264], 'crs': 'EPSG:4326', 'crs_transform': [8.983152841195215e-05, 0, 0, 0, -8.983152841195215e-05, 0]}, {'id': 'QA10', 'data_type': {'type': 'PixelType', 'precision': 'int', 'min': 0, 'max': 65535}, 'dimensions': [11133, 11133], 'origin': [144715, -22264], 'crs': 'EPSG:4326', 'crs_transform': [8.983152841195215e-05, 0, 0, 0, -8.983152841195215e-05, 0]}, {'id': 'QA20', 'data_type': {'type': 'PixelType', 'precision': 'int', 'min': 0, 'max': 4294967295}, 'dimensions': [11133, 11133], 'origin': [144715, -22264], 'crs': 'EPSG:4326', 'crs_transform': [8.983152841195215e-05, 0, 0, 0, -8.983152841195215e-05, 0]}, {'id': 'QA60', 'data_type': {'type': 'PixelType', 'precision': 'int', 'min': 0, 'max': 65535}, 'dimensions': [11133, 11133], 'origin': [144715, -22264], 'crs': 'EPSG:4326', 'crs_transform': [8.983152841195215e-05, 0, 0, 0, -8.983152841195215e-05, 0]}, {'id': 'B10', 'data_type': {'type': 'PixelType', 'precision': 'int', 'min': 0, 'max': 65535}, 'dimensions': [11133, 11133], 'origin': [144715, -22264], 'crs': 'EPSG:4326', 'crs_transform': [8.983152841195215e-05, 0, 0, 0, -8.983152841195215e-05, 0]}, {'id': 'cloudScore', 'data_type': {'type': 'PixelType', 'precision': 'double', 'min': 0.001, 'max': 1}, 'dimensions': [11133, 11133], 'origin': [144715, -22264], 'crs': 'EPSG:4326', 'crs_transform': [8.983152841195215e-05, 0, 0, 0, -8.983152841195215e-05, 0]}, {'id': 'shadowScore', 'data_type': {'type': 'PixelType', 'precision': 'double', 'min': 0, 'max': 1}, 'dimensions': [11133, 11133], 'origin': [144715, -22264], 'crs': 'EPSG:4326', 'crs_transform': [8.983152841195215e-05, 0, 0, 0, -8.983152841195215e-05, 0]}, {'id': 'cloudShadowScore', 'data_type': {'type': 'PixelType', 'precision': 'double', 'min': -1, 'max': -0.001}, 'dimensions': [11133, 11133], 'origin': [144715, -22264], 'crs': 'EPSG:4326', 'crs_transform': [8.983152841195215e-05, 0, 0, 0, -8.983152841195215e-05, 0]}], 'properties': {'system:footprint': {'type': 'Polygon', 'coordinates': [[[13.189774, 1.739178], [13.298435, 1.729054], [13.429413, 1.857394], [13.403835, 1.903203], [13.198013, 1.893767], [13.216553, 1.841438], [13.194237, 1.785333], [13.189774, 1.739178]]]}}}\n",
      "Inject B10\n",
      "cloudFree info: {'type': 'Image', 'bands': [{'id': 'B1', 'data_type': {'type': 'PixelType', 'precision': 'int', 'min': 0, 'max': 65535}, 'dimensions': [11133, 11132], 'origin': [166979, 0], 'crs': 'EPSG:4326', 'crs_transform': [8.983152841195215e-05, 0, 0, 0, -8.983152841195215e-05, 0]}, {'id': 'B2', 'data_type': {'type': 'PixelType', 'precision': 'int', 'min': 0, 'max': 65535}, 'dimensions': [11133, 11132], 'origin': [166979, 0], 'crs': 'EPSG:4326', 'crs_transform': [8.983152841195215e-05, 0, 0, 0, -8.983152841195215e-05, 0]}, {'id': 'B3', 'data_type': {'type': 'PixelType', 'precision': 'int', 'min': 0, 'max': 65535}, 'dimensions': [11133, 11132], 'origin': [166979, 0], 'crs': 'EPSG:4326', 'crs_transform': [8.983152841195215e-05, 0, 0, 0, -8.983152841195215e-05, 0]}, {'id': 'B4', 'data_type': {'type': 'PixelType', 'precision': 'int', 'min': 0, 'max': 65535}, 'dimensions': [11133, 11132], 'origin': [166979, 0], 'crs': 'EPSG:4326', 'crs_transform': [8.983152841195215e-05, 0, 0, 0, -8.983152841195215e-05, 0]}, {'id': 'B5', 'data_type': {'type': 'PixelType', 'precision': 'int', 'min': 0, 'max': 65535}, 'dimensions': [11133, 11132], 'origin': [166979, 0], 'crs': 'EPSG:4326', 'crs_transform': [8.983152841195215e-05, 0, 0, 0, -8.983152841195215e-05, 0]}, {'id': 'B6', 'data_type': {'type': 'PixelType', 'precision': 'int', 'min': 0, 'max': 65535}, 'dimensions': [11133, 11132], 'origin': [166979, 0], 'crs': 'EPSG:4326', 'crs_transform': [8.983152841195215e-05, 0, 0, 0, -8.983152841195215e-05, 0]}, {'id': 'B7', 'data_type': {'type': 'PixelType', 'precision': 'int', 'min': 0, 'max': 65535}, 'dimensions': [11133, 11132], 'origin': [166979, 0], 'crs': 'EPSG:4326', 'crs_transform': [8.983152841195215e-05, 0, 0, 0, -8.983152841195215e-05, 0]}, {'id': 'B8', 'data_type': {'type': 'PixelType', 'precision': 'int', 'min': 0, 'max': 65535}, 'dimensions': [11133, 11132], 'origin': [166979, 0], 'crs': 'EPSG:4326', 'crs_transform': [8.983152841195215e-05, 0, 0, 0, -8.983152841195215e-05, 0]}, {'id': 'B8A', 'data_type': {'type': 'PixelType', 'precision': 'int', 'min': 0, 'max': 65535}, 'dimensions': [11133, 11132], 'origin': [166979, 0], 'crs': 'EPSG:4326', 'crs_transform': [8.983152841195215e-05, 0, 0, 0, -8.983152841195215e-05, 0]}, {'id': 'B9', 'data_type': {'type': 'PixelType', 'precision': 'int', 'min': 0, 'max': 65535}, 'dimensions': [11133, 11132], 'origin': [166979, 0], 'crs': 'EPSG:4326', 'crs_transform': [8.983152841195215e-05, 0, 0, 0, -8.983152841195215e-05, 0]}, {'id': 'B11', 'data_type': {'type': 'PixelType', 'precision': 'int', 'min': 0, 'max': 65535}, 'dimensions': [11133, 11132], 'origin': [166979, 0], 'crs': 'EPSG:4326', 'crs_transform': [8.983152841195215e-05, 0, 0, 0, -8.983152841195215e-05, 0]}, {'id': 'B12', 'data_type': {'type': 'PixelType', 'precision': 'int', 'min': 0, 'max': 65535}, 'dimensions': [11133, 11132], 'origin': [166979, 0], 'crs': 'EPSG:4326', 'crs_transform': [8.983152841195215e-05, 0, 0, 0, -8.983152841195215e-05, 0]}, {'id': 'AOT', 'data_type': {'type': 'PixelType', 'precision': 'int', 'min': 0, 'max': 65535}, 'dimensions': [11133, 11132], 'origin': [166979, 0], 'crs': 'EPSG:4326', 'crs_transform': [8.983152841195215e-05, 0, 0, 0, -8.983152841195215e-05, 0]}, {'id': 'WVP', 'data_type': {'type': 'PixelType', 'precision': 'int', 'min': 0, 'max': 65535}, 'dimensions': [11133, 11132], 'origin': [166979, 0], 'crs': 'EPSG:4326', 'crs_transform': [8.983152841195215e-05, 0, 0, 0, -8.983152841195215e-05, 0]}, {'id': 'SCL', 'data_type': {'type': 'PixelType', 'precision': 'int', 'min': 0, 'max': 255}, 'dimensions': [11133, 11132], 'origin': [166979, 0], 'crs': 'EPSG:4326', 'crs_transform': [8.983152841195215e-05, 0, 0, 0, -8.983152841195215e-05, 0]}, {'id': 'TCI_R', 'data_type': {'type': 'PixelType', 'precision': 'int', 'min': 0, 'max': 255}, 'dimensions': [11133, 11132], 'origin': [166979, 0], 'crs': 'EPSG:4326', 'crs_transform': [8.983152841195215e-05, 0, 0, 0, -8.983152841195215e-05, 0]}, {'id': 'TCI_G', 'data_type': {'type': 'PixelType', 'precision': 'int', 'min': 0, 'max': 255}, 'dimensions': [11133, 11132], 'origin': [166979, 0], 'crs': 'EPSG:4326', 'crs_transform': [8.983152841195215e-05, 0, 0, 0, -8.983152841195215e-05, 0]}, {'id': 'TCI_B', 'data_type': {'type': 'PixelType', 'precision': 'int', 'min': 0, 'max': 255}, 'dimensions': [11133, 11132], 'origin': [166979, 0], 'crs': 'EPSG:4326', 'crs_transform': [8.983152841195215e-05, 0, 0, 0, -8.983152841195215e-05, 0]}, {'id': 'MSK_CLDPRB', 'data_type': {'type': 'PixelType', 'precision': 'int', 'min': 0, 'max': 255}, 'dimensions': [11133, 11132], 'origin': [166979, 0], 'crs': 'EPSG:4326', 'crs_transform': [8.983152841195215e-05, 0, 0, 0, -8.983152841195215e-05, 0]}, {'id': 'MSK_SNWPRB', 'data_type': {'type': 'PixelType', 'precision': 'int', 'min': 0, 'max': 255}, 'dimensions': [11133, 11132], 'origin': [166979, 0], 'crs': 'EPSG:4326', 'crs_transform': [8.983152841195215e-05, 0, 0, 0, -8.983152841195215e-05, 0]}, {'id': 'QA10', 'data_type': {'type': 'PixelType', 'precision': 'int', 'min': 0, 'max': 65535}, 'dimensions': [11133, 11132], 'origin': [166979, 0], 'crs': 'EPSG:4326', 'crs_transform': [8.983152841195215e-05, 0, 0, 0, -8.983152841195215e-05, 0]}, {'id': 'QA20', 'data_type': {'type': 'PixelType', 'precision': 'int', 'min': 0, 'max': 4294967295}, 'dimensions': [11133, 11132], 'origin': [166979, 0], 'crs': 'EPSG:4326', 'crs_transform': [8.983152841195215e-05, 0, 0, 0, -8.983152841195215e-05, 0]}, {'id': 'QA60', 'data_type': {'type': 'PixelType', 'precision': 'int', 'min': 0, 'max': 65535}, 'dimensions': [11133, 11132], 'origin': [166979, 0], 'crs': 'EPSG:4326', 'crs_transform': [8.983152841195215e-05, 0, 0, 0, -8.983152841195215e-05, 0]}, {'id': 'B10', 'data_type': {'type': 'PixelType', 'precision': 'int', 'min': 0, 'max': 65535}, 'dimensions': [11133, 11132], 'origin': [166979, 0], 'crs': 'EPSG:4326', 'crs_transform': [8.983152841195215e-05, 0, 0, 0, -8.983152841195215e-05, 0]}, {'id': 'cloudScore', 'data_type': {'type': 'PixelType', 'precision': 'double', 'min': 0.001, 'max': 1}, 'dimensions': [11133, 11132], 'origin': [166979, 0], 'crs': 'EPSG:4326', 'crs_transform': [8.983152841195215e-05, 0, 0, 0, -8.983152841195215e-05, 0]}, {'id': 'shadowScore', 'data_type': {'type': 'PixelType', 'precision': 'double', 'min': 0, 'max': 1}, 'dimensions': [11133, 11132], 'origin': [166979, 0], 'crs': 'EPSG:4326', 'crs_transform': [8.983152841195215e-05, 0, 0, 0, -8.983152841195215e-05, 0]}, {'id': 'cloudShadowScore', 'data_type': {'type': 'PixelType', 'precision': 'double', 'min': -1, 'max': -0.001}, 'dimensions': [11133, 11132], 'origin': [166979, 0], 'crs': 'EPSG:4326', 'crs_transform': [8.983152841195215e-05, 0, 0, 0, -8.983152841195215e-05, 0]}], 'properties': {'system:footprint': {'type': 'Polygon', 'coordinates': [[[15.073929, -0.107632], [15.069466, -0.188656], [15.306702, -0.245303], [15.325069, -0.211486], [15.118904, -0.112438], [15.073929, -0.107632]]]}}}\n",
      "Inject B10\n",
      "cloudFree info: {'type': 'Image', 'bands': [{'id': 'B1', 'data_type': {'type': 'PixelType', 'precision': 'int', 'min': 0, 'max': 65535}, 'dimensions': [22265, 11132], 'origin': [155847, 0], 'crs': 'EPSG:4326', 'crs_transform': [8.983152841195215e-05, 0, 0, 0, -8.983152841195215e-05, 0]}, {'id': 'B2', 'data_type': {'type': 'PixelType', 'precision': 'int', 'min': 0, 'max': 65535}, 'dimensions': [22265, 11132], 'origin': [155847, 0], 'crs': 'EPSG:4326', 'crs_transform': [8.983152841195215e-05, 0, 0, 0, -8.983152841195215e-05, 0]}, {'id': 'B3', 'data_type': {'type': 'PixelType', 'precision': 'int', 'min': 0, 'max': 65535}, 'dimensions': [22265, 11132], 'origin': [155847, 0], 'crs': 'EPSG:4326', 'crs_transform': [8.983152841195215e-05, 0, 0, 0, -8.983152841195215e-05, 0]}, {'id': 'B4', 'data_type': {'type': 'PixelType', 'precision': 'int', 'min': 0, 'max': 65535}, 'dimensions': [22265, 11132], 'origin': [155847, 0], 'crs': 'EPSG:4326', 'crs_transform': [8.983152841195215e-05, 0, 0, 0, -8.983152841195215e-05, 0]}, {'id': 'B5', 'data_type': {'type': 'PixelType', 'precision': 'int', 'min': 0, 'max': 65535}, 'dimensions': [22265, 11132], 'origin': [155847, 0], 'crs': 'EPSG:4326', 'crs_transform': [8.983152841195215e-05, 0, 0, 0, -8.983152841195215e-05, 0]}, {'id': 'B6', 'data_type': {'type': 'PixelType', 'precision': 'int', 'min': 0, 'max': 65535}, 'dimensions': [22265, 11132], 'origin': [155847, 0], 'crs': 'EPSG:4326', 'crs_transform': [8.983152841195215e-05, 0, 0, 0, -8.983152841195215e-05, 0]}, {'id': 'B7', 'data_type': {'type': 'PixelType', 'precision': 'int', 'min': 0, 'max': 65535}, 'dimensions': [22265, 11132], 'origin': [155847, 0], 'crs': 'EPSG:4326', 'crs_transform': [8.983152841195215e-05, 0, 0, 0, -8.983152841195215e-05, 0]}, {'id': 'B8', 'data_type': {'type': 'PixelType', 'precision': 'int', 'min': 0, 'max': 65535}, 'dimensions': [22265, 11132], 'origin': [155847, 0], 'crs': 'EPSG:4326', 'crs_transform': [8.983152841195215e-05, 0, 0, 0, -8.983152841195215e-05, 0]}, {'id': 'B8A', 'data_type': {'type': 'PixelType', 'precision': 'int', 'min': 0, 'max': 65535}, 'dimensions': [22265, 11132], 'origin': [155847, 0], 'crs': 'EPSG:4326', 'crs_transform': [8.983152841195215e-05, 0, 0, 0, -8.983152841195215e-05, 0]}, {'id': 'B9', 'data_type': {'type': 'PixelType', 'precision': 'int', 'min': 0, 'max': 65535}, 'dimensions': [22265, 11132], 'origin': [155847, 0], 'crs': 'EPSG:4326', 'crs_transform': [8.983152841195215e-05, 0, 0, 0, -8.983152841195215e-05, 0]}, {'id': 'B11', 'data_type': {'type': 'PixelType', 'precision': 'int', 'min': 0, 'max': 65535}, 'dimensions': [22265, 11132], 'origin': [155847, 0], 'crs': 'EPSG:4326', 'crs_transform': [8.983152841195215e-05, 0, 0, 0, -8.983152841195215e-05, 0]}, {'id': 'B12', 'data_type': {'type': 'PixelType', 'precision': 'int', 'min': 0, 'max': 65535}, 'dimensions': [22265, 11132], 'origin': [155847, 0], 'crs': 'EPSG:4326', 'crs_transform': [8.983152841195215e-05, 0, 0, 0, -8.983152841195215e-05, 0]}, {'id': 'AOT', 'data_type': {'type': 'PixelType', 'precision': 'int', 'min': 0, 'max': 65535}, 'dimensions': [22265, 11132], 'origin': [155847, 0], 'crs': 'EPSG:4326', 'crs_transform': [8.983152841195215e-05, 0, 0, 0, -8.983152841195215e-05, 0]}, {'id': 'WVP', 'data_type': {'type': 'PixelType', 'precision': 'int', 'min': 0, 'max': 65535}, 'dimensions': [22265, 11132], 'origin': [155847, 0], 'crs': 'EPSG:4326', 'crs_transform': [8.983152841195215e-05, 0, 0, 0, -8.983152841195215e-05, 0]}, {'id': 'SCL', 'data_type': {'type': 'PixelType', 'precision': 'int', 'min': 0, 'max': 255}, 'dimensions': [22265, 11132], 'origin': [155847, 0], 'crs': 'EPSG:4326', 'crs_transform': [8.983152841195215e-05, 0, 0, 0, -8.983152841195215e-05, 0]}, {'id': 'TCI_R', 'data_type': {'type': 'PixelType', 'precision': 'int', 'min': 0, 'max': 255}, 'dimensions': [22265, 11132], 'origin': [155847, 0], 'crs': 'EPSG:4326', 'crs_transform': [8.983152841195215e-05, 0, 0, 0, -8.983152841195215e-05, 0]}, {'id': 'TCI_G', 'data_type': {'type': 'PixelType', 'precision': 'int', 'min': 0, 'max': 255}, 'dimensions': [22265, 11132], 'origin': [155847, 0], 'crs': 'EPSG:4326', 'crs_transform': [8.983152841195215e-05, 0, 0, 0, -8.983152841195215e-05, 0]}, {'id': 'TCI_B', 'data_type': {'type': 'PixelType', 'precision': 'int', 'min': 0, 'max': 255}, 'dimensions': [22265, 11132], 'origin': [155847, 0], 'crs': 'EPSG:4326', 'crs_transform': [8.983152841195215e-05, 0, 0, 0, -8.983152841195215e-05, 0]}, {'id': 'MSK_CLDPRB', 'data_type': {'type': 'PixelType', 'precision': 'int', 'min': 0, 'max': 255}, 'dimensions': [22265, 11132], 'origin': [155847, 0], 'crs': 'EPSG:4326', 'crs_transform': [8.983152841195215e-05, 0, 0, 0, -8.983152841195215e-05, 0]}, {'id': 'MSK_SNWPRB', 'data_type': {'type': 'PixelType', 'precision': 'int', 'min': 0, 'max': 255}, 'dimensions': [22265, 11132], 'origin': [155847, 0], 'crs': 'EPSG:4326', 'crs_transform': [8.983152841195215e-05, 0, 0, 0, -8.983152841195215e-05, 0]}, {'id': 'QA10', 'data_type': {'type': 'PixelType', 'precision': 'int', 'min': 0, 'max': 65535}, 'dimensions': [22265, 11132], 'origin': [155847, 0], 'crs': 'EPSG:4326', 'crs_transform': [8.983152841195215e-05, 0, 0, 0, -8.983152841195215e-05, 0]}, {'id': 'QA20', 'data_type': {'type': 'PixelType', 'precision': 'int', 'min': 0, 'max': 4294967295}, 'dimensions': [22265, 11132], 'origin': [155847, 0], 'crs': 'EPSG:4326', 'crs_transform': [8.983152841195215e-05, 0, 0, 0, -8.983152841195215e-05, 0]}, {'id': 'QA60', 'data_type': {'type': 'PixelType', 'precision': 'int', 'min': 0, 'max': 65535}, 'dimensions': [22265, 11132], 'origin': [155847, 0], 'crs': 'EPSG:4326', 'crs_transform': [8.983152841195215e-05, 0, 0, 0, -8.983152841195215e-05, 0]}, {'id': 'B10', 'data_type': {'type': 'PixelType', 'precision': 'int', 'min': 0, 'max': 65535}, 'dimensions': [22265, 11132], 'origin': [155847, 0], 'crs': 'EPSG:4326', 'crs_transform': [8.983152841195215e-05, 0, 0, 0, -8.983152841195215e-05, 0]}, {'id': 'cloudScore', 'data_type': {'type': 'PixelType', 'precision': 'double', 'min': 0.001, 'max': 1}, 'dimensions': [22265, 11132], 'origin': [155847, 0], 'crs': 'EPSG:4326', 'crs_transform': [8.983152841195215e-05, 0, 0, 0, -8.983152841195215e-05, 0]}, {'id': 'shadowScore', 'data_type': {'type': 'PixelType', 'precision': 'double', 'min': 0, 'max': 1}, 'dimensions': [22265, 11132], 'origin': [155847, 0], 'crs': 'EPSG:4326', 'crs_transform': [8.983152841195215e-05, 0, 0, 0, -8.983152841195215e-05, 0]}, {'id': 'cloudShadowScore', 'data_type': {'type': 'PixelType', 'precision': 'double', 'min': -1, 'max': -0.001}, 'dimensions': [22265, 11132], 'origin': [155847, 0], 'crs': 'EPSG:4326', 'crs_transform': [8.983152841195215e-05, 0, 0, 0, -8.983152841195215e-05, 0]}], 'properties': {'system:footprint': {'type': 'Polygon', 'coordinates': [[[15.079765, -0.21595], [14.668465, -0.153465], [14.690094, -0.448032], [14.949989, -0.4676], [15.083199, -0.285987], [15.079765, -0.21595]]]}}}\n",
      "Inject B10\n",
      "cloudFree info: {'type': 'Image', 'bands': [{'id': 'B1', 'data_type': {'type': 'PixelType', 'precision': 'int', 'min': 0, 'max': 65535}, 'dimensions': [11133, 11133], 'origin': [200375, 22263], 'crs': 'EPSG:4326', 'crs_transform': [8.983152841195215e-05, 0, 0, 0, -8.983152841195215e-05, 0]}, {'id': 'B2', 'data_type': {'type': 'PixelType', 'precision': 'int', 'min': 0, 'max': 65535}, 'dimensions': [11133, 11133], 'origin': [200375, 22263], 'crs': 'EPSG:4326', 'crs_transform': [8.983152841195215e-05, 0, 0, 0, -8.983152841195215e-05, 0]}, {'id': 'B3', 'data_type': {'type': 'PixelType', 'precision': 'int', 'min': 0, 'max': 65535}, 'dimensions': [11133, 11133], 'origin': [200375, 22263], 'crs': 'EPSG:4326', 'crs_transform': [8.983152841195215e-05, 0, 0, 0, -8.983152841195215e-05, 0]}, {'id': 'B4', 'data_type': {'type': 'PixelType', 'precision': 'int', 'min': 0, 'max': 65535}, 'dimensions': [11133, 11133], 'origin': [200375, 22263], 'crs': 'EPSG:4326', 'crs_transform': [8.983152841195215e-05, 0, 0, 0, -8.983152841195215e-05, 0]}, {'id': 'B5', 'data_type': {'type': 'PixelType', 'precision': 'int', 'min': 0, 'max': 65535}, 'dimensions': [11133, 11133], 'origin': [200375, 22263], 'crs': 'EPSG:4326', 'crs_transform': [8.983152841195215e-05, 0, 0, 0, -8.983152841195215e-05, 0]}, {'id': 'B6', 'data_type': {'type': 'PixelType', 'precision': 'int', 'min': 0, 'max': 65535}, 'dimensions': [11133, 11133], 'origin': [200375, 22263], 'crs': 'EPSG:4326', 'crs_transform': [8.983152841195215e-05, 0, 0, 0, -8.983152841195215e-05, 0]}, {'id': 'B7', 'data_type': {'type': 'PixelType', 'precision': 'int', 'min': 0, 'max': 65535}, 'dimensions': [11133, 11133], 'origin': [200375, 22263], 'crs': 'EPSG:4326', 'crs_transform': [8.983152841195215e-05, 0, 0, 0, -8.983152841195215e-05, 0]}, {'id': 'B8', 'data_type': {'type': 'PixelType', 'precision': 'int', 'min': 0, 'max': 65535}, 'dimensions': [11133, 11133], 'origin': [200375, 22263], 'crs': 'EPSG:4326', 'crs_transform': [8.983152841195215e-05, 0, 0, 0, -8.983152841195215e-05, 0]}, {'id': 'B8A', 'data_type': {'type': 'PixelType', 'precision': 'int', 'min': 0, 'max': 65535}, 'dimensions': [11133, 11133], 'origin': [200375, 22263], 'crs': 'EPSG:4326', 'crs_transform': [8.983152841195215e-05, 0, 0, 0, -8.983152841195215e-05, 0]}, {'id': 'B9', 'data_type': {'type': 'PixelType', 'precision': 'int', 'min': 0, 'max': 65535}, 'dimensions': [11133, 11133], 'origin': [200375, 22263], 'crs': 'EPSG:4326', 'crs_transform': [8.983152841195215e-05, 0, 0, 0, -8.983152841195215e-05, 0]}, {'id': 'B11', 'data_type': {'type': 'PixelType', 'precision': 'int', 'min': 0, 'max': 65535}, 'dimensions': [11133, 11133], 'origin': [200375, 22263], 'crs': 'EPSG:4326', 'crs_transform': [8.983152841195215e-05, 0, 0, 0, -8.983152841195215e-05, 0]}, {'id': 'B12', 'data_type': {'type': 'PixelType', 'precision': 'int', 'min': 0, 'max': 65535}, 'dimensions': [11133, 11133], 'origin': [200375, 22263], 'crs': 'EPSG:4326', 'crs_transform': [8.983152841195215e-05, 0, 0, 0, -8.983152841195215e-05, 0]}, {'id': 'AOT', 'data_type': {'type': 'PixelType', 'precision': 'int', 'min': 0, 'max': 65535}, 'dimensions': [11133, 11133], 'origin': [200375, 22263], 'crs': 'EPSG:4326', 'crs_transform': [8.983152841195215e-05, 0, 0, 0, -8.983152841195215e-05, 0]}, {'id': 'WVP', 'data_type': {'type': 'PixelType', 'precision': 'int', 'min': 0, 'max': 65535}, 'dimensions': [11133, 11133], 'origin': [200375, 22263], 'crs': 'EPSG:4326', 'crs_transform': [8.983152841195215e-05, 0, 0, 0, -8.983152841195215e-05, 0]}, {'id': 'SCL', 'data_type': {'type': 'PixelType', 'precision': 'int', 'min': 0, 'max': 255}, 'dimensions': [11133, 11133], 'origin': [200375, 22263], 'crs': 'EPSG:4326', 'crs_transform': [8.983152841195215e-05, 0, 0, 0, -8.983152841195215e-05, 0]}, {'id': 'TCI_R', 'data_type': {'type': 'PixelType', 'precision': 'int', 'min': 0, 'max': 255}, 'dimensions': [11133, 11133], 'origin': [200375, 22263], 'crs': 'EPSG:4326', 'crs_transform': [8.983152841195215e-05, 0, 0, 0, -8.983152841195215e-05, 0]}, {'id': 'TCI_G', 'data_type': {'type': 'PixelType', 'precision': 'int', 'min': 0, 'max': 255}, 'dimensions': [11133, 11133], 'origin': [200375, 22263], 'crs': 'EPSG:4326', 'crs_transform': [8.983152841195215e-05, 0, 0, 0, -8.983152841195215e-05, 0]}, {'id': 'TCI_B', 'data_type': {'type': 'PixelType', 'precision': 'int', 'min': 0, 'max': 255}, 'dimensions': [11133, 11133], 'origin': [200375, 22263], 'crs': 'EPSG:4326', 'crs_transform': [8.983152841195215e-05, 0, 0, 0, -8.983152841195215e-05, 0]}, {'id': 'MSK_CLDPRB', 'data_type': {'type': 'PixelType', 'precision': 'int', 'min': 0, 'max': 255}, 'dimensions': [11133, 11133], 'origin': [200375, 22263], 'crs': 'EPSG:4326', 'crs_transform': [8.983152841195215e-05, 0, 0, 0, -8.983152841195215e-05, 0]}, {'id': 'MSK_SNWPRB', 'data_type': {'type': 'PixelType', 'precision': 'int', 'min': 0, 'max': 255}, 'dimensions': [11133, 11133], 'origin': [200375, 22263], 'crs': 'EPSG:4326', 'crs_transform': [8.983152841195215e-05, 0, 0, 0, -8.983152841195215e-05, 0]}, {'id': 'QA10', 'data_type': {'type': 'PixelType', 'precision': 'int', 'min': 0, 'max': 65535}, 'dimensions': [11133, 11133], 'origin': [200375, 22263], 'crs': 'EPSG:4326', 'crs_transform': [8.983152841195215e-05, 0, 0, 0, -8.983152841195215e-05, 0]}, {'id': 'QA20', 'data_type': {'type': 'PixelType', 'precision': 'int', 'min': 0, 'max': 4294967295}, 'dimensions': [11133, 11133], 'origin': [200375, 22263], 'crs': 'EPSG:4326', 'crs_transform': [8.983152841195215e-05, 0, 0, 0, -8.983152841195215e-05, 0]}, {'id': 'QA60', 'data_type': {'type': 'PixelType', 'precision': 'int', 'min': 0, 'max': 65535}, 'dimensions': [11133, 11133], 'origin': [200375, 22263], 'crs': 'EPSG:4326', 'crs_transform': [8.983152841195215e-05, 0, 0, 0, -8.983152841195215e-05, 0]}, {'id': 'B10', 'data_type': {'type': 'PixelType', 'precision': 'int', 'min': 0, 'max': 65535}, 'dimensions': [11133, 11133], 'origin': [200375, 22263], 'crs': 'EPSG:4326', 'crs_transform': [8.983152841195215e-05, 0, 0, 0, -8.983152841195215e-05, 0]}, {'id': 'cloudScore', 'data_type': {'type': 'PixelType', 'precision': 'double', 'min': 0.001, 'max': 1}, 'dimensions': [11133, 11133], 'origin': [200375, 22263], 'crs': 'EPSG:4326', 'crs_transform': [8.983152841195215e-05, 0, 0, 0, -8.983152841195215e-05, 0]}, {'id': 'shadowScore', 'data_type': {'type': 'PixelType', 'precision': 'double', 'min': 0, 'max': 1}, 'dimensions': [11133, 11133], 'origin': [200375, 22263], 'crs': 'EPSG:4326', 'crs_transform': [8.983152841195215e-05, 0, 0, 0, -8.983152841195215e-05, 0]}, {'id': 'cloudShadowScore', 'data_type': {'type': 'PixelType', 'precision': 'double', 'min': -1, 'max': -0.001}, 'dimensions': [11133, 11133], 'origin': [200375, 22263], 'crs': 'EPSG:4326', 'crs_transform': [8.983152841195215e-05, 0, 0, 0, -8.983152841195215e-05, 0]}], 'properties': {'system:footprint': {'type': 'Polygon', 'coordinates': [[[18.280563, -2.084882], [18.188553, -2.442688], [18.203316, -2.552447], [18.17173, -2.690318], [18.236275, -2.708837], [18.427505, -2.591889], [18.388367, -2.440287], [18.519516, -2.120564], [18.280563, -2.084882]]]}}}\n",
      "Inject B10\n",
      "cloudFree info: {'type': 'Image', 'bands': [{'id': 'B1', 'data_type': {'type': 'PixelType', 'precision': 'int', 'min': 0, 'max': 65535}, 'dimensions': [11132, 11133], 'origin': [211507, 22263], 'crs': 'EPSG:4326', 'crs_transform': [8.983152841195215e-05, 0, 0, 0, -8.983152841195215e-05, 0]}, {'id': 'B2', 'data_type': {'type': 'PixelType', 'precision': 'int', 'min': 0, 'max': 65535}, 'dimensions': [11132, 11133], 'origin': [211507, 22263], 'crs': 'EPSG:4326', 'crs_transform': [8.983152841195215e-05, 0, 0, 0, -8.983152841195215e-05, 0]}, {'id': 'B3', 'data_type': {'type': 'PixelType', 'precision': 'int', 'min': 0, 'max': 65535}, 'dimensions': [11132, 11133], 'origin': [211507, 22263], 'crs': 'EPSG:4326', 'crs_transform': [8.983152841195215e-05, 0, 0, 0, -8.983152841195215e-05, 0]}, {'id': 'B4', 'data_type': {'type': 'PixelType', 'precision': 'int', 'min': 0, 'max': 65535}, 'dimensions': [11132, 11133], 'origin': [211507, 22263], 'crs': 'EPSG:4326', 'crs_transform': [8.983152841195215e-05, 0, 0, 0, -8.983152841195215e-05, 0]}, {'id': 'B5', 'data_type': {'type': 'PixelType', 'precision': 'int', 'min': 0, 'max': 65535}, 'dimensions': [11132, 11133], 'origin': [211507, 22263], 'crs': 'EPSG:4326', 'crs_transform': [8.983152841195215e-05, 0, 0, 0, -8.983152841195215e-05, 0]}, {'id': 'B6', 'data_type': {'type': 'PixelType', 'precision': 'int', 'min': 0, 'max': 65535}, 'dimensions': [11132, 11133], 'origin': [211507, 22263], 'crs': 'EPSG:4326', 'crs_transform': [8.983152841195215e-05, 0, 0, 0, -8.983152841195215e-05, 0]}, {'id': 'B7', 'data_type': {'type': 'PixelType', 'precision': 'int', 'min': 0, 'max': 65535}, 'dimensions': [11132, 11133], 'origin': [211507, 22263], 'crs': 'EPSG:4326', 'crs_transform': [8.983152841195215e-05, 0, 0, 0, -8.983152841195215e-05, 0]}, {'id': 'B8', 'data_type': {'type': 'PixelType', 'precision': 'int', 'min': 0, 'max': 65535}, 'dimensions': [11132, 11133], 'origin': [211507, 22263], 'crs': 'EPSG:4326', 'crs_transform': [8.983152841195215e-05, 0, 0, 0, -8.983152841195215e-05, 0]}, {'id': 'B8A', 'data_type': {'type': 'PixelType', 'precision': 'int', 'min': 0, 'max': 65535}, 'dimensions': [11132, 11133], 'origin': [211507, 22263], 'crs': 'EPSG:4326', 'crs_transform': [8.983152841195215e-05, 0, 0, 0, -8.983152841195215e-05, 0]}, {'id': 'B9', 'data_type': {'type': 'PixelType', 'precision': 'int', 'min': 0, 'max': 65535}, 'dimensions': [11132, 11133], 'origin': [211507, 22263], 'crs': 'EPSG:4326', 'crs_transform': [8.983152841195215e-05, 0, 0, 0, -8.983152841195215e-05, 0]}, {'id': 'B11', 'data_type': {'type': 'PixelType', 'precision': 'int', 'min': 0, 'max': 65535}, 'dimensions': [11132, 11133], 'origin': [211507, 22263], 'crs': 'EPSG:4326', 'crs_transform': [8.983152841195215e-05, 0, 0, 0, -8.983152841195215e-05, 0]}, {'id': 'B12', 'data_type': {'type': 'PixelType', 'precision': 'int', 'min': 0, 'max': 65535}, 'dimensions': [11132, 11133], 'origin': [211507, 22263], 'crs': 'EPSG:4326', 'crs_transform': [8.983152841195215e-05, 0, 0, 0, -8.983152841195215e-05, 0]}, {'id': 'AOT', 'data_type': {'type': 'PixelType', 'precision': 'int', 'min': 0, 'max': 65535}, 'dimensions': [11132, 11133], 'origin': [211507, 22263], 'crs': 'EPSG:4326', 'crs_transform': [8.983152841195215e-05, 0, 0, 0, -8.983152841195215e-05, 0]}, {'id': 'WVP', 'data_type': {'type': 'PixelType', 'precision': 'int', 'min': 0, 'max': 65535}, 'dimensions': [11132, 11133], 'origin': [211507, 22263], 'crs': 'EPSG:4326', 'crs_transform': [8.983152841195215e-05, 0, 0, 0, -8.983152841195215e-05, 0]}, {'id': 'SCL', 'data_type': {'type': 'PixelType', 'precision': 'int', 'min': 0, 'max': 255}, 'dimensions': [11132, 11133], 'origin': [211507, 22263], 'crs': 'EPSG:4326', 'crs_transform': [8.983152841195215e-05, 0, 0, 0, -8.983152841195215e-05, 0]}, {'id': 'TCI_R', 'data_type': {'type': 'PixelType', 'precision': 'int', 'min': 0, 'max': 255}, 'dimensions': [11132, 11133], 'origin': [211507, 22263], 'crs': 'EPSG:4326', 'crs_transform': [8.983152841195215e-05, 0, 0, 0, -8.983152841195215e-05, 0]}, {'id': 'TCI_G', 'data_type': {'type': 'PixelType', 'precision': 'int', 'min': 0, 'max': 255}, 'dimensions': [11132, 11133], 'origin': [211507, 22263], 'crs': 'EPSG:4326', 'crs_transform': [8.983152841195215e-05, 0, 0, 0, -8.983152841195215e-05, 0]}, {'id': 'TCI_B', 'data_type': {'type': 'PixelType', 'precision': 'int', 'min': 0, 'max': 255}, 'dimensions': [11132, 11133], 'origin': [211507, 22263], 'crs': 'EPSG:4326', 'crs_transform': [8.983152841195215e-05, 0, 0, 0, -8.983152841195215e-05, 0]}, {'id': 'MSK_CLDPRB', 'data_type': {'type': 'PixelType', 'precision': 'int', 'min': 0, 'max': 255}, 'dimensions': [11132, 11133], 'origin': [211507, 22263], 'crs': 'EPSG:4326', 'crs_transform': [8.983152841195215e-05, 0, 0, 0, -8.983152841195215e-05, 0]}, {'id': 'MSK_SNWPRB', 'data_type': {'type': 'PixelType', 'precision': 'int', 'min': 0, 'max': 255}, 'dimensions': [11132, 11133], 'origin': [211507, 22263], 'crs': 'EPSG:4326', 'crs_transform': [8.983152841195215e-05, 0, 0, 0, -8.983152841195215e-05, 0]}, {'id': 'QA10', 'data_type': {'type': 'PixelType', 'precision': 'int', 'min': 0, 'max': 65535}, 'dimensions': [11132, 11133], 'origin': [211507, 22263], 'crs': 'EPSG:4326', 'crs_transform': [8.983152841195215e-05, 0, 0, 0, -8.983152841195215e-05, 0]}, {'id': 'QA20', 'data_type': {'type': 'PixelType', 'precision': 'int', 'min': 0, 'max': 4294967295}, 'dimensions': [11132, 11133], 'origin': [211507, 22263], 'crs': 'EPSG:4326', 'crs_transform': [8.983152841195215e-05, 0, 0, 0, -8.983152841195215e-05, 0]}, {'id': 'QA60', 'data_type': {'type': 'PixelType', 'precision': 'int', 'min': 0, 'max': 65535}, 'dimensions': [11132, 11133], 'origin': [211507, 22263], 'crs': 'EPSG:4326', 'crs_transform': [8.983152841195215e-05, 0, 0, 0, -8.983152841195215e-05, 0]}, {'id': 'B10', 'data_type': {'type': 'PixelType', 'precision': 'int', 'min': 0, 'max': 65535}, 'dimensions': [11132, 11133], 'origin': [211507, 22263], 'crs': 'EPSG:4326', 'crs_transform': [8.983152841195215e-05, 0, 0, 0, -8.983152841195215e-05, 0]}, {'id': 'cloudScore', 'data_type': {'type': 'PixelType', 'precision': 'double', 'min': 0.001, 'max': 1}, 'dimensions': [11132, 11133], 'origin': [211507, 22263], 'crs': 'EPSG:4326', 'crs_transform': [8.983152841195215e-05, 0, 0, 0, -8.983152841195215e-05, 0]}, {'id': 'shadowScore', 'data_type': {'type': 'PixelType', 'precision': 'double', 'min': 0, 'max': 1}, 'dimensions': [11132, 11133], 'origin': [211507, 22263], 'crs': 'EPSG:4326', 'crs_transform': [8.983152841195215e-05, 0, 0, 0, -8.983152841195215e-05, 0]}, {'id': 'cloudShadowScore', 'data_type': {'type': 'PixelType', 'precision': 'double', 'min': -1, 'max': -0.001}, 'dimensions': [11132, 11133], 'origin': [211507, 22263], 'crs': 'EPSG:4326', 'crs_transform': [8.983152841195215e-05, 0, 0, 0, -8.983152841195215e-05, 0]}], 'properties': {'system:footprint': {'type': 'Polygon', 'coordinates': [[[19.173546, -2.851234], [19.171572, -2.856377], [19.205303, -2.862378], [19.217148, -2.854748], [19.218607, -2.845233], [19.205818, -2.838632], [19.173546, -2.851234]]]}}}\n"
     ]
    },
    {
     "name": "stderr",
     "output_type": "stream",
     "text": [
      "C:\\Anaconda3\\envs\\cloud_removal\\lib\\site-packages\\gevent\\hub.py:158: UserWarning: libuv only supports millisecond timer resolution; all times less will be set to 1 ms\n",
      "  with loop.timer(seconds, ref=ref) as t:\n"
     ]
    }
   ],
   "source": [
    "exports = process_datasource(source, sensor, export_folder, fc)"
   ]
  },
  {
   "cell_type": "code",
   "execution_count": null,
   "metadata": {},
   "outputs": [
    {
     "name": "stdout",
     "output_type": "stream",
     "text": [
      "{'state': 'RUNNING', 'description': 'test_0_Nov_11_15:20:40_2020', 'creation_timestamp_ms': 1605136842168, 'update_timestamp_ms': 1605138764844, 'start_timestamp_ms': 1605136863200, 'task_type': 'EXPORT_IMAGE', 'attempt': 1, 'id': 'YNFRYUQOSVSMPP7RSSZ7OWEP', 'name': 'projects/earthengine-legacy/operations/YNFRYUQOSVSMPP7RSSZ7OWEP'}\r"
     ]
    }
   ],
   "source": [
    "# export = exports[0]\n",
    "\n",
    "while export.active():\n",
    "    print(export.status(), end=\"\\r\", flush=True)\n",
    "    \n",
    "    \n",
    "    \n",
    "# any(ele > 10 for ele in test_list)"
   ]
  },
  {
   "cell_type": "markdown",
   "metadata": {},
   "source": [
    "### Planning\n",
    "\n",
    "Flow of our pipeline--\n",
    "\n",
    "1. Process Datasource: Sort the feature list and go through each feature one at a time.\n",
    "\n",
    "2. Export Single Feature: put inputs in the right format for makeImageCollection\n",
    "\n",
    "3. Make Image Collection: Queries images, applies filters and the map functions\n",
    "\n",
    "4. Export Single Feature (again): Merges collection, then exports it\n",
    "\n",
    "To generalize:\n",
    "\n",
    "1. Split feature list\n",
    "\n",
    "2. For each feature, make the appropriate image collection\n",
    "\n",
    "3. Mosaic\n",
    "\n",
    "4. Export"
   ]
  },
  {
   "cell_type": "markdown",
   "metadata": {},
   "source": [
    "Proposal is to make a separate image collection for each Tile ID.\n",
    "\n",
    "1. Put a \"tile list\" in the config file, as well as a single polygon.\n",
    "\n",
    "2. Go through each tile in the tile list one at a time.\n",
    "\n",
    "3. Make an image collection containing only products with that tile.\n",
    "\n",
    "4. Mosaic that image collection.\n",
    "\n",
    "5. If any parts of the mosaic lie outside the polygon, clip it. (<-- this part needs testing to see precisely what to do)\n",
    "\n",
    "6. Export the mosaic tile. (Then repeat for each tile)"
   ]
  },
  {
   "cell_type": "code",
   "execution_count": null,
   "metadata": {},
   "outputs": [],
   "source": []
  }
 ],
 "metadata": {
  "kernelspec": {
   "display_name": "cloud-removal",
   "language": "python",
   "name": "cloud_removal"
  },
  "language_info": {
   "codemirror_mode": {
    "name": "ipython",
    "version": 3
   },
   "file_extension": ".py",
   "mimetype": "text/x-python",
   "name": "python",
   "nbconvert_exporter": "python",
   "pygments_lexer": "ipython3",
   "version": "3.8.5"
  }
 },
 "nbformat": 4,
 "nbformat_minor": 4
}
