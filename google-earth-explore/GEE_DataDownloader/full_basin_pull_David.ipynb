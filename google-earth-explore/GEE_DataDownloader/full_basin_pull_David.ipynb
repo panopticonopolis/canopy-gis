{
 "cells": [
  {
   "cell_type": "code",
   "execution_count": 1,
   "metadata": {},
   "outputs": [
    {
     "name": "stderr",
     "output_type": "stream",
     "text": [
      "C:\\Anaconda3\\envs\\cloud_removal\\lib\\site-packages\\gevent\\hub.py:158: UserWarning: libuv only supports millisecond timer resolution; all times less will be set to 1 ms\n",
      "  with loop.timer(seconds, ref=ref) as t:\n"
     ]
    }
   ],
   "source": [
    "from pandas.tseries.offsets import DateOffset\n",
    "import ee\n",
    "import yaml\n",
    "import time\n",
    "import os\n",
    "import json\n",
    "import pandas as pd\n",
    "from utils import exportImageToGDrive,exportImageToGCS\n",
    "from download_sen12 import *\n",
    "\n",
    "ee.Initialize()"
   ]
  },
  {
   "cell_type": "code",
   "execution_count": 2,
   "metadata": {},
   "outputs": [
    {
     "name": "stdout",
     "output_type": "stream",
     "text": [
      "project-canopy-temp-2\n"
     ]
    },
    {
     "name": "stderr",
     "output_type": "stream",
     "text": [
      "C:\\Users\\David\\canopy\\canopy-gis\\google-earth-explore\\GEE_DataDownloader\\download_sen12.py:406: YAMLLoadWarning: calling yaml.load() without Loader=... is deprecated, as the default Loader is unsafe. Please read https://msg.pyyaml.org/load for full details.\n",
      "  return yaml.load(stream)\n"
     ]
    }
   ],
   "source": [
    "config_dict = load_config('config.yml')\n",
    "source = config_dict['data_list'][0]\n",
    "sensor = config_dict['sensors'][0]\n",
    "# export_folder = config_dict['drive_folder']\n",
    "export_folder = config_dict['bucket']\n",
    "\n",
    "print(export_folder)"
   ]
  },
  {
   "cell_type": "code",
   "execution_count": 3,
   "metadata": {},
   "outputs": [
    {
     "data": {
      "text/plain": [
       "{'name': ['full_basin_export_v1'],\n",
       " 'start_date': '2019-01-01',\n",
       " 'end_date': '2020-12-31',\n",
       " 'geometry': 'point',\n",
       " 'size': 20000,\n",
       " 'resolution': 10,\n",
       " 'sort_by': 'name',\n",
       " 'features_src': 'ft:19Vexm10pJcAZ8tTVbl4j0HA8w2muyPPz6-cyvdxI',\n",
       " 'sensors': [0, 1, 2]}"
      ]
     },
     "execution_count": 3,
     "metadata": {},
     "output_type": "execute_result"
    }
   ],
   "source": [
    "source"
   ]
  },
  {
   "cell_type": "code",
   "execution_count": 4,
   "metadata": {},
   "outputs": [
    {
     "data": {
      "text/plain": [
       "Timestamp('2020-01-01 00:00:00')"
      ]
     },
     "execution_count": 4,
     "metadata": {},
     "output_type": "execute_result"
    }
   ],
   "source": [
    "start = pd.to_datetime('01-01-2020')\n",
    "\n",
    "start"
   ]
  },
  {
   "cell_type": "code",
   "execution_count": 5,
   "metadata": {},
   "outputs": [],
   "source": [
    "def import_aois(csv_loc, Full_Congo_Pull=False, start_date=None,\n",
    "                end_date=None, days_duration=90, poly_start=0, poly_limit=None):\n",
    "    features = []\n",
    "    polygons = []\n",
    "    day_offset = days_duration / 2\n",
    "    start_end_list = []\n",
    "    \n",
    "    if Full_Congo_Pull:\n",
    "        with open(csv_loc,\"r\",encoding='utf-8') as jsonfile:\n",
    "            data = json.load(jsonfile)\n",
    "            for geometry in data[\"features\"]:\n",
    "                polygon = geometry[\"geometry\"][\"coordinates\"][0][0]\n",
    "                poly_obj = ee.Geometry.Polygon(polygon)\n",
    "                feature = ee.Feature(poly_obj)\n",
    "                features.append(feature)\n",
    "                \n",
    "            original_date = pd.to_datetime('01-01-2020')\n",
    "            start = (original_date + DateOffset(days=-30))\n",
    "            end = (original_date + DateOffset(days=30))\n",
    "            start_date = str(start)[:10]\n",
    "            end_date = str(end)[:10]\n",
    "            date_dict = {\n",
    "                'start_date': start_date,\n",
    "                'end_date': end_date,\n",
    "                'original_date': original_date,\n",
    "                'day_offset': 30,\n",
    "                'area': 1\n",
    "            }\n",
    "            \n",
    "            start_end_list = [date_dict] * len(features)\n",
    "            \n",
    "            return ee.FeatureCollection(features), start_end_list\n",
    "            \n",
    "    else:\n",
    "        feature_id = poly_start\n",
    "        \n",
    "        if poly_limit:\n",
    "            df_labels = pd.read_csv(csv_loc, skiprows=range(1, poly_start+1), nrows=poly_limit)\n",
    "        else:\n",
    "            df_labels = pd.read_csv(csv_loc, skiprows=range(1, poly_start+1))\n",
    "\n",
    "        df_labels = df_labels[[\"center-lat\",\"center-long\",\"polygon\",\"Labels combined\",\"tile date\",\"area (km2)\"]]\n",
    "        df_labels[\"tile date\"] = pd.to_datetime(df_labels[\"tile date\"])\n",
    "        start = (df_labels[\"tile date\"] + DateOffset(days=-day_offset))\n",
    "        end = (df_labels[\"tile date\"] + DateOffset(days=day_offset))\n",
    "        for i in range(len(start)):\n",
    "            start_date = str(start[i])[:10]\n",
    "            end_date = str(end[i])[:10]\n",
    "            original_date = df_labels.loc[i, 'tile date']\n",
    "            area = df_labels.loc[i, 'area (km2)']\n",
    "            date_dict = {\n",
    "                'start_date': start_date,\n",
    "                'end_date': end_date,\n",
    "                'original_date': original_date,\n",
    "                'day_offset': day_offset,\n",
    "                'area': area\n",
    "            }\n",
    "            start_end_list.append(date_dict)\n",
    "\n",
    "        for polygon in df_labels[\"polygon\"]:\n",
    "            polygons.append(json.loads(polygon)[\"coordinates\"])\n",
    "            \n",
    "        for poly in polygons:\n",
    "            # create an roi. first item in Misha's label list\n",
    "            feature_id += 1 \n",
    "            # create geometry object, create feature object, append to features list for feature collection creation \n",
    "            polys = ee.Geometry.Polygon(poly)\n",
    "            feature = ee.Feature(polys,{\"name\":feature_id})\n",
    "            features.append(feature)\n",
    "            \n",
    "        return ee.FeatureCollection(features),start_end_list,df_labels\n",
    "\n",
    "\n",
    "# ### CHANGE BELOW PATH ###\n",
    "zhenya_label_path = \"/Volumes/Lacie/zhenyadata/Project_Canopy_Data/PC_Data/Sentinel_Data/Labelled/Tiles_v3/Polygon_List/polygons_101320.csv\"\n",
    "david__label_path = 'D:/canopy_data/csvs/polygons_101320.csv'\n",
    "zhenya_tilelist_path = \"/Volumes/Lacie/zhenyadata/Project_Canopy_Data/PC_Data/Geometry/tile_lists/shub_tile_list/tiles_polygons_full.csv\"\n",
    "david_grid_path = 'D:/canopy_data/Geometry/Congo_Basin_Shapefile_Grid_v1.geojson'"
   ]
  },
  {
   "cell_type": "code",
   "execution_count": 6,
   "metadata": {},
   "outputs": [],
   "source": [
    "fc,date_range_list = import_aois(david_grid_path, Full_Congo_Pull=True)"
   ]
  },
  {
   "cell_type": "code",
   "execution_count": 7,
   "metadata": {},
   "outputs": [
    {
     "data": {
      "text/plain": [
       "[{'start_date': '2019-12-02',\n",
       "  'end_date': '2020-01-31',\n",
       "  'original_date': Timestamp('2020-01-01 00:00:00'),\n",
       "  'day_offset': 30,\n",
       "  'area': 1},\n",
       " {'start_date': '2019-12-02',\n",
       "  'end_date': '2020-01-31',\n",
       "  'original_date': Timestamp('2020-01-01 00:00:00'),\n",
       "  'day_offset': 30,\n",
       "  'area': 1},\n",
       " {'start_date': '2019-12-02',\n",
       "  'end_date': '2020-01-31',\n",
       "  'original_date': Timestamp('2020-01-01 00:00:00'),\n",
       "  'day_offset': 30,\n",
       "  'area': 1},\n",
       " {'start_date': '2019-12-02',\n",
       "  'end_date': '2020-01-31',\n",
       "  'original_date': Timestamp('2020-01-01 00:00:00'),\n",
       "  'day_offset': 30,\n",
       "  'area': 1},\n",
       " {'start_date': '2019-12-02',\n",
       "  'end_date': '2020-01-31',\n",
       "  'original_date': Timestamp('2020-01-01 00:00:00'),\n",
       "  'day_offset': 30,\n",
       "  'area': 1}]"
      ]
     },
     "execution_count": 7,
     "metadata": {},
     "output_type": "execute_result"
    }
   ],
   "source": [
    "date_range_list[0:5]"
   ]
  },
  {
   "cell_type": "code",
   "execution_count": 12,
   "metadata": {},
   "outputs": [
    {
     "data": {
      "text/plain": [
       "<ee.featurecollection.FeatureCollection at 0x1bfff0a9df0>"
      ]
     },
     "execution_count": 12,
     "metadata": {},
     "output_type": "execute_result"
    }
   ],
   "source": [
    "fc"
   ]
  },
  {
   "cell_type": "code",
   "execution_count": 13,
   "metadata": {},
   "outputs": [
    {
     "data": {
      "text/plain": [
       "{'type': 'Feature',\n",
       " 'geometry': {'type': 'Polygon',\n",
       "  'coordinates': [[[7.774437227891959, 5.590436336],\n",
       "    [7.789316305, 5.590436336],\n",
       "    [7.789316305, 5.607344378168228],\n",
       "    [7.774437227891959, 5.590436336]]]},\n",
       " 'id': '0',\n",
       " 'properties': {}}"
      ]
     },
     "execution_count": 13,
     "metadata": {},
     "output_type": "execute_result"
    }
   ],
   "source": [
    "fc.first().getInfo()"
   ]
  },
  {
   "cell_type": "code",
   "execution_count": 8,
   "metadata": {},
   "outputs": [
    {
     "name": "stdout",
     "output_type": "stream",
     "text": [
      "5047 features have been loaded\n",
      "processing polygon 1 of 5047\n",
      "processing polygon 2 of 5047\n",
      "processing polygon 3 of 5047\n",
      "processing polygon 4 of 5047\n",
      "processing polygon 5 of 5047\n",
      "processing polygon 6 of 5047\n",
      "processing polygon 7 of 5047\n",
      "processing polygon 8 of 5047\n",
      "processing polygon 9 of 5047\n",
      "processing polygon 10 of 5047\n",
      "processing polygon 11 of 5047\n",
      "processing polygon 12 of 5047\n",
      "processing polygon 13 of 5047\n",
      "processing polygon 14 of 5047\n",
      "processing polygon 15 of 5047\n",
      "processing polygon 16 of 5047\n",
      "processing polygon 17 of 5047\n",
      "processing polygon 18 of 5047\n",
      "processing polygon 19 of 5047\n",
      "processing polygon 20 of 5047\n",
      "processing polygon 21 of 5047\n",
      "processing polygon 22 of 5047\n",
      "processing polygon 23 of 5047\n",
      "processing polygon 24 of 5047\n",
      "processing polygon 25 of 5047\n",
      "processing polygon 26 of 5047\n",
      "processing polygon 27 of 5047\n",
      "processing polygon 28 of 5047\n",
      "processing polygon 29 of 5047\n",
      "processing polygon 30 of 5047\n",
      "processing polygon 31 of 5047\n",
      "processing polygon 32 of 5047\n",
      "processing polygon 33 of 5047\n",
      "processing polygon 34 of 5047\n",
      "processing polygon 35 of 5047\n",
      "processing polygon 36 of 5047\n",
      "processing polygon 37 of 5047\n",
      "processing polygon 38 of 5047\n",
      "processing polygon 39 of 5047\n",
      "processing polygon 40 of 5047\n",
      "processing polygon 41 of 5047\n",
      "processing polygon 42 of 5047\n",
      "processing polygon 43 of 5047\n",
      "processing polygon 44 of 5047\n",
      "processing polygon 45 of 5047\n",
      "processing polygon 46 of 5047\n",
      "processing polygon 47 of 5047\n",
      "processing polygon 48 of 5047\n",
      "processing polygon 49 of 5047\n",
      "processing polygon 50 of 5047\n",
      "processing polygon 51 of 5047\n",
      "processing polygon 52 of 5047\n",
      "processing polygon 53 of 5047\n",
      "processing polygon 54 of 5047\n",
      "processing polygon 55 of 5047\n",
      "processing polygon 56 of 5047\n",
      "processing polygon 57 of 5047\n",
      "processing polygon 58 of 5047\n",
      "processing polygon 59 of 5047\n",
      "processing polygon 60 of 5047\n",
      "processing polygon 61 of 5047\n",
      "processing polygon 62 of 5047\n",
      "processing polygon 63 of 5047\n",
      "processing polygon 64 of 5047\n",
      "processing polygon 65 of 5047\n",
      "processing polygon 66 of 5047\n",
      "processing polygon 67 of 5047\n",
      "processing polygon 68 of 5047\n",
      "processing polygon 69 of 5047\n",
      "processing polygon 70 of 5047\n",
      "processing polygon 71 of 5047\n",
      "processing polygon 72 of 5047\n",
      "processing polygon 73 of 5047\n",
      "processing polygon 74 of 5047\n",
      "processing polygon 75 of 5047\n",
      "processing polygon 76 of 5047\n",
      "processing polygon 77 of 5047\n",
      "processing polygon 78 of 5047\n",
      "processing polygon 79 of 5047\n",
      "processing polygon 80 of 5047\n",
      "processing polygon 81 of 5047\n",
      "processing polygon 82 of 5047\n",
      "processing polygon 83 of 5047\n",
      "processing polygon 84 of 5047\n",
      "processing polygon 85 of 5047\n",
      "processing polygon 86 of 5047\n",
      "processing polygon 87 of 5047\n",
      "processing polygon 88 of 5047\n",
      "processing polygon 89 of 5047\n",
      "processing polygon 90 of 5047\n",
      "processing polygon 91 of 5047\n",
      "processing polygon 92 of 5047\n",
      "processing polygon 93 of 5047\n",
      "processing polygon 94 of 5047\n",
      "processing polygon 95 of 5047\n",
      "processing polygon 96 of 5047\n",
      "processing polygon 97 of 5047\n",
      "processing polygon 98 of 5047\n",
      "processing polygon 99 of 5047\n",
      "processing polygon 100 of 5047\n",
      "processing polygon 101 of 5047\n",
      "processing polygon 102 of 5047\n"
     ]
    },
    {
     "ename": "EEException",
     "evalue": "Computation timed out.",
     "output_type": "error",
     "traceback": [
      "\u001b[1;31m---------------------------------------------------------------------------\u001b[0m",
      "\u001b[1;31mHttpError\u001b[0m                                 Traceback (most recent call last)",
      "\u001b[1;32mC:\\Anaconda3\\envs\\cloud_removal\\lib\\site-packages\\ee\\data.py\u001b[0m in \u001b[0;36m_execute_cloud_call\u001b[1;34m(call, num_retries)\u001b[0m\n\u001b[0;32m    344\u001b[0m   \u001b[1;32mtry\u001b[0m\u001b[1;33m:\u001b[0m\u001b[1;33m\u001b[0m\u001b[1;33m\u001b[0m\u001b[0m\n\u001b[1;32m--> 345\u001b[1;33m     \u001b[1;32mreturn\u001b[0m \u001b[0mcall\u001b[0m\u001b[1;33m.\u001b[0m\u001b[0mexecute\u001b[0m\u001b[1;33m(\u001b[0m\u001b[0mnum_retries\u001b[0m\u001b[1;33m=\u001b[0m\u001b[0mnum_retries\u001b[0m\u001b[1;33m)\u001b[0m\u001b[1;33m\u001b[0m\u001b[1;33m\u001b[0m\u001b[0m\n\u001b[0m\u001b[0;32m    346\u001b[0m   \u001b[1;32mexcept\u001b[0m \u001b[0mgoogleapiclient\u001b[0m\u001b[1;33m.\u001b[0m\u001b[0merrors\u001b[0m\u001b[1;33m.\u001b[0m\u001b[0mHttpError\u001b[0m \u001b[1;32mas\u001b[0m \u001b[0me\u001b[0m\u001b[1;33m:\u001b[0m\u001b[1;33m\u001b[0m\u001b[1;33m\u001b[0m\u001b[0m\n",
      "\u001b[1;32mC:\\Anaconda3\\envs\\cloud_removal\\lib\\site-packages\\googleapiclient\\_helpers.py\u001b[0m in \u001b[0;36mpositional_wrapper\u001b[1;34m(*args, **kwargs)\u001b[0m\n\u001b[0;32m    133\u001b[0m                     \u001b[0mlogger\u001b[0m\u001b[1;33m.\u001b[0m\u001b[0mwarning\u001b[0m\u001b[1;33m(\u001b[0m\u001b[0mmessage\u001b[0m\u001b[1;33m)\u001b[0m\u001b[1;33m\u001b[0m\u001b[1;33m\u001b[0m\u001b[0m\n\u001b[1;32m--> 134\u001b[1;33m             \u001b[1;32mreturn\u001b[0m \u001b[0mwrapped\u001b[0m\u001b[1;33m(\u001b[0m\u001b[1;33m*\u001b[0m\u001b[0margs\u001b[0m\u001b[1;33m,\u001b[0m \u001b[1;33m**\u001b[0m\u001b[0mkwargs\u001b[0m\u001b[1;33m)\u001b[0m\u001b[1;33m\u001b[0m\u001b[1;33m\u001b[0m\u001b[0m\n\u001b[0m\u001b[0;32m    135\u001b[0m \u001b[1;33m\u001b[0m\u001b[0m\n",
      "\u001b[1;32mC:\\Anaconda3\\envs\\cloud_removal\\lib\\site-packages\\googleapiclient\\http.py\u001b[0m in \u001b[0;36mexecute\u001b[1;34m(self, http, num_retries)\u001b[0m\n\u001b[0;32m    914\u001b[0m         \u001b[1;32mif\u001b[0m \u001b[0mresp\u001b[0m\u001b[1;33m.\u001b[0m\u001b[0mstatus\u001b[0m \u001b[1;33m>=\u001b[0m \u001b[1;36m300\u001b[0m\u001b[1;33m:\u001b[0m\u001b[1;33m\u001b[0m\u001b[1;33m\u001b[0m\u001b[0m\n\u001b[1;32m--> 915\u001b[1;33m             \u001b[1;32mraise\u001b[0m \u001b[0mHttpError\u001b[0m\u001b[1;33m(\u001b[0m\u001b[0mresp\u001b[0m\u001b[1;33m,\u001b[0m \u001b[0mcontent\u001b[0m\u001b[1;33m,\u001b[0m \u001b[0muri\u001b[0m\u001b[1;33m=\u001b[0m\u001b[0mself\u001b[0m\u001b[1;33m.\u001b[0m\u001b[0muri\u001b[0m\u001b[1;33m)\u001b[0m\u001b[1;33m\u001b[0m\u001b[1;33m\u001b[0m\u001b[0m\n\u001b[0m\u001b[0;32m    916\u001b[0m         \u001b[1;32mreturn\u001b[0m \u001b[0mself\u001b[0m\u001b[1;33m.\u001b[0m\u001b[0mpostproc\u001b[0m\u001b[1;33m(\u001b[0m\u001b[0mresp\u001b[0m\u001b[1;33m,\u001b[0m \u001b[0mcontent\u001b[0m\u001b[1;33m)\u001b[0m\u001b[1;33m\u001b[0m\u001b[1;33m\u001b[0m\u001b[0m\n",
      "\u001b[1;31mHttpError\u001b[0m: <HttpError 400 when requesting https://earthengine.googleapis.com/v1alpha/projects/earthengine-legacy/value:compute?prettyPrint=false&alt=json returned \"Computation timed out.\">",
      "\nDuring handling of the above exception, another exception occurred:\n",
      "\u001b[1;31mEEException\u001b[0m                               Traceback (most recent call last)",
      "\u001b[1;32m<ipython-input-8-86f47d27fd3f>\u001b[0m in \u001b[0;36m<module>\u001b[1;34m\u001b[0m\n\u001b[1;32m----> 1\u001b[1;33m exports = process_datasource_custom_daterange(\n\u001b[0m\u001b[0;32m      2\u001b[0m     \u001b[0msource\u001b[0m\u001b[1;33m,\u001b[0m \u001b[0msensor\u001b[0m\u001b[1;33m,\u001b[0m \u001b[0mexport_folder\u001b[0m\u001b[1;33m,\u001b[0m \u001b[0mfc\u001b[0m\u001b[1;33m,\u001b[0m \u001b[0mdate_range_list\u001b[0m\u001b[1;33m\u001b[0m\u001b[1;33m\u001b[0m\u001b[0m\n\u001b[0;32m      3\u001b[0m )\n",
      "\u001b[1;32m~\\canopy\\canopy-gis\\google-earth-explore\\GEE_DataDownloader\\download_sen12.py\u001b[0m in \u001b[0;36mprocess_datasource_custom_daterange\u001b[1;34m(source, sensor, export_folder, polygons, date_range_list, pre_mosaic_sort, area_limit, limit)\u001b[0m\n\u001b[0;32m    245\u001b[0m                 \u001b[0mdate_range\u001b[0m \u001b[1;33m=\u001b[0m \u001b[0mdate_range_list\u001b[0m\u001b[1;33m[\u001b[0m\u001b[0mi\u001b[0m\u001b[1;33m]\u001b[0m\u001b[1;33m\u001b[0m\u001b[1;33m\u001b[0m\u001b[0m\n\u001b[0;32m    246\u001b[0m \u001b[1;33m\u001b[0m\u001b[0m\n\u001b[1;32m--> 247\u001b[1;33m \t\texport = export_single_feature(\n\u001b[0m\u001b[0;32m    248\u001b[0m                         \u001b[0mroi\u001b[0m\u001b[1;33m=\u001b[0m\u001b[0mroi\u001b[0m\u001b[1;33m,\u001b[0m\u001b[1;33m\u001b[0m\u001b[1;33m\u001b[0m\u001b[0m\n\u001b[0;32m    249\u001b[0m                         \u001b[0msensor\u001b[0m\u001b[1;33m=\u001b[0m\u001b[0msensor\u001b[0m\u001b[1;33m,\u001b[0m\u001b[1;33m\u001b[0m\u001b[1;33m\u001b[0m\u001b[0m\n",
      "\u001b[1;32m~\\canopy\\canopy-gis\\google-earth-explore\\GEE_DataDownloader\\download_sen12.py\u001b[0m in \u001b[0;36mexport_single_feature\u001b[1;34m(roi, sensor, date_range, export_params, sort_by, polygon_id, area_limit, skip_test, tile)\u001b[0m\n\u001b[0;32m    336\u001b[0m \t\t}\n\u001b[0;32m    337\u001b[0m \u001b[1;33m\u001b[0m\u001b[0m\n\u001b[1;32m--> 338\u001b[1;33m \t\treturn export_single_feature(\n\u001b[0m\u001b[0;32m    339\u001b[0m                                         \u001b[0mroi\u001b[0m\u001b[1;33m=\u001b[0m\u001b[0mroi\u001b[0m\u001b[1;33m,\u001b[0m\u001b[1;33m\u001b[0m\u001b[1;33m\u001b[0m\u001b[0m\n\u001b[0;32m    340\u001b[0m                                         \u001b[0msensor\u001b[0m\u001b[1;33m=\u001b[0m\u001b[0msensor\u001b[0m\u001b[1;33m,\u001b[0m\u001b[1;33m\u001b[0m\u001b[1;33m\u001b[0m\u001b[0m\n",
      "\u001b[1;32m~\\canopy\\canopy-gis\\google-earth-explore\\GEE_DataDownloader\\download_sen12.py\u001b[0m in \u001b[0;36mexport_single_feature\u001b[1;34m(roi, sensor, date_range, export_params, sort_by, polygon_id, area_limit, skip_test, tile)\u001b[0m\n\u001b[0;32m    287\u001b[0m \u001b[1;33m\u001b[0m\u001b[0m\n\u001b[0;32m    288\u001b[0m         \u001b[1;32mif\u001b[0m \u001b[0mskip_test\u001b[0m \u001b[1;32mis\u001b[0m \u001b[1;32mTrue\u001b[0m\u001b[1;33m:\u001b[0m\u001b[1;33m\u001b[0m\u001b[1;33m\u001b[0m\u001b[0m\n\u001b[1;32m--> 289\u001b[1;33m                 \u001b[0mcloudFree\u001b[0m \u001b[1;33m=\u001b[0m \u001b[0mmergeCollection\u001b[0m\u001b[1;33m(\u001b[0m\u001b[0mimgC\u001b[0m\u001b[1;33m,\u001b[0m \u001b[0mpolygon_id\u001b[0m\u001b[1;33m=\u001b[0m\u001b[0mpolygon_id\u001b[0m\u001b[1;33m,\u001b[0m \u001b[0mdate_range\u001b[0m\u001b[1;33m=\u001b[0m\u001b[0mdate_range\u001b[0m\u001b[1;33m,\u001b[0m \u001b[0mtest_coll\u001b[0m\u001b[1;33m=\u001b[0m\u001b[1;32mFalse\u001b[0m\u001b[1;33m)\u001b[0m\u001b[1;33m\u001b[0m\u001b[1;33m\u001b[0m\u001b[0m\n\u001b[0m\u001b[0;32m    290\u001b[0m         \u001b[1;32melif\u001b[0m \u001b[1;33m(\u001b[0m\u001b[0mdate_range\u001b[0m\u001b[1;33m[\u001b[0m\u001b[1;34m'day_offset'\u001b[0m\u001b[1;33m]\u001b[0m \u001b[1;33m==\u001b[0m \u001b[1;34m'two years'\u001b[0m\u001b[1;33m)\u001b[0m \u001b[1;32mor\u001b[0m \u001b[1;33m(\u001b[0m\u001b[0mdate_range\u001b[0m\u001b[1;33m[\u001b[0m\u001b[1;34m'area'\u001b[0m\u001b[1;33m]\u001b[0m \u001b[1;33m>=\u001b[0m \u001b[0marea_limit\u001b[0m\u001b[1;33m)\u001b[0m\u001b[1;33m:\u001b[0m\u001b[1;33m\u001b[0m\u001b[1;33m\u001b[0m\u001b[0m\n\u001b[0;32m    291\u001b[0m                 \u001b[1;31m# If we're pulling from two years, we'll end the dynamic date range loop and just have\u001b[0m\u001b[1;33m\u001b[0m\u001b[1;33m\u001b[0m\u001b[1;33m\u001b[0m\u001b[0m\n",
      "\u001b[1;32m~\\canopy\\canopy-gis\\google-earth-explore\\GEE_DataDownloader\\utils\\helpers.py\u001b[0m in \u001b[0;36mmergeCollection\u001b[1;34m(imgC, keepThresh, filterBy, secondary_sort, filterType, mosaicBy, polygon_id, date_range, test_coll)\u001b[0m\n\u001b[0;32m    124\u001b[0m             \u001b[1;32mreturn\u001b[0m \u001b[1;32mNone\u001b[0m\u001b[1;33m\u001b[0m\u001b[1;33m\u001b[0m\u001b[0m\n\u001b[0;32m    125\u001b[0m \u001b[1;33m\u001b[0m\u001b[0m\n\u001b[1;32m--> 126\u001b[1;33m     \u001b[0mbest_sorted\u001b[0m \u001b[1;33m=\u001b[0m \u001b[0mimage_collection_secondary_sort\u001b[0m\u001b[1;33m(\u001b[0m\u001b[0mbest\u001b[0m\u001b[1;33m,\u001b[0m\u001b[0mprimary_sort\u001b[0m\u001b[1;33m=\u001b[0m\u001b[0mfilterBy\u001b[0m\u001b[1;33m,\u001b[0m\u001b[0msecondary_sort\u001b[0m\u001b[1;33m=\u001b[0m\u001b[0msecondary_sort\u001b[0m\u001b[1;33m)\u001b[0m\u001b[1;33m\u001b[0m\u001b[1;33m\u001b[0m\u001b[0m\n\u001b[0m\u001b[0;32m    127\u001b[0m \u001b[1;33m\u001b[0m\u001b[0m\n\u001b[0;32m    128\u001b[0m     \u001b[1;31m# logging.info(f'Best size: {best.size().getInfo()}')\u001b[0m\u001b[1;33m\u001b[0m\u001b[1;33m\u001b[0m\u001b[1;33m\u001b[0m\u001b[0m\n",
      "\u001b[1;32m~\\canopy\\canopy-gis\\google-earth-explore\\GEE_DataDownloader\\utils\\dynamic_date_range.py\u001b[0m in \u001b[0;36mimage_collection_secondary_sort\u001b[1;34m(col, primary_sort, secondary_sort)\u001b[0m\n\u001b[0;32m     67\u001b[0m     \u001b[1;31m#print('secondary sort -- getting infos')\u001b[0m\u001b[1;33m\u001b[0m\u001b[1;33m\u001b[0m\u001b[1;33m\u001b[0m\u001b[0m\n\u001b[0;32m     68\u001b[0m     \u001b[1;32mfor\u001b[0m \u001b[0mkey\u001b[0m \u001b[1;32min\u001b[0m \u001b[0msort_dic\u001b[0m\u001b[1;33m:\u001b[0m\u001b[1;33m\u001b[0m\u001b[1;33m\u001b[0m\u001b[0m\n\u001b[1;32m---> 69\u001b[1;33m         \u001b[0mnew_sort_dic\u001b[0m\u001b[1;33m[\u001b[0m\u001b[0mkey\u001b[0m\u001b[1;33m]\u001b[0m \u001b[1;33m=\u001b[0m \u001b[0msort_dic\u001b[0m\u001b[1;33m[\u001b[0m\u001b[0mkey\u001b[0m\u001b[1;33m]\u001b[0m\u001b[1;33m.\u001b[0m\u001b[0mgetInfo\u001b[0m\u001b[1;33m(\u001b[0m\u001b[1;33m)\u001b[0m\u001b[1;33m\u001b[0m\u001b[1;33m\u001b[0m\u001b[0m\n\u001b[0m\u001b[0;32m     70\u001b[0m         \u001b[1;31m#print(f'got info for {key}')\u001b[0m\u001b[1;33m\u001b[0m\u001b[1;33m\u001b[0m\u001b[1;33m\u001b[0m\u001b[0m\n\u001b[0;32m     71\u001b[0m \u001b[1;33m\u001b[0m\u001b[0m\n",
      "\u001b[1;32mC:\\Anaconda3\\envs\\cloud_removal\\lib\\site-packages\\ee\\computedobject.py\u001b[0m in \u001b[0;36mgetInfo\u001b[1;34m(self)\u001b[0m\n\u001b[0;32m     93\u001b[0m       \u001b[0mThe\u001b[0m \u001b[0mobject\u001b[0m \u001b[0mcan\u001b[0m \u001b[0mevaluate\u001b[0m \u001b[0mto\u001b[0m \u001b[0manything\u001b[0m\u001b[1;33m.\u001b[0m\u001b[1;33m\u001b[0m\u001b[1;33m\u001b[0m\u001b[0m\n\u001b[0;32m     94\u001b[0m     \"\"\"\n\u001b[1;32m---> 95\u001b[1;33m     \u001b[1;32mreturn\u001b[0m \u001b[0mdata\u001b[0m\u001b[1;33m.\u001b[0m\u001b[0mcomputeValue\u001b[0m\u001b[1;33m(\u001b[0m\u001b[0mself\u001b[0m\u001b[1;33m)\u001b[0m\u001b[1;33m\u001b[0m\u001b[1;33m\u001b[0m\u001b[0m\n\u001b[0m\u001b[0;32m     96\u001b[0m \u001b[1;33m\u001b[0m\u001b[0m\n\u001b[0;32m     97\u001b[0m   \u001b[1;32mdef\u001b[0m \u001b[0mencode\u001b[0m\u001b[1;33m(\u001b[0m\u001b[0mself\u001b[0m\u001b[1;33m,\u001b[0m \u001b[0mencoder\u001b[0m\u001b[1;33m)\u001b[0m\u001b[1;33m:\u001b[0m\u001b[1;33m\u001b[0m\u001b[1;33m\u001b[0m\u001b[0m\n",
      "\u001b[1;32mC:\\Anaconda3\\envs\\cloud_removal\\lib\\site-packages\\ee\\data.py\u001b[0m in \u001b[0;36mcomputeValue\u001b[1;34m(obj)\u001b[0m\n\u001b[0;32m    704\u001b[0m   \"\"\"\n\u001b[0;32m    705\u001b[0m   \u001b[1;32mif\u001b[0m \u001b[0m_use_cloud_api\u001b[0m\u001b[1;33m:\u001b[0m\u001b[1;33m\u001b[0m\u001b[1;33m\u001b[0m\u001b[0m\n\u001b[1;32m--> 706\u001b[1;33m     return _execute_cloud_call(\n\u001b[0m\u001b[0;32m    707\u001b[0m         _get_cloud_api_resource().projects().value().compute(\n\u001b[0;32m    708\u001b[0m             \u001b[0mbody\u001b[0m\u001b[1;33m=\u001b[0m\u001b[1;33m{\u001b[0m\u001b[1;34m'expression'\u001b[0m\u001b[1;33m:\u001b[0m \u001b[0mserializer\u001b[0m\u001b[1;33m.\u001b[0m\u001b[0mencode\u001b[0m\u001b[1;33m(\u001b[0m\u001b[0mobj\u001b[0m\u001b[1;33m,\u001b[0m \u001b[0mfor_cloud_api\u001b[0m\u001b[1;33m=\u001b[0m\u001b[1;32mTrue\u001b[0m\u001b[1;33m)\u001b[0m\u001b[1;33m}\u001b[0m\u001b[1;33m,\u001b[0m\u001b[1;33m\u001b[0m\u001b[1;33m\u001b[0m\u001b[0m\n",
      "\u001b[1;32mC:\\Anaconda3\\envs\\cloud_removal\\lib\\site-packages\\ee\\data.py\u001b[0m in \u001b[0;36m_execute_cloud_call\u001b[1;34m(call, num_retries)\u001b[0m\n\u001b[0;32m    345\u001b[0m     \u001b[1;32mreturn\u001b[0m \u001b[0mcall\u001b[0m\u001b[1;33m.\u001b[0m\u001b[0mexecute\u001b[0m\u001b[1;33m(\u001b[0m\u001b[0mnum_retries\u001b[0m\u001b[1;33m=\u001b[0m\u001b[0mnum_retries\u001b[0m\u001b[1;33m)\u001b[0m\u001b[1;33m\u001b[0m\u001b[1;33m\u001b[0m\u001b[0m\n\u001b[0;32m    346\u001b[0m   \u001b[1;32mexcept\u001b[0m \u001b[0mgoogleapiclient\u001b[0m\u001b[1;33m.\u001b[0m\u001b[0merrors\u001b[0m\u001b[1;33m.\u001b[0m\u001b[0mHttpError\u001b[0m \u001b[1;32mas\u001b[0m \u001b[0me\u001b[0m\u001b[1;33m:\u001b[0m\u001b[1;33m\u001b[0m\u001b[1;33m\u001b[0m\u001b[0m\n\u001b[1;32m--> 347\u001b[1;33m     \u001b[1;32mraise\u001b[0m \u001b[0m_translate_cloud_exception\u001b[0m\u001b[1;33m(\u001b[0m\u001b[0me\u001b[0m\u001b[1;33m)\u001b[0m\u001b[1;33m\u001b[0m\u001b[1;33m\u001b[0m\u001b[0m\n\u001b[0m\u001b[0;32m    348\u001b[0m \u001b[1;33m\u001b[0m\u001b[0m\n\u001b[0;32m    349\u001b[0m \u001b[1;33m\u001b[0m\u001b[0m\n",
      "\u001b[1;31mEEException\u001b[0m: Computation timed out."
     ]
    },
    {
     "name": "stderr",
     "output_type": "stream",
     "text": [
      "C:\\Anaconda3\\envs\\cloud_removal\\lib\\site-packages\\gevent\\hub.py:158: UserWarning: libuv only supports millisecond timer resolution; all times less will be set to 1 ms\n",
      "  with loop.timer(seconds, ref=ref) as t:\n"
     ]
    }
   ],
   "source": [
    "exports = process_datasource_custom_daterange(\n",
    "    source, sensor, export_folder, fc, date_range_list\n",
    ")"
   ]
  },
  {
   "cell_type": "code",
   "execution_count": 8,
   "metadata": {},
   "outputs": [
    {
     "name": "stdout",
     "output_type": "stream",
     "text": [
      "5047 features have been loaded\n",
      "processing polygon 1 of 5047\n"
     ]
    },
    {
     "ename": "EEException",
     "evalue": "Collection.reduceColumns: Error in map(ID=20191206T094259_20191206T095558_T32NLM):\nReduceRegion.AggregationContainer: Valid tileScales are 1 to 16.",
     "output_type": "error",
     "traceback": [
      "\u001b[1;31m---------------------------------------------------------------------------\u001b[0m",
      "\u001b[1;31mHttpError\u001b[0m                                 Traceback (most recent call last)",
      "\u001b[1;32mC:\\Anaconda3\\envs\\cloud_removal\\lib\\site-packages\\ee\\data.py\u001b[0m in \u001b[0;36m_execute_cloud_call\u001b[1;34m(call, num_retries)\u001b[0m\n\u001b[0;32m    344\u001b[0m   \u001b[1;32mtry\u001b[0m\u001b[1;33m:\u001b[0m\u001b[1;33m\u001b[0m\u001b[1;33m\u001b[0m\u001b[0m\n\u001b[1;32m--> 345\u001b[1;33m     \u001b[1;32mreturn\u001b[0m \u001b[0mcall\u001b[0m\u001b[1;33m.\u001b[0m\u001b[0mexecute\u001b[0m\u001b[1;33m(\u001b[0m\u001b[0mnum_retries\u001b[0m\u001b[1;33m=\u001b[0m\u001b[0mnum_retries\u001b[0m\u001b[1;33m)\u001b[0m\u001b[1;33m\u001b[0m\u001b[1;33m\u001b[0m\u001b[0m\n\u001b[0m\u001b[0;32m    346\u001b[0m   \u001b[1;32mexcept\u001b[0m \u001b[0mgoogleapiclient\u001b[0m\u001b[1;33m.\u001b[0m\u001b[0merrors\u001b[0m\u001b[1;33m.\u001b[0m\u001b[0mHttpError\u001b[0m \u001b[1;32mas\u001b[0m \u001b[0me\u001b[0m\u001b[1;33m:\u001b[0m\u001b[1;33m\u001b[0m\u001b[1;33m\u001b[0m\u001b[0m\n",
      "\u001b[1;32mC:\\Anaconda3\\envs\\cloud_removal\\lib\\site-packages\\googleapiclient\\_helpers.py\u001b[0m in \u001b[0;36mpositional_wrapper\u001b[1;34m(*args, **kwargs)\u001b[0m\n\u001b[0;32m    133\u001b[0m                     \u001b[0mlogger\u001b[0m\u001b[1;33m.\u001b[0m\u001b[0mwarning\u001b[0m\u001b[1;33m(\u001b[0m\u001b[0mmessage\u001b[0m\u001b[1;33m)\u001b[0m\u001b[1;33m\u001b[0m\u001b[1;33m\u001b[0m\u001b[0m\n\u001b[1;32m--> 134\u001b[1;33m             \u001b[1;32mreturn\u001b[0m \u001b[0mwrapped\u001b[0m\u001b[1;33m(\u001b[0m\u001b[1;33m*\u001b[0m\u001b[0margs\u001b[0m\u001b[1;33m,\u001b[0m \u001b[1;33m**\u001b[0m\u001b[0mkwargs\u001b[0m\u001b[1;33m)\u001b[0m\u001b[1;33m\u001b[0m\u001b[1;33m\u001b[0m\u001b[0m\n\u001b[0m\u001b[0;32m    135\u001b[0m \u001b[1;33m\u001b[0m\u001b[0m\n",
      "\u001b[1;32mC:\\Anaconda3\\envs\\cloud_removal\\lib\\site-packages\\googleapiclient\\http.py\u001b[0m in \u001b[0;36mexecute\u001b[1;34m(self, http, num_retries)\u001b[0m\n\u001b[0;32m    914\u001b[0m         \u001b[1;32mif\u001b[0m \u001b[0mresp\u001b[0m\u001b[1;33m.\u001b[0m\u001b[0mstatus\u001b[0m \u001b[1;33m>=\u001b[0m \u001b[1;36m300\u001b[0m\u001b[1;33m:\u001b[0m\u001b[1;33m\u001b[0m\u001b[1;33m\u001b[0m\u001b[0m\n\u001b[1;32m--> 915\u001b[1;33m             \u001b[1;32mraise\u001b[0m \u001b[0mHttpError\u001b[0m\u001b[1;33m(\u001b[0m\u001b[0mresp\u001b[0m\u001b[1;33m,\u001b[0m \u001b[0mcontent\u001b[0m\u001b[1;33m,\u001b[0m \u001b[0muri\u001b[0m\u001b[1;33m=\u001b[0m\u001b[0mself\u001b[0m\u001b[1;33m.\u001b[0m\u001b[0muri\u001b[0m\u001b[1;33m)\u001b[0m\u001b[1;33m\u001b[0m\u001b[1;33m\u001b[0m\u001b[0m\n\u001b[0m\u001b[0;32m    916\u001b[0m         \u001b[1;32mreturn\u001b[0m \u001b[0mself\u001b[0m\u001b[1;33m.\u001b[0m\u001b[0mpostproc\u001b[0m\u001b[1;33m(\u001b[0m\u001b[0mresp\u001b[0m\u001b[1;33m,\u001b[0m \u001b[0mcontent\u001b[0m\u001b[1;33m)\u001b[0m\u001b[1;33m\u001b[0m\u001b[1;33m\u001b[0m\u001b[0m\n",
      "\u001b[1;31mHttpError\u001b[0m: <HttpError 400 when requesting https://earthengine.googleapis.com/v1alpha/projects/earthengine-legacy/value:compute?prettyPrint=false&alt=json returned \"Collection.reduceColumns: Error in map(ID=20191206T094259_20191206T095558_T32NLM):\nReduceRegion.AggregationContainer: Valid tileScales are 1 to 16.\">",
      "\nDuring handling of the above exception, another exception occurred:\n",
      "\u001b[1;31mEEException\u001b[0m                               Traceback (most recent call last)",
      "\u001b[1;32m<ipython-input-8-b974cb7f7f9a>\u001b[0m in \u001b[0;36m<module>\u001b[1;34m\u001b[0m\n\u001b[0;32m      1\u001b[0m \u001b[1;31m## trying tile scale 32 ##\u001b[0m\u001b[1;33m\u001b[0m\u001b[1;33m\u001b[0m\u001b[1;33m\u001b[0m\u001b[0m\n\u001b[0;32m      2\u001b[0m \u001b[1;33m\u001b[0m\u001b[0m\n\u001b[1;32m----> 3\u001b[1;33m exports = process_datasource_custom_daterange(\n\u001b[0m\u001b[0;32m      4\u001b[0m     \u001b[0msource\u001b[0m\u001b[1;33m,\u001b[0m \u001b[0msensor\u001b[0m\u001b[1;33m,\u001b[0m \u001b[0mexport_folder\u001b[0m\u001b[1;33m,\u001b[0m \u001b[0mfc\u001b[0m\u001b[1;33m,\u001b[0m \u001b[0mdate_range_list\u001b[0m\u001b[1;33m\u001b[0m\u001b[1;33m\u001b[0m\u001b[0m\n\u001b[0;32m      5\u001b[0m )\n",
      "\u001b[1;32m~\\canopy\\canopy-gis\\google-earth-explore\\GEE_DataDownloader\\download_sen12.py\u001b[0m in \u001b[0;36mprocess_datasource_custom_daterange\u001b[1;34m(source, sensor, export_folder, polygons, date_range_list, pre_mosaic_sort, area_limit, limit)\u001b[0m\n\u001b[0;32m    245\u001b[0m                 \u001b[0mdate_range\u001b[0m \u001b[1;33m=\u001b[0m \u001b[0mdate_range_list\u001b[0m\u001b[1;33m[\u001b[0m\u001b[0mi\u001b[0m\u001b[1;33m]\u001b[0m\u001b[1;33m\u001b[0m\u001b[1;33m\u001b[0m\u001b[0m\n\u001b[0;32m    246\u001b[0m \u001b[1;33m\u001b[0m\u001b[0m\n\u001b[1;32m--> 247\u001b[1;33m \t\texport = export_single_feature(\n\u001b[0m\u001b[0;32m    248\u001b[0m                         \u001b[0mroi\u001b[0m\u001b[1;33m=\u001b[0m\u001b[0mroi\u001b[0m\u001b[1;33m,\u001b[0m\u001b[1;33m\u001b[0m\u001b[1;33m\u001b[0m\u001b[0m\n\u001b[0;32m    249\u001b[0m                         \u001b[0msensor\u001b[0m\u001b[1;33m=\u001b[0m\u001b[0msensor\u001b[0m\u001b[1;33m,\u001b[0m\u001b[1;33m\u001b[0m\u001b[1;33m\u001b[0m\u001b[0m\n",
      "\u001b[1;32m~\\canopy\\canopy-gis\\google-earth-explore\\GEE_DataDownloader\\download_sen12.py\u001b[0m in \u001b[0;36mexport_single_feature\u001b[1;34m(roi, sensor, date_range, export_params, sort_by, polygon_id, area_limit, skip_test, tile)\u001b[0m\n\u001b[0;32m    293\u001b[0m                 \u001b[0mcloudFree\u001b[0m \u001b[1;33m=\u001b[0m \u001b[0mmergeCollection\u001b[0m\u001b[1;33m(\u001b[0m\u001b[0mimgC\u001b[0m\u001b[1;33m,\u001b[0m \u001b[0mpolygon_id\u001b[0m\u001b[1;33m=\u001b[0m\u001b[0mpolygon_id\u001b[0m\u001b[1;33m,\u001b[0m \u001b[0mdate_range\u001b[0m\u001b[1;33m=\u001b[0m\u001b[0mdate_range\u001b[0m\u001b[1;33m,\u001b[0m \u001b[0mtest_coll\u001b[0m\u001b[1;33m=\u001b[0m\u001b[1;32mFalse\u001b[0m\u001b[1;33m)\u001b[0m\u001b[1;33m\u001b[0m\u001b[1;33m\u001b[0m\u001b[0m\n\u001b[0;32m    294\u001b[0m         \u001b[1;32melse\u001b[0m\u001b[1;33m:\u001b[0m\u001b[1;33m\u001b[0m\u001b[1;33m\u001b[0m\u001b[0m\n\u001b[1;32m--> 295\u001b[1;33m                 \u001b[0mcloudFree\u001b[0m \u001b[1;33m=\u001b[0m \u001b[0mmergeCollection\u001b[0m\u001b[1;33m(\u001b[0m\u001b[0mimgC\u001b[0m\u001b[1;33m,\u001b[0m \u001b[0mpolygon_id\u001b[0m\u001b[1;33m=\u001b[0m\u001b[0mpolygon_id\u001b[0m\u001b[1;33m,\u001b[0m \u001b[0mdate_range\u001b[0m\u001b[1;33m=\u001b[0m\u001b[0mdate_range\u001b[0m\u001b[1;33m,\u001b[0m \u001b[0mtest_coll\u001b[0m\u001b[1;33m=\u001b[0m\u001b[1;32mTrue\u001b[0m\u001b[1;33m)\u001b[0m\u001b[1;33m\u001b[0m\u001b[1;33m\u001b[0m\u001b[0m\n\u001b[0m\u001b[0;32m    296\u001b[0m                 \u001b[1;31m# col1,col2 = mergeCollection(imgC, polygon_id=polygon_id, date_range=date_range, test_coll=True)\u001b[0m\u001b[1;33m\u001b[0m\u001b[1;33m\u001b[0m\u001b[1;33m\u001b[0m\u001b[0m\n\u001b[0;32m    297\u001b[0m                 \u001b[1;31m# return col1,col2\u001b[0m\u001b[1;33m\u001b[0m\u001b[1;33m\u001b[0m\u001b[1;33m\u001b[0m\u001b[0m\n",
      "\u001b[1;32m~\\canopy\\canopy-gis\\google-earth-explore\\GEE_DataDownloader\\utils\\helpers.py\u001b[0m in \u001b[0;36mmergeCollection\u001b[1;34m(imgC, keepThresh, filterBy, secondary_sort, filterType, mosaicBy, polygon_id, date_range, test_coll)\u001b[0m\n\u001b[0;32m    119\u001b[0m \u001b[1;33m\u001b[0m\u001b[0m\n\u001b[0;32m    120\u001b[0m     \u001b[1;32mif\u001b[0m \u001b[0mtest_coll\u001b[0m\u001b[1;33m:\u001b[0m\u001b[1;33m\u001b[0m\u001b[1;33m\u001b[0m\u001b[0m\n\u001b[1;32m--> 121\u001b[1;33m         \u001b[0mcoll_is_good\u001b[0m \u001b[1;33m=\u001b[0m \u001b[0mcollection_greater_than\u001b[0m\u001b[1;33m(\u001b[0m\u001b[0mbest\u001b[0m\u001b[1;33m,\u001b[0m \u001b[1;36m5\u001b[0m\u001b[1;33m)\u001b[0m\u001b[1;33m\u001b[0m\u001b[1;33m\u001b[0m\u001b[0m\n\u001b[0m\u001b[0;32m    122\u001b[0m \u001b[1;33m\u001b[0m\u001b[0m\n\u001b[0;32m    123\u001b[0m         \u001b[1;32mif\u001b[0m \u001b[1;32mnot\u001b[0m \u001b[0mcoll_is_good\u001b[0m\u001b[1;33m:\u001b[0m\u001b[1;33m\u001b[0m\u001b[1;33m\u001b[0m\u001b[0m\n",
      "\u001b[1;32m~\\canopy\\canopy-gis\\google-earth-explore\\GEE_DataDownloader\\utils\\dynamic_date_range.py\u001b[0m in \u001b[0;36mcollection_greater_than\u001b[1;34m(coll, threshold, print_mod)\u001b[0m\n\u001b[0;32m     21\u001b[0m \u001b[1;33m\u001b[0m\u001b[0m\n\u001b[0;32m     22\u001b[0m \u001b[1;32mdef\u001b[0m \u001b[0mcollection_greater_than\u001b[0m\u001b[1;33m(\u001b[0m\u001b[0mcoll\u001b[0m\u001b[1;33m,\u001b[0m \u001b[0mthreshold\u001b[0m\u001b[1;33m,\u001b[0m \u001b[0mprint_mod\u001b[0m\u001b[1;33m=\u001b[0m\u001b[1;32mNone\u001b[0m\u001b[1;33m)\u001b[0m\u001b[1;33m:\u001b[0m\u001b[1;33m\u001b[0m\u001b[1;33m\u001b[0m\u001b[0m\n\u001b[1;32m---> 23\u001b[1;33m     \u001b[1;32mreturn\u001b[0m \u001b[0mcoll_filter_conditional\u001b[0m\u001b[1;33m(\u001b[0m\u001b[0mcoll\u001b[0m\u001b[1;33m,\u001b[0m \u001b[0mfilter_by\u001b[0m\u001b[1;33m=\u001b[0m\u001b[1;32mNone\u001b[0m\u001b[1;33m,\u001b[0m \u001b[0mcond_thresh\u001b[0m\u001b[1;33m=\u001b[0m\u001b[0mthreshold\u001b[0m\u001b[1;33m,\u001b[0m \u001b[0mprint_mod\u001b[0m\u001b[1;33m=\u001b[0m\u001b[0mprint_mod\u001b[0m\u001b[1;33m)\u001b[0m\u001b[1;33m\u001b[0m\u001b[1;33m\u001b[0m\u001b[0m\n\u001b[0m\u001b[0;32m     24\u001b[0m \u001b[1;33m\u001b[0m\u001b[0m\n\u001b[0;32m     25\u001b[0m \u001b[1;33m\u001b[0m\u001b[0m\n",
      "\u001b[1;32m~\\canopy\\canopy-gis\\google-earth-explore\\GEE_DataDownloader\\utils\\dynamic_date_range.py\u001b[0m in \u001b[0;36mcoll_filter_conditional\u001b[1;34m(coll, filter_by, filter_type, filter_thresh, cond_type, cond_thresh, print_size, print_mod)\u001b[0m\n\u001b[0;32m     17\u001b[0m     \u001b[0mflag\u001b[0m \u001b[1;33m=\u001b[0m \u001b[0mgetattr\u001b[0m\u001b[1;33m(\u001b[0m\u001b[0msize\u001b[0m\u001b[1;33m,\u001b[0m \u001b[0mcond_type\u001b[0m\u001b[1;33m)\u001b[0m\u001b[1;33m(\u001b[0m\u001b[0mcond_thresh\u001b[0m\u001b[1;33m)\u001b[0m\u001b[1;33m\u001b[0m\u001b[1;33m\u001b[0m\u001b[0m\n\u001b[0;32m     18\u001b[0m \u001b[1;33m\u001b[0m\u001b[0m\n\u001b[1;32m---> 19\u001b[1;33m     \u001b[1;32mreturn\u001b[0m \u001b[0mee\u001b[0m\u001b[1;33m.\u001b[0m\u001b[0mAlgorithms\u001b[0m\u001b[1;33m.\u001b[0m\u001b[0mIf\u001b[0m\u001b[1;33m(\u001b[0m\u001b[0mflag\u001b[0m\u001b[1;33m,\u001b[0m \u001b[1;32mTrue\u001b[0m\u001b[1;33m,\u001b[0m \u001b[1;32mFalse\u001b[0m\u001b[1;33m)\u001b[0m\u001b[1;33m.\u001b[0m\u001b[0mgetInfo\u001b[0m\u001b[1;33m(\u001b[0m\u001b[1;33m)\u001b[0m\u001b[1;33m\u001b[0m\u001b[1;33m\u001b[0m\u001b[0m\n\u001b[0m\u001b[0;32m     20\u001b[0m \u001b[1;33m\u001b[0m\u001b[0m\n\u001b[0;32m     21\u001b[0m \u001b[1;33m\u001b[0m\u001b[0m\n",
      "\u001b[1;32mC:\\Anaconda3\\envs\\cloud_removal\\lib\\site-packages\\ee\\computedobject.py\u001b[0m in \u001b[0;36mgetInfo\u001b[1;34m(self)\u001b[0m\n\u001b[0;32m     93\u001b[0m       \u001b[0mThe\u001b[0m \u001b[0mobject\u001b[0m \u001b[0mcan\u001b[0m \u001b[0mevaluate\u001b[0m \u001b[0mto\u001b[0m \u001b[0manything\u001b[0m\u001b[1;33m.\u001b[0m\u001b[1;33m\u001b[0m\u001b[1;33m\u001b[0m\u001b[0m\n\u001b[0;32m     94\u001b[0m     \"\"\"\n\u001b[1;32m---> 95\u001b[1;33m     \u001b[1;32mreturn\u001b[0m \u001b[0mdata\u001b[0m\u001b[1;33m.\u001b[0m\u001b[0mcomputeValue\u001b[0m\u001b[1;33m(\u001b[0m\u001b[0mself\u001b[0m\u001b[1;33m)\u001b[0m\u001b[1;33m\u001b[0m\u001b[1;33m\u001b[0m\u001b[0m\n\u001b[0m\u001b[0;32m     96\u001b[0m \u001b[1;33m\u001b[0m\u001b[0m\n\u001b[0;32m     97\u001b[0m   \u001b[1;32mdef\u001b[0m \u001b[0mencode\u001b[0m\u001b[1;33m(\u001b[0m\u001b[0mself\u001b[0m\u001b[1;33m,\u001b[0m \u001b[0mencoder\u001b[0m\u001b[1;33m)\u001b[0m\u001b[1;33m:\u001b[0m\u001b[1;33m\u001b[0m\u001b[1;33m\u001b[0m\u001b[0m\n",
      "\u001b[1;32mC:\\Anaconda3\\envs\\cloud_removal\\lib\\site-packages\\ee\\data.py\u001b[0m in \u001b[0;36mcomputeValue\u001b[1;34m(obj)\u001b[0m\n\u001b[0;32m    704\u001b[0m   \"\"\"\n\u001b[0;32m    705\u001b[0m   \u001b[1;32mif\u001b[0m \u001b[0m_use_cloud_api\u001b[0m\u001b[1;33m:\u001b[0m\u001b[1;33m\u001b[0m\u001b[1;33m\u001b[0m\u001b[0m\n\u001b[1;32m--> 706\u001b[1;33m     return _execute_cloud_call(\n\u001b[0m\u001b[0;32m    707\u001b[0m         _get_cloud_api_resource().projects().value().compute(\n\u001b[0;32m    708\u001b[0m             \u001b[0mbody\u001b[0m\u001b[1;33m=\u001b[0m\u001b[1;33m{\u001b[0m\u001b[1;34m'expression'\u001b[0m\u001b[1;33m:\u001b[0m \u001b[0mserializer\u001b[0m\u001b[1;33m.\u001b[0m\u001b[0mencode\u001b[0m\u001b[1;33m(\u001b[0m\u001b[0mobj\u001b[0m\u001b[1;33m,\u001b[0m \u001b[0mfor_cloud_api\u001b[0m\u001b[1;33m=\u001b[0m\u001b[1;32mTrue\u001b[0m\u001b[1;33m)\u001b[0m\u001b[1;33m}\u001b[0m\u001b[1;33m,\u001b[0m\u001b[1;33m\u001b[0m\u001b[1;33m\u001b[0m\u001b[0m\n",
      "\u001b[1;32mC:\\Anaconda3\\envs\\cloud_removal\\lib\\site-packages\\ee\\data.py\u001b[0m in \u001b[0;36m_execute_cloud_call\u001b[1;34m(call, num_retries)\u001b[0m\n\u001b[0;32m    345\u001b[0m     \u001b[1;32mreturn\u001b[0m \u001b[0mcall\u001b[0m\u001b[1;33m.\u001b[0m\u001b[0mexecute\u001b[0m\u001b[1;33m(\u001b[0m\u001b[0mnum_retries\u001b[0m\u001b[1;33m=\u001b[0m\u001b[0mnum_retries\u001b[0m\u001b[1;33m)\u001b[0m\u001b[1;33m\u001b[0m\u001b[1;33m\u001b[0m\u001b[0m\n\u001b[0;32m    346\u001b[0m   \u001b[1;32mexcept\u001b[0m \u001b[0mgoogleapiclient\u001b[0m\u001b[1;33m.\u001b[0m\u001b[0merrors\u001b[0m\u001b[1;33m.\u001b[0m\u001b[0mHttpError\u001b[0m \u001b[1;32mas\u001b[0m \u001b[0me\u001b[0m\u001b[1;33m:\u001b[0m\u001b[1;33m\u001b[0m\u001b[1;33m\u001b[0m\u001b[0m\n\u001b[1;32m--> 347\u001b[1;33m     \u001b[1;32mraise\u001b[0m \u001b[0m_translate_cloud_exception\u001b[0m\u001b[1;33m(\u001b[0m\u001b[0me\u001b[0m\u001b[1;33m)\u001b[0m\u001b[1;33m\u001b[0m\u001b[1;33m\u001b[0m\u001b[0m\n\u001b[0m\u001b[0;32m    348\u001b[0m \u001b[1;33m\u001b[0m\u001b[0m\n\u001b[0;32m    349\u001b[0m \u001b[1;33m\u001b[0m\u001b[0m\n",
      "\u001b[1;31mEEException\u001b[0m: Collection.reduceColumns: Error in map(ID=20191206T094259_20191206T095558_T32NLM):\nReduceRegion.AggregationContainer: Valid tileScales are 1 to 16."
     ]
    },
    {
     "name": "stderr",
     "output_type": "stream",
     "text": [
      "C:\\Anaconda3\\envs\\cloud_removal\\lib\\site-packages\\gevent\\hub.py:158: UserWarning: libuv only supports millisecond timer resolution; all times less will be set to 1 ms\n",
      "  with loop.timer(seconds, ref=ref) as t:\n"
     ]
    }
   ],
   "source": [
    "## trying tile scale 32 ##\n",
    "\n",
    "exports = process_datasource_custom_daterange(\n",
    "    source, sensor, export_folder, fc, date_range_list\n",
    ")"
   ]
  },
  {
   "cell_type": "code",
   "execution_count": 9,
   "metadata": {},
   "outputs": [
    {
     "name": "stdout",
     "output_type": "stream",
     "text": [
      "0\n",
      "1\n",
      "2\n",
      "3\n",
      "4\n",
      "pause\n",
      "5\n",
      "6\n",
      "7\n",
      "8\n",
      "9\n"
     ]
    }
   ],
   "source": [
    "import time\n",
    "\n",
    "\n",
    "for i in range(10):\n",
    "    if i == 5:\n",
    "        print('pause')\n",
    "        time.sleep(5)\n",
    "        \n",
    "    print(i)"
   ]
  },
  {
   "cell_type": "code",
   "execution_count": 10,
   "metadata": {},
   "outputs": [
    {
     "name": "stdout",
     "output_type": "stream",
     "text": [
      "-2.0\n",
      "-2.5\n",
      "-3.3333333333333335\n",
      "-5.0\n",
      "-10.0\n",
      "division by zero\n",
      "10.0\n",
      "5.0\n",
      "3.3333333333333335\n",
      "2.5\n",
      "2.0\n"
     ]
    }
   ],
   "source": [
    "for i in (-5, -4, -3, -2, -1, 0, 1, 2, 3, 4, 5):\n",
    "    try:\n",
    "        a = 10 / i\n",
    "        print(a)\n",
    "    except Exception as e:\n",
    "        print(e)\n",
    "        time.sleep(5)"
   ]
  },
  {
   "cell_type": "code",
   "execution_count": null,
   "metadata": {},
   "outputs": [],
   "source": [
    "def division(top, bot):\n",
    "    return top / bot\n",
    "\n",
    "for i in (-5, -4, -3, -2, -1, 0, 1, 2, 3, 4, 5):\n",
    "    try:\n",
    "        a = division(10, i)\n",
    "        print(a)\n",
    "    except Exception as e:\n",
    "        print(e)\n",
    "        "
   ]
  },
  {
   "cell_type": "code",
   "execution_count": null,
   "metadata": {},
   "outputs": [],
   "source": [
    "## export all bands for the Misha polygons\n",
    "\n",
    "fc,date_range_list,df_labels = import_aois(david__label_path)"
   ]
  }
 ],
 "metadata": {
  "kernelspec": {
   "display_name": "cloud-removal",
   "language": "python",
   "name": "cloud_removal"
  },
  "language_info": {
   "codemirror_mode": {
    "name": "ipython",
    "version": 3
   },
   "file_extension": ".py",
   "mimetype": "text/x-python",
   "name": "python",
   "nbconvert_exporter": "python",
   "pygments_lexer": "ipython3",
   "version": "3.8.5"
  }
 },
 "nbformat": 4,
 "nbformat_minor": 4
}
