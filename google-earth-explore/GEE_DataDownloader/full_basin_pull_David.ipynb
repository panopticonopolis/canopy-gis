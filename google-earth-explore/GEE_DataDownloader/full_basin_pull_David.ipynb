{
 "cells": [
  {
   "cell_type": "code",
   "execution_count": 1,
   "metadata": {},
   "outputs": [
    {
     "name": "stderr",
     "output_type": "stream",
     "text": [
      "C:\\Anaconda3\\envs\\cloud_removal\\lib\\site-packages\\gevent\\hub.py:158: UserWarning: libuv only supports millisecond timer resolution; all times less will be set to 1 ms\n",
      "  with loop.timer(seconds, ref=ref) as t:\n"
     ]
    }
   ],
   "source": [
    "from pandas.tseries.offsets import DateOffset\n",
    "import ee\n",
    "import yaml\n",
    "import time\n",
    "import os\n",
    "import json\n",
    "import pandas as pd\n",
    "from utils import exportImageToGDrive,exportImageToGCS\n",
    "from download_sen12 import *\n",
    "\n",
    "ee.Initialize()"
   ]
  },
  {
   "cell_type": "code",
   "execution_count": 2,
   "metadata": {},
   "outputs": [
    {
     "name": "stdout",
     "output_type": "stream",
     "text": [
      "project-canopy-temp-2\n"
     ]
    },
    {
     "name": "stderr",
     "output_type": "stream",
     "text": [
      "C:\\Users\\David\\canopy\\canopy-gis\\google-earth-explore\\GEE_DataDownloader\\download_sen12.py:364: YAMLLoadWarning: calling yaml.load() without Loader=... is deprecated, as the default Loader is unsafe. Please read https://msg.pyyaml.org/load for full details.\n",
      "  return yaml.load(stream)\n"
     ]
    }
   ],
   "source": [
    "config_dict = load_config('config.yml')\n",
    "source = config_dict['data_list'][0]\n",
    "sensor = config_dict['sensors'][0]\n",
    "# export_folder = config_dict['drive_folder']\n",
    "export_folder = config_dict['bucket']\n",
    "\n",
    "print(export_folder)"
   ]
  },
  {
   "cell_type": "code",
   "execution_count": 3,
   "metadata": {},
   "outputs": [
    {
     "data": {
      "text/plain": [
       "Timestamp('2020-01-01 00:00:00')"
      ]
     },
     "execution_count": 3,
     "metadata": {},
     "output_type": "execute_result"
    }
   ],
   "source": [
    "start = pd.to_datetime('01-01-2020')\n",
    "\n",
    "start"
   ]
  },
  {
   "cell_type": "code",
   "execution_count": 8,
   "metadata": {},
   "outputs": [],
   "source": [
    "def import_aois(csv_loc, Full_Congo_Pull=False, start_date=None,\n",
    "                end_date=None, days_duration=90, poly_start=0, poly_limit=None):\n",
    "    features = []\n",
    "    polygons = []\n",
    "    day_offset = days_duration / 2\n",
    "    start_end_list = []\n",
    "    \n",
    "    if Full_Congo_Pull:\n",
    "        with open(csv_loc,\"r\",encoding='utf-8') as jsonfile:\n",
    "            data = json.load(jsonfile)\n",
    "            for geometry in data[\"features\"]:\n",
    "                polygon = geometry[\"geometry\"][\"coordinates\"][0][0]\n",
    "                poly_obj = ee.Geometry.Polygon(polygon)\n",
    "                feature = ee.Feature(poly_obj)\n",
    "                features.append(feature)\n",
    "                \n",
    "            original_date = pd.to_datetime('01-01-2020')\n",
    "            start = (original_date + DateOffset(days=-30))\n",
    "            end = (original_date + DateOffset(days=30))\n",
    "            start_date = str(start)[:10]\n",
    "            end_date = str(end)[:10]\n",
    "            date_dict = {\n",
    "                'start_date': start_date,\n",
    "                'end_date': end_date,\n",
    "                'original_date': original_date,\n",
    "                'day_offset': 30,\n",
    "                'area': 1\n",
    "            }\n",
    "            \n",
    "            start_end_list = [date_dict] * len(features)\n",
    "            \n",
    "            return ee.FeatureCollection(features), start_end_list\n",
    "            \n",
    "    else:\n",
    "        feature_id = poly_start\n",
    "        \n",
    "        if poly_limit:\n",
    "            df_labels = pd.read_csv(csv_loc, skiprows=range(1, poly_start+1), nrows=poly_limit)\n",
    "        else:\n",
    "            df_labels = pd.read_csv(csv_loc, skiprows=range(1, poly_start+1))\n",
    "\n",
    "        df_labels = df_labels[[\"center-lat\",\"center-long\",\"polygon\",\"Labels combined\",\"tile date\",\"area (km2)\"]]\n",
    "        df_labels[\"tile date\"] = pd.to_datetime(df_labels[\"tile date\"])\n",
    "        start = (df_labels[\"tile date\"] + DateOffset(days=-day_offset))\n",
    "        end = (df_labels[\"tile date\"] + DateOffset(days=day_offset))\n",
    "        for i in range(len(start)):\n",
    "            start_date = str(start[i])[:10]\n",
    "            end_date = str(end[i])[:10]\n",
    "            original_date = df_labels.loc[i, 'tile date']\n",
    "            area = df_labels.loc[i, 'area (km2)']\n",
    "            date_dict = {\n",
    "                'start_date': start_date,\n",
    "                'end_date': end_date,\n",
    "                'original_date': original_date,\n",
    "                'day_offset': day_offset,\n",
    "                'area': area\n",
    "            }\n",
    "            start_end_list.append(date_dict)\n",
    "\n",
    "        for polygon in df_labels[\"polygon\"]:\n",
    "            polygons.append(json.loads(polygon)[\"coordinates\"])\n",
    "            \n",
    "        for poly in polygons:\n",
    "            # create an roi. first item in Misha's label list\n",
    "            feature_id += 1 \n",
    "            # create geometry object, create feature object, append to features list for feature collection creation \n",
    "            polys = ee.Geometry.Polygon(poly)\n",
    "            feature = ee.Feature(polys,{\"name\":feature_id})\n",
    "            features.append(feature)\n",
    "            \n",
    "        return ee.FeatureCollection(features),start_end_list,df_labels\n",
    "\n",
    "\n",
    "# ### CHANGE BELOW PATH ###\n",
    "zhenya_label_path = \"/Volumes/Lacie/zhenyadata/Project_Canopy_Data/PC_Data/Sentinel_Data/Labelled/Tiles_v3/Polygon_List/polygons_101320.csv\"\n",
    "david__label_path = 'D:/canopy_data/csvs/polygons_101320.csv'\n",
    "zhenya_tilelist_path = \"/Volumes/Lacie/zhenyadata/Project_Canopy_Data/PC_Data/Geometry/tile_lists/shub_tile_list/tiles_polygons_full.csv\"\n",
    "david_grid_path = 'D:/canopy_data/Geometry/Congo_Basin_Shapefile_Grid_v1.geojson'"
   ]
  },
  {
   "cell_type": "code",
   "execution_count": 10,
   "metadata": {},
   "outputs": [],
   "source": [
    "fc,date_range_list = import_aois(david_grid_path, Full_Congo_Pull=True)"
   ]
  },
  {
   "cell_type": "code",
   "execution_count": 11,
   "metadata": {},
   "outputs": [
    {
     "data": {
      "text/plain": [
       "[{'start_date': '2019-12-02',\n",
       "  'end_date': '2020-01-31',\n",
       "  'original_date': Timestamp('2020-01-01 00:00:00'),\n",
       "  'day_offset': 30,\n",
       "  'area': 1},\n",
       " {'start_date': '2019-12-02',\n",
       "  'end_date': '2020-01-31',\n",
       "  'original_date': Timestamp('2020-01-01 00:00:00'),\n",
       "  'day_offset': 30,\n",
       "  'area': 1},\n",
       " {'start_date': '2019-12-02',\n",
       "  'end_date': '2020-01-31',\n",
       "  'original_date': Timestamp('2020-01-01 00:00:00'),\n",
       "  'day_offset': 30,\n",
       "  'area': 1},\n",
       " {'start_date': '2019-12-02',\n",
       "  'end_date': '2020-01-31',\n",
       "  'original_date': Timestamp('2020-01-01 00:00:00'),\n",
       "  'day_offset': 30,\n",
       "  'area': 1},\n",
       " {'start_date': '2019-12-02',\n",
       "  'end_date': '2020-01-31',\n",
       "  'original_date': Timestamp('2020-01-01 00:00:00'),\n",
       "  'day_offset': 30,\n",
       "  'area': 1}]"
      ]
     },
     "execution_count": 11,
     "metadata": {},
     "output_type": "execute_result"
    }
   ],
   "source": [
    "date_range_list[0:5]"
   ]
  },
  {
   "cell_type": "code",
   "execution_count": 12,
   "metadata": {},
   "outputs": [
    {
     "data": {
      "text/plain": [
       "<ee.featurecollection.FeatureCollection at 0x1bfff0a9df0>"
      ]
     },
     "execution_count": 12,
     "metadata": {},
     "output_type": "execute_result"
    }
   ],
   "source": [
    "fc"
   ]
  },
  {
   "cell_type": "code",
   "execution_count": 13,
   "metadata": {},
   "outputs": [
    {
     "data": {
      "text/plain": [
       "{'type': 'Feature',\n",
       " 'geometry': {'type': 'Polygon',\n",
       "  'coordinates': [[[7.774437227891959, 5.590436336],\n",
       "    [7.789316305, 5.590436336],\n",
       "    [7.789316305, 5.607344378168228],\n",
       "    [7.774437227891959, 5.590436336]]]},\n",
       " 'id': '0',\n",
       " 'properties': {}}"
      ]
     },
     "execution_count": 13,
     "metadata": {},
     "output_type": "execute_result"
    }
   ],
   "source": [
    "fc.first().getInfo()"
   ]
  },
  {
   "cell_type": "code",
   "execution_count": null,
   "metadata": {},
   "outputs": [],
   "source": []
  }
 ],
 "metadata": {
  "kernelspec": {
   "display_name": "cloud-removal",
   "language": "python",
   "name": "cloud_removal"
  },
  "language_info": {
   "codemirror_mode": {
    "name": "ipython",
    "version": 3
   },
   "file_extension": ".py",
   "mimetype": "text/x-python",
   "name": "python",
   "nbconvert_exporter": "python",
   "pygments_lexer": "ipython3",
   "version": "3.8.5"
  }
 },
 "nbformat": 4,
 "nbformat_minor": 4
}
