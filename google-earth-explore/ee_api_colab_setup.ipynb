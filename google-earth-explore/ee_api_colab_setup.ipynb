{
  "nbformat": 4,
  "nbformat_minor": 0,
  "metadata": {
    "colab": {
      "name": "ee-api-colab-setup.ipynb",
      "provenance": [],
      "collapsed_sections": [
        "CYfinjFhg0HN",
        "n0N9T44S7pkm"
      ],
      "toc_visible": true,
      "include_colab_link": true
    },
    "kernelspec": {
      "name": "python3",
      "display_name": "Python 3"
    }
  },
  "cells": [
    {
      "cell_type": "markdown",
      "metadata": {
        "id": "view-in-github",
        "colab_type": "text"
      },
      "source": [
        "<a href=\"https://colab.research.google.com/github/panopticonopolis/canopy-gis/blob/exploratory-notebooks/ee_api_colab_setup.ipynb\" target=\"_parent\"><img src=\"https://colab.research.google.com/assets/colab-badge.svg\" alt=\"Open In Colab\"/></a>"
      ]
    },
    {
      "cell_type": "code",
      "metadata": {
        "id": "krsLgVBYZw_A",
        "colab_type": "code",
        "colab": {}
      },
      "source": [
        "#@title Copyright 2019 Google LLC. { display-mode: \"form\" }\n",
        "# Licensed under the Apache License, Version 2.0 (the \"License\");\n",
        "# you may not use this file except in compliance with the License.\n",
        "# You may obtain a copy of the License at\n",
        "#\n",
        "# https://www.apache.org/licenses/LICENSE-2.0\n",
        "#\n",
        "# Unless required by applicable law or agreed to in writing, software\n",
        "# distributed under the License is distributed on an \"AS IS\" BASIS,\n",
        "# WITHOUT WARRANTIES OR CONDITIONS OF ANY KIND, either express or implied.\n",
        "# See the License for the specific language governing permissions and\n",
        "# limitations under the License."
      ],
      "execution_count": 0,
      "outputs": []
    },
    {
      "cell_type": "markdown",
      "metadata": {
        "id": "aV1xZ1CPi3Nw",
        "colab_type": "text"
      },
      "source": [
        "<table class=\"ee-notebook-buttons\" align=\"left\"><td>\n",
        "<a target=\"_blank\"  href=\"http://colab.research.google.com/github/google/earthengine-api/blob/master/python/examples/ipynb/ee-api-colab-setup.ipynb\">\n",
        "    <img src=\"https://www.tensorflow.org/images/colab_logo_32px.png\" /> Run in Google Colab</a>\n",
        "</td><td>\n",
        "<a target=\"_blank\"  href=\"https://github.com/google/earthengine-api/blob/master/python/examples/ipynb/ee-api-colab-setup.ipynb\"><img width=32px src=\"https://www.tensorflow.org/images/GitHub-Mark-32px.png\" /> View source on GitHub</a></td></table>"
      ]
    },
    {
      "cell_type": "markdown",
      "metadata": {
        "id": "LAZiVi13zTE7",
        "colab_type": "text"
      },
      "source": [
        "# Earth Engine Python API Colab Setup\n",
        "\n",
        "This notebook demonstrates how to setup the Earth Engine Python API in Colab and provides several examples of how to print and visualize Earth Engine processed data.\n",
        "\n",
        "## Import API and get credentials\n",
        "\n",
        "The Earth Engine API is installed by default in Google Colaboratory so requires only importing and authenticating. These steps must be completed for each new Colab session, if you restart your Colab kernel, or if your Colab virtual machine is recycled due to inactivity.\n",
        "\n",
        "### Import the API\n",
        "\n",
        "Run the following cell to import the API into your session."
      ]
    },
    {
      "cell_type": "code",
      "metadata": {
        "id": "65RChERMzQHZ",
        "colab_type": "code",
        "colab": {}
      },
      "source": [
        "import ee"
      ],
      "execution_count": 0,
      "outputs": []
    },
    {
      "cell_type": "markdown",
      "metadata": {
        "id": "s-dN42MTzg-w",
        "colab_type": "text"
      },
      "source": [
        "### Authenticate and initialize\n",
        "\n",
        "Run the `ee.Authenticate` function to authenticate your access to Earth Engine servers and `ee.Initialize` to initialize it. Upon running the following cell you'll be asked to grant Earth Engine access to your Google account. Follow the instructions printed to the cell."
      ]
    },
    {
      "cell_type": "code",
      "metadata": {
        "id": "NMp9Ei9b0XXL",
        "colab_type": "code",
        "outputId": "41dc5cd3-11c0-4968-bb58-95384a71637f",
        "colab": {
          "base_uri": "https://localhost:8080/",
          "height": 173
        }
      },
      "source": [
        "# Trigger the authentication flow.\n",
        "ee.Authenticate()\n",
        "\n",
        "# Initialize the library.\n",
        "ee.Initialize()"
      ],
      "execution_count": 0,
      "outputs": [
        {
          "output_type": "stream",
          "text": [
            "To authorize access needed by Earth Engine, open the following URL in a web browser and follow the instructions. If the web browser does not start automatically, please manually browse the URL below.\n",
            "\n",
            "    https://accounts.google.com/o/oauth2/auth?client_id=517222506229-vsmmajv00ul0bs7p89v5m89qs8eb9359.apps.googleusercontent.com&scope=https%3A%2F%2Fwww.googleapis.com%2Fauth%2Fearthengine+https%3A%2F%2Fwww.googleapis.com%2Fauth%2Fdevstorage.full_control&redirect_uri=urn%3Aietf%3Awg%3Aoauth%3A2.0%3Aoob&response_type=code&code_challenge=veOQjFcu9wSWPu8s5RifZrAISeguZpjTdoSa_18FgsU&code_challenge_method=S256\n",
            "\n",
            "The authorization workflow will generate a code, which you should paste in the box below. \n",
            "Enter verification code: 4/0AGZbffFhpVoFa3NRDRUSFnLTHzhpkXdUlQG1uZUezaj1mFejFz5wcY\n",
            "\n",
            "Successfully saved authorization token.\n"
          ],
          "name": "stdout"
        }
      ]
    },
    {
      "cell_type": "markdown",
      "metadata": {
        "id": "8I_Fr0L5AFmu",
        "colab_type": "text"
      },
      "source": [
        "### Test the API\n",
        "\n",
        "Test the API by printing the elevation of Mount Everest."
      ]
    },
    {
      "cell_type": "code",
      "metadata": {
        "id": "v7pD6pDOAhOW",
        "colab_type": "code",
        "outputId": "2b12ab3b-f3b6-4cde-bbe2-4b8f2ff4d83d",
        "colab": {
          "base_uri": "https://localhost:8080/",
          "height": 34
        }
      },
      "source": [
        "# Print the elevation of Mount Everest.\n",
        "dem = ee.Image('USGS/SRTMGL1_003')\n",
        "xy = ee.Geometry.Point([86.9250, 27.9881])\n",
        "elev = dem.sample(xy, 30).first().get('elevation').getInfo()\n",
        "print('Mount Everest elevation (m):', elev)"
      ],
      "execution_count": 0,
      "outputs": [
        {
          "output_type": "stream",
          "text": [
            "Mount Everest elevation (m): 8729\n"
          ],
          "name": "stdout"
        }
      ]
    },
    {
      "cell_type": "markdown",
      "metadata": {
        "id": "fDLAqiNWeD6t",
        "colab_type": "text"
      },
      "source": [
        "## Map visualization\n",
        "\n",
        "`ee.Image` objects can be displayed to notebook output cells. The following two\n",
        "examples demonstrate displaying a static image and an interactive map.\n",
        "\n",
        "### Static image\n",
        "\n",
        "The `IPython.display` module contains the `Image` function, which can display\n",
        "the results of a URL representing an image generated from a call to the Earth\n",
        "Engine `getThumbUrl` function. The following cell will display a thumbnail\n",
        "of the global elevation model."
      ]
    },
    {
      "cell_type": "code",
      "metadata": {
        "id": "Fp4rdpy0eGjx",
        "colab_type": "code",
        "outputId": "933038b3-5a89-449a-9a7a-06ca0c7a03a5",
        "colab": {
          "base_uri": "https://localhost:8080/",
          "height": 277
        }
      },
      "source": [
        "# Import the Image function from the IPython.display module. \n",
        "from IPython.display import Image\n",
        "\n",
        "# Display a thumbnail of global elevation.\n",
        "Image(url = dem.updateMask(dem.gt(0))\n",
        "  .getThumbUrl({'min': 0, 'max': 4000, 'dimensions': 512,\n",
        "                'palette': ['006633', 'E5FFCC', '662A00', 'D8D8D8', 'F5F5F5']}))"
      ],
      "execution_count": 0,
      "outputs": [
        {
          "output_type": "execute_result",
          "data": {
            "text/html": [
              "<img src=\"https://earthengine.googleapis.com/v1alpha/projects/earthengine-legacy/thumbnails/ac58af12d5e0be1d7310f2a584b586be-2db54206bd1d11e520477e0beef39f8b:getPixels\"/>"
            ],
            "text/plain": [
              "<IPython.core.display.Image object>"
            ]
          },
          "metadata": {
            "tags": []
          },
          "execution_count": 8
        }
      ]
    },
    {
      "cell_type": "markdown",
      "metadata": {
        "id": "Ljo5dbLkfmVm",
        "colab_type": "text"
      },
      "source": [
        "# Interactive map\n",
        "\n",
        "The [`folium`](https://python-visualization.github.io/folium/)\n",
        "library can be used to display `ee.Image` objects on an interactive\n",
        "[Leaflet](https://leafletjs.com/) map. Folium has no default\n",
        "method for handling tiles from Earth Engine, so one must be defined\n",
        "and added to the `folium.Map` module before use.\n",
        "\n",
        "The following cell provides an example of adding a method for handing Earth Engine\n",
        "tiles and using it to display an elevation model to a Leaflet map."
      ]
    },
    {
      "cell_type": "code",
      "metadata": {
        "id": "VIiyf6azf4mU",
        "colab_type": "code",
        "outputId": "fa968187-b48d-4eec-c74f-f108576ce43c",
        "colab": {
          "base_uri": "https://localhost:8080/",
          "height": 915
        }
      },
      "source": [
        "# Import Google Earth API\n",
        "import ee\n",
        "\n",
        "# Import the Folium library.\n",
        "import folium\n",
        "\n",
        "# Define a method for displaying Earth Engine image tiles to folium map.\n",
        "def add_ee_layer(self,ee_image_object,vis_params, name):\n",
        "  map_id_dict = ee.Image(ee_image_object).getMapId(vis_params)\n",
        "  folium.raster_layers.TileLayer(\n",
        "    tiles = map_id_dict['tile_fetcher'].url_format,\n",
        "    attr = 'Map Data &copy; <a href=\"https://earthengine.google.com/\">Google Earth Engine</a>',\n",
        "    name = name,\n",
        "    overlay = True,\n",
        "    control = True\n",
        "  ).add_to(self)\n",
        "\n",
        "# Add EE drawing method to folium.\n",
        "folium.Map.add_ee_layer = add_ee_layer\n",
        "\n",
        "# Create a folium map object.\n",
        "my_map = folium.Map(location=[20, 0], zoom_start=3, height=500)\n",
        "\n",
        "# Add the elevation model to the map object.\n",
        "gfc2015 = ee.Image('UMD/hansen/global_forest_change_2015')\n",
        "\n",
        "# Cover Layer\n",
        "cover = gfc2015.select('treecover2000')\n",
        "my_map.add_ee_layer(cover.mask(cover),{\n",
        "  'bands': ['treecover2000'],\n",
        "  'max': [100],\n",
        "  'palette': ['000000', '00FF00'],\n",
        "},'treecover2000')\n",
        "\n",
        "# Loss Layer\n",
        "loss = gfc2015.select('loss')\n",
        "my_map.add_ee_layer(loss.mask(loss),{\n",
        "  'bands': ['loss'],\n",
        "  'max' : [1],\n",
        "  'palette' : ['000000', 'ff0000']\n",
        "},'loss')\n",
        "\n",
        "# Add a layer control panel to the map.\n",
        "my_map.add_child(folium.LayerControl())\n",
        "\n",
        "# Display the map.\n",
        "display(my_map)"
      ],
      "execution_count": 0,
      "outputs": [
        {
          "output_type": "display_data",
          "data": {
            "text/html": [
              "<div style=\"width:100%;\"><div style=\"position:relative;width:100%;height:0;padding-bottom:60%;\"><span style=\"color:#565656\">Make this Notebook Trusted to load map: File -> Trust Notebook</span><iframe src=\"about:blank\" style=\"position:absolute;width:100%;height:100%;left:0;top:0;border:none !important;\" data-html=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 onload=\"this.contentDocument.open();this.contentDocument.write(atob(this.getAttribute('data-html')));this.contentDocument.close();\" allowfullscreen webkitallowfullscreen mozallowfullscreen></iframe></div></div>"
            ],
            "text/plain": [
              "<folium.folium.Map at 0x7fb332517208>"
            ]
          },
          "metadata": {
            "tags": []
          }
        }
      ]
    },
    {
      "cell_type": "code",
      "metadata": {
        "id": "0xcsBPold3jk",
        "colab_type": "code",
        "colab": {}
      },
      "source": [
        "# dir(gfc2014.bandNames)\n",
        "# dir(gfc2014.bandNames())\n",
        "# gfc2014.bandNames().getInfo()\n",
        "# gfc2014.getInfo()\n",
        "# dir(gfc2015)"
      ],
      "execution_count": 0,
      "outputs": []
    },
    {
      "cell_type": "code",
      "metadata": {
        "id": "0sW_YIki4ezy",
        "colab_type": "code",
        "outputId": "12060a08-7c3b-4b97-d5fd-78904fe83c8d",
        "colab": {
          "base_uri": "https://localhost:8080/",
          "height": 34
        }
      },
      "source": [
        "#Forest Loss Calculation\n",
        "\n",
        "countries = ee.FeatureCollection('USDOS/LSIB_SIMPLE/2017')\n",
        "congo = countries.filter(ee.Filter.eq('country_na', 'Rep of the Congo'))\n",
        "areaImage = loss.multiply(ee.Image.pixelArea())\n",
        "stats = areaImage.reduceRegion(\n",
        "  reducer =  ee.Reducer.sum(),\n",
        "  geometry = congo,\n",
        "  scale = 30,\n",
        "  maxPixels = 1e9\n",
        ")\n",
        "\n",
        "print(stats.getInfo()['loss'], \"square meters were lost in the Congo\")"
      ],
      "execution_count": 0,
      "outputs": [
        {
          "output_type": "stream",
          "text": [
            "4372575052.802279 square meters were lost in the Congo\n"
          ],
          "name": "stdout"
        }
      ]
    },
    {
      "cell_type": "code",
      "metadata": {
        "id": "vX45UEPr6ZJC",
        "colab_type": "code",
        "colab": {}
      },
      "source": [
        "# Incomplete - apply protected areas filter to congo map\n",
        "\n",
        "protectedAreas1 = ee.FeatureCollection('WCMC/WDPA/current/polygons')\n",
        "protectedAreas2 = protectedAreas1.filter(ee.Filter.And(\n",
        "    ee.Filter.withinDistance(congo.geometry()),\n",
        "    ee.Filter.neq('IUCN_CAT', 'VI'),\n",
        "    ee.Filter.neq('STATUS', 'proposed'),\n",
        "    ee.Filter.lt('STATUS_YR', 2010)\n",
        "  ))\n",
        "\n",
        "protectedAreas3 = protectedAreas2.map\n"
      ],
      "execution_count": 0,
      "outputs": []
    },
    {
      "cell_type": "code",
      "metadata": {
        "id": "iCf6MLICBoOw",
        "colab_type": "code",
        "outputId": "674c3b10-8787-4d7e-d515-1c939bf1202a",
        "colab": {
          "base_uri": "https://localhost:8080/",
          "height": 323
        }
      },
      "source": [
        "#Calculating Yearly Forest Loss\n",
        "\n",
        "gfc2017 = ee.Image('UMD/hansen/global_forest_change_2017_v1_5');\n",
        "lossImage = gfc2017.select(['loss'])\n",
        "lossAreaImage = lossImage.multiply(ee.Image.pixelArea())\n",
        "lossYear = gfc2017.select(['lossyear'])\n",
        "lossByYear = lossAreaImage.addBands(lossYear).reduceRegion(\n",
        "  reducer = ee.Reducer.sum().group(\n",
        "    groupField = 1\n",
        "    ),\n",
        "  geometry = congo,\n",
        "  scale = 30,\n",
        "  maxPixels = 1e9\n",
        ")\n",
        "lossByYear.getInfo()"
      ],
      "execution_count": 0,
      "outputs": [
        {
          "output_type": "execute_result",
          "data": {
            "text/plain": [
              "{'groups': [{'group': 0, 'sum': 0},\n",
              "  {'group': 1, 'sum': 280373168.4479478},\n",
              "  {'group': 2, 'sum': 251688128.3555463},\n",
              "  {'group': 3, 'sum': 193653060.0667765},\n",
              "  {'group': 4, 'sum': 143850218.5813541},\n",
              "  {'group': 5, 'sum': 195976032.83386517},\n",
              "  {'group': 6, 'sum': 231269405.8178827},\n",
              "  {'group': 7, 'sum': 309097877.63920635},\n",
              "  {'group': 8, 'sum': 190733953.9074355},\n",
              "  {'group': 9, 'sum': 209507998.55387968},\n",
              "  {'group': 10, 'sum': 480694906.8610759},\n",
              "  {'group': 11, 'sum': 304298212.2954262},\n",
              "  {'group': 12, 'sum': 348036295.36106145},\n",
              "  {'group': 13, 'sum': 606121631.766628},\n",
              "  {'group': 14, 'sum': 782849566.0446225},\n",
              "  {'group': 15, 'sum': 506347561.1899577},\n",
              "  {'group': 16, 'sum': 1164180357.9871354},\n",
              "  {'group': 17, 'sum': 664240226.0267346}]}"
            ]
          },
          "metadata": {
            "tags": []
          },
          "execution_count": 152
        }
      ]
    },
    {
      "cell_type": "code",
      "metadata": {
        "id": "BTQzk5yYD-ZU",
        "colab_type": "code",
        "outputId": "72a3a42d-283d-4d61-9f3b-030773e5edc6",
        "colab": {
          "base_uri": "https://localhost:8080/",
          "height": 734
        }
      },
      "source": [
        "gfc2017.select(['loss']).getInfo()"
      ],
      "execution_count": 0,
      "outputs": [
        {
          "output_type": "execute_result",
          "data": {
            "text/plain": [
              "{'bands': [{'crs': 'EPSG:4326',\n",
              "   'crs_transform': [0.00025, 0, -180, 0, -0.00025, 80],\n",
              "   'data_type': {'max': 255,\n",
              "    'min': 0,\n",
              "    'precision': 'int',\n",
              "    'type': 'PixelType'},\n",
              "   'dimensions': [1440000, 560000],\n",
              "   'id': 'loss'}],\n",
              " 'id': 'UMD/hansen/global_forest_change_2017_v1_5',\n",
              " 'properties': {'date_range': [946684800000, 1514764800000],\n",
              "  'description': '<p>Results from time-series analysis of Landsat images in characterizing\\nglobal forest extent and change.</p><p>The &#39;first&#39; and &#39;last&#39; bands are reference multispectral imagery from the\\nfirst and last available years for Landsat spectral bands 3, 4, 5, and 7.\\nReference composite imagery represents median observations from a set of\\nquality-assessed growing-season observations for each of these bands.</p><p>Please see the <a href=\"http://earthenginepartners.appspot.com/science-2013-global-forest/download_v1.5.html\">User Notes</a>\\nfor this Version 1.5 update, as well as the associated journal article:\\nHansen, Potapov, Moore, Hancher et al. “High-resolution global maps of\\n21st-century forest cover change.” Science 342.6160 (2013): 850-853.</p><p>Note that updated versions of this data are available. The newest version,\\nVersion 1.6 (produced with data through 2018), is available as\\nUMD/hansen/global_forest_change_2018_v1_6.</p><p><b>Resolution</b><br>1 arc second\\n</p><p><b>Bands</b><table class=\"eecat\"><tr><th scope=\"col\">Name</th><th scope=\"col\">Units</th><th scope=\"col\">Min</th><th scope=\"col\">Max</th><th scope=\"col\">Wavelength</th><th scope=\"col\">Description</th></tr><tr><td>treecover2000</td><td>%</td><td>\\n          0\\n</td><td>\\n          100\\n</td><td></td><td><p>Tree canopy cover for year 2000, defined as canopy closure for all\\nvegetation taller than 5m in height.</p></td></tr><tr><td>loss</td><td></td><td></td><td></td><td></td><td><p>Forest loss during the study period, defined as a stand-replacement\\ndisturbance (a change from a forest to non-forest state).</p></td></tr><tr><td colspan=100>\\n      Bitmask for loss\\n<ul><li>\\n          Bit 0: Forest loss during the study period.\\n<ul><li>0: Not loss</li><li>1: Loss</li></ul></li></ul></td></tr><tr><td>gain</td><td></td><td></td><td></td><td></td><td><p>Forest gain during the period 2000–2012, defined as the inverse of\\nloss (a non-forest to forest change entirely within the study\\nperiod). Note that this has not been updated in subsequent versions.</p></td></tr><tr><td colspan=100>\\n      Bitmask for gain\\n<ul><li>\\n          Bit 0: Forest gain during the period 2000–2012.\\n<ul><li>0: No gain</li><li>1: Gain</li></ul></li></ul></td></tr><tr><td>first_b30</td><td></td><td></td><td></td><td>0.63-0.69μm</td><td><p>Landsat 7 band 3 (red) cloud-free image composite. Reference\\nmultispectral imagery from the first available year, typically 2000.</p></td></tr><tr><td>first_b40</td><td></td><td></td><td></td><td>0.77-0.90μm</td><td><p>Landsat 7 band 4 (NIR) cloud-free image composite. Reference\\nmultispectral imagery from the first available year, typically 2000.</p></td></tr><tr><td>first_b50</td><td></td><td></td><td></td><td>1.55-1.75μm</td><td><p>Landsat 7 band 5 (SWIR) cloud-free image composite. Reference\\nmultispectral imagery from the first available year, typically 2000.</p></td></tr><tr><td>first_b70</td><td></td><td></td><td></td><td>2.09-2.35μm</td><td><p>Landsat 7 band 7 (SWIR) cloud-free image composite. Reference\\nmultispectral imagery from the first available year, typically 2000.</p></td></tr><tr><td>last_b30</td><td></td><td></td><td></td><td>0.63-0.69μm</td><td><p>Landsat 7 band 3 (red) cloud-free image composite. Reference\\nmultispectral imagery from the last available year, typically the last\\nyear of the study period.</p></td></tr><tr><td>last_b40</td><td></td><td></td><td></td><td>0.77-0.90μm</td><td><p>Landsat 7 band 4 (NIR) cloud-free image composite. Reference\\nmultispectral imagery from the last available year, typically the last\\nyear of the study period.</p></td></tr><tr><td>last_b50</td><td></td><td></td><td></td><td>1.55-1.75μm</td><td><p>Landsat 7 band 5 (SWIR) cloud-free image composite. Reference\\nmultispectral imagery from the last available year, typically the last\\nyear of the study period.</p></td></tr><tr><td>last_b70</td><td></td><td></td><td></td><td>2.09-2.35μm</td><td><p>Landsat 7 band 7 (SWIR) cloud-free image composite. Reference\\nmultispectral imagery from the last available year, typically the last\\nyear of the study period.</p></td></tr><tr><td>datamask</td><td></td><td></td><td></td><td></td><td><p>Three values representing areas of no data, mapped land surface, and permanent water bodies.</p></td></tr><tr><td colspan=100>\\n      Bitmask for datamask\\n<ul><li>\\n          Bits 0-1: Three values representing areas of no data, mapped land surface, and permanent water bodies.\\n<ul><li>0: No data</li><li>1: Mapped land surface</li><li>2: Permanent water bodies</li></ul></li></ul></td></tr><tr><td>lossyear</td><td></td><td>\\n          0\\n</td><td>\\n          17\\n</td><td></td><td><p>Year of gross forest cover loss event. Forest loss during the study\\nperiod, defined as a stand-replacement disturbance, or a change from a\\nforest to non-forest state. Encoded as either 0 (no loss) or else a value\\nin the range 1–17, representing loss detected primarily in the year\\n2001–2017, respectively.</p></td></tr></table><p><b>Terms of Use</b><br><p>This work is licensed under a Creative Commons Attribution 4.0 International\\nLicense.</p><p><b>Suggested citation(s)</b><ul><li><p>Hansen, M. C., P. V. Potapov, R. Moore, M. Hancher, S. A. Turubanova, A.\\nTyukavina, D. Thau, S. V. Stehman, S. J. Goetz, T. R. Loveland, A.\\nKommareddy, A. Egorov, L. Chini, C. O. Justice, and J. R. G. Townshend.\\n2013. “High-Resolution Global Maps of 21st-Century Forest Cover Change.”\\nScience 342 (15 November): 850–53. Data available on-line at:\\n<a href=\"http://earthenginepartners.appspot.com/science-2013-global-forest\">http://earthenginepartners.appspot.com/science-2013-global-forest</a>.</p></li></ul><style>\\n  table.eecat {\\n  border: 1px solid black;\\n  border-collapse: collapse;\\n  font-size: 13px;\\n  }\\n  table.eecat td, tr, th {\\n  text-align: left; vertical-align: top;\\n  border: 1px solid gray; padding: 3px;\\n  }\\n  td.nobreak { white-space: nowrap; }\\n</style>',\n",
              "  'period': 0,\n",
              "  'product_tags': ['forest', 'geophysical'],\n",
              "  'provider': 'Hansen/UMD/Google/USGS/NASA',\n",
              "  'provider_url': 'http://earthenginepartners.appspot.com/science-2013-global-forest',\n",
              "  'sample': 'https://mw1.google.com/ges/dd/images/UMD_hansen_sample.png',\n",
              "  'source_tags': ['landsat_derived', 'umd', 'hansen'],\n",
              "  'superseded_by': 'UMD/hansen/global_forest_change_2018_v1_6',\n",
              "  'system:asset_size': 1346065949249,\n",
              "  'system:footprint': {'coordinates': [[-180, -90],\n",
              "    [180, -90],\n",
              "    [180, 90],\n",
              "    [-180, 90],\n",
              "    [-180, -90]],\n",
              "   'type': 'LinearRing'},\n",
              "  'system:visualization_0_bands': 'treecover2000',\n",
              "  'system:visualization_0_max': '100.0',\n",
              "  'system:visualization_0_min': '0.0',\n",
              "  'system:visualization_0_name': 'Tree Canopy Cover',\n",
              "  'system:visualization_0_palette': '3d3d3d,080a02,080a02,080a02,106e12,37a930,03ff17',\n",
              "  'tags': ['landsat_derived', 'umd', 'hansen', 'forest', 'geophysical'],\n",
              "  'thumb': 'https://mw1.google.com/ges/dd/images/UMD_hansen_thumb.png',\n",
              "  'title': 'Hansen Global Forest Change v1.5 (2000-2017)',\n",
              "  'type_name': 'Image',\n",
              "  'visualization_0_bands': 'treecover2000',\n",
              "  'visualization_0_max': '100.0',\n",
              "  'visualization_0_min': '0.0',\n",
              "  'visualization_0_name': 'Tree Canopy Cover',\n",
              "  'visualization_0_palette': '3d3d3d,080a02,080a02,080a02,106e12,37a930,03ff17'},\n",
              " 'type': 'Image',\n",
              " 'version': 1571719708781295}"
            ]
          },
          "metadata": {
            "tags": []
          },
          "execution_count": 156
        }
      ]
    },
    {
      "cell_type": "markdown",
      "metadata": {
        "id": "CYfinjFhg0HN",
        "colab_type": "text"
      },
      "source": [
        "## Chart visualization\n",
        "\n",
        "Some Earth Engine functions produce tabular data that can be plotted by\n",
        "data visualization packages such as `matplotlib`. The following example\n",
        "demonstrates the display of tabular data from Earth Engine as a scatter\n",
        "plot. See [Charting in Colaboratory](https://colab.sandbox.google.com/notebooks/charts.ipynb)\n",
        "for more information."
      ]
    },
    {
      "cell_type": "code",
      "metadata": {
        "id": "2h4PTt5M6csE",
        "colab_type": "code",
        "outputId": "999542da-4bdf-4191-f1ed-cfb8faa4bf37",
        "colab": {
          "base_uri": "https://localhost:8080/",
          "height": 34
        }
      },
      "source": [
        "gfc2014"
      ],
      "execution_count": 0,
      "outputs": [
        {
          "output_type": "execute_result",
          "data": {
            "text/plain": [
              "<ee.image.Image at 0x7f357c44c860>"
            ]
          },
          "metadata": {
            "tags": []
          },
          "execution_count": 10
        }
      ]
    },
    {
      "cell_type": "code",
      "metadata": {
        "id": "tRPULejJhBSl",
        "colab_type": "code",
        "outputId": "67c0aa41-d9ba-4437-a195-1f6652de9b6c",
        "colab": {
          "base_uri": "https://localhost:8080/",
          "height": 284
        }
      },
      "source": [
        "# Import the matplotlib.pyplot module.\n",
        "import matplotlib.pyplot as plt\n",
        "\n",
        "# Fetch a Landsat image.\n",
        "img = ee.Image('LANDSAT/LT05/C01/T1_SR/LT05_034033_20000913')\n",
        "\n",
        "# Select Red and NIR bands, scale them, and sample 500 points.\n",
        "samp_fc = img.select(['B3','B4']).divide(10000).sample(scale=30, numPixels=500)\n",
        "\n",
        "# Arrange the sample as a list of lists.\n",
        "samp_dict = samp_fc.reduceColumns(ee.Reducer.toList().repeat(2), ['B3', 'B4'])\n",
        "samp_list = ee.List(samp_dict.get('list'))\n",
        "\n",
        "# Save server-side ee.List as a client-side Python list.\n",
        "samp_data = samp_list.getInfo()\n",
        "\n",
        "# Display a scatter plot of Red-NIR sample pairs using matplotlib.\n",
        "plt.scatter(samp_data[0], samp_data[1], alpha=0.2)\n",
        "plt.xlabel('Red', fontsize=12)\n",
        "plt.ylabel('NIR', fontsize=12)\n",
        "plt.show()"
      ],
      "execution_count": 0,
      "outputs": [
        {
          "output_type": "display_data",
          "data": {
            "image/png": "[encoded data removed]",
            "text/plain": [
              "<Figure size 432x288 with 1 Axes>"
            ]
          },
          "metadata": {
            "tags": [],
            "needs_background": "light"
          }
        }
      ]
    },
    {
      "cell_type": "markdown",
      "metadata": {
        "id": "n0N9T44S7pkm",
        "colab_type": "text"
      },
      "source": [
        "# Custom Layer"
      ]
    },
    {
      "cell_type": "code",
      "metadata": {
        "id": "EwUxcAtN5D15",
        "colab_type": "code",
        "outputId": "bcefe224-b424-41e2-fc2f-44f14b782859",
        "colab": {
          "base_uri": "https://localhost:8080/",
          "height": 612
        }
      },
      "source": [
        "dir(folium.Map.add_tile_layer)"
      ],
      "execution_count": 0,
      "outputs": [
        {
          "output_type": "execute_result",
          "data": {
            "text/plain": [
              "['__annotations__',\n",
              " '__call__',\n",
              " '__class__',\n",
              " '__closure__',\n",
              " '__code__',\n",
              " '__defaults__',\n",
              " '__delattr__',\n",
              " '__dict__',\n",
              " '__dir__',\n",
              " '__doc__',\n",
              " '__eq__',\n",
              " '__format__',\n",
              " '__ge__',\n",
              " '__get__',\n",
              " '__getattribute__',\n",
              " '__globals__',\n",
              " '__gt__',\n",
              " '__hash__',\n",
              " '__init__',\n",
              " '__init_subclass__',\n",
              " '__kwdefaults__',\n",
              " '__le__',\n",
              " '__lt__',\n",
              " '__module__',\n",
              " '__name__',\n",
              " '__ne__',\n",
              " '__new__',\n",
              " '__qualname__',\n",
              " '__reduce__',\n",
              " '__reduce_ex__',\n",
              " '__repr__',\n",
              " '__setattr__',\n",
              " '__sizeof__',\n",
              " '__str__',\n",
              " '__subclasshook__']"
            ]
          },
          "metadata": {
            "tags": []
          },
          "execution_count": 28
        }
      ]
    },
    {
      "cell_type": "code",
      "metadata": {
        "id": "o16k1fYR57yl",
        "colab_type": "code",
        "colab": {}
      },
      "source": [
        ""
      ],
      "execution_count": 0,
      "outputs": []
    }
  ]
}