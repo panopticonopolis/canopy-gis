{
 "cells": [
  {
   "cell_type": "code",
   "execution_count": null,
   "metadata": {},
   "outputs": [],
   "source": [
    "import ee\n",
    "ee.Authenticate()"
   ]
  },
  {
   "cell_type": "code",
   "execution_count": 455,
   "metadata": {},
   "outputs": [],
   "source": [
    "ee.Initialize()"
   ]
  },
  {
   "cell_type": "code",
   "execution_count": 460,
   "metadata": {},
   "outputs": [],
   "source": [
    "hc_img = ee.Image('projects/wri-datalab/HansenComposite_14-15')"
   ]
  },
  {
   "cell_type": "code",
   "execution_count": 473,
   "metadata": {},
   "outputs": [
    {
     "data": {
      "text/html": [
       "<div style=\"width:100%;\"><div style=\"position:relative;width:100%;height:0;padding-bottom:60%;\"><span style=\"color:#565656\">Make this Notebook Trusted to load map: File -> Trust Notebook</span><iframe src=\"about:blank\" style=\"position:absolute;width:100%;height:100%;left:0;top:0;border:none !important;\" data-html=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 onload=\"this.contentDocument.open();this.contentDocument.write(atob(this.getAttribute('data-html')));this.contentDocument.close();\" allowfullscreen webkitallowfullscreen mozallowfullscreen></iframe></div></div>"
      ],
      "text/plain": [
       "<folium.folium.Map at 0x138978710>"
      ]
     },
     "metadata": {},
     "output_type": "display_data"
    }
   ],
   "source": [
    "# Import Google Earth API\n",
    "import ee\n",
    "\n",
    "# Import the Folium library.\n",
    "import folium\n",
    "\n",
    "# Define a method for displaying Earth Engine image tiles to folium map.\n",
    "def add_ee_layer(self,ee_image_object,vis_params, name):\n",
    "  map_id_dict = ee.Image(ee_image_object).getMapId(vis_params)\n",
    "  folium.raster_layers.TileLayer(\n",
    "    tiles = map_id_dict['tile_fetcher'].url_format,\n",
    "    attr = 'Map Data &copy; <a href=\"https://earthengine.google.com/\">Google Earth Engine</a>',\n",
    "    name = name,\n",
    "    overlay = True,\n",
    "    control = True\n",
    "  ).add_to(self)\n",
    "\n",
    "# Add EE drawing method to folium.\n",
    "folium.Map.add_ee_layer = add_ee_layer\n",
    "\n",
    "# Create a folium map object.\n",
    "my_map = folium.Map(location=[20, 0], zoom_start=3, height=500)\n",
    "\n",
    "# Add the elevation model to the map object.\n",
    "gfc2015 = ee.Image('UMD/hansen/global_forest_change_2015')\n",
    "\n",
    "# Cover Layer\n",
    "cover = gfc2015.select('treecover2000')\n",
    "my_map.add_ee_layer(cover.mask(cover),{\n",
    "  'bands': ['treecover2000'],\n",
    "  'max': [100],\n",
    "  'palette': ['000000', '00FF00'],\n",
    "},'treecover2000')\n",
    "\n",
    "# Loss Layer\n",
    "loss = gfc2015.select('loss')\n",
    "my_map.add_ee_layer(loss.mask(loss),{\n",
    "  'bands': ['loss'],\n",
    "  'min' : [1],\n",
    "  'max' : [15],\n",
    "  'palette' : ['red']\n",
    "},'loss')\n",
    "\n",
    "# Add a layer control panel to the map.\n",
    "my_map.add_child(folium.LayerControl())\n",
    "\n",
    "# Display the map.\n",
    "display(my_map)"
   ]
  },
  {
   "cell_type": "code",
   "execution_count": null,
   "metadata": {},
   "outputs": [],
   "source": [
    "\n",
    "boundary = ee.Geometry.Rectangle([116.2621, 39.8412, 116.4849, 40.01236])\n",
    "\n",
    "task_config = {\n",
    "    'fileNamePrefix': 'image',\n",
    "    'crs': 'EPSG:4326',\n",
    "    'scale': 500,\n",
    "    # 'maxPixels': 100000000000000,\n",
    "    'fileFormat': 'GeoTIFF',\n",
    "    'skipEmptyTiles': True,\n",
    "    'region': boundary ,\n",
    "    'folder': 'myfolder'\n",
    "    }\n",
    "\n",
    "image = ee.Image('UMD/hansen/global_forest_change_2015')\n",
    "task = ee.batch.Export.image.toDrive(image, str('image'), **task_config)\n",
    "task.start()"
   ]
  },
  {
   "cell_type": "code",
   "execution_count": 462,
   "metadata": {},
   "outputs": [],
   "source": [
    "# import ee\n",
    "# ee.Initialize()\n",
    "# hc_img=ee.Image('projects/wri-datalab/HansenComposite_14-15')\n",
    "# tc_ic=ee.ImageCollection('projects/wri-datalab/HansenByTreecover')\n",
    "# annual_ic=ee.ImageCollection('projects/wri-datalab/AnnualHansen')\n",
    "# geoms=ee.FeatureCollection('ft:13BvM9v1Rzr90Ykf1bzPgbYvbb8kGSvwyqyDwO8NI')\n",
    "\n",
    "\n",
    "# from time import time\n",
    "\n",
    "# def profile(func=None,N=1,**kwargs):\n",
    "#     start=time()\n",
    "#     print(\"\\n\\tfunction:\",func.__name__)\n",
    "#     prin(\"\\targs:\",kwargs)\n",
    "#     for i in range(N): print(\"\\tresult ({}/{}):\".format(i+1,N),func(**kwargs))\n",
    "#     print (\"\\ttime:\",(time()-start),\"\\n\")\n",
    "\n",
    "\n",
    "\n",
    "# FULL_SCALE=27.829872698318393\n",
    "# REDUCED_SCALE=90\n",
    "# CRS=\"EPSG:4326\"\n",
    "\n",
    "\n",
    "\n",
    "# def getgeom(name):\n",
    "#     return ee.Feature(geoms.filter(ee.Filter.eq('name',name)).first()).geometry()\n",
    "\n",
    "\n",
    "# def count_reducer(img,geom,scale):\n",
    "#     return img.mask(img).reduceRegion(\n",
    "#             reducer=ee.Reducer.count().unweighted(),\n",
    "#             scale=scale,\n",
    "#             crs=CRS,\n",
    "#             geometry=getgeom(geom),\n",
    "#             maxPixels=25000000000\n",
    "#         )\n",
    "\n",
    "\n",
    "# def sum_reducer(img,geom,scale):\n",
    "#     return img.reduceRegion(\n",
    "#             reducer=ee.Reducer.sum().unweighted(),\n",
    "#             scale=scale,\n",
    "#             crs=CRS,\n",
    "#             geometry=getgeom(geom),\n",
    "#             maxPixels=25000000000\n",
    "#         )\n",
    "\n",
    "\n",
    "# #\n",
    "# # MultiYear\n",
    "# #\n",
    "# def hc(threshold=None,ymin=None,ymax=None,geom=None,scale=None,reducer_func=None):\n",
    "#     loss=hc_img.select(['loss_{}'.format(threshold)])\n",
    "#     maskimg=loss.gte(ymin).And(loss.lte(ymax))\n",
    "#     return reducer_func(maskimg,geom,scale).getInfo()\n",
    "\n",
    "\n",
    "# def treecover1(threshold=None,ymin=None,ymax=None,geom=None,scale=None,reducer_func=None):\n",
    "#     loss=ee.Image('projects/wri-datalab/HansenByTreecover/threshold_loss-{}'.format(threshold))\n",
    "#     maskimg=loss.select(map(lambda y: 'loss_{}'.format(y),range(ymin,ymax+1))).reduce(ee.Reducer.max())\n",
    "#     return reducer_func(maskimg,geom,scale).getInfo()\n",
    "\n",
    "\n",
    "# def treecover2(threshold=None,ymin=None,ymax=None,geom=None,scale=None,reducer_func=None):\n",
    "#     loss=ee.Image(tc_ic.filter(ee.Filter.eq('treecover2000',threshold)).max())\n",
    "#     maskimg=loss.select(map(lambda y: 'loss_{}'.format(y),range(ymin,ymax+1))).reduce(ee.Reducer.max())\n",
    "#     return reducer_func(maskimg,geom,scale).getInfo()\n",
    "\n",
    "\n",
    "# def annual(threshold=None,ymin=None,ymax=None,geom=None,scale=None,reducer_func=None):\n",
    "#     loss=annual_ic.select(['loss_{}'.format(threshold)])\n",
    "#     maskimg=ee.Image(loss.filter(ee.Filter.inList('year',ee.List.sequence(ymin,ymax))).reduce(ee.Reducer.max()))\n",
    "#     return reducer_func(maskimg,geom,scale).getInfo()"
   ]
  }
 ],
 "metadata": {
  "kernelspec": {
   "display_name": "canopy-kaggle",
   "language": "python",
   "name": "canopy-kaggle"
  },
  "language_info": {
   "codemirror_mode": {
    "name": "ipython",
    "version": 3
   },
   "file_extension": ".py",
   "mimetype": "text/x-python",
   "name": "python",
   "nbconvert_exporter": "python",
   "pygments_lexer": "ipython3",
   "version": "3.7.5"
  }
 },
 "nbformat": 4,
 "nbformat_minor": 4
}
