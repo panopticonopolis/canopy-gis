{
 "cells": [
  {
   "cell_type": "code",
   "execution_count": 40,
   "metadata": {},
   "outputs": [],
   "source": [
    "new_l = \"\"\n",
    "with open(\"Webinar: Using AI to Tackle Global Environmental Challenges.txt\",\"r\") as f:\n",
    "    for line in f.read().splitlines()[12:]:\n",
    "#         print(line.strip(\"\\\\\").strip(\"cf0\").strip(\"  \").replace('\\r',''))\n",
    "        new_l += line.strip(\"\\\\\").strip(\"cf0\").strip(\"  \") + ' '\n",
    "new_f = open(\"new transcript\",\"w\")\n",
    "new_f.write(new_l)\n",
    "new_f.close()"
   ]
  },
  {
   "cell_type": "code",
   "execution_count": 3,
   "metadata": {},
   "outputs": [],
   "source": [
    "f = 5"
   ]
  },
  {
   "cell_type": "code",
   "execution_count": 4,
   "metadata": {},
   "outputs": [
    {
     "data": {
      "text/plain": [
       "13"
      ]
     },
     "execution_count": 4,
     "metadata": {},
     "output_type": "execute_result"
    }
   ],
   "source": [
    "f + 8"
   ]
  },
  {
   "cell_type": "code",
   "execution_count": null,
   "metadata": {},
   "outputs": [],
   "source": []
  }
 ],
 "metadata": {
  "kernelspec": {
   "display_name": "canopy-kaggle",
   "language": "python",
   "name": "canopy-kaggle"
  },
  "language_info": {
   "codemirror_mode": {
    "name": "ipython",
    "version": 3
   },
   "file_extension": ".py",
   "mimetype": "text/x-python",
   "name": "python",
   "nbconvert_exporter": "python",
   "pygments_lexer": "ipython3",
   "version": "3.7.5"
  }
 },
 "nbformat": 4,
 "nbformat_minor": 4
}
